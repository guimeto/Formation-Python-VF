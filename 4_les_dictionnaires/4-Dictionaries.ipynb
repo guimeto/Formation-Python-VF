{
 "cells": [
  {
   "cell_type": "markdown",
   "metadata": {},
   "source": [
    "<img src=\"./figures/pylogo.png\" alt=\"Indentation\" width=\"50%\" height=\"50%\">\n",
    "\n",
    "\n",
    "# 5  Dictionaries\n",
    "\n",
    "\n",
    "- The dictionary stores (key, value) pairs \n",
    "\n",
    "- They are unordered data structures\n",
    "\n",
    "- Principle: we can link a key to a value\n",
    "\n",
    "- The values of a dictionary can be of any type, but the keys must be of an immutable data type such as strings, numbers, or tuples.\n",
    "\n",
    "- Keys are unique within a dictionary while values may not be.\n",
    "\n",
    "- Each key is separated from its value by a colon (:), the items are separated by commas, and the whole thing is enclosed in curly braces. \n",
    "\n",
    "- An empty dictionary without any items is written with just two curly braces, like this: {}.\n",
    "\n",
    "- Dictionary values have no restrictions. They can be any arbitrary Python object, either standard objects or user-defined objects. However, same is not true for the keys.\n",
    "\n",
    "- Keys must be immutable. Which means you can use strings, numbers or tuples as dictionary keys but something like ['key'] is not allowed. \n",
    "\n",
    "You can find all you need to know about dictionaries in the documentation:\n",
    "https://docs.python.org/2/library/stdtypes.html#dict\n"
   ]
  },
  {
   "cell_type": "markdown",
   "metadata": {},
   "source": [
    "## 5.1 Create a dictionary:\n",
    "\n",
    "In a dictionary, Each key is separated from its value by a colon (:), the items are separated by commas, and the whole thing is enclosed in curly braces like this: {}.\n"
   ]
  },
  {
   "cell_type": "code",
   "execution_count": 1,
   "metadata": {},
   "outputs": [],
   "source": [
    "# exemple : students' note dictionary\n",
    "my_dictionary = {\n",
    "    \"Marie\" : 15,\n",
    "    \"Thomas\" : 12,\n",
    "    \"Julien\" : \"absent\",\n",
    "    \"Elise\" : 9,\n",
    "    \"Samuel\" : 17\n",
    "}"
   ]
  },
  {
   "cell_type": "code",
   "execution_count": 2,
   "metadata": {},
   "outputs": [
    {
     "data": {
      "text/plain": [
       "{'Marie': 15, 'Thomas': 12, 'Julien': 'absent', 'Elise': 9, 'Samuel': 17}"
      ]
     },
     "execution_count": 2,
     "metadata": {},
     "output_type": "execute_result"
    }
   ],
   "source": [
    "my_dictionary  # We have the key : the value "
   ]
  },
  {
   "cell_type": "markdown",
   "metadata": {},
   "source": [
    "## 5.2 Update a dictionary: \n",
    "\n",
    "You can update a dictionary by adding a new entry or a key-value pair, modifying an existing entry, or deleting an existing entry as shown below.\n",
    "\n",
    "- To <b>add</b> key-value pair "
   ]
  },
  {
   "cell_type": "code",
   "execution_count": 3,
   "metadata": {},
   "outputs": [
    {
     "name": "stdout",
     "output_type": "stream",
     "text": [
      "{'Marie': 15, 'Thomas': 12, 'Julien': 'absent', 'Elise': 9, 'Samuel': 17, 'Julie': 9}\n"
     ]
    }
   ],
   "source": [
    "# Adding a key-value pair in a dictionary\n",
    "my_dictionary[\"Julie\"]=9\n",
    "print(my_dictionary)"
   ]
  },
  {
   "cell_type": "markdown",
   "metadata": {},
   "source": [
    "- To <b>change</b> a value using existing key"
   ]
  },
  {
   "cell_type": "code",
   "execution_count": 4,
   "metadata": {},
   "outputs": [
    {
     "name": "stdout",
     "output_type": "stream",
     "text": [
      "{'Marie': 15, 'Thomas': 12, 'Julien': 13, 'Elise': 9, 'Samuel': 17, 'Julie': 9}\n"
     ]
    }
   ],
   "source": [
    "my_dictionary[\"Julien\"]=13\n",
    "print(my_dictionary)"
   ]
  },
  {
   "cell_type": "markdown",
   "metadata": {},
   "source": [
    "More than one entry per key not allowed. Which means no duplicate key is allowed. When duplicate keys encountered during assignment, the last assignment wins."
   ]
  },
  {
   "cell_type": "code",
   "execution_count": 5,
   "metadata": {},
   "outputs": [
    {
     "data": {
      "text/plain": [
       "{'Name': 'Manni', 'Age': 7}"
      ]
     },
     "execution_count": 5,
     "metadata": {},
     "output_type": "execute_result"
    }
   ],
   "source": [
    "dict = {'Name': 'Zara', 'Age': 7, 'Name': 'Manni'}\n",
    "dict"
   ]
  },
  {
   "cell_type": "markdown",
   "metadata": {},
   "source": [
    "- To <b>delete</b> a value using a key\n",
    "\n",
    "You can either remove individual dictionary elements or clear the entire contents of a dictionary. You can also delete entire dictionary in a single operation.\n",
    "\n",
    "To explicitly remove an entire dictionary, just use the del statement. Following is a simple example −\n"
   ]
  },
  {
   "cell_type": "code",
   "execution_count": 6,
   "metadata": {},
   "outputs": [],
   "source": [
    "del my_dictionary[\"Julie\"] # remove entry with key 'Name'\n",
    "my_dictionary.clear()     # remove all entries in my_dictionary\n",
    "del my_dictionary       # delete entire dictionary"
   ]
  },
  {
   "cell_type": "code",
   "execution_count": 7,
   "metadata": {},
   "outputs": [
    {
     "ename": "NameError",
     "evalue": "name 'my_dictionary' is not defined",
     "output_type": "error",
     "traceback": [
      "\u001b[1;31m---------------------------------------------------------------------------\u001b[0m",
      "\u001b[1;31mNameError\u001b[0m                                 Traceback (most recent call last)",
      "\u001b[1;32m<ipython-input-7-04bcd56b6daf>\u001b[0m in \u001b[0;36m<module>\u001b[1;34m\u001b[0m\n\u001b[1;32m----> 1\u001b[1;33m \u001b[0mprint\u001b[0m\u001b[1;33m(\u001b[0m\u001b[0mmy_dictionary\u001b[0m\u001b[1;33m)\u001b[0m\u001b[1;33m\u001b[0m\u001b[1;33m\u001b[0m\u001b[0m\n\u001b[0m",
      "\u001b[1;31mNameError\u001b[0m: name 'my_dictionary' is not defined"
     ]
    }
   ],
   "source": [
    "print(my_dictionary)"
   ]
  },
  {
   "cell_type": "markdown",
   "metadata": {},
   "source": [
    "## 5.3 Access a dictionary: \n",
    "\n",
    "To access dictionary elements, you can use the familiar square brackets along with the key to obtain its value."
   ]
  },
  {
   "cell_type": "code",
   "execution_count": 8,
   "metadata": {},
   "outputs": [],
   "source": [
    "my_dictionary = {\n",
    "    \"Marie\" : 15,\n",
    "    \"Thomas\" : 12,\n",
    "    \"Julien\" : \"absent\",\n",
    "    \"Elise\" : 9,\n",
    "    \"Samuel\" : 17\n",
    "}"
   ]
  },
  {
   "cell_type": "code",
   "execution_count": 9,
   "metadata": {},
   "outputs": [
    {
     "data": {
      "text/plain": [
       "17"
      ]
     },
     "execution_count": 9,
     "metadata": {},
     "output_type": "execute_result"
    }
   ],
   "source": [
    "my_dictionary[\"Samuel\"]   "
   ]
  },
  {
   "cell_type": "markdown",
   "metadata": {},
   "source": [
    "- We can access ditionary elements using <b>FOR</b> loop: \n",
    "    - by value valeur\n",
    "    - by key\n",
    "    - by key-value pair\n"
   ]
  },
  {
   "cell_type": "code",
   "execution_count": 10,
   "metadata": {},
   "outputs": [
    {
     "data": {
      "text/plain": [
       "dict_keys(['Marie', 'Thomas', 'Julien', 'Elise', 'Samuel'])"
      ]
     },
     "execution_count": 10,
     "metadata": {},
     "output_type": "execute_result"
    }
   ],
   "source": [
    "# .keys() method returns list of dictionary dict's keys:\n",
    "my_dictionary.keys()"
   ]
  },
  {
   "cell_type": "code",
   "execution_count": 11,
   "metadata": {},
   "outputs": [
    {
     "data": {
      "text/plain": [
       "dict_values([15, 12, 'absent', 9, 17])"
      ]
     },
     "execution_count": 11,
     "metadata": {},
     "output_type": "execute_result"
    }
   ],
   "source": [
    "# .values() method returns list of dictionary dict's values\n",
    "my_dictionary.values()"
   ]
  },
  {
   "cell_type": "code",
   "execution_count": 12,
   "metadata": {},
   "outputs": [
    {
     "name": "stdout",
     "output_type": "stream",
     "text": [
      "Marie\n",
      "Thomas\n",
      "Julien\n",
      "Elise\n",
      "Samuel\n"
     ]
    }
   ],
   "source": [
    "# Example using for loop and keys dictionary\n",
    "for key in my_dictionary.keys():\n",
    "    print(key)"
   ]
  },
  {
   "cell_type": "code",
   "execution_count": 13,
   "metadata": {},
   "outputs": [
    {
     "name": "stdout",
     "output_type": "stream",
     "text": [
      "15\n",
      "12\n",
      "absent\n",
      "9\n",
      "17\n"
     ]
    }
   ],
   "source": [
    "for value in my_dictionary.values():\n",
    "    print(value)"
   ]
  },
  {
   "cell_type": "code",
   "execution_count": 14,
   "metadata": {},
   "outputs": [
    {
     "data": {
      "text/plain": [
       "dict_items([('Marie', 15), ('Thomas', 12), ('Julien', 'absent'), ('Elise', 9), ('Samuel', 17)])"
      ]
     },
     "execution_count": 14,
     "metadata": {},
     "output_type": "execute_result"
    }
   ],
   "source": [
    "# .items() method returns a list of dict's (key, value) tuple pairs\n",
    "my_dictionary.items()"
   ]
  },
  {
   "cell_type": "code",
   "execution_count": 15,
   "metadata": {},
   "outputs": [
    {
     "name": "stdout",
     "output_type": "stream",
     "text": [
      "The average of Marie is 15 /20\n",
      "The average of Thomas is 12 /20\n",
      "Absent\n",
      "The average of Elise is 9 /20\n",
      "The average of Samuel is 17 /20\n"
     ]
    }
   ],
   "source": [
    "# Example using for loop and key-value pairs in dictionary\n",
    "for key,value in my_dictionary.items(): # la boucle for obtient un tuple à chaque itération\n",
    "    if value == 'absent':\n",
    "        print('Absent')\n",
    "    else:\n",
    "        print('The average of %s is %s /20' % (key, value))"
   ]
  },
  {
   "cell_type": "markdown",
   "metadata": {},
   "source": [
    "## Exercise on dictionaries\n",
    "## Goal: To manipulate a dictionary containing the notes of 15 students. \n",
    "\n",
    "    1- Create a dictionary named notes_levels containing the following notes:\n",
    "    Mary: 15; Samuel: 17; Gaston: 12; Fred: 10; Mae: 5; Julie: 15; Zoe: 7; Claire: 20; Chloe: 8; Julian: 14, Gael: 9, Samia: 15, Omar: 11, Gabriel: 16, Manon: 2\n",
    "\n",
    "    2- What is the average of the class?\n",
    "\n",
    "    3- Display the total number of students in the class.\n",
    "\n",
    "    4- How many students have a grade strictly above average?\n",
    "\n",
    "    5- What is the name of the best student in the class?\n",
    "\n",
    "    6- How many students have a first name with strictly less than 4 letters?\n",
    "\n",
    "    7- Show the first name of the pupils who have an even note (multiple of 2).! "
   ]
  },
  {
   "cell_type": "code",
   "execution_count": null,
   "metadata": {},
   "outputs": [],
   "source": []
  },
  {
   "cell_type": "code",
   "execution_count": null,
   "metadata": {},
   "outputs": [],
   "source": []
  },
  {
   "cell_type": "markdown",
   "metadata": {},
   "source": [
    "### Corrigé de l'exercice: \n",
    "\n",
    "- 1: Créer un dictionnaire"
   ]
  },
  {
   "cell_type": "code",
   "execution_count": 16,
   "metadata": {},
   "outputs": [],
   "source": [
    "notes_eleves={\n",
    "    \"Marie\" : 15,\n",
    "    \"Samuel\" : 17,\n",
    "    \"Gaston\" : 12,\n",
    "    \"Fred\" : 10,\n",
    "    \"Mae\" : 5,\n",
    "    \"Julie\" : 15,\n",
    "    \"Zoe\" : 7,\n",
    "    \"Claire\" : 20,\n",
    "    \"Chloe\" : 8,\n",
    "    \"Julien\" : 14,\n",
    "    \"Gaël\" : 9,\n",
    "    \"Samia\" : 15,\n",
    "    \"Omar\" : 11,\n",
    "    \"Gabriel\" : 16,\n",
    "    \"Manon\" : 2\n",
    "}"
   ]
  },
  {
   "cell_type": "markdown",
   "metadata": {
    "collapsed": true
   },
   "source": [
    "- 2: Quelle est la moyenne générale de la classe "
   ]
  },
  {
   "cell_type": "code",
   "execution_count": 17,
   "metadata": {},
   "outputs": [
    {
     "data": {
      "text/plain": [
       "dict_values([15, 17, 12, 10, 5, 15, 7, 20, 8, 14, 9, 15, 11, 16, 2])"
      ]
     },
     "execution_count": 17,
     "metadata": {},
     "output_type": "execute_result"
    }
   ],
   "source": [
    "notes_eleves.values()"
   ]
  },
  {
   "cell_type": "code",
   "execution_count": 18,
   "metadata": {},
   "outputs": [],
   "source": [
    "# on utilise la librairie mathématique numpy  \n",
    "# mais numpy ne peut pas travailler avec un dictionnaire \n",
    "# on doit convertir la structure en list()\n",
    "\n",
    "import numpy  # on charge la librairie mathématique \n",
    "moyenne_generale=numpy.mean(list(notes_eleves.values()))  # On utilise la fonction mean() de numpy sur notre list"
   ]
  },
  {
   "cell_type": "code",
   "execution_count": 19,
   "metadata": {},
   "outputs": [
    {
     "data": {
      "text/plain": [
       "11.733333333333333"
      ]
     },
     "execution_count": 19,
     "metadata": {},
     "output_type": "execute_result"
    }
   ],
   "source": [
    "moyenne_generale"
   ]
  },
  {
   "cell_type": "markdown",
   "metadata": {},
   "source": [
    "- 3: Afficher le nombre total d'élèves dans la classe"
   ]
  },
  {
   "cell_type": "code",
   "execution_count": 20,
   "metadata": {},
   "outputs": [
    {
     "name": "stdout",
     "output_type": "stream",
     "text": [
      "Le nombre d'élèves dans la classe est de 15\n"
     ]
    }
   ],
   "source": [
    "nombre_eleves=len(notes_eleves)\n",
    "print(\"Le nombre d'élèves dans la classe est de %d\" % (nombre_eleves))"
   ]
  },
  {
   "cell_type": "code",
   "execution_count": 21,
   "metadata": {},
   "outputs": [
    {
     "data": {
      "text/plain": [
       "15"
      ]
     },
     "execution_count": 21,
     "metadata": {},
     "output_type": "execute_result"
    }
   ],
   "source": [
    "len(notes_eleves.keys())  "
   ]
  },
  {
   "cell_type": "markdown",
   "metadata": {},
   "source": [
    "- 4: Combien d'élèves ont une note strictement supérieure à la moyenne de la classe ?\n",
    "\n",
    "Une solution ici est de parcourir notre dictionnaire avec une boucle et incrémenter notre compteur à chaque fois que la condition est rencontrée. "
   ]
  },
  {
   "cell_type": "code",
   "execution_count": 22,
   "metadata": {},
   "outputs": [
    {
     "name": "stdout",
     "output_type": "stream",
     "text": [
      "Le nombre d'élèves avec une note supérieure à 11.73 est de 8 élèves\n"
     ]
    }
   ],
   "source": [
    "nombre_eleves_avec_note_sup_moyenne=0\n",
    "for valeur in notes_eleves.values():\n",
    "    if valeur > moyenne_generale:   \n",
    "        nombre_eleves_avec_note_sup_moyenne=nombre_eleves_avec_note_sup_moyenne+1\n",
    "print(\"Le nombre d'élèves avec une note supérieure à %.2f est de %d élèves\" % (moyenne_generale, nombre_eleves_avec_note_sup_moyenne))"
   ]
  },
  {
   "cell_type": "markdown",
   "metadata": {},
   "source": [
    "- 5:  Quel est le prénom du meilleur élève de la classe ?"
   ]
  },
  {
   "cell_type": "code",
   "execution_count": 23,
   "metadata": {},
   "outputs": [],
   "source": [
    "# On va d'abord déterminer  la meilleure note: utilisation de la fonction max()\n",
    "meilleure_note=max(notes_eleves.values())"
   ]
  },
  {
   "cell_type": "code",
   "execution_count": 24,
   "metadata": {},
   "outputs": [
    {
     "data": {
      "text/plain": [
       "20"
      ]
     },
     "execution_count": 24,
     "metadata": {},
     "output_type": "execute_result"
    }
   ],
   "source": [
    "meilleure_note"
   ]
  },
  {
   "cell_type": "code",
   "execution_count": 25,
   "metadata": {},
   "outputs": [
    {
     "name": "stdout",
     "output_type": "stream",
     "text": [
      "Claire\n"
     ]
    }
   ],
   "source": [
    "# On va parcourir notre dictionnaire et trouver la clef associée à notre valeur\n",
    "# Pour cela on va travailler sur les tuples avec la méthode item()\n",
    "for prenom,note in notes_eleves.items():\n",
    "    if note == meilleure_note:\n",
    "        print(prenom)"
   ]
  },
  {
   "cell_type": "markdown",
   "metadata": {},
   "source": [
    "- 6: Combien d'élèves ont un prénom avec strictement moins de 4 lettres ?"
   ]
  },
  {
   "cell_type": "code",
   "execution_count": 26,
   "metadata": {},
   "outputs": [
    {
     "name": "stdout",
     "output_type": "stream",
     "text": [
      "2\n"
     ]
    }
   ],
   "source": [
    "# On va parcourir les clefs de notre dictionnaire et mettre une condition sur la longueur de chaque clef\n",
    "\n",
    "nombre_eleves=0\n",
    "for prenom in notes_eleves.keys():\n",
    "    if len(prenom) < 4:\n",
    "        nombre_eleves=nombre_eleves+1\n",
    "print(nombre_eleves)"
   ]
  },
  {
   "cell_type": "markdown",
   "metadata": {},
   "source": [
    "- 7: Afficher les prénoms des élèves qui ont une note paire."
   ]
  },
  {
   "cell_type": "code",
   "execution_count": 27,
   "metadata": {},
   "outputs": [
    {
     "name": "stdout",
     "output_type": "stream",
     "text": [
      "Gaston 12\n",
      "Fred 10\n",
      "Claire 20\n",
      "Chloe 8\n",
      "Julien 14\n",
      "Gabriel 16\n",
      "Manon 2\n"
     ]
    }
   ],
   "source": [
    "# On va parcourir les tuples du dictionnaire et mettre une condition sur les valeurs \n",
    "for prenom,note in notes_eleves.items():\n",
    "    if note % 2 == 0:\n",
    "        print(prenom, note)"
   ]
  },
  {
   "cell_type": "code",
   "execution_count": null,
   "metadata": {},
   "outputs": [],
   "source": []
  },
  {
   "cell_type": "code",
   "execution_count": null,
   "metadata": {},
   "outputs": [],
   "source": []
  },
  {
   "cell_type": "code",
   "execution_count": null,
   "metadata": {},
   "outputs": [],
   "source": []
  }
 ],
 "metadata": {
  "kernelspec": {
   "display_name": "Python 3",
   "language": "python",
   "name": "python3"
  },
  "language_info": {
   "codemirror_mode": {
    "name": "ipython",
    "version": 3
   },
   "file_extension": ".py",
   "mimetype": "text/x-python",
   "name": "python",
   "nbconvert_exporter": "python",
   "pygments_lexer": "ipython3",
   "version": "3.7.3"
  }
 },
 "nbformat": 4,
 "nbformat_minor": 2
}
