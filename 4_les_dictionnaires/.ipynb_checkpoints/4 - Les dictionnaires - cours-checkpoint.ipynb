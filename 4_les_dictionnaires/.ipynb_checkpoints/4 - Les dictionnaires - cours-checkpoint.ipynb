{
 "cells": [
  {
   "cell_type": "markdown",
   "metadata": {},
   "source": [
    "<h1> Objectifs</h1>\n",
    "\n",
    "- Comprendre ce qu'est un dictionnaire\n",
    "- Savoir consulter et analyser un dictonnaire\n",
    "- Savoir manipulier un dictionnaire\n",
    "- créer un dictionnaire multi-propriétés"
   ]
  },
  {
   "cell_type": "markdown",
   "metadata": {},
   "source": [
    "<h2>Concept et déclaration d'un dictionnaire en Python</h2>\n",
    "- Reprenons notre exemple précédent. Quel est le prix des chaussures ?"
   ]
  },
  {
   "cell_type": "code",
   "execution_count": 1,
   "metadata": {},
   "outputs": [
    {
     "name": "stdout",
     "output_type": "stream",
     "text": [
      "100\n"
     ]
    }
   ],
   "source": [
    "produitsPrix = [['smartphone',1000],['chaussures',100],['console',400]]\n",
    "print(produitsPrix[1][1])        "
   ]
  },
  {
   "cell_type": "markdown",
   "metadata": {},
   "source": [
    "Et si un des produits est supprimé ? Ou si l'ordre est différent la fois suivante ? <br>\n",
    "ça n'est pas optimal. Un stockage sous la forme d'un dictionnaire est beaucoup plus adapté :"
   ]
  },
  {
   "cell_type": "code",
   "execution_count": 2,
   "metadata": {},
   "outputs": [
    {
     "name": "stdout",
     "output_type": "stream",
     "text": [
      "{'smartphone': 1000, 'chaussures': 100, 'console': 400}\n"
     ]
    }
   ],
   "source": [
    "produitsDict = {'smartphone':1000,'chaussures':100,'console':400}\n",
    "print(produitsDict)"
   ]
  },
  {
   "cell_type": "markdown",
   "metadata": {},
   "source": [
    "<h2>Consultation et analyse d'un dictionnaire</h2>"
   ]
  },
  {
   "cell_type": "code",
   "execution_count": 3,
   "metadata": {},
   "outputs": [
    {
     "name": "stdout",
     "output_type": "stream",
     "text": [
      "400\n"
     ]
    }
   ],
   "source": [
    "#trouver la valeur d'un item\n",
    "print(produitsDict['console'])"
   ]
  },
  {
   "cell_type": "code",
   "execution_count": 4,
   "metadata": {},
   "outputs": [
    {
     "name": "stdout",
     "output_type": "stream",
     "text": [
      "True\n"
     ]
    }
   ],
   "source": [
    "#vérifier si un item est présent\n",
    "print('smartphone' in produitsDict)"
   ]
  },
  {
   "cell_type": "code",
   "execution_count": 5,
   "metadata": {},
   "outputs": [
    {
     "name": "stdout",
     "output_type": "stream",
     "text": [
      "3\n"
     ]
    }
   ],
   "source": [
    "#vérifier la longueur d'un dictionnaire\n",
    "print(len(produitsDict))"
   ]
  },
  {
   "cell_type": "code",
   "execution_count": 6,
   "metadata": {},
   "outputs": [
    {
     "name": "stdout",
     "output_type": "stream",
     "text": [
      "dict_keys(['smartphone', 'chaussures', 'console'])\n",
      "['smartphone', 'chaussures', 'console']\n"
     ]
    }
   ],
   "source": [
    "#obtenir à nouveau une liste d'items\n",
    "print(produitsDict.keys())\n",
    "print(list(produitsDict.keys()))"
   ]
  },
  {
   "cell_type": "code",
   "execution_count": 7,
   "metadata": {},
   "outputs": [
    {
     "name": "stdout",
     "output_type": "stream",
     "text": [
      "dict_values([1000, 100, 400])\n",
      "[1000, 100, 400]\n"
     ]
    }
   ],
   "source": [
    "#obtenir à nouveau une liste de valeurs\n",
    "print(produitsDict.values())\n",
    "print(list(produitsDict.values()))"
   ]
  },
  {
   "cell_type": "code",
   "execution_count": 8,
   "metadata": {},
   "outputs": [
    {
     "name": "stdout",
     "output_type": "stream",
     "text": [
      "{'smartphone': 1000, 'chaussures': 100, 'console': 400}\n",
      "{'smartphone': 1000, 'chaussures': 100, 'console': 200}\n"
     ]
    }
   ],
   "source": [
    "#Changer la valeur d'un item\n",
    "print(produitsDict)\n",
    "produitsDict['console'] = 200\n",
    "print(produitsDict)"
   ]
  },
  {
   "cell_type": "code",
   "execution_count": 9,
   "metadata": {},
   "outputs": [
    {
     "name": "stdout",
     "output_type": "stream",
     "text": [
      "{'smartphone': 1000, 'chaussures': 100, 'console': 200}\n",
      "{'smartphone': 1000, 'chaussures': 100, 'console': 200, 'sac': 80}\n"
     ]
    }
   ],
   "source": [
    "#Ajouter un item\n",
    "print(produitsDict)\n",
    "produitsDict['sac'] = 80\n",
    "print(produitsDict)"
   ]
  },
  {
   "cell_type": "code",
   "execution_count": 10,
   "metadata": {},
   "outputs": [
    {
     "name": "stdout",
     "output_type": "stream",
     "text": [
      "{'smartphone': 1000, 'chaussures': 100, 'console': 200, 'sac': 80}\n",
      "{'chaussures': 100, 'console': 200, 'sac': 80}\n"
     ]
    }
   ],
   "source": [
    "#Supprimer un item\n",
    "print(produitsDict)\n",
    "produitsDict.pop(\"smartphone\")\n",
    "print(produitsDict)"
   ]
  },
  {
   "cell_type": "code",
   "execution_count": 11,
   "metadata": {},
   "outputs": [
    {
     "name": "stdout",
     "output_type": "stream",
     "text": [
      "{'chaussures': 100, 'console': 200, 'sac': 80}\n",
      "{}\n"
     ]
    }
   ],
   "source": [
    "#vider un dictionnaire\n",
    "print(produitsDict)\n",
    "produitsDict.clear()\n",
    "print(produitsDict)"
   ]
  },
  {
   "cell_type": "markdown",
   "metadata": {},
   "source": [
    "<h2> Créer un dictionnaire multi-propriétés</h2><br>\n",
    "En plus du produit, je veux savoir s'il est en stock ou non."
   ]
  },
  {
   "cell_type": "code",
   "execution_count": 12,
   "metadata": {},
   "outputs": [
    {
     "name": "stdout",
     "output_type": "stream",
     "text": [
      "{'smartphone': 1000, 'chaussures': 100, 'console': 400}\n",
      "{'smartphone': True, 'chaussures': False, 'console': True}\n"
     ]
    }
   ],
   "source": [
    "produitsDictPrix = {'smartphone':1000,'chaussures':100,'console':400}\n",
    "produitsDictStock = {'smartphone':True,'chaussures':False,'console':True}\n",
    "print(produitsDictPrix)\n",
    "print(produitsDictStock)"
   ]
  },
  {
   "cell_type": "code",
   "execution_count": 13,
   "metadata": {},
   "outputs": [
    {
     "name": "stdout",
     "output_type": "stream",
     "text": [
      "{'smartphone': {'prix': 1000, 'enStock': True}, 'chaussures': {'prix': 100, 'enStock': False}, 'console': {'prix': 400, 'enStock': True}}\n"
     ]
    }
   ],
   "source": [
    "produitsDict = {\n",
    "    'smartphone':{'prix':1000,'enStock':True},\n",
    "    'chaussures':{'prix':100,'enStock':False},\n",
    "    'console':{'prix':400,'enStock':True}\n",
    "}\n",
    "print(produitsDict)"
   ]
  },
  {
   "cell_type": "code",
   "execution_count": 14,
   "metadata": {},
   "outputs": [
    {
     "name": "stdout",
     "output_type": "stream",
     "text": [
      "1000\n",
      "True\n"
     ]
    }
   ],
   "source": [
    "print(produitsDict['smartphone']['prix'])\n",
    "print(produitsDict['console']['enStock'])"
   ]
  },
  {
   "cell_type": "code",
   "execution_count": null,
   "metadata": {},
   "outputs": [],
   "source": []
  }
 ],
 "metadata": {
  "kernelspec": {
   "display_name": "Python 3",
   "language": "python",
   "name": "python3"
  },
  "language_info": {
   "codemirror_mode": {
    "name": "ipython",
    "version": 3
   },
   "file_extension": ".py",
   "mimetype": "text/x-python",
   "name": "python",
   "nbconvert_exporter": "python",
   "pygments_lexer": "ipython3",
   "version": "3.7.3"
  }
 },
 "nbformat": 4,
 "nbformat_minor": 2
}
