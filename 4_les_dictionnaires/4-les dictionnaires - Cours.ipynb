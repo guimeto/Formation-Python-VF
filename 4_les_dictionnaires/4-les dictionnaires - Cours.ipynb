{
 "cells": [
  {
   "cell_type": "markdown",
   "metadata": {},
   "source": [
    "<img src=\"./figures/pylogo.png\" alt=\"Indentation\" width=\"50%\" height=\"50%\">\n",
    "\n",
    "<h1> Objectifs</h1>\n",
    "\n",
    "- Comprendre ce qu'est un dictionnaire\n",
    "- Savoir consulter et analyser un dictonnaire\n",
    "- Savoir manipuler un dictionnaire\n",
    "- créer un dictionnaire multi-propriétés\n",
    "\n",
    "\n",
    "\n",
    "<h1>4- Les dictionnaires python</h1>\n",
    "\n",
    "\n",
    "- Le dictionnaire est une structure où l'on stocke des clés associées à des valeurs \n",
    "- Les dictionnaires sont des structures de données non-ordonnées\n",
    "- On peut les modifier et les indexer\n",
    "- Principe: on peut lier une clef à une valeur \n",
    "- Les dictionnaires s'écrivent avec des {  }"
   ]
  },
  {
   "cell_type": "markdown",
   "metadata": {},
   "source": [
    "<h2> 4.1-Concept et déclaration d'un dictionnaire en Python </h2>\n",
    "\n",
    "Pour créer un dictionnaire, on écrit tous les éléments en les séparant par des virgules et le tout encadré par des accolades {}. "
   ]
  },
  {
   "cell_type": "code",
   "execution_count": 1,
   "metadata": {},
   "outputs": [
    {
     "name": "stdout",
     "output_type": "stream",
     "text": [
      "100\n"
     ]
    }
   ],
   "source": [
    "produitsPrix = [['smartphone',1000],['chaussures',100],['console',400]]\n",
    "print(produitsPrix[1][1])      "
   ]
  },
  {
   "cell_type": "markdown",
   "metadata": {},
   "source": [
    "Et si un des produits est supprimé ? Ou si l'ordre est différent la fois suivante ? <br> Ce stockage n'est pas optimal. Un stockage sous la forme d'un dictionnaire est beaucoup plus adapté :"
   ]
  },
  {
   "cell_type": "code",
   "execution_count": 2,
   "metadata": {},
   "outputs": [
    {
     "name": "stdout",
     "output_type": "stream",
     "text": [
      "{'smartphone': 1000, 'chaussures': 100, 'console': 400}\n"
     ]
    }
   ],
   "source": [
    "produitsDict = {'smartphone':1000,'chaussures':100,'console':400}\n",
    "print(produitsDict)"
   ]
  },
  {
   "cell_type": "markdown",
   "metadata": {},
   "source": [
    "\n",
    "<h2> 4.2-Modifier un dictionnaire </h2>\n",
    "\n",
    "- Pour <b>ajouter</b> une valeur "
   ]
  },
  {
   "cell_type": "code",
   "execution_count": 3,
   "metadata": {},
   "outputs": [
    {
     "name": "stdout",
     "output_type": "stream",
     "text": [
      "{'smartphone': 1000, 'chaussures': 100, 'console': 400, 'tele': 100}\n"
     ]
    }
   ],
   "source": [
    "# Ajouter un nouveau couple ( clef : valeur ) dans un dictionnaire \n",
    "produitsDict[\"tele\"]=100\n",
    "print(produitsDict)"
   ]
  },
  {
   "cell_type": "markdown",
   "metadata": {},
   "source": [
    "- Pour <b>modifier</b> une valeur avec une clef existant"
   ]
  },
  {
   "cell_type": "code",
   "execution_count": 4,
   "metadata": {},
   "outputs": [
    {
     "name": "stdout",
     "output_type": "stream",
     "text": [
      "{'smartphone': 999, 'chaussures': 100, 'console': 400, 'tele': 100}\n"
     ]
    }
   ],
   "source": [
    "# On peut modifier une valeur dans un dictionnaire avec une clef existante \n",
    "produitsDict[\"smartphone\"]=999\n",
    "print(produitsDict)"
   ]
  },
  {
   "cell_type": "code",
   "execution_count": 5,
   "metadata": {},
   "outputs": [
    {
     "name": "stdout",
     "output_type": "stream",
     "text": [
      "{'smartphone': 888, 'chaussures': 100, 'console': 400, 'tele': 100}\n"
     ]
    }
   ],
   "source": [
    "# Un dictionnaire ne peut pas avoir deux fois la même clef, une clef est unique!\n",
    "produitsDict[\"smartphone\"]=888\n",
    "print(produitsDict)"
   ]
  },
  {
   "cell_type": "markdown",
   "metadata": {},
   "source": [
    "- Pour <b>supprimer</b> une valeur avec une clef existantE"
   ]
  },
  {
   "cell_type": "code",
   "execution_count": 6,
   "metadata": {},
   "outputs": [],
   "source": [
    "# On peut supprimer une valeur dans un dictionnaire \n",
    "del produitsDict[\"smartphone\"]"
   ]
  },
  {
   "cell_type": "code",
   "execution_count": 7,
   "metadata": {},
   "outputs": [
    {
     "name": "stdout",
     "output_type": "stream",
     "text": [
      "{'chaussures': 100, 'console': 400, 'tele': 100}\n"
     ]
    }
   ],
   "source": [
    "print(produitsDict)"
   ]
  },
  {
   "cell_type": "code",
   "execution_count": 8,
   "metadata": {},
   "outputs": [
    {
     "name": "stdout",
     "output_type": "stream",
     "text": [
      "{'chaussures': 100, 'console': 400, 'tele': 100}\n",
      "{'chaussures': 100, 'console': 400}\n"
     ]
    }
   ],
   "source": [
    "#Supprimer un item\n",
    "print(produitsDict)\n",
    "produitsDict.pop(\"tele\")\n",
    "print(produitsDict)"
   ]
  },
  {
   "cell_type": "code",
   "execution_count": 9,
   "metadata": {},
   "outputs": [
    {
     "name": "stdout",
     "output_type": "stream",
     "text": [
      "{'chaussures': 100, 'console': 400}\n",
      "{}\n"
     ]
    }
   ],
   "source": [
    "#vider un dictionnaire\n",
    "print(produitsDict)\n",
    "produitsDict.clear()\n",
    "print(produitsDict)"
   ]
  },
  {
   "cell_type": "markdown",
   "metadata": {},
   "source": [
    "<h2> 4.3- Parcourir un dictionnaire </h2>\n",
    "\n",
    "Une fois le dictionnaire crée, nous pouvons accéder aux éléments en utilisant les clefs."
   ]
  },
  {
   "cell_type": "code",
   "execution_count": 10,
   "metadata": {},
   "outputs": [],
   "source": [
    "produitsDict = {'smartphone':1000,'chaussures':100,'console':400}"
   ]
  },
  {
   "cell_type": "code",
   "execution_count": 11,
   "metadata": {},
   "outputs": [
    {
     "name": "stdout",
     "output_type": "stream",
     "text": [
      "400\n"
     ]
    }
   ],
   "source": [
    "#trouver la valeur d'un item\n",
    "print(produitsDict['console'])"
   ]
  },
  {
   "cell_type": "markdown",
   "metadata": {},
   "source": [
    "- On peut parcourir un dictionnaire suivant 3 méthodes utilisant la boucle <b>FOR</b>: \n",
    "\n",
    "    - par valeur\n",
    "    - par clef\n",
    "    - par clef + valeur\n"
   ]
  },
  {
   "cell_type": "code",
   "execution_count": 12,
   "metadata": {},
   "outputs": [
    {
     "data": {
      "text/plain": [
       "dict_keys(['smartphone', 'chaussures', 'console'])"
      ]
     },
     "execution_count": 12,
     "metadata": {},
     "output_type": "execute_result"
    }
   ],
   "source": [
    "# Pour connaitre les clefs d'un dictionnaire: méthode .keys()\n",
    "produitsDict.keys()"
   ]
  },
  {
   "cell_type": "code",
   "execution_count": 13,
   "metadata": {},
   "outputs": [
    {
     "data": {
      "text/plain": [
       "dict_values([1000, 100, 400])"
      ]
     },
     "execution_count": 13,
     "metadata": {},
     "output_type": "execute_result"
    }
   ],
   "source": [
    "# Pour connaitre les valeurs d'un dictionnaire: méthode .values()\n",
    "produitsDict.values()"
   ]
  },
  {
   "cell_type": "code",
   "execution_count": 14,
   "metadata": {},
   "outputs": [
    {
     "name": "stdout",
     "output_type": "stream",
     "text": [
      "smartphone\n",
      "chaussures\n",
      "console\n"
     ]
    }
   ],
   "source": [
    "# Pour parcourir les clefs d'un dictionnaire \n",
    "for cle in produitsDict.keys():\n",
    "    print(cle)"
   ]
  },
  {
   "cell_type": "code",
   "execution_count": 15,
   "metadata": {},
   "outputs": [
    {
     "name": "stdout",
     "output_type": "stream",
     "text": [
      "1000\n",
      "100\n",
      "400\n"
     ]
    }
   ],
   "source": [
    "# Pour parcourir les valeurs d'un dictionnaire\n",
    "for valeur in produitsDict.values():\n",
    "    print(valeur)"
   ]
  },
  {
   "cell_type": "code",
   "execution_count": 16,
   "metadata": {},
   "outputs": [
    {
     "data": {
      "text/plain": [
       "dict_items([('smartphone', 1000), ('chaussures', 100), ('console', 400)])"
      ]
     },
     "execution_count": 16,
     "metadata": {},
     "output_type": "execute_result"
    }
   ],
   "source": [
    "# Pour connaitre les couples clef, valeur: méthode .items()\n",
    "produitsDict.items()"
   ]
  },
  {
   "cell_type": "markdown",
   "metadata": {
    "collapsed": true
   },
   "source": [
    "Ici on a des listes contenant des tuples. "
   ]
  },
  {
   "cell_type": "code",
   "execution_count": 17,
   "metadata": {},
   "outputs": [
    {
     "name": "stdout",
     "output_type": "stream",
     "text": [
      "smartphone 1000\n",
      "chaussures 100\n",
      "console 400\n"
     ]
    }
   ],
   "source": [
    "# Pour parcourir les couples clefs,valeurs \n",
    "for cle,valeur in produitsDict.items(): # la boucle for obtient un tuple à chaque itération\n",
    "    print(cle,valeur)"
   ]
  },
  {
   "cell_type": "code",
   "execution_count": 18,
   "metadata": {},
   "outputs": [
    {
     "name": "stdout",
     "output_type": "stream",
     "text": [
      "True\n"
     ]
    }
   ],
   "source": [
    "#vérifier si un item est présent\n",
    "print('smartphone' in produitsDict)"
   ]
  },
  {
   "cell_type": "code",
   "execution_count": 19,
   "metadata": {},
   "outputs": [
    {
     "name": "stdout",
     "output_type": "stream",
     "text": [
      "3\n"
     ]
    }
   ],
   "source": [
    "#vérifier la longueur d'un dictionnaire\n",
    "print(len(produitsDict))"
   ]
  },
  {
   "cell_type": "code",
   "execution_count": 20,
   "metadata": {},
   "outputs": [
    {
     "name": "stdout",
     "output_type": "stream",
     "text": [
      "dict_keys(['smartphone', 'chaussures', 'console'])\n",
      "['smartphone', 'chaussures', 'console']\n"
     ]
    }
   ],
   "source": [
    "#obtenir à nouveau une liste d'items\n",
    "print(produitsDict.keys())\n",
    "print(list(produitsDict.keys()))"
   ]
  },
  {
   "cell_type": "markdown",
   "metadata": {},
   "source": [
    "<h2> 4.4- Créer un dictionnaire multi-propriétés </h2>\n",
    "\n",
    "En plus du produit, je veux savoir s'il est en stock ou non."
   ]
  },
  {
   "cell_type": "code",
   "execution_count": 21,
   "metadata": {},
   "outputs": [
    {
     "name": "stdout",
     "output_type": "stream",
     "text": [
      "{'smartphone': 1000, 'chaussures': 100, 'console': 400}\n",
      "{'smartphone': True, 'chaussures': False, 'console': True}\n"
     ]
    }
   ],
   "source": [
    "produitsDictPrix = {'smartphone':1000,'chaussures':100,'console':400}\n",
    "produitsDictStock = {'smartphone':True,'chaussures':False,'console':True}\n",
    "print(produitsDictPrix)\n",
    "print(produitsDictStock)"
   ]
  },
  {
   "cell_type": "code",
   "execution_count": 22,
   "metadata": {},
   "outputs": [
    {
     "name": "stdout",
     "output_type": "stream",
     "text": [
      "{'smartphone': {'prix': 1000, 'enStock': True}, 'chaussures': {'prix': 100, 'enStock': False}, 'console': {'prix': 400, 'enStock': True}}\n"
     ]
    }
   ],
   "source": [
    "produitsDict = {\n",
    "    'smartphone':{'prix':1000,'enStock':True},\n",
    "    'chaussures':{'prix':100,'enStock':False},\n",
    "    'console':{'prix':400,'enStock':True}\n",
    "}\n",
    "print(produitsDict)"
   ]
  },
  {
   "cell_type": "code",
   "execution_count": 23,
   "metadata": {},
   "outputs": [
    {
     "name": "stdout",
     "output_type": "stream",
     "text": [
      "1000\n",
      "True\n"
     ]
    }
   ],
   "source": [
    "print(produitsDict['smartphone']['prix'])\n",
    "print(produitsDict['console']['enStock'])"
   ]
  }
 ],
 "metadata": {
  "kernelspec": {
   "display_name": "Python 3",
   "language": "python",
   "name": "python3"
  },
  "language_info": {
   "codemirror_mode": {
    "name": "ipython",
    "version": 3
   },
   "file_extension": ".py",
   "mimetype": "text/x-python",
   "name": "python",
   "nbconvert_exporter": "python",
   "pygments_lexer": "ipython3",
   "version": "3.7.3"
  }
 },
 "nbformat": 4,
 "nbformat_minor": 2
}
