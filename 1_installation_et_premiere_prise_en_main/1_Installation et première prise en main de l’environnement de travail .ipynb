{
 "cells": [
  {
   "cell_type": "markdown",
   "metadata": {},
   "source": [
    "<h1>Objectifs</h1>\n",
    "\n",
    "- Tout préparer pour commencer le tutoriel\n",
    "- Présentation et installation de l’environnement de travail\n",
    "- Présentation de Jupyter\n",
    "- Maitrise de jupyter notebook 1"
   ]
  },
  {
   "cell_type": "markdown",
   "metadata": {},
   "source": [
    "<h2>Qu’est-ce qu’Anaconda ?</h2>\n",
    "\n",
    "- https://www.anaconda.com/\n",
    "\n",
    "\n",
    "- Anaconda est une distribution Python, c'est à dire une configuration particulière (bonne version Python, bon packages, les bonnes versions)\n",
    "\n",
    "\n",
    "- Pourquoi Anaconda ? C’est le plus répandue (6M) , open source, que vous allez retrouver partout, adapté à la data science machine learning ... \n",
    "\n",
    "\n",
    "<b> Comment installer Anaconda ? </b> \n",
    "\n",
    "-\tChercher ‘anaconda’ sur Google\n",
    "-\tAller dans download (25% utilisent encore Python 2). Prendre Python 3\n",
    "-\tSuivre les processus d’installation classique (tout laisser par défaut)"
   ]
  },
  {
   "cell_type": "markdown",
   "metadata": {},
   "source": [
    "<h2> L'interface anaconda</h2>\n",
    "\n",
    "-\tLancer anaconda\n",
    "-\tPrésentation Home\n",
    "-\tPrésentation Environnements (noyaux avec packages autour) : chercher pandas, Seaborn. Cherchez plotly\n",
    "-\tLancer Jupyter  via anaconda\n",
    "-\tLancer jupyter via cortana"
   ]
  },
  {
   "cell_type": "markdown",
   "metadata": {},
   "source": [
    "<h2> Maitrise du notebook jupyter 1</h2>\n",
    "\n",
    "\n",
    "-\t3 onglets : documents (vos dossiers), Running (notbook en cours), Clusters (parrallelisation de calcul)\n",
    "-\tCréation d’un nouveau dossier \n",
    "-\tCréation d’un nouveau notebook\n",
    "-\tRenomer\n",
    "-\tPrint(‘Data science’)\n",
    "-\tAjouter une nouvelle cellule print(‘Machine learnin’)\n",
    "-\tChanger valeur, rerun cell print(‘Machine learning’)\n",
    "-\tChanger ordre (flèches)\n",
    "-\tSupprimer\n",
    "-\tCopy past\n",
    "-\tAjouter markdown "
   ]
  },
  {
   "cell_type": "markdown",
   "metadata": {},
   "source": [
    "<h1> jupyter introduction </h1>\n",
    "<h2> session 1 </h2>\n",
    "<p>...blablabla</p>"
   ]
  },
  {
   "cell_type": "markdown",
   "metadata": {},
   "source": [
    "- Sinon https://wordtohtml.net/\n",
    "- Pour cela qu’on parle de notebook ! \n",
    "https://www.kaggle.com/pavansanagapati/a-simple-tutorial-on-exploratory-data-analysis\n",
    "-\tPremière erreur (passer markdown en python)\n",
    "-\tRestart & clear output\n",
    "-\tCells > Run all\n",
    "-\tSave\n",
    "-\tPrint preview\n",
    "-\tDownload as"
   ]
  }
 ],
 "metadata": {
  "kernelspec": {
   "display_name": "Python 3",
   "language": "python",
   "name": "python3"
  },
  "language_info": {
   "codemirror_mode": {
    "name": "ipython",
    "version": 3
   },
   "file_extension": ".py",
   "mimetype": "text/x-python",
   "name": "python",
   "nbconvert_exporter": "python",
   "pygments_lexer": "ipython3",
   "version": "3.7.3"
  }
 },
 "nbformat": 4,
 "nbformat_minor": 2
}
