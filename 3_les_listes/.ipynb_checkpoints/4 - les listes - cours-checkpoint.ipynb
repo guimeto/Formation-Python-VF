{
 "cells": [
  {
   "cell_type": "markdown",
   "metadata": {},
   "source": [
    "<h1>Objectifs</h1>\n",
    "\n",
    "- Comprendre ce qu'est une liste\n",
    "- Savoir consulter et analyser une liste\n",
    "- Savoir manipulier une liste"
   ]
  },
  {
   "cell_type": "markdown",
   "metadata": {},
   "source": [
    "<h2>Concept et déclaration d'une liste en Python</h2>\n",
    "\n",
    "- Cas 1 : on souhaite stocker les produits vendus sur un site e-commerce \n",
    "- Cas 2 : on souhaite stocker le chiffre d'affaires d'un site e-commerce pour chaque jour de l'année passée..."
   ]
  },
  {
   "cell_type": "code",
   "execution_count": 1,
   "metadata": {},
   "outputs": [],
   "source": [
    "produit1 = 'iPhone'\n",
    "produit2 = 'chaussures'\n",
    "produit3 = 'console'\n",
    "\n",
    "jour1 = 10000\n",
    "jour2 = 15000\n",
    "jour3 = 12000"
   ]
  },
  {
   "cell_type": "markdown",
   "metadata": {},
   "source": [
    "Une méthode plus simple serait de déclarer une liste de ces élements"
   ]
  },
  {
   "cell_type": "code",
   "execution_count": 2,
   "metadata": {},
   "outputs": [
    {
     "name": "stdout",
     "output_type": "stream",
     "text": [
      "['smartphone', 'chaussures', 'console']\n",
      "[10000, 15000, 12000]\n"
     ]
    }
   ],
   "source": [
    "produits = ['smartphone','chaussures','console']\n",
    "caParJour = [10000,15000,12000]\n",
    "print(produits)\n",
    "print(caParJour)"
   ]
  },
  {
   "cell_type": "markdown",
   "metadata": {},
   "source": [
    "ou encore de stocker des listes dans des listes avec une série d'informations, comme le nom du produit et son prix : "
   ]
  },
  {
   "cell_type": "code",
   "execution_count": 3,
   "metadata": {},
   "outputs": [
    {
     "name": "stdout",
     "output_type": "stream",
     "text": [
      "[['smartphone', 1000], ['chaussures', 1000], ['console', 400]]\n"
     ]
    }
   ],
   "source": [
    "produitsPrix = [['smartphone',1000],['chaussures',1000],['console',400]]\n",
    "print(produitsPrix)"
   ]
  },
  {
   "cell_type": "markdown",
   "metadata": {},
   "source": [
    "<h2>Consultation et analyse d'une liste</h2>"
   ]
  },
  {
   "cell_type": "code",
   "execution_count": 4,
   "metadata": {},
   "outputs": [
    {
     "name": "stdout",
     "output_type": "stream",
     "text": [
      "smartphone\n",
      "15000\n",
      "['console', 400]\n",
      "console\n",
      "400\n",
      "['smartphone', 'chaussures']\n"
     ]
    }
   ],
   "source": [
    "# acceder à un élément d'une liste (attention cela commence à 0)\n",
    "print(produits[0])\n",
    "print(caParJour[1])\n",
    "print(produitsPrix[2])\n",
    "print(produitsPrix[2][0])\n",
    "print(produitsPrix[2][1])\n",
    "print(produits[0:2])"
   ]
  },
  {
   "cell_type": "code",
   "execution_count": 6,
   "metadata": {},
   "outputs": [
    {
     "name": "stdout",
     "output_type": "stream",
     "text": [
      "True\n",
      "il y a bien un smartphone dans la liste\n"
     ]
    }
   ],
   "source": [
    "# vérifier si un élement est dans une liste\n",
    "print('smartphone' in produits)\n",
    "\n",
    "if 'smartphone' in produits:\n",
    "    print('il y a bien un smartphone dans la liste')"
   ]
  },
  {
   "cell_type": "code",
   "execution_count": 5,
   "metadata": {},
   "outputs": [
    {
     "name": "stdout",
     "output_type": "stream",
     "text": [
      "3\n"
     ]
    }
   ],
   "source": [
    "# connaitre la longueur d'une liste\n",
    "print(len(caParJour))"
   ]
  },
  {
   "cell_type": "code",
   "execution_count": 7,
   "metadata": {},
   "outputs": [
    {
     "data": {
      "text/plain": [
       "3"
      ]
     },
     "execution_count": 7,
     "metadata": {},
     "output_type": "execute_result"
    }
   ],
   "source": [
    "# connaitre le nombre d'élements d'un élément spécifique\n",
    "countDemo = ['A','B','C','A','A']\n",
    "countDemo.count('A')"
   ]
  },
  {
   "cell_type": "code",
   "execution_count": 8,
   "metadata": {},
   "outputs": [
    {
     "data": {
      "text/plain": [
       "2"
      ]
     },
     "execution_count": 8,
     "metadata": {},
     "output_type": "execute_result"
    }
   ],
   "source": [
    "# connaitre la position d'un élément spécifique\n",
    "countDemo.index('C')"
   ]
  },
  {
   "cell_type": "code",
   "execution_count": 9,
   "metadata": {},
   "outputs": [
    {
     "name": "stdout",
     "output_type": "stream",
     "text": [
      "[10000, 12000, 15000]\n"
     ]
    }
   ],
   "source": [
    "# trier une liste\n",
    "caParJour.sort()\n",
    "print(caParJour)"
   ]
  },
  {
   "cell_type": "code",
   "execution_count": 10,
   "metadata": {},
   "outputs": [
    {
     "data": {
      "text/plain": [
       "37000"
      ]
     },
     "execution_count": 10,
     "metadata": {},
     "output_type": "execute_result"
    }
   ],
   "source": [
    "# faire la somme d'une liste\n",
    "sum(caParJour)"
   ]
  },
  {
   "cell_type": "markdown",
   "metadata": {},
   "source": [
    "<h2>Manipulations d'une liste</h2>"
   ]
  },
  {
   "cell_type": "code",
   "execution_count": 11,
   "metadata": {},
   "outputs": [
    {
     "name": "stdout",
     "output_type": "stream",
     "text": [
      "['A', 'B', 'E', 'A', 'A']\n"
     ]
    }
   ],
   "source": [
    "#Changer la valeur d'un item\n",
    "countDemo = ['A','B','C','A','A']\n",
    "countDemo[2] = 'E'\n",
    "print(countDemo)"
   ]
  },
  {
   "cell_type": "code",
   "execution_count": 12,
   "metadata": {},
   "outputs": [
    {
     "name": "stdout",
     "output_type": "stream",
     "text": [
      "['A', 'B', 'C', 'A', 'A', 'F']\n"
     ]
    }
   ],
   "source": [
    "#Ajouter un item\n",
    "countDemo = ['A','B','C','A','A']\n",
    "countDemo.append('F')\n",
    "print(countDemo)"
   ]
  },
  {
   "cell_type": "code",
   "execution_count": 13,
   "metadata": {},
   "outputs": [
    {
     "name": "stdout",
     "output_type": "stream",
     "text": [
      "['G', 'A', 'B', 'C', 'A', 'A']\n"
     ]
    }
   ],
   "source": [
    "#inserer un item dans une position précise\n",
    "countDemo = ['A','B','C','A','A']\n",
    "countDemo.insert(0,'G')\n",
    "print(countDemo)"
   ]
  },
  {
   "cell_type": "code",
   "execution_count": 14,
   "metadata": {},
   "outputs": [
    {
     "name": "stdout",
     "output_type": "stream",
     "text": [
      "['A', 'C', 'A', 'A']\n"
     ]
    }
   ],
   "source": [
    "#suppprimer un item spécifique\n",
    "countDemo = ['A','B','C','A','A']\n",
    "countDemo.remove('B')\n",
    "print(countDemo)"
   ]
  },
  {
   "cell_type": "code",
   "execution_count": 15,
   "metadata": {},
   "outputs": [
    {
     "name": "stdout",
     "output_type": "stream",
     "text": [
      "['A', 'C', 'A', 'A']\n"
     ]
    }
   ],
   "source": [
    "#supprimer un item d'une position spécifique\n",
    "countDemo = ['A','B','C','A','A']\n",
    "countDemo.pop(1)\n",
    "print(countDemo)"
   ]
  },
  {
   "cell_type": "code",
   "execution_count": 16,
   "metadata": {},
   "outputs": [
    {
     "name": "stdout",
     "output_type": "stream",
     "text": [
      "['A', 'B', 'C', 'A', 'A']\n"
     ]
    }
   ],
   "source": [
    "#vider une list\n",
    "countDemo = ['A','B','C','A','A']\n",
    "countDemo.clear\n",
    "print(countDemo)"
   ]
  },
  {
   "cell_type": "code",
   "execution_count": null,
   "metadata": {
    "collapsed": true
   },
   "outputs": [],
   "source": []
  }
 ],
 "metadata": {
  "kernelspec": {
   "display_name": "Python 3",
   "language": "python",
   "name": "python3"
  },
  "language_info": {
   "codemirror_mode": {
    "name": "ipython",
    "version": 3
   },
   "file_extension": ".py",
   "mimetype": "text/x-python",
   "name": "python",
   "nbconvert_exporter": "python",
   "pygments_lexer": "ipython3",
   "version": "3.7.3"
  }
 },
 "nbformat": 4,
 "nbformat_minor": 2
}
