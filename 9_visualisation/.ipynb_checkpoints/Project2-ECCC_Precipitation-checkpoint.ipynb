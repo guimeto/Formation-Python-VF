{
 "cells": [
  {
   "cell_type": "markdown",
   "metadata": {},
   "source": [
    "<img src=\"./figures/pylogo.png\" alt=\"Indentation\" width=\"50%\" height=\"50%\">\n",
    "\n",
    "\n",
    "\n",
    "\n",
    "## Projet 2: Données de précipitation d'Environnement et Changement Climatique Canada \n",
    "\n",
    "\n",
    "Nous continuerons de découvrir la fonctionnalité de ces bibliothèques dans un cas pratique en analysant maintenant les données de précipitations quotidiennes enregistrées par les stations ECCC situées à l'aéroport de Montréal Trudeau entre la période 1961 et 2010.\n",
    "\n",
    "Nous utiliserons le fichier 'MONTREAL_preacc_1961_2010.dat' dans le répertoire .data /.\n",
    "\n",
    "### 1- Ouverture et lecture de nos séries de données"
   ]
  },
  {
   "cell_type": "code",
   "execution_count": 2,
   "metadata": {},
   "outputs": [],
   "source": [
    "import numpy as np\n",
    "import pandas as pd\n",
    "import datetime\n",
    "from datetime import date\n",
    "import numpy as np \n",
    "import warnings\n",
    "warnings.filterwarnings(\"ignore\")\n",
    "\n",
    "df_Precipitation = pd.DataFrame()\n",
    "# Ouverture du fichier text  \n",
    "with open('./DATA/MONTREAL_preacc_1961_2010.dat', 'r') as file:\n",
    "     rows = file.read()\n",
    "data_EC_Montreal = [float(row) for row in rows.split()]  \n",
    "\n",
    "# We know that the time series begins on January 1, 1961\n",
    "# and ends on December 31, 2010\n",
    "# We can rebuild the index of Dataframes\n",
    "\n",
    "start = date(1961, 1, 1)\n",
    "end = date(2010, 12, 31)\n",
    "delta=(end-start) \n",
    "nb_days = delta.days + 1 \n",
    "rng = pd.date_range(start, periods=nb_days, freq='D')\n",
    "\n",
    "# Create a column from the datetime datatype\n",
    "df_Precipitation['datetime'] = rng\n",
    "# Set the datetime column as the index\n",
    "df_Precipitation.index = df_Precipitation['datetime'] \n",
    "\n",
    "# Create a column from the numeric score variable\n",
    "df_Precipitation['Precipitation Montreal'] = data_EC_Montreal"
   ]
  },
  {
   "cell_type": "code",
   "execution_count": 3,
   "metadata": {},
   "outputs": [
    {
     "data": {
      "text/html": [
       "<div>\n",
       "<style scoped>\n",
       "    .dataframe tbody tr th:only-of-type {\n",
       "        vertical-align: middle;\n",
       "    }\n",
       "\n",
       "    .dataframe tbody tr th {\n",
       "        vertical-align: top;\n",
       "    }\n",
       "\n",
       "    .dataframe thead th {\n",
       "        text-align: right;\n",
       "    }\n",
       "</style>\n",
       "<table border=\"1\" class=\"dataframe\">\n",
       "  <thead>\n",
       "    <tr style=\"text-align: right;\">\n",
       "      <th></th>\n",
       "      <th>datetime</th>\n",
       "      <th>Precipitation Montreal</th>\n",
       "    </tr>\n",
       "    <tr>\n",
       "      <th>datetime</th>\n",
       "      <th></th>\n",
       "      <th></th>\n",
       "    </tr>\n",
       "  </thead>\n",
       "  <tbody>\n",
       "    <tr>\n",
       "      <th>1961-01-01</th>\n",
       "      <td>1961-01-01</td>\n",
       "      <td>22.66</td>\n",
       "    </tr>\n",
       "    <tr>\n",
       "      <th>1961-01-02</th>\n",
       "      <td>1961-01-02</td>\n",
       "      <td>1.05</td>\n",
       "    </tr>\n",
       "    <tr>\n",
       "      <th>1961-01-03</th>\n",
       "      <td>1961-01-03</td>\n",
       "      <td>1.05</td>\n",
       "    </tr>\n",
       "    <tr>\n",
       "      <th>1961-01-04</th>\n",
       "      <td>1961-01-04</td>\n",
       "      <td>0.66</td>\n",
       "    </tr>\n",
       "    <tr>\n",
       "      <th>1961-01-05</th>\n",
       "      <td>1961-01-05</td>\n",
       "      <td>0.00</td>\n",
       "    </tr>\n",
       "  </tbody>\n",
       "</table>\n",
       "</div>"
      ],
      "text/plain": [
       "             datetime  Precipitation Montreal\n",
       "datetime                                     \n",
       "1961-01-01 1961-01-01                   22.66\n",
       "1961-01-02 1961-01-02                    1.05\n",
       "1961-01-03 1961-01-03                    1.05\n",
       "1961-01-04 1961-01-04                    0.66\n",
       "1961-01-05 1961-01-05                    0.00"
      ]
     },
     "execution_count": 3,
     "metadata": {},
     "output_type": "execute_result"
    }
   ],
   "source": [
    "df_Precipitation.head()"
   ]
  },
  {
   "cell_type": "code",
   "execution_count": 4,
   "metadata": {},
   "outputs": [
    {
     "name": "stdout",
     "output_type": "stream",
     "text": [
      "| datetime            | datetime            |   Precipitation Montreal |\n",
      "|:--------------------|:--------------------|-------------------------:|\n",
      "| 1961-01-01 00:00:00 | 1961-01-01 00:00:00 |                    22.66 |\n",
      "| 1961-01-02 00:00:00 | 1961-01-02 00:00:00 |                     1.05 |\n",
      "| 1961-01-03 00:00:00 | 1961-01-03 00:00:00 |                     1.05 |\n",
      "| 1961-01-04 00:00:00 | 1961-01-04 00:00:00 |                     0.66 |\n",
      "| 1961-01-05 00:00:00 | 1961-01-05 00:00:00 |                     0    |\n"
     ]
    }
   ],
   "source": [
    "from tabulate import tabulate\n",
    "print(tabulate(df_Precipitation.head(), headers='keys', tablefmt='pipe'))"
   ]
  },
  {
   "cell_type": "markdown",
   "metadata": {},
   "source": [
    "### 2- Application des indices de précipitations:\n",
    "\n",
    "- CDD: calcul du nombre maximum de jours secs consécutifs (Précipitations <1mm)\n",
    "- CWD: calcul du nombre maximum de jours de pluie consécutifs (Précipitations> 1mm)\n",
    "- Prcp1: calcul du pourcentage de jours de précipitations (Précipitations> 1mm)\n",
    "- SDII: calcul de l'intensité moyenne des précipitations pour les jours de pluie (Précipitations> 1mm"
   ]
  },
  {
   "cell_type": "code",
   "execution_count": 5,
   "metadata": {},
   "outputs": [],
   "source": [
    "# calculation of the maximum number of consecutive dry days (inf to 1mm) \n",
    "# on the incoming signal (less than 20% of missing values) \n",
    "def CDD(S):\n",
    "     import numpy as np\n",
    "     ind_CDD=[]\n",
    "     S_no_nan = S[~np.isnan(S)]\n",
    "     N = len(S)\n",
    "     N2 = len(S_no_nan)\n",
    "     if ((N2/N) < 0.8): \n",
    "         ind_CDD = np.empty(1)\n",
    "         ind_CDD = np.nan\n",
    "     else:\n",
    "         temp = 0\n",
    "         ind_CDD = 0 \n",
    "         j =0\n",
    "         while (j < N2):\n",
    "             while (j < N2 ) and (S_no_nan[j] < 1.0 ):\n",
    "                 j += 1\n",
    "                 temp +=1\n",
    "             if ind_CDD < temp:\n",
    "                 ind_CDD = temp\n",
    "             temp = 0\n",
    "             j += 1 \n",
    "     return ind_CDD      \n",
    " \n",
    "# calculation of the maximum number of consecutive wet days (sup to 1mm) \n",
    "# on the incoming signal (less than 20% of missing values) \n",
    "def CWD(S):\n",
    "     import numpy as np\n",
    "     ind_CWD=[]\n",
    "     S_no_nan = S[~np.isnan(S)]\n",
    "     N = len(S)\n",
    "     N2 = len(S_no_nan)\n",
    "     if ((N2/N) < 0.8): \n",
    "         ind_CWD = np.empty(1)\n",
    "         ind_CWD = np.nan\n",
    "     else:\n",
    "         temp = 0\n",
    "         ind_CWD = 0 \n",
    "         j =0\n",
    "         while (j < N2):\n",
    "             while (j < N2 ) and (S_no_nan[j] > 1.0 ):\n",
    "                 j += 1\n",
    "                 temp +=1\n",
    "             if ind_CWD < temp:\n",
    "                 ind_CWD = temp\n",
    "             temp = 0\n",
    "             j += 1 \n",
    "     return ind_CWD  \n",
    "\n",
    "# Calculation of the percentage of precipitation days \n",
    "# on the incoming signal (less than 20% of missing values)\n",
    "def Prcp1(S):\n",
    "     import numpy as np\n",
    "     ind_Prcp1=[]\n",
    "     S_no_nan = S[~np.isnan(S)]\n",
    "     N = len(S)\n",
    "     N2 = len(S_no_nan)\n",
    "     if (N2 == 0):\n",
    "         N2=1\n",
    "         \n",
    "     if ((N2/N) < 0.8): \n",
    "         ind_Prcp1 = np.empty(1)\n",
    "         ind_Prcp1 = np.nan\n",
    "     else:\n",
    "         ind_Prcp1 = 0\n",
    "         for row in S_no_nan:\n",
    "             if row >= 1 :\n",
    "                 ind_Prcp1 += 1 \n",
    "                 \n",
    "         ind_Prcp1 = 100 * (ind_Prcp1/N2)\n",
    "     return ind_Prcp1     \n",
    "\n",
    "# average precipitation intensity for wet days (PR greater than 1mm) (less than 20% missing values)\n",
    "\n",
    "def SDII(S):\n",
    "     import numpy as np\n",
    "     ind_SDII=[]\n",
    "     S_no_nan = S[~np.isnan(S)]\n",
    "     N = len(S)\n",
    "     N2 = len(S_no_nan)\n",
    "     if ((N2/N) < 0.8): \n",
    "         ind_SDII = np.empty(1)\n",
    "         ind_SDII = np.nan\n",
    "     else:\n",
    "         SS = S[S > 1]        \n",
    "         ind_SDII = np.nanmean(SS)\n",
    "     return ind_SDII      "
   ]
  },
  {
   "cell_type": "markdown",
   "metadata": {},
   "source": [
    "Les fonctions précédentes permettent de calculer des indices de précipitations sur un signal journalier. Nous voulons appliquer ces fonctions chaque mois.\n",
    "\n",
    "Nous devons donc travailler avec un sous-ensemble de notre dataframe <b> df_Precipitation </b> groupé par mois.\n",
    "\n",
    "De la même manière que la section précédente sur les températures, nous appliquerons la méthode <b> .resample ('M') </b>: \"M\" pendant des mois (il est possible ici de travailler à l'échelle de la semaine, de la saison ou de l'année)\n",
    "Pour rappel, à ce stade il n'y a pas de calcul, les données sont simplement triées sur une base mensuelle."
   ]
  },
  {
   "cell_type": "code",
   "execution_count": 6,
   "metadata": {},
   "outputs": [
    {
     "data": {
      "text/html": [
       "<div>\n",
       "<style scoped>\n",
       "    .dataframe tbody tr th:only-of-type {\n",
       "        vertical-align: middle;\n",
       "    }\n",
       "\n",
       "    .dataframe tbody tr th {\n",
       "        vertical-align: top;\n",
       "    }\n",
       "\n",
       "    .dataframe thead th {\n",
       "        text-align: right;\n",
       "    }\n",
       "</style>\n",
       "<table border=\"1\" class=\"dataframe\">\n",
       "  <thead>\n",
       "    <tr style=\"text-align: right;\">\n",
       "      <th></th>\n",
       "      <th>datetime</th>\n",
       "      <th>Precipitation Montreal</th>\n",
       "    </tr>\n",
       "    <tr>\n",
       "      <th>datetime</th>\n",
       "      <th></th>\n",
       "      <th></th>\n",
       "    </tr>\n",
       "  </thead>\n",
       "  <tbody>\n",
       "    <tr>\n",
       "      <th>1961-01-31</th>\n",
       "      <td>31</td>\n",
       "      <td>31</td>\n",
       "    </tr>\n",
       "    <tr>\n",
       "      <th>1961-02-28</th>\n",
       "      <td>28</td>\n",
       "      <td>28</td>\n",
       "    </tr>\n",
       "    <tr>\n",
       "      <th>1961-03-31</th>\n",
       "      <td>31</td>\n",
       "      <td>31</td>\n",
       "    </tr>\n",
       "    <tr>\n",
       "      <th>1961-04-30</th>\n",
       "      <td>30</td>\n",
       "      <td>30</td>\n",
       "    </tr>\n",
       "    <tr>\n",
       "      <th>1961-05-31</th>\n",
       "      <td>31</td>\n",
       "      <td>31</td>\n",
       "    </tr>\n",
       "  </tbody>\n",
       "</table>\n",
       "</div>"
      ],
      "text/plain": [
       "            datetime  Precipitation Montreal\n",
       "datetime                                    \n",
       "1961-01-31        31                      31\n",
       "1961-02-28        28                      28\n",
       "1961-03-31        31                      31\n",
       "1961-04-30        30                      30\n",
       "1961-05-31        31                      31"
      ]
     },
     "execution_count": 6,
     "metadata": {},
     "output_type": "execute_result"
    }
   ],
   "source": [
    "df_Precipitation_resamp = df_Precipitation.resample('M')\n",
    "df_Precipitation_resamp.count().head()            "
   ]
  },
  {
   "cell_type": "code",
   "execution_count": 7,
   "metadata": {},
   "outputs": [
    {
     "name": "stdout",
     "output_type": "stream",
     "text": [
      "| datetime            |   datetime |   Precipitation Montreal |\n",
      "|:--------------------|-----------:|-------------------------:|\n",
      "| 1961-01-31 00:00:00 |         31 |                       31 |\n",
      "| 1961-02-28 00:00:00 |         28 |                       28 |\n",
      "| 1961-03-31 00:00:00 |         31 |                       31 |\n",
      "| 1961-04-30 00:00:00 |         30 |                       30 |\n",
      "| 1961-05-31 00:00:00 |         31 |                       31 |\n"
     ]
    }
   ],
   "source": [
    "from tabulate import tabulate\n",
    "print(tabulate(df_Precipitation_resamp.count().head() , headers='keys', tablefmt='pipe'))"
   ]
  },
  {
   "cell_type": "markdown",
   "metadata": {},
   "source": [
    "Nous pouvons maintenant appliquer nos fonctions définies précédemment pour chaque mois de notre DataFrame. Pour cela, nous utiliserons la méthode <b> .agg () </b> sur notre sous-ensemble groupé par mois."
   ]
  },
  {
   "cell_type": "code",
   "execution_count": 8,
   "metadata": {
    "scrolled": true
   },
   "outputs": [
    {
     "data": {
      "text/html": [
       "<div>\n",
       "<style scoped>\n",
       "    .dataframe tbody tr th:only-of-type {\n",
       "        vertical-align: middle;\n",
       "    }\n",
       "\n",
       "    .dataframe tbody tr th {\n",
       "        vertical-align: top;\n",
       "    }\n",
       "\n",
       "    .dataframe thead tr th {\n",
       "        text-align: left;\n",
       "    }\n",
       "\n",
       "    .dataframe thead tr:last-of-type th {\n",
       "        text-align: right;\n",
       "    }\n",
       "</style>\n",
       "<table border=\"1\" class=\"dataframe\">\n",
       "  <thead>\n",
       "    <tr>\n",
       "      <th></th>\n",
       "      <th colspan=\"6\" halign=\"left\">Precipitation Montreal</th>\n",
       "    </tr>\n",
       "    <tr>\n",
       "      <th></th>\n",
       "      <th>CDD</th>\n",
       "      <th>CWD</th>\n",
       "      <th>Prcp1</th>\n",
       "      <th>SDII</th>\n",
       "      <th>sum</th>\n",
       "      <th>mean</th>\n",
       "    </tr>\n",
       "    <tr>\n",
       "      <th>datetime</th>\n",
       "      <th></th>\n",
       "      <th></th>\n",
       "      <th></th>\n",
       "      <th></th>\n",
       "      <th></th>\n",
       "      <th></th>\n",
       "    </tr>\n",
       "  </thead>\n",
       "  <tbody>\n",
       "    <tr>\n",
       "      <th>1961-01-31</th>\n",
       "      <td>14.0</td>\n",
       "      <td>3.0</td>\n",
       "      <td>29.032258</td>\n",
       "      <td>5.691111</td>\n",
       "      <td>55.09</td>\n",
       "      <td>1.777097</td>\n",
       "    </tr>\n",
       "    <tr>\n",
       "      <th>1961-02-28</th>\n",
       "      <td>12.0</td>\n",
       "      <td>3.0</td>\n",
       "      <td>28.571429</td>\n",
       "      <td>9.895000</td>\n",
       "      <td>80.87</td>\n",
       "      <td>2.888214</td>\n",
       "    </tr>\n",
       "    <tr>\n",
       "      <th>1961-03-31</th>\n",
       "      <td>16.0</td>\n",
       "      <td>3.0</td>\n",
       "      <td>25.806452</td>\n",
       "      <td>11.868750</td>\n",
       "      <td>97.59</td>\n",
       "      <td>3.148065</td>\n",
       "    </tr>\n",
       "    <tr>\n",
       "      <th>1961-04-30</th>\n",
       "      <td>4.0</td>\n",
       "      <td>3.0</td>\n",
       "      <td>50.000000</td>\n",
       "      <td>6.683333</td>\n",
       "      <td>102.70</td>\n",
       "      <td>3.423333</td>\n",
       "    </tr>\n",
       "    <tr>\n",
       "      <th>1961-05-31</th>\n",
       "      <td>5.0</td>\n",
       "      <td>3.0</td>\n",
       "      <td>41.935484</td>\n",
       "      <td>5.130000</td>\n",
       "      <td>70.22</td>\n",
       "      <td>2.265161</td>\n",
       "    </tr>\n",
       "  </tbody>\n",
       "</table>\n",
       "</div>"
      ],
      "text/plain": [
       "           Precipitation Montreal                                             \n",
       "                              CDD  CWD      Prcp1       SDII     sum      mean\n",
       "datetime                                                                      \n",
       "1961-01-31                   14.0  3.0  29.032258   5.691111   55.09  1.777097\n",
       "1961-02-28                   12.0  3.0  28.571429   9.895000   80.87  2.888214\n",
       "1961-03-31                   16.0  3.0  25.806452  11.868750   97.59  3.148065\n",
       "1961-04-30                    4.0  3.0  50.000000   6.683333  102.70  3.423333\n",
       "1961-05-31                    5.0  3.0  41.935484   5.130000   70.22  2.265161"
      ]
     },
     "execution_count": 8,
     "metadata": {},
     "output_type": "execute_result"
    }
   ],
   "source": [
    "indice_precipitation = df_Precipitation_resamp.agg([CDD, CWD, Prcp1, SDII, np.sum, np.mean])\n",
    "indice_precipitation.head()"
   ]
  },
  {
   "cell_type": "code",
   "execution_count": 9,
   "metadata": {},
   "outputs": [
    {
     "name": "stdout",
     "output_type": "stream",
     "text": [
      "| datetime            |   ('Precipitation Montreal', 'CDD') |   ('Precipitation Montreal', 'CWD') |   ('Precipitation Montreal', 'Prcp1') |   ('Precipitation Montreal', 'SDII') |   ('Precipitation Montreal', 'sum') |   ('Precipitation Montreal', 'mean') |\n",
      "|:--------------------|------------------------------------:|------------------------------------:|--------------------------------------:|-------------------------------------:|------------------------------------:|-------------------------------------:|\n",
      "| 1961-01-31 00:00:00 |                                  14 |                                   3 |                               29.0323 |                              5.69111 |                               55.09 |                              1.7771  |\n",
      "| 1961-02-28 00:00:00 |                                  12 |                                   3 |                               28.5714 |                              9.895   |                               80.87 |                              2.88821 |\n",
      "| 1961-03-31 00:00:00 |                                  16 |                                   3 |                               25.8065 |                             11.8687  |                               97.59 |                              3.14806 |\n",
      "| 1961-04-30 00:00:00 |                                   4 |                                   3 |                               50      |                              6.68333 |                              102.7  |                              3.42333 |\n",
      "| 1961-05-31 00:00:00 |                                   5 |                                   3 |                               41.9355 |                              5.13    |                               70.22 |                              2.26516 |\n"
     ]
    }
   ],
   "source": [
    "from tabulate import tabulate\n",
    "print(tabulate(indice_precipitation.head() , headers='keys', tablefmt='pipe'))"
   ]
  },
  {
   "cell_type": "markdown",
   "metadata": {},
   "source": [
    "### 3- Filtrer les données directement sur notre DataFrame\n",
    "\n",
    "- les données peuvent être filtrées selon une condition sur une colonne.\n",
    "\n",
    "On n'extraira par exemple que les données de précipitations supérieures ou égales à 1 mm."
   ]
  },
  {
   "cell_type": "code",
   "execution_count": 10,
   "metadata": {},
   "outputs": [
    {
     "data": {
      "text/html": [
       "<div>\n",
       "<style scoped>\n",
       "    .dataframe tbody tr th:only-of-type {\n",
       "        vertical-align: middle;\n",
       "    }\n",
       "\n",
       "    .dataframe tbody tr th {\n",
       "        vertical-align: top;\n",
       "    }\n",
       "\n",
       "    .dataframe thead th {\n",
       "        text-align: right;\n",
       "    }\n",
       "</style>\n",
       "<table border=\"1\" class=\"dataframe\">\n",
       "  <thead>\n",
       "    <tr style=\"text-align: right;\">\n",
       "      <th></th>\n",
       "      <th>datetime</th>\n",
       "      <th>Precipitation Montreal</th>\n",
       "    </tr>\n",
       "    <tr>\n",
       "      <th>datetime</th>\n",
       "      <th></th>\n",
       "      <th></th>\n",
       "    </tr>\n",
       "  </thead>\n",
       "  <tbody>\n",
       "    <tr>\n",
       "      <th>1961-01-01</th>\n",
       "      <td>1961-01-01</td>\n",
       "      <td>22.66</td>\n",
       "    </tr>\n",
       "    <tr>\n",
       "      <th>1961-01-02</th>\n",
       "      <td>1961-01-02</td>\n",
       "      <td>1.05</td>\n",
       "    </tr>\n",
       "    <tr>\n",
       "      <th>1961-01-03</th>\n",
       "      <td>1961-01-03</td>\n",
       "      <td>1.05</td>\n",
       "    </tr>\n",
       "    <tr>\n",
       "      <th>1961-01-06</th>\n",
       "      <td>1961-01-06</td>\n",
       "      <td>8.65</td>\n",
       "    </tr>\n",
       "    <tr>\n",
       "      <th>1961-01-07</th>\n",
       "      <td>1961-01-07</td>\n",
       "      <td>4.05</td>\n",
       "    </tr>\n",
       "  </tbody>\n",
       "</table>\n",
       "</div>"
      ],
      "text/plain": [
       "             datetime  Precipitation Montreal\n",
       "datetime                                     \n",
       "1961-01-01 1961-01-01                   22.66\n",
       "1961-01-02 1961-01-02                    1.05\n",
       "1961-01-03 1961-01-03                    1.05\n",
       "1961-01-06 1961-01-06                    8.65\n",
       "1961-01-07 1961-01-07                    4.05"
      ]
     },
     "execution_count": 10,
     "metadata": {},
     "output_type": "execute_result"
    }
   ],
   "source": [
    "SDII2=df_Precipitation[df_Precipitation[\"Precipitation Montreal\"]>=1.0]\n",
    "SDII2.head()"
   ]
  },
  {
   "cell_type": "code",
   "execution_count": 11,
   "metadata": {},
   "outputs": [
    {
     "name": "stdout",
     "output_type": "stream",
     "text": [
      "| datetime            | datetime            |   Precipitation Montreal |\n",
      "|:--------------------|:--------------------|-------------------------:|\n",
      "| 1961-01-01 00:00:00 | 1961-01-01 00:00:00 |                    22.66 |\n",
      "| 1961-01-02 00:00:00 | 1961-01-02 00:00:00 |                     1.05 |\n",
      "| 1961-01-03 00:00:00 | 1961-01-03 00:00:00 |                     1.05 |\n",
      "| 1961-01-06 00:00:00 | 1961-01-06 00:00:00 |                     8.65 |\n",
      "| 1961-01-07 00:00:00 | 1961-01-07 00:00:00 |                     4.05 |\n"
     ]
    }
   ],
   "source": [
    "from tabulate import tabulate\n",
    "print(tabulate(SDII2.head() , headers='keys', tablefmt='pipe'))"
   ]
  },
  {
   "cell_type": "markdown",
   "metadata": {},
   "source": [
    "Nous avons d'abord créé un masque de type booléen sur la colonne «Précipitation Montréal» qui a ensuite été appliqué à notre DataFrame."
   ]
  },
  {
   "cell_type": "code",
   "execution_count": 12,
   "metadata": {},
   "outputs": [
    {
     "data": {
      "text/plain": [
       "datetime\n",
       "1961-01-01     True\n",
       "1961-01-02     True\n",
       "1961-01-03     True\n",
       "1961-01-04    False\n",
       "1961-01-05    False\n",
       "Name: Precipitation Montreal, dtype: bool"
      ]
     },
     "execution_count": 12,
     "metadata": {},
     "output_type": "execute_result"
    }
   ],
   "source": [
    "(df_Precipitation[\"Precipitation Montreal\"]>1.0).head()"
   ]
  },
  {
   "cell_type": "markdown",
   "metadata": {},
   "source": [
    "Nous regroupons ensuite notre DataFrame par mois et nous appliquons une fonction en appelant la méthode .agg ().\n"
   ]
  },
  {
   "cell_type": "code",
   "execution_count": 13,
   "metadata": {},
   "outputs": [
    {
     "data": {
      "text/html": [
       "<div>\n",
       "<style scoped>\n",
       "    .dataframe tbody tr th:only-of-type {\n",
       "        vertical-align: middle;\n",
       "    }\n",
       "\n",
       "    .dataframe tbody tr th {\n",
       "        vertical-align: top;\n",
       "    }\n",
       "\n",
       "    .dataframe thead tr th {\n",
       "        text-align: left;\n",
       "    }\n",
       "\n",
       "    .dataframe thead tr:last-of-type th {\n",
       "        text-align: right;\n",
       "    }\n",
       "</style>\n",
       "<table border=\"1\" class=\"dataframe\">\n",
       "  <thead>\n",
       "    <tr>\n",
       "      <th></th>\n",
       "      <th>SDII2</th>\n",
       "    </tr>\n",
       "    <tr>\n",
       "      <th></th>\n",
       "      <th>Precipitation Montreal</th>\n",
       "    </tr>\n",
       "    <tr>\n",
       "      <th>datetime</th>\n",
       "      <th></th>\n",
       "    </tr>\n",
       "  </thead>\n",
       "  <tbody>\n",
       "    <tr>\n",
       "      <th>1961-01-31</th>\n",
       "      <td>5.691111</td>\n",
       "    </tr>\n",
       "    <tr>\n",
       "      <th>1961-02-28</th>\n",
       "      <td>9.895000</td>\n",
       "    </tr>\n",
       "    <tr>\n",
       "      <th>1961-03-31</th>\n",
       "      <td>11.868750</td>\n",
       "    </tr>\n",
       "    <tr>\n",
       "      <th>1961-04-30</th>\n",
       "      <td>6.683333</td>\n",
       "    </tr>\n",
       "    <tr>\n",
       "      <th>1961-05-31</th>\n",
       "      <td>5.130000</td>\n",
       "    </tr>\n",
       "  </tbody>\n",
       "</table>\n",
       "</div>"
      ],
      "text/plain": [
       "                            SDII2\n",
       "           Precipitation Montreal\n",
       "datetime                         \n",
       "1961-01-31               5.691111\n",
       "1961-02-28               9.895000\n",
       "1961-03-31              11.868750\n",
       "1961-04-30               6.683333\n",
       "1961-05-31               5.130000"
      ]
     },
     "execution_count": 13,
     "metadata": {},
     "output_type": "execute_result"
    }
   ],
   "source": [
    "SDII2 = SDII2.resample('M').agg({'SDII2': lambda x: x.mean()})\n",
    "SDII2.head()"
   ]
  },
  {
   "cell_type": "code",
   "execution_count": 14,
   "metadata": {},
   "outputs": [
    {
     "name": "stdout",
     "output_type": "stream",
     "text": [
      "| datetime            |   ('SDII2', 'Precipitation Montreal') |\n",
      "|:--------------------|--------------------------------------:|\n",
      "| 1961-01-31 00:00:00 |                               5.69111 |\n",
      "| 1961-02-28 00:00:00 |                               9.895   |\n",
      "| 1961-03-31 00:00:00 |                              11.8688  |\n",
      "| 1961-04-30 00:00:00 |                               6.68333 |\n",
      "| 1961-05-31 00:00:00 |                               5.13    |\n"
     ]
    }
   ],
   "source": [
    "from tabulate import tabulate\n",
    "print(tabulate(SDII2.head() , headers='keys', tablefmt='pipe'))"
   ]
  },
  {
   "cell_type": "markdown",
   "metadata": {},
   "source": [
    "### 4- Mise à jour de notre DataFrame initial"
   ]
  },
  {
   "cell_type": "markdown",
   "metadata": {},
   "source": [
    "Nous voulons ajouter à notre DataFrame initial la variable SDII2 précédemment créée."
   ]
  },
  {
   "cell_type": "code",
   "execution_count": 15,
   "metadata": {},
   "outputs": [],
   "source": [
    "indice_precipitation[\"SDII2\"]=SDII2[:].values"
   ]
  },
  {
   "cell_type": "code",
   "execution_count": 16,
   "metadata": {},
   "outputs": [
    {
     "data": {
      "text/html": [
       "<div>\n",
       "<style scoped>\n",
       "    .dataframe tbody tr th:only-of-type {\n",
       "        vertical-align: middle;\n",
       "    }\n",
       "\n",
       "    .dataframe tbody tr th {\n",
       "        vertical-align: top;\n",
       "    }\n",
       "\n",
       "    .dataframe thead tr th {\n",
       "        text-align: left;\n",
       "    }\n",
       "\n",
       "    .dataframe thead tr:last-of-type th {\n",
       "        text-align: right;\n",
       "    }\n",
       "</style>\n",
       "<table border=\"1\" class=\"dataframe\">\n",
       "  <thead>\n",
       "    <tr>\n",
       "      <th></th>\n",
       "      <th colspan=\"6\" halign=\"left\">Precipitation Montreal</th>\n",
       "      <th>SDII2</th>\n",
       "    </tr>\n",
       "    <tr>\n",
       "      <th></th>\n",
       "      <th>CDD</th>\n",
       "      <th>CWD</th>\n",
       "      <th>Prcp1</th>\n",
       "      <th>SDII</th>\n",
       "      <th>sum</th>\n",
       "      <th>mean</th>\n",
       "      <th></th>\n",
       "    </tr>\n",
       "    <tr>\n",
       "      <th>datetime</th>\n",
       "      <th></th>\n",
       "      <th></th>\n",
       "      <th></th>\n",
       "      <th></th>\n",
       "      <th></th>\n",
       "      <th></th>\n",
       "      <th></th>\n",
       "    </tr>\n",
       "  </thead>\n",
       "  <tbody>\n",
       "    <tr>\n",
       "      <th>1961-01-31</th>\n",
       "      <td>14.0</td>\n",
       "      <td>3.0</td>\n",
       "      <td>29.032258</td>\n",
       "      <td>5.691111</td>\n",
       "      <td>55.09</td>\n",
       "      <td>1.777097</td>\n",
       "      <td>5.691111</td>\n",
       "    </tr>\n",
       "    <tr>\n",
       "      <th>1961-02-28</th>\n",
       "      <td>12.0</td>\n",
       "      <td>3.0</td>\n",
       "      <td>28.571429</td>\n",
       "      <td>9.895000</td>\n",
       "      <td>80.87</td>\n",
       "      <td>2.888214</td>\n",
       "      <td>9.895000</td>\n",
       "    </tr>\n",
       "    <tr>\n",
       "      <th>1961-03-31</th>\n",
       "      <td>16.0</td>\n",
       "      <td>3.0</td>\n",
       "      <td>25.806452</td>\n",
       "      <td>11.868750</td>\n",
       "      <td>97.59</td>\n",
       "      <td>3.148065</td>\n",
       "      <td>11.868750</td>\n",
       "    </tr>\n",
       "    <tr>\n",
       "      <th>1961-04-30</th>\n",
       "      <td>4.0</td>\n",
       "      <td>3.0</td>\n",
       "      <td>50.000000</td>\n",
       "      <td>6.683333</td>\n",
       "      <td>102.70</td>\n",
       "      <td>3.423333</td>\n",
       "      <td>6.683333</td>\n",
       "    </tr>\n",
       "    <tr>\n",
       "      <th>1961-05-31</th>\n",
       "      <td>5.0</td>\n",
       "      <td>3.0</td>\n",
       "      <td>41.935484</td>\n",
       "      <td>5.130000</td>\n",
       "      <td>70.22</td>\n",
       "      <td>2.265161</td>\n",
       "      <td>5.130000</td>\n",
       "    </tr>\n",
       "  </tbody>\n",
       "</table>\n",
       "</div>"
      ],
      "text/plain": [
       "           Precipitation Montreal                                     \\\n",
       "                              CDD  CWD      Prcp1       SDII     sum   \n",
       "datetime                                                               \n",
       "1961-01-31                   14.0  3.0  29.032258   5.691111   55.09   \n",
       "1961-02-28                   12.0  3.0  28.571429   9.895000   80.87   \n",
       "1961-03-31                   16.0  3.0  25.806452  11.868750   97.59   \n",
       "1961-04-30                    4.0  3.0  50.000000   6.683333  102.70   \n",
       "1961-05-31                    5.0  3.0  41.935484   5.130000   70.22   \n",
       "\n",
       "                          SDII2  \n",
       "                mean             \n",
       "datetime                         \n",
       "1961-01-31  1.777097   5.691111  \n",
       "1961-02-28  2.888214   9.895000  \n",
       "1961-03-31  3.148065  11.868750  \n",
       "1961-04-30  3.423333   6.683333  \n",
       "1961-05-31  2.265161   5.130000  "
      ]
     },
     "execution_count": 16,
     "metadata": {},
     "output_type": "execute_result"
    }
   ],
   "source": [
    "indice_precipitation.head()"
   ]
  },
  {
   "cell_type": "code",
   "execution_count": 17,
   "metadata": {},
   "outputs": [
    {
     "name": "stdout",
     "output_type": "stream",
     "text": [
      "| datetime            |   ('Precipitation Montreal', 'CDD') |   ('Precipitation Montreal', 'CWD') |   ('Precipitation Montreal', 'Prcp1') |   ('Precipitation Montreal', 'SDII') |   ('Precipitation Montreal', 'sum') |   ('Precipitation Montreal', 'mean') |   ('SDII2', '') |\n",
      "|:--------------------|------------------------------------:|------------------------------------:|--------------------------------------:|-------------------------------------:|------------------------------------:|-------------------------------------:|----------------:|\n",
      "| 1961-01-31 00:00:00 |                                  14 |                                   3 |                               29.0323 |                              5.69111 |                               55.09 |                              1.7771  |         5.69111 |\n",
      "| 1961-02-28 00:00:00 |                                  12 |                                   3 |                               28.5714 |                              9.895   |                               80.87 |                              2.88821 |         9.895   |\n",
      "| 1961-03-31 00:00:00 |                                  16 |                                   3 |                               25.8065 |                             11.8687  |                               97.59 |                              3.14806 |        11.8688  |\n",
      "| 1961-04-30 00:00:00 |                                   4 |                                   3 |                               50      |                              6.68333 |                              102.7  |                              3.42333 |         6.68333 |\n",
      "| 1961-05-31 00:00:00 |                                   5 |                                   3 |                               41.9355 |                              5.13    |                               70.22 |                              2.26516 |         5.13    |\n"
     ]
    }
   ],
   "source": [
    "from tabulate import tabulate\n",
    "print(tabulate(indice_precipitation.head() , headers='keys', tablefmt='pipe'))"
   ]
  },
  {
   "cell_type": "code",
   "execution_count": 18,
   "metadata": {},
   "outputs": [],
   "source": [
    "indice_precipitation.columns = indice_precipitation.columns.droplevel(0)"
   ]
  },
  {
   "cell_type": "code",
   "execution_count": 19,
   "metadata": {},
   "outputs": [
    {
     "data": {
      "text/html": [
       "<div>\n",
       "<style scoped>\n",
       "    .dataframe tbody tr th:only-of-type {\n",
       "        vertical-align: middle;\n",
       "    }\n",
       "\n",
       "    .dataframe tbody tr th {\n",
       "        vertical-align: top;\n",
       "    }\n",
       "\n",
       "    .dataframe thead th {\n",
       "        text-align: right;\n",
       "    }\n",
       "</style>\n",
       "<table border=\"1\" class=\"dataframe\">\n",
       "  <thead>\n",
       "    <tr style=\"text-align: right;\">\n",
       "      <th></th>\n",
       "      <th>CDD</th>\n",
       "      <th>CWD</th>\n",
       "      <th>Prcp1</th>\n",
       "      <th>SDII</th>\n",
       "      <th>sum</th>\n",
       "      <th>mean</th>\n",
       "      <th></th>\n",
       "    </tr>\n",
       "    <tr>\n",
       "      <th>datetime</th>\n",
       "      <th></th>\n",
       "      <th></th>\n",
       "      <th></th>\n",
       "      <th></th>\n",
       "      <th></th>\n",
       "      <th></th>\n",
       "      <th></th>\n",
       "    </tr>\n",
       "  </thead>\n",
       "  <tbody>\n",
       "    <tr>\n",
       "      <th>1961-01-31</th>\n",
       "      <td>14.0</td>\n",
       "      <td>3.0</td>\n",
       "      <td>29.032258</td>\n",
       "      <td>5.691111</td>\n",
       "      <td>55.09</td>\n",
       "      <td>1.777097</td>\n",
       "      <td>5.691111</td>\n",
       "    </tr>\n",
       "    <tr>\n",
       "      <th>1961-02-28</th>\n",
       "      <td>12.0</td>\n",
       "      <td>3.0</td>\n",
       "      <td>28.571429</td>\n",
       "      <td>9.895000</td>\n",
       "      <td>80.87</td>\n",
       "      <td>2.888214</td>\n",
       "      <td>9.895000</td>\n",
       "    </tr>\n",
       "    <tr>\n",
       "      <th>1961-03-31</th>\n",
       "      <td>16.0</td>\n",
       "      <td>3.0</td>\n",
       "      <td>25.806452</td>\n",
       "      <td>11.868750</td>\n",
       "      <td>97.59</td>\n",
       "      <td>3.148065</td>\n",
       "      <td>11.868750</td>\n",
       "    </tr>\n",
       "    <tr>\n",
       "      <th>1961-04-30</th>\n",
       "      <td>4.0</td>\n",
       "      <td>3.0</td>\n",
       "      <td>50.000000</td>\n",
       "      <td>6.683333</td>\n",
       "      <td>102.70</td>\n",
       "      <td>3.423333</td>\n",
       "      <td>6.683333</td>\n",
       "    </tr>\n",
       "    <tr>\n",
       "      <th>1961-05-31</th>\n",
       "      <td>5.0</td>\n",
       "      <td>3.0</td>\n",
       "      <td>41.935484</td>\n",
       "      <td>5.130000</td>\n",
       "      <td>70.22</td>\n",
       "      <td>2.265161</td>\n",
       "      <td>5.130000</td>\n",
       "    </tr>\n",
       "  </tbody>\n",
       "</table>\n",
       "</div>"
      ],
      "text/plain": [
       "             CDD  CWD      Prcp1       SDII     sum      mean           \n",
       "datetime                                                                \n",
       "1961-01-31  14.0  3.0  29.032258   5.691111   55.09  1.777097   5.691111\n",
       "1961-02-28  12.0  3.0  28.571429   9.895000   80.87  2.888214   9.895000\n",
       "1961-03-31  16.0  3.0  25.806452  11.868750   97.59  3.148065  11.868750\n",
       "1961-04-30   4.0  3.0  50.000000   6.683333  102.70  3.423333   6.683333\n",
       "1961-05-31   5.0  3.0  41.935484   5.130000   70.22  2.265161   5.130000"
      ]
     },
     "execution_count": 19,
     "metadata": {},
     "output_type": "execute_result"
    }
   ],
   "source": [
    "indice_precipitation.head()"
   ]
  },
  {
   "cell_type": "code",
   "execution_count": 20,
   "metadata": {},
   "outputs": [
    {
     "name": "stdout",
     "output_type": "stream",
     "text": [
      "| datetime            |   CDD |   CWD |   Prcp1 |     SDII |    sum |    mean |          |\n",
      "|:--------------------|------:|------:|--------:|---------:|-------:|--------:|---------:|\n",
      "| 1961-01-31 00:00:00 |    14 |     3 | 29.0323 |  5.69111 |  55.09 | 1.7771  |  5.69111 |\n",
      "| 1961-02-28 00:00:00 |    12 |     3 | 28.5714 |  9.895   |  80.87 | 2.88821 |  9.895   |\n",
      "| 1961-03-31 00:00:00 |    16 |     3 | 25.8065 | 11.8687  |  97.59 | 3.14806 | 11.8688  |\n",
      "| 1961-04-30 00:00:00 |     4 |     3 | 50      |  6.68333 | 102.7  | 3.42333 |  6.68333 |\n",
      "| 1961-05-31 00:00:00 |     5 |     3 | 41.9355 |  5.13    |  70.22 | 2.26516 |  5.13    |\n"
     ]
    }
   ],
   "source": [
    "from tabulate import tabulate\n",
    "print(tabulate(indice_precipitation.head() , headers='keys', tablefmt='pipe'))"
   ]
  },
  {
   "cell_type": "markdown",
   "metadata": {},
   "source": [
    "En utilisant la colonne index datetime, nous voulons créer de nouvelles colonnes avec l'année et le mois."
   ]
  },
  {
   "cell_type": "code",
   "execution_count": 21,
   "metadata": {},
   "outputs": [],
   "source": [
    "indice_precipitation['year']  = indice_precipitation.index.year\n",
    "indice_precipitation['month']  = indice_precipitation.index.month\n",
    "indice_precipitation['month'] = indice_precipitation.index.strftime('%b')"
   ]
  },
  {
   "cell_type": "code",
   "execution_count": 22,
   "metadata": {},
   "outputs": [
    {
     "data": {
      "text/html": [
       "<div>\n",
       "<style scoped>\n",
       "    .dataframe tbody tr th:only-of-type {\n",
       "        vertical-align: middle;\n",
       "    }\n",
       "\n",
       "    .dataframe tbody tr th {\n",
       "        vertical-align: top;\n",
       "    }\n",
       "\n",
       "    .dataframe thead th {\n",
       "        text-align: right;\n",
       "    }\n",
       "</style>\n",
       "<table border=\"1\" class=\"dataframe\">\n",
       "  <thead>\n",
       "    <tr style=\"text-align: right;\">\n",
       "      <th></th>\n",
       "      <th>CDD</th>\n",
       "      <th>CWD</th>\n",
       "      <th>Prcp1</th>\n",
       "      <th>SDII</th>\n",
       "      <th>sum</th>\n",
       "      <th>mean</th>\n",
       "      <th></th>\n",
       "      <th>year</th>\n",
       "      <th>month</th>\n",
       "    </tr>\n",
       "    <tr>\n",
       "      <th>datetime</th>\n",
       "      <th></th>\n",
       "      <th></th>\n",
       "      <th></th>\n",
       "      <th></th>\n",
       "      <th></th>\n",
       "      <th></th>\n",
       "      <th></th>\n",
       "      <th></th>\n",
       "      <th></th>\n",
       "    </tr>\n",
       "  </thead>\n",
       "  <tbody>\n",
       "    <tr>\n",
       "      <th>1961-01-31</th>\n",
       "      <td>14.0</td>\n",
       "      <td>3.0</td>\n",
       "      <td>29.032258</td>\n",
       "      <td>5.691111</td>\n",
       "      <td>55.09</td>\n",
       "      <td>1.777097</td>\n",
       "      <td>5.691111</td>\n",
       "      <td>1961</td>\n",
       "      <td>Jan</td>\n",
       "    </tr>\n",
       "    <tr>\n",
       "      <th>1961-02-28</th>\n",
       "      <td>12.0</td>\n",
       "      <td>3.0</td>\n",
       "      <td>28.571429</td>\n",
       "      <td>9.895000</td>\n",
       "      <td>80.87</td>\n",
       "      <td>2.888214</td>\n",
       "      <td>9.895000</td>\n",
       "      <td>1961</td>\n",
       "      <td>Feb</td>\n",
       "    </tr>\n",
       "    <tr>\n",
       "      <th>1961-03-31</th>\n",
       "      <td>16.0</td>\n",
       "      <td>3.0</td>\n",
       "      <td>25.806452</td>\n",
       "      <td>11.868750</td>\n",
       "      <td>97.59</td>\n",
       "      <td>3.148065</td>\n",
       "      <td>11.868750</td>\n",
       "      <td>1961</td>\n",
       "      <td>Mar</td>\n",
       "    </tr>\n",
       "    <tr>\n",
       "      <th>1961-04-30</th>\n",
       "      <td>4.0</td>\n",
       "      <td>3.0</td>\n",
       "      <td>50.000000</td>\n",
       "      <td>6.683333</td>\n",
       "      <td>102.70</td>\n",
       "      <td>3.423333</td>\n",
       "      <td>6.683333</td>\n",
       "      <td>1961</td>\n",
       "      <td>Apr</td>\n",
       "    </tr>\n",
       "    <tr>\n",
       "      <th>1961-05-31</th>\n",
       "      <td>5.0</td>\n",
       "      <td>3.0</td>\n",
       "      <td>41.935484</td>\n",
       "      <td>5.130000</td>\n",
       "      <td>70.22</td>\n",
       "      <td>2.265161</td>\n",
       "      <td>5.130000</td>\n",
       "      <td>1961</td>\n",
       "      <td>May</td>\n",
       "    </tr>\n",
       "  </tbody>\n",
       "</table>\n",
       "</div>"
      ],
      "text/plain": [
       "             CDD  CWD      Prcp1       SDII     sum      mean             \\\n",
       "datetime                                                                   \n",
       "1961-01-31  14.0  3.0  29.032258   5.691111   55.09  1.777097   5.691111   \n",
       "1961-02-28  12.0  3.0  28.571429   9.895000   80.87  2.888214   9.895000   \n",
       "1961-03-31  16.0  3.0  25.806452  11.868750   97.59  3.148065  11.868750   \n",
       "1961-04-30   4.0  3.0  50.000000   6.683333  102.70  3.423333   6.683333   \n",
       "1961-05-31   5.0  3.0  41.935484   5.130000   70.22  2.265161   5.130000   \n",
       "\n",
       "            year month  \n",
       "datetime                \n",
       "1961-01-31  1961   Jan  \n",
       "1961-02-28  1961   Feb  \n",
       "1961-03-31  1961   Mar  \n",
       "1961-04-30  1961   Apr  \n",
       "1961-05-31  1961   May  "
      ]
     },
     "execution_count": 22,
     "metadata": {},
     "output_type": "execute_result"
    }
   ],
   "source": [
    "indice_precipitation.head()"
   ]
  },
  {
   "cell_type": "code",
   "execution_count": 23,
   "metadata": {},
   "outputs": [
    {
     "name": "stdout",
     "output_type": "stream",
     "text": [
      "| datetime            |   CDD |   CWD |   Prcp1 |     SDII |    sum |    mean |          |   year | month   |\n",
      "|:--------------------|------:|------:|--------:|---------:|-------:|--------:|---------:|-------:|:--------|\n",
      "| 1961-01-31 00:00:00 |    14 |     3 | 29.0323 |  5.69111 |  55.09 | 1.7771  |  5.69111 |   1961 | Jan     |\n",
      "| 1961-02-28 00:00:00 |    12 |     3 | 28.5714 |  9.895   |  80.87 | 2.88821 |  9.895   |   1961 | Feb     |\n",
      "| 1961-03-31 00:00:00 |    16 |     3 | 25.8065 | 11.8687  |  97.59 | 3.14806 | 11.8688  |   1961 | Mar     |\n",
      "| 1961-04-30 00:00:00 |     4 |     3 | 50      |  6.68333 | 102.7  | 3.42333 |  6.68333 |   1961 | Apr     |\n",
      "| 1961-05-31 00:00:00 |     5 |     3 | 41.9355 |  5.13    |  70.22 | 2.26516 |  5.13    |   1961 | May     |\n"
     ]
    }
   ],
   "source": [
    "from tabulate import tabulate\n",
    "print(tabulate(indice_precipitation.head() , headers='keys', tablefmt='pipe'))"
   ]
  },
  {
   "cell_type": "markdown",
   "metadata": {},
   "source": [
    "Nous voulons sauvegarder notre Dataframe <b> indice_precipitation </b>."
   ]
  },
  {
   "cell_type": "code",
   "execution_count": 24,
   "metadata": {},
   "outputs": [],
   "source": [
    "indice_precipitation.to_csv('indice_precipitation.csv')"
   ]
  },
  {
   "cell_type": "markdown",
   "metadata": {},
   "source": [
    "### 4- Visualisation des résultats\n",
    "\n",
    "Nous allons visualiser notre dataframe final <b> index_precipitation </b> avec la bibliothèque Seaborn.\n",
    "<img src = \"./figures/seaborn.png\" alt = \"Seaborn\" width = \"60%\" height = \"70%\">\n",
    "\n",
    "Cependant, nous verrons quelques exemples avec des graphiques multidimensionnels.\n",
    "- Boxplot: fonction <b> boxplot () </b>\n",
    "\n",
    "\n",
    "Utilisons notre DataFrame de précipitations:"
   ]
  },
  {
   "cell_type": "code",
   "execution_count": 26,
   "metadata": {},
   "outputs": [],
   "source": [
    "import seaborn as sns \n",
    "import matplotlib.pyplot as plt "
   ]
  },
  {
   "cell_type": "code",
   "execution_count": 27,
   "metadata": {},
   "outputs": [
    {
     "data": {
      "text/html": [
       "<div>\n",
       "<style scoped>\n",
       "    .dataframe tbody tr th:only-of-type {\n",
       "        vertical-align: middle;\n",
       "    }\n",
       "\n",
       "    .dataframe tbody tr th {\n",
       "        vertical-align: top;\n",
       "    }\n",
       "\n",
       "    .dataframe thead th {\n",
       "        text-align: right;\n",
       "    }\n",
       "</style>\n",
       "<table border=\"1\" class=\"dataframe\">\n",
       "  <thead>\n",
       "    <tr style=\"text-align: right;\">\n",
       "      <th></th>\n",
       "      <th>CDD</th>\n",
       "      <th>CWD</th>\n",
       "      <th>Prcp1</th>\n",
       "      <th>SDII</th>\n",
       "      <th>sum</th>\n",
       "      <th>mean</th>\n",
       "      <th></th>\n",
       "      <th>year</th>\n",
       "      <th>month</th>\n",
       "    </tr>\n",
       "    <tr>\n",
       "      <th>datetime</th>\n",
       "      <th></th>\n",
       "      <th></th>\n",
       "      <th></th>\n",
       "      <th></th>\n",
       "      <th></th>\n",
       "      <th></th>\n",
       "      <th></th>\n",
       "      <th></th>\n",
       "      <th></th>\n",
       "    </tr>\n",
       "  </thead>\n",
       "  <tbody>\n",
       "    <tr>\n",
       "      <th>1961-01-31</th>\n",
       "      <td>14.0</td>\n",
       "      <td>3.0</td>\n",
       "      <td>29.032258</td>\n",
       "      <td>5.691111</td>\n",
       "      <td>55.09</td>\n",
       "      <td>1.777097</td>\n",
       "      <td>5.691111</td>\n",
       "      <td>1961</td>\n",
       "      <td>Jan</td>\n",
       "    </tr>\n",
       "    <tr>\n",
       "      <th>1961-02-28</th>\n",
       "      <td>12.0</td>\n",
       "      <td>3.0</td>\n",
       "      <td>28.571429</td>\n",
       "      <td>9.895000</td>\n",
       "      <td>80.87</td>\n",
       "      <td>2.888214</td>\n",
       "      <td>9.895000</td>\n",
       "      <td>1961</td>\n",
       "      <td>Feb</td>\n",
       "    </tr>\n",
       "    <tr>\n",
       "      <th>1961-03-31</th>\n",
       "      <td>16.0</td>\n",
       "      <td>3.0</td>\n",
       "      <td>25.806452</td>\n",
       "      <td>11.868750</td>\n",
       "      <td>97.59</td>\n",
       "      <td>3.148065</td>\n",
       "      <td>11.868750</td>\n",
       "      <td>1961</td>\n",
       "      <td>Mar</td>\n",
       "    </tr>\n",
       "    <tr>\n",
       "      <th>1961-04-30</th>\n",
       "      <td>4.0</td>\n",
       "      <td>3.0</td>\n",
       "      <td>50.000000</td>\n",
       "      <td>6.683333</td>\n",
       "      <td>102.70</td>\n",
       "      <td>3.423333</td>\n",
       "      <td>6.683333</td>\n",
       "      <td>1961</td>\n",
       "      <td>Apr</td>\n",
       "    </tr>\n",
       "    <tr>\n",
       "      <th>1961-05-31</th>\n",
       "      <td>5.0</td>\n",
       "      <td>3.0</td>\n",
       "      <td>41.935484</td>\n",
       "      <td>5.130000</td>\n",
       "      <td>70.22</td>\n",
       "      <td>2.265161</td>\n",
       "      <td>5.130000</td>\n",
       "      <td>1961</td>\n",
       "      <td>May</td>\n",
       "    </tr>\n",
       "  </tbody>\n",
       "</table>\n",
       "</div>"
      ],
      "text/plain": [
       "             CDD  CWD      Prcp1       SDII     sum      mean             \\\n",
       "datetime                                                                   \n",
       "1961-01-31  14.0  3.0  29.032258   5.691111   55.09  1.777097   5.691111   \n",
       "1961-02-28  12.0  3.0  28.571429   9.895000   80.87  2.888214   9.895000   \n",
       "1961-03-31  16.0  3.0  25.806452  11.868750   97.59  3.148065  11.868750   \n",
       "1961-04-30   4.0  3.0  50.000000   6.683333  102.70  3.423333   6.683333   \n",
       "1961-05-31   5.0  3.0  41.935484   5.130000   70.22  2.265161   5.130000   \n",
       "\n",
       "            year month  \n",
       "datetime                \n",
       "1961-01-31  1961   Jan  \n",
       "1961-02-28  1961   Feb  \n",
       "1961-03-31  1961   Mar  \n",
       "1961-04-30  1961   Apr  \n",
       "1961-05-31  1961   May  "
      ]
     },
     "execution_count": 27,
     "metadata": {},
     "output_type": "execute_result"
    }
   ],
   "source": [
    "indice_precipitation.head()"
   ]
  },
  {
   "cell_type": "code",
   "execution_count": 28,
   "metadata": {},
   "outputs": [
    {
     "name": "stdout",
     "output_type": "stream",
     "text": [
      "| datetime            |   CDD |   CWD |   Prcp1 |     SDII |    sum |    mean |          |   year | month   |\n",
      "|:--------------------|------:|------:|--------:|---------:|-------:|--------:|---------:|-------:|:--------|\n",
      "| 1961-01-31 00:00:00 |    14 |     3 | 29.0323 |  5.69111 |  55.09 | 1.7771  |  5.69111 |   1961 | Jan     |\n",
      "| 1961-02-28 00:00:00 |    12 |     3 | 28.5714 |  9.895   |  80.87 | 2.88821 |  9.895   |   1961 | Feb     |\n",
      "| 1961-03-31 00:00:00 |    16 |     3 | 25.8065 | 11.8687  |  97.59 | 3.14806 | 11.8688  |   1961 | Mar     |\n",
      "| 1961-04-30 00:00:00 |     4 |     3 | 50      |  6.68333 | 102.7  | 3.42333 |  6.68333 |   1961 | Apr     |\n",
      "| 1961-05-31 00:00:00 |     5 |     3 | 41.9355 |  5.13    |  70.22 | 2.26516 |  5.13    |   1961 | May     |\n"
     ]
    }
   ],
   "source": [
    "from tabulate import tabulate\n",
    "print(tabulate(indice_precipitation.head() , headers='keys', tablefmt='pipe'))"
   ]
  },
  {
   "cell_type": "markdown",
   "metadata": {},
   "source": [
    "Nous voulons visualiser le nombre de jours avec des précipitations par mois. Nous allons ensuite tracer la variable Prcp1 à partir de notre DataFrame."
   ]
  },
  {
   "cell_type": "code",
   "execution_count": 29,
   "metadata": {},
   "outputs": [
    {
     "data": {
      "image/png": "[encoded data removed]",
      "text/plain": [
       "<Figure size 864x576 with 1 Axes>"
      ]
     },
     "metadata": {
      "needs_background": "light"
     },
     "output_type": "display_data"
    }
   ],
   "source": [
    "import seaborn as sns\n",
    "import matplotlib.pyplot as plt \n",
    "ax = plt.axes()\n",
    "sns.boxplot(x=\"month\", y=\"Prcp1\", data=indice_precipitation, palette=\"Set1\") \n",
    "\n",
    "ax.set_title('Number of days with precipitation in Montreal from 1948 to 2017')\n",
    "ax.set_ylabel('%')\n",
    "\n",
    "figure = ax.get_figure()    \n",
    "figure.set_size_inches(12, 8) \n",
    "plt.show()"
   ]
  },
  {
   "cell_type": "markdown",
   "metadata": {},
   "source": [
    "\n",
    "- Histogramme: fonction <b> barplot () </b>\n",
    "\n",
    "Pour cet exemple, nous allons tracer l'accumulation moyenne de la pré-participation par mois, pour ce faire, nous devons utiliser la variable «sum»."
   ]
  },
  {
   "cell_type": "code",
   "execution_count": 30,
   "metadata": {},
   "outputs": [
    {
     "data": {
      "image/png": "[encoded data removed]",
      "text/plain": [
       "<Figure size 864x576 with 1 Axes>"
      ]
     },
     "metadata": {
      "needs_background": "light"
     },
     "output_type": "display_data"
    }
   ],
   "source": [
    "ax = plt.axes()\n",
    "sns.barplot(x=\"month\", y=\"sum\", data=indice_precipitation)\n",
    "ax.set_title('Monthly mean of cumulated precipitation in Montréal from 1948 to 2017')\n",
    "ax.set_ylabel('mm')\n",
    "\n",
    "figure = ax.get_figure()    \n",
    "figure.set_size_inches(12, 8) \n",
    "plt.show()"
   ]
  },
  {
   "cell_type": "markdown",
   "metadata": {},
   "source": [
    "\n",
    "- graphe bivarié: fonction <b> jointplot () </b>\n",
    "\n",
    "Jointplot affiche une relation entre 2 variables (bivariée)\n",
    "\n",
    "https://seaborn.pydata.org/generated/seaborn.jointplot.html\n"
   ]
  },
  {
   "cell_type": "code",
   "execution_count": 31,
   "metadata": {
    "scrolled": false
   },
   "outputs": [
    {
     "data": {
      "image/png": "[encoded data removed]",
      "text/plain": [
       "<Figure size 432x432 with 3 Axes>"
      ]
     },
     "metadata": {
      "needs_background": "light"
     },
     "output_type": "display_data"
    }
   ],
   "source": [
    "sns.jointplot(x=\"Prcp1\", y=\"sum\", data=indice_precipitation,kind='reg',\n",
    "                   space=0, height=6, ratio=4)\n",
    "plt.show()\n",
    "\n",
    "# kind = 'kde' \n",
    "# kind=\"hex\"\n",
    "# kind=\"reg\""
   ]
  },
  {
   "cell_type": "markdown",
   "metadata": {},
   "source": [
    "- graphe bivarié: fonction <b> pairplot () </b>\n",
    "https://seaborn.pydata.org/generated/seaborn.pairplot.html\n"
   ]
  },
  {
   "cell_type": "code",
   "execution_count": 32,
   "metadata": {
    "scrolled": false
   },
   "outputs": [
    {
     "data": {
      "image/png": "[encoded data removed]",
      "text/plain": [
       "<Figure size 777.6x648 with 30 Axes>"
      ]
     },
     "metadata": {
      "needs_background": "light"
     },
     "output_type": "display_data"
    }
   ],
   "source": [
    "# Attributes of interest\n",
    "cols = ['CWD', \n",
    "        'SDII', \n",
    "        'sum', \n",
    "        'Prcp1', \n",
    "        'mean']\n",
    "\n",
    "pp = sns.pairplot(indice_precipitation[cols], \n",
    "                  height=1.8, aspect=1.2, markers=\"+\",\n",
    "                  plot_kws=dict(edgecolor=\"k\", linewidth=0.5),\n",
    "                  diag_kws=dict(shade=True), # \"diag\" adjusts/tunes the diagonal plots\n",
    "                  diag_kind=\"kde\") # use \"kde\" for diagonal plots\n",
    "\n",
    "fig = pp.fig \n",
    "fig.subplots_adjust(top=0.93, wspace=0.3)\n",
    "fig.suptitle('Indice de précipitation Pairwise Plots', \n",
    "              fontsize=14, fontweight='bold')\n",
    "plt.show()\n",
    "\n",
    "\n"
   ]
  },
  {
   "cell_type": "markdown",
   "metadata": {},
   "source": [
    "- Matrice de corrélation:\n",
    "La bibliothèque Pandas dispose d'une méthode pour calculer les corrélations entre chaque colonne d'un DataFrame.\n",
    "\n",
    "https://pandas.pydata.org/pandas-docs/stable/reference/api/pandas.DataFrame.corr.html\n",
    "\n"
   ]
  },
  {
   "cell_type": "code",
   "execution_count": 33,
   "metadata": {},
   "outputs": [
    {
     "data": {
      "text/html": [
       "<div>\n",
       "<style scoped>\n",
       "    .dataframe tbody tr th:only-of-type {\n",
       "        vertical-align: middle;\n",
       "    }\n",
       "\n",
       "    .dataframe tbody tr th {\n",
       "        vertical-align: top;\n",
       "    }\n",
       "\n",
       "    .dataframe thead th {\n",
       "        text-align: right;\n",
       "    }\n",
       "</style>\n",
       "<table border=\"1\" class=\"dataframe\">\n",
       "  <thead>\n",
       "    <tr style=\"text-align: right;\">\n",
       "      <th></th>\n",
       "      <th>CDD</th>\n",
       "      <th>CWD</th>\n",
       "      <th>Prcp1</th>\n",
       "      <th>SDII</th>\n",
       "      <th>sum</th>\n",
       "      <th>mean</th>\n",
       "      <th></th>\n",
       "      <th>year</th>\n",
       "      <th>month</th>\n",
       "    </tr>\n",
       "    <tr>\n",
       "      <th>datetime</th>\n",
       "      <th></th>\n",
       "      <th></th>\n",
       "      <th></th>\n",
       "      <th></th>\n",
       "      <th></th>\n",
       "      <th></th>\n",
       "      <th></th>\n",
       "      <th></th>\n",
       "      <th></th>\n",
       "    </tr>\n",
       "  </thead>\n",
       "  <tbody>\n",
       "    <tr>\n",
       "      <th>1961-01-31</th>\n",
       "      <td>14.0</td>\n",
       "      <td>3.0</td>\n",
       "      <td>29.032258</td>\n",
       "      <td>5.691111</td>\n",
       "      <td>55.09</td>\n",
       "      <td>1.777097</td>\n",
       "      <td>5.691111</td>\n",
       "      <td>1961</td>\n",
       "      <td>Jan</td>\n",
       "    </tr>\n",
       "    <tr>\n",
       "      <th>1961-02-28</th>\n",
       "      <td>12.0</td>\n",
       "      <td>3.0</td>\n",
       "      <td>28.571429</td>\n",
       "      <td>9.895000</td>\n",
       "      <td>80.87</td>\n",
       "      <td>2.888214</td>\n",
       "      <td>9.895000</td>\n",
       "      <td>1961</td>\n",
       "      <td>Feb</td>\n",
       "    </tr>\n",
       "    <tr>\n",
       "      <th>1961-03-31</th>\n",
       "      <td>16.0</td>\n",
       "      <td>3.0</td>\n",
       "      <td>25.806452</td>\n",
       "      <td>11.868750</td>\n",
       "      <td>97.59</td>\n",
       "      <td>3.148065</td>\n",
       "      <td>11.868750</td>\n",
       "      <td>1961</td>\n",
       "      <td>Mar</td>\n",
       "    </tr>\n",
       "    <tr>\n",
       "      <th>1961-04-30</th>\n",
       "      <td>4.0</td>\n",
       "      <td>3.0</td>\n",
       "      <td>50.000000</td>\n",
       "      <td>6.683333</td>\n",
       "      <td>102.70</td>\n",
       "      <td>3.423333</td>\n",
       "      <td>6.683333</td>\n",
       "      <td>1961</td>\n",
       "      <td>Apr</td>\n",
       "    </tr>\n",
       "    <tr>\n",
       "      <th>1961-05-31</th>\n",
       "      <td>5.0</td>\n",
       "      <td>3.0</td>\n",
       "      <td>41.935484</td>\n",
       "      <td>5.130000</td>\n",
       "      <td>70.22</td>\n",
       "      <td>2.265161</td>\n",
       "      <td>5.130000</td>\n",
       "      <td>1961</td>\n",
       "      <td>May</td>\n",
       "    </tr>\n",
       "  </tbody>\n",
       "</table>\n",
       "</div>"
      ],
      "text/plain": [
       "             CDD  CWD      Prcp1       SDII     sum      mean             \\\n",
       "datetime                                                                   \n",
       "1961-01-31  14.0  3.0  29.032258   5.691111   55.09  1.777097   5.691111   \n",
       "1961-02-28  12.0  3.0  28.571429   9.895000   80.87  2.888214   9.895000   \n",
       "1961-03-31  16.0  3.0  25.806452  11.868750   97.59  3.148065  11.868750   \n",
       "1961-04-30   4.0  3.0  50.000000   6.683333  102.70  3.423333   6.683333   \n",
       "1961-05-31   5.0  3.0  41.935484   5.130000   70.22  2.265161   5.130000   \n",
       "\n",
       "            year month  \n",
       "datetime                \n",
       "1961-01-31  1961   Jan  \n",
       "1961-02-28  1961   Feb  \n",
       "1961-03-31  1961   Mar  \n",
       "1961-04-30  1961   Apr  \n",
       "1961-05-31  1961   May  "
      ]
     },
     "execution_count": 33,
     "metadata": {},
     "output_type": "execute_result"
    }
   ],
   "source": [
    "indice_precipitation.head()"
   ]
  },
  {
   "cell_type": "code",
   "execution_count": null,
   "metadata": {},
   "outputs": [],
   "source": []
  },
  {
   "cell_type": "code",
   "execution_count": 34,
   "metadata": {},
   "outputs": [
    {
     "name": "stdout",
     "output_type": "stream",
     "text": [
      "| datetime            |   CDD |   CWD |   Prcp1 |     SDII |    sum |    mean |          |   year | month   |\n",
      "|:--------------------|------:|------:|--------:|---------:|-------:|--------:|---------:|-------:|:--------|\n",
      "| 1961-01-31 00:00:00 |    14 |     3 | 29.0323 |  5.69111 |  55.09 | 1.7771  |  5.69111 |   1961 | Jan     |\n",
      "| 1961-02-28 00:00:00 |    12 |     3 | 28.5714 |  9.895   |  80.87 | 2.88821 |  9.895   |   1961 | Feb     |\n",
      "| 1961-03-31 00:00:00 |    16 |     3 | 25.8065 | 11.8687  |  97.59 | 3.14806 | 11.8688  |   1961 | Mar     |\n",
      "| 1961-04-30 00:00:00 |     4 |     3 | 50      |  6.68333 | 102.7  | 3.42333 |  6.68333 |   1961 | Apr     |\n",
      "| 1961-05-31 00:00:00 |     5 |     3 | 41.9355 |  5.13    |  70.22 | 2.26516 |  5.13    |   1961 | May     |\n"
     ]
    }
   ],
   "source": [
    "from tabulate import tabulate\n",
    "print(tabulate(indice_precipitation.head() , headers='keys', tablefmt='pipe'))"
   ]
  },
  {
   "cell_type": "markdown",
   "metadata": {},
   "source": [
    "Nous supprimons d'abord la colonne «année», puis appliquons la méthode .corr ()."
   ]
  },
  {
   "cell_type": "code",
   "execution_count": 35,
   "metadata": {},
   "outputs": [
    {
     "data": {
      "text/html": [
       "<div>\n",
       "<style scoped>\n",
       "    .dataframe tbody tr th:only-of-type {\n",
       "        vertical-align: middle;\n",
       "    }\n",
       "\n",
       "    .dataframe tbody tr th {\n",
       "        vertical-align: top;\n",
       "    }\n",
       "\n",
       "    .dataframe thead th {\n",
       "        text-align: right;\n",
       "    }\n",
       "</style>\n",
       "<table border=\"1\" class=\"dataframe\">\n",
       "  <thead>\n",
       "    <tr style=\"text-align: right;\">\n",
       "      <th></th>\n",
       "      <th>CDD</th>\n",
       "      <th>CWD</th>\n",
       "      <th>Prcp1</th>\n",
       "      <th>SDII</th>\n",
       "      <th>sum</th>\n",
       "      <th>mean</th>\n",
       "      <th></th>\n",
       "    </tr>\n",
       "  </thead>\n",
       "  <tbody>\n",
       "    <tr>\n",
       "      <th>CDD</th>\n",
       "      <td>1.000000</td>\n",
       "      <td>-0.288579</td>\n",
       "      <td>-0.687758</td>\n",
       "      <td>0.025358</td>\n",
       "      <td>-0.480416</td>\n",
       "      <td>-0.481019</td>\n",
       "      <td>0.025172</td>\n",
       "    </tr>\n",
       "    <tr>\n",
       "      <th>CWD</th>\n",
       "      <td>-0.288579</td>\n",
       "      <td>1.000000</td>\n",
       "      <td>0.631665</td>\n",
       "      <td>-0.040071</td>\n",
       "      <td>0.418940</td>\n",
       "      <td>0.417954</td>\n",
       "      <td>-0.039654</td>\n",
       "    </tr>\n",
       "    <tr>\n",
       "      <th>Prcp1</th>\n",
       "      <td>-0.687758</td>\n",
       "      <td>0.631665</td>\n",
       "      <td>1.000000</td>\n",
       "      <td>-0.064514</td>\n",
       "      <td>0.661685</td>\n",
       "      <td>0.663935</td>\n",
       "      <td>-0.064554</td>\n",
       "    </tr>\n",
       "    <tr>\n",
       "      <th>SDII</th>\n",
       "      <td>0.025358</td>\n",
       "      <td>-0.040071</td>\n",
       "      <td>-0.064514</td>\n",
       "      <td>1.000000</td>\n",
       "      <td>0.659944</td>\n",
       "      <td>0.661113</td>\n",
       "      <td>0.999642</td>\n",
       "    </tr>\n",
       "    <tr>\n",
       "      <th>sum</th>\n",
       "      <td>-0.480416</td>\n",
       "      <td>0.418940</td>\n",
       "      <td>0.661685</td>\n",
       "      <td>0.659944</td>\n",
       "      <td>1.000000</td>\n",
       "      <td>0.997694</td>\n",
       "      <td>0.660287</td>\n",
       "    </tr>\n",
       "    <tr>\n",
       "      <th>mean</th>\n",
       "      <td>-0.481019</td>\n",
       "      <td>0.417954</td>\n",
       "      <td>0.663935</td>\n",
       "      <td>0.661113</td>\n",
       "      <td>0.997694</td>\n",
       "      <td>1.000000</td>\n",
       "      <td>0.661422</td>\n",
       "    </tr>\n",
       "    <tr>\n",
       "      <th></th>\n",
       "      <td>0.025172</td>\n",
       "      <td>-0.039654</td>\n",
       "      <td>-0.064554</td>\n",
       "      <td>0.999642</td>\n",
       "      <td>0.660287</td>\n",
       "      <td>0.661422</td>\n",
       "      <td>1.000000</td>\n",
       "    </tr>\n",
       "  </tbody>\n",
       "</table>\n",
       "</div>"
      ],
      "text/plain": [
       "            CDD       CWD     Prcp1      SDII       sum      mean          \n",
       "CDD    1.000000 -0.288579 -0.687758  0.025358 -0.480416 -0.481019  0.025172\n",
       "CWD   -0.288579  1.000000  0.631665 -0.040071  0.418940  0.417954 -0.039654\n",
       "Prcp1 -0.687758  0.631665  1.000000 -0.064514  0.661685  0.663935 -0.064554\n",
       "SDII   0.025358 -0.040071 -0.064514  1.000000  0.659944  0.661113  0.999642\n",
       "sum   -0.480416  0.418940  0.661685  0.659944  1.000000  0.997694  0.660287\n",
       "mean  -0.481019  0.417954  0.663935  0.661113  0.997694  1.000000  0.661422\n",
       "       0.025172 -0.039654 -0.064554  0.999642  0.660287  0.661422  1.000000"
      ]
     },
     "execution_count": 35,
     "metadata": {},
     "output_type": "execute_result"
    }
   ],
   "source": [
    "indice_precipitation2 = indice_precipitation.drop([\"year\"], axis=1)\n",
    "corr_matrix = indice_precipitation2.corr()\n",
    "corr_matrix"
   ]
  },
  {
   "cell_type": "code",
   "execution_count": 36,
   "metadata": {},
   "outputs": [
    {
     "name": "stdout",
     "output_type": "stream",
     "text": [
      "|       |        CDD |        CWD |      Prcp1 |       SDII |       sum |      mean |            |\n",
      "|:------|-----------:|-----------:|-----------:|-----------:|----------:|----------:|-----------:|\n",
      "| CDD   |  1         | -0.288579  | -0.687758  |  0.0253577 | -0.480416 | -0.481019 |  0.0251715 |\n",
      "| CWD   | -0.288579  |  1         |  0.631665  | -0.0400715 |  0.41894  |  0.417954 | -0.0396542 |\n",
      "| Prcp1 | -0.687758  |  0.631665  |  1         | -0.0645136 |  0.661685 |  0.663935 | -0.0645538 |\n",
      "| SDII  |  0.0253577 | -0.0400715 | -0.0645136 |  1         |  0.659944 |  0.661113 |  0.999642  |\n",
      "| sum   | -0.480416  |  0.41894   |  0.661685  |  0.659944  |  1        |  0.997694 |  0.660287  |\n",
      "| mean  | -0.481019  |  0.417954  |  0.663935  |  0.661113  |  0.997694 |  1        |  0.661422  |\n",
      "|       |  0.0251715 | -0.0396542 | -0.0645538 |  0.999642  |  0.660287 |  0.661422 |  1         |\n"
     ]
    }
   ],
   "source": [
    "from tabulate import tabulate\n",
    "print(tabulate(corr_matrix, headers='keys', tablefmt='pipe'))"
   ]
  },
  {
   "cell_type": "markdown",
   "metadata": {},
   "source": [
    "Nous pouvons appeler la fonction <b> .heatmap () </b> pour visualiser notre matrice de corrélation et ainsi faciliter nos interprétations."
   ]
  },
  {
   "cell_type": "code",
   "execution_count": 37,
   "metadata": {
    "scrolled": false
   },
   "outputs": [
    {
     "data": {
      "image/png": "[encoded data removed]",
      "text/plain": [
       "<Figure size 720x432 with 2 Axes>"
      ]
     },
     "metadata": {
      "needs_background": "light"
     },
     "output_type": "display_data"
    }
   ],
   "source": [
    "fig, (ax) = plt.subplots(1, 1, figsize=(10,6))\n",
    "hm = sns.heatmap(corr_matrix, \n",
    "                 ax=ax,           # Axes in which to draw the plot, otherwise use the currently-active Axes.\n",
    "                 cmap=\"coolwarm\", # Color Map.\n",
    "                 #square=True,    # If True, set the Axes aspect to “equal” so each cell will be square-shaped.\n",
    "                 annot=True, \n",
    "                 fmt='.2f',       # String formatting code to use when adding annotations.\n",
    "                 #annot_kws={\"size\": 14},\n",
    "                 linewidths=.05)\n",
    "\n",
    "fig.subplots_adjust(top=0.93)\n",
    "fig.suptitle('Correlation Matrix: Precipitation Indices Montreal Station', \n",
    "              fontsize=14, \n",
    "              fontweight='bold')\n",
    "plt.show()"
   ]
  },
  {
   "cell_type": "markdown",
   "metadata": {},
   "source": [
    "\n",
    "### Bonus: ajoutez des indices de corrélation avec la bibliothèque scipy\n",
    "\n",
    "\n",
    "Le module <b> stats </b> de la <b> bibliothèque Scipy </b> possède de nombreuses fonctions statistiques.\n",
    "https://docs.scipy.org/doc/scipy/reference/stats.html\n"
   ]
  },
  {
   "cell_type": "code",
   "execution_count": 38,
   "metadata": {},
   "outputs": [],
   "source": [
    "def corr_pearson(x, y, **kws):\n",
    "    r, p = stats.pearsonr(x, y)\n",
    "    p_stars = ''\n",
    "    if p <= 0.05:\n",
    "        p_stars = '*'\n",
    "    if p <= 0.01:\n",
    "        p_stars = '**'\n",
    "    if p <= 0.001:\n",
    "        p_stars = '***'\n",
    "   # r, _ = stats.spearmanr(x, y)\n",
    "    ax = plt.gca()   \n",
    "    pos = (0, .9) \n",
    "    color2='red'                                                                   \n",
    "    ax.annotate(\"Pearson = {:.2f}\".format(r) + p_stars,\n",
    "                xy=pos, xycoords=ax.transAxes, color=color2, fontweight='bold')\n",
    "    \n",
    "\n",
    "def corr_spearman(x, y, **kws):\n",
    "    r, p = stats.spearmanr(x, y)\n",
    "    p_stars = ''\n",
    "    if p <= 0.05:\n",
    "        p_stars = '*'\n",
    "    if p <= 0.01:\n",
    "        p_stars = '**'\n",
    "    if p <= 0.001:\n",
    "        p_stars = '***'\n",
    "   # r, _ = stats.spearmanr(x, y)\n",
    "    ax = plt.gca()  \n",
    "    pos = (0, .6) \n",
    "    color2='darkgreen' \n",
    "    ax.annotate(\"Spearman = {:.2f}\".format(r) + p_stars,\n",
    "                xy=pos, xycoords=ax.transAxes, color=color2, fontweight='bold')\n",
    "\n",
    "def corr_kendall(x, y, **kws):\n",
    "    r, p = stats.kendalltau(x, y)\n",
    "    p_stars = ''\n",
    "    if p <= 0.05:\n",
    "        p_stars = '*'\n",
    "    if p <= 0.01:\n",
    "        p_stars = '**'\n",
    "    if p <= 0.001:\n",
    "        p_stars = '***'\n",
    "   # r, _ = stats.spearmanr(x, y)\n",
    "    ax = plt.gca()   \n",
    "    pos = (0, .3) \n",
    "    color2='darkorange' \n",
    "    ax.annotate(\"Kendall = {:.2f}\".format(r) + p_stars,\n",
    "                xy=pos, xycoords=ax.transAxes, color=color2, fontweight='bold')"
   ]
  },
  {
   "cell_type": "code",
   "execution_count": 39,
   "metadata": {
    "scrolled": true
   },
   "outputs": [
    {
     "data": {
      "text/html": [
       "<div>\n",
       "<style scoped>\n",
       "    .dataframe tbody tr th:only-of-type {\n",
       "        vertical-align: middle;\n",
       "    }\n",
       "\n",
       "    .dataframe tbody tr th {\n",
       "        vertical-align: top;\n",
       "    }\n",
       "\n",
       "    .dataframe thead th {\n",
       "        text-align: right;\n",
       "    }\n",
       "</style>\n",
       "<table border=\"1\" class=\"dataframe\">\n",
       "  <thead>\n",
       "    <tr style=\"text-align: right;\">\n",
       "      <th></th>\n",
       "      <th>CDD</th>\n",
       "      <th>CWD</th>\n",
       "      <th>Prcp1</th>\n",
       "      <th>SDII</th>\n",
       "      <th>sum</th>\n",
       "      <th>mean</th>\n",
       "      <th></th>\n",
       "      <th>year</th>\n",
       "      <th>month</th>\n",
       "    </tr>\n",
       "    <tr>\n",
       "      <th>datetime</th>\n",
       "      <th></th>\n",
       "      <th></th>\n",
       "      <th></th>\n",
       "      <th></th>\n",
       "      <th></th>\n",
       "      <th></th>\n",
       "      <th></th>\n",
       "      <th></th>\n",
       "      <th></th>\n",
       "    </tr>\n",
       "  </thead>\n",
       "  <tbody>\n",
       "    <tr>\n",
       "      <th>1961-01-31</th>\n",
       "      <td>14.0</td>\n",
       "      <td>3.0</td>\n",
       "      <td>29.032258</td>\n",
       "      <td>5.691111</td>\n",
       "      <td>55.09</td>\n",
       "      <td>1.777097</td>\n",
       "      <td>5.691111</td>\n",
       "      <td>1961</td>\n",
       "      <td>Jan</td>\n",
       "    </tr>\n",
       "    <tr>\n",
       "      <th>1961-02-28</th>\n",
       "      <td>12.0</td>\n",
       "      <td>3.0</td>\n",
       "      <td>28.571429</td>\n",
       "      <td>9.895000</td>\n",
       "      <td>80.87</td>\n",
       "      <td>2.888214</td>\n",
       "      <td>9.895000</td>\n",
       "      <td>1961</td>\n",
       "      <td>Feb</td>\n",
       "    </tr>\n",
       "    <tr>\n",
       "      <th>1961-03-31</th>\n",
       "      <td>16.0</td>\n",
       "      <td>3.0</td>\n",
       "      <td>25.806452</td>\n",
       "      <td>11.868750</td>\n",
       "      <td>97.59</td>\n",
       "      <td>3.148065</td>\n",
       "      <td>11.868750</td>\n",
       "      <td>1961</td>\n",
       "      <td>Mar</td>\n",
       "    </tr>\n",
       "    <tr>\n",
       "      <th>1961-04-30</th>\n",
       "      <td>4.0</td>\n",
       "      <td>3.0</td>\n",
       "      <td>50.000000</td>\n",
       "      <td>6.683333</td>\n",
       "      <td>102.70</td>\n",
       "      <td>3.423333</td>\n",
       "      <td>6.683333</td>\n",
       "      <td>1961</td>\n",
       "      <td>Apr</td>\n",
       "    </tr>\n",
       "    <tr>\n",
       "      <th>1961-05-31</th>\n",
       "      <td>5.0</td>\n",
       "      <td>3.0</td>\n",
       "      <td>41.935484</td>\n",
       "      <td>5.130000</td>\n",
       "      <td>70.22</td>\n",
       "      <td>2.265161</td>\n",
       "      <td>5.130000</td>\n",
       "      <td>1961</td>\n",
       "      <td>May</td>\n",
       "    </tr>\n",
       "  </tbody>\n",
       "</table>\n",
       "</div>"
      ],
      "text/plain": [
       "             CDD  CWD      Prcp1       SDII     sum      mean             \\\n",
       "datetime                                                                   \n",
       "1961-01-31  14.0  3.0  29.032258   5.691111   55.09  1.777097   5.691111   \n",
       "1961-02-28  12.0  3.0  28.571429   9.895000   80.87  2.888214   9.895000   \n",
       "1961-03-31  16.0  3.0  25.806452  11.868750   97.59  3.148065  11.868750   \n",
       "1961-04-30   4.0  3.0  50.000000   6.683333  102.70  3.423333   6.683333   \n",
       "1961-05-31   5.0  3.0  41.935484   5.130000   70.22  2.265161   5.130000   \n",
       "\n",
       "            year month  \n",
       "datetime                \n",
       "1961-01-31  1961   Jan  \n",
       "1961-02-28  1961   Feb  \n",
       "1961-03-31  1961   Mar  \n",
       "1961-04-30  1961   Apr  \n",
       "1961-05-31  1961   May  "
      ]
     },
     "execution_count": 39,
     "metadata": {},
     "output_type": "execute_result"
    }
   ],
   "source": [
    "indice_precipitation.head()"
   ]
  },
  {
   "cell_type": "code",
   "execution_count": 40,
   "metadata": {},
   "outputs": [],
   "source": [
    "indice_month=indice_precipitation[[\"CWD\", \"SDII\", \"sum\", \"Prcp1\"]].loc[(indice_precipitation[\"month\"]==\"Jan\")]"
   ]
  },
  {
   "cell_type": "code",
   "execution_count": 41,
   "metadata": {},
   "outputs": [
    {
     "data": {
      "image/png": "[encoded data removed]",
      "text/plain": [
       "<Figure size 720x720 with 20 Axes>"
      ]
     },
     "metadata": {},
     "output_type": "display_data"
    }
   ],
   "source": [
    "from scipy import stats\n",
    "import seaborn as sns; sns.set()\n",
    "\n",
    "g = sns.PairGrid(indice_month[[\"CWD\", \"SDII\", \"sum\", \"Prcp1\"]]) \n",
    "\n",
    "g.map_upper(corr_pearson) \n",
    "g.map_upper(corr_spearman) \n",
    "g.map_upper(corr_kendall) \n",
    "g.map_lower(sns.regplot) \n",
    "g.map_diag(plt.hist) \n",
    "g.set(alpha=0.5)\n",
    "plt.show()"
   ]
  }
 ],
 "metadata": {
  "kernelspec": {
   "display_name": "Python 3",
   "language": "python",
   "name": "python3"
  },
  "language_info": {
   "codemirror_mode": {
    "name": "ipython",
    "version": 3
   },
   "file_extension": ".py",
   "mimetype": "text/x-python",
   "name": "python",
   "nbconvert_exporter": "python",
   "pygments_lexer": "ipython3",
   "version": "3.7.3"
  }
 },
 "nbformat": 4,
 "nbformat_minor": 2
}
