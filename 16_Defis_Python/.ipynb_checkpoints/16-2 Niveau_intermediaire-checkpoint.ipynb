{
 "cells": [
  {
   "cell_type": "markdown",
   "metadata": {},
   "source": [
    "## Exercices Python\n",
    "\n",
    "### Niveau intermédiaire\n",
    "\n",
    "<b> - 1: Additionner les chiffres d'un nombre </b>"
   ]
  },
  {
   "cell_type": "code",
   "execution_count": 1,
   "metadata": {},
   "outputs": [
    {
     "name": "stdout",
     "output_type": "stream",
     "text": [
      "22\n"
     ]
    }
   ],
   "source": [
    "nombre = 209812\n",
    "list(str(nombre))\n",
    "total = 0\n",
    "for i in list(str(nombre)):\n",
    "    total = total + int(i)\n",
    "print(total)"
   ]
  },
  {
   "cell_type": "code",
   "execution_count": 2,
   "metadata": {},
   "outputs": [
    {
     "name": "stdout",
     "output_type": "stream",
     "text": [
      "22\n"
     ]
    }
   ],
   "source": [
    "nombre = 209812\n",
    "somme = sum([int(i) for i in str(nombre)])\n",
    "print(somme)"
   ]
  },
  {
   "cell_type": "markdown",
   "metadata": {},
   "source": [
    "POINTS IMPORTANTS À RETENIR\n",
    "\n",
    "Pour boucler sur chaque chiffre d'un nombre, on convertit le nombre en chaîne de caractère.\n",
    "\n",
    "Pour additionner ensemble tous les nombres contenus dans une liste, on utilise la fonction sum."
   ]
  },
  {
   "cell_type": "markdown",
   "metadata": {},
   "source": [
    "<b> - 2: Remplacer un élément d'une liste </b>"
   ]
  },
  {
   "cell_type": "code",
   "execution_count": 3,
   "metadata": {},
   "outputs": [
    {
     "name": "stdout",
     "output_type": "stream",
     "text": [
      "['Pierre', 'Marie', 'Julien', 'Adrien', 'Julien']\n"
     ]
    }
   ],
   "source": [
    "liste = [\"Pierre\", \"Marie\", \"Julie\", \"Adrien\", \"Julie\"]\n",
    " \n",
    "nom_a_chercher = \"Julie\"\n",
    "nouveau_nom = \"Julien\"\n",
    " \n",
    "liste = [x.replace(nom_a_chercher, nouveau_nom) for x in liste]\n",
    "print(liste)"
   ]
  },
  {
   "cell_type": "markdown",
   "metadata": {},
   "source": [
    "POINTS IMPORTANTS À RETENIR\n",
    "\n",
    "Pour remplacer un mot par un autre, on utilise la fonction replace.\n",
    "\n",
    "<b> - 3: Enlever les doublons d'une liste </b>"
   ]
  },
  {
   "cell_type": "code",
   "execution_count": 4,
   "metadata": {},
   "outputs": [
    {
     "name": "stdout",
     "output_type": "stream",
     "text": [
      "[1, 2, 3, 4, 5, 6, 7, 8, 9, 10]\n"
     ]
    }
   ],
   "source": [
    "nombres = [1, 2, 2, 3, 4, 5, 5, 5, 6, 7, 7, 8, 9, 10]\n",
    " \n",
    "nombres_sans_duplicats = []\n",
    " \n",
    "for i in nombres:\n",
    "    if i not in nombres_sans_duplicats:\n",
    "        nombres_sans_duplicats.append(i)\n",
    " \n",
    "print(nombres_sans_duplicats)"
   ]
  },
  {
   "cell_type": "markdown",
   "metadata": {},
   "source": [
    "POINTS IMPORTANTS À RETENIR\n",
    "\n",
    "Pour vérifier si un élément est déjà présent ou non dans une liste, on utilise la syntaxe i in liste. Si le nombre est déjà dans la liste, cette syntaxe retournera True, si non, False.\n",
    "\n",
    "<b> - 4: Ajouter des éléments à un dictionnaire </b>"
   ]
  },
  {
   "cell_type": "code",
   "execution_count": 5,
   "metadata": {},
   "outputs": [
    {
     "name": "stdout",
     "output_type": "stream",
     "text": [
      "{'id-01': 'Pierre', 'id-02': 'Marie', 'id-03': 'Adrien'}\n"
     ]
    }
   ],
   "source": [
    "employes = {}\n",
    " \n",
    "liste = [10, 2329, 5, \"Pierre\", 203, \"Marie\", 867, \"Adrien\"]\n",
    " \n",
    "i = 1\n",
    " \n",
    "for element in liste:\n",
    "    if not str(element).isdigit():\n",
    "        employes[\"id-{:02d}\".format(i)] = element\n",
    "        i += 1\n",
    " \n",
    "print(employes)"
   ]
  },
  {
   "cell_type": "markdown",
   "metadata": {},
   "source": [
    "POINTS IMPORTANTS À RETENIR\n",
    "\n",
    "Pour vérifier si une chaîne de caractère ne contient que des nombres, on utilise la fonction isdigit.\n",
    "\n",
    "Pour formatter un nombre pour qu'il contienne toujours 2 chiffres, on utilise la syntaxe 02d à l'intérieur d'accolades utilisées pour la fonction format."
   ]
  },
  {
   "cell_type": "markdown",
   "metadata": {},
   "source": [
    "<b> - 5: Créer un dictionnaire avec les lettres de l'alphabet </b>"
   ]
  },
  {
   "cell_type": "code",
   "execution_count": 6,
   "metadata": {},
   "outputs": [
    {
     "name": "stdout",
     "output_type": "stream",
     "text": [
      "{1: 'a', 2: 'b', 3: 'c', 4: 'd', 5: 'e', 6: 'f', 7: 'g', 8: 'h', 9: 'i', 10: 'j', 11: 'k', 12: 'l', 13: 'm', 14: 'n', 15: 'o', 16: 'p', 17: 'q', 18: 'r', 19: 's', 20: 't', 21: 'u', 22: 'v', 23: 'w', 24: 'x', 25: 'y', 26: 'z'}\n"
     ]
    }
   ],
   "source": [
    "import string\n",
    " \n",
    "alphabet = string.ascii_lowercase\n",
    "indices = range(1, len(alphabet) + 1)\n",
    "liste_zip = zip(range(1, len(alphabet) + 1), alphabet)\n",
    "resultat = dict(liste_zip)\n",
    " \n",
    "print(resultat)"
   ]
  },
  {
   "cell_type": "markdown",
   "metadata": {},
   "source": [
    "EXPLICATION\n",
    "\n",
    "Dans cet exercice, nous utilisons la fonction zip, pour construire un dictionnaire comprenant les lettres de l'alphabet et leur position dans l'alphabet.\n",
    "\n",
    "Pour commencer, nous récupérons toutes les lettres de l'alphabet en minuscule, grâce au module string :"
   ]
  },
  {
   "cell_type": "code",
   "execution_count": 7,
   "metadata": {},
   "outputs": [
    {
     "name": "stdout",
     "output_type": "stream",
     "text": [
      "abcdefghijklmnopqrstuvwxyz\n"
     ]
    }
   ],
   "source": [
    "alphabet = string.ascii_lowercase\n",
    "print(alphabet)"
   ]
  },
  {
   "cell_type": "markdown",
   "metadata": {},
   "source": [
    "Ensuite, on créé une liste qui contient les nombres de 1 à la longueur de l'alphabet, grâce à la fonction range et la fonction len :"
   ]
  },
  {
   "cell_type": "code",
   "execution_count": 8,
   "metadata": {},
   "outputs": [
    {
     "name": "stdout",
     "output_type": "stream",
     "text": [
      "range(1, 27)\n"
     ]
    }
   ],
   "source": [
    "indices = range(1, len(alphabet) + 1)\n",
    "print(indices)"
   ]
  },
  {
   "cell_type": "markdown",
   "metadata": {},
   "source": [
    "On utilise ensuite la fonction zip, qui permet de créer une liste de tuples à partir de deux listes (la liste de nombres et les lettres de l'alphabet) :"
   ]
  },
  {
   "cell_type": "code",
   "execution_count": 9,
   "metadata": {},
   "outputs": [],
   "source": [
    "liste_zip = zip(range(1, len(alphabet) + 1), alphabet)"
   ]
  },
  {
   "cell_type": "markdown",
   "metadata": {},
   "source": [
    "Il ne nous reste plus qu'à utiliser la fonction dict pour convertir cette liste de tuple en dictionnaire.\n",
    "En effet, vous pouvez passer une liste contenant des tuples contenant deux éléments et la fonction dict va utiliser le premier élément comme clé et le deuxième élément comme valeur :"
   ]
  },
  {
   "cell_type": "code",
   "execution_count": 10,
   "metadata": {},
   "outputs": [
    {
     "name": "stdout",
     "output_type": "stream",
     "text": [
      "{1: 'a', 2: 'b', 3: 'c', 4: 'd', 5: 'e', 6: 'f', 7: 'g', 8: 'h', 9: 'i', 10: 'j', 11: 'k', 12: 'l', 13: 'm', 14: 'n', 15: 'o', 16: 'p', 17: 'q', 18: 'r', 19: 's', 20: 't', 21: 'u', 22: 'v', 23: 'w', 24: 'x', 25: 'y', 26: 'z'}\n"
     ]
    }
   ],
   "source": [
    "resultat = dict(liste_zip)\n",
    "print(resultat)"
   ]
  },
  {
   "cell_type": "markdown",
   "metadata": {},
   "source": [
    "POINTS IMPORTANTS À RETENIR\n",
    "\n",
    "Pour créer une liste de tuple à partir de deux listes, on utilise la fonction zip.\n",
    "\n",
    "Pour créer un dictionnaire à partir d'une liste de tuple, on peut utiliser la fonction dict."
   ]
  },
  {
   "cell_type": "markdown",
   "metadata": {},
   "source": [
    "<b> - 6: Recréer la fonction len </b>\n"
   ]
  },
  {
   "cell_type": "code",
   "execution_count": 11,
   "metadata": {},
   "outputs": [
    {
     "name": "stdout",
     "output_type": "stream",
     "text": [
      "7\n"
     ]
    }
   ],
   "source": [
    "def longueur(variable):\n",
    "    total = 0\n",
    "    for i in list(str(variable)):\n",
    "        total = total + 1\n",
    "    return(total)\n",
    "    \n",
    "print(longueur(\"bonjour\"))"
   ]
  },
  {
   "cell_type": "markdown",
   "metadata": {},
   "source": [
    "<b> - 7: Créer un motif avec des print </b>"
   ]
  },
  {
   "cell_type": "code",
   "execution_count": 12,
   "metadata": {},
   "outputs": [
    {
     "name": "stdout",
     "output_type": "stream",
     "text": [
      "*\n",
      "**\n",
      "***\n",
      "****\n",
      "*****\n",
      "******\n",
      "*******\n",
      "********\n",
      "*******\n",
      "******\n",
      "*****\n",
      "****\n",
      "***\n",
      "**\n",
      "*\n"
     ]
    }
   ],
   "source": [
    "n = 8\n",
    "symbole = \"*\"\n",
    "nombres = list(range(1, n+1)) + list(range(n-1, 0, -1))\n",
    "for i in nombres:\n",
    "    print(symbole*i)"
   ]
  },
  {
   "cell_type": "code",
   "execution_count": 13,
   "metadata": {},
   "outputs": [
    {
     "name": "stdout",
     "output_type": "stream",
     "text": [
      "         $ \n",
      "        $ $ \n",
      "       $ $ $ \n",
      "      $ $ $ $ \n",
      "     $ $ $ $ $ \n",
      "    $ $ $ $ $ $ \n",
      "   $ $ $ $ $ $ $ \n",
      "  $ $ $ $ $ $ $ $ \n",
      " $ $ $ $ $ $ $ $ $ \n",
      "$ $ $ $ $ $ $ $ $ $ \n"
     ]
    }
   ],
   "source": [
    "symbole = \"$\"\n",
    " \n",
    "taille = 10\n",
    " \n",
    "for i in range(1, taille + 1):\n",
    "    espaces = \" \" * (taille - i)\n",
    "    print(espaces + (symbole + \" \") * i)"
   ]
  },
  {
   "cell_type": "code",
   "execution_count": 14,
   "metadata": {},
   "outputs": [
    {
     "name": "stdout",
     "output_type": "stream",
     "text": [
      "         $          \n",
      "        $ $         \n",
      "       $ $ $        \n",
      "      $ $ $ $       \n",
      "     $ $ $ $ $      \n",
      "    $ $ $ $ $ $     \n",
      "   $ $ $ $ $ $ $    \n",
      "  $ $ $ $ $ $ $ $   \n",
      " $ $ $ $ $ $ $ $ $  \n",
      "$ $ $ $ $ $ $ $ $ $ \n"
     ]
    }
   ],
   "source": [
    "for i in range(1,taille+1):\n",
    "    print(\"{:^{}}\".format((symbole+\" \")*i, taille*2))"
   ]
  },
  {
   "cell_type": "markdown",
   "metadata": {
    "collapsed": true
   },
   "source": [
    "<b> - 8: Formater un texte avec la fonction format </b>\n",
    "\n",
    "https://www.programiz.com/python-programming/methods/string/format"
   ]
  },
  {
   "cell_type": "code",
   "execution_count": 15,
   "metadata": {},
   "outputs": [
    {
     "name": "stdout",
     "output_type": "stream",
     "text": [
      "-------------\n",
      "|     B     |\n",
      "|     o     |\n",
      "|     n     |\n",
      "|     j     |\n",
      "|     o     |\n",
      "|     u     |\n",
      "|     r     |\n",
      "|           |\n",
      "|     U     |\n",
      "|     d     |\n",
      "|     e     |\n",
      "|     m     |\n",
      "|     y     |\n",
      "-------------\n"
     ]
    }
   ],
   "source": [
    "texte = \"Bonjour Udemy\"\n",
    "longueur = len(texte)\n",
    " \n",
    "symbole1 = \"-\"\n",
    "symbole2 = \"|\"\n",
    " \n",
    "print(symbole1*longueur)\n",
    " \n",
    "for lettre in texte:\n",
    "    print(\"{0}{1:^{2}}{0}\".format(symbole2, lettre, longueur - 2))\n",
    " \n",
    "print(symbole1*longueur)"
   ]
  },
  {
   "cell_type": "markdown",
   "metadata": {},
   "source": [
    "Nous utilisons toute la puissance que nous permet la méthode format avec la syntaxe suivante :"
   ]
  },
  {
   "cell_type": "code",
   "execution_count": 16,
   "metadata": {},
   "outputs": [
    {
     "name": "stdout",
     "output_type": "stream",
     "text": [
      "|     y     |\n"
     ]
    }
   ],
   "source": [
    "print(\"{0}{1:^{2}}{0}\".format(symbole2, lettre, longueur - 2))"
   ]
  },
  {
   "cell_type": "markdown",
   "metadata": {},
   "source": [
    "Tout d'abord, nous définissons deux balises au début et à la fin de la chaîne de caractère, représentées par les accolades entourant le 0 : {0}  \n",
    "\n",
    "Cela nous permet d'afficher la symbole 2 au début et à la fin.\n",
    "\n",
    "Puis, nous utilisons la syntaxe suivante : {1:^{2}}\n",
    "\n",
    "Le 1 signifie que l'on insère à l'intérieur de cette accolade le 2e argument passé à la méthode format (la variable 'lettre', donc chaque lettre de notre variable texte, récupérée grâce à la boucle for).\n",
    "\n",
    "La deuxième partie, avec les deux points et l'accent circonflexe, signifie que l'on veut ajouter un 'padding' avant et après cette lettre : en gros, python va ajouter autant d'espaces que nécessaire avant et après la variable que l'on insère dans l'accolade, afin que le nombre total de caractère soit égal au nombre passé.\n",
    "Ce nombre, on lui passe grâce à l'accolade qui contient le 2, signifiant que l'on va passer ce nombre comme 3e argument à la méthode format. On passe comme nombre 'longueur - 2', donc la longueur du texte, minus les 2 symboles que l'on place au début et à la fin de la chaîne de caractère (rappelez-vous, les accolades avec le 0) :\n"
   ]
  },
  {
   "cell_type": "code",
   "execution_count": 17,
   "metadata": {},
   "outputs": [
    {
     "name": "stdout",
     "output_type": "stream",
     "text": [
      "|     y     |\n"
     ]
    }
   ],
   "source": [
    "print(\"{0}{1:^{2}}{0}\".format(symbole2, lettre, longueur - 2))"
   ]
  },
  {
   "cell_type": "markdown",
   "metadata": {},
   "source": [
    "POINTS IMPORTANTS À RETENIR\n",
    "\n",
    "Vous pouvez afficher plusieurs fois le même élément dans une chaîne de caractère avec la méthode format, en utilisant plusieurs fois le même indice à l'intérieur des accolades.\n",
    "Pour faire en sorte qu'une chaîne de caractère occupe un nombre précis de caractère, vous pouvez la 'padder' avec des espaces, en utilisant l'accent circonflexe à l'intérieur de votre chaîne de caractère et la méthode format.\n",
    "\n",
    "<b> - 9: Ajouter un séparateur de milliers à un nombre </b>"
   ]
  },
  {
   "cell_type": "code",
   "execution_count": 18,
   "metadata": {},
   "outputs": [
    {
     "name": "stdout",
     "output_type": "stream",
     "text": [
      "52,039,480,394,023\n"
     ]
    }
   ],
   "source": [
    "nombre = 52039480394023\n",
    "def ajout_separateur(nombre):\n",
    "    nombre = str(nombre)[::-1]\n",
    "    resultat = \"\"\n",
    " \n",
    "    for i, chiffre in enumerate(nombre, 1):\n",
    "        chiffre_formatte = chiffre + \",\" if i % 3 == 0 and i != len(nombre) else chiffre\n",
    "        #print(chiffre_formatte)\n",
    "        resultat += chiffre_formatte\n",
    " \n",
    "    return resultat[::-1]\n",
    " \n",
    "print(ajout_separateur(nombre))"
   ]
  },
  {
   "cell_type": "markdown",
   "metadata": {},
   "source": [
    "POINTS IMPORTANTS À RETENIR\n",
    "\n",
    "Pour inverser une chaîne de caractère, on peut utiliser la syntaxe [::-1]\n",
    "\n",
    "On peut passer un deuxième argument à la fonction enumerate pour commencer à un indice autre que 0.\n",
    "\n",
    "L'opérateur modulo permet de réaliser une opération tous les x itérations (car n % n est égal à 0).\n",
    "\n",
    "<b> - 10: Calculer l'année de naissance à partir d'un âge donné </b>"
   ]
  },
  {
   "cell_type": "code",
   "execution_count": 19,
   "metadata": {},
   "outputs": [
    {
     "name": "stdout",
     "output_type": "stream",
     "text": [
      "1994\n"
     ]
    }
   ],
   "source": [
    "from datetime import datetime\n",
    "age = 25\n",
    "mois_de_naissance = 10\n",
    "\n",
    "if datetime.today().month < mois_de_naissance:\n",
    "    year = (datetime.today().year - age) - 1 \n",
    "else:\n",
    "    year = (datetime.today().year - age)\n",
    "print(year)\n"
   ]
  },
  {
   "cell_type": "code",
   "execution_count": 20,
   "metadata": {},
   "outputs": [
    {
     "name": "stdout",
     "output_type": "stream",
     "text": [
      "1994\n"
     ]
    }
   ],
   "source": [
    "from datetime import datetime\n",
    " \n",
    "age = 25\n",
    "mois_de_naissance = 10\n",
    " \n",
    "annee_actuelle = datetime.today().year\n",
    "mois_actuel = datetime.today().month\n",
    " \n",
    "resultat = annee_actuelle - age - (1 if mois_de_naissance > mois_actuel else 0)\n",
    "print(resultat)"
   ]
  },
  {
   "cell_type": "markdown",
   "metadata": {},
   "source": [
    "<b> - 11: Calculer la somme des nombres entre deux nombres </b>"
   ]
  },
  {
   "cell_type": "code",
   "execution_count": 21,
   "metadata": {},
   "outputs": [
    {
     "name": "stdout",
     "output_type": "stream",
     "text": [
      "20\n"
     ]
    }
   ],
   "source": [
    "def somme(a, b):\n",
    "    result = [] \n",
    "    i = a \n",
    "    while i <= b:\n",
    "        result.append(i) \n",
    "        i +=1\n",
    "    return sum(result)\n",
    "\n",
    "print(somme(2,6))\n"
   ]
  },
  {
   "cell_type": "code",
   "execution_count": 22,
   "metadata": {},
   "outputs": [
    {
     "name": "stdout",
     "output_type": "stream",
     "text": [
      "20\n"
     ]
    }
   ],
   "source": [
    "def somme(a, b):\n",
    "    return sum(range(min(a, b), max(a, b) + 1))\n",
    " \n",
    "print(somme(2, 6))"
   ]
  },
  {
   "cell_type": "markdown",
   "metadata": {},
   "source": [
    "POINTS IMPORTANTS À RETENIR\n",
    "\n",
    "La fonction range retourne une liste vide si le premier nombre est plus grand que le second.\n",
    "Pour récupérer le nombre le plus petit ou le plus grand entre plusieurs nombres, on utilise les fonctions min et max.\n",
    "La fonction sum permet d'additionner une liste de nombres.\n",
    "\n",
    "<b> - 12: Trier une liste d'employés par rapport à leur  position dans l'alphabet </b>"
   ]
  },
  {
   "cell_type": "code",
   "execution_count": 23,
   "metadata": {},
   "outputs": [
    {
     "name": "stdout",
     "output_type": "stream",
     "text": [
      "Employés de A à M: Marie , Julien , Astrid\n",
      "Employés de N à Z: Pierre , Zoé\n"
     ]
    }
   ],
   "source": [
    "import string\n",
    "\n",
    "employes = [\"Pierre\",\"Marie\",\"Julien\",\"Astrid\",\"Zoé\"]\n",
    "alphabet = string.ascii_lowercase\n",
    "\n",
    "list1 = list(alphabet)[0:(int(len(alphabet)/2))]\n",
    "list2 = list(alphabet)[(int(len(alphabet)/2)):-1]\n",
    "employe1 = []\n",
    "employe2 = []\n",
    "for employe in employes: \n",
    "    if employe[0].lower().split()[0][0] in list1:\n",
    "        employe1.append(employe)\n",
    "    else:\n",
    "        employe2.append(employe)\n",
    "        \n",
    "print('Employés de A à M: ' + ' , '.join(employe1))\n",
    "print('Employés de N à Z: ' + ' , '.join(employe2))"
   ]
  },
  {
   "cell_type": "code",
   "execution_count": 24,
   "metadata": {},
   "outputs": [
    {
     "name": "stdout",
     "output_type": "stream",
     "text": [
      "Employés de A à M: \n",
      "Employés de N à Z: \n"
     ]
    }
   ],
   "source": [
    "import string\n",
    " \n",
    "employes = [\"Pierre\", \"Marie\", \"Julien\", \"Astrid\", \"Zoé\"]\n",
    " \n",
    "alphabet = string.ascii_uppercase\n",
    "milieu = int(len(alphabet) / 2)\n",
    "alphabet_01, alphabet_02 = alphabet[:milieu], alphabet[milieu:]\n",
    " \n",
    "employes_a_m = []\n",
    "employes_n_z = []\n",
    " \n",
    "for employe in employes:\n",
    "    premiere_lettre = employe[0].lower()\n",
    "    if premiere_lettre in alphabet_01:\n",
    "        employes_a_m.append(employe)\n",
    "    elif premiere_lettre in alphabet_02:\n",
    "        employes_n_z.append(employe)\n",
    "        \n",
    "print(\"Employés de A à M:\", \", \".join(sorted(employes_a_m)))\n",
    "print(\"Employés de N à Z:\", \", \".join(sorted(employes_n_z)))"
   ]
  },
  {
   "cell_type": "code",
   "execution_count": 25,
   "metadata": {},
   "outputs": [
    {
     "name": "stdout",
     "output_type": "stream",
     "text": [
      "Employés de A à M: Astrid, Julien, Marie\n",
      "Employés de N à Z: Pierre, Zoé\n"
     ]
    }
   ],
   "source": [
    "import string\n",
    " \n",
    "employes = [\"Pierre\", \"Marie\", \"Julien\", \"Astrid\", \"Zoé\"]\n",
    " \n",
    "alphabet = string.ascii_lowercase\n",
    "employes_a_m = [e for e in employes if e[0].lower() in alphabet[:13]]\n",
    "employes_n_z = [e for e in employes if e[0].lower() in alphabet[13:]]\n",
    " \n",
    "print(\"Employés de A à M:\", \", \".join(sorted(employes_a_m)))\n",
    "print(\"Employés de N à Z:\", \", \".join(sorted(employes_n_z)))"
   ]
  },
  {
   "cell_type": "markdown",
   "metadata": {},
   "source": [
    "<b> - 12: Créer une fonction pour remonter dans une strucure de dossiers </b>"
   ]
  },
  {
   "cell_type": "code",
   "execution_count": 26,
   "metadata": {},
   "outputs": [
    {
     "name": "stdout",
     "output_type": "stream",
     "text": [
      "/Users/Thibh/Desktop\n"
     ]
    }
   ],
   "source": [
    "import os\n",
    "dossier = \"/Users/Thibh/Desktop/Dossier_01/Tutoriel/Udemy\"\n",
    "\n",
    "def remonter_dossier(dossier, iterations):\n",
    "    i = 0\n",
    "    while i < iterations:\n",
    "        dossier = os.path.dirname(dossier)\n",
    "        i += 1\n",
    " \n",
    "    return dossier\n",
    "print(remonter_dossier(dossier, 3))"
   ]
  },
  {
   "cell_type": "markdown",
   "metadata": {},
   "source": [
    "POINTS IMPORTANTS À RETENIR\n",
    "\n",
    "Pour récupérer le dossier parent d'un fichier ou d'un dossier, on utilise la fonction os.path.dirname du module os.path.\n",
    "\n",
    "Pour répéter une opération un nombre défini de fois, on peut utiliser une boucle while."
   ]
  },
  {
   "cell_type": "markdown",
   "metadata": {},
   "source": [
    "<b> - 13: Changer un chemin relatif en chemin absolu </b>"
   ]
  },
  {
   "cell_type": "code",
   "execution_count": 27,
   "metadata": {},
   "outputs": [
    {
     "name": "stdout",
     "output_type": "stream",
     "text": [
      "\\Users\\Thibh\\Desktop\\Dossier_02\\Udemy\n"
     ]
    }
   ],
   "source": [
    "import os\n",
    "chemin = \"/Users/Thibh/Desktop/Dossier_01/../Dossier_02/Udemy\"\n",
    " \n",
    "def normalize_path(chemin):\n",
    "    chemin_parts = chemin.split(\"/\")\n",
    "    while \"..\" in chemin_parts:\n",
    "        index = chemin_parts.index(\"..\")\n",
    "        chemin_parts.pop(index)\n",
    "        chemin_parts.pop(index-1)\n",
    "    return os.sep.join(chemin_parts)\n",
    " \n",
    "a = normalize_path(chemin)\n",
    "print(a)"
   ]
  },
  {
   "cell_type": "markdown",
   "metadata": {
    "collapsed": true
   },
   "source": [
    "<b> - 14: Écrire un fichier </b>"
   ]
  },
  {
   "cell_type": "code",
   "execution_count": 28,
   "metadata": {},
   "outputs": [],
   "source": [
    "import os\n",
    " \n",
    "cur_dir = os.path.realpath(os.path.dirname('__file__'))\n",
    "fichier = os.path.join(cur_dir, \"fichier.txt\")\n",
    " \n",
    "with open(fichier, \"w\") as f:\n",
    "    f.write(\"Bonjour tout le monde !\")"
   ]
  },
  {
   "cell_type": "markdown",
   "metadata": {},
   "source": [
    "<b> - 15: Fixer erreur de variable dans un fichier </b>\n",
    "\n",
    "Utilisation du module distutils"
   ]
  },
  {
   "cell_type": "code",
   "execution_count": 29,
   "metadata": {},
   "outputs": [
    {
     "name": "stdout",
     "output_type": "stream",
     "text": [
      "La variable est un boolean False\n"
     ]
    }
   ],
   "source": [
    "import os\n",
    "import distutils.util\n",
    " \n",
    "cur_dir = os.path.realpath(os.path.dirname('__file__'))\n",
    "fichier = os.path.join(cur_dir, \"variable.txt\")\n",
    " \n",
    "with open(fichier, \"r\") as f:\n",
    "    variable = f.read()\n",
    " \n",
    "vraie_variable = bool(distutils.util.strtobool(variable))\n",
    "if vraie_variable:\n",
    "    print(\"La variable est un boolean True\")\n",
    "else: \n",
    "    print(\"La variable est un boolean False\")"
   ]
  },
  {
   "cell_type": "markdown",
   "metadata": {},
   "source": [
    "<b> - 15: Trouver les diviseurs d'un nombre </b>"
   ]
  },
  {
   "cell_type": "code",
   "execution_count": 30,
   "metadata": {},
   "outputs": [
    {
     "name": "stdout",
     "output_type": "stream",
     "text": [
      "[1, 2, 5, 10, 25, 50]\n"
     ]
    }
   ],
   "source": [
    "nombre = 50\n",
    "liste_nombres = list(range(1, nombre+1))\n",
    "diviseurs = []\n",
    " \n",
    "for i in liste_nombres:\n",
    "    if nombre % i == 0:\n",
    "        diviseurs.append(i)\n",
    " \n",
    "print(diviseurs)   "
   ]
  },
  {
   "cell_type": "markdown",
   "metadata": {},
   "source": [
    "<b> - 16: Trouver les nombres divisibles par 7 mais qui ne sont pas des multiples de 3  </b>"
   ]
  },
  {
   "cell_type": "code",
   "execution_count": 31,
   "metadata": {},
   "outputs": [
    {
     "name": "stdout",
     "output_type": "stream",
     "text": [
      "[7, 14, 28, 35, 49, 56, 70, 77, 91, 98, 112, 119, 133, 140, 154, 161, 175, 182, 196, 203, 217, 224, 238, 245, 259, 266, 280, 287, 301, 308, 322, 329, 343, 350, 364, 371, 385, 392, 406, 413, 427, 434, 448, 455, 469, 476, 490, 497, 511, 518, 532, 539, 553, 560, 574, 581, 595, 602, 616, 623, 637, 644, 658, 665, 679, 686, 700, 707, 721, 728, 742, 749, 763, 770, 784, 791, 805, 812, 826, 833, 847, 854, 868, 875, 889, 896, 910, 917, 931, 938, 952, 959, 973, 980, 994]\n"
     ]
    }
   ],
   "source": [
    "nombre = 1000\n",
    "liste_nombres = list(range(0, nombre+1))\n",
    "diviseurs = []\n",
    "\n",
    "for i in liste_nombres:\n",
    "    if (i % 7 == 0) & (i % 3 != 0):\n",
    "        diviseurs.append(i)\n",
    "print(diviseurs)"
   ]
  },
  {
   "cell_type": "markdown",
   "metadata": {},
   "source": [
    "<b> - 17: Calculer la factorielle d'un nombre  </b>\n",
    "\n",
    "Dans cet exercice, nous cherchons la factorielle d'un nombre, dans ce cas-ci le nombre 5. \n"
   ]
  },
  {
   "cell_type": "code",
   "execution_count": 32,
   "metadata": {},
   "outputs": [
    {
     "name": "stdout",
     "output_type": "stream",
     "text": [
      "120\n"
     ]
    }
   ],
   "source": [
    "nombre = 5\n",
    " \n",
    "if nombre == 0:\n",
    "    resultat = 1\n",
    "else:\n",
    "    resultat = 1\n",
    "    for i in range(1, nombre + 1):\n",
    "        resultat *= i\n",
    " \n",
    "print(resultat)"
   ]
  },
  {
   "cell_type": "markdown",
   "metadata": {},
   "source": [
    "<b> - 18: Trouver un fichier à l'intérieur d'un dossier </b>\n",
    "\n",
    "module glob pertmet de faire des recherches récursives"
   ]
  },
  {
   "cell_type": "code",
   "execution_count": 34,
   "metadata": {},
   "outputs": [
    {
     "name": "stdout",
     "output_type": "stream",
     "text": [
      "['D:/Utilisateurs/guillaume/Documents\\\\GitHub\\\\Formation_Python\\\\16_Defis_Python\\\\fichier.txt', 'D:/Utilisateurs/guillaume/Documents\\\\GitHub\\\\Scripts_Python\\\\Exercices_tuto\\\\fichier.txt']\n"
     ]
    }
   ],
   "source": [
    "import os \n",
    "from glob import glob\n",
    "\n",
    "dossier = \"D:/Utilisateurs/guillaume/Documents\"\n",
    "fichier_a_trouver = \"fichier.txt\"\n",
    "\n",
    "fichiers = glob(dossier + \"/**\", recursive = True)\n",
    "fichiers_trouves = [f for f in fichiers if os.path.split(f)[1] == fichier_a_trouver]\n",
    "print(fichiers_trouves)"
   ]
  },
  {
   "cell_type": "markdown",
   "metadata": {},
   "source": [
    "<b> - 19: Créer un programme pour surveiller un dossier </b>"
   ]
  },
  {
   "cell_type": "code",
   "execution_count": 35,
   "metadata": {
    "scrolled": true
   },
   "outputs": [
    {
     "name": "stdout",
     "output_type": "stream",
     "text": [
      "Entrez un temps de rafraichissement: 10\n",
      "Dossier introuvable ... \n",
      "Dossier introuvable ... \n",
      "Dossier introuvable ... \n",
      "trouvé\n"
     ]
    }
   ],
   "source": [
    "import os \n",
    "import time \n",
    "\n",
    "dossier = \"D:/Utilisateurs/guillaume/Desktop\"\n",
    "dossier_a_chercher = \"CODES_R\"\n",
    "\n",
    "attente = input(\"Entrez un temps de rafraichissement: \")\n",
    "while dossier_a_chercher not in os.listdir(dossier):\n",
    "    print(\"Dossier introuvable ... \")\n",
    "    time.sleep(int(attente))\n",
    "               \n",
    "print(\"trouvé\")"
   ]
  },
  {
   "cell_type": "markdown",
   "metadata": {},
   "source": [
    "<b> - 20: Compter le nombre de fichiers et dossiers dans un dossier </b>"
   ]
  },
  {
   "cell_type": "code",
   "execution_count": 36,
   "metadata": {},
   "outputs": [
    {
     "name": "stdout",
     "output_type": "stream",
     "text": [
      "17653\n"
     ]
    }
   ],
   "source": [
    "from glob import glob\n",
    "\n",
    "dossier = \"D:/Utilisateurs/guillaume/Documents\"\n",
    "fichiers = glob(f\"{dossier}/**\", recursive = True)\n",
    "print(len(fichiers))"
   ]
  },
  {
   "cell_type": "markdown",
   "metadata": {},
   "source": [
    "<b> - 21: Générer un octet aléatoire </b>\n",
    "\n",
    "Dans cet exercice, le but était de générer un octet aléatoire. Un octet est composé uniquement des chiffres 0 et 1, et contient 8 chiffres.\n",
    "\n",
    "Il faut générer une séquence aléatoire de 8 chiffres de 0 à 1.\n",
    "\n",
    "En Python, pour tout ce qui touche aux fonctions aléatoires, on utilise le module random.\n",
    "\n",
    "Nous utilisons donc une compréhension de liste pour créer une suite de 8 chiffres aléatoire allant de 0 à 1.\n",
    "\n",
    "Pour récupérer un nombre aléatoire entre 0 et 1, on utilise la fonction \"choice\" du module random. La fonction range(2) nous retourne une liste contenant les nombres 0 et 1, et la fonction choice du module random va choisir un nombre aléatoire entre tous les nombres de la liste (donc soit 0 soit 1).\n",
    "\n",
    "Vous noterez qu'on utilise un nom de variable quelque peu particulier pour la boucle for. En effet, cette boucle sert uniquement à répéter une opération un certains nombre de fois, mais on ne fait aucune utilisation de la variable générée à chaque itération de la boucle for. Par convention, quand on déclare une variable qui n'est pas utilisée, on utilise un tiret du bas."
   ]
  },
  {
   "cell_type": "code",
   "execution_count": 37,
   "metadata": {},
   "outputs": [
    {
     "name": "stdout",
     "output_type": "stream",
     "text": [
      "00111010\n"
     ]
    }
   ],
   "source": [
    "import random\n",
    "octet = []\n",
    "for _ in range(8):\n",
    "    octet.append(str(random.choice(range(2))))\n",
    "print(\"\".join(octet))"
   ]
  },
  {
   "cell_type": "code",
   "execution_count": 38,
   "metadata": {},
   "outputs": [
    {
     "name": "stdout",
     "output_type": "stream",
     "text": [
      "10111000\n"
     ]
    }
   ],
   "source": [
    "liste_random = [str(random.choice(range(2))) for _ in range(8)]\n",
    "print(\"\".join(liste_random))"
   ]
  },
  {
   "cell_type": "markdown",
   "metadata": {
    "collapsed": true
   },
   "source": [
    "<b> - 21: Calculer le nombre de jours entre deux dates </b>"
   ]
  },
  {
   "cell_type": "code",
   "execution_count": 39,
   "metadata": {},
   "outputs": [
    {
     "name": "stdout",
     "output_type": "stream",
     "text": [
      "1470\n"
     ]
    }
   ],
   "source": [
    "from datetime import date\n",
    "start = date(2014,7,2)\n",
    "end = date(2018,7,11)\n",
    "nb_days = (end - start).days \n",
    "print(nb_days)"
   ]
  },
  {
   "cell_type": "markdown",
   "metadata": {
    "collapsed": true
   },
   "source": [
    "<b> - 22: Créer un générateur de mot de passe </b>\n",
    "\n",
    "Le but de cet exercice était de générer un mot de passe aléatoire.\n",
    "\n",
    "Le mot de passe devait être d'une longueur définie dans la variable \"taille\".\n",
    "\n",
    "La première chose à faire était de récupérer toutes les lettres de l'alphabet, les nombres et tous les symboles.\n",
    "\n",
    "Pour récupérer ces informations, nous utilisons le module string.\n"
   ]
  },
  {
   "cell_type": "code",
   "execution_count": 40,
   "metadata": {},
   "outputs": [
    {
     "name": "stdout",
     "output_type": "stream",
     "text": [
      "abcdefghijklmnopqrstuvwxyzABCDEFGHIJKLMNOPQRSTUVWXYZ0123456789!\"#$%&'()*+,-./:;<=>?@[\\]^_`{|}~\n"
     ]
    }
   ],
   "source": [
    "import string\n",
    "symboles = string.ascii_letters + string.digits + string.punctuation\n",
    "print(symboles)"
   ]
  },
  {
   "cell_type": "markdown",
   "metadata": {},
   "source": [
    "On utilise ensuite le module random et la fonction choice comme vu dans un exercice précédent. Cette fonction va nous permettre de sélectionner une lettre aléatoire parmi la chaîne de caractère \"symboles\" que nous avons déclaré plus haut.\n",
    "\n",
    "Pour répéter l'opération autant de fois que nécessaire, on utilise une boucle et une compréhension de liste"
   ]
  },
  {
   "cell_type": "code",
   "execution_count": 41,
   "metadata": {},
   "outputs": [
    {
     "name": "stdout",
     "output_type": "stream",
     "text": [
      "Z=)f+KV\"\n"
     ]
    }
   ],
   "source": [
    "import string\n",
    "import random\n",
    " \n",
    "taille = 8\n",
    " \n",
    "symboles = string.ascii_letters + string.digits + string.punctuation\n",
    "mot_de_passe = ''.join(random.choice(symboles) for _ in range(taille))\n",
    " \n",
    "print(mot_de_passe)"
   ]
  },
  {
   "cell_type": "markdown",
   "metadata": {},
   "source": [
    "<b> - 22: Vérifier la validité d'un mot de passe </b>\n",
    "\n",
    "En partant du code précédent, on doit vérifier sur le mot de passe contient au moins 2 nombres et une majuscule et s'il fait au moins 8 caractères. "
   ]
  },
  {
   "cell_type": "code",
   "execution_count": 42,
   "metadata": {},
   "outputs": [
    {
     "name": "stdout",
     "output_type": "stream",
     "text": [
      "z%n{,&tS\n"
     ]
    }
   ],
   "source": [
    "import string\n",
    "import random\n",
    " \n",
    "taille = 8\n",
    " \n",
    "symboles = string.ascii_letters + string.digits + string.punctuation\n",
    "mot_de_passe = ''.join(random.choice(symboles) for _ in range(taille))\n",
    " \n",
    "print(mot_de_passe)"
   ]
  },
  {
   "cell_type": "code",
   "execution_count": 43,
   "metadata": {},
   "outputs": [],
   "source": [
    "import sys\n",
    "def Valid_password_numdigit(password):\n",
    "    \n",
    "    sufficient_digits = len([n for n in password if n.isdigit()]) >= 2     \n",
    "    if not sufficient_digits:\n",
    "        print(\"Invalid password: Must have at least 2 digits\", file=sys.stderr)\n",
    "    return sufficient_digits\n",
    "\n",
    "def Valid_password_length(password):\n",
    "    correct_length = len(password) >= 8\n",
    "    if not correct_length:\n",
    "        print(\"Invalid password: too short\", file=sys.stderr)\n",
    "    return correct_length\n",
    "\n",
    "def Valid_password_mixed_case(password):\n",
    "    letters = set(password)\n",
    "\n",
    "    lower = any(letter.islower() for letter in letters)\n",
    "    upper = any(letter.isupper() for letter in letters)\n",
    "    if not upper:\n",
    "        print(\"Invalid password: No uppercase characters detected\", file=sys.stderr)\n",
    "\n",
    "    if not lower:\n",
    "        print(\"Invalid password: No lowercase characters detected\", file=sys.stderr)\n",
    "\n",
    "    return lower and upper\n",
    "\n",
    "def password_checker(password):\n",
    "    if Valid_password_length(password) and \\\n",
    "        Valid_password_mixed_case(password) and \\\n",
    "        Valid_password_numdigit(password):\n",
    "\n",
    "        print(\"Congratulations! This password is valid\")"
   ]
  },
  {
   "cell_type": "code",
   "execution_count": 44,
   "metadata": {},
   "outputs": [
    {
     "name": "stdout",
     "output_type": "stream",
     "text": [
      "Congratulations! This password is valid\n"
     ]
    }
   ],
   "source": [
    "password_checker('tesTTTbverytherbrtby22')"
   ]
  },
  {
   "cell_type": "code",
   "execution_count": 45,
   "metadata": {},
   "outputs": [
    {
     "name": "stdout",
     "output_type": "stream",
     "text": [
      "Z}&]PG;Mb\n",
      "False\n"
     ]
    }
   ],
   "source": [
    "import string\n",
    "import random\n",
    " \n",
    "taille = random.randint(4, 12)\n",
    " \n",
    "lettres = string.ascii_letters + string.digits + string.punctuation\n",
    "mot_de_passe = ''.join(random.choice(lettres) for l in range(taille))\n",
    " \n",
    "print(mot_de_passe)\n",
    " \n",
    "def verificateur_mdp(mdp):\n",
    "    if len(mdp) >= 8 and any(l.isupper() for l in mdp) and len([n for n in mdp if n.isdigit()]) >= 2:\n",
    "        return True\n",
    "    return False\n",
    " \n",
    "succes = verificateur_mdp(mot_de_passe)\n",
    "#check = password_checker(mot_de_passe)\n",
    "print(succes)"
   ]
  },
  {
   "cell_type": "markdown",
   "metadata": {},
   "source": [
    "<b> - 23: Compter le nombre d'occurence d'un mot dans un texte </b>\n"
   ]
  },
  {
   "cell_type": "code",
   "execution_count": 46,
   "metadata": {},
   "outputs": [
    {
     "name": "stdout",
     "output_type": "stream",
     "text": [
      "find!\n",
      "1\n"
     ]
    }
   ],
   "source": [
    "lorem = \"Lorem ipsum dolor sit amet, consectetur adipiscing elit, sed do eiusmod tempor incididunt ut labore et dolore magna aliqua. Ut enim ad minim veniam, quis nostrud exercitation ullamco laboris nisi ut aliquip ex ea commodo consequat. Duis aute irure dolor in reprehenderit in voluptate velit esse cillum dolore eu fugiat nulla pariatur. Excepteur sint occaecat cupidatat non proident, sunt in culpa qui officia deserunt mollit anim id est laborum.\"\n",
    "lorem = lorem.replace(\",\", \"\").replace(\".\", \"\")\n",
    "mot_to_find = \"elit\"\n",
    "lorem = lorem.lower()\n",
    "text = lorem.split(' ')\n",
    "count = 0\n",
    "for mot in text:\n",
    "    if mot == mot_to_find:\n",
    "        print('find!')\n",
    "        count += 1\n",
    "print(count)"
   ]
  },
  {
   "cell_type": "markdown",
   "metadata": {},
   "source": [
    "POINTS IMPORTANTS À RETENIR\n",
    "\n",
    "Pour remplacer un caractère par un autre, ou l'effacer, on utilise la fonction replace.\n",
    "\n",
    "Pour convertir une chaîne de caractère en minuscule, on utilise la fonction lower.\n",
    "\n",
    "Pour séparer une chaîne de caractère sur les espaces, on utilise la fonction split.\n",
    "\n",
    "Pour compter le nombre d'occurrence d'un élément dans une liste, on utilise la fonction count."
   ]
  },
  {
   "cell_type": "markdown",
   "metadata": {},
   "source": [
    "<b> - 24: Convertir une chaîne de caractères en camelCase </b>"
   ]
  },
  {
   "cell_type": "code",
   "execution_count": 47,
   "metadata": {},
   "outputs": [
    {
     "name": "stdout",
     "output_type": "stream",
     "text": [
      "['Phrase', 'en', 'camel', 'case']\n"
     ]
    }
   ],
   "source": [
    "phrase = \"Phrase en camel case\"\n",
    "phrase_split = phrase.split()\n",
    "print(phrase_split)"
   ]
  },
  {
   "cell_type": "code",
   "execution_count": 48,
   "metadata": {},
   "outputs": [
    {
     "name": "stdout",
     "output_type": "stream",
     "text": [
      "['Phrase']\n"
     ]
    }
   ],
   "source": [
    "phrase = \"Phrase en camel case\"\n",
    "phrase_split = phrase.split()\n",
    " \n",
    "resultat = [phrase_split.pop(0)]\n",
    "print(resultat)"
   ]
  },
  {
   "cell_type": "code",
   "execution_count": 49,
   "metadata": {},
   "outputs": [
    {
     "name": "stdout",
     "output_type": "stream",
     "text": [
      "phraseEnCamelCase\n"
     ]
    }
   ],
   "source": [
    "phrase = \"Phrase en camel case\"\n",
    "phrase_split = phrase.split()\n",
    " \n",
    "resultat = [phrase_split.pop(0).lower()]\n",
    "\n",
    "for mot in phrase_split:\n",
    "    resultat.append(mot.capitalize())\n",
    " \n",
    "resultat_formate = \"\".join(resultat)\n",
    " \n",
    "print(resultat_formate)"
   ]
  },
  {
   "cell_type": "markdown",
   "metadata": {},
   "source": [
    "<b> - 25: Inverser l'ordre des mots dans une phrase </b>"
   ]
  },
  {
   "cell_type": "code",
   "execution_count": 50,
   "metadata": {},
   "outputs": [
    {
     "name": "stdout",
     "output_type": "stream",
     "text": [
      "Monde le tout bonjour\n"
     ]
    }
   ],
   "source": [
    "phrase = \"Bonjour tout le monde\"\n",
    "phrase_split = phrase.split()\n",
    " \n",
    "resultat = []\n",
    " \n",
    "for mot in reversed(phrase_split):\n",
    "    resultat.append(mot)\n",
    " \n",
    "resultat_formate = \" \".join(resultat).capitalize()\n",
    "print(resultat_formate)\n",
    "               "
   ]
  },
  {
   "cell_type": "markdown",
   "metadata": {},
   "source": [
    "POINTS IMPORTANTS À RETENIR\n",
    "\n",
    "Pour inverser une liste, on peut utiliser la fonction reversed ou la syntaxe [::-1]"
   ]
  },
  {
   "cell_type": "markdown",
   "metadata": {},
   "source": [
    "<b> - 26: Vérifier si un élément est un palindrome </b>"
   ]
  },
  {
   "cell_type": "code",
   "execution_count": 51,
   "metadata": {},
   "outputs": [
    {
     "name": "stdout",
     "output_type": "stream",
     "text": [
      "True\n"
     ]
    }
   ],
   "source": [
    "mot = \"Un roc cornu\"\n",
    "mot_lower = mot.lower().replace(\" \", \"\")\n",
    "\n",
    "if mot_lower == mot_lower[::-1]:\n",
    "    print(True)\n",
    "else:\n",
    "    print(False)\n",
    "\n"
   ]
  },
  {
   "cell_type": "markdown",
   "metadata": {},
   "source": [
    "POINTS IMPORTANTS À RETENIR\n",
    "\n",
    "Pour enlever tous les espaces d'une chaîne de caractère, on peut utiliser la méthode replace.\n",
    "\n",
    "Pour inverser une chaîne de caractère, on peut utiliser la syntaxe [::-1]"
   ]
  },
  {
   "cell_type": "markdown",
   "metadata": {},
   "source": [
    "<b> - 27: Vérifier si une phrase est un pangramme </b>\n",
    "\n",
    "Un pangramme est une phrase qui contient toutes les lettres de l'alphabet au moins une fois. "
   ]
  },
  {
   "cell_type": "code",
   "execution_count": 53,
   "metadata": {},
   "outputs": [
    {
     "name": "stdout",
     "output_type": "stream",
     "text": [
      "La phrase est un Pangramme\n"
     ]
    }
   ],
   "source": [
    "import string\n",
    "phrase = \"Joyeux, ivre, fatigué, le nez qui pique, Clown Hary skie dans l’ombre\"\n",
    "phrase_lower = phrase.lower()\n",
    "alphabet = list(string.ascii_lowercase)\n",
    "\n",
    "for l in phrase_lower:\n",
    "    if l in alphabet:\n",
    "        alphabet.remove(l)\n",
    " \n",
    "if alphabet:\n",
    "    print(\"La phrase n'est pas un Pangramme\")\n",
    "else:\n",
    "    print(\"La phrase est un Pangramme\")"
   ]
  },
  {
   "cell_type": "markdown",
   "metadata": {},
   "source": [
    "POINTS IMPORTANTS À RETENIR\n",
    "\n",
    "Pour récupérer toutes les lettres de l'alphabet, on utilise le module string et la constante \"ascii_lowercase\".\n",
    "\n",
    "Pour enlever un élément d'une liste, on utilise la méthode remove.\n",
    "\n",
    "Une liste vide est évaluée comme False."
   ]
  },
  {
   "cell_type": "markdown",
   "metadata": {},
   "source": [
    "<b> - 28: Vérificateur de code python</b>\n",
    "\n",
    "Vérifier si les parathèses sont bien définies dans un code.\n"
   ]
  },
  {
   "cell_type": "code",
   "execution_count": 54,
   "metadata": {},
   "outputs": [
    {
     "data": {
      "text/plain": [
       "False"
      ]
     },
     "execution_count": 54,
     "metadata": {},
     "output_type": "execute_result"
    }
   ],
   "source": [
    "code = \"print(any(('py' or 'txt') in ext for ext in ['.py', '.obj', '.json'])\"\n",
    "code.count('(') == code.count(')')"
   ]
  },
  {
   "cell_type": "markdown",
   "metadata": {},
   "source": [
    "<b> - 29: Compter le nombre de phrases dans un texte</b>"
   ]
  },
  {
   "cell_type": "code",
   "execution_count": 55,
   "metadata": {},
   "outputs": [
    {
     "name": "stdout",
     "output_type": "stream",
     "text": [
      "4\n"
     ]
    }
   ],
   "source": [
    "lorem = \"\"\"Lorem ipsum dolor sit amet, consectetur adipiscing elit, sed do eiusmod tempor incididunt ut labore et dolore magna aliqua.\n",
    "\t\t   Ut enim ad minim veniam, quis nostrud exercitation ullamco laboris nisi ut aliquip ex ea commodo consequat.\n",
    "\t\t   Duis aute irure dolor in reprehenderit in voluptate velit esse cillum dolore eu fugiat nulla pariatur.\n",
    "\t\t   Excepteur sint occaecat cupidatat non proident, sunt in culpa qui officia deserunt mollit anim id est laborum.\"\"\"\n",
    "\n",
    "print(lorem.count(\".\"))"
   ]
  },
  {
   "cell_type": "markdown",
   "metadata": {},
   "source": [
    "<b> - 30: Compter le nombre d'occurence de chaque lettre de l'alphabet dans un texte</b>"
   ]
  },
  {
   "cell_type": "code",
   "execution_count": 56,
   "metadata": {},
   "outputs": [
    {
     "name": "stdout",
     "output_type": "stream",
     "text": [
      "{'a': 29, 'b': 3, 'c': 16, 'd': 19, 'e': 38, 'f': 3, 'g': 3, 'h': 1, 'i': 42, 'j': 0, 'k': 0, 'l': 22, 'm': 17, 'n': 24, 'o': 29, 'p': 11, 'q': 5, 'r': 22, 's': 18, 't': 32, 'u': 29, 'v': 3, 'w': 0, 'x': 3, 'y': 0, 'z': 0}\n"
     ]
    }
   ],
   "source": [
    "import string\n",
    "lorem = \"\"\"Lorem ipsum dolor sit amet, consectetur adipiscing elit, sed do eiusmod tempor incididunt ut labore et dolore magna aliqua.\n",
    "\t\t   Ut enim ad minim veniam, quis nostrud exercitation ullamco laboris nisi ut aliquip ex ea commodo consequat.\n",
    "\t\t   Duis aute irure dolor in reprehenderit in voluptate velit esse cillum dolore eu fugiat nulla pariatur.\n",
    "\t\t   Excepteur sint occaecat cupidatat non proident, sunt in culpa qui officia deserunt mollit anim id est laborum.\"\"\"\n",
    "lorem = lorem.lower()\n",
    "resultat = {}\n",
    "alphabet = list(string.ascii_lowercase)\n",
    "for l in alphabet: \n",
    "    resultat[l]=lorem.count(l)\n",
    "print(resultat)    "
   ]
  },
  {
   "cell_type": "code",
   "execution_count": 57,
   "metadata": {},
   "outputs": [
    {
     "name": "stdout",
     "output_type": "stream",
     "text": [
      "{'a': 29, 'b': 3, 'c': 16, 'd': 19, 'e': 38, 'f': 3, 'g': 3, 'h': 1, 'i': 42, 'j': 0, 'k': 0, 'l': 22, 'm': 17, 'n': 24, 'o': 29, 'p': 11, 'q': 5, 'r': 22, 's': 18, 't': 32, 'u': 29, 'v': 3, 'w': 0, 'x': 3, 'y': 0, 'z': 0}\n"
     ]
    }
   ],
   "source": [
    "alphabet = dict([(a, lorem.lower().count(a)) for a in string.ascii_lowercase])\n",
    "print(alphabet)"
   ]
  },
  {
   "cell_type": "code",
   "execution_count": 58,
   "metadata": {},
   "outputs": [
    {
     "name": "stdout",
     "output_type": "stream",
     "text": [
      "{'a': 29, 'b': 3, 'c': 16, 'd': 19, 'e': 38, 'f': 3, 'g': 3, 'h': 1, 'i': 42, 'j': 0, 'k': 0, 'l': 22, 'm': 17, 'n': 24, 'o': 29, 'p': 11, 'q': 5, 'r': 22, 's': 18, 't': 32, 'u': 29, 'v': 3, 'w': 0, 'x': 3, 'y': 0, 'z': 0}\n"
     ]
    }
   ],
   "source": [
    "import string\n",
    " \n",
    "lorem = \"\"\"Lorem ipsum dolor sit amet, consectetur adipiscing elit, sed do eiusmod tempor incididunt ut labore et dolore magna aliqua. Ut enim ad minim veniam, quis nostrud exercitation ullamco laboris nisi ut aliquip ex ea commodo consequat. Duis aute irure dolor in reprehenderit in voluptate velit esse cillum dolore eu fugiat nulla pariatur. Excepteur sint occaecat cupidatat non proident, sunt in culpa qui officia deserunt mollit anim id est laborum.\"\"\"\n",
    " \n",
    "alphabet = string.ascii_lowercase\n",
    "resultat = dict(zip(alphabet, [0] * len(alphabet)))\n",
    "\n",
    "for lettre in lorem.lower():\n",
    "    if resultat.get(lettre) is not None:\n",
    "        resultat[lettre] += 1\n",
    " \n",
    "print(resultat)"
   ]
  },
  {
   "cell_type": "markdown",
   "metadata": {},
   "source": [
    "Nous utilisons ci-dessus la fonction zip et la fonction dict pour créer un dictionnaire qui contient chaque lettre de l'alphabet comme clé et le nombre 0 comme valeur :"
   ]
  },
  {
   "cell_type": "code",
   "execution_count": 59,
   "metadata": {},
   "outputs": [
    {
     "name": "stdout",
     "output_type": "stream",
     "text": [
      "{'a': 0, 'b': 0, 'c': 0, 'd': 0, 'e': 0, 'f': 0, 'g': 0, 'h': 0, 'i': 0, 'j': 0, 'k': 0, 'l': 0, 'm': 0, 'n': 0, 'o': 0, 'p': 0, 'q': 0, 'r': 0, 's': 0, 't': 0, 'u': 0, 'v': 0, 'w': 0, 'x': 0, 'y': 0, 'z': 0}\n"
     ]
    }
   ],
   "source": [
    "resultat = dict(zip(alphabet, [0] * len(alphabet)))\n",
    "print(resultat)"
   ]
  },
  {
   "cell_type": "markdown",
   "metadata": {},
   "source": [
    "Pour créer une liste de tuple à partir de deux listes, on utilise la fonction zip.\n",
    "\n",
    "Pour créer un dictionnaire à partir d'une liste de tuple, on utilise la fonction dict.\n",
    "\n",
    "Pour récupérer la valeur d'une clé dans un dictionnaire sans risquer de faire planter notre script si la clé n'existe pas, on utilise la méthode get."
   ]
  }
 ],
 "metadata": {
  "kernelspec": {
   "display_name": "Python 3",
   "language": "python",
   "name": "python3"
  },
  "language_info": {
   "codemirror_mode": {
    "name": "ipython",
    "version": 3
   },
   "file_extension": ".py",
   "mimetype": "text/x-python",
   "name": "python",
   "nbconvert_exporter": "python",
   "pygments_lexer": "ipython3",
   "version": "3.7.3"
  }
 },
 "nbformat": 4,
 "nbformat_minor": 2
}
