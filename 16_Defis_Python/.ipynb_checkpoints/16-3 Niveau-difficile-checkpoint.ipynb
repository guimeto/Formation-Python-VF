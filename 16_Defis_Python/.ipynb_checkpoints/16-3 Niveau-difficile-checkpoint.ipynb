{
 "cells": [
  {
   "cell_type": "markdown",
   "metadata": {},
   "source": [
    "## Exercices Python\n",
    "\n",
    "### Niveau avancé\n",
    "\n",
    "<b> - 1: Recréer la méthode isdigit </b>"
   ]
  },
  {
   "cell_type": "code",
   "execution_count": 1,
   "metadata": {},
   "outputs": [
    {
     "data": {
      "text/plain": [
       "'0123456789'"
      ]
     },
     "execution_count": 1,
     "metadata": {},
     "output_type": "execute_result"
    }
   ],
   "source": [
    "import string\n",
    " \n",
    "symboles = string.digits\n",
    "symboles"
   ]
  },
  {
   "cell_type": "code",
   "execution_count": 2,
   "metadata": {},
   "outputs": [
    {
     "name": "stdout",
     "output_type": "stream",
     "text": [
      "True\n"
     ]
    }
   ],
   "source": [
    "def isdigit(nombre):\n",
    "    for n in nombre:\n",
    "        if n not in symboles:\n",
    "            return False\n",
    "    return True\n",
    "\n",
    "print(isdigit(\"1854274\"))"
   ]
  },
  {
   "cell_type": "code",
   "execution_count": 3,
   "metadata": {},
   "outputs": [
    {
     "name": "stdout",
     "output_type": "stream",
     "text": [
      "True\n"
     ]
    }
   ],
   "source": [
    "def isdigit(variable):\n",
    "    for i in variable:\n",
    "        if i not in [str(n) for n in range(10)]:\n",
    "            return False\n",
    " \n",
    "    return True\n",
    " \n",
    "print(isdigit(\"1854274\"))"
   ]
  },
  {
   "cell_type": "markdown",
   "metadata": {},
   "source": [
    "POINTS IMPORTANTS À RETENIR\n",
    "\n",
    "Pour créer rapidement et efficacement des listes, on peut utiliser des compréhensions de liste et la fonction range.\n",
    "\n",
    "Pour vérifier si une variable est présente ou non dans une liste, on utilise \"in\" dans une condition : if variable in liste. La condition retournera True si la variable est présente dans la liste et False dans le cas contraire."
   ]
  },
  {
   "cell_type": "markdown",
   "metadata": {},
   "source": [
    "<b> - 2: Recréer la méthode join </b>"
   ]
  },
  {
   "cell_type": "code",
   "execution_count": 4,
   "metadata": {},
   "outputs": [
    {
     "name": "stdout",
     "output_type": "stream",
     "text": [
      "Bonjour:tout:le:monde\n"
     ]
    }
   ],
   "source": [
    "def join(*args):\n",
    "    resultat = \"\"\n",
    "    \n",
    "    separateur = args[0]\n",
    "    elements = args[1:]\n",
    "    \n",
    "    for element in elements:\n",
    "        resultat += element + separateur\n",
    " \n",
    "    return resultat[:-1]\n",
    " \n",
    "j = join(\":\", \"Bonjour\", \"tout\", \"le\", \"monde\")\n",
    "print(j)"
   ]
  },
  {
   "cell_type": "markdown",
   "metadata": {},
   "source": [
    "Notre fonction join pouvant accepter un nombre indéfini de paramètre, il nous faudra donc utiliser les \"args\":\n",
    "<b>def join(*args)</b>\n",
    "\n",
    "Cette syntaxe nous permet de passer un nombre indéfini d'arguments à notre fonction : ces arguments seront récupérables dans la liste \"args\" à l'intérieur de notre fonction.\n",
    "\n",
    "À l'intérieur de notre fonction, nous récupérons donc le premier élément de la liste args, qui correspondra au séparateur utilisé pour joindre les arguments suivants :"
   ]
  },
  {
   "cell_type": "code",
   "execution_count": 5,
   "metadata": {},
   "outputs": [
    {
     "name": "stdout",
     "output_type": "stream",
     "text": [
      ":\n",
      "('Bonjour', 'tout', 'le', 'monde')\n"
     ]
    }
   ],
   "source": [
    "def join(*args):\n",
    "    separateur = args[0]\n",
    "    elements = args[1:]\n",
    "    print(separateur)\n",
    "    print(elements)\n",
    "    \n",
    "join(\":\", \"Bonjour\", \"tout\", \"le\", \"monde\")    "
   ]
  },
  {
   "cell_type": "markdown",
   "metadata": {},
   "source": [
    "POINTS IMPORTANTS À RETENIR\n",
    "\n",
    "Pour envoyer et récupérer un nombre indéfini d'arguments à une fonction, on utilise *args.\n",
    "\n",
    "Pour récupérer tous les éléments d'une liste sauf le premier, on utilise la syntaxe de slice [1:]\n",
    "\n",
    "Pour récupérer tous les éléments d'une liste ou d'une chaîne de caractère sauf le dernier, on utilise la syntaxe de slice [:-1]"
   ]
  },
  {
   "cell_type": "markdown",
   "metadata": {},
   "source": [
    "<b> - 3: Créer un code qui crée un dossier par lettre de l'alphabet </b>"
   ]
  },
  {
   "cell_type": "code",
   "execution_count": 6,
   "metadata": {},
   "outputs": [
    {
     "name": "stdout",
     "output_type": "stream",
     "text": [
      "Successfully created the directory A \n",
      "Successfully created the directory B \n",
      "Successfully created the directory C \n",
      "Successfully created the directory D \n",
      "Successfully created the directory E \n",
      "Successfully created the directory F \n",
      "Successfully created the directory G \n",
      "Successfully created the directory H \n",
      "Successfully created the directory I \n",
      "Successfully created the directory J \n",
      "Successfully created the directory K \n",
      "Successfully created the directory L \n",
      "Successfully created the directory M \n",
      "Successfully created the directory N \n",
      "Successfully created the directory O \n",
      "Successfully created the directory P \n",
      "Successfully created the directory Q \n",
      "Successfully created the directory R \n",
      "Successfully created the directory S \n",
      "Successfully created the directory T \n",
      "Successfully created the directory U \n",
      "Successfully created the directory V \n",
      "Successfully created the directory W \n",
      "Successfully created the directory X \n",
      "Successfully created the directory Y \n",
      "Successfully created the directory Z \n"
     ]
    }
   ],
   "source": [
    "import string\n",
    "import os \n",
    "#help(string)\n",
    "\n",
    "for l in string.ascii_uppercase:\n",
    "    # define the name of the directory to be created\n",
    "    path = l\n",
    "    try:  \n",
    "        os.mkdir(path)\n",
    "    except OSError:  \n",
    "        print (\"Creation of the directory %s failed\" % path)\n",
    "    else:  \n",
    "        print (\"Successfully created the directory %s \" % path)"
   ]
  },
  {
   "cell_type": "code",
   "execution_count": 7,
   "metadata": {},
   "outputs": [],
   "source": [
    "import os\n",
    "import string\n",
    " \n",
    "directory = os.path.dirname('__file__')\n",
    "alphabet_dir = os.path.join(directory, \"alphabet\")\n",
    " \n",
    "for lettre in string.ascii_uppercase:\n",
    "    lettre_dir = os.path.join(alphabet_dir, lettre)\n",
    "    if not os.path.isdir(lettre_dir):\n",
    "        os.makedirs(lettre_dir)"
   ]
  },
  {
   "cell_type": "markdown",
   "metadata": {},
   "source": [
    "<b> - 4: Chercher un mot dans des dossiers et sous-dossiers </b>"
   ]
  },
  {
   "cell_type": "code",
   "execution_count": 8,
   "metadata": {},
   "outputs": [
    {
     "name": "stdout",
     "output_type": "stream",
     "text": [
      "['D:/Utilisateurs/guillaume/Documents/GitHub\\\\uqam_station_website\\\\ENV\\\\Lib\\\\site-packages\\\\django\\\\views\\\\templates\\\\technical_500.txt']\n"
     ]
    }
   ],
   "source": [
    "import os\n",
    "from glob import glob\n",
    "\n",
    "dossier = \"D:/Utilisateurs/guillaume/Documents/GitHub\"\n",
    "mot = \"Python\"\n",
    "\n",
    "# f string + rechercher de maniere récursive \n",
    "fichiers = glob(f\"{dossier}/**/*.txt\", recursive = True) \n",
    "\n",
    "fichiers_trouves = []\n",
    "\n",
    "for filename in fichiers:\n",
    "    with open(filename, 'r') as file:\n",
    "        contenu_fichier = file.read()\n",
    "        if mot in contenu_fichier:\n",
    "            fichiers_trouves.append(filename)\n",
    "\n",
    "print(fichiers_trouves)"
   ]
  },
  {
   "cell_type": "markdown",
   "metadata": {},
   "source": [
    "<b> - 5: réimplanter la méthode __add__ </b>\n",
    "\n",
    "\n",
    "__add__ : méthode appellée après l'opérateur plus de notre class. "
   ]
  },
  {
   "cell_type": "code",
   "execution_count": 9,
   "metadata": {},
   "outputs": [
    {
     "name": "stdout",
     "output_type": "stream",
     "text": [
      "Bonjour tout le monde\n"
     ]
    }
   ],
   "source": [
    "class SuperStr(str):\n",
    "    def __init__(self, chaine):\n",
    "        self.chaine = chaine\n",
    " \n",
    "    def __add__(self, mot):\n",
    "        return SuperStr(f\"{self.chaine} {mot}\")\n",
    " \n",
    "s = SuperStr(\"Bonjour\")                      # on déclare une instance de notre instance: qui va hériter de toutes les méthodes\n",
    "print(s + \"tout\" + \"le\" + \"monde\")  "
   ]
  },
  {
   "cell_type": "code",
   "execution_count": 14,
   "metadata": {},
   "outputs": [
    {
     "name": "stdout",
     "output_type": "stream",
     "text": [
      "Bonjour////tout////le////monde\n"
     ]
    }
   ],
   "source": [
    "class SuperStr(str):\n",
    "    def __init__(self, chaine):\n",
    "        self.chaine = chaine\n",
    " \n",
    "    def __add__(self, mot):\n",
    "        return SuperStr(f\"{self.chaine}////{mot}\")\n",
    " \n",
    "s = SuperStr(\"Bonjour\")                      # on déclare une instance de notre instance: qui va hériter de toutes les méthodes\n",
    "print(s + \"tout\" + \"le\" + \"monde\")  "
   ]
  },
  {
   "cell_type": "code",
   "execution_count": 15,
   "metadata": {},
   "outputs": [
    {
     "name": "stdout",
     "output_type": "stream",
     "text": [
      "Bonjour////toutlemonde\n"
     ]
    }
   ],
   "source": [
    "class SuperStr(str):\n",
    "    def __init__(self, chaine):\n",
    "        self.chaine = chaine\n",
    " \n",
    "    def __add__(self, mot):\n",
    "        return f\"{self.chaine}////{mot}\"  # f-string chaine de caractère\n",
    " \n",
    "s = SuperStr(\"Bonjour\")      # on déclare une instance de notre instance: qui va hériter de toutes les méthodes \"string\"\n",
    "print(s + \"tout\" + \"le\" + \"monde\")  "
   ]
  },
  {
   "cell_type": "code",
   "execution_count": null,
   "metadata": {},
   "outputs": [],
   "source": []
  },
  {
   "cell_type": "markdown",
   "metadata": {},
   "source": [
    "Fonctionnement interne à python: le + va directement lire le <b>__ add __</b> de la class, on pourrait en effet écrire: "
   ]
  },
  {
   "cell_type": "code",
   "execution_count": 16,
   "metadata": {},
   "outputs": [
    {
     "name": "stdout",
     "output_type": "stream",
     "text": [
      "Bonjour////toutlemonde\n"
     ]
    }
   ],
   "source": [
    "print(s.__add__(\"tout\").__add__(\"le\").__add__(\"monde\"))"
   ]
  },
  {
   "cell_type": "markdown",
   "metadata": {},
   "source": [
    "<b> - 6: Créer un algorythme de 'tri à bulles'</b>"
   ]
  },
  {
   "cell_type": "code",
   "execution_count": 17,
   "metadata": {},
   "outputs": [
    {
     "name": "stdout",
     "output_type": "stream",
     "text": [
      "[2, 16, 40, 80, 90]\n"
     ]
    }
   ],
   "source": [
    "def bubble_sort(liste):\n",
    "    for i in range(len(liste) - 1, 0, -1):\n",
    "        for j in range(i):\n",
    "            n_courant = liste[j]\n",
    "            n_suivant = liste[j + 1]\n",
    "            if n_courant > n_suivant:\n",
    "                liste[j] = n_suivant\n",
    "                liste[j + 1] = n_courant\n",
    " \n",
    "    return liste\n",
    " \n",
    "l = [40, 16, 80, 2, 90]\n",
    "print(bubble_sort(l))"
   ]
  },
  {
   "cell_type": "code",
   "execution_count": 18,
   "metadata": {},
   "outputs": [],
   "source": [
    "l = [40, 16, 80, 2, 90]"
   ]
  },
  {
   "cell_type": "markdown",
   "metadata": {},
   "source": [
    "<b> - 7: Récupérer un élément dans une liste sans causer d'erreur </b>\n",
    "\n",
    "Nous alons créer une fonction pour récupérer un élément dans une liste, sans causer d'erreur si l'indice est en dehors de la liste.\n",
    "\n",
    "La fonction aura comme premier paramètre la liste dont on veut récupérer un élément et comme deuxième le paramètre de l'indice désiré."
   ]
  },
  {
   "cell_type": "code",
   "execution_count": 19,
   "metadata": {},
   "outputs": [
    {
     "name": "stdout",
     "output_type": "stream",
     "text": [
      "Julien\n",
      "Index 5 hors de la liste\n",
      "Index -13 hors de la liste\n"
     ]
    }
   ],
   "source": [
    "def recuperer_item(liste, indice):\n",
    "    if indice < 0 and abs(indice) <= len(liste):\n",
    "        return liste[indice]\n",
    "    elif indice > 0 and indice < len(liste): # Dans ce cas-ci, on vérifie si l'indice est égal à 0 et si la liste n'est pas vide\n",
    "        return liste[indice]\n",
    "    elif indice == 0 and liste:\n",
    "        return liste[0]\n",
    " \n",
    "    return \"Index {} hors de la liste\".format(indice)\n",
    " \n",
    "liste = [\"Julien\", \"Marie\", \"Pierre\"]\n",
    " \n",
    "print(recuperer_item(liste, 0))\n",
    "print(recuperer_item(liste, 5))\n",
    "print(recuperer_item(liste, -13))"
   ]
  },
  {
   "cell_type": "markdown",
   "metadata": {},
   "source": [
    "<b> - 8: Recréer la méthode replace avec une fonction </b>"
   ]
  },
  {
   "cell_type": "code",
   "execution_count": 20,
   "metadata": {},
   "outputs": [],
   "source": [
    "def replace(phrase, mot_a_remplacer, nouveau_mot):\n",
    "    while mot_a_remplacer in phrase: \n",
    "        debut = phrase.index(mot_a_remplacer)\n",
    "        fin = debut + len(mot_a_remplacer)\n",
    "        \n",
    "        phrase = list(phrase)\n",
    "        phrase[debut:fin] = list(nouveau_mot)\n",
    "        phrase = \"\".join(phrase)\n",
    "    return phrase\n",
    "    \n",
    "    "
   ]
  },
  {
   "cell_type": "code",
   "execution_count": 21,
   "metadata": {},
   "outputs": [
    {
     "data": {
      "text/plain": [
       "'mon nom est test, james test'"
      ]
     },
     "execution_count": 21,
     "metadata": {},
     "output_type": "execute_result"
    }
   ],
   "source": [
    "replace('mon nom est bond, james bond', 'bond' ,'test')"
   ]
  },
  {
   "cell_type": "markdown",
   "metadata": {},
   "source": [
    "On a utilisé deux approches ici:\n",
    "- while + slice: pour isoler des parties d'une liste \n",
    "- methode index: pour récupérer l'indice d'un mot dans une phrase"
   ]
  },
  {
   "cell_type": "markdown",
   "metadata": {},
   "source": [
    "<b> - 9: Créer une classe personnalisée pour une chaîne de caractère </b>\n",
    "\n",
    "L'objectif est de créer une classe qui va nous permettre d'utiliser des noms de méthodes francisés à la place des métodes de base de python qui sont en anglais. \n",
    "\n",
    "Les trois méthodes que nous allons recréer sont: upper(), lower() et capitalize()\n",
    "\n",
    "\n",
    "Pour commencer, nous implémentons la méthode __init__, qui accepte un paramètre \"texte\" que nous récupérons par la suite dans la variable texte :"
   ]
  },
  {
   "cell_type": "code",
   "execution_count": 22,
   "metadata": {},
   "outputs": [],
   "source": [
    "class SuperChaine(object):\n",
    "    def __init__(self, texte):\n",
    "        self.texte = texte"
   ]
  },
  {
   "cell_type": "markdown",
   "metadata": {},
   "source": [
    "Cela nous permettra de modifier cette variable texte dans les méthodes que nous allons maintenant créer.\n",
    "\n",
    "Nous créons donc 3 méthodes : majuscule (pour upper), minuscule (pour lower) et titre (pour capitalize).\n",
    "\n",
    "Dans chaque méthode, nous retournons la variable texte en majuscule, en minuscule et avec une majuscule :"
   ]
  },
  {
   "cell_type": "code",
   "execution_count": 23,
   "metadata": {},
   "outputs": [
    {
     "name": "stdout",
     "output_type": "stream",
     "text": [
      "UDEMY\n",
      "udemy\n",
      "Udemy\n"
     ]
    }
   ],
   "source": [
    "class SuperChaine(object):\n",
    "    def __init__(self, texte):\n",
    "        self.texte = texte\n",
    "        \n",
    "    def majuscule(self):\n",
    "        return self.texte.upper()\n",
    "    \n",
    "    def minuscule(self):\n",
    "        return self.texte.lower()\n",
    " \n",
    "    def titre(self):\n",
    "        return self.texte.capitalize()\n",
    "    \n",
    "\n",
    "    \n",
    "chaine = SuperChaine(\"UdeMy\")\n",
    "print(chaine.majuscule())\n",
    "print(chaine.minuscule())\n",
    "print(chaine.titre())"
   ]
  },
  {
   "cell_type": "markdown",
   "metadata": {},
   "source": [
    "La seule chose à ne pas oublier dans toutes ces méthodes est de placer comme premier argument le mot \"self\", qui correspond à l'instance de la classe.\n",
    "\n",
    "- POINTS IMPORTANTS À RETENIR\n",
    "\n",
    "Pour initialiser une classe, on utilise la méthode __init__.\n",
    "\n",
    "Une méthode est une fonction appartenant à une classe : elle est également définie par le mot clé \"def\", prend comme premier argument l'instance de la classe avec le mot clé \"self\" (par convention) et peut retourner, comme une fonction, un résultat avec le mot clé \"return\"."
   ]
  },
  {
   "cell_type": "markdown",
   "metadata": {},
   "source": [
    "<b> - 10: Créer une fonction pour récupérer la valeur d'un dictionnaire </b>\n"
   ]
  },
  {
   "cell_type": "code",
   "execution_count": 24,
   "metadata": {},
   "outputs": [],
   "source": [
    "def get_value(dictionnaire, *args):\n",
    "    #print(args)\n",
    "    #return\n",
    "    args = list(args)\n",
    "    default = args.pop(-1)        #   \n",
    "    for arg in args:\n",
    "        dictionnaire = dictionnaire.get(arg)\n",
    "        if not dictionnaire:\n",
    "            return default\n",
    "    return dictionnaire\n",
    "    "
   ]
  },
  {
   "cell_type": "code",
   "execution_count": 25,
   "metadata": {},
   "outputs": [
    {
     "name": "stdout",
     "output_type": "stream",
     "text": [
      "Pierre\n"
     ]
    }
   ],
   "source": [
    "d = {\"01\": {\"identite\": {\"prenom\":\"Pierre\", \"nom\":\"Dupont\"}}}\n",
    "a = get_value(d,\"01\",\"identite\",\"prenom\",\"valeur inconnue\")\n",
    "print(a)"
   ]
  },
  {
   "cell_type": "code",
   "execution_count": 26,
   "metadata": {},
   "outputs": [
    {
     "name": "stdout",
     "output_type": "stream",
     "text": [
      "valeur inconnue\n"
     ]
    }
   ],
   "source": [
    "d = {\"01\": {\"identite\": {\"prenom\":\"Pierre\", \"nom\":\"Dupont\"}}}\n",
    "a = get_value(d,\"02\",\"identite\",\"prenom\",\"valeur inconnue\")\n",
    "print(a)"
   ]
  },
  {
   "cell_type": "markdown",
   "metadata": {},
   "source": [
    "<b> - 11: Créer une classe personnalisée pour une liste </b>\n",
    "\n",
    "- ne peut pas contenir de nombres ni deux fois le même éléments\n"
   ]
  },
  {
   "cell_type": "code",
   "execution_count": 27,
   "metadata": {},
   "outputs": [
    {
     "name": "stdout",
     "output_type": "stream",
     "text": [
      "Vous ne pouvez pas ajouter de nombre à la liste\n",
      "['Julien', 'Marie', 'Pierre']\n"
     ]
    }
   ],
   "source": [
    "class CustomListe(list):        # on herite dans notre class de l'objet list : on aura donc les methodes append, extend... \n",
    "    def __init__(self, *args):   # dans notre method init: on passe un nombre indefini d'arguments à notre class quand on va l'instancier \n",
    "        self.valeurs = list(args)\n",
    "        \n",
    "    def append(self, value):\n",
    "        if isinstance(value, int):\n",
    "            print(\"Vous ne pouvez pas ajouter de nombre à la liste\")\n",
    "            return False\n",
    "    \n",
    "        if isinstance(value, list):\n",
    "            self.valeurs.extend(value)\n",
    "            \n",
    "        elif isinstance(value, str):\n",
    "            self.valeurs.append(value)\n",
    " \n",
    "        self.remove_duplicates()\n",
    " \n",
    "    def remove_duplicates(self):\n",
    "        self.valeurs = sorted(list(set(self.valeurs)))  # 1 set ne peut pas contenir de doublons\n",
    " \n",
    "\n",
    "ma_liste = CustomListe(\"Pierre\", \"Julien\", \"Marie\")\n",
    "ma_liste.append(5)\n",
    "ma_liste.append(\"Pierre\")\n",
    "print(ma_liste.valeurs)\n",
    "        \n",
    "    "
   ]
  },
  {
   "cell_type": "markdown",
   "metadata": {},
   "source": [
    "<b> - 12: Recréer la méthode split </b>\n",
    "\n",
    "- Nous allons re-créer la méthode split\n",
    "\n",
    "Notre fonction \"separateur\" acceptera deux paramètres : la chaîne de caractère à séparer et l'élément sur lequel on sépare cette chaîne de caractère :\n"
   ]
  },
  {
   "cell_type": "code",
   "execution_count": 28,
   "metadata": {},
   "outputs": [],
   "source": [
    "def separateur(mot, sep):\n",
    "    #Nous initialisons ensuite deux variables vides :\n",
    "    liste = []\n",
    "    mot_courant = \"\"\n",
    "     # Nous avons donc une structure conditionnelle à l'intérieur de la boucle for, \n",
    "     # qui vérifie si la lettre courante est égale ou non au séparateur. \n",
    "     # Si c'est le cas, nous ajoutons la lettre à la variable \"mot_courant\" :\n",
    "    for lettre in mot:\n",
    "        if lettre != sep:\n",
    "            mot_courant += lettre\n",
    "        else:\n",
    "            liste.append(mot_courant)\n",
    "            mot_courant = \"\"\n",
    " \n",
    "    liste.append(mot_courant)\n",
    "    return liste"
   ]
  },
  {
   "cell_type": "code",
   "execution_count": 29,
   "metadata": {},
   "outputs": [
    {
     "name": "stdout",
     "output_type": "stream",
     "text": [
      "['bonjour', 'tout', 'le', 'monde']\n"
     ]
    }
   ],
   "source": [
    "phrase = \"bonjour-tout-le-monde\"\n",
    "print(separateur(phrase, \"-\"))"
   ]
  },
  {
   "cell_type": "markdown",
   "metadata": {},
   "source": [
    "- POINTS IMPORTANTS À RETENIR\n",
    "\n",
    "Pour vérifier si une variable est différente d'une autre, on utilise la syntaxe !=\n",
    "\n",
    "Pour vérifier si une variable est égale à une autre, on utilise la syntaxe =="
   ]
  },
  {
   "cell_type": "markdown",
   "metadata": {},
   "source": [
    "<b> - 13: Créer une classe pour gérer des voitures </b>\n",
    "\n",
    "Le print à la fin du script retourne respectivement la marque, le prix et la couleur de la voiture (\"Lamborghini\", 150000 et \"rouge\").\n",
    "\n",
    "Le but de cet exercice était de créer une classe qui contient trois attributs : la marque, le prix et la couleur de la voiture.\n",
    "\n",
    "On crée la méthode __init__ qui contient trois paramètres (sans compter self):"
   ]
  },
  {
   "cell_type": "raw",
   "metadata": {},
   "source": [
    "class Voiture(object):\n",
    "    def __init__(self, marque, prix, couleur):"
   ]
  },
  {
   "cell_type": "markdown",
   "metadata": {},
   "source": [
    "Nous créons ensuite 3 variables (marque, prix et couleur), appartenant à la classe, à partir des arguments passés à la fonction __init__ lors de l'instanciation de la classe :"
   ]
  },
  {
   "cell_type": "code",
   "execution_count": 30,
   "metadata": {},
   "outputs": [],
   "source": [
    "class Voiture(object):\n",
    "    def __init__(self, marque, prix, couleur):\n",
    "        self.marque = marque\n",
    "        self.prix = prix\n",
    "        self.couleur = couleur"
   ]
  },
  {
   "cell_type": "code",
   "execution_count": 31,
   "metadata": {},
   "outputs": [
    {
     "name": "stdout",
     "output_type": "stream",
     "text": [
      "Lamborghini\n",
      "150000\n",
      "rouge\n"
     ]
    }
   ],
   "source": [
    "super_voiture = Voiture(\"Lamborghini\", 150000, \"rouge\")\n",
    "print(super_voiture.marque)\n",
    "print(super_voiture.prix)\n",
    "print(super_voiture.couleur)"
   ]
  },
  {
   "cell_type": "markdown",
   "metadata": {},
   "source": [
    "- POINTS IMPORTANTS À RETENIR\n",
    "\n",
    "La méthode \"magique\" appelée lors de l'instanciation d'une classe est la méthode __init__"
   ]
  },
  {
   "cell_type": "markdown",
   "metadata": {},
   "source": [
    "<b> - 14: Modifier la représentation d'une classe</b>\n",
    "\n",
    ":e but de cet exercice est de changer la représentation de notre classe afin de pouvoir faire un print d'une instance de notre classe et avoir des informations précises de notre instance.\n",
    "\n",
    "La méthode pour changer la représentation d'une classe est __repr__\n",
    "\n",
    "Ici, il faut modifier la représentation de la classe Voiture, c'est à dire ce qui nous est retourné lorsque l'on print une instance créé à partir de la classe Voiture.\n",
    "\n",
    "\n",
    "Il fallait pour ce faire ré-implémenter la méthode spécial __repr__ :\n"
   ]
  },
  {
   "cell_type": "code",
   "execution_count": 32,
   "metadata": {},
   "outputs": [],
   "source": [
    "class Voiture(object):\n",
    "    def __init__(self, marque, prix, couleur):\n",
    "        self.marque = marque\n",
    "        self.prix = prix\n",
    "        self.couleur = couleur\n",
    "    def __repr__(self):\n",
    "        return \"Votre voiture est une {} {} et coûte {}$\".format(self.marque.capitalize(), self.couleur, self.prix)\n"
   ]
  },
  {
   "cell_type": "code",
   "execution_count": 33,
   "metadata": {},
   "outputs": [
    {
     "name": "stdout",
     "output_type": "stream",
     "text": [
      "Votre voiture est une Lamborghini rouge et coûte 150000$\n"
     ]
    }
   ],
   "source": [
    "super_voiture = Voiture(\"lamborghini\", 150000, \"rouge\")\n",
    "print(super_voiture)"
   ]
  },
  {
   "cell_type": "markdown",
   "metadata": {},
   "source": [
    "<b> - 15: Créer des classes de base avec les classmethod</b>"
   ]
  },
  {
   "cell_type": "code",
   "execution_count": 34,
   "metadata": {},
   "outputs": [],
   "source": [
    "class Voiture(object):\n",
    "    def __init__(self, marque, prix, couleur):\n",
    "        self.marque = marque\n",
    "        self.prix = prix\n",
    "        self.couleur = couleur\n",
    "    \n",
    "    @classmethod\n",
    "    def lamborghini(cls):\n",
    "        return cls(\"Lamborghini\", 150000, \"rouge\")\n",
    " \n",
    "    @classmethod\n",
    "    def porsche(cls):\n",
    "        return cls(\"Porsche\", 200000, \"noire\")\n",
    " "
   ]
  },
  {
   "cell_type": "code",
   "execution_count": 35,
   "metadata": {},
   "outputs": [
    {
     "name": "stdout",
     "output_type": "stream",
     "text": [
      "150000\n",
      "200000\n"
     ]
    }
   ],
   "source": [
    "lamborghini = Voiture.lamborghini()\n",
    "print(lamborghini.prix)\n",
    "porsche = Voiture.porsche()\n",
    "print(porsche.prix)"
   ]
  },
  {
   "cell_type": "markdown",
   "metadata": {},
   "source": [
    "__EXPLICATION__\n",
    "\n",
    "Dans cet exercice, on continue dans les fonctions avancées de l'orienté objet avec les _classmethod_.\n",
    "\n",
    "Pour spécifier qu'une méthode est une \"classemethod\", on utilise le __décorateur__ @classmethod.\n",
    "\n",
    "Cela nous permet de déclarer deux méthodes, \"lamborghini\" et \"porsche\", qui vont nous permettre de créer des instances à partir de notre classe Voiture plus facilement.\n",
    "\n",
    "Une \"classmethod\" a comme premier paramètre, la classe elle-même, qui par convention est appelé \"cls\" :\n",
    "\n",
    "                @classmethod\n",
    "                def lamborghini(cls):\n",
    "                    pass\n",
    "                    \n",
    "                    \n",
    "À l'intérieur de cette méthode \"lamborghini\", nous pouvons donc utiliser \"cls\" pour référer à la class Voiture.\n",
    "\n",
    "- POINTS IMPORTANTS À RETENIR\n",
    "\n",
    "Pour définir une méthode comme \"classmethod\" on utilise le décorateur @classmethod.\n",
    "\n",
    "Par convention, le premier paramètre d'une classmethod, représentant la classe, est appelé \"cls\"."
   ]
  },
  {
   "cell_type": "markdown",
   "metadata": {},
   "source": [
    "<b> - 16: Ajouter une propriété à la classe voiture</b>\n",
    "\n",
    "Nous allons ici ajouter une méthode qui repose sur le principe des propriétés des classes et qui nous permettra d'accéder au prix en euros. \n"
   ]
  },
  {
   "cell_type": "code",
   "execution_count": 36,
   "metadata": {},
   "outputs": [
    {
     "name": "stdout",
     "output_type": "stream",
     "text": [
      "150000\n",
      "225000\n"
     ]
    }
   ],
   "source": [
    "class Voiture(object):\n",
    "    def __init__(self, marque, prix, couleur):\n",
    "        self.marque = marque\n",
    "        self.prix = prix\n",
    "        self.couleur = couleur\n",
    " \n",
    "    @classmethod\n",
    "    def lamborghini(cls):\n",
    "        return cls(\"Lamborghini\", 150000, \"rouge\")\n",
    " \n",
    "    @property\n",
    "    def prix_euros(self):\n",
    "        prix_euros = self.prix * 1.5\n",
    "        return round(prix_euros)\n",
    " \n",
    "lamborghini = Voiture.lamborghini()\n",
    "print(lamborghini.prix)\n",
    "print(lamborghini.prix_euros)"
   ]
  },
  {
   "cell_type": "markdown",
   "metadata": {},
   "source": [
    "Une propriété nous permet d'éviter de passer par des méthodes \"getter\" et \"setter\" (méthodes qui vont nous permettre de modifier et récupérer la valeur d'un attribut).\n",
    "Dans ce cas-ci, nous n'avons pas de propriété \"setter\", juste une propriété qui nous permet de récupérer un attribut modifié de notre classe.\n",
    "\n",
    "Pour définir une méthode comme une propriété, on utilise le décorateur __@property__\n",
    "\n",
    "- POINTS IMPORTANTS À RETENIR\n",
    "\n",
    "Pour spécifier qu'une méthode doit être interprétée comme une propriété, on utilise le décorateur @property.\n",
    "\n",
    "Pour récupérer la valeur d'une propriété, on utilise tout simplement le nom de la méthode définie comme une propriété, sans les parenthèses.\n",
    "\n",
    "Pour arrondir un nombre, on utilise la fonction round."
   ]
  },
  {
   "cell_type": "markdown",
   "metadata": {},
   "source": [
    "<b> - 17: Erreur d'héritage entre deux classes</b>\n"
   ]
  },
  {
   "cell_type": "code",
   "execution_count": 38,
   "metadata": {},
   "outputs": [
    {
     "ename": "AttributeError",
     "evalue": "'Chihuahua' object has no attribute 'race'",
     "output_type": "error",
     "traceback": [
      "\u001b[1;31m---------------------------------------------------------------------------\u001b[0m",
      "\u001b[1;31mAttributeError\u001b[0m                            Traceback (most recent call last)",
      "\u001b[1;32m<ipython-input-38-3a3656c486d6>\u001b[0m in \u001b[0;36m<module>\u001b[1;34m\u001b[0m\n\u001b[0;32m     11\u001b[0m \u001b[1;33m\u001b[0m\u001b[0m\n\u001b[0;32m     12\u001b[0m \u001b[0mchien\u001b[0m \u001b[1;33m=\u001b[0m \u001b[0mChihuahua\u001b[0m\u001b[1;33m(\u001b[0m\u001b[1;34m\"Lily\"\u001b[0m\u001b[1;33m)\u001b[0m\u001b[1;33m\u001b[0m\u001b[1;33m\u001b[0m\u001b[0m\n\u001b[1;32m---> 13\u001b[1;33m \u001b[0mprint\u001b[0m\u001b[1;33m(\u001b[0m\u001b[0mchien\u001b[0m\u001b[1;33m.\u001b[0m\u001b[0mrace\u001b[0m\u001b[1;33m)\u001b[0m\u001b[1;33m\u001b[0m\u001b[1;33m\u001b[0m\u001b[0m\n\u001b[0m",
      "\u001b[1;31mAttributeError\u001b[0m: 'Chihuahua' object has no attribute 'race'"
     ]
    }
   ],
   "source": [
    "class Chien(object):\n",
    "    def __init__(self, race):\n",
    "        self.race = race\n",
    "    @property\n",
    "    def taille(self):\n",
    "        return 100\n",
    "\n",
    "class Chihuahua(Chien):\n",
    "    def __init__(self, nom):\n",
    "        self.nom = nom\n",
    "\n",
    "chien = Chihuahua(\"Lily\")\n",
    "print(chien.race)"
   ]
  },
  {
   "cell_type": "markdown",
   "metadata": {},
   "source": [
    "Cet exercice touche à l'héritage.\n",
    "\n",
    "Le problème du script de départ était que la classe Chihuahua n'appelait jamais le constructeur __init__ de la fonction dont elle héritait.\n",
    "\n",
    "Nous essayions d'afficher la race du chien alors qu'elle n'est pas définie dans la classe Chihuahua, et la classe \"Chien\" dont Chihuahua hérite et qui contient l'attribut race dans sa méthode __init__ n'est jamais appelée.\n",
    "\n",
    "Pour remédier à cela, nous utilisons la fonction \"super\" qui nous permet d'appeler la méthode __init__ de la classe parent de Chihuahua :\n",
    "\n",
    "        super().__init__(\"Chihuahua\")\n",
    "\n",
    "Vous remarquerez que nous profitons de l'appel à la méthode __init__ pour passer en argument la race du chien (\"Chihuahua\"), ce qui permettra donc d'afficher la bonne valeur lors du print de la race du chien à la dernière ligne du script.\n",
    "\n",
    "À la place de la fonction super, on peut explicitement utiliser le nom de la classe parente :\n",
    "\n",
    "         Chien.__init__(\"Chihuahua\")\n",
    "\n",
    "L'avantage d'utiliser la fonction super est que nous n'avons pas besoin de référer directement au nom de la classe parent.\n",
    "Ainsi, si nous décidons plus tard de renommer la classe \"Chien\" en \"Chat\", notre classe \"Chihuahua\" fonctionnera toujours si on utilise super, mais nous retourneras une erreur si on utilise explicitement le nom de la classe \"Chien\".\n",
    "\n",
    "Il est important de noter également que la syntaxe de la fonction super a été grandement allégée avec Python 3.\n",
    "\n",
    "Si vous utilisez Python 2, vous devez passer deux arguments à la fonction super : la classe et l'instance de la classe :\n",
    "\n",
    "        super(Chihuahua, self).__init__(\"Chihuahua\")\n",
    "\n",
    "\n",
    "La syntaxe est plus lourde et heureusement, avec Python 3, nous pouvons juste utiliser super() sans lui passer d'arguments et cela fonctionne sans problème.\n",
    "\n",
    "POINTS IMPORTANTS À RETENIR\n",
    "\n",
    "Pour appeler une fonction d'une classe parente, on peut utiliser la fonction super."
   ]
  },
  {
   "cell_type": "code",
   "execution_count": 39,
   "metadata": {},
   "outputs": [
    {
     "name": "stdout",
     "output_type": "stream",
     "text": [
      "Chihuahua\n"
     ]
    }
   ],
   "source": [
    "class Chien(object):\n",
    "    def __init__(self, race):\n",
    "        self.race = race\n",
    " \n",
    "    @property\n",
    "    def taille(self):\n",
    "        return 100\n",
    " \n",
    "class Chihuahua(Chien):\n",
    "    def __init__(self, nom):\n",
    "        super().__init__(\"Chihuahua\")\n",
    "        self.nom = nom\n",
    " \n",
    "chien = Chihuahua(\"Lily\")\n",
    "print(chien.race)"
   ]
  },
  {
   "cell_type": "markdown",
   "metadata": {},
   "source": [
    "<b> - 18: Créer une classe qui hérite d'une autre</b>\n"
   ]
  },
  {
   "cell_type": "code",
   "execution_count": 40,
   "metadata": {},
   "outputs": [
    {
     "name": "stdout",
     "output_type": "stream",
     "text": [
      "noire\n",
      "300\n",
      "Je suis une voiture de luxe\n"
     ]
    }
   ],
   "source": [
    "class Voiture(object):\n",
    "    def __init__(self):\n",
    "        self.couleur = \"noire\"\n",
    "        self.vitesse_max = 200\n",
    "        self.prix = 25000\n",
    " \n",
    "    @property\n",
    "    def prix_reduit(self):\n",
    "        return self.prix * 0.75\n",
    " \n",
    "    def __repr__(self):\n",
    "        return \"Je suis une voiture normale\"\n",
    " \n",
    "class Lamborghini(Voiture):\n",
    "    def __init__(self):\n",
    "        super().__init__()\n",
    "        self.vitesse_max = 300\n",
    "        self.prix = 100000\n",
    " \n",
    "    def __repr__(self):\n",
    "        return \"Je suis une voiture de luxe\"\n",
    " \n",
    "ma_voiture = Lamborghini()\n",
    "print(ma_voiture.couleur)\n",
    "print(ma_voiture.vitesse_max)\n",
    "print(ma_voiture)"
   ]
  },
  {
   "cell_type": "markdown",
   "metadata": {},
   "source": [
    "EXPLICATION\n",
    "\n",
    "Le but de cet exercice était de créer une classe \"Lamborghini\" qui hérite de la classe Voiture et de tous ses attributs.\n",
    "\n",
    "Pour commencer, il fallait donc créer une classe Lamborghini qui hérite de la classe Voiture :\n",
    "\n",
    "            class Lamborghini(Voiture):\n",
    "\n",
    "__Pour hériter d'une classe__, rien de plus simple que d'indiquer le nom de la classe dont on veut hériter dans les parenthèse après la définition de la classe.\n",
    "\n",
    "__Pour pouvoir hériter de tous les attributs définis dans la méthode __init____ de la classe Voiture, il nous faut appeler cette méthode grâce à la fonction super :\n",
    "\n",
    "            super().__init__()\n",
    "\n",
    "\n",
    "Nous avons donc ainsi accès dans notre classe Lamborghini aux attributs \"couleur\", \"vitesse_max\" et \"prix\" définie dans la classe Voiture.\n",
    "\n",
    "Nous modifions ensuite les valeurs par défaut des attributs \"vitesse_max\" et \"prix\" (parce qu'un Lamborghini, ça va vite et ça coûte cher ^^) :\n",
    "\n",
    "            self.vitesse_max = 300\n",
    "            self.prix = 100000\n",
    "\n",
    "\n",
    "Pour finir, nous ré-implémentons la méthode spéciale __repr__ pour signifier que la voiture n'est pas une voiture normale mais une voiture de luxe :\n",
    "\n",
    "            def __repr__(self):\n",
    "                return \"Je suis une voiture de luxe\"\n",
    "    \n",
    "    \n",
    "- POINTS IMPORTANTS À RETENIR\n",
    "\n",
    "__Pour hériter d'une classe__, on indique le nom de la classe dont on veut hériter entre les parenthèses lors de la création de notre classe enfant.\n",
    "\n",
    "__Pour appeler une méthode de la classe parent__, on utilise la fonction super.__"
   ]
  },
  {
   "cell_type": "markdown",
   "metadata": {},
   "source": [
    "<b> - 19: Créer une classe pour manipuler des chemins  </b>\n",
    "\n",
    "L'objectif est de créer une class 'Path' qui va simplifier la manipulation de chemins vers des dossiers ou fichiers sur notre disque dur. \n",
    "\n",
    "Nous allons créer  3 métohdes et propriétés: \n",
    "- Une propriété __ext__ pour récupérer l'extension du fichier\n",
    "- Une propriété __name__ pour récupérer le nom du fichier uniquement (donc sans le dossier et sans l'extension)\n",
    "- Une méthode __dirname__ qui va récupérer le dossier parent du chemin actuel. Cette méthode devra retourner un objet Path pour que l'on puisse appliquer de nouveau la méthode dirname pour le résultat précédent\n",
    "\n",
    "\n",
    "\n",
    "Dans cet exercice, on met en pratique beaucoup d'éléments que l'on a vu dans les exercices précédents, avec les classes, les méthodes et les propriétés.\n",
    "\n",
    "Le but de cet exercice était de créer une classe \"Path\" pour nous aider à manipuler des chemins de dossier.\n",
    "\n",
    "Avec le module os, si on veut remonter dans une structure de dossier, on peut utiliser la fonction dirname, mais le code ne sera pas très élégant :\n",
    "\n",
    "            os.path.dirname(os.path.dirname(mon_dossier))\n",
    "            \n",
    "Vous conviendrez qu'il serait plus pratique de pouvoir faire :\n",
    "\n",
    "            mon_dossier.dirname().dirname()\n",
    "            \n",
    "Ce mécanisme est possible en créant notre propre classe."
   ]
  },
  {
   "cell_type": "code",
   "execution_count": 41,
   "metadata": {},
   "outputs": [
    {
     "name": "stdout",
     "output_type": "stream",
     "text": [
      "/Users/thibh\n",
      "test\n",
      ".txt\n"
     ]
    }
   ],
   "source": [
    "import os\n",
    " \n",
    "class Path(str):                              # nous allons créer une classe Path qui hérite de la classe \"str\"\n",
    "                                              #  permet d'hériter de toutes les fonctionnalités des chaînes de caractère.\n",
    "    \n",
    "    @property                                # première propriété pour facilement accéder à l'extension de notre fichier              \n",
    "    def ext(self):\n",
    "        return os.path.splitext(self)[-1]\n",
    " # on utilise la fonction splitext directement sur \"self\".\n",
    " # En effet, vu que l'on hérite de la classe \"str\", self correspond à la chaîne de caractère   \n",
    " # que nous passons à notre classe \"Path\" lors de la création d'une instance.\n",
    "\n",
    " # nous créons une méthode \"dirname\" qui va nous permettre de récupérer le dossier parent de notre chemin.\n",
    " # Nous utilisons logiquement la fonction dirname du module os.path    \n",
    "    def dirname(self):\n",
    "       # return Path(os.path.dirname(self))\n",
    "        return Path(os.path.dirname(self))\n",
    " # on ne retourne pas le résultat de la fonction dirname : je retourne un objet \"Path\".\n",
    " # Cela va nous permettre si nécessaire, de répéter l'opération autant de fois que nécessaire. \n",
    "    @property\n",
    "    def name(self):\n",
    "        basename = os.path.basename(self)\n",
    "        name = os.path.splitext(basename)[0]\n",
    "        return name\n",
    "    \n",
    "s = Path(\"/Users/thibh/Documents/test.txt\")\n",
    "print(s.dirname().dirname())\n",
    "print(s.name)\n",
    "print(s.ext)"
   ]
  },
  {
   "cell_type": "code",
   "execution_count": null,
   "metadata": {},
   "outputs": [],
   "source": []
  },
  {
   "cell_type": "code",
   "execution_count": null,
   "metadata": {},
   "outputs": [],
   "source": []
  },
  {
   "cell_type": "code",
   "execution_count": null,
   "metadata": {},
   "outputs": [],
   "source": []
  }
 ],
 "metadata": {
  "kernelspec": {
   "display_name": "Python 3",
   "language": "python",
   "name": "python3"
  },
  "language_info": {
   "codemirror_mode": {
    "name": "ipython",
    "version": 3
   },
   "file_extension": ".py",
   "mimetype": "text/x-python",
   "name": "python",
   "nbconvert_exporter": "python",
   "pygments_lexer": "ipython3",
   "version": "3.7.3"
  }
 },
 "nbformat": 4,
 "nbformat_minor": 2
}
