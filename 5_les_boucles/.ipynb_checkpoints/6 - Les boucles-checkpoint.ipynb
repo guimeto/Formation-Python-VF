{
 "cells": [
  {
   "cell_type": "markdown",
   "metadata": {},
   "source": [
    "<h1>Objectifs</h1>\n",
    "\n",
    "- Comprendre ce qu'est une boucle\n",
    "- Savoir créer une boucle While\n",
    "- Savoir créer une boucle For\n",
    "- Intérer à travers des listes et des dictionnaires\n",
    "- Créer des listes de chiffres à la volée"
   ]
  },
  {
   "cell_type": "markdown",
   "metadata": {},
   "source": [
    "<h2>1- Les boucles while</h2>"
   ]
  },
  {
   "cell_type": "code",
   "execution_count": 2,
   "metadata": {},
   "outputs": [
    {
     "name": "stdout",
     "output_type": "stream",
     "text": [
      "1\n",
      "2\n",
      "3\n",
      "4\n",
      "5\n",
      "6\n"
     ]
    }
   ],
   "source": [
    "# déclaration d'une boucle while\n",
    "i = 1\n",
    "while i <= 6:\n",
    "    print(i)\n",
    "    i = i+1"
   ]
  },
  {
   "cell_type": "code",
   "execution_count": 4,
   "metadata": {},
   "outputs": [
    {
     "name": "stdout",
     "output_type": "stream",
     "text": [
      "1\n",
      "2\n",
      "3\n",
      "4\n",
      "5\n",
      "6\n"
     ]
    }
   ],
   "source": [
    "# déclaration d'une boucle while\n",
    "i = 1\n",
    "while i <= 6:\n",
    "    print(i)\n",
    "    i += 1 #Mieux ! "
   ]
  },
  {
   "cell_type": "code",
   "execution_count": 5,
   "metadata": {},
   "outputs": [
    {
     "name": "stdout",
     "output_type": "stream",
     "text": [
      "1\n",
      "2\n",
      "3\n"
     ]
    }
   ],
   "source": [
    "# interuption d'une boucle avec break\n",
    "i = 1\n",
    "while i < 6:\n",
    "    print(i)\n",
    "    if i == 3:\n",
    "        break\n",
    "    i += 1"
   ]
  },
  {
   "cell_type": "code",
   "execution_count": 6,
   "metadata": {},
   "outputs": [
    {
     "name": "stdout",
     "output_type": "stream",
     "text": [
      "1\n",
      "2\n",
      "4\n",
      "5\n",
      "6\n"
     ]
    }
   ],
   "source": [
    "# ne pas lire la suite du code et passer directement à la boucle suivante avec continue\n",
    "i = 0\n",
    "while i < 6:\n",
    "    i += 1 \n",
    "    if i == 3:\n",
    "        continue\n",
    "    print(i)"
   ]
  },
  {
   "cell_type": "markdown",
   "metadata": {},
   "source": [
    "et c'est tout...A éviter car on peut facilement faire une boucle infine et faire planter son code :"
   ]
  },
  {
   "cell_type": "code",
   "execution_count": null,
   "metadata": {
    "collapsed": true
   },
   "outputs": [],
   "source": [
    "i = 0\n",
    "while i == 0:\n",
    "    print('boucle infiniiiiiiie')"
   ]
  },
  {
   "cell_type": "markdown",
   "metadata": {},
   "source": [
    "<h2>2- Les boucles for</h2>"
   ]
  },
  {
   "cell_type": "code",
   "execution_count": 1,
   "metadata": {},
   "outputs": [
    {
     "name": "stdout",
     "output_type": "stream",
     "text": [
      "smartphone\n",
      "chaussures\n",
      "console\n",
      "10000\n",
      "15000\n",
      "12000\n"
     ]
    }
   ],
   "source": [
    "produits = ['smartphone','chaussures','console']\n",
    "caParJour = [10000,15000,12000]\n",
    "\n",
    "for i in produits:\n",
    "    print(i)\n",
    "    \n",
    "for i in caParJour:\n",
    "    print(i)    \n",
    "    \n",
    "    "
   ]
  },
  {
   "cell_type": "code",
   "execution_count": 8,
   "metadata": {},
   "outputs": [
    {
     "name": "stdout",
     "output_type": "stream",
     "text": [
      "smartphone\n"
     ]
    }
   ],
   "source": [
    "#interuption d'une boucle avec break\n",
    "for i in produits:\n",
    "    if i =='chaussures':\n",
    "        break\n",
    "    print(i)"
   ]
  },
  {
   "cell_type": "code",
   "execution_count": 9,
   "metadata": {},
   "outputs": [
    {
     "name": "stdout",
     "output_type": "stream",
     "text": [
      "smartphone\n",
      "console\n"
     ]
    }
   ],
   "source": [
    "#ne pas lire la suite du code et passer directement à la boucle suivante avec continue\n",
    "for i in produits:\n",
    "    if i =='chaussures':\n",
    "        continue\n",
    "    print(i)"
   ]
  },
  {
   "cell_type": "code",
   "execution_count": 2,
   "metadata": {},
   "outputs": [
    {
     "name": "stdout",
     "output_type": "stream",
     "text": [
      "{'smartphone': 1000, 'chaussures': 100, 'console': 400}\n",
      "smartphone\n",
      "chaussures\n",
      "console\n"
     ]
    }
   ],
   "source": [
    "# fonctionne dans des dictionnaires\n",
    "produitsDict = {'smartphone':1000,'chaussures':100,'console':400}\n",
    "print(produitsDict)\n",
    "\n",
    "for i in produitsDict:\n",
    "    print(i)"
   ]
  },
  {
   "cell_type": "code",
   "execution_count": 3,
   "metadata": {},
   "outputs": [
    {
     "name": "stdout",
     "output_type": "stream",
     "text": [
      "smartphone\n",
      "1000\n",
      "Le prix du produit smartphone est de 1000 euros\n",
      "chaussures\n",
      "100\n",
      "Le prix du produit chaussures est de 100 euros\n",
      "console\n",
      "400\n",
      "Le prix du produit console est de 400 euros\n"
     ]
    }
   ],
   "source": [
    "for key, value in produitsDict.items():\n",
    "    print(key)\n",
    "    print(value)\n",
    "    print('Le prix du produit '+key+ ' est de '+str(value)+' euros')"
   ]
  },
  {
   "cell_type": "markdown",
   "metadata": {},
   "source": [
    "<h2>3- Création de listes de chiffres </h2>"
   ]
  },
  {
   "cell_type": "code",
   "execution_count": 4,
   "metadata": {},
   "outputs": [
    {
     "name": "stdout",
     "output_type": "stream",
     "text": [
      "0\n",
      "1\n",
      "2\n",
      "3\n",
      "4\n",
      "5\n",
      "6\n",
      "7\n",
      "8\n",
      "9\n"
     ]
    }
   ],
   "source": [
    "#si on a vraiment besoin d'avoir une liste de chiffre et qu'on souhaite éviter while il y a range\n",
    "for i in range(10):\n",
    "    print(i)"
   ]
  },
  {
   "cell_type": "code",
   "execution_count": 5,
   "metadata": {},
   "outputs": [
    {
     "name": "stdout",
     "output_type": "stream",
     "text": [
      "2\n",
      "3\n",
      "4\n",
      "5\n",
      "6\n"
     ]
    }
   ],
   "source": [
    "for i in range(2,7):\n",
    "    print(i)"
   ]
  },
  {
   "cell_type": "code",
   "execution_count": 6,
   "metadata": {},
   "outputs": [
    {
     "name": "stdout",
     "output_type": "stream",
     "text": [
      "0\n",
      "2\n",
      "4\n",
      "6\n",
      "8\n"
     ]
    }
   ],
   "source": [
    "for i in range(0,10,2):\n",
    "    print(i)"
   ]
  },
  {
   "cell_type": "code",
   "execution_count": 7,
   "metadata": {},
   "outputs": [
    {
     "name": "stdout",
     "output_type": "stream",
     "text": [
      "5\n",
      "4\n",
      "3\n",
      "2\n",
      "1\n",
      "0\n",
      "-1\n",
      "-2\n",
      "-3\n",
      "-4\n"
     ]
    }
   ],
   "source": [
    "for i in range(5,-5,-1):\n",
    "    print(i)"
   ]
  },
  {
   "cell_type": "code",
   "execution_count": 8,
   "metadata": {},
   "outputs": [
    {
     "name": "stdout",
     "output_type": "stream",
     "text": [
      "smartphone\n",
      "chaussures\n",
      "console\n"
     ]
    }
   ],
   "source": [
    "for i in range(len(produits)):\n",
    "    print(produits[i])"
   ]
  },
  {
   "cell_type": "code",
   "execution_count": 9,
   "metadata": {},
   "outputs": [
    {
     "name": "stdout",
     "output_type": "stream",
     "text": [
      "smartphone\n",
      "10000\n",
      "chaussures\n",
      "15000\n",
      "console\n",
      "12000\n"
     ]
    }
   ],
   "source": [
    "produits = ['smartphone','chaussures','console']\n",
    "caParJour = [10000,15000,12000]\n",
    "\n",
    "for i in range(len(produits)):\n",
    "    print(produits[i])\n",
    "    print(caParJour[i])"
   ]
  },
  {
   "cell_type": "code",
   "execution_count": null,
   "metadata": {},
   "outputs": [],
   "source": []
  }
 ],
 "metadata": {
  "kernelspec": {
   "display_name": "Python 3",
   "language": "python",
   "name": "python3"
  },
  "language_info": {
   "codemirror_mode": {
    "name": "ipython",
    "version": 3
   },
   "file_extension": ".py",
   "mimetype": "text/x-python",
   "name": "python",
   "nbconvert_exporter": "python",
   "pygments_lexer": "ipython3",
   "version": "3.7.3"
  }
 },
 "nbformat": 4,
 "nbformat_minor": 2
}
