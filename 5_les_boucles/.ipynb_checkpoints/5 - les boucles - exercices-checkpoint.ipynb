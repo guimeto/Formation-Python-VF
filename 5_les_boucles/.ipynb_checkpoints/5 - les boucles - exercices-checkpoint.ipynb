{
 "cells": [
  {
   "cell_type": "markdown",
   "metadata": {},
   "source": [
    "<h1> TP : Manipuler une liste contenant les prix de 58 maisons</h1>\n",
    "\n",
    "        1- Créer de la liste \"prix_de_58_maisons\"\n",
    "prix_de_58_maisons=list(range(125000,700000,10000))\n",
    "\n",
    "\n",
    "        2- Combien de maisons ont un prix supérieur ou égal à 300000 euros ?\n",
    "\n",
    "        3- Combien de maisons ont un prix compris entre 250000 et 400000 euros ?\n",
    "\n",
    "        4- Combien de maisons ont un prix qui n’est pas supérieur à 600000 euros ?\n",
    "\n",
    "        5- Combien de maisons ont un prix inférieur à 150000 euros ou supérieur à 650000 euros ?\n",
    "\n",
    "\n",
    "Indice: parcourir la liste avec une boucle, utiliser des instructions de condition if et un compteur pour compter les résultats vrais.\n"
   ]
  },
  {
   "cell_type": "markdown",
   "metadata": {},
   "source": [
    "1 Création de la liste \"prix_de_58_maisons\""
   ]
  },
  {
   "cell_type": "code",
   "execution_count": 2,
   "metadata": {},
   "outputs": [],
   "source": [
    "prix_de_58_maisons=list(range(125000,700000,10000))  "
   ]
  },
  {
   "cell_type": "code",
   "execution_count": 3,
   "metadata": {},
   "outputs": [
    {
     "name": "stdout",
     "output_type": "stream",
     "text": [
      "Le nombre de maisons avec un prix supérieur ou égal à 300000 euros est de : 40\n"
     ]
    }
   ],
   "source": [
    "# 2. Combien de maisons ont un prix supérieur à 300000 euros ?\n",
    "# on définit notre compteur\n",
    "nombre_maisons=0\n",
    "for prix in prix_de_58_maisons:    # on va parcours notre liste avec une boucle for \n",
    "    if prix >= 300000:             # si notre condition est rencontrée, on incrémente notre compteur \n",
    "        nombre_maisons=nombre_maisons+1\n",
    "print(\"Le nombre de maisons avec un prix supérieur ou égal à 300000 euros est de : %d\" % (nombre_maisons))"
   ]
  },
  {
   "cell_type": "code",
   "execution_count": 4,
   "metadata": {},
   "outputs": [
    {
     "name": "stdout",
     "output_type": "stream",
     "text": [
      "Le nombre de maisons qui ont un prix compris entre 250000 et 400000 euros est de : 15\n"
     ]
    }
   ],
   "source": [
    "# 2. Combien de maisons ont un prix compris entre 250000 et 400000 euros ?\n",
    "# on définit notre compteur\n",
    "nombre_maisons=0\n",
    "for prix in prix_de_58_maisons:  # on va parcours notre liste avec une boucle for    \n",
    "    if (prix >= 250000) and (prix <= 400000): # si notre condition est rencontrée, on incrémente notre compteur\n",
    "        nombre_maisons=nombre_maisons+1\n",
    "print(\"Le nombre de maisons qui ont un prix compris entre 250000 et 400000 euros est de : %d\" % (nombre_maisons))"
   ]
  },
  {
   "cell_type": "code",
   "execution_count": 5,
   "metadata": {},
   "outputs": [
    {
     "name": "stdout",
     "output_type": "stream",
     "text": [
      "Le nombre de maisons qui ont un prix qui n'est pas supérieur à 600000 euros est de : 48\n"
     ]
    }
   ],
   "source": [
    "# 3. Combien de maisons ont un prix qui n'est pas supérieur à 600000 euros ?\n",
    "nombre_maisons=0\n",
    "for prix in prix_de_58_maisons:\n",
    "    if not(prix > 600000):\n",
    "        nombre_maisons=nombre_maisons+1\n",
    "print(\"Le nombre de maisons qui ont un prix qui n'est pas supérieur à 600000 euros est de : %d\" % (nombre_maisons))"
   ]
  },
  {
   "cell_type": "code",
   "execution_count": 6,
   "metadata": {},
   "outputs": [
    {
     "name": "stdout",
     "output_type": "stream",
     "text": [
      "Le nombre de maisons qui ont un prix inférieur à 150000 euros OU supérieur à 650000 euros est de : 8\n"
     ]
    }
   ],
   "source": [
    "# 4. Combien de maisons ont un prix inférieur à 150000 euros OU supérieur à 650000 euros ?\n",
    "nombre_maisons=0\n",
    "for prix in prix_de_58_maisons:\n",
    "    if (prix < 150000) or (prix > 650000):\n",
    "        nombre_maisons=nombre_maisons+1\n",
    "print(\"Le nombre de maisons qui ont un prix inférieur à 150000 euros OU supérieur à 650000 euros est de : %d\" % (nombre_maisons))"
   ]
  },
  {
   "cell_type": "code",
   "execution_count": null,
   "metadata": {},
   "outputs": [],
   "source": []
  }
 ],
 "metadata": {
  "kernelspec": {
   "display_name": "Python 3",
   "language": "python",
   "name": "python3"
  },
  "language_info": {
   "codemirror_mode": {
    "name": "ipython",
    "version": 3
   },
   "file_extension": ".py",
   "mimetype": "text/x-python",
   "name": "python",
   "nbconvert_exporter": "python",
   "pygments_lexer": "ipython3",
   "version": "3.7.3"
  }
 },
 "nbformat": 4,
 "nbformat_minor": 2
}
