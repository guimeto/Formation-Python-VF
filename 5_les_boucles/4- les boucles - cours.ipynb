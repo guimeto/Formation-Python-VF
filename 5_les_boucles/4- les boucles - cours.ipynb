{
 "cells": [
  {
   "cell_type": "markdown",
   "metadata": {},
   "source": [
    "<img src=\"./figures/pylogo.png\" alt=\"Indentation\" width=\"50%\" height=\"50%\">\n",
    "\n",
    "<h1> 4- Les contrôles de flux en Python:</h1> \n",
    "\n",
    "\n",
    "<h1>Objectifs</h1>\n",
    "\n",
    "- Comprendre les structures conditionnelles\n",
    "- Comprendre ce qu'est une boucle\n",
    "- Savoir créer une boucle While\n",
    "- Savoir créer une boucle For\n",
    "\n"
   ]
  },
  {
   "cell_type": "markdown",
   "metadata": {
    "collapsed": true
   },
   "source": [
    "<h2> 4.1- La struture conditionnelle : If, else </h2>\n",
    "\n",
    "Les structures de contrôle de flux peuvent être classées en structure conditionnelle et structure d'itération.\n",
    "\n",
    "- Les instructions conditionnelles sélectionnent un ensemble particulier d'instructions à exécuter en fonction d'une condition spécifiée.\n",
    "\n",
    "- L'instruction de contrôle conditionnel la plus populaire est «if else».\n",
    "\n",
    "- Cette contruction de langage nous permet de décrire des branches possibles que prendra notre programme python en fonction des condition données:\n",
    "                              Syntaxe IF: \n",
    "        \n",
    "                                         if condition:\n",
    "                                             action 1\n",
    "                                         elif:\n",
    "                                             action 2\n",
    "                                         else:\n",
    "                                             action 3\n",
    "         \n",
    "- ATTENTION: python travaille en indentation\n",
    "\n",
    "<img src=\"./figures/indentation.png\" alt=\"Indentation\" width=\"30%\" height=\"30%\">\n",
    "\n",
    "- On peut affecter des tâches multiples dans des structures conditionnelles. \n",
    " \n",
    " \n",
    " \n",
    " "
   ]
  },
  {
   "cell_type": "code",
   "execution_count": 4,
   "metadata": {},
   "outputs": [],
   "source": [
    "ma_variable = 5"
   ]
  },
  {
   "cell_type": "code",
   "execution_count": 5,
   "metadata": {},
   "outputs": [
    {
     "data": {
      "text/plain": [
       "5"
      ]
     },
     "execution_count": 5,
     "metadata": {},
     "output_type": "execute_result"
    }
   ],
   "source": [
    "if (ma_variable > 5 ):\n",
    "    ma_variable = ma_variable + 1 \n",
    "ma_variable    "
   ]
  },
  {
   "cell_type": "code",
   "execution_count": 6,
   "metadata": {},
   "outputs": [
    {
     "data": {
      "text/plain": [
       "4"
      ]
     },
     "execution_count": 6,
     "metadata": {},
     "output_type": "execute_result"
    }
   ],
   "source": [
    "if (ma_variable > 5 ):\n",
    "    ma_variable = ma_variable + 1 \n",
    "else:\n",
    "    ma_variable = ma_variable - 1 \n",
    "ma_variable   \n"
   ]
  },
  {
   "cell_type": "code",
   "execution_count": 7,
   "metadata": {},
   "outputs": [
    {
     "data": {
      "text/plain": [
       "3"
      ]
     },
     "execution_count": 7,
     "metadata": {},
     "output_type": "execute_result"
    }
   ],
   "source": [
    "if (ma_variable > 5 ):\n",
    "    ma_variable = ma_variable + 1 \n",
    "elif (ma_variable == 5) :\n",
    "    ma_variable = ma_variable * 10 \n",
    "else:\n",
    "    ma_variable = ma_variable - 1 \n",
    "ma_variable   "
   ]
  },
  {
   "cell_type": "markdown",
   "metadata": {
    "collapsed": true
   },
   "source": [
    "<h2> 4.2- La boucle for </h2>\n",
    "\n",
    "Une boucle ( ou loop ) vous permet de répéter des instructions selon vos besoins.\n",
    "\n",
    "                             Syntaxe FOR:  \n",
    "                                         items = [1,2,3]\n",
    "                                         for i in items:\n",
    "                                             print(i) # 1,2,3\n",
    "    \n",
    "Attention une fois de plus à bien respecter l'indentation. "
   ]
  },
  {
   "cell_type": "code",
   "execution_count": 9,
   "metadata": {},
   "outputs": [],
   "source": [
    "ma_liste=[1,2,3,4,5]"
   ]
  },
  {
   "cell_type": "code",
   "execution_count": 11,
   "metadata": {},
   "outputs": [
    {
     "name": "stdout",
     "output_type": "stream",
     "text": [
      "2\n",
      "---\n",
      "4\n",
      "---\n",
      "6\n",
      "---\n",
      "8\n",
      "---\n",
      "10\n",
      "---\n"
     ]
    }
   ],
   "source": [
    "for ma_valeur in ma_liste:\n",
    "    print(ma_valeur*2)\n",
    "    print(\"---\")"
   ]
  },
  {
   "cell_type": "code",
   "execution_count": 12,
   "metadata": {},
   "outputs": [
    {
     "name": "stdout",
     "output_type": "stream",
     "text": [
      "La multiplication de 2 * 1 = 2\n",
      "La multiplication de 2 * 2 = 4\n",
      "La multiplication de 2 * 3 = 6\n",
      "La multiplication de 2 * 4 = 8\n",
      "La multiplication de 2 * 5 = 10\n"
     ]
    }
   ],
   "source": [
    "for ma_valeur in ma_liste:\n",
    "    ma_nouvelle_variable=ma_valeur*2\n",
    "    print(\"La multiplication de 2 * %d = %d\" % (ma_valeur,ma_nouvelle_variable))  # pour concatener du texte et une variable\n",
    "                               # %d: python sait qu'on va afficher un variable en entier\n",
    "                               # %s: python sait qu'on va afficher un variable mot \n",
    "                               # %f: python sait qu'on va afficher une variable décimale\n",
    "                               # on donne un tuple à afficher"
   ]
  },
  {
   "cell_type": "markdown",
   "metadata": {},
   "source": [
    "<h2> 4.3- La boucle  while() </h2>\n",
    "\n",
    "Même principe que la structure conditionnelle if mais répétée:\n",
    "\n",
    "\n",
    "                            Syntaxe WHILE:\n",
    "                                           run = True\n",
    "                                           while run:\n",
    "                                               print('running')\n",
    "                                               if <condition>:\n",
    "                                                   run = False\n",
    "         \n",
    "Tant que la condition est respectée, l'iterration dans la boucle continue. \n",
    "Attention à bien respecter l'indentation. "
   ]
  },
  {
   "cell_type": "code",
   "execution_count": 15,
   "metadata": {},
   "outputs": [
    {
     "name": "stdout",
     "output_type": "stream",
     "text": [
      "Mon compteur = 0\n",
      "Ma valeur = 1\n",
      "Mon compteur = 1\n",
      "Ma valeur = 2\n",
      "Mon compteur = 2\n",
      "Ma valeur = 3\n",
      "Mon compteur = 3\n",
      "Ma valeur = 4\n",
      "Mon compteur = 4\n",
      "Ma valeur = 5\n"
     ]
    }
   ],
   "source": [
    "ma_liste=[1,2,3,4,5]\n",
    "compteur=0\n",
    "while (compteur < 5):\n",
    "    print(\"Mon compteur = %d\" % (compteur))\n",
    "    print(\"Ma valeur = %d\" % (ma_liste[compteur]))   # dans le tuple, on veut la valeur de notre liste\n",
    "    compteur=compteur+1"
   ]
  },
  {
   "cell_type": "markdown",
   "metadata": {},
   "source": [
    "On peut imbriquer des conditions dans une boucle while. En reprennant la structure précédente, on va par exemple extraire uniquement les valeurs paires. Si modulo de la valeur = 0 => nombre pair"
   ]
  },
  {
   "cell_type": "code",
   "execution_count": 19,
   "metadata": {},
   "outputs": [
    {
     "name": "stdout",
     "output_type": "stream",
     "text": [
      "Mon compteur = 1\n",
      "Ma valeur = 2\n",
      "Mon compteur = 3\n",
      "Ma valeur = 4\n",
      "2\n"
     ]
    }
   ],
   "source": [
    "compteur=0\n",
    "compteur_resultat_vrai=0\n",
    "while (compteur < 5):\n",
    "    if ma_liste[compteur] % 2 == 0:\n",
    "        print(\"Mon compteur = %d\" % (compteur))\n",
    "        print(\"Ma valeur = %d\" % (ma_liste[compteur]))  \n",
    "        compteur_resultat_vrai=compteur_resultat_vrai+1\n",
    "    compteur=compteur+1\n",
    "print(compteur_resultat_vrai)"
   ]
  },
  {
   "cell_type": "markdown",
   "metadata": {},
   "source": [
    "Avec les structures while(), on peut facilement faire une boucle infine et faire planter son code. "
   ]
  },
  {
   "cell_type": "raw",
   "metadata": {},
   "source": [
    "i= 0\n",
    "while i == 0:\n",
    "    print('boucle infiniiiiiiie')"
   ]
  },
  {
   "cell_type": "markdown",
   "metadata": {},
   "source": [
    "<h2> 4.4- Création de listes de chiffres: la boucle  range() </h2>\n",
    "\n",
    "Si on a besoin d'avoir une liste de chiffre et qu'on souhaite éviter une structure while(), il est possible de créer une boucle facilement avec range():         "
   ]
  },
  {
   "cell_type": "code",
   "execution_count": 23,
   "metadata": {},
   "outputs": [
    {
     "name": "stdout",
     "output_type": "stream",
     "text": [
      "0\n",
      "1\n",
      "2\n",
      "3\n",
      "4\n"
     ]
    }
   ],
   "source": [
    "for i in range(5):\n",
    "    print(i)"
   ]
  },
  {
   "cell_type": "code",
   "execution_count": 24,
   "metadata": {},
   "outputs": [
    {
     "name": "stdout",
     "output_type": "stream",
     "text": [
      "2\n",
      "3\n",
      "4\n",
      "5\n",
      "6\n"
     ]
    }
   ],
   "source": [
    "for i in range(2,7):\n",
    "    print(i)"
   ]
  },
  {
   "cell_type": "code",
   "execution_count": 25,
   "metadata": {},
   "outputs": [
    {
     "name": "stdout",
     "output_type": "stream",
     "text": [
      "0\n",
      "2\n",
      "4\n",
      "6\n",
      "8\n"
     ]
    }
   ],
   "source": [
    "for i in range(0,10,2):\n",
    "    print(i)"
   ]
  },
  {
   "cell_type": "code",
   "execution_count": 26,
   "metadata": {},
   "outputs": [
    {
     "name": "stdout",
     "output_type": "stream",
     "text": [
      "5\n",
      "4\n",
      "3\n",
      "2\n",
      "1\n",
      "0\n",
      "-1\n",
      "-2\n",
      "-3\n",
      "-4\n"
     ]
    }
   ],
   "source": [
    "for i in range(5,-5,-1):\n",
    "    print(i)"
   ]
  },
  {
   "cell_type": "code",
   "execution_count": 27,
   "metadata": {},
   "outputs": [
    {
     "name": "stdout",
     "output_type": "stream",
     "text": [
      "smartphone\n",
      "10000\n",
      "chaussures\n",
      "15000\n",
      "console\n",
      "12000\n"
     ]
    }
   ],
   "source": [
    "produits = ['smartphone','chaussures','console']\n",
    "caParJour = [10000,15000,12000]\n",
    "\n",
    "for i in range(len(produits)):\n",
    "    print(produits[i])\n",
    "    print(caParJour[i])"
   ]
  },
  {
   "cell_type": "markdown",
   "metadata": {},
   "source": [
    "<h2> 4.5- Interrompre une boucle </h2>\n",
    "\n",
    "Il est possible de stopper une boucle avec la commande break. "
   ]
  },
  {
   "cell_type": "code",
   "execution_count": 28,
   "metadata": {},
   "outputs": [
    {
     "name": "stdout",
     "output_type": "stream",
     "text": [
      "1\n",
      "2\n",
      "3\n",
      "4\n",
      "5\n",
      "On stoppe la boucle: les valeurs qui suivent sont supérieures à 5.\n"
     ]
    }
   ],
   "source": [
    "ma_liste=[1,2,3,4,5,6,7,8,9,10]\n",
    "for i in ma_liste:\n",
    "     if i > 5:\n",
    "             print(\"On stoppe la boucle: les valeurs qui suivent sont supérieures à 5.\")\n",
    "             break\n",
    "     print(i)\n"
   ]
  },
  {
   "cell_type": "code",
   "execution_count": 30,
   "metadata": {},
   "outputs": [
    {
     "name": "stdout",
     "output_type": "stream",
     "text": [
      "smartphone\n"
     ]
    }
   ],
   "source": [
    "produits = ['smartphone','chaussures','console']\n",
    "for i in produits:\n",
    "    if i =='chaussures':\n",
    "        break\n",
    "    print(i)"
   ]
  },
  {
   "cell_type": "markdown",
   "metadata": {},
   "source": [
    "On peut  lire la suite du code et passer directement à la boucle suivante avec continue"
   ]
  },
  {
   "cell_type": "code",
   "execution_count": 31,
   "metadata": {},
   "outputs": [
    {
     "name": "stdout",
     "output_type": "stream",
     "text": [
      "smartphone\n",
      "console\n"
     ]
    }
   ],
   "source": [
    "#ne pas lire la suite du code et passer directement à la boucle suivante avec continue\n",
    "for i in produits:\n",
    "    if i =='chaussures':\n",
    "        continue\n",
    "    print(i)"
   ]
  }
 ],
 "metadata": {
  "kernelspec": {
   "display_name": "Python 3",
   "language": "python",
   "name": "python3"
  },
  "language_info": {
   "codemirror_mode": {
    "name": "ipython",
    "version": 3
   },
   "file_extension": ".py",
   "mimetype": "text/x-python",
   "name": "python",
   "nbconvert_exporter": "python",
   "pygments_lexer": "ipython3",
   "version": "3.7.3"
  }
 },
 "nbformat": 4,
 "nbformat_minor": 2
}
