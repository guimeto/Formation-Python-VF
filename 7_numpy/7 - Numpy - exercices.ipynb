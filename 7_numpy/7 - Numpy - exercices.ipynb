{
 "cells": [
  {
   "cell_type": "markdown",
   "metadata": {},
   "source": [
    "<h1> TP : Analyse de données de station </h1>"
   ]
  },
  {
   "cell_type": "markdown",
   "metadata": {},
   "source": [
    "Objectifs: manipuler des données ascii de stations uniquement avec la librairie Numpy.\n",
    "\n",
    "Ensemble : lecture du fichier contenant les données journalières de précipitation et de température pour la station d'Ottawa pour l'année 2017\n",
    "\n",
    "1- Créer un tableau Numpy ayant une colonne pour la température et une colonne pour la précipitation. (avec deux tableaux Numpy 1D, créer un tableau 2D (365 lignes et 2 colonnes).\n",
    "\n",
    "2- Convertir les données de températures en Celcius (T[Celcius] = T[Kelvin] - 273.15).\n",
    "\n",
    "3- Combien de journées ont une accumulation supérieure à 25mm ?\n",
    "\n",
    "4- Quelle température a été enregistrée pour la journée présentant la plus grande accumulation.\n",
    "\n",
    "5- Calculer le nombre de degrés jours (>0degC) pour l'année 2017.\n",
    "\n",
    "6- Calculer le cumul journalier de précipitation pour l'année 2017 et assigner cette variable au tableau cumul_precipitation. Ajouter le tableau cumul_precipitation au tableau.\n",
    "\n",
    "7- Juste pour l’exercice, splitter (casser) l’array en 2 tableaux, puis les concaténer à nouveau pour obtenir le tableau initial."
   ]
  },
  {
   "cell_type": "code",
   "execution_count": 1,
   "metadata": {},
   "outputs": [],
   "source": [
    "import numpy as np\n",
    "# pour lire un fichier csv avec numpy: appel de la fonction genfromtxt()\n",
    "temperature = np.genfromtxt(\"./OTTAWA_tasmoy_2017.csv\", dtype=float)\n",
    "precipitation = np.genfromtxt(\"./OTTAWA_PrecTOT_2017.csv\", dtype=float)"
   ]
  },
  {
   "cell_type": "code",
   "execution_count": 2,
   "metadata": {},
   "outputs": [
    {
     "name": "stdout",
     "output_type": "stream",
     "text": [
      "(365,) (365,)\n"
     ]
    }
   ],
   "source": [
    "print(temperature.shape, precipitation.shape)"
   ]
  },
  {
   "cell_type": "code",
   "execution_count": 3,
   "metadata": {},
   "outputs": [],
   "source": [
    "#1- Créer un tableau Numpy ayant une colonne pour la température et une colonne pour la précipitation. \n",
    "#   (avec deux tableaux Numpy 1D, créer un tableau 2D (365 lignes et 2 colonnes).\n",
    "\n",
    "tableau = np.column_stack([temperature,precipitation])"
   ]
  },
  {
   "cell_type": "code",
   "execution_count": 4,
   "metadata": {},
   "outputs": [],
   "source": [
    "#tableau = np.hstack([temperature,precipitation])\n",
    "tableau = np.hstack([temperature.reshape(len(temperature),-1),precipitation.reshape(len(precipitation),-1)])"
   ]
  },
  {
   "cell_type": "code",
   "execution_count": 5,
   "metadata": {},
   "outputs": [
    {
     "name": "stdout",
     "output_type": "stream",
     "text": [
      "(365, 2)\n"
     ]
    }
   ],
   "source": [
    "print(tableau.shape)"
   ]
  },
  {
   "cell_type": "code",
   "execution_count": 6,
   "metadata": {},
   "outputs": [],
   "source": [
    "#2- Convertir les données de températures en Celcius (T[Celcius] = T[Kelvin] - 273.15).\n",
    "tableau[:,0]=tableau[:,0]-273.15  # on prend toutes les lignes de la première colonne "
   ]
  },
  {
   "cell_type": "code",
   "execution_count": 9,
   "metadata": {},
   "outputs": [
    {
     "name": "stderr",
     "output_type": "stream",
     "text": [
      "D:\\Utilisateurs\\guillaume\\Anaconda3\\lib\\site-packages\\ipykernel_launcher.py:2: RuntimeWarning: invalid value encountered in greater_equal\n",
      "  \n"
     ]
    },
    {
     "data": {
      "text/plain": [
       "array([[-1.8 , 26.57],\n",
       "       [ 2.3 , 25.84],\n",
       "       [ 3.3 , 28.49],\n",
       "       [ 4.5 , 31.14],\n",
       "       [ 8.8 , 35.22],\n",
       "       [ 8.3 , 40.12],\n",
       "       [16.  , 25.84],\n",
       "       [17.3 , 37.26],\n",
       "       [16.  , 26.04],\n",
       "       [15.8 , 45.01]])"
      ]
     },
     "execution_count": 9,
     "metadata": {},
     "output_type": "execute_result"
    }
   ],
   "source": [
    "# 3- Combien de journées ont une accumulation supérieure à 25mm ?\n",
    "tableau[tableau[:,1]>=25]    # On filtre toutes les lignes de la 2ème colonne "
   ]
  },
  {
   "cell_type": "code",
   "execution_count": 10,
   "metadata": {},
   "outputs": [
    {
     "name": "stderr",
     "output_type": "stream",
     "text": [
      "D:\\Utilisateurs\\guillaume\\Anaconda3\\lib\\site-packages\\ipykernel_launcher.py:2: RuntimeWarning: invalid value encountered in greater_equal\n",
      "  \n"
     ]
    },
    {
     "data": {
      "text/plain": [
       "10"
      ]
     },
     "execution_count": 10,
     "metadata": {},
     "output_type": "execute_result"
    }
   ],
   "source": [
    "# pour connaitre le nombre de jours, on utilise la fonction len()\n",
    "len(tableau[tableau[:,1]>=25])  "
   ]
  },
  {
   "cell_type": "code",
   "execution_count": 11,
   "metadata": {},
   "outputs": [
    {
     "name": "stdout",
     "output_type": "stream",
     "text": [
      "45.01\n"
     ]
    }
   ],
   "source": [
    "# 4- Quelle température a été enregistrée pour la journée présentant la plus grande accumulation.\n",
    "precipitation_max = np.nanmax(tableau[:,1]) # on cherche le maximum d'accumulation avec la fonction max()\n",
    "print(precipitation_max)"
   ]
  },
  {
   "cell_type": "code",
   "execution_count": 12,
   "metadata": {},
   "outputs": [
    {
     "data": {
      "text/plain": [
       "array([[15.8 , 45.01]])"
      ]
     },
     "execution_count": 12,
     "metadata": {},
     "output_type": "execute_result"
    }
   ],
   "source": [
    "tableau[tableau[:,1] == precipitation_max] # on cherche sur toutes les lignes de la deuxième colonne celle qui correspond à notre variable precipitation_max"
   ]
  },
  {
   "cell_type": "code",
   "execution_count": 13,
   "metadata": {},
   "outputs": [],
   "source": [
    "# 5- Calculer le nombre de degrés jours (>0degC) pour l'année 2017. "
   ]
  },
  {
   "cell_type": "code",
   "execution_count": 14,
   "metadata": {},
   "outputs": [
    {
     "name": "stderr",
     "output_type": "stream",
     "text": [
      "D:\\Utilisateurs\\guillaume\\Anaconda3\\lib\\site-packages\\ipykernel_launcher.py:1: RuntimeWarning: invalid value encountered in greater\n",
      "  \"\"\"Entry point for launching an IPython kernel.\n"
     ]
    },
    {
     "data": {
      "text/plain": [
       "1328.5300000000002"
      ]
     },
     "execution_count": 14,
     "metadata": {},
     "output_type": "execute_result"
    }
   ],
   "source": [
    "sum(tableau[:,1][tableau[:,1]>0])"
   ]
  },
  {
   "cell_type": "code",
   "execution_count": 15,
   "metadata": {},
   "outputs": [],
   "source": [
    "# 6- Calculer le cumul journalier de précipitation pour l'année 2017\n",
    "cumul_precipitation = np.nancumsum(tableau[:,1])"
   ]
  },
  {
   "cell_type": "code",
   "execution_count": 16,
   "metadata": {},
   "outputs": [],
   "source": [
    "# Ajouter le tableau cumul_precipitation au tableau. \n",
    "tableau = np.column_stack([tableau, cumul_precipitation])"
   ]
  },
  {
   "cell_type": "code",
   "execution_count": 17,
   "metadata": {},
   "outputs": [],
   "source": [
    "# 7. spliter (casser) l’array en 3 tableaux, puis concaténer à nouveau pour obtenir le tableau initial.\n",
    "\n",
    "# on assigne les trois tableaux et on fait une coupure horizontale avec la fonction hsplit()\n",
    "temperature2,precipitation2,cumul2 = np.hsplit(tableau, 3)"
   ]
  },
  {
   "cell_type": "code",
   "execution_count": 18,
   "metadata": {},
   "outputs": [],
   "source": [
    "# Pour revenir à notre tableau original, on utilise la fonction concatenate avec l'option axis = 1 \n",
    "tableau_original=np.concatenate([temperature2+273.15, precipitation2], axis = 1)"
   ]
  },
  {
   "cell_type": "code",
   "execution_count": null,
   "metadata": {},
   "outputs": [],
   "source": []
  }
 ],
 "metadata": {
  "kernelspec": {
   "display_name": "Python 3",
   "language": "python",
   "name": "python3"
  },
  "language_info": {
   "codemirror_mode": {
    "name": "ipython",
    "version": 3
   },
   "file_extension": ".py",
   "mimetype": "text/x-python",
   "name": "python",
   "nbconvert_exporter": "python",
   "pygments_lexer": "ipython3",
   "version": "3.7.3"
  }
 },
 "nbformat": 4,
 "nbformat_minor": 2
}
