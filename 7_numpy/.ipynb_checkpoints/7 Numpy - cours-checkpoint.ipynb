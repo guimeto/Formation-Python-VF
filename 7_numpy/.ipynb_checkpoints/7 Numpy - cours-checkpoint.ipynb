{
 "cells": [
  {
   "cell_type": "markdown",
   "metadata": {},
   "source": [
    "<img src=\"./figures/NumPy_logo.svg\" alt=\"Indentation\" width=\"30%\" height=\"30%\">\n",
    "\n",
    "\n",
    "<h1> 7- Utilisation de la librairie Numpy  (Numerical Python):</h1> \n",
    "\n",
    "- Bibliothèque Python importante en calcul scientifique, cette librairie est appelée dans beaucoup d'autres librairies\n",
    "\n",
    "- Intègre une nouvelle structure de données: les ndarray (N-dimensional array). Ce sont des vecteurs (tableaux à 1 dimension), tableaux à plusieurs dimensions\n",
    "\n",
    "- Intègre un ensemble de fonctions développées en C. Calcul performant sur les calculs \n",
    "\n",
    "- Utilisé dans tous les projets de calculs numériques \n",
    "\n",
    "- Les ndarray se manipulent comme les listes et les tubles MAIS ne peut contenir qu'un seul type de données.\n",
    "\n",
    "\n",
    "\n",
    "Nous allons voir comment initialiser des tableaux Numpy de plusieurs façons, accéder aux valeurs dans les tableaux, effectuer des opérations mathématiques et matricielles, et utiliser des tableaux aussi bien pour le masquage que pour les comparaisons. \n",
    " \n",
    "\n",
    "<h2> 7.1- Création d'un tableau Numpy ou ndarray </h2>\n",
    "\n",
    "Plusieurs techniques sont mises à disposition pour créer des tableaux Numpy. \n",
    "\n",
    "Tout d’abord, vous devez importer Numpy avec le code suivant:"
   ]
  },
  {
   "cell_type": "code",
   "execution_count": 11,
   "metadata": {},
   "outputs": [],
   "source": [
    "# On va importer la librairie Numpy et créer un alias. \n",
    "# Les alias permettent d'alléger l'écriture des codes. \n",
    "import numpy as np\n",
    "import warnings\n",
    "warnings.filterwarnings(\"ignore\")"
   ]
  },
  {
   "cell_type": "markdown",
   "metadata": {},
   "source": [
    "Contrairement à une liste, vous ne pouvez pas créer de tableaux Numpy vides. Vous trouverez ci-dessous plusieurs façons d’initialiser un tableau Numpy en fonction de vos besoins:\n",
    "\n",
    "- Utilisation de la fonction <b>array()</b> pour créer un tableau Numpy:"
   ]
  },
  {
   "cell_type": "code",
   "execution_count": 12,
   "metadata": {},
   "outputs": [
    {
     "data": {
      "text/plain": [
       "array([ 1,  2,  3,  4,  5,  6,  7,  8,  9, 10, 11, 12, 13, 14, 15, 16, 17,\n",
       "       18, 19, 20])"
      ]
     },
     "execution_count": 12,
     "metadata": {},
     "output_type": "execute_result"
    }
   ],
   "source": [
    "tableau1 = np.array([1,2,3,4,5,6,7,8,9,10,11,12,13,14,15,16,17,18,19,20])\n",
    "tableau1"
   ]
  },
  {
   "cell_type": "markdown",
   "metadata": {},
   "source": [
    "Création d'un tableau bi-dimensionnel avec des lignes et des colonnes; on crée une liste de liste. Chaque liste est une ligne du tableau."
   ]
  },
  {
   "cell_type": "code",
   "execution_count": 13,
   "metadata": {},
   "outputs": [
    {
     "data": {
      "text/plain": [
       "array([[1, 2, 3],\n",
       "       [4, 5, 6]])"
      ]
     },
     "execution_count": 13,
     "metadata": {},
     "output_type": "execute_result"
    }
   ],
   "source": [
    "# Exemple d'un tableau avec 3 lignes et 3 colonnes\n",
    "tableau2 = np.array([[1,2,3], [4,5,6]])\n",
    "tableau2"
   ]
  },
  {
   "cell_type": "code",
   "execution_count": 14,
   "metadata": {},
   "outputs": [
    {
     "data": {
      "text/plain": [
       "array([[1, 2, 3],\n",
       "       [4, 5, 6],\n",
       "       [7, 8, 9]])"
      ]
     },
     "execution_count": 14,
     "metadata": {},
     "output_type": "execute_result"
    }
   ],
   "source": [
    "# Exemple d'un tableau avec 3 lignes et 3 colonnes\n",
    "tableau3 = np.array([[1,2,3], [4,5,6], [7,8,9]])\n",
    "tableau3"
   ]
  },
  {
   "cell_type": "markdown",
   "metadata": {},
   "source": [
    "- Utilisation de la fonction <b>range()</b> pour créer un tableau Numpy:"
   ]
  },
  {
   "cell_type": "code",
   "execution_count": 15,
   "metadata": {},
   "outputs": [
    {
     "data": {
      "text/plain": [
       "array([0, 1, 2, 3, 4, 5, 6, 7, 8, 9])"
      ]
     },
     "execution_count": 15,
     "metadata": {},
     "output_type": "execute_result"
    }
   ],
   "source": [
    "tableau4 = np.array(range(10)) # tableau avec des chiffres de 0 à 9\n",
    "tableau4"
   ]
  },
  {
   "cell_type": "markdown",
   "metadata": {},
   "source": [
    "- Utilisation de la fonction <b>arange()</b> pour créer un tableau Numpy:"
   ]
  },
  {
   "cell_type": "code",
   "execution_count": 16,
   "metadata": {},
   "outputs": [
    {
     "data": {
      "text/plain": [
       "array([ 1,  3,  5,  7,  9, 11, 13, 15, 17, 19, 21, 23, 25, 27, 29, 31, 33,\n",
       "       35, 37, 39, 41, 43, 45, 47, 49, 51, 53, 55, 57, 59, 61, 63, 65, 67,\n",
       "       69, 71, 73, 75, 77, 79, 81, 83, 85, 87, 89, 91, 93, 95, 97, 99])"
      ]
     },
     "execution_count": 16,
     "metadata": {},
     "output_type": "execute_result"
    }
   ],
   "source": [
    "np.arange(1, 100, 2)"
   ]
  },
  {
   "cell_type": "code",
   "execution_count": 17,
   "metadata": {},
   "outputs": [
    {
     "data": {
      "text/plain": [
       "array([0. , 0.1, 0.2, 0.3, 0.4, 0.5, 0.6, 0.7, 0.8, 0.9])"
      ]
     },
     "execution_count": 17,
     "metadata": {},
     "output_type": "execute_result"
    }
   ],
   "source": [
    "np.arange(0, 1, 0.1)"
   ]
  },
  {
   "cell_type": "code",
   "execution_count": 18,
   "metadata": {},
   "outputs": [
    {
     "data": {
      "text/plain": [
       "array([  0.,  10.,  20.,  30.,  40.,  50.,  60.,  70.,  80.,  90., 100.])"
      ]
     },
     "execution_count": 18,
     "metadata": {},
     "output_type": "execute_result"
    }
   ],
   "source": [
    "np.linspace(0, 100, 11)"
   ]
  },
  {
   "cell_type": "markdown",
   "metadata": {},
   "source": [
    "- Utilisation de la fonction <b>zeros()</b> pour créer un tableau Numpy avec des zéros:"
   ]
  },
  {
   "cell_type": "code",
   "execution_count": 19,
   "metadata": {},
   "outputs": [
    {
     "data": {
      "text/plain": [
       "array([[0., 0., 0.],\n",
       "       [0., 0., 0.],\n",
       "       [0., 0., 0.],\n",
       "       [0., 0., 0.]])"
      ]
     },
     "execution_count": 19,
     "metadata": {},
     "output_type": "execute_result"
    }
   ],
   "source": [
    "tableau5 = np.zeros((4,3)) # tableau contenant 4 lignes et 3 colonnes de 0\n",
    "tableau5"
   ]
  },
  {
   "cell_type": "markdown",
   "metadata": {},
   "source": [
    "- Utilisation de la fonction <b>ones()</b> pour créer un tableau Numpy avec des 1:"
   ]
  },
  {
   "cell_type": "code",
   "execution_count": 20,
   "metadata": {},
   "outputs": [
    {
     "data": {
      "text/plain": [
       "array([[1., 1., 1.],\n",
       "       [1., 1., 1.],\n",
       "       [1., 1., 1.],\n",
       "       [1., 1., 1.]])"
      ]
     },
     "execution_count": 20,
     "metadata": {},
     "output_type": "execute_result"
    }
   ],
   "source": [
    "tableau6 = np.ones((4,3)) # tableau contenant 2 lignes 2 colonnes de 1\n",
    "tableau6"
   ]
  },
  {
   "cell_type": "markdown",
   "metadata": {},
   "source": [
    "- Utilisation de la fonction <b>identity()</b> pour créer une matrice Numpy identité:"
   ]
  },
  {
   "cell_type": "code",
   "execution_count": 21,
   "metadata": {},
   "outputs": [
    {
     "data": {
      "text/plain": [
       "array([[1., 0., 0., 0.],\n",
       "       [0., 1., 0., 0.],\n",
       "       [0., 0., 1., 0.],\n",
       "       [0., 0., 0., 1.]])"
      ]
     },
     "execution_count": 21,
     "metadata": {},
     "output_type": "execute_result"
    }
   ],
   "source": [
    "tableau7 = np.identity(4) # Matrice Identité de dimension 4\n",
    "tableau7"
   ]
  },
  {
   "cell_type": "markdown",
   "metadata": {},
   "source": [
    "- Conversion d'une liste en tableau numpy avec la fonction <b>array()</b>"
   ]
  },
  {
   "cell_type": "code",
   "execution_count": 22,
   "metadata": {},
   "outputs": [
    {
     "data": {
      "text/plain": [
       "[0, 1, 2, 3, 4, 5, 6]"
      ]
     },
     "execution_count": 22,
     "metadata": {},
     "output_type": "execute_result"
    }
   ],
   "source": [
    "ma_liste = [0,1,2,3,4,5,6]\n",
    "ma_liste"
   ]
  },
  {
   "cell_type": "code",
   "execution_count": 23,
   "metadata": {},
   "outputs": [
    {
     "data": {
      "text/plain": [
       "array([0, 1, 2, 3, 4, 5, 6])"
      ]
     },
     "execution_count": 23,
     "metadata": {},
     "output_type": "execute_result"
    }
   ],
   "source": [
    "tableau8 = np.array(ma_liste)\n",
    "tableau8"
   ]
  },
  {
   "cell_type": "markdown",
   "metadata": {},
   "source": [
    "- Utilisation de la fonction <b>random()</b> pour créer un tableau Numpy  avec des valeurs aléatoires:"
   ]
  },
  {
   "cell_type": "code",
   "execution_count": 24,
   "metadata": {},
   "outputs": [
    {
     "data": {
      "text/plain": [
       "array([[81, 80, 96],\n",
       "       [43, 12, 53],\n",
       "       [53, 83,  5],\n",
       "       [73, 73, 31]])"
      ]
     },
     "execution_count": 24,
     "metadata": {},
     "output_type": "execute_result"
    }
   ],
   "source": [
    "tableau9 = np.random.randint(100,size=(4,3))  # Exemple création d'un tableau 4*3 random avec valeurs comprises entre 0 et 100 \n",
    "tableau9"
   ]
  },
  {
   "cell_type": "markdown",
   "metadata": {},
   "source": [
    "\n",
    "<h2> 7.2- Accéder aux données d'un tableau Numpy ou ndarray </h2>\n"
   ]
  },
  {
   "cell_type": "markdown",
   "metadata": {},
   "source": [
    "Nous pouvons accéder à un élément individuellement ou à une tranche de valeurs par slicing. \n",
    "\n",
    "Semblable aux listes, le premier élément est indexé à 0. Par exemple, array1[0,0] indique que nous accédons à la première ligne et à la première colonne. \n",
    "\n",
    "Le premier nombre du tuple [0,0] indique l’index de la ligne et le deuxième nombre indique l’index de la colonne:\n"
   ]
  },
  {
   "cell_type": "code",
   "execution_count": 25,
   "metadata": {},
   "outputs": [
    {
     "data": {
      "text/plain": [
       "array([[1, 2, 3],\n",
       "       [4, 5, 6],\n",
       "       [7, 8, 9]])"
      ]
     },
     "execution_count": 25,
     "metadata": {},
     "output_type": "execute_result"
    }
   ],
   "source": [
    "mon_tableau = np.array([[1,2,3], [4,5,6], [7,8,9]])\n",
    "mon_tableau"
   ]
  },
  {
   "cell_type": "markdown",
   "metadata": {},
   "source": [
    "- Voici quelques exemples pour accéder à des éléments individuels d'un tableau Numpy:"
   ]
  },
  {
   "cell_type": "code",
   "execution_count": 26,
   "metadata": {},
   "outputs": [
    {
     "data": {
      "text/plain": [
       "6"
      ]
     },
     "execution_count": 26,
     "metadata": {},
     "output_type": "execute_result"
    }
   ],
   "source": [
    "mon_tableau[1,2]     # On veut accéder à l'élément situé à la ligne d'index 1 et la colonne d'index 2 \n",
    "                     #  ndarray(row,column) "
   ]
  },
  {
   "cell_type": "code",
   "execution_count": 27,
   "metadata": {},
   "outputs": [
    {
     "data": {
      "text/plain": [
       "6"
      ]
     },
     "execution_count": 27,
     "metadata": {},
     "output_type": "execute_result"
    }
   ],
   "source": [
    "mon_tableau[1,-1]    # On veut accéder à l'élément situé à la ligne d'index 1 et à la colonne ayant le dernier index"
   ]
  },
  {
   "cell_type": "code",
   "execution_count": 28,
   "metadata": {},
   "outputs": [
    {
     "data": {
      "text/plain": [
       "2"
      ]
     },
     "execution_count": 28,
     "metadata": {},
     "output_type": "execute_result"
    }
   ],
   "source": [
    "mon_tableau[0,1]     # On veut accéder à l'élément situé à la ligne d'index 0 et la colonne d'index 1"
   ]
  },
  {
   "cell_type": "code",
   "execution_count": 29,
   "metadata": {},
   "outputs": [
    {
     "data": {
      "text/plain": [
       "4"
      ]
     },
     "execution_count": 29,
     "metadata": {},
     "output_type": "execute_result"
    }
   ],
   "source": [
    "mon_tableau[1,0]     # On veut accéder à l'élément situé à la ligne d'index 1 et la colonne d'index 0                     "
   ]
  },
  {
   "cell_type": "markdown",
   "metadata": {},
   "source": [
    "- Exemples pour accéder à des tranches d'un tableau Numpy: <b>Slicing</b>"
   ]
  },
  {
   "cell_type": "code",
   "execution_count": 30,
   "metadata": {},
   "outputs": [
    {
     "data": {
      "text/plain": [
       "array([1, 4, 7])"
      ]
     },
     "execution_count": 30,
     "metadata": {},
     "output_type": "execute_result"
    }
   ],
   "source": [
    "mon_tableau[:,0]    # On veut toutes les lignes de la colonne d'index 0 (slicing)"
   ]
  },
  {
   "cell_type": "code",
   "execution_count": 31,
   "metadata": {},
   "outputs": [
    {
     "data": {
      "text/plain": [
       "array([1, 2, 3])"
      ]
     },
     "execution_count": 31,
     "metadata": {},
     "output_type": "execute_result"
    }
   ],
   "source": [
    "mon_tableau[0,:]    # On veut toutes les colonnes de la ligne d'index 0 (slicing)"
   ]
  },
  {
   "cell_type": "code",
   "execution_count": 32,
   "metadata": {},
   "outputs": [
    {
     "data": {
      "text/plain": [
       "array([[1, 3],\n",
       "       [4, 6],\n",
       "       [7, 9]])"
      ]
     },
     "execution_count": 32,
     "metadata": {},
     "output_type": "execute_result"
    }
   ],
   "source": [
    "mon_tableau[:,0:3:2] # On veut toutes les lignes et les colonnes d'index de 0 à 3 avec pas de 2.\n",
    "                     # Donc toutes les lignes et les colonnes 1 et 2 ."
   ]
  },
  {
   "cell_type": "code",
   "execution_count": 33,
   "metadata": {},
   "outputs": [
    {
     "data": {
      "text/plain": [
       "array([3, 6, 9])"
      ]
     },
     "execution_count": 33,
     "metadata": {},
     "output_type": "execute_result"
    }
   ],
   "source": [
    "mon_tableau[:,-1]  # On veut toutes les lignes de la dernière colonne"
   ]
  },
  {
   "cell_type": "code",
   "execution_count": 34,
   "metadata": {},
   "outputs": [
    {
     "data": {
      "text/plain": [
       "array([[2],\n",
       "       [5],\n",
       "       [8]])"
      ]
     },
     "execution_count": 34,
     "metadata": {},
     "output_type": "execute_result"
    }
   ],
   "source": [
    "mon_tableau[:,1:-1] # On veut toutes les lignes entre la colonne d'index 1 et la dernière colonne"
   ]
  },
  {
   "cell_type": "code",
   "execution_count": 35,
   "metadata": {},
   "outputs": [
    {
     "data": {
      "text/plain": [
       "array([8])"
      ]
     },
     "execution_count": 35,
     "metadata": {},
     "output_type": "execute_result"
    }
   ],
   "source": [
    "mon_tableau[2,1:-1] # On veut les valeurs de la ligne d'index 2 entre la colonne d'index 1 et la dernière colonne"
   ]
  },
  {
   "cell_type": "markdown",
   "metadata": {},
   "source": [
    "\n",
    "<h2> 7.3- Calculs mathématiques et matriciels sur un tableau Numpy:  </h2>\n"
   ]
  },
  {
   "cell_type": "markdown",
   "metadata": {},
   "source": [
    "Les tableaux Numpy sont très faciles à manipuler: on peut les concaténer, ajouter des valeurs, les multiplier, les transposer avec une seule ligne de code.\n",
    "\n",
    "Vous trouverez ci-dessous quelques exemples d’opérations arithmétiques et multiplicatives variées avec les tableaux Numpy. "
   ]
  },
  {
   "cell_type": "code",
   "execution_count": 36,
   "metadata": {},
   "outputs": [
    {
     "data": {
      "text/plain": [
       "array([[0, 1, 2],\n",
       "       [3, 4, 5],\n",
       "       [6, 7, 8]])"
      ]
     },
     "execution_count": 36,
     "metadata": {},
     "output_type": "execute_result"
    }
   ],
   "source": [
    "array1 = np.arange(9).reshape(3,3)\n",
    "array1"
   ]
  },
  {
   "cell_type": "code",
   "execution_count": 37,
   "metadata": {},
   "outputs": [
    {
     "data": {
      "text/plain": [
       "array([[28,  8, 34],\n",
       "       [40, 44,  6],\n",
       "       [23, 41, 40]])"
      ]
     },
     "execution_count": 37,
     "metadata": {},
     "output_type": "execute_result"
    }
   ],
   "source": [
    "array2 = np.random.randint(50, size=(3,3))\n",
    "array2"
   ]
  },
  {
   "cell_type": "markdown",
   "metadata": {},
   "source": [
    "- Opérations arithmétiques de base: addition, soustraction, multiplication, division"
   ]
  },
  {
   "cell_type": "code",
   "execution_count": 38,
   "metadata": {},
   "outputs": [
    {
     "data": {
      "text/plain": [
       "array([[10, 11, 12],\n",
       "       [13, 14, 15],\n",
       "       [16, 17, 18]])"
      ]
     },
     "execution_count": 38,
     "metadata": {},
     "output_type": "execute_result"
    }
   ],
   "source": [
    "array1 + 10 # ajouter une valeur à tous les éléments"
   ]
  },
  {
   "cell_type": "code",
   "execution_count": 39,
   "metadata": {},
   "outputs": [
    {
     "data": {
      "text/plain": [
       "array([[-10,  -9,  -8],\n",
       "       [ -7,  -6,  -5],\n",
       "       [ -4,  -3,  -2]])"
      ]
     },
     "execution_count": 39,
     "metadata": {},
     "output_type": "execute_result"
    }
   ],
   "source": [
    "array1 - 10 # soustraire une valeur à tous les éléments"
   ]
  },
  {
   "cell_type": "code",
   "execution_count": 40,
   "metadata": {},
   "outputs": [
    {
     "data": {
      "text/plain": [
       "array([[  0, 100, 200],\n",
       "       [300, 400, 500],\n",
       "       [600, 700, 800]])"
      ]
     },
     "execution_count": 40,
     "metadata": {},
     "output_type": "execute_result"
    }
   ],
   "source": [
    "array1 * 100 # multiplier une valeur à tous les éléments"
   ]
  },
  {
   "cell_type": "code",
   "execution_count": 41,
   "metadata": {},
   "outputs": [
    {
     "data": {
      "text/plain": [
       "array([ 0, 30, 60])"
      ]
     },
     "execution_count": 41,
     "metadata": {},
     "output_type": "execute_result"
    }
   ],
   "source": [
    "array1[:,0] * 10 # on multiplie par 10 toutes les lignes de la colonne d'index 0."
   ]
  },
  {
   "cell_type": "code",
   "execution_count": 42,
   "metadata": {},
   "outputs": [
    {
     "data": {
      "text/plain": [
       "array([[0. , 0.5, 1. ],\n",
       "       [1.5, 2. , 2.5],\n",
       "       [3. , 3.5, 4. ]])"
      ]
     },
     "execution_count": 42,
     "metadata": {},
     "output_type": "execute_result"
    }
   ],
   "source": [
    "array1 / 2 # diviser une valeur à tous les éléments"
   ]
  },
  {
   "cell_type": "markdown",
   "metadata": {},
   "source": [
    "- quelques fonctions et méthodes Numpy applicables sur les tableaux Numpy:\n",
    "\n",
    "<a class=\"reference internal\" href=\"https://docs.scipy.org/doc/numpy-1.13.0/reference/generated/numpy.all.html#numpy.all\" title=\"numpy.all\"><code class=\"xref py py-obj docutils literal\"><span class=\"pre\">all</span></code></a>,\n",
    "<a class=\"reference internal\" href=\"https://docs.scipy.org/doc/numpy-1.13.0/reference/generated/numpy.any.html#numpy.any\" title=\"numpy.any\"><code class=\"xref py py-obj docutils literal\"><span class=\"pre\">any</span></code></a>,\n",
    "<a class=\"reference internal\" href=\"https://docs.scipy.org/doc/numpy-1.13.0/reference/generated/numpy.apply_along_axis.html#numpy.apply_along_axis\" title=\"numpy.apply_along_axis\"><code class=\"xref py py-obj docutils literal\"><span class=\"pre\">apply_along_axis</span></code></a>,\n",
    "<a class=\"reference internal\" href=\"https://docs.scipy.org/doc/numpy-1.13.0/reference/generated/numpy.argmax.html#numpy.argmax\" title=\"numpy.argmax\"><code class=\"xref py py-obj docutils literal\"><span class=\"pre\">argmax</span></code></a>,\n",
    "<a class=\"reference internal\" href=\"https://docs.scipy.org/doc/numpy-1.13.0/reference/generated/numpy.argmin.html#numpy.argmin\" title=\"numpy.argmin\"><code class=\"xref py py-obj docutils literal\"><span class=\"pre\">argmin</span></code></a>,\n",
    "<a class=\"reference internal\" href=\"https://docs.scipy.org/doc/numpy-1.13.0/reference/generated/numpy.argsort.html#numpy.argsort\" title=\"numpy.argsort\"><code class=\"xref py py-obj docutils literal\"><span class=\"pre\">argsort</span></code></a>,\n",
    "<a class=\"reference internal\" href=\"https://docs.scipy.org/doc/numpy-1.13.0/reference/generated/numpy.average.html#numpy.average\" title=\"numpy.average\"><code class=\"xref py py-obj docutils literal\"><span class=\"pre\">average</span></code></a>,\n",
    "<a class=\"reference internal\" href=\"https://docs.scipy.org/doc/numpy-1.13.0/reference/generated/numpy.bincount.html#numpy.bincount\" title=\"numpy.bincount\"><code class=\"xref py py-obj docutils literal\"><span class=\"pre\">bincount</span></code></a>,\n",
    "<a class=\"reference internal\" href=\"https://docs.scipy.org/doc/numpy-1.13.0/reference/generated/numpy.ceil.html#numpy.ceil\" title=\"numpy.ceil\"><code class=\"xref py py-obj docutils literal\"><span class=\"pre\">ceil</span></code></a>,\n",
    "<a class=\"reference internal\" href=\"https://docs.scipy.org/doc/numpy-1.13.0/reference/generated/numpy.clip.html#numpy.clip\" title=\"numpy.clip\"><code class=\"xref py py-obj docutils literal\"><span class=\"pre\">clip</span></code></a>,\n",
    "<a class=\"reference internal\" href=\"https://docs.scipy.org/doc/numpy-1.13.0/reference/generated/numpy.conj.html#numpy.conj\" title=\"numpy.conj\"><code class=\"xref py py-obj docutils literal\"><span class=\"pre\">conj</span></code></a>,\n",
    "<a class=\"reference internal\" href=\"https://docs.scipy.org/doc/numpy-1.13.0/reference/generated/numpy.corrcoef.html#numpy.corrcoef\" title=\"numpy.corrcoef\"><code class=\"xref py py-obj docutils literal\"><span class=\"pre\">corrcoef</span></code></a>,\n",
    "<a class=\"reference internal\" href=\"https://docs.scipy.org/doc/numpy-1.13.0/reference/generated/numpy.cov.html#numpy.cov\" title=\"numpy.cov\"><code class=\"xref py py-obj docutils literal\"><span class=\"pre\">cov</span></code></a>,\n",
    "<a class=\"reference internal\" href=\"https://docs.scipy.org/doc/numpy-1.13.0/reference/generated/numpy.cross.html#numpy.cross\" title=\"numpy.cross\"><code class=\"xref py py-obj docutils literal\"><span class=\"pre\">cross</span></code></a>,\n",
    "<a class=\"reference internal\" href=\"https://docs.scipy.org/doc/numpy-1.13.0/reference/generated/numpy.cumprod.html#numpy.cumprod\" title=\"numpy.cumprod\"><code class=\"xref py py-obj docutils literal\"><span class=\"pre\">cumprod</span></code></a>,\n",
    "<a class=\"reference internal\" href=\"https://docs.scipy.org/doc/numpy-1.13.0/reference/generated/numpy.cumsum.html#numpy.cumsum\" title=\"numpy.cumsum\"><code class=\"xref py py-obj docutils literal\"><span class=\"pre\">cumsum</span></code></a>,\n",
    "<a class=\"reference internal\" href=\"https://docs.scipy.org/doc/numpy-1.13.0/reference/generated/numpy.diff.html#numpy.diff\" title=\"numpy.diff\"><code class=\"xref py py-obj docutils literal\"><span class=\"pre\">diff</span></code></a>,\n",
    "<a class=\"reference internal\" href=\"https://docs.scipy.org/doc/numpy-1.13.0/reference/generated/numpy.dot.html#numpy.dot\" title=\"numpy.dot\"><code class=\"xref py py-obj docutils literal\"><span class=\"pre\">dot</span></code></a>,\n",
    "<a class=\"reference internal\" href=\"https://docs.scipy.org/doc/numpy-1.13.0/reference/generated/numpy.floor.html#numpy.floor\" title=\"numpy.floor\"><code class=\"xref py py-obj docutils literal\"><span class=\"pre\">floor</span></code></a>,\n",
    "<a class=\"reference internal\" href=\"https://docs.scipy.org/doc/numpy-1.13.0/reference/generated/numpy.inner.html#numpy.inner\" title=\"numpy.inner\"><code class=\"xref py py-obj docutils literal\"><span class=\"pre\">inner</span></code></a>,\n",
    "<a class=\"reference internal\" href=\"https://docs.scipy.org/doc/numpy-1.13.0/reference/generated/numpy.lexsort.html#numpy.lexsort\" title=\"numpy.lexsort\"><code class=\"xref py py-obj docutils literal\"><span class=\"pre\">lexsort</span></code></a>,\n",
    "<a class=\"reference external\" href=\"https://docs.python.org/dev/library/functions.html#max\" title=\"(in Python v3.7)\"><code class=\"xref py py-obj docutils literal\"><span class=\"pre\">max</span></code></a>,\n",
    "<a class=\"reference internal\" href=\"https://docs.scipy.org/doc/numpy-1.13.0/reference/generated/numpy.maximum.html#numpy.maximum\" title=\"numpy.maximum\"><code class=\"xref py py-obj docutils literal\"><span class=\"pre\">maximum</span></code></a>,\n",
    "<a class=\"reference internal\" href=\"https://docs.scipy.org/doc/numpy-1.13.0/reference/generated/numpy.mean.html#numpy.mean\" title=\"numpy.mean\"><code class=\"xref py py-obj docutils literal\"><span class=\"pre\">mean</span></code></a>,\n",
    "<a class=\"reference internal\" href=\"https://docs.scipy.org/doc/numpy-1.13.0/reference/generated/numpy.median.html#numpy.median\" title=\"numpy.median\"><code class=\"xref py py-obj docutils literal\"><span class=\"pre\">median</span></code></a>,\n",
    "<a class=\"reference external\" href=\"https://docs.python.org/dev/library/functions.html#min\" title=\"(in Python v3.7)\"><code class=\"xref py py-obj docutils literal\"><span class=\"pre\">min</span></code></a>,\n",
    "<a class=\"reference internal\" href=\"https://docs.scipy.org/doc/numpy-1.13.0/reference/generated/numpy.minimum.html#numpy.minimum\" title=\"numpy.minimum\"><code class=\"xref py py-obj docutils literal\"><span class=\"pre\">minimum</span></code></a>,\n",
    "<a class=\"reference internal\" href=\"https://docs.scipy.org/doc/numpy-1.13.0/reference/generated/numpy.nonzero.html#numpy.nonzero\" title=\"numpy.nonzero\"><code class=\"xref py py-obj docutils literal\"><span class=\"pre\">nonzero</span></code></a>,\n",
    "<a class=\"reference internal\" href=\"https://docs.scipy.org/doc/numpy-1.13.0/reference/generated/numpy.outer.html#numpy.outer\" title=\"numpy.outer\"><code class=\"xref py py-obj docutils literal\"><span class=\"pre\">outer</span></code></a>,\n",
    "<a class=\"reference external\" href=\"https://docs.python.org/dev/library/re.html#module-re\" title=\"(in Python v3.7)\"><code class=\"xref py py-obj docutils literal\"><span class=\"pre\">re</span></code></a>,\n",
    "<a class=\"reference external\" href=\"https://docs.python.org/dev/library/functions.html#round\" title=\"(in Python v3.7)\"><code class=\"xref py py-obj docutils literal\"><span class=\"pre\">round</span></code></a>,\n",
    "<a class=\"reference internal\" href=\"https://docs.scipy.org/doc/numpy-1.13.0/reference/generated/numpy.sort.html#numpy.sort\" title=\"numpy.sort\"><code class=\"xref py py-obj docutils literal\"><span class=\"pre\">sort</span></code></a>,\n",
    "<a class=\"reference internal\" href=\"https://docs.scipy.org/doc/numpy-1.13.0/reference/generated/numpy.std.html#numpy.std\" title=\"numpy.std\"><code class=\"xref py py-obj docutils literal\"><span class=\"pre\">std</span></code></a>,\n",
    "<a class=\"reference internal\" href=\"https://docs.scipy.org/doc/numpy-1.13.0/reference/generated/numpy.sum.html#numpy.sum\" title=\"numpy.sum\"><code class=\"xref py py-obj docutils literal\"><span class=\"pre\">sum</span></code></a>,\n",
    "<a class=\"reference internal\" href=\"https://docs.scipy.org/doc/numpy-1.13.0/reference/generated/numpy.trace.html#numpy.trace\" title=\"numpy.trace\"><code class=\"xref py py-obj docutils literal\"><span class=\"pre\">trace</span></code></a>,\n",
    "<a class=\"reference internal\" href=\"https://docs.scipy.org/doc/numpy-1.13.0/reference/generated/numpy.transpose.html#numpy.transpose\" title=\"numpy.transpose\"><code class=\"xref py py-obj docutils literal\"><span class=\"pre\">transpose</span></code></a>,\n",
    "<a class=\"reference internal\" href=\"https://docs.scipy.org/doc/numpy-1.13.0/reference/generated/numpy.var.html#numpy.var\" title=\"numpy.var\"><code class=\"xref py py-obj docutils literal\"><span class=\"pre\">var</span></code></a>,\n",
    "<a class=\"reference internal\" href=\"https://docs.scipy.org/doc/numpy-1.13.0/reference/generated/numpy.vdot.html#numpy.vdot\" title=\"numpy.vdot\"><code class=\"xref py py-obj docutils literal\"><span class=\"pre\">vdot</span></code></a>,\n",
    "<a class=\"reference internal\" href=\"https://docs.scipy.org/doc/numpy-1.13.0/reference/generated/numpy.vectorize.html#numpy.vectorize\" title=\"numpy.vectorize\"><code class=\"xref py py-obj docutils literal\"><span class=\"pre\">vectorize</span></code></a>,\n",
    "<a class=\"reference internal\" href=\"https://docs.scipy.org/doc/numpy-1.13.0/reference/generated/numpy.where.html#numpy.where\" title=\"numpy.where\"><code class=\"xref py py-obj docutils literal\"><span class=\"pre\">where</span></code></a>\n"
   ]
  },
  {
   "cell_type": "code",
   "execution_count": 43,
   "metadata": {
    "scrolled": true
   },
   "outputs": [
    {
     "data": {
      "text/plain": [
       "array([[10, 11, 12],\n",
       "       [13, 14, 15],\n",
       "       [16, 17, 18]])"
      ]
     },
     "execution_count": 43,
     "metadata": {},
     "output_type": "execute_result"
    }
   ],
   "source": [
    "np.add(array1,10) # ajouter une valeur à tous les éléments"
   ]
  },
  {
   "cell_type": "code",
   "execution_count": 44,
   "metadata": {},
   "outputs": [
    {
     "data": {
      "text/plain": [
       "array([[-10,  -9,  -8],\n",
       "       [ -7,  -6,  -5],\n",
       "       [ -4,  -3,  -2]])"
      ]
     },
     "execution_count": 44,
     "metadata": {},
     "output_type": "execute_result"
    }
   ],
   "source": [
    "np.subtract(array1,10) # soustraire une valeur à tous les éléments"
   ]
  },
  {
   "cell_type": "code",
   "execution_count": 45,
   "metadata": {},
   "outputs": [
    {
     "data": {
      "text/plain": [
       "array([[  0, 100, 200],\n",
       "       [300, 400, 500],\n",
       "       [600, 700, 800]])"
      ]
     },
     "execution_count": 45,
     "metadata": {},
     "output_type": "execute_result"
    }
   ],
   "source": [
    "np.multiply(array1,100) # multiplier une valeur à tous les éléments"
   ]
  },
  {
   "cell_type": "code",
   "execution_count": 46,
   "metadata": {},
   "outputs": [
    {
     "data": {
      "text/plain": [
       "array([[0. , 0.5, 1. ],\n",
       "       [1.5, 2. , 2.5],\n",
       "       [3. , 3.5, 4. ]])"
      ]
     },
     "execution_count": 46,
     "metadata": {},
     "output_type": "execute_result"
    }
   ],
   "source": [
    "np.divide(array1, 2) # diviser une valeur à tous les éléments"
   ]
  },
  {
   "cell_type": "code",
   "execution_count": 47,
   "metadata": {},
   "outputs": [
    {
     "data": {
      "text/plain": [
       "4.0"
      ]
     },
     "execution_count": 47,
     "metadata": {},
     "output_type": "execute_result"
    }
   ],
   "source": [
    "np.mean(array1) # calcul de la moyenne du tableau Numpy à partir de la fonction mean()"
   ]
  },
  {
   "cell_type": "code",
   "execution_count": 48,
   "metadata": {},
   "outputs": [
    {
     "data": {
      "text/plain": [
       "4.0"
      ]
     },
     "execution_count": 48,
     "metadata": {},
     "output_type": "execute_result"
    }
   ],
   "source": [
    "array1.mean()  # calcul de la moyenne du tableau Numpy à partir de la méthode mean()"
   ]
  },
  {
   "cell_type": "code",
   "execution_count": 49,
   "metadata": {},
   "outputs": [
    {
     "data": {
      "text/plain": [
       "0"
      ]
     },
     "execution_count": 49,
     "metadata": {},
     "output_type": "execute_result"
    }
   ],
   "source": [
    "array1.min()  # calcul de la valeur minimale du tableau Numpy à partir de la méthode min()"
   ]
  },
  {
   "cell_type": "code",
   "execution_count": 50,
   "metadata": {},
   "outputs": [
    {
     "data": {
      "text/plain": [
       "8"
      ]
     },
     "execution_count": 50,
     "metadata": {},
     "output_type": "execute_result"
    }
   ],
   "source": [
    "array1.max()  # calcul de la valeur maximale du tableau Numpy à partir de la méthode max()"
   ]
  },
  {
   "cell_type": "code",
   "execution_count": 51,
   "metadata": {},
   "outputs": [
    {
     "data": {
      "text/plain": [
       "array([3., 4., 5.])"
      ]
     },
     "execution_count": 51,
     "metadata": {},
     "output_type": "execute_result"
    }
   ],
   "source": [
    "np.mean(array1, axis=0)  # si on veut appliquer une fonction uniquement sur les colonnes "
   ]
  },
  {
   "cell_type": "code",
   "execution_count": 52,
   "metadata": {},
   "outputs": [
    {
     "data": {
      "text/plain": [
       "array([1., 4., 7.])"
      ]
     },
     "execution_count": 52,
     "metadata": {},
     "output_type": "execute_result"
    }
   ],
   "source": [
    "np.mean(array1, axis=1) # si on veut appliquer une fonction uniquement sur les lignes "
   ]
  },
  {
   "cell_type": "markdown",
   "metadata": {},
   "source": [
    "- Opérations entre plusieurs tableaux"
   ]
  },
  {
   "cell_type": "code",
   "execution_count": 53,
   "metadata": {},
   "outputs": [
    {
     "data": {
      "text/plain": [
       "array([[ 28,  16, 102],\n",
       "       [160, 220,  36],\n",
       "       [161, 328, 360]])"
      ]
     },
     "execution_count": 53,
     "metadata": {},
     "output_type": "execute_result"
    }
   ],
   "source": [
    "(array1 +1) * array2 # multiplication de 2 tableaux"
   ]
  },
  {
   "cell_type": "code",
   "execution_count": 54,
   "metadata": {
    "scrolled": true
   },
   "outputs": [
    {
     "data": {
      "text/plain": [
       "array([[28,  9, 36],\n",
       "       [43, 48, 11],\n",
       "       [29, 48, 48]])"
      ]
     },
     "execution_count": 54,
     "metadata": {},
     "output_type": "execute_result"
    }
   ],
   "source": [
    "array1 + array2 # somme de 2 tableaux"
   ]
  },
  {
   "cell_type": "code",
   "execution_count": 55,
   "metadata": {},
   "outputs": [
    {
     "data": {
      "text/plain": [
       "array([[ 86, 126,  86],\n",
       "       [359, 405, 326],\n",
       "       [632, 684, 566]])"
      ]
     },
     "execution_count": 55,
     "metadata": {},
     "output_type": "execute_result"
    }
   ],
   "source": [
    "np.dot(array1, array2) # produit scalaire de 2 tableaux"
   ]
  },
  {
   "cell_type": "markdown",
   "metadata": {},
   "source": [
    "\n",
    "\n",
    "<h2> 7.4- Modifier des tableaux Numpy:   </h2>\n",
    "\n",
    "\n",
    "Parmi les autres fonctionnalités intéressantes figurent la concaténation, le fractionnement, la transposition (changement d’éléments d’une rangée à l’autre et vice versa) et l’obtention des éléments en diagonale.\n",
    "\n",
    "a)- Pour manipuler/modifier les dimensions d'un tableau Numpy: \n",
    "\n",
    "La dimension d'un tableau est donnée par le nombres d'élélements suivant chaque axe. \n",
    "On a des méthodes spécifiques et des attributs spécifiques aux ndarray():\n",
    "\n",
    "<table border=\"1\" class=\"docutils\">\n",
    "<colgroup>\n",
    "<col width=\"27%\">\n",
    "<col width=\"57%\">\n",
    "</colgroup>\n",
    "<tbody valign=\"top\">\n",
    "\n",
    "<tr><td><tt class=\"docutils literal\"><span class=\"pre\">ndim</span></tt></td>\n",
    "<td>Attribut pour connaitre la dimension d'un tableau Numpy</td>\n",
    "</tr>\n",
    "<tr><td><tt class=\"docutils literal\"><span class=\"pre\">shape</span></tt></td>\n",
    "<td>Attribut pour connaitre les dimension d'un tableau Numpy </td>\n",
    "</tr>\n",
    "<tr><td><tt class=\"docutils literal\"><span class=\"pre\">dtype</span></tt></td>\n",
    "<td>Attribut pour connaitre le type de notre array</td>\n",
    "</tr>\n",
    "<tr><td><tt class=\"docutils literal\"><span class=\"pre\">size</span></tt></td>\n",
    "<td>Attibut pour connaitre la taille de notre array</td>\n",
    "</tr>\n",
    "\n",
    "</tbody>\n",
    "</table>\n",
    "\n",
    "\n"
   ]
  },
  {
   "cell_type": "code",
   "execution_count": 56,
   "metadata": {},
   "outputs": [
    {
     "name": "stdout",
     "output_type": "stream",
     "text": [
      "[[2. 5. 1. 0.]\n",
      " [5. 0. 0. 1.]\n",
      " [7. 7. 5. 0.]] (3, 4) 2\n"
     ]
    }
   ],
   "source": [
    "a = np.floor(10*np.random.random((3,4)))\n",
    "print(a, a.shape, a.ndim)"
   ]
  },
  {
   "cell_type": "markdown",
   "metadata": {},
   "source": [
    "Selon nos besoins en programmation, on peut modifier la dimension d'un tableau."
   ]
  },
  {
   "cell_type": "code",
   "execution_count": 57,
   "metadata": {},
   "outputs": [
    {
     "data": {
      "text/plain": [
       "array([2., 5., 1., 0., 5., 0., 0., 1., 7., 7., 5., 0.])"
      ]
     },
     "execution_count": 57,
     "metadata": {},
     "output_type": "execute_result"
    }
   ],
   "source": [
    "a.ravel()  # écrit notre tableau sur 1 dimension (flattened) "
   ]
  },
  {
   "cell_type": "code",
   "execution_count": 58,
   "metadata": {},
   "outputs": [
    {
     "data": {
      "text/plain": [
       "array([[2., 5.],\n",
       "       [1., 0.],\n",
       "       [5., 0.],\n",
       "       [0., 1.],\n",
       "       [7., 7.],\n",
       "       [5., 0.]])"
      ]
     },
     "execution_count": 58,
     "metadata": {},
     "output_type": "execute_result"
    }
   ],
   "source": [
    "a.reshape(6,2)  # fonction reshape() pour modifier la dimension de notre tableau"
   ]
  },
  {
   "cell_type": "code",
   "execution_count": 59,
   "metadata": {},
   "outputs": [
    {
     "data": {
      "text/plain": [
       "array([[2., 5., 7.],\n",
       "       [5., 0., 7.],\n",
       "       [1., 0., 5.],\n",
       "       [0., 1., 0.]])"
      ]
     },
     "execution_count": 59,
     "metadata": {},
     "output_type": "execute_result"
    }
   ],
   "source": [
    "a.T  # méthode .T pour calculer la transposée de notre tableau. "
   ]
  },
  {
   "cell_type": "code",
   "execution_count": 60,
   "metadata": {},
   "outputs": [
    {
     "name": "stdout",
     "output_type": "stream",
     "text": [
      "(4, 3) (3, 4)\n"
     ]
    }
   ],
   "source": [
    "print(a.T.shape, a.shape)"
   ]
  },
  {
   "cell_type": "markdown",
   "metadata": {},
   "source": [
    "La fonction reshape renvoie son argument avec une forme modifiée, alors que la méthode ndarray.resize modifie le tableau lui-même:"
   ]
  },
  {
   "cell_type": "code",
   "execution_count": 61,
   "metadata": {},
   "outputs": [
    {
     "data": {
      "text/plain": [
       "array([[2., 5., 1., 0., 5., 0.],\n",
       "       [0., 1., 7., 7., 5., 0.]])"
      ]
     },
     "execution_count": 61,
     "metadata": {},
     "output_type": "execute_result"
    }
   ],
   "source": [
    "a.resize((2,6))\n",
    "a"
   ]
  },
  {
   "cell_type": "markdown",
   "metadata": {},
   "source": [
    "Si une dimension est définie à -1 dans une opération de reformage, les autres dimensions sont automatiquement calculées:"
   ]
  },
  {
   "cell_type": "code",
   "execution_count": 62,
   "metadata": {},
   "outputs": [
    {
     "data": {
      "text/plain": [
       "array([[2., 5., 1.],\n",
       "       [0., 5., 0.],\n",
       "       [0., 1., 7.],\n",
       "       [7., 5., 0.]])"
      ]
     },
     "execution_count": 62,
     "metadata": {},
     "output_type": "execute_result"
    }
   ],
   "source": [
    "a.reshape(4,-1)"
   ]
  },
  {
   "cell_type": "markdown",
   "metadata": {},
   "source": [
    "b)- Travailler et modifier un sous-ensemble d'un tableau Numpy:"
   ]
  },
  {
   "cell_type": "code",
   "execution_count": 63,
   "metadata": {},
   "outputs": [
    {
     "data": {
      "text/plain": [
       "array([[1, 2, 3],\n",
       "       [4, 5, 6],\n",
       "       [7, 8, 9]])"
      ]
     },
     "execution_count": 63,
     "metadata": {},
     "output_type": "execute_result"
    }
   ],
   "source": [
    "notre_tableau = np.array([[1,2,3], [4,5,6], [7,8,9]])\n",
    "notre_tableau"
   ]
  },
  {
   "cell_type": "markdown",
   "metadata": {},
   "source": [
    "On va sélectionner un sous-ensemble de notre tableau en prenant la ligne d'index 0 ."
   ]
  },
  {
   "cell_type": "code",
   "execution_count": 64,
   "metadata": {},
   "outputs": [
    {
     "data": {
      "text/plain": [
       "array([1, 2, 3])"
      ]
     },
     "execution_count": 64,
     "metadata": {},
     "output_type": "execute_result"
    }
   ],
   "source": [
    "sous_tableau = notre_tableau[0]\n",
    "sous_tableau"
   ]
  },
  {
   "cell_type": "markdown",
   "metadata": {},
   "source": [
    "On va modifier la première valeur de notre tableau. "
   ]
  },
  {
   "cell_type": "code",
   "execution_count": 65,
   "metadata": {},
   "outputs": [
    {
     "data": {
      "text/plain": [
       "array([100,   2,   3])"
      ]
     },
     "execution_count": 65,
     "metadata": {},
     "output_type": "execute_result"
    }
   ],
   "source": [
    "sous_tableau[0] = 100\n",
    "sous_tableau"
   ]
  },
  {
   "cell_type": "markdown",
   "metadata": {},
   "source": [
    "Mais en modifiant notre sous tableau, on se rend compte que nous avons modifié notre_tableau."
   ]
  },
  {
   "cell_type": "code",
   "execution_count": 66,
   "metadata": {},
   "outputs": [
    {
     "data": {
      "text/plain": [
       "array([[100,   2,   3],\n",
       "       [  4,   5,   6],\n",
       "       [  7,   8,   9]])"
      ]
     },
     "execution_count": 66,
     "metadata": {},
     "output_type": "execute_result"
    }
   ],
   "source": [
    "notre_tableau"
   ]
  },
  {
   "cell_type": "markdown",
   "metadata": {},
   "source": [
    "Une modification du sous-ensemble entraîne une modification du tableau initial .\n",
    "On dit que sous_tableau est une vue de notre tableau. Raison: travailler avec des gros volumes de données.\n",
    "\n",
    "Si on veut vraiment travailler avec un sous ensemble sans modifier notre tableau d'origine, il faut faire une copie avec la fonction <b>copy()</b>.\n"
   ]
  },
  {
   "cell_type": "code",
   "execution_count": 67,
   "metadata": {},
   "outputs": [],
   "source": [
    "notre_tableau = np.array([[1,2,3], [4,5,6], [7,8,9]])\n",
    "sous_tableau=notre_tableau[0].copy()\n",
    "sous_tableau[0]=101"
   ]
  },
  {
   "cell_type": "code",
   "execution_count": 68,
   "metadata": {},
   "outputs": [
    {
     "data": {
      "text/plain": [
       "array([101,   2,   3])"
      ]
     },
     "execution_count": 68,
     "metadata": {},
     "output_type": "execute_result"
    }
   ],
   "source": [
    "sous_tableau"
   ]
  },
  {
   "cell_type": "code",
   "execution_count": 69,
   "metadata": {},
   "outputs": [
    {
     "data": {
      "text/plain": [
       "array([[1, 2, 3],\n",
       "       [4, 5, 6],\n",
       "       [7, 8, 9]])"
      ]
     },
     "execution_count": 69,
     "metadata": {},
     "output_type": "execute_result"
    }
   ],
   "source": [
    "notre_tableau"
   ]
  },
  {
   "cell_type": "markdown",
   "metadata": {},
   "source": [
    "\n",
    "   c)- Pour concatener des tableaux Numpy:\n",
    "    \n",
    "<a class=\"reference internal\" href=\"https://docs.scipy.org/doc/numpy-1.13.0/reference/generated/numpy.vstack.html#numpy.vstack\" title=\"numpy.vstack\"><code class=\"xref py py-obj docutils literal\"><span class=\"pre\">vstack</span></code></a>, \n",
    "<a class=\"reference internal\" href=\"https://docs.scipy.org/doc/numpy-1.13.0/reference/generated/numpy.column_stack.html#numpy.column_stack\" title=\"numpy.column_stack\"><code class=\"xref py py-obj docutils literal\"><span class=\"pre\">column_stack</span></code></a>, \n",
    "<a class=\"reference internal\" href=\"https://docs.scipy.org/doc/numpy-1.13.0/reference/generated/numpy.concatenate.html#numpy.concatenate\" title=\"numpy.concatenate\"><code class=\"xref py py-obj docutils literal\"><span class=\"pre\">concatenate</span></code></a>"
   ]
  },
  {
   "cell_type": "markdown",
   "metadata": {},
   "source": [
    "- Pour concatener des tableaux Numpy: fonction <b>concatenate()</b>"
   ]
  },
  {
   "cell_type": "code",
   "execution_count": 70,
   "metadata": {},
   "outputs": [
    {
     "data": {
      "text/plain": [
       "array([[1, 2, 3],\n",
       "       [4, 5, 6],\n",
       "       [7, 8, 9]])"
      ]
     },
     "execution_count": 70,
     "metadata": {},
     "output_type": "execute_result"
    }
   ],
   "source": [
    "array1=np.array([[1,2,3],[4,5,6],[7,8,9]])\n",
    "array1"
   ]
  },
  {
   "cell_type": "code",
   "execution_count": 71,
   "metadata": {},
   "outputs": [
    {
     "data": {
      "text/plain": [
       "array([[ 2,  5,  6],\n",
       "       [ 9, 10, 11],\n",
       "       [ 5,  6,  9]])"
      ]
     },
     "execution_count": 71,
     "metadata": {},
     "output_type": "execute_result"
    }
   ],
   "source": [
    "array2=np.array([[2,5,6],[9,10,11],[5,6,9]])\n",
    "array2"
   ]
  },
  {
   "cell_type": "code",
   "execution_count": 72,
   "metadata": {},
   "outputs": [
    {
     "data": {
      "text/plain": [
       "array([[ 1,  2,  3],\n",
       "       [ 4,  5,  6],\n",
       "       [ 7,  8,  9],\n",
       "       [ 2,  5,  6],\n",
       "       [ 9, 10, 11],\n",
       "       [ 5,  6,  9]])"
      ]
     },
     "execution_count": 72,
     "metadata": {},
     "output_type": "execute_result"
    }
   ],
   "source": [
    "np.concatenate([array1,array2], axis=0)   # concaténer par lignes  (axis = 0) "
   ]
  },
  {
   "cell_type": "code",
   "execution_count": 73,
   "metadata": {},
   "outputs": [
    {
     "data": {
      "text/plain": [
       "array([[ 1,  2,  3,  2,  5,  6],\n",
       "       [ 4,  5,  6,  9, 10, 11],\n",
       "       [ 7,  8,  9,  5,  6,  9]])"
      ]
     },
     "execution_count": 73,
     "metadata": {},
     "output_type": "execute_result"
    }
   ],
   "source": [
    "np.concatenate([array1,array2], axis=1)   # concaténer par colonnes  (axis = 1) "
   ]
  },
  {
   "cell_type": "markdown",
   "metadata": {},
   "source": [
    "Si on souhaite concatener des tableaux n'ayant pas les mêmes dimensions, on ne va pas utiliser \n",
    "la fonction concatenate(), mais: \n",
    "- la fonction <b>vstack()</b> pour empiler à la verticale\n",
    "- la fonction <b>hstack()</b> pour empliler à l'horizontale"
   ]
  },
  {
   "cell_type": "code",
   "execution_count": 74,
   "metadata": {},
   "outputs": [],
   "source": [
    "array3=np.array([10,20,30]) # Création d'un array() de 1D."
   ]
  },
  {
   "cell_type": "code",
   "execution_count": 75,
   "metadata": {},
   "outputs": [
    {
     "data": {
      "text/plain": [
       "array([10, 20, 30])"
      ]
     },
     "execution_count": 75,
     "metadata": {},
     "output_type": "execute_result"
    }
   ],
   "source": [
    "array3"
   ]
  },
  {
   "cell_type": "code",
   "execution_count": 76,
   "metadata": {},
   "outputs": [],
   "source": [
    "array4=np.array([[1,2,3],[4,5,6],[7,8,9]]) # Création d'un array() bi-dimentionnel"
   ]
  },
  {
   "cell_type": "code",
   "execution_count": 77,
   "metadata": {},
   "outputs": [
    {
     "data": {
      "text/plain": [
       "array([[1, 2, 3],\n",
       "       [4, 5, 6],\n",
       "       [7, 8, 9]])"
      ]
     },
     "execution_count": 77,
     "metadata": {},
     "output_type": "execute_result"
    }
   ],
   "source": [
    "array4"
   ]
  },
  {
   "cell_type": "code",
   "execution_count": 78,
   "metadata": {},
   "outputs": [
    {
     "data": {
      "text/plain": [
       "array([[ 1,  2,  3],\n",
       "       [ 4,  5,  6],\n",
       "       [ 7,  8,  9],\n",
       "       [10, 20, 30]])"
      ]
     },
     "execution_count": 78,
     "metadata": {},
     "output_type": "execute_result"
    }
   ],
   "source": [
    "#np.concatenate([array3,array4])\n",
    "np.vstack([array4,array3])   #  On va concatener à la verticale les deux tableaux "
   ]
  },
  {
   "cell_type": "code",
   "execution_count": 79,
   "metadata": {},
   "outputs": [
    {
     "data": {
      "text/plain": [
       "array([[10],\n",
       "       [20],\n",
       "       [30]])"
      ]
     },
     "execution_count": 79,
     "metadata": {},
     "output_type": "execute_result"
    }
   ],
   "source": [
    "array5=np.array([[10],[20],[30]]) # Tableau à 2 dimensions à 2 colonnes\n",
    "array5"
   ]
  },
  {
   "cell_type": "code",
   "execution_count": 80,
   "metadata": {},
   "outputs": [
    {
     "data": {
      "text/plain": [
       "array([[ 1,  2,  3, 10],\n",
       "       [ 4,  5,  6, 20],\n",
       "       [ 7,  8,  9, 30]])"
      ]
     },
     "execution_count": 80,
     "metadata": {},
     "output_type": "execute_result"
    }
   ],
   "source": [
    "np.hstack([array4,array5]) #  On va empiler à l'horizontale les deux tableaux "
   ]
  },
  {
   "cell_type": "markdown",
   "metadata": {},
   "source": [
    "Une autre fonction intéressante à connaitre est la fonction <b>column_stack()</b>.\n",
    "\n",
    "Cette fonction empile des tableaux 1D sous forme de colonnes dans un tableau 2D. Cela équivaut à hstack uniquement pour les tableaux 2D."
   ]
  },
  {
   "cell_type": "code",
   "execution_count": 81,
   "metadata": {},
   "outputs": [
    {
     "name": "stdout",
     "output_type": "stream",
     "text": [
      "(3,) (3, 3)\n",
      "1 2\n"
     ]
    }
   ],
   "source": [
    "a = np.array([4.,2.,1.]) # on utilise un tableau 1 D, que nous souhaitons concaténer avec le tableau 2D array4\n",
    "print(a.shape, array4.shape)\n",
    "print(a.ndim, array4.ndim)"
   ]
  },
  {
   "cell_type": "code",
   "execution_count": 82,
   "metadata": {},
   "outputs": [
    {
     "data": {
      "text/plain": [
       "array([[1., 2., 3., 4.],\n",
       "       [4., 5., 6., 2.],\n",
       "       [7., 8., 9., 1.]])"
      ]
     },
     "execution_count": 82,
     "metadata": {},
     "output_type": "execute_result"
    }
   ],
   "source": [
    "# np.hstack([array4,a]) # problème de dimension\n",
    "np.column_stack([array4,a])"
   ]
  },
  {
   "cell_type": "markdown",
   "metadata": {},
   "source": [
    " d)- Pour découper des tableaux Numpy:\n",
    "\n",
    "C'est le contraire de la concatenation. \n",
    "Nous avons les fonctions split(), hsplit() et vsplit() . "
   ]
  },
  {
   "cell_type": "code",
   "execution_count": 83,
   "metadata": {},
   "outputs": [],
   "source": [
    "array=np.array([15,16,17,12,49,52,12,14,36]) # on crée un array à 1 D. "
   ]
  },
  {
   "cell_type": "code",
   "execution_count": 84,
   "metadata": {},
   "outputs": [
    {
     "data": {
      "text/plain": [
       "9"
      ]
     },
     "execution_count": 84,
     "metadata": {},
     "output_type": "execute_result"
    }
   ],
   "source": [
    "len(array) # taille de notre array "
   ]
  },
  {
   "cell_type": "code",
   "execution_count": 85,
   "metadata": {},
   "outputs": [
    {
     "data": {
      "text/plain": [
       "[array([15, 16, 17]), array([12, 49, 52]), array([12, 14, 36])]"
      ]
     },
     "execution_count": 85,
     "metadata": {},
     "output_type": "execute_result"
    }
   ],
   "source": [
    "np.split(array,3) # séparer le tableau array en 3 tableaux"
   ]
  },
  {
   "cell_type": "markdown",
   "metadata": {},
   "source": [
    "On peut découper notre tableau avec des points de cassure délimités par les index. "
   ]
  },
  {
   "cell_type": "code",
   "execution_count": 86,
   "metadata": {},
   "outputs": [
    {
     "data": {
      "text/plain": [
       "[array([15, 16]), array([17, 12, 49, 52]), array([12, 14, 36])]"
      ]
     },
     "execution_count": 86,
     "metadata": {},
     "output_type": "execute_result"
    }
   ],
   "source": [
    "np.split(array,[2,6]) # on veut couper notre tableau en 3 tableaux , les chiffres entre [] sont les points de cassures. \n",
    "                      # correspond aux index où on coupe. "
   ]
  },
  {
   "cell_type": "code",
   "execution_count": 87,
   "metadata": {},
   "outputs": [],
   "source": [
    "array1,array2,array3=np.split(array,[2,6]) # on peut multi-assigner notre cassure"
   ]
  },
  {
   "cell_type": "code",
   "execution_count": 88,
   "metadata": {},
   "outputs": [
    {
     "name": "stdout",
     "output_type": "stream",
     "text": [
      "[15 16] [17 12 49 52] [12 14 36]\n"
     ]
    }
   ],
   "source": [
    "print(array1,array2,array3)"
   ]
  },
  {
   "cell_type": "code",
   "execution_count": 89,
   "metadata": {},
   "outputs": [],
   "source": [
    "array1,array2,array3,array4=np.split(array,[2,4,6]) # selon le nombre de points de cassure, on a le nombre de tableaux. "
   ]
  },
  {
   "cell_type": "code",
   "execution_count": 90,
   "metadata": {},
   "outputs": [
    {
     "name": "stdout",
     "output_type": "stream",
     "text": [
      "[15 16] [17 12] [49 52] [12 14 36]\n"
     ]
    }
   ],
   "source": [
    "print(array1,array2,array3,array4)"
   ]
  },
  {
   "cell_type": "markdown",
   "metadata": {},
   "source": [
    "Pour casser des tableaux à 2 dimensions. on utilise hsplit ou vsplit. "
   ]
  },
  {
   "cell_type": "code",
   "execution_count": 91,
   "metadata": {},
   "outputs": [],
   "source": [
    "array2=np.array([[1,2,3],[4,5,6],[7,8,9]])"
   ]
  },
  {
   "cell_type": "code",
   "execution_count": 92,
   "metadata": {
    "scrolled": true
   },
   "outputs": [
    {
     "name": "stdout",
     "output_type": "stream",
     "text": [
      "[[1 2 3]\n",
      " [4 5 6]] [[7 8 9]]\n"
     ]
    }
   ],
   "source": [
    "array1,array1bis=np.vsplit(array2, [2]) # on coupe à la verticale au point de cassure de niveau 2 \n",
    "print(array1,array1bis)"
   ]
  },
  {
   "cell_type": "code",
   "execution_count": 93,
   "metadata": {},
   "outputs": [
    {
     "data": {
      "text/plain": [
       "array([[1, 2, 3],\n",
       "       [4, 5, 6],\n",
       "       [7, 8, 9]])"
      ]
     },
     "execution_count": 93,
     "metadata": {},
     "output_type": "execute_result"
    }
   ],
   "source": [
    "array2"
   ]
  },
  {
   "cell_type": "code",
   "execution_count": 94,
   "metadata": {},
   "outputs": [
    {
     "name": "stdout",
     "output_type": "stream",
     "text": [
      "[[1 2]\n",
      " [4 5]\n",
      " [7 8]] [[3]\n",
      " [6]\n",
      " [9]]\n"
     ]
    }
   ],
   "source": [
    "array1,array1bis=np.hsplit(array2,[2]) # on coupe à l'horizontal au point de cassure de niveau 2 \n",
    "print(array1,array1bis)"
   ]
  },
  {
   "cell_type": "markdown",
   "metadata": {},
   "source": [
    " e)- Pour supprimer des rangées et colonnes des tableaux Numpy: <b>delete()</b> "
   ]
  },
  {
   "cell_type": "code",
   "execution_count": 95,
   "metadata": {},
   "outputs": [
    {
     "data": {
      "text/plain": [
       "array([[1, 2, 3],\n",
       "       [4, 5, 6],\n",
       "       [7, 8, 9]])"
      ]
     },
     "execution_count": 95,
     "metadata": {},
     "output_type": "execute_result"
    }
   ],
   "source": [
    "array=np.array([[1,2,3],[4,5,6],[7,8,9]])\n",
    "array"
   ]
  },
  {
   "cell_type": "code",
   "execution_count": 96,
   "metadata": {},
   "outputs": [
    {
     "data": {
      "text/plain": [
       "array([[1, 2, 3],\n",
       "       [4, 5, 6]])"
      ]
     },
     "execution_count": 96,
     "metadata": {},
     "output_type": "execute_result"
    }
   ],
   "source": [
    "np.delete(array,2,axis=0) # supprime la ligne d'index 2"
   ]
  },
  {
   "cell_type": "code",
   "execution_count": 97,
   "metadata": {},
   "outputs": [
    {
     "data": {
      "text/plain": [
       "array([[1, 2],\n",
       "       [4, 5],\n",
       "       [7, 8]])"
      ]
     },
     "execution_count": 97,
     "metadata": {},
     "output_type": "execute_result"
    }
   ],
   "source": [
    "np.delete(array2,2,axis=1) # supprime la colonne d'index 2"
   ]
  },
  {
   "cell_type": "markdown",
   "metadata": {},
   "source": [
    "f)- Pour calculer la transposer d'un tableau Numpy: <b>transpose()</b> "
   ]
  },
  {
   "cell_type": "code",
   "execution_count": 98,
   "metadata": {},
   "outputs": [
    {
     "data": {
      "text/plain": [
       "array([[1, 4, 7],\n",
       "       [2, 5, 8],\n",
       "       [3, 6, 9]])"
      ]
     },
     "execution_count": 98,
     "metadata": {},
     "output_type": "execute_result"
    }
   ],
   "source": [
    "np.transpose(array)"
   ]
  },
  {
   "cell_type": "markdown",
   "metadata": {},
   "source": [
    "g)- Pour obtenir les valeurs de la diagonale d'un tableau Numpy: <b>diagonal()</b> "
   ]
  },
  {
   "cell_type": "code",
   "execution_count": 99,
   "metadata": {},
   "outputs": [
    {
     "data": {
      "text/plain": [
       "array([1, 5, 9])"
      ]
     },
     "execution_count": 99,
     "metadata": {},
     "output_type": "execute_result"
    }
   ],
   "source": [
    "array.diagonal() # obtenir les éléments de la diagonale de array"
   ]
  },
  {
   "cell_type": "markdown",
   "metadata": {},
   "source": [
    "\n",
    "<h2> 7.5- Comparaisons et masques sur un tableau Numpy:    </h2>\n"
   ]
  },
  {
   "cell_type": "markdown",
   "metadata": {},
   "source": [
    "Avec les tableaux Numpy, il est possible d'utiliser une matrice booléenne pour filtrer et comparer des tableaux Numpy."
   ]
  },
  {
   "cell_type": "code",
   "execution_count": 100,
   "metadata": {},
   "outputs": [
    {
     "data": {
      "text/plain": [
       "array([[75, 94, 60, 30, 13, 61],\n",
       "       [82, 96, 64, 97, 29, 99],\n",
       "       [76, 19, 73, 74, 11,  5],\n",
       "       [83, 38, 77, 58, 63, 84],\n",
       "       [79, 94, 10,  5,  6, 75],\n",
       "       [40, 53, 22, 67, 44, 56]])"
      ]
     },
     "execution_count": 100,
     "metadata": {},
     "output_type": "execute_result"
    }
   ],
   "source": [
    "tableau = np.random.randint(100,size=(6,6))  # création d'un tableau 4*3 random avec valeurs comprises entre 0 et 100 \n",
    "tableau"
   ]
  },
  {
   "cell_type": "code",
   "execution_count": 101,
   "metadata": {},
   "outputs": [
    {
     "data": {
      "text/plain": [
       "array([[ True,  True,  True, False, False,  True],\n",
       "       [ True,  True,  True,  True, False,  True],\n",
       "       [ True, False,  True,  True, False, False],\n",
       "       [ True, False,  True,  True,  True,  True],\n",
       "       [ True,  True, False, False, False,  True],\n",
       "       [False,  True, False,  True, False,  True]])"
      ]
     },
     "execution_count": 101,
     "metadata": {},
     "output_type": "execute_result"
    }
   ],
   "source": [
    "masque = tableau>50# on génère ici un tableau de la même dimension que notre tableau d'origine mais avec des booléens, comme un masque\n",
    "masque"
   ]
  },
  {
   "cell_type": "markdown",
   "metadata": {},
   "source": [
    "Étant tout deux de même dimension, nous pouvons utiliser cette matrice booléenne à notre avantage. Autrement dit, nous pouvons faire du masquage booléen. Avec cette matrice booléenne comme masque, nous pouvons l’utiliser pour sélectionner le sous-ensemble particulier de données qui nous intéresse."
   ]
  },
  {
   "cell_type": "code",
   "execution_count": 102,
   "metadata": {},
   "outputs": [
    {
     "data": {
      "text/plain": [
       "array([75, 94, 60, 61, 82, 96, 64, 97, 99, 76, 73, 74, 83, 77, 58, 63, 84,\n",
       "       79, 94, 75, 53, 67, 56])"
      ]
     },
     "execution_count": 102,
     "metadata": {},
     "output_type": "execute_result"
    }
   ],
   "source": [
    "tableau[masque] \n",
    "#tableau[tableau>50]  # synthaxe équivalente"
   ]
  },
  {
   "cell_type": "markdown",
   "metadata": {},
   "source": [
    " Nous disposons de nombreux autres opérateurs de comparaison pour comparer deux tableaux tels que == (égalité), != (Non-égalité), <= (inférieur ou égal à). Nous pouvons même combiner deux déclarations booléennes & (pour les conditions “ET”) ou | (pour les conditions “OU”)."
   ]
  },
  {
   "cell_type": "code",
   "execution_count": 103,
   "metadata": {},
   "outputs": [
    {
     "data": {
      "text/plain": [
       "array([75, 94, 60, 30, 13, 61, 82, 96, 64, 97, 29, 99, 76, 19, 73, 74, 11,\n",
       "        5, 83, 38, 77, 58, 63, 84, 79, 94, 10,  5,  6, 75, 40, 53, 22, 67,\n",
       "       56])"
      ]
     },
     "execution_count": 103,
     "metadata": {},
     "output_type": "execute_result"
    }
   ],
   "source": [
    "#tableau[tableau>=50]                 # on souhaite garder uniquement les valeurs supérieures ou égales à  50.\n",
    "#tableau[tableau<50]                      # on souhaite garder uniquement les valeurs strictement inférieures à 50.\n",
    "#tableau[tableau!=50]                     # on souhaite garder uniquement les valeurs différentes de 50.\n",
    "#tableau[tableau==50]                     # on souhaite garder uniquement les valeurs égales 50. \n",
    "#tableau[(tableau >=50) & (tableau <=70)]   # on souhaite garder uniquement les valeurs comprises entre 50 et 70 inclusivement.\n",
    "tableau[(tableau>=50) | (tableau<=40)]     # on souhaite garder uniquement les valeurs non comprises entre 40 et 50. "
   ]
  }
 ],
 "metadata": {
  "kernelspec": {
   "display_name": "Python 3",
   "language": "python",
   "name": "python3"
  },
  "language_info": {
   "codemirror_mode": {
    "name": "ipython",
    "version": 3
   },
   "file_extension": ".py",
   "mimetype": "text/x-python",
   "name": "python",
   "nbconvert_exporter": "python",
   "pygments_lexer": "ipython3",
   "version": "3.7.3"
  }
 },
 "nbformat": 4,
 "nbformat_minor": 2
}
