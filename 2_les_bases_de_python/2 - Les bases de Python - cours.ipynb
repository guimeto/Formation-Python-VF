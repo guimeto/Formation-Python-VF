{
 "cells": [
  {
   "cell_type": "markdown",
   "metadata": {},
   "source": [
    "<img src=\"./figures/pylogo.png\" alt=\"Indentation\" width=\"50%\" height=\"50%\">\n",
    "\n",
    "<h1> Les Bases du langage Python:</h1> \n",
    "\n",
    "\n",
    "<h2>Objectifs</h2>\n",
    "\n",
    "\n",
    "- Comprendre ce qu'est une variable\n",
    "- Les règles de nommage d'une variable\n",
    "- Les premiers types de variables\n",
    "- Réaliser des opération entre des variables\n",
    "- Vérifier et modifier le type d’une variable\n",
    "- Maîtrise de jupyter notebook 2 : execution du code à travers les cellules\n",
    "\n",
    "\n",
    "\n",
    "<h2> 2- Les variables </h2> \n",
    "\n",
    "Une variable est un identificateur ou un nom pour stocker des informations ou des résultats.\n",
    "\n",
    "Tous les programmes Python font appel à des variables. Il est important de garder en mémoire que chaque type d'information est enregistré dans un type spécial de variable.\n",
    "\n",
    "Un type de variable est une information sur le contenu de la variable. Le type de variable va signifier à l'interpreteur python ce qu'il peut faire ou ne pas faire avec cette variable.\n",
    "\n",
    "Quelques remarques:\n",
    "\n",
    "- Python est sensible à la Casse: il distingue les Majuscules et les minuscules  \n",
    "- On ne peut pas commencer une variable par un chiffre \n",
    "- Ne pas utiliser d'accents dans les noms de variables.\n",
    "- fonction type(): permet de connaitre le type de notre variable.\n",
    "- Pas d’espace (underscore)\n",
    "- Mots interdits (se mets en vert) : https://www.programiz.com/python-programming/keywords-identifier\n",
    "- Soyez brefs mais clairs (allez l’écrire souvent, un code peut faire des 100aines de ligne)"
   ]
  },
  {
   "cell_type": "markdown",
   "metadata": {},
   "source": [
    "<h2> Concept de variable et déclaration d’une variable dans Jupyter </h2>\n",
    "\n",
    "- Se retrouve dans pratiquement tous les langages\n",
    "- Données que vous stockez dans votre programme enregistré sous un nom. On pourra ensuite l’utiliser, faire des calculs et la modifier."
   ]
  },
  {
   "cell_type": "code",
   "execution_count": 2,
   "metadata": {},
   "outputs": [
    {
     "name": "stdout",
     "output_type": "stream",
     "text": [
      "data scientist\n"
     ]
    }
   ],
   "source": [
    "job = 'data scientist' # on stocke une valeur dans une variable \n",
    "print(job)"
   ]
  },
  {
   "cell_type": "markdown",
   "metadata": {},
   "source": [
    "Une variable déclarée est accessible depuis d’autres cellules."
   ]
  },
  {
   "cell_type": "code",
   "execution_count": 3,
   "metadata": {},
   "outputs": [
    {
     "name": "stdout",
     "output_type": "stream",
     "text": [
      "data scientist\n"
     ]
    }
   ],
   "source": [
    "print(job)"
   ]
  },
  {
   "cell_type": "markdown",
   "metadata": {},
   "source": [
    "<h2> 2.1- Les type des variables (concept) </h2>\n",
    "\n",
    "- Très important (fondamental comme dans tout type de langage)\n",
    "- La manière dont python va comprendre la nature de l’information stockée et permettre certaines actions (ou en bloquer d'autres)\n"
   ]
  },
  {
   "cell_type": "markdown",
   "metadata": {},
   "source": [
    "<h3> 2.1.1- Les types numériques:</h3> \n",
    "\n",
    "<table border=\"1\" class=\"docutils\">\n",
    "<colgroup>\n",
    "<col width=\"27%\">\n",
    "<col width=\"57%\">\n",
    "</colgroup>\n",
    "<tbody valign=\"top\">\n",
    "\n",
    "<tr><td><tt class=\"docutils literal\"><span class=\"pre\">Les entiers: int()</span></tt></td>\n",
    "<td>1 est un nombre entier, 1.0 n'en est pas un</td>\n",
    "</tr>\n",
    "<tr><td><tt class=\"docutils literal\"><span class=\"pre\">Les décimaux: float()</span></tt></td>\n",
    "<td>nombre qui comprend une partie décimale </td>\n",
    "</tr>\n",
    "<tr><td><tt class=\"docutils literal\"><span class=\"pre\">Les nombres complexes</span></tt></td>\n",
    "<td>association entre un nombre réel et un nombre imaginaire</td>\n",
    "</tr>\n",
    "\n",
    "</tbody>\n",
    "</table>"
   ]
  },
  {
   "cell_type": "code",
   "execution_count": 29,
   "metadata": {},
   "outputs": [
    {
     "data": {
      "text/plain": [
       "float"
      ]
     },
     "execution_count": 29,
     "metadata": {},
     "output_type": "execute_result"
    }
   ],
   "source": [
    "m=3.2\n",
    "type(m)"
   ]
  },
  {
   "cell_type": "code",
   "execution_count": 30,
   "metadata": {},
   "outputs": [
    {
     "data": {
      "text/plain": [
       "int"
      ]
     },
     "execution_count": 30,
     "metadata": {},
     "output_type": "execute_result"
    }
   ],
   "source": [
    "m=3\n",
    "type(m)"
   ]
  },
  {
   "cell_type": "markdown",
   "metadata": {},
   "source": [
    "<h3> 2.1.2- Les types booléens:</h3> \n",
    "\n",
    "- variable contenant des valeurs binaires: True ou False\n",
    "- des types de données  résultent d'opérations logiques\n",
    "\n",
    "Très utile dans les confitions if()."
   ]
  },
  {
   "cell_type": "code",
   "execution_count": 31,
   "metadata": {},
   "outputs": [
    {
     "data": {
      "text/plain": [
       "False"
      ]
     },
     "execution_count": 31,
     "metadata": {},
     "output_type": "execute_result"
    }
   ],
   "source": [
    "3>5"
   ]
  },
  {
   "cell_type": "code",
   "execution_count": 32,
   "metadata": {},
   "outputs": [
    {
     "data": {
      "text/plain": [
       "True"
      ]
     },
     "execution_count": 32,
     "metadata": {},
     "output_type": "execute_result"
    }
   ],
   "source": [
    "3<5"
   ]
  },
  {
   "cell_type": "markdown",
   "metadata": {},
   "source": [
    "<h3> 2.1.3- Les chaînes de caractère:</h3> \n",
    "\n",
    "Suite finie de caractères qu'on peut considérer comme du texte qu'on définit entre deux ('...') ou (\"...\"). "
   ]
  },
  {
   "cell_type": "markdown",
   "metadata": {},
   "source": [
    "\n",
    "- Gestion des apostrohpes"
   ]
  },
  {
   "cell_type": "code",
   "execution_count": 33,
   "metadata": {},
   "outputs": [
    {
     "data": {
      "text/plain": [
       "'data science'"
      ]
     },
     "execution_count": 33,
     "metadata": {},
     "output_type": "execute_result"
    }
   ],
   "source": [
    "job = 'data science'\n",
    "job"
   ]
  },
  {
   "cell_type": "code",
   "execution_count": 34,
   "metadata": {},
   "outputs": [
    {
     "ename": "SyntaxError",
     "evalue": "invalid syntax (<ipython-input-34-24a0388f6afa>, line 1)",
     "output_type": "error",
     "traceback": [
      "\u001b[1;36m  File \u001b[1;32m\"<ipython-input-34-24a0388f6afa>\"\u001b[1;36m, line \u001b[1;32m1\u001b[0m\n\u001b[1;33m    darkVador = 'Luke, I'm your father'\u001b[0m\n\u001b[1;37m                         ^\u001b[0m\n\u001b[1;31mSyntaxError\u001b[0m\u001b[1;31m:\u001b[0m invalid syntax\n"
     ]
    }
   ],
   "source": [
    "darkVador = 'Luke, I'm your father'\n",
    "print(darkVador)"
   ]
  },
  {
   "cell_type": "code",
   "execution_count": 35,
   "metadata": {},
   "outputs": [
    {
     "name": "stdout",
     "output_type": "stream",
     "text": [
      "Luke, I'm your father\n",
      "Luke, I'm your father\n"
     ]
    }
   ],
   "source": [
    "darkVador = \"Luke, I'm your father\"\n",
    "print(darkVador)\n",
    "# ou \n",
    "\n",
    "darkVador = 'Luke, I\\'m your father'\n",
    "print(darkVador)"
   ]
  },
  {
   "cell_type": "markdown",
   "metadata": {},
   "source": [
    "- Si texte trop long (marche aussi pour du code classique)"
   ]
  },
  {
   "cell_type": "code",
   "execution_count": 36,
   "metadata": {},
   "outputs": [
    {
     "name": "stdout",
     "output_type": "stream",
     "text": [
      "no…That's impossible….Noooooooooooooooooooooooooooooooooooooo\n"
     ]
    }
   ],
   "source": [
    "luke = 'no…That\\'s impossible….Noooooooooooooooooooooooooo\\\n",
    "oooooooooooo'\n",
    "print(luke)"
   ]
  },
  {
   "cell_type": "markdown",
   "metadata": {},
   "source": [
    "- Possible de concatener 2 variables"
   ]
  },
  {
   "cell_type": "code",
   "execution_count": 37,
   "metadata": {},
   "outputs": [
    {
     "name": "stdout",
     "output_type": "stream",
     "text": [
      "luke, I'myour father\n"
     ]
    }
   ],
   "source": [
    "start = 'luke, I\\'m'\n",
    "end = 'your father'\n",
    "darkVador = start+end\n",
    "print(darkVador)"
   ]
  },
  {
   "cell_type": "code",
   "execution_count": 38,
   "metadata": {},
   "outputs": [
    {
     "name": "stdout",
     "output_type": "stream",
     "text": [
      "luke, I'm your father\n"
     ]
    }
   ],
   "source": [
    "darkVador = start+' '+end\n",
    "print(darkVador)"
   ]
  },
  {
   "cell_type": "markdown",
   "metadata": {},
   "source": [
    "- Possible de répèter une chaine de caractère"
   ]
  },
  {
   "cell_type": "code",
   "execution_count": 39,
   "metadata": {},
   "outputs": [
    {
     "name": "stdout",
     "output_type": "stream",
     "text": [
      "Noooooooooo\n"
     ]
    }
   ],
   "source": [
    "luke = 'N'+('o'*10)\n",
    "print(luke)"
   ]
  },
  {
   "cell_type": "markdown",
   "metadata": {},
   "source": [
    "<h3> 2.1.4- Vérifier et modifier le type d’une variable:</h3> \n",
    "\n",
    "- exemple (règle : on ne mix pas chiffres et strings dans une concaténation)"
   ]
  },
  {
   "cell_type": "code",
   "execution_count": 40,
   "metadata": {},
   "outputs": [],
   "source": [
    "finalMotivationScore = 90"
   ]
  },
  {
   "cell_type": "code",
   "execution_count": 41,
   "metadata": {},
   "outputs": [
    {
     "ename": "TypeError",
     "evalue": "can only concatenate str (not \"int\") to str",
     "output_type": "error",
     "traceback": [
      "\u001b[1;31m---------------------------------------------------------------------------\u001b[0m",
      "\u001b[1;31mTypeError\u001b[0m                                 Traceback (most recent call last)",
      "\u001b[1;32m<ipython-input-41-77bbac5d7b73>\u001b[0m in \u001b[0;36m<module>\u001b[1;34m\u001b[0m\n\u001b[1;32m----> 1\u001b[1;33m \u001b[0mtest\u001b[0m \u001b[1;33m=\u001b[0m \u001b[0mjob\u001b[0m \u001b[1;33m+\u001b[0m \u001b[1;34m'learning motivation ?'\u001b[0m \u001b[1;33m+\u001b[0m \u001b[0mfinalMotivationScore\u001b[0m \u001b[1;33m+\u001b[0m \u001b[1;34m'% !'\u001b[0m\u001b[1;33m\u001b[0m\u001b[1;33m\u001b[0m\u001b[0m\n\u001b[0m",
      "\u001b[1;31mTypeError\u001b[0m: can only concatenate str (not \"int\") to str"
     ]
    }
   ],
   "source": [
    "test = job + 'learning motivation ?' + finalMotivationScore + '% !'"
   ]
  },
  {
   "cell_type": "markdown",
   "metadata": {},
   "source": [
    "- Verifier le type d’une variable"
   ]
  },
  {
   "cell_type": "code",
   "execution_count": 42,
   "metadata": {},
   "outputs": [
    {
     "name": "stdout",
     "output_type": "stream",
     "text": [
      "<class 'int'>\n",
      "<class 'str'>\n",
      "<class 'int'>\n"
     ]
    }
   ],
   "source": [
    "print(type(finalMotivationScore))\n",
    "print(type('test'))\n",
    "print(type(1))"
   ]
  },
  {
   "cell_type": "markdown",
   "metadata": {},
   "source": [
    "- modifier le type d'une variable"
   ]
  },
  {
   "cell_type": "code",
   "execution_count": 43,
   "metadata": {},
   "outputs": [
    {
     "data": {
      "text/plain": [
       "'1'"
      ]
     },
     "execution_count": 43,
     "metadata": {},
     "output_type": "execute_result"
    }
   ],
   "source": [
    "float(1)\n",
    "int(1.3)\n",
    "str(1)"
   ]
  },
  {
   "cell_type": "code",
   "execution_count": 44,
   "metadata": {},
   "outputs": [
    {
     "name": "stdout",
     "output_type": "stream",
     "text": [
      "data science learning motivation ? 90% !\n"
     ]
    }
   ],
   "source": [
    "test = job + ' learning motivation ? ' + str(finalMotivationScore) + '% !'\n",
    "print(test)"
   ]
  },
  {
   "cell_type": "markdown",
   "metadata": {},
   "source": [
    "<h2> 2.2- Les opérateurs arithmétiques  </h2>\n",
    "\n",
    "<table border=\"1\" class=\"docutils\">\n",
    "<colgroup>\n",
    "<col width=\"27%\">\n",
    "<col width=\"57%\">\n",
    "</colgroup>\n",
    "<thead valign=\"bottom\">\n",
    "<tr><th class=\"head\">Opérateurs</th>\n",
    "<th class=\"head\">Signification</th>\n",
    "</tr>\n",
    "</thead>\n",
    "<tbody valign=\"top\">\n",
    "\n",
    "<tr><td><tt class=\"docutils literal\"><span class=\"pre\">+</span></tt></td>\n",
    "<td>Ajoute deux valeurs</td>\n",
    "</tr>\n",
    "<tr><td><tt class=\"docutils literal\"><span class=\"pre\">-</span></tt></td>\n",
    "<td>Soustrait l'opérande droit de l'opérande gauche</td>\n",
    "</tr>\n",
    "<tr><td><tt class=\"docutils literal\"><span class=\"pre\">&#42;</span></tt></td>\n",
    "<td>Multiplie deux valeurs</td>\n",
    "</tr>\n",
    "<tr><td><tt class=\"docutils literal\"><span class=\"pre\">/</span></tt></td>\n",
    "<td>Divise l'opérande gauche par l'opérande droit </td>\n",
    "</tr>\n",
    "<tr><td><tt class=\"docutils literal\"><span class=\"pre\">%</span></tt></td>\n",
    "<td>Divise l'opérande gauche par l'opérande droit et retourne le reste (opérateur modulo)</td>\n",
    "</tr>\n",
    "<tr><td><tt class=\"docutils literal\"><span class=\"pre\">&#42;&#42;</span></tt></td>\n",
    "<td>Calcule de la valeur exponentielle de l'opératde gauche par l'opérande droit</td>\n",
    "</tr>\n",
    "<tr><td><tt class=\"docutils literal\"><span class=\"pre\">//</span></tt></td>\n",
    "<td>Divise l'opérande gauche par l'opérande droit et retourne la partie entière</td>\n",
    "</tr>\n",
    "</tbody>\n",
    "</table>"
   ]
  },
  {
   "cell_type": "code",
   "execution_count": 45,
   "metadata": {},
   "outputs": [
    {
     "data": {
      "text/plain": [
       "2"
      ]
     },
     "execution_count": 45,
     "metadata": {},
     "output_type": "execute_result"
    }
   ],
   "source": [
    "5-3 # soustraction "
   ]
  },
  {
   "cell_type": "code",
   "execution_count": 46,
   "metadata": {},
   "outputs": [
    {
     "data": {
      "text/plain": [
       "8"
      ]
     },
     "execution_count": 46,
     "metadata": {},
     "output_type": "execute_result"
    }
   ],
   "source": [
    "5+3 # addition "
   ]
  },
  {
   "cell_type": "code",
   "execution_count": 47,
   "metadata": {},
   "outputs": [
    {
     "data": {
      "text/plain": [
       "15"
      ]
     },
     "execution_count": 47,
     "metadata": {},
     "output_type": "execute_result"
    }
   ],
   "source": [
    "5*3 # multiplication"
   ]
  },
  {
   "cell_type": "code",
   "execution_count": 48,
   "metadata": {},
   "outputs": [
    {
     "data": {
      "text/plain": [
       "1.6666666666666667"
      ]
     },
     "execution_count": 48,
     "metadata": {},
     "output_type": "execute_result"
    }
   ],
   "source": [
    "5/3 # division  "
   ]
  },
  {
   "cell_type": "code",
   "execution_count": 49,
   "metadata": {},
   "outputs": [
    {
     "data": {
      "text/plain": [
       "1"
      ]
     },
     "execution_count": 49,
     "metadata": {},
     "output_type": "execute_result"
    }
   ],
   "source": [
    "5//3 # le chiffre entier de ma division "
   ]
  },
  {
   "cell_type": "code",
   "execution_count": 50,
   "metadata": {},
   "outputs": [
    {
     "data": {
      "text/plain": [
       "2"
      ]
     },
     "execution_count": 50,
     "metadata": {},
     "output_type": "execute_result"
    }
   ],
   "source": [
    "5%3 # récupérer le reste de ma division ou modulo  "
   ]
  },
  {
   "cell_type": "code",
   "execution_count": 51,
   "metadata": {},
   "outputs": [
    {
     "data": {
      "text/plain": [
       "125"
      ]
     },
     "execution_count": 51,
     "metadata": {},
     "output_type": "execute_result"
    }
   ],
   "source": [
    "5**3 # exponentielle ou puissance"
   ]
  },
  {
   "cell_type": "markdown",
   "metadata": {},
   "source": [
    "<h2> 2.3- Les opérateurs relationnels  </h2>\n",
    "\n",
    "Les opérateurs relationnels comparent une valeur avec une autre et vous disent si la relation fournie est vraie. \n",
    "\n",
    "La valeur vraie des relations est souvent utilisée pour prendre des décisions en s'assurant que des conditions sont réunies pour effectuer une certaine tâche. \n",
    "\n",
    "<table border=\"1\" class=\"docutils\">\n",
    "<colgroup>\n",
    "<col width=\"27%\">\n",
    "<col width=\"57%\">\n",
    "</colgroup>\n",
    "<thead valign=\"bottom\">\n",
    "<tr><th class=\"head\">Opérateurs</th>\n",
    "<th class=\"head\">Signification</th>\n",
    "</tr>\n",
    "</thead>\n",
    "<tbody valign=\"top\">\n",
    "\n",
    "<tr><td><tt class=\"docutils literal\"><span class=\"pre\">==</span></tt></td>\n",
    "<td>Détermine si deux valeurs sont égales</td>\n",
    "</tr>\n",
    "<tr><td><tt class=\"docutils literal\"><span class=\"pre\">!=</span></tt></td>\n",
    "<td>Détermine si deux valeurs sont différentes</td>\n",
    "</tr>\n",
    "<tr><td><tt class=\"docutils literal\"><span class=\"pre\">&gt;</span></tt></td>\n",
    "<td>Vérifie que l'opérande gauche est plus grand que l'opérande droit</td>\n",
    "</tr>\n",
    "<tr><td><tt class=\"docutils literal\"><span class=\"pre\">&lt;</span></tt></td>\n",
    "<td>Vérifie que l'opérande gauche est plus petit que l'opérande droit</td>\n",
    "</tr>\n",
    "<tr><td><tt class=\"docutils literal\"><span class=\"pre\">&gt;=</span></tt></td>\n",
    "<td>Vérifie que l'opérande gauche est supérieur ou égal à l'opérande droit</td>\n",
    "</tr>\n",
    "<tr><td><tt class=\"docutils literal\"><span class=\"pre\">&lt;=</span></tt></td>\n",
    "<td>Vérifie que l'opérande gauche est inférieur ou égal à l'opérande droit</td>\n",
    "</tr>\n",
    "\n",
    "<tr><td><tt class=\"docutils literal\"><span class=\"pre\">is</span></tt></td>\n",
    "<td>Indentité</td>\n",
    "</tr>\n",
    "<tr><td><tt class=\"docutils literal\"><span class=\"pre\">is</span> <span class=\"pre\">not</span></tt></td>\n",
    "<td>Négation</td>\n",
    "\n",
    "</tr>\n",
    "</tbody>\n",
    "</table>"
   ]
  },
  {
   "cell_type": "code",
   "execution_count": 52,
   "metadata": {},
   "outputs": [
    {
     "data": {
      "text/plain": [
       "True"
      ]
     },
     "execution_count": 52,
     "metadata": {},
     "output_type": "execute_result"
    }
   ],
   "source": [
    "# premier opérateur de comparaison : == \n",
    "1 == 1"
   ]
  },
  {
   "cell_type": "code",
   "execution_count": 53,
   "metadata": {},
   "outputs": [
    {
     "data": {
      "text/plain": [
       "False"
      ]
     },
     "execution_count": 53,
     "metadata": {},
     "output_type": "execute_result"
    }
   ],
   "source": [
    "1==2"
   ]
  },
  {
   "cell_type": "code",
   "execution_count": 54,
   "metadata": {},
   "outputs": [
    {
     "data": {
      "text/plain": [
       "True"
      ]
     },
     "execution_count": 54,
     "metadata": {},
     "output_type": "execute_result"
    }
   ],
   "source": [
    "# 2ème opérateur de comparaison : != \n",
    "1!=2"
   ]
  },
  {
   "cell_type": "code",
   "execution_count": 55,
   "metadata": {},
   "outputs": [
    {
     "data": {
      "text/plain": [
       "False"
      ]
     },
     "execution_count": 55,
     "metadata": {},
     "output_type": "execute_result"
    }
   ],
   "source": [
    "# 3ème opérateur de comparaison : > et < \n",
    "1>2"
   ]
  },
  {
   "cell_type": "code",
   "execution_count": 56,
   "metadata": {},
   "outputs": [
    {
     "data": {
      "text/plain": [
       "True"
      ]
     },
     "execution_count": 56,
     "metadata": {},
     "output_type": "execute_result"
    }
   ],
   "source": [
    "2>1"
   ]
  },
  {
   "cell_type": "code",
   "execution_count": 57,
   "metadata": {},
   "outputs": [
    {
     "data": {
      "text/plain": [
       "False"
      ]
     },
     "execution_count": 57,
     "metadata": {},
     "output_type": "execute_result"
    }
   ],
   "source": [
    "1>1"
   ]
  },
  {
   "cell_type": "code",
   "execution_count": 58,
   "metadata": {},
   "outputs": [
    {
     "data": {
      "text/plain": [
       "True"
      ]
     },
     "execution_count": 58,
     "metadata": {},
     "output_type": "execute_result"
    }
   ],
   "source": [
    "1<2"
   ]
  },
  {
   "cell_type": "code",
   "execution_count": 59,
   "metadata": {},
   "outputs": [
    {
     "data": {
      "text/plain": [
       "True"
      ]
     },
     "execution_count": 59,
     "metadata": {},
     "output_type": "execute_result"
    }
   ],
   "source": [
    "1>=1"
   ]
  },
  {
   "cell_type": "code",
   "execution_count": 60,
   "metadata": {},
   "outputs": [],
   "source": [
    "a=1 # Attention !!!! c'est un opérateur d'assignation de valeur à la variable "
   ]
  },
  {
   "cell_type": "markdown",
   "metadata": {},
   "source": [
    "<h2> 2.4- Les opérateurs logiques  </h2>\n",
    "Les opérateurs logiques comparent des expressions booléennes et non  plus des valeurs comme dans le point précédent.\n",
    "\n",
    "Ils servent à créer des expressions booléennes qui nous aident à savoir si une certaine tâche doit ou non être réalisée. \n",
    "\n",
    "<table border=\"1\" class=\"docutils\">\n",
    "<colgroup>\n",
    "<col width=\"27%\">\n",
    "<col width=\"57%\">\n",
    "</colgroup>\n",
    "<thead valign=\"bottom\">\n",
    "<tr><th class=\"head\">Opérateurs</th>\n",
    "<th class=\"head\">Signification</th>\n",
    "</tr>\n",
    "</thead>\n",
    "<tbody valign=\"top\">\n",
    "\n",
    "<tr><td><tt class=\"docutils literal\"><span class=\"pre\">and (et)</span></tt></td>\n",
    "<td>Détermine si les deux opérandes sont vrais</td>\n",
    "</tr>\n",
    "<tr><td><tt class=\"docutils literal\"><span class=\"pre\">or (ou)</span></tt></td>\n",
    "<td>Détermine si l'un des deux opérandes est vrai</td>\n",
    "</tr>\n",
    "<tr><td><tt class=\"docutils literal\"><span class=\"pre\">not(non)</span></tt></td>\n",
    "<td>Inverse la valeur logique de l'opérande</td>\n",
    "</tr>\n",
    "\n",
    "</tbody>\n",
    "</table>"
   ]
  },
  {
   "cell_type": "code",
   "execution_count": 61,
   "metadata": {},
   "outputs": [
    {
     "data": {
      "text/plain": [
       "True"
      ]
     },
     "execution_count": 61,
     "metadata": {},
     "output_type": "execute_result"
    }
   ],
   "source": [
    "# premier opérateur logique : and\n",
    "(3==3) and (4==4)"
   ]
  },
  {
   "cell_type": "code",
   "execution_count": 62,
   "metadata": {},
   "outputs": [
    {
     "data": {
      "text/plain": [
       "False"
      ]
     },
     "execution_count": 62,
     "metadata": {},
     "output_type": "execute_result"
    }
   ],
   "source": [
    "(3==3) and (4==5)"
   ]
  },
  {
   "cell_type": "code",
   "execution_count": 63,
   "metadata": {},
   "outputs": [
    {
     "data": {
      "text/plain": [
       "True"
      ]
     },
     "execution_count": 63,
     "metadata": {},
     "output_type": "execute_result"
    }
   ],
   "source": [
    "# deuxième opérateur logique : or\n",
    "(3==3) or (4==5)"
   ]
  },
  {
   "cell_type": "code",
   "execution_count": 64,
   "metadata": {},
   "outputs": [
    {
     "data": {
      "text/plain": [
       "False"
      ]
     },
     "execution_count": 64,
     "metadata": {},
     "output_type": "execute_result"
    }
   ],
   "source": [
    "(3!=3) or (4==5)"
   ]
  },
  {
   "cell_type": "code",
   "execution_count": 65,
   "metadata": {},
   "outputs": [
    {
     "data": {
      "text/plain": [
       "True"
      ]
     },
     "execution_count": 65,
     "metadata": {},
     "output_type": "execute_result"
    }
   ],
   "source": [
    "# 3ème opérateur logique : not\n",
    "not((3!=3) or (4==5))"
   ]
  },
  {
   "cell_type": "markdown",
   "metadata": {},
   "source": [
    "<h2> 2.5- Les opérateurs d'affectation   </h2>\n",
    "\n",
    "Les opérateurs d'affectation placent une valeur dans une variable. Nous aovns déjà vu le cas le plus simple (=), mais python offre bien d'autres opérateurs de ce type, afin nottamment de réaliser une opération aithmétique en même temps que l'affectation. \n",
    "<table border=\"1\" class=\"docutils\">\n",
    "<colgroup>\n",
    "<col width=\"27%\">\n",
    "<col width=\"57%\">\n",
    "</colgroup>\n",
    "<thead valign=\"bottom\">\n",
    "<tr><th class=\"head\">Opérateurs</th>\n",
    "<th class=\"head\">Signification</th>\n",
    "</tr>\n",
    "</thead>\n",
    "<tbody valign=\"top\">\n",
    "\n",
    "<tr><td><tt class=\"docutils literal\"><span class=\"pre\">=</span></tt></td>\n",
    "<td>Affecte la valeur de l'opérande droit à l'opérande de gauche </td>\n",
    "</tr>\n",
    "<tr><td><tt class=\"docutils literal\"><span class=\"pre\">+=</span></tt></td>\n",
    "<td>Ajoute la valeur de l'opérande droit à l'opérande de gauche et place le résultat dans l'opérande gauche</td>\n",
    "</tr>\n",
    "<tr><td><tt class=\"docutils literal\"><span class=\"pre\">-=</span></tt></td>\n",
    "<td>Soustrait la valeur de l'opérande droit de l'opérande gauche et place le résultat dans l'opérande gauche</td>\n",
    "</tr>\n",
    "<tr><td><tt class=\"docutils literal\"><span class=\"pre\">*=</span></tt></td>\n",
    "<td>Multiplie la valeur de l'opérande droit par celle de l'opérande gauche et place le résultat dans l'opérande de gauche</td>\n",
    "</tr>\n",
    "<tr><td><tt class=\"docutils literal\"><span class=\"pre\">/=</span></tt></td>\n",
    "<td>Divise la valeur de l'opérande gauche par celle de l'opérande droit et place le résultat dans l'opérande de gauche</td>\n",
    "</tr>\n",
    "<tr><td><tt class=\"docutils literal\"><span class=\"pre\">%=</span></tt></td>\n",
    "<td>Divise la valeur de l'opérande gauche par celle de l'opérande droit et place le reste dans l'opérande de gauche</td>\n",
    "</tr>\n",
    "\n",
    "<tr><td><tt class=\"docutils literal\"><span class=\"pre\">**=</span></tt></td>\n",
    "<td>Calcule la valeur exponentielle de l'opérande de gauche par celle de l'opérande droit et place le résultat dans l'opérande gauche</td>\n",
    "</tr>\n",
    "<tr><td><tt class=\"docutils literal\"><span class=\"pre\">//=</span></tt></td>\n",
    "<td>Divise la valeur de l'opérande gauche par celle de l'opérande droit et place le résultat entier dans l'opérande gauche</td>\n",
    "\n",
    "</tr>\n",
    "</tbody>\n",
    "</table>"
   ]
  },
  {
   "cell_type": "code",
   "execution_count": 66,
   "metadata": {},
   "outputs": [
    {
     "data": {
      "text/plain": [
       "2"
      ]
     },
     "execution_count": 66,
     "metadata": {},
     "output_type": "execute_result"
    }
   ],
   "source": [
    "Mavariable = 2\n",
    "Mavariable"
   ]
  },
  {
   "cell_type": "code",
   "execution_count": 67,
   "metadata": {},
   "outputs": [
    {
     "data": {
      "text/plain": [
       "7"
      ]
     },
     "execution_count": 67,
     "metadata": {},
     "output_type": "execute_result"
    }
   ],
   "source": [
    "Mavariable = 5 \n",
    "Mavariable += 2 \n",
    "Mavariable"
   ]
  },
  {
   "cell_type": "code",
   "execution_count": 68,
   "metadata": {},
   "outputs": [
    {
     "data": {
      "text/plain": [
       "3"
      ]
     },
     "execution_count": 68,
     "metadata": {},
     "output_type": "execute_result"
    }
   ],
   "source": [
    "Mavariable = 5 \n",
    "Mavariable -= 2 \n",
    "Mavariable"
   ]
  },
  {
   "cell_type": "code",
   "execution_count": 69,
   "metadata": {},
   "outputs": [
    {
     "data": {
      "text/plain": [
       "25"
      ]
     },
     "execution_count": 69,
     "metadata": {},
     "output_type": "execute_result"
    }
   ],
   "source": [
    "Mavariable = 5 \n",
    "Mavariable **= 2 \n",
    "Mavariable"
   ]
  },
  {
   "cell_type": "markdown",
   "metadata": {},
   "source": [
    "<h2> 2.6- Maitrise de jupyter notebook: execution du code à travers les cellules & commentaires</h2>"
   ]
  },
  {
   "cell_type": "markdown",
   "metadata": {},
   "source": [
    "- Modification de la variable au fil du script (la dernière valeur est conservé)"
   ]
  },
  {
   "cell_type": "code",
   "execution_count": 70,
   "metadata": {},
   "outputs": [
    {
     "name": "stdout",
     "output_type": "stream",
     "text": [
      "1.1\n",
      "<class 'float'>\n",
      "1\n",
      "<class 'int'>\n",
      "1\n",
      "<class 'str'>\n"
     ]
    }
   ],
   "source": [
    "number = 1.1\n",
    "print(number)\n",
    "print(type(number))\n",
    "\n",
    "number = 1\n",
    "print(number)\n",
    "print(type(number))\n",
    "\n",
    "number = '1'\n",
    "print(number)\n",
    "print(type(number))"
   ]
  },
  {
   "cell_type": "code",
   "execution_count": 71,
   "metadata": {},
   "outputs": [
    {
     "name": "stdout",
     "output_type": "stream",
     "text": [
      "1\n",
      "<class 'str'>\n"
     ]
    }
   ],
   "source": [
    "print(number)\n",
    "print(type(number))"
   ]
  },
  {
   "cell_type": "markdown",
   "metadata": {},
   "source": [
    "- Ordre d'execution des cellules important (erreur fréquente)"
   ]
  },
  {
   "cell_type": "code",
   "execution_count": 72,
   "metadata": {},
   "outputs": [
    {
     "name": "stdout",
     "output_type": "stream",
     "text": [
      "1\n"
     ]
    }
   ],
   "source": [
    "number = 1\n",
    "print(number)"
   ]
  },
  {
   "cell_type": "code",
   "execution_count": 73,
   "metadata": {},
   "outputs": [
    {
     "name": "stdout",
     "output_type": "stream",
     "text": [
      "2\n"
     ]
    }
   ],
   "source": [
    "number = 2\n",
    "print(number)"
   ]
  },
  {
   "cell_type": "code",
   "execution_count": 74,
   "metadata": {},
   "outputs": [
    {
     "name": "stdout",
     "output_type": "stream",
     "text": [
      "2\n"
     ]
    }
   ],
   "source": [
    "print(number)"
   ]
  },
  {
   "cell_type": "markdown",
   "metadata": {},
   "source": [
    "- Les commentaires"
   ]
  },
  {
   "cell_type": "code",
   "execution_count": 75,
   "metadata": {},
   "outputs": [
    {
     "name": "stdout",
     "output_type": "stream",
     "text": [
      "2\n",
      "voici un #commentaire\n"
     ]
    }
   ],
   "source": [
    "''' Premier \n",
    "commentaire '''\n",
    "print(number) #Deuxième commentaire\n",
    "print('voici un #commentaire')"
   ]
  },
  {
   "cell_type": "markdown",
   "metadata": {},
   "source": [
    "Exercices + corrections"
   ]
  },
  {
   "cell_type": "code",
   "execution_count": null,
   "metadata": {},
   "outputs": [],
   "source": []
  }
 ],
 "metadata": {
  "kernelspec": {
   "display_name": "Python 3",
   "language": "python",
   "name": "python3"
  },
  "language_info": {
   "codemirror_mode": {
    "name": "ipython",
    "version": 3
   },
   "file_extension": ".py",
   "mimetype": "text/x-python",
   "name": "python",
   "nbconvert_exporter": "python",
   "pygments_lexer": "ipython3",
   "version": "3.7.3"
  }
 },
 "nbformat": 4,
 "nbformat_minor": 2
}
