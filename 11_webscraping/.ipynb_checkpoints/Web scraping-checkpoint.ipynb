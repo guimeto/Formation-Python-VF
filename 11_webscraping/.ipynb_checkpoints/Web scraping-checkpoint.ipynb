{
 "cells": [
  {
   "cell_type": "markdown",
   "metadata": {},
   "source": [
    "\n",
    "<h1> 11- Web Scraping </h1>\n",
    "\n",
    "<img src=\"./figures/web_scrap.png\" alt=\"pandas\" width=\"80%\" height=\"80%\">\n",
    "\n",
    "---\n",
    "## Introduction\n",
    "\n",
    "<h1> Qu'est ce que le web scraping ? </h1>\n",
    "\n",
    "\n",
    "<img src=\"./figures/web_scrap2.png\" alt=\"pandas\" width=\"80%\" height=\"80%\">"
   ]
  },
  {
   "cell_type": "markdown",
   "metadata": {},
   "source": [
    "Le \"web scraping\" consiste à extraire de la donnée sur une language de balise html. \n",
    "Voici un emxemple de balise html:"
   ]
  },
  {
   "cell_type": "raw",
   "metadata": {},
   "source": [
    "\n",
    "<html>\n",
    "  <head>\n",
    "      <title> Un exemple de page HTML </title>\n",
    "  </head>\n",
    "\n",
    "  <body>\n",
    "      <p>Un simple paragraphe</p>\n",
    "  </body>\n",
    "</html>\n"
   ]
  },
  {
   "cell_type": "markdown",
   "metadata": {},
   "source": [
    "<h2> 11.0-  Récupérer le code html d'une page </h2> "
   ]
  },
  {
   "cell_type": "code",
   "execution_count": 3,
   "metadata": {},
   "outputs": [],
   "source": [
    "import requests"
   ]
  },
  {
   "cell_type": "code",
   "execution_count": 5,
   "metadata": {},
   "outputs": [
    {
     "data": {
      "text/plain": [
       "<Response [200]>"
      ]
     },
     "execution_count": 5,
     "metadata": {},
     "output_type": "execute_result"
    }
   ],
   "source": [
    "response = requests.get(\"https://raw.githubusercontent.com/codelikerod/web-scraping/master/exemple1.html\")\n",
    "response"
   ]
  },
  {
   "cell_type": "code",
   "execution_count": 6,
   "metadata": {},
   "outputs": [
    {
     "name": "stdout",
     "output_type": "stream",
     "text": [
      "b'<html>\\r\\n  <head>\\r\\n      <title> Un exemple de page HTML </title>\\r\\n  </head>\\r\\n\\r\\n  <body>\\r\\n      <p>Un simple paragraphe</p>\\r\\n  </body>\\r\\n</html>'\n"
     ]
    }
   ],
   "source": [
    "content = response.content\n",
    "print(content)"
   ]
  },
  {
   "cell_type": "code",
   "execution_count": 7,
   "metadata": {},
   "outputs": [
    {
     "data": {
      "text/plain": [
       "'<html>\\r\\n  <head>\\r\\n      <title> Un exemple de page HTML </title>\\r\\n  </head>\\r\\n\\r\\n  <body>\\r\\n      <p>Un simple paragraphe</p>\\r\\n  </body>\\r\\n</html>'"
      ]
     },
     "execution_count": 7,
     "metadata": {},
     "output_type": "execute_result"
    }
   ],
   "source": [
    "response.text"
   ]
  },
  {
   "cell_type": "markdown",
   "metadata": {},
   "source": [
    "<h2> 11.1-  Récupérer des éléments d'une page </h2> \n",
    "\n",
    "Une fois le code html télécharger, on va utiliser la librairie Python BeautifulSoup du package bs4 permettant d'analyser le contenu d'une page html. \n",
    "\n",
    "- <b>Beautiful Soup</b> est une bibliothèque Python pour extraire des données de fichiers HTML et XML. Il fonctionne avec votre analyseur favori pour fournir des moyens simplifiés de navigation, de recherche et de modification de l'arbre d'analyse. Il permet généralement aux programmeurs d'économiser des heures ou des jours de travail.\n"
   ]
  },
  {
   "cell_type": "code",
   "execution_count": 8,
   "metadata": {},
   "outputs": [],
   "source": [
    "from bs4 import BeautifulSoup"
   ]
  },
  {
   "cell_type": "code",
   "execution_count": 10,
   "metadata": {},
   "outputs": [],
   "source": [
    "response = requests.get(\"https://raw.githubusercontent.com/codelikerod/web-scraping/master/exemple1.html\")\n",
    "content = response.content\n",
    "\n",
    "# on va analyser le contenu précédent avec BeautifulSoup \n",
    "parser = BeautifulSoup(content,'html.parser')"
   ]
  },
  {
   "cell_type": "markdown",
   "metadata": {},
   "source": [
    "On veut le tag body du document: "
   ]
  },
  {
   "cell_type": "raw",
   "metadata": {},
   "source": [
    "<html>\n",
    "  <head>\n",
    "      <title> Un exemple de page HTML </title>\n",
    "  </head>\n",
    "\n",
    "  <body>\n",
    "  \n",
    "      <p>Un simple paragraphe</p>\n",
    "     \n",
    "  </body>\n",
    "  \n",
    "</html>"
   ]
  },
  {
   "cell_type": "code",
   "execution_count": 61,
   "metadata": {},
   "outputs": [
    {
     "data": {
      "text/plain": [
       "<p>Un simple paragraphe</p>"
      ]
     },
     "execution_count": 61,
     "metadata": {},
     "output_type": "execute_result"
    }
   ],
   "source": [
    "body = parser.body\n",
    "\n",
    "# on veut le tag p du body \n",
    "p = body.p\n",
    "p"
   ]
  },
  {
   "cell_type": "markdown",
   "metadata": {},
   "source": [
    "On veut afficher le text sans la balise <p>"
   ]
  },
  {
   "cell_type": "code",
   "execution_count": 62,
   "metadata": {},
   "outputs": [
    {
     "name": "stdout",
     "output_type": "stream",
     "text": [
      "Un simple paragraphe\n"
     ]
    }
   ],
   "source": [
    "print(p.text)"
   ]
  },
  {
   "cell_type": "markdown",
   "metadata": {},
   "source": [
    "- autre exemple concret: téléchargement d'un article du monde.fr"
   ]
  },
  {
   "cell_type": "code",
   "execution_count": 11,
   "metadata": {
    "collapsed": true
   },
   "outputs": [
    {
     "data": {
      "text/plain": [
       " <!DOCTYPE html>\n",
       " <html lang=\"fr\" prefix=\"og: http://ogp.me/ns#\"> <head> <meta charset=\"utf-8\"/> <meta content=\"IE=edge\" http-equiv=\"X-UA-Compatible\"/> <meta content=\"width=device-width, initial-scale=1, shrink-to-fit=no\" name=\"viewport\"/> <script async=\"1\" data-cmp=\"analytics\" data-cmp-src=\"//www.lemonde.fr/bucket/eae4b8f833b1dffd761375927090f9d6cda4d1e0/js/chartbeatConfig.bundle.js\"></script> <link href=\"/manifest.json\" rel=\"manifest\"/> <script>\n",
       "if(sessionStorage.fontsFirst&&sessionStorage.fontsLast&&'fonts'in document){document.documentElement.classList.add('fonts-loaded');}\n",
       "if(typeof Promise==='undefined'){document.documentElement.classList.add('fonts-loaded');}</script> <link as=\"style\" href=\"/bucket/eae4b8f833b1dffd761375927090f9d6cda4d1e0/css/icons.css\" onload=\"this.onload=null;this.rel='stylesheet'\" rel=\"preload\"/> <noscript><link href=\"/bucket/eae4b8f833b1dffd761375927090f9d6cda4d1e0/css/icons.css\" rel=\"stylesheet\"/></noscript> <link as=\"style\" href=\"/bucket/eae4b8f833b1dffd761375927090f9d6cda4d1e0/css/fonts_last.css\" onload=\"this.onload=null;this.rel='stylesheet'\" rel=\"preload\"/> <noscript><link href=\"/bucket/eae4b8f833b1dffd761375927090f9d6cda4d1e0/css/fonts_last.css\" rel=\"stylesheet\"/></noscript> <script>!function(t){\"use strict\";t.loadCSS||(t.loadCSS=function(){});var e=loadCSS.relpreload={};if(e.support=function(){var e;try{e=t.document.createElement(\"link\").relList.supports(\"preload\")}catch(t){e=!1}return function(){return e}}(),e.bindMediaToggle=function(t){function e(){t.media=a}var a=t.media||\"all\";t.addEventListener?t.addEventListener(\"load\",e):t.attachEvent&&t.attachEvent(\"onload\",e),setTimeout(function(){t.rel=\"stylesheet\",t.media=\"only x\"}),setTimeout(e,3e3)},e.poly=function(){if(!e.support())for(var a=t.document.getElementsByTagName(\"link\"),n=0;n<a.length;n++){var o=a[n];\"preload\"!==o.rel||\"style\"!==o.getAttribute(\"as\")||o.getAttribute(\"data-loadcss\")||(o.setAttribute(\"data-loadcss\",!0),e.bindMediaToggle(o))}},!e.support()){e.poly();var a=t.setInterval(e.poly,500);t.addEventListener?t.addEventListener(\"load\",function(){e.poly(),t.clearInterval(a)}):t.attachEvent&&t.attachEvent(\"onload\",function(){e.poly(),t.clearInterval(a)})}\"undefined\"!=typeof exports?exports.loadCSS=loadCSS:t.loadCSS=loadCSS}(\"undefined\"!=typeof global?global:this);</script> <meta content=\"index, follow, noarchive\" name=\"robots\"/> <meta content=\"max-video-preview:3\" name=\"robots\"/> <meta content=\"max-image-preview:standard\" name=\"robots\"/> <meta content=\"max-snippet:-1\" name=\"robots\"/> <title>Mondial de handball 2019 : déjà qualifiée, la France s’impose sur le fil face à la Russie</title> <meta content=\"Rassurée sur sa qualification pour le tour principal juste avant la rencontre, l’équipe de France a repris le dessus sur la Russie à la dernière minute pour l’emporter (23-22).\" name=\"description\"/> <meta content=\"Le Monde.fr\" property=\"og:site_name\"> <meta content=\"fr_FR\" property=\"og:locale\"> <meta content=\"Mondial de handball 2019 : déjà qualifiée, la France s’impose sur le fil face à la Russie\" property=\"og:title\"/> <meta content=\"Rassurée sur sa qualification pour le tour principal juste avant la rencontre, l’équipe de France a repris le dessus sur la Russie à la dernière minute pour l’emporter (23-22).\" property=\"og:description\"/> <meta content=\"https://www.lemonde.fr/sport/article/2019/01/17/mondial-de-handball-deja-qualifiee-la-france-s-impose-sur-le-fil-face-a-la-russie_5410713_3242.html\" property=\"og:url\"/> <meta content=\"article\" property=\"og:type\"> <meta content=\"https://img.lemde.fr/2019/01/17/0/0/3128/1562/1440/720/60/0/09c6c4a_5065785-01-06.jpg\" property=\"og:image\"/> <meta content=\"1440\" property=\"og:image:width\"> <meta content=\"720\" property=\"og:image:height\"> <meta content=\"image/jpeg\" property=\"og:image:type\"> <meta content=\"Sport\" property=\"og:article:section\"> <meta content=\"free\" property=\"og:article:content_tier\"> <meta content=\"Le Monde avec AFP\" property=\"og:article:author\"> <meta content=\"2019-01-17T21:22:06+00:00\" property=\"og:article:published_time\"> <meta content=\"summary_large_image\" name=\"twitter:card\"/> <meta content=\"@lemondefr\" name=\"twitter:site\"/> <meta content=\"https://www.lemonde.fr/sport/article/2019/01/17/mondial-de-handball-deja-qualifiee-la-france-s-impose-sur-le-fil-face-a-la-russie_5410713_3242.html\" property=\"twitter:url\"/> <meta content=\"Mondial de handball 2019 : déjà qualifiée, la France s’impose sur le fil face à la Russie\" property=\"twitter:title\"/> <meta content=\"Rassurée sur sa qualification pour le tour principal juste avant la rencontre, l’équipe de France a repris le dessus sur la Russie à la dernière minute pour l’emporter (23-22).\" property=\"twitter:description\"/> <meta content=\"https://img.lemde.fr/2019/01/17/0/0/3128/1562/1440/720/60/0/09c6c4a_5065785-01-06.jpg\" property=\"twitter:image\"/> <meta content=\"lmfr://element/article/5410713?x4=8&amp;xto=AL-8-[Autres]\" property=\"al:ios:url\"/> <meta content=\"lmfr://element/article/5410713?x4=8&amp;xto=AL-8-[Autres]\" property=\"al:android:url\"/> <meta content=\"166878320861\" property=\"fb:app_id\"/> <meta content=\"14892757589\" property=\"fb:page_id\"/> <link href=\"https://www.lemonde.fr/sport/article/2019/01/17/mondial-de-handball-deja-qualifiee-la-france-s-impose-sur-le-fil-face-a-la-russie_5410713_3242.html\" rel=\"canonical\"/> <link href=\"/dist/assets/img/logos/favicon.ico\" rel=\"shortcut icon\"> <link href=\"/dist/assets/img/logos/pwa-180.png\" rel=\"apple-touch-icon\" sizes=\"180x180\" type=\"image/png\"/> <link href=\"/dist/assets/img/logos/pwa-180.png\" rel=\"icon\" sizes=\"180x180\" type=\"image/png\"/> <link href=\"https://www.lemonde.fr/sport/rss_full.xml\" rel=\"alternate\" title=\"Le Monde.fr : Sport\" type=\"application/rss+xml\"/> <script>if(Math.random()<.1){var link=document.createElement(\"link\");link.rel=\"prefetch\",link.href=\"?_staled_\",link.as=\"document\",document.head.appendChild(link)}</script> <style type=\"text/css\">@charset \"UTF-8\";.icon__facebook,.icon__twitter,.icon__video{background-position:center;background-size:contain;background-repeat:no-repeat;display:inline-block;flex-shrink:0;height:2rem;width:2rem}.icon--outside-simple{float:left}.logo--full{height:100%!important;width:100%!important}.icon__facebook{background-image:url(\"data:image/svg+xml;charset=utf-8,%3Csvg width='26' height='18' xmlns='http://www.w3.org/2000/svg' fill='%23FFF'%3E%3Cpath d='M18 17.007a.993.993 0 0 1-.993.993H12.42v-6.97h2.34l.35-2.717h-2.69V6.579c0-.787.218-1.323 1.346-1.323h1.439v-2.43a19.143 19.143 0 0 0-2.096-.108c-2.074 0-3.494 1.266-3.494 3.591v2.004H7.269v2.716h2.346V18H.993A.993.993 0 0 1 0 17.007V.993C0 .445.445 0 .993 0h16.014c.548 0 .993.445.993.993v16.014' fill-rule='evenodd'/%3E%3C/svg%3E\")}.icon__twitter{background-image:url(\"data:image/svg+xml;charset=utf-8,%3Csvg width='28' height='17' xmlns='http://www.w3.org/2000/svg'%3E%3Cpath d='M19.448.315c-.793.49-1.67.848-2.607 1.04A4.01 4.01 0 0 0 13.846 0c-2.264 0-4.102 1.922-4.102 4.291 0 .337.036.664.106.978C6.44 5.09 3.417 3.383 1.392.784a4.435 4.435 0 0 0-.555 2.16c0 1.487.724 2.802 1.826 3.571a3.97 3.97 0 0 1-1.86-.535v.053c0 2.08 1.414 3.814 3.293 4.208-.344.1-.707.15-1.082.15-.264 0-.522-.025-.772-.076.523 1.705 2.037 2.946 3.833 2.98A8.003 8.003 0 0 1 0 15.073 11.263 11.263 0 0 0 6.29 17c7.548 0 11.674-6.539 11.674-12.21 0-.187-.003-.373-.01-.556A8.52 8.52 0 0 0 20 2.013a7.884 7.884 0 0 1-2.356.675A4.273 4.273 0 0 0 19.448.315' fill='%23FFF' fill-rule='evenodd'/%3E%3C/svg%3E\")}.icon__video{background-image:url(\"data:image/svg+xml;charset=utf-8,%3Csvg height='48' width='48' xmlns='http://www.w3.org/2000/svg' xmlns:xlink='http://www.w3.org/1999/xlink'%3E%3Cdefs%3E%3Cpath id='a' d='M30.724 22.687L18.42 30.021a.8.8 0 0 1-1.21-.688V14.667a.8.8 0 0 1 1.21-.688l12.304 7.334a.8.8 0 0 1 0 1.374z'/%3E%3Cfilter id='b' height='124.4%25' width='128.6%25' x='-14.3%25' y='-12.2%25'%3E%3CfeGaussianBlur in='SourceAlpha' result='shadowBlurInner1' stdDeviation='1.5'/%3E%3CfeOffset dy='1' in='shadowBlurInner1' result='shadowOffsetInner1'/%3E%3CfeComposite in='shadowOffsetInner1' in2='SourceAlpha' k2='-1' k3='1' operator='arithmetic' result='shadowInnerInner1'/%3E%3CfeColorMatrix in='shadowInnerInner1' values='0 0 0 0 0 0 0 0 0 0 0 0 0 0 0 0 0 0 0.5 0'/%3E%3C/filter%3E%3Cpath id='d' d='M22 43.905C9.902 43.905.095 34.098.095 22S9.902.095 22 .095 43.905 9.902 43.905 22 34.098 43.905 22 43.905zm8.724-21.218a.8.8 0 0 0 0-1.374L18.42 13.979a.8.8 0 0 0-1.21.687v14.667a.8.8 0 0 0 1.21.688z'/%3E%3Cfilter id='c' height='116%25' width='116%25' x='-8%25' y='-5.7%25'%3E%3CfeOffset dy='1' in='SourceAlpha' result='shadowOffsetOuter1'/%3E%3CfeGaussianBlur in='shadowOffsetOuter1' result='shadowBlurOuter1' stdDeviation='1'/%3E%3CfeComposite in='shadowBlurOuter1' in2='SourceAlpha' operator='out' result='shadowBlurOuter1'/%3E%3CfeColorMatrix in='shadowBlurOuter1' values='0 0 0 0 0 0 0 0 0 0 0 0 0 0 0 0 0 0 0.12 0'/%3E%3C/filter%3E%3C/defs%3E%3Cg fill='none' fill-rule='evenodd'%3E%3Cg fill='%23000' transform='translate(2 1)'%3E%3Cuse fill-opacity='.4' xlink:href='%23a'/%3E%3Cuse filter='url(%23b)' xlink:href='%23a'/%3E%3C/g%3E%3Cg transform='translate(2 1)'%3E%3Cuse fill='%23000' filter='url(%23c)' xlink:href='%23d'/%3E%3Cuse fill='%23fff' fill-opacity='.97' xlink:href='%23d'/%3E%3C/g%3E%3C/g%3E%3C/svg%3E\");height:4rem;width:4rem}.icon__video--small{background-image:url(\"data:image/svg+xml;charset=utf-8,%3Csvg height='29' width='29' xmlns='http://www.w3.org/2000/svg' xmlns:xlink='http://www.w3.org/1999/xlink'%3E%3Cdefs%3E%3Cpath id='a' d='M18.014 13.543l-6.804 4.055A.8.8 0 0 1 10 16.91V8.8a.8.8 0 0 1 1.21-.687l6.804 4.055a.8.8 0 0 1 0 1.375z'/%3E%3Cfilter id='b' height='141.2%25' width='147.6%25' x='-23.8%25' y='-20.6%25'%3E%3CfeGaussianBlur in='SourceAlpha' result='shadowBlurInner1' stdDeviation='1.5'/%3E%3CfeOffset dy='1' in='shadowBlurInner1' result='shadowOffsetInner1'/%3E%3CfeComposite in='shadowOffsetInner1' in2='SourceAlpha' k2='-1' k3='1' operator='arithmetic' result='shadowInnerInner1'/%3E%3CfeColorMatrix in='shadowInnerInner1' values='0 0 0 0 0 0 0 0 0 0 0 0 0 0 0 0 0 0 0.5 0'/%3E%3C/filter%3E%3Cpath id='d' d='M12.5 25C5.596 25 0 19.404 0 12.5S5.596 0 12.5 0 25 5.596 25 12.5 19.404 25 12.5 25zm5.205-11.364a.8.8 0 0 0 0-1.36l-6.483-4.025a.8.8 0 0 0-1.222.68v8.05a.8.8 0 0 0 1.222.68z'/%3E%3Cfilter id='c' height='128%25' width='128%25' x='-14%25'%3E%3CfeOffset dy='1' in='SourceAlpha' result='shadowOffsetOuter1'/%3E%3CfeGaussianBlur in='shadowOffsetOuter1' result='shadowBlurOuter1' stdDeviation='1'/%3E%3CfeComposite in='shadowBlurOuter1' in2='SourceAlpha' operator='out' result='shadowBlurOuter1'/%3E%3CfeColorMatrix in='shadowBlurOuter1' values='0 0 0 0 0 0 0 0 0 0 0 0 0 0 0 0 0 0 0.12 0'/%3E%3C/filter%3E%3C/defs%3E%3Cg fill='none' fill-rule='evenodd'%3E%3Cg fill='%23000' transform='translate(2 1)'%3E%3Cuse fill-opacity='.4' xlink:href='%23a'/%3E%3Cuse filter='url(%23b)' xlink:href='%23a'/%3E%3C/g%3E%3Cg transform='translate(2 1)'%3E%3Cuse fill='%23000' filter='url(%23c)' xlink:href='%23d'/%3E%3Cuse fill='%23fff' fill-opacity='.97' xlink:href='%23d'/%3E%3C/g%3E%3C/g%3E%3C/svg%3E\");height:3.2rem;width:3.2rem}@font-face{font-family:\"The Antiqua B\";src:url(/dist/assets/fonts/the-antiqua-b/TheAntiquaB_LT_500.eot);src:local(\"TheAntiquaB_LT_500\"),url(/dist/assets/fonts/the-antiqua-b/TheAntiquaB_LT_500.eot?#iefix) format(\"embedded-opentype\"),url(/dist/assets/fonts/the-antiqua-b/TheAntiquaB_LT_500.woff2) format(\"woff2\"),url(/dist/assets/fonts/the-antiqua-b/TheAntiquaB_LT_500.woff) format(\"woff\"),url(/dist/assets/fonts/the-antiqua-b/TheAntiquaB_LT_500.svg#TheAntiquaB_LT_500) format(\"svg\");font-display:swap;font-style:normal;font-weight:500}@font-face{font-family:\"The Antiqua B\";src:url(/dist/assets/fonts/the-antiqua-b/TheAntiquaB_LT_500_italic.eot);src:local(\"TheAntiquaB_LT_500_italic\"),url(/dist/assets/fonts/the-antiqua-b/TheAntiquaB_LT_500_italic.eot?#iefix) format(\"embedded-opentype\"),url(/dist/assets/fonts/the-antiqua-b/TheAntiquaB_LT_500_italic.woff2) format(\"woff2\"),url(/dist/assets/fonts/the-antiqua-b/TheAntiquaB_LT_500_italic.woff) format(\"woff\"),url(/dist/assets/fonts/the-antiqua-b/TheAntiquaB_LT_500_italic.svg#TheAntiquaB_LT_500_italic) format(\"svg\");font-display:swap;font-style:italic;font-weight:500}@font-face{font-family:\"The Antiqua B\";src:url(/dist/assets/fonts/the-antiqua-b/TheAntiquaB_LT_700.eot);src:local(\"TheAntiquaB_LT_700\"),url(/dist/assets/fonts/the-antiqua-b/TheAntiquaB_LT_700.eot?#iefix) format(\"embedded-opentype\"),url(/dist/assets/fonts/the-antiqua-b/TheAntiquaB_LT_700.woff2) format(\"woff2\"),url(/dist/assets/fonts/the-antiqua-b/TheAntiquaB_LT_700.woff) format(\"woff\"),url(/dist/assets/fonts/the-antiqua-b/TheAntiquaB_LT_700.svg#TheAntiquaB_LT_700) format(\"svg\");font-display:swap;font-style:normal;font-weight:700}@font-face{font-family:\"The Antiqua B\";src:url(/dist/assets/fonts/the-antiqua-b/TheAntiquaB_LT_700_i.eot);src:local(\"TheAntiquaB_LT_700_i\"),url(/dist/assets/fonts/the-antiqua-b/TheAntiquaB_LT_700_i.eot?#iefix) format(\"embedded-opentype\"),url(/dist/assets/fonts/the-antiqua-b/TheAntiquaB_LT_700_i.woff2) format(\"woff2\"),url(/dist/assets/fonts/the-antiqua-b/TheAntiquaB_LT_700_i.woff) format(\"woff\"),url(/dist/assets/fonts/the-antiqua-b/TheAntiquaB_LT_700_i.svg#TheAntiquaB_LT_700_i) format(\"svg\");font-display:swap;font-style:italic;font-weight:700}@font-face{font-family:\"Marr Sans\";src:url(/dist/assets/fonts/marr-sans/MarrSans-Regular-Web.eot);src:url(/dist/assets/fonts/marr-sans/MarrSans-Regular-Web.eot?#iefix) format(\"embedded-opentype\"),url(/dist/assets/fonts/marr-sans/MarrSans-Regular-Web.woff2) format(\"woff2\"),url(/dist/assets/fonts/marr-sans/MarrSans-Regular-Web.woff) format(\"woff\");font-display:swap;font-style:normal;font-weight:400}@font-face{font-family:\"Marr Sans\";src:url(/dist/assets/fonts/marr-sans/MarrSans-Medium-Web.eot);src:url(/dist/assets/fonts/marr-sans/MarrSans-Medium-Web.eot?#iefix) format(\"embedded-opentype\"),url(/dist/assets/fonts/marr-sans/MarrSans-Medium-Web.woff2) format(\"woff2\"),url(/dist/assets/fonts/marr-sans/MarrSans-Medium-Web.woff) format(\"woff\");font-display:swap;font-style:normal;font-weight:500}@font-face{font-family:\"Marr Sans\";src:url(/dist/assets/fonts/marr-sans/MarrSans-Semibold-Web.eot);src:url(/dist/assets/fonts/marr-sans/MarrSans-Semibold-Web.eot?#iefix) format(\"embedded-opentype\"),url(/dist/assets/fonts/marr-sans/MarrSans-Semibold-Web.woff2) format(\"woff2\"),url(/dist/assets/fonts/marr-sans/MarrSans-Semibold-Web.woff) format(\"woff\");font-display:swap;font-style:normal;font-weight:600}@font-face{font-family:\"Marr Sans Condensed\";src:url(/dist/assets/fonts/marr-sans-cond/MarrSansCondensed-Semibold-Web.eot);src:url(/dist/assets/fonts/marr-sans-cond/MarrSansCondensed-Semibold-Web.eot?#iefix) format(\"embedded-opentype\"),url(/dist/assets/fonts/marr-sans-cond/MarrSansCondensed-Semibold-Web.woff2) format(\"woff2\"),url(/dist/assets/fonts/marr-sans-cond/MarrSansCondensed-Semibold-Web.woff) format(\"woff\");font-display:swap;font-style:normal;font-weight:600}@font-face{font-family:\"Marr Sans Condensed\";src:url(/dist/assets/fonts/marr-sans-cond/MarrSansCondensed-Bold-Web.eot);src:url(/dist/assets/fonts/marr-sans-cond/MarrSansCondensed-Bold-Web.eot?#iefix) format(\"embedded-opentype\"),url(/dist/assets/fonts/marr-sans-cond/MarrSansCondensed-Bold-Web.woff2) format(\"woff2\"),url(/dist/assets/fonts/marr-sans-cond/MarrSansCondensed-Bold-Web.woff) format(\"woff\");font-display:swap;font-style:normal;font-weight:700}.sr-only{border:0!important;clip:rect(1px,1px,1px,1px)!important;-webkit-clip-path:inset(50%)!important;clip-path:inset(50%)!important;height:1px!important;overflow:hidden!important;padding:0!important;position:absolute!important;width:1px!important;white-space:nowrap!important}html{box-sizing:border-box;color:#383f4e;font-size:62.5%;line-height:1.6;-webkit-font-smoothing:antialiased}html{font-family:\"Helvetica Neue\",Helvetica,Arial,Roboto,sans-serif}body{font-size:16px}@media (min-width:1200px){body{background-color:#f5f6f8}}*,:after,:before{box-sizing:inherit}body,h1,p,ul{margin:0;padding:0;font-weight:inherit}img{overflow:hidden;text-indent:100%;white-space:nowrap;max-width:100%;height:auto}img:not([src]){visibility:hidden}a{color:inherit;font-family:inherit;text-decoration:none}.btn,.btn--premium{border-radius:.3rem;cursor:pointer;display:inline-block;font-size:inherit;font-weight:inherit;line-height:normal;padding:.8rem 1.6rem;text-decoration:none!important;transition:background-color .3s}.meta__icon-container,.meta__link{width:3.2rem;height:3.2rem;background-color:transparent;display:flex;align-items:center;justify-content:center;border:.1rem solid #bdc1c8;border-radius:25rem}.icon__arrow,.icon__cross,.icon__email,.icon__facebook,.icon__home,.icon__link,.icon__linkedin,.icon__messenger,.icon__nav-connexion,.icon__nav-en-continu,.icon__premium,.icon__reading-time,.icon__search,.icon__twitter,.icon__whatsapp{background-position:center;background-size:contain;background-repeat:no-repeat;display:inline-block;flex-shrink:0;height:2rem;width:2rem}.icon--outside-simple{float:left}.logo__lemonde{background-position:center;background-size:100%;background-repeat:no-repeat;display:inline-block}.logo--full{height:100%!important;width:100%!important}@supports not (display:grid){@media (min-width:1024px){.old__zone{position:relative}.old__zone:after{content:\"\";display:table;clear:both}}@media (min-width:1024px){.old__nav-services .old__nav-services-left-container{display:flex;flex-wrap:wrap;justify-content:space-between}}@media (min-width:1024px){.old__nav-services .old__nav-services-left-item{width:22.5rem}}@media (min-width:1024px){.old__nav-content-list .old__nav-content-list-container{display:flex;flex-wrap:wrap;justify-content:space-between}}@media (min-width:1024px){.old__nav-content-list .old__nav-content-list-item{width:23.5rem}}@media (min-width:1024px){.old__article-content-single{width:55.6rem;float:left;margin-right:6.4rem}}@media (min-width:1024px){.article--single .old__meta-social{top:0;right:0;position:absolute}.article--single .old__aside{float:right;display:block;width:31.6rem}}}.zone{margin:0 auto;background-color:#fff}@media (min-width:1024px){.zone{max-width:115.2rem}}@media (min-width:1200px){.zone{margin:0 auto}}.main{background-color:#fff}@media (min-width:1024px){.main{background-color:#f5f6f8}}.main .zone{margin:0 1.6rem}@media (min-width:576px){.main .zone{margin:0 3.2rem}}@media (min-width:768px){.main .zone{margin:0 auto;max-width:66.4rem}}@media (min-width:1024px){.main--free .zone{max-width:100rem;padding-bottom:4rem;margin:0 auto;padding-left:1.6rem;padding-right:1.6rem}}.zone--article{padding-top:3.2rem;padding-bottom:4rem}@media (min-width:1024px){.zone--article{display:grid;grid-template-columns:1fr 31.6rem;grid-column-gap:6.4rem;grid-template-rows:auto auto auto;box-shadow:0 .2rem #f5f6f8 inset,.15rem 0 #f5f6f8 inset,-.15rem 0 #f5f6f8 inset}}@media (min-width:1024px){.main--free .zone--article{padding:3.2rem}}@media (min-width:1024px){.main--free .article__content{max-width:55.6rem}}.icon__reading-time{background-image:url(\"data:image/svg+xml;charset=utf-8,%3Csvg height='24' width='12' xmlns='http://www.w3.org/2000/svg'%3E%3Cpath d='M6 17.688c.853 0 1.637-.213 2.352-.64a4.657 4.657 0 0 0 1.68-1.696A4.592 4.592 0 0 0 10.656 13c0-.853-.208-1.637-.624-2.352a4.696 4.696 0 0 0-1.68-1.68A4.592 4.592 0 0 0 6 8.344c-.853 0-1.637.208-2.352.624a4.696 4.696 0 0 0-1.68 1.68A4.592 4.592 0 0 0 1.344 13c0 .853.208 1.637.624 2.352s.976 1.28 1.68 1.696c.715.427 1.499.64 2.352.64zm4.688-8.4a6.03 6.03 0 0 1 .96 1.712c.235.64.352 1.307.352 2a5.875 5.875 0 0 1-.816 3.024 5.99 5.99 0 0 1-2.16 2.16A5.875 5.875 0 0 1 6 19a5.875 5.875 0 0 1-3.024-.816 5.99 5.99 0 0 1-2.16-2.16A5.875 5.875 0 0 1 0 13c0-1.088.272-2.096.816-3.024a5.99 5.99 0 0 1 2.16-2.16A5.875 5.875 0 0 1 6 7a5.76 5.76 0 0 1 2.016.368c.619.235 1.195.56 1.728.976l.944-.976c.299.245.613.56.944.944zm-5.344 4.4v-4h1.312v4zM8 5v1.344H4V5z' fill='%23717b8e' fill-rule='evenodd'/%3E%3C/svg%3E\");width:1.2rem;height:2.4rem;margin-right:.8rem}.icon__home{background-image:url(\"data:image/svg+xml;charset=utf-8,%3Csvg width='24' height='24' xmlns='http://www.w3.org/2000/svg'%3E%3Cpath d='M12 4l8 7.77-1.505 1.46L12 6.926 5.505 13.23 4 11.769 12 4zM6.287 19v-4.983L12 8.615l5.713 5.402V19H13.63v-4.529h-3.262V19H6.286z' fill='%232A303B' fill-rule='evenodd'/%3E%3C/svg%3E\");width:2.4rem;height:2.4rem}.icon__search{background-image:url(\"data:image/svg+xml;charset=utf-8,%3Csvg height='15' width='16' xmlns='http://www.w3.org/2000/svg' fill='%23000b15'%3E%3Cpath d='M15.471 13.408l-2.817-2.824c-.025-.025-.058-.035-.086-.057a6.532 6.532 0 0 0 1.334-3.957A6.572 6.572 0 0 0 7.33 0a6.571 6.571 0 1 0 0 13.141c1.49 0 2.86-.502 3.963-1.338.023.028.033.062.06.088l2.818 2.823c.372.373.964.382 1.323.021.36-.36.35-.955-.022-1.327zm-8.156-2.166a4.687 4.687 0 1 1 4.687-4.686 4.686 4.686 0 0 1-4.687 4.686z' fill-rule='evenodd'/%3E%3C/svg%3E\")}.icon__premium{background-image:url(\"data:image/svg+xml;charset=utf-8,%3Csvg height='18' width='26' xmlns='http://www.w3.org/2000/svg'%3E%3Cg fill='none' fill-rule='evenodd'%3E%3Cpath d='M0 0h18v18H0z' fill='%23ffc600'/%3E%3Cpath d='M14.276 5.96c-.5.309-.667.727-.667 1.372v5.154c0 .324.039.471.205.566l.167.095.46-.284.155.324-1.602 1.01-.55-.391c-.244-.175-.347-.39-.347-.808V8.395c0-.86.257-1.319.616-1.6l.205-.162-1.512-.93-.678.431v6.702c0 .566-.077.647-.552.902 0 0-.37.189-.882.471h-.103V6.781c0-.363-.039-.445-.23-.606l-.538-.457-.654.39v3.849c0 .673-.102 1.157-.614 1.493l-1.28.848-.13-.228c.398-.324.488-.782.488-1.32V6.82c0-.578-.077-.807-.654-.699-.217.04-.55.094-.755.121-.846.121-1.205-.511-.628-1.305 0 0 .141-.202.5-.687l.282.202-.205.31c-.27.404-.052.62.384.457.205-.08.602-.241.883-.363 1.217-.498 1.665.323 1.73.808l1.511-.956 1.305 1.05 1.614-1.05 1.243.74c.422.256.627.148.922-.014l.243-.134.192.337zm-7.902 8.25c-.128-.378-.5-.768-1.166-.795-.628-.013-1.524.243-2.267.835l-.141-.189c.538-.62 1.793-1.614 3.112-1.628.692 0 1.179.242 1.525.633l.576-.337.167.35z' fill='%23fff'/%3E%3C/g%3E%3C/svg%3E\");height:1.8rem;width:2.6rem;vertical-align:sub}.icon__cross{background:url(\"data:image/svg+xml;charset=utf-8,%3Csvg xmlns='http://www.w3.org/2000/svg' viewBox='0 0 16 16'%3E%3Cpath d='M16 1.46L14.54 0 8 6.54 1.46 0 0 1.46 6.54 8 0 14.54 1.46 16 8 9.46 14.54 16 16 14.54 9.46 8 16 1.46z'/%3E%3C/svg%3E\")}.icon__nav-en-continu{width:2.4rem;height:2.4rem;background-image:url(\"data:image/svg+xml;charset=utf-8,%3Csvg height='24' width='24' xmlns='http://www.w3.org/2000/svg'%3E%3Cpath d='M6.233 5.312A9 9 0 1 1 5.5 17.948l1.063-1.064A7.5 7.5 0 1 0 7.23 6.433l.36.412 2.456 2.5H4V3zm6.377 3.053v3.76l3.077 1.88-.62 1.067-3.802-2.285V8.365z' fill='%232a303b' fill-rule='evenodd'/%3E%3C/svg%3E\")}.logo__lemonde{background-image:url(\"data:image/svg+xml;charset=utf-8,%3Csvg height='73' width='317' xmlns='http://www.w3.org/2000/svg' fill='%231A171B'%3E%3Cg fill-rule='evenodd'%3E%3Cpath d='M42 14.105C41.737 12.86 39.614 10 37.235 10c-.533 0-.884.09-1.235.183 2.293.893 4.057 3.205 4.59 4.817l1.321-.803v-.092H42zm15 54.191l-8.571-5.803c-1.031-.698-2.23-2.017-2.23-4.478V37l-.858.53-.341.176v20.921c0 1.76.94 3.605 2.223 4.484L55.886 69zm-37.024-21.08c.168-3.565-.586-7.914-1.346-12.09-.76-4.26-1.439-8.61-1.353-12.431.086-2.346.508-4.607 1.435-6.695-1.602 2.52-2.612 5.388-2.699 8.433-.252 7.392 3.206 17.04 2.866 24.524A115.83 115.83 0 0 1 18.63 52l.166-.176c.677-.958 1.098-2.433 1.18-4.608M32 68.17C30.714 65.58 27.632 64 24.03 64c-.346.08-.689.08-1.03.08 3.516.587 6.514 2.502 7.631 4.92zm31-30.92L60 34l.091 2.165L61.674 38zM145.192 19L138 14.723l1.08-.723 6.92 4.093c-.27.271-.54.542-.808.907m1.71 50l-2.952-2.082c-1.94-1.385-2.95-3.725-2.95-6.323V31.661c0-3.985.845-6.758 2.191-8.661-.758 1.903-1.096 4.243-1.096 6.93l.083 29.623c0 3.206.93 5.286 3.123 6.845l2.699 1.91zM123 68.736s-.278.175-.462.264h-.74V20.634c0-2.339-.185-2.339-1.666-3.382L118 15.692l1.393-.692c1.11.864 2.778 2.08 2.778 2.168.648.605.829.95.829 2.338v49.315zM87.647 9c-.738 1.93-.646 3.774.278 5.285.836 1.34 2.313 2.264 4.075 2.685-5.461.417-7.863-3.523-4.353-7.97m12.855 42c.355-1.379.5-2.93.5-4.565V21.38c0-3.012-.145-3.353-1.002-4.3h.145c1.212-.26 1.855 0 1.855 2.579v25.141c0 2.928-.426 4.822-1.498 6.201m2.148 18c-.715-2.366-2.876-4.367-6.65-4.914C96.543 64 97.08 64 97.622 64c4.668.086 6.018 2.996 6.289 3.907l.089.27zM231 68.386l-2.575-1.573c-2.323-1.404-3.527-3.586-3.527-6.911V36.199c0-1.398-.083-1.31-.603-1.749 0 0-1.804-1.488-3.008-2.45l-1.287.705 2.49 1.92c1.378 1.047 1.207 1.135 1.207 3.236v23.001c0 3.149 1.288 5.335 3.092 6.39L229.883 69zm-24 .434V33.306L205.656 32l-1.656.787 1.55 1.482V69h.835c.204-.09.514-.18.514-.18zm-28-.435l-9.998-6.087c-2.002-1.233-2.78-2.73-2.78-5.376V37l-.87.441-.352.175v20.276c0 2.381 1.042 4.14 2.871 5.203L177.866 69zM184 57V37.245c0-1.04-.33-1.39-1.084-1.82L179 33v1.3l2.25 1.297c1.666.952 1.666 1.127 1.666 2.95l-.08 17.76zm79-35.678v-.255c0-2.384-1.378-4.85-3.492-6.13-.81-.512-1.536-.937-1.536-.937l-.972.683.564.336c2.756 1.623 4.305 3.664 4.305 6.981zm32 46.974l-8.594-5.803c-1.018-.698-2.212-2.017-2.212-4.478V37l-.852.53-.342.176V58.36c0 2.288.855 3.872 2.298 4.84l8.508 5.8zm-37 .997l-9.18-6.007c-2.202-1.408-2.63-2.736-2.63-5.302V39l-.681.356-.509.262v18.81c0 3.008.936 4.333 2.379 5.302l9.513 6.27zm42-32.044L297 34l.089 2.165L298.674 38zM265 58V30l-2 .798v26.404z' fill='%238f98a9'/%3E%3Cpath d='M44.192 60.691L43.15 58.6l-2.696 1.738c-2.001-2.441-5.227-5.313-12.89-5.313C19.462 54.939 9.529 61.38 5 66.955L5.785 68c6.181-4.095 12.544-5.918 18.119-5.918 4.53 0 8.274 2.176 9.84 5.396zm8.368-47.727C50.99 10.526 46.81 6 38.534 6 28.607 5.915 19.9 13.663 19.55 23.069c-.264 7.489 3.309 17.154 2.958 24.643-.171 2.527-.698 4.355-1.739 5.745l1.041 1.223 6.1-4.44c2.964-2.185 4.617-4.881 4.529-9.58-.087-5.836-2.789-14.805-2.789-21.682 0-5.924 2.267-10.365 7.406-10.365 3.485 0 6.272 3.57 6.705 5.573.178.955 0 1.392-.87 2.001l-2.437 1.66v2.696l12.107-7.58zM75 36.13L63.328 23.242 45.12 33.863v2.438l3.747-2.086v24.122c0 1.39.524 2.262 1.393 2.874l9.67 6.267 13.678-7.927-1.133-2.438-7.144 3.832-6.444-4.443c-.785-.518-.872-1.042-.872-2.175V46.49zm-9.147 1.916l-7.838 4.875V30.206l.697-.433 7.141 8.273zm39.567 29.69c-.876-2.454-3.411-4.988-7.964-5.162-4.292-.088-10.418 1.577-15.49 5.426L81 66.773c3.678-4.025 12.255-10.495 21.266-10.586 4.73 0 8.054 1.577 10.417 4.113l3.941-2.188 1.138 2.277zm53.997-53.625c-3.419 2.01-4.557 4.726-4.557 8.925v33.499c0 2.105.266 3.062 1.402 3.678l1.139.615 3.15-1.844 1.052 2.106-10.942 6.562-3.76-2.541c-1.669-1.136-2.371-2.537-2.371-5.25V29.945c0-5.596 1.756-8.575 4.206-10.408l1.4-1.05-10.326-6.039-4.639 2.797v43.566c0 3.674-.525 4.2-3.768 5.86 0 0-2.531 1.227-6.026 3.064h-.703V19.45c0-2.36-.266-2.889-1.579-3.937l-3.672-2.973-4.465 2.534v25.022c0 4.37-.7 7.52-4.2 9.705l-8.75 5.512-.88-1.485c2.716-2.103 3.327-5.08 3.327-8.577V19.71c0-3.762-.52-5.248-4.463-4.548-1.486.26-3.762.611-5.162.786-5.778.789-8.23-3.324-4.29-8.484 0 0 .964-1.313 3.413-4.465l1.93 1.316-1.405 2.011c-1.836 2.629-.349 4.028 2.63 2.974 1.398-.526 4.11-1.572 6.035-2.364 8.311-3.233 11.377 2.103 11.815 5.252l10.329-6.21 8.92 6.82 11.025-6.82 8.492 4.813c2.886 1.657 4.287.958 6.301-.093l1.664-.873L163 12.014l-3.583 2.097zm39.462 42.235l-.784-1.905-3.043 1.556v-23.47c0-1.207-.432-2.163-1.65-2.86L182.18 23 164 33.565v2.514l3.744-2.165v22.951c0 2.076.516 2.859 1.827 3.637L180.615 67zM242 61.283l-.869-1.993-3.221 1.823-1.125-.696c-1.218-.693-1.481-1.563-1.481-3.64V31.922c0-1.994-.434-2.856-1.655-3.724l-6.698-5.025-10.35 5.893-5.477-5.893-10.96 6.672 1.48 1.728 3.738-2.246 2.696 3.029V66.83h.696c4.35-1.913 5.741-2.516 5.741-2.516 2.087-.868 2.698-1.56 2.698-3.982v-28.76l3.569-2.076 4.174 3.293c1.127.95 1.3 1.73 1.3 3.2l.088 23.562c0 2.595.784 4.069 2.52 5.109l3.657 2.17L242 61.283zm-56.082-1.297l-.519.087-7.136-4.16c-1.213-.693-1.48-1.472-1.48-3.034l.092-22.777.518-.175 6.874 3.987c1.388.78 1.651 1.473 1.651 2.943v23.129zm80.207.922l-.524.088-6.199-4.034c-1.218-.785-1.655-1.4-1.655-2.971V31.66l7.766-4.735.612.352v33.63zm12.918-3.591l-.783-2.015-3.145 1.66V19.837c0-5.429-2.442-8.929-6.457-11.383L264.731 6l-12.312 7.179 2.444 1.141 4.02-2.188 2.613 1.487c2.795 1.577 4.629 4.733 4.629 7.97v1.398L245 35.246v2.367l3.578-1.927V57.93c0 1.922.523 2.714 1.745 3.501L260.798 68zM313 36.475l-11.787-12.96-18.243 10.68v2.452l3.753-2.098v24.258c0 1.398.524 2.275 1.396 2.89L297.811 68l13.702-7.972-1.043-2.451-7.16 3.854-6.461-4.47c-.875-.61-.96-1.047-.96-2.185v-7.882zm-9.253 1.927l-7.857 4.903V30.518l.787-.436z'/%3E%3C/g%3E%3C/svg%3E\");height:3rem;width:13.8rem}.icon__nav-connexion{width:2.4rem;height:2.4rem;background-image:url(\"data:image/svg+xml;charset=utf-8,%3Csvg height='24' width='24' xmlns='http://www.w3.org/2000/svg'%3E%3Cg fill='%232a303b' fill-rule='evenodd'%3E%3Cpath d='M7.049 6.601l-1.061-1.06A9 9 0 1 1 5.5 17.948l1.063-1.064A7.5 7.5 0 1 0 7.05 6.601z'/%3E%3Cpath d='M3.865 10.794V7.5L8 11.5l-4.135 4v-3.206H-1v-1.5zM12.5 18a5.632 5.632 0 0 0 2.86-.773 6.01 6.01 0 0 0 2.14-1.973c-.013-.515-.327-.99-.94-1.424-.533-.366-1.213-.664-2.04-.895-.747-.203-1.423-.305-2.03-.305s-1.283.102-2.03.305c-.827.23-1.5.529-2.02.895-.613.434-.927.909-.94 1.424a6.01 6.01 0 0 0 2.14 1.973c.907.515 1.86.773 2.86.773zm0-11c-.44 0-.853.115-1.24.346-.387.23-.693.542-.92.935-.227.394-.34.814-.34 1.262 0 .447.113.867.34 1.26.227.394.533.706.92.936a2.387 2.387 0 0 0 2.48 0c.387-.23.693-.542.92-.935.227-.394.34-.814.34-1.261 0-.448-.113-.868-.34-1.262a2.558 2.558 0 0 0-.92-.935c-.387-.23-.8-.346-1.24-.346z'/%3E%3C/g%3E%3C/svg%3E\")}.icon__arrow{background-image:url(\"data:image/svg+xml;charset=utf-8,%3Csvg height='14' width='17' xmlns='http://www.w3.org/2000/svg' fill='%233A4253'%3E%3Cpath d='M9.44 3.196V0l7.105 5.78-7.105 5.99V8.287c-3.748-.155-6.71 1.44-8.888 4.785a.252.252 0 0 1-.462-.164c.01-.086.018-.163.027-.23.745-5.79 3.852-8.95 9.323-9.482z'/%3E%3C/svg%3E\")}.icon__link{background-image:url(\"data:image/svg+xml;charset=utf-8,%3Csvg height='16' width='16' xmlns='http://www.w3.org/2000/svg' fill='%233A4253'%3E%3Cpath d='M6.874 2.8C7.96 1.653 8.63.987 8.884.8c1.501-.958 3.25-1.22 5 .136 1.96 1.692 1.323 4.187.764 5.052-.516.761-1.66 1.935-3.431 3.524-.916.815-1.975 1.163-3.178 1.043C6.75 10.399 5.739 9.815 5 8.8c1.081-.774 1.629-1.154 1.643-1.14 1.007 1.13 2.087 1.264 3.24.404l2.692-2.618c.872-1.119.892-2.122.058-3.01-.944-.675-1.884-.625-2.82.15L8.328 4.115zm1.463 9.979c-1.086 1.145-1.756 1.81-2.01 1.999-1.502.958-3.25 1.22-5-.136C-.633 12.95.004 10.456.563 9.59c.516-.76 1.66-1.935 3.431-3.524.915-.815 1.975-1.163 3.178-1.043 1.288.156 2.3.74 3.039 1.754-1.081.774-1.629 1.154-1.643 1.14-1.007-1.13-2.087-1.264-3.24-.404l-2.692 2.618c-.872 1.119-.892 2.122-.058 3.01.944.675 1.884.625 2.82-.15l1.484-1.528z'/%3E%3C/svg%3E\");width:1.6rem;height:1.6rem}.icon__linkedin{background-image:url(\"data:image/svg+xml;charset=utf-8,%3Csvg width='13' height='12' xmlns='http://www.w3.org/2000/svg' fill='%233A4253'%3E%3Cpath d='M.328 3.848H2.86V12H.328V3.848zm9.456-.078C11.585 3.77 13 4.942 13 7.467V12h-2.873V7.782c0-1.105-.45-1.859-1.438-1.859-.756 0-1.176.51-1.372 1-.073.176-.062.42-.062.666V12H4.41s.037-7.472 0-8.152h2.846v1.28c.168-.56 1.078-1.358 2.53-1.358zM1.548 0c.935 0 1.51.609 1.528 1.413 0 .79-.593 1.415-1.546 1.415h-.018C.595 2.828 0 2.205 0 1.415 0 .61.612 0 1.548 0z' fill-rule='evenodd'/%3E%3C/svg%3E\");width:1.2rem;height:1.2rem}.icon__whatsapp{background-image:url(\"data:image/svg+xml;charset=utf-8,%3Csvg viewBox='0 0 24 24' xmlns='http://www.w3.org/2000/svg' fill='%233A4253'%3E%3Cpath clip-rule='evenodd' d='M18.1 5.7c-1.6-1.6-3.7-2.5-6-2.5-4.7 0-8.5 3.8-8.5 8.5 0 1.5.4 2.9 1.1 4.2l-1.2 4.4L8 19.1c1.2.7 2.6 1 4 1 4.7 0 8.5-3.8 8.5-8.5 0-2.2-.8-4.3-2.4-5.9m-6 13c-1.3 0-2.5-.3-3.6-1l-.3-.2-2.7.7.7-2.6-.2-.3c-.6-1-1-2.3-1-3.6 0-3.9 3.2-7 7-7 1.9 0 3.6.7 5 2.1 1.3 1.3 2.1 3.1 2.1 5 0 3.8-3.1 6.9-7 6.9m3.8-5.2c-.2-.1-1.3-.6-1.4-.7-.2-.1-.3-.1-.5.1-.1.2-.5.7-.7.8-.1.1-.2.2-.5.1-.2-.1-.9-.3-1.7-1-.6-.6-1.1-1.3-1.2-1.5s0-.3.1-.4.2-.2.3-.4c.1-.1.1-.2.2-.4.1-.1 0-.3 0-.4-.1-.1-.5-1.1-.7-1.6 0-.4-.2-.3-.3-.3h-.4c-.2 0-.4 0-.6.2s-.7.8-.7 1.8.8 2 .9 2.2c.1.1 1.5 2.3 3.6 3.2.5.2.9.3 1.2.4.5.2 1 .1 1.3.1.4-.1 1.3-.5 1.4-1 .2-.5.2-.9.1-1 0-.1-.2-.1-.4-.2' fill-rule='evenodd'/%3E%3C/svg%3E\");width:2.4rem;height:2.4rem}.icon__messenger{background-image:url(\"data:image/svg+xml;charset=utf-8,%3Csvg height='8' width='19' xmlns='http://www.w3.org/2000/svg' fill='%233A4253'%3E%3Cpath d='M0 8l7.24-3.742L10.956 8 19 0l-7.217 3.743L7.953 0z'/%3E%3C/svg%3E\")}.icon__facebook{background-image:url(\"data:image/svg+xml;charset=utf-8,%3Csvg height='24' width='24' xmlns='http://www.w3.org/2000/svg' fill='%233A4253'%3E%3Cpath d='M9 9.96h1.5V8.454c0-.664.017-1.69.483-2.325C11.475 5.457 12.15 5 13.311 5 15.203 5 16 5.278 16 5.278l-.374 2.298S15 7.39 14.417 7.39c-.583 0-1.106.215-1.106.819V9.96h2.392l-.166 2.243H13.31V20H10.5v-7.796H9z' fill-rule='evenodd'/%3E%3C/svg%3E\");width:2.4rem;height:2.4rem}.icon__email{background-image:url(\"data:image/svg+xml;charset=utf-8,%3Csvg height='24' width='24' xmlns='http://www.w3.org/2000/svg' fill='%233A4253'%3E%3Cpath d='M17.077 9.255V7.923L12 11.238 6.923 7.923v1.332L12 12.538l5.077-3.283zM16.817 7c.327 0 .606.127.837.38.23.253.346.552.346.897v7.6c0 .345-.115.643-.346.897-.23.253-.51.38-.837.38H7.183c-.327 0-.606-.127-.837-.38S6 16.222 6 15.877v-7.6c0-.345.115-.644.346-.897.23-.253.51-.38.837-.38z' fill-rule='evenodd'/%3E%3C/svg%3E\");width:2.4rem;height:2.4rem}.icon__twitter{background-image:url(\"data:image/svg+xml;charset=utf-8,%3Csvg height='24' width='24' xmlns='http://www.w3.org/2000/svg' fill='%233A4253'%3E%3Cpath d='M15.385 6c-1.7 0-3.077 1.47-3.077 3.281 0 .259.027.509.08.749-2.558-.138-4.826-1.443-6.344-3.428a3.436 3.436 0 0 0-.416 1.65c0 1.137.543 2.143 1.369 2.73a2.915 2.915 0 0 1-1.394-.41v.041c0 1.59 1.06 2.917 2.468 3.218a2.88 2.88 0 0 1-1.39.055c.392 1.305 1.528 2.254 2.875 2.28A5.936 5.936 0 0 1 5 17.526 8.315 8.315 0 0 0 9.718 19c5.66 0 8.756-5.001 8.756-9.337 0-.143-.003-.284-.01-.425A6.503 6.503 0 0 0 20 7.539a5.831 5.831 0 0 1-1.767.516 3.262 3.262 0 0 0 1.353-1.815 5.949 5.949 0 0 1-1.954.797A2.99 2.99 0 0 0 15.385 6' fill-rule='evenodd'/%3E%3C/svg%3E\");width:2.4rem;height:2.4rem}.btn--premium{background-color:#ffc700;padding:.5rem 1.5rem}@media (min-width:320px){.btn--premium{padding:.8rem 1.6rem}}.button{border-radius:.4rem;display:inline-block;font-weight:600}.button{font-family:Helvetica,Arial,Roboto,sans-serif}html.fonts-loaded .button{font-family:\"Marr Sans\",Helvetica,Arial,Roboto,sans-serif}.button--dark{background-color:#2a303b;color:#fff;font-size:1.6rem;font-weight:500;width:100%;text-align:center;display:flex;align-items:center;justify-content:center;border:.1rem solid #2a303b}.button--white{background-color:#fff;color:#026b9c;font-size:1.6rem;font-weight:500;width:100%;text-align:center;display:flex;align-items:center;justify-content:center;border:0}.button--void{color:#2a303b;width:100%;text-align:center;display:flex;align-items:center;justify-content:center;border:.1rem solid #d5d8dc;font-weight:500;text-decoration:none}.message--cookie{align-items:flex-start;background-color:#eff0f3;display:flex;flex-wrap:nowrap;position:fixed;bottom:0;width:100%;z-index:1000;padding:1.6rem}@media (min-width:1024px){.message--cookie{padding:2rem}}.message--cookie p{color:#717b8e;font-size:1.3rem;line-height:1.38;margin-right:1.6rem}.message--cookie p{font-family:Helvetica,Arial,Roboto,sans-serif}html.fonts-loaded .message--cookie p{font-family:\"Marr Sans\",Helvetica,Arial,Roboto,sans-serif}.message--cookie p a{text-decoration:underline;color:#026b9c}@media (min-width:1024px){.message--cookie p{max-width:80rem}}.message--cookie .icon__cross{cursor:pointer;flex-shrink:0;border:none;padding:0;outline:inherit;height:1.5rem;width:1.5rem;background:url(\"data:image/svg+xml;charset=utf-8,%3Csvg height='15' width='15' xmlns='http://www.w3.org/2000/svg' fill='%23717b8e'%3E%3Cpath d='M5.656 7.07L0 1.414 1.414 0 7.07 5.656 12.726 0l1.414 1.414L8.484 7.07l5.656 5.656-1.414 1.414L7.07 8.484 1.414 14.14 0 12.726z' fill-rule='evenodd'/%3E%3C/svg%3E\")}.message__btn-container{margin-top:1.6rem;display:flex}@media (min-width:1024px){.message__btn-container{margin-top:0}}.message__btn-container .button{font-size:1.4rem;height:3rem}.message__btn-container .button--white{width:9.9rem;margin-left:1.2rem}.message__btn-container .button--void{background-color:transparent;width:auto;color:#717b8e;border:0;text-decoration:underline}@media (min-width:1024px){.message__btn-container .button--void{width:18.6rem}}.message__cookie-content{max-width:28rem}@media (min-width:360px){.message__cookie-content{max-width:100%}}@media (min-width:1024px){.message__cookie-content{display:flex;padding-right:3.2rem}}.message__cookie-wrapper{margin:0 auto;max-width:115.2rem;display:flex}.capping__faq{display:none}.capping__item:first-child{margin-top:1.6rem}.capping__item:not(:first-child){margin-top:3.2rem}.capping__question{font-size:1.6rem;line-height:1.375;font-weight:600}.capping__answer{font-size:1.6rem;line-height:1.375;margin-top:1.6rem}.capping__answer+.capping__answer{margin-top:0}.capping__link{margin:0;padding:0;border:0;background:0 0;color:#007ac8;cursor:pointer;font-weight:500;font-family:inherit;font-size:1.6rem}.article{margin:2.4rem 0;padding-top:2.4rem;border-top:.1rem solid #d5d8dc}.article picture{display:block;padding-top:66.66%}.article picture img{bottom:0;height:100%;left:0;position:absolute;right:0;top:0;width:100%;z-index:1}.article:after{content:\"\";display:table;clear:both}.article:nth-of-type(1){border-top:0;margin-top:0;padding-top:0}.article__desc{display:none;margin:1.6rem 0;color:#2a303b;font-size:1.5rem;line-height:1.34}.article__desc{font-family:Georgia,Droid-serif,serif}html.fonts-loaded .article__desc{font-family:\"The Antiqua B\",Georgia,Droid-serif,serif}.article__extra{align-items:center}.article__extra{font-family:Helvetica,Arial,Roboto,sans-serif}html.fonts-loaded .article__extra{font-family:\"Marr Sans\",Helvetica,Arial,Roboto,sans-serif}.article__extra--embed{margin-left:0;font-size:1.1rem;font-weight:600;position:absolute;display:flex;bottom:.8rem;color:#fff;left:.8rem;z-index:4}.article__extra--embed>:first-child{margin-right:.8rem}.article__media-container{position:relative}.article__media{display:block;float:right;font-size:0;margin-bottom:.4rem;margin-left:1.6rem;max-width:11.4rem}.article__title{color:#2a303b;font-size:1.6rem;font-weight:600;line-height:1.25}.article__title{font-family:Georgia,Droid-serif,serif}html.fonts-loaded .article__title{font-family:\"The Antiqua B\",Georgia,Droid-serif,serif}.article__kicker{color:#2a303b;font-size:1.3rem;font-weight:500;letter-spacing:.13rem;line-height:1.15;margin-bottom:.8rem;text-transform:uppercase}.article__kicker{font-family:DINCondensed-Bold,\"Roboto Condensed\",\"Arial Narrow\",sans-serif}html.fonts-loaded .article__kicker{font-family:\"Marr Sans Condensed\",DINCondensed-Bold,\"Roboto Condensed\",\"Arial Narrow\",sans-serif}.article__author{align-items:flex-start;display:flex;max-width:70%}@media (min-width:768px){.article__author{max-width:28rem}}.article__author-name{color:#2a303b;font-size:1.5rem;font-weight:500}.article__author-name{font-family:Helvetica,Arial,Roboto,sans-serif}html.fonts-loaded .article__author-name{font-family:\"Marr Sans\",Helvetica,Arial,Roboto,sans-serif}.article__author-desc{color:#717b8e;font-size:1.3rem;line-height:1.25}.article__author-desc{font-family:Helvetica,Arial,Roboto,sans-serif}html.fonts-loaded .article__author-desc{font-family:\"Marr Sans\",Helvetica,Arial,Roboto,sans-serif}.article--nav .article__kicker{margin-top:1.6rem}.article--nav .article__media{max-width:100%;float:none;margin-left:0}@media (min-width:768px){.article--nav .article__author{margin-top:.8rem}}.article--nav .article__author-name{font-size:1.3rem;line-height:1.25}.article__siblings-title{font-size:2.4rem;line-height:1.25;letter-spacing:.022rem;color:#383f4e;font-weight:600;margin-top:1.6rem}.article__siblings-title{font-family:DINCondensed-Bold,\"Roboto Condensed\",\"Arial Narrow\",sans-serif}html.fonts-loaded .article__siblings-title{font-family:\"Marr Sans Condensed\",DINCondensed-Bold,\"Roboto Condensed\",\"Arial Narrow\",sans-serif}.article__content{padding-top:2.4rem}.article__content{font-family:Georgia,Droid-serif,serif}html.fonts-loaded .article__content{font-family:\"The Antiqua B\",Georgia,Droid-serif,serif}.article__content>:first-child{margin-top:0}.article--content .article__content a{border-bottom:.1rem solid #a4a9b4}.article--single{margin-bottom:0}.article--single h1{font-size:2.8rem}@media (min-width:1024px){.article--single h1{font-size:3.8rem}}.article--single .article__header{position:relative;padding-bottom:2rem}.article--single .article__header:after{content:\" \";display:block;width:4rem;height:.1rem;background-color:#d5d8dc;position:absolute;bottom:0}@media (min-width:576px){.article--single .article__header{padding-bottom:2.4rem;grid-column:1/span 2;grid-row:1}}@media (min-width:1024px){.article--single .article__header .article__heading{max-width:85%}}.article--single .article__header .meta__publisher{margin-left:0;display:block}@media (min-width:1024px){.article--single .article__header .meta__publisher{max-width:85%}}.article--single .article__header .meta__reading-time{float:left}@media (min-width:768px){.article--single .article__header .meta__reading-time{float:none}}.article--single .article__header .meta__social{clear:both;padding-top:1.2rem;margin-top:1.2rem;justify-content:flex-start}@media (min-width:360px){.article--single .article__header .meta__social{clear:none;padding-top:0;justify-content:flex-end}}@media (min-width:768px){.article--single .article__header .meta__social{position:absolute;top:-.8rem;right:0;z-index:4;margin-top:0}}.article--single .article__title{font-size:2.6rem;line-height:1.25;font-weight:700;margin-top:1.2rem}@media (min-width:576px){.article--single .article__title{font-size:2.8rem;line-height:1.14}}@media (min-width:768px){.article--single .article__title{font-size:3.4rem;line-height:1.11;font-weight:500}}@media (min-width:1024px){.article--single .article__title{font-size:3.8rem}}.article--single .article__desc{line-height:1.5;display:block;font-size:1.6rem;letter-spacing:.02rem;font-weight:500;margin-top:.8rem;margin-bottom:0}.article--single .article__desc{font-family:Helvetica,Arial,Roboto,sans-serif}html.fonts-loaded .article--single .article__desc{font-family:\"Marr Sans\",Helvetica,Arial,Roboto,sans-serif}@media (min-width:576px){.article--single .article__desc{font-size:1.7rem;line-height:1.41;letter-spacing:.021rem}}@media (min-width:768px){.article--single .article__desc{font-size:1.8rem;line-height:1.33;letter-spacing:.022rem}}@media (min-width:1024px){.article--single .article__desc{font-size:1.8rem;line-height:1.44;letter-spacing:.009rem}}.article--single .article__media{float:none;margin-left:0;max-width:100%;margin-bottom:0;position:relative;padding-top:0}.article--single .article__media img{position:relative}@media (min-width:1024px){.article--iso .article__siblings--iso .article__siblings-title{display:none}}@media (min-width:1024px){.article__wrapper{grid-row:2;grid-column:1}}.Nav__item a{transition:all .2s cubic-bezier(.215,.61,.355,1)}.Burger__right-arrow:after,.Nav__container--default a:after{content:\" \";background-image:url(\"data:image/svg+xml;charset=utf-8,%3Csvg width='5' height='10' xmlns='http://www.w3.org/2000/svg'%3E%3Cpath d='M.319 10a.32.32 0 0 1-.123-.024A.332.332 0 0 1 0 9.668c0-.092.03-.17.091-.235l4.162-4.467L.155.576A.338.338 0 0 1 .064.338c0-.094.03-.174.09-.24A.293.293 0 0 1 .379 0C.466 0 .54.033.601.098L4.91 4.73c.06.065.091.144.091.235s-.03.17-.091.234L.537 9.902a.297.297 0 0 1-.104.074.298.298 0 0 1-.114.024z' fill='%232A303B' fill-rule='evenodd'/%3E%3C/svg%3E\");position:absolute;width:.5rem;height:1rem;right:0;top:50%;-webkit-transform:translateY(-50%);transform:translateY(-50%)}.Burger{cursor:pointer;display:flex;justify-content:center;align-content:center;width:5.6rem;background:0 0;border:0}.Burger__icon{background-position:center;background-size:contain;background-repeat:no-repeat;display:flex;flex-shrink:0;height:2.4rem;width:2.4rem;background-image:url(\"data:image/svg+xml;charset=utf-8,%3Csvg width='24' height='24' xmlns='http://www.w3.org/2000/svg'%3E%3Cpath d='M3 18h18v-2H3v2zM3 8h18V6H3v2zm0 5h18v-2H3v2z' fill='%232A303B' fill-rule='evenodd'/%3E%3C/svg%3E\");align-self:center}@media (min-width:1024px){.Burger{display:none}}.Burger__right-arrow:after{display:none}#Header{align-items:center;background-color:#fcfcfd;position:fixed;z-index:7;width:100%;transition:top .2s cubic-bezier(.215,.61,.355,1),opacity .4s ease,visibility .2s ease-in-out;top:0}@media (min-width:1024px){#Header{position:relative}}#Header .wrapper{display:flex;height:100%;margin:0 auto;max-width:115.2rem;width:100%;padding:0}@media (min-width:1024px){#Header .wrapper{padding:0 1.6rem}}#Header .center,#Header .left,#Header .right{display:flex;height:100%;position:relative}#Header .left{justify-content:flex-start;width:5.6rem}@media (min-width:1024px){#Header .left{width:100%}}@media (min-width:1024px){#Header .left{padding-left:1.6rem}}@media (min-width:1200px){#Header .left{padding-left:0}}#Header .center{flex-direction:column;align-self:center;justify-content:center}@media (min-width:1024px){#Header .center{flex-direction:row;width:100%}}#Header .right{justify-content:flex-end;margin-left:auto;padding-right:1.6rem}@media (min-width:1200px){#Header .right{padding-right:0}}@media (min-width:1024px){#Header .right{flex-direction:row;width:100%}}#Header .right .btn--premium{border:.1rem solid #ffc700;font-size:1.3rem;display:flex;align-self:center}@media (min-width:1024px){#Header .right .btn--premium{font-size:1.4rem}}#Header .Header{border-bottom:.1rem solid #eff0f3;background-color:#fff;display:flex;flex-direction:column;height:auto;position:relative}@media (min-width:1024px){#Header .Header{height:13rem;transition:height .4s ease-in-out}}#Header .Header .wrapper{height:6rem;padding:1.2rem 0}@media (min-width:1024px){#Header .Header .wrapper{height:100%;padding:0}}#Header .Header__jelec{align-items:center;align-self:flex-end;background-image:url(\"data:image/svg+xml;charset=utf-8,%3Csvg height='206' width='276' xmlns='http://www.w3.org/2000/svg'%3E%3Cmask id='a' fill='%23fff'%3E%3Cpath d='M0 .328v26.484h30.017V.328z' fill-rule='evenodd'/%3E%3C/mask%3E%3Cg fill='none' fill-rule='evenodd'%3E%3Cpath d='M0 0h276v206H0z' fill='%23fff'/%3E%3Cg opacity='.898'%3E%3Cpath d='M87.986 19.294c-.111-.52-1.01-1.712-2.017-1.712-.225 0-.374.038-.523.077.97.372 1.718 1.336 1.943 2.008l.56-.335v-.038h.037zm6.566 23.062l-3.736-2.455c-.449-.296-.971-.854-.971-1.895v-8.893l-.374.225-.149.074v8.853c0 .745.41 1.526.97 1.897l3.775 2.492zM78.648 33.43c.074-1.525-.26-3.385-.596-5.172-.336-1.821-.637-3.683-.6-5.317.039-1.003.225-1.97.636-2.863-.71 1.077-1.157 2.304-1.195 3.607-.112 3.161 1.42 7.289 1.269 10.49-.037.483-.074.966-.11 1.301l.073-.075c.3-.41.487-1.04.523-1.97m4.93 8.853c-.56-1.154-1.903-1.86-3.472-1.86-.15.036-.3.036-.449.036 1.532.262 2.838 1.117 3.325 2.195zm13.248-13.131l-1.271-1.45.038.966.671.819zm35.463-7.774l-2.989-1.75.449-.296 2.876 1.675c-.112.111-.224.222-.336.371m.747 21.203l-1.307-.894c-.86-.595-1.307-1.6-1.307-2.715V26.547c0-1.711.374-2.902.97-3.719-.335.817-.485 1.822-.485 2.976l.037 12.72c0 1.377.411 2.27 1.383 2.94l1.195.82-.486.297zm-10.607-.113s-.112.075-.186.113h-.3V21.825c0-1.004-.074-1.004-.67-1.452l-.86-.669.561-.297c.448.37 1.12.893 1.12.93.262.26.335.408.335 1.004v21.163-.036zm-15.203-25.405c-.298.856-.26 1.674.112 2.344.338.594.934 1.004 1.646 1.19-2.205.185-3.175-1.562-1.758-3.534m5.828 17.892c.186-.596.262-1.266.262-1.972V22.158c0-1.302-.076-1.449-.524-1.858h.075c.635-.112.971 0 .971 1.114v10.862c0 1.265-.223 2.083-.784 2.679m.671 7.626c-.297-.968-1.195-1.787-2.763-2.01.225-.036.449-.036.674-.036 1.94.036 2.501 1.226 2.613 1.599l.038.11zm55.278-.261l-1.119-.669c-1.009-.597-1.532-1.525-1.532-2.94v-10.08c0-.595-.036-.557-.262-.744 0 0-.784-.632-1.307-1.042l-.56.3 1.083.816c.598.446.524.483.524 1.377v9.782c0 1.34.56 2.269 1.343 2.718l1.345.743.485-.261zm-10.459.184V27.366l-.485-.557-.597.336.56.631v14.805h.3c.074-.038.186-.077.186-.077zm-11.831-.11l-4.296-2.568c-.86-.52-1.194-1.151-1.194-2.268v-8.406l-.374.186-.15.074v8.555c0 1.005.447 1.747 1.233 2.196l4.294 2.491.487-.26zm2.316-4.76v-8.482c0-.447-.148-.597-.486-.782l-1.756-1.04v.557l1.01.557c.746.409.746.484.746 1.267l-.036 7.624zm34.048-15.326v-.112c0-1.042-.634-2.12-1.608-2.678-.372-.224-.707-.41-.707-.41l-.447.299.26.147c1.268.708 1.981 1.6 1.981 3.05l.521-.296zm13.6 20.048l-3.772-2.455c-.447-.296-.971-.854-.971-1.895v-8.893l-.374.225-.15.074v8.74c0 .968.375 1.639 1.009 2.048l3.735 2.454zm-15.915 0l-4.036-2.53c-.969-.593-1.157-1.152-1.157-2.233v-7.995l-.299.15-.224.11v7.923c0 1.266.412 1.824 1.046 2.233l4.183 2.64.487-.298zm17.965-13.204l-1.27-1.45.038.966.67.819zm-15.5 8.406V25.765l-.67.337v11.12z' fill='%238f98a9'/%3E%3Cg fill='%231a171b'%3E%3Cpath d='M16.806 23.69l-.447-.893-1.156.742c-.859-1.043-2.242-2.27-5.528-2.27-3.474-.036-7.733 2.716-9.675 5.097l.337.446c2.65-1.749 5.379-2.528 7.769-2.528 1.943 0 3.548.93 4.22 2.305zm3.588-20.388C19.721 2.261 17.929.328 14.38.328 10.123.29 6.389 3.6 6.239 7.618c-.114 3.2 1.418 7.329 1.268 10.528-.073 1.08-.3 1.86-.746 2.454l.447.523 2.616-1.898c1.27-.933 1.98-2.084 1.942-4.092-.038-2.493-1.196-6.324-1.196-9.262 0-2.53.972-4.427 3.175-4.427 1.495 0 2.69 1.524 2.876 2.38.076.408 0 .595-.373.855l-1.045.709V6.54l5.191-3.238zm9.623 9.896l-5.005-5.505-7.808 4.537v1.041l1.607-.89v10.304c0 .593.224.966.597 1.227l4.147 2.677 5.865-3.386-.486-1.041-3.063 1.637-2.764-1.898c-.336-.221-.374-.445-.374-.93v-3.347zm-3.923.819l-3.36 2.082v-5.431l.298-.185 3.062 3.534z' mask='url(%23a)' transform='translate(72 15.321)'/%3E%3Cpath d='M115.071 41.873c-.373-1.043-1.455-2.12-3.399-2.195-1.831-.037-4.446.67-6.61 2.308l-.413-.522c1.57-1.712 5.23-4.463 9.076-4.501 2.02 0 3.438.67 4.447 1.749l1.682-.93.485.967-5.268 3.124zm23.047-22.803c-1.46.856-1.945 2.01-1.945 3.796V37.11c0 .896.113 1.302.598 1.565l.486.26 1.344-.783.45.895-4.67 2.79-1.606-1.08c-.712-.483-1.011-1.079-1.011-2.233v-12.72c0-2.38.749-3.646 1.795-4.426l.598-.446-4.408-2.568-1.98 1.19v18.525c0 1.562-.224 1.785-1.608 2.492 0 0-1.08.521-2.572 1.302h-.3V21.341c0-1.004-.113-1.228-.674-1.674l-1.567-1.264-1.906 1.077v10.64c0 1.859-.298 3.198-1.792 4.127l-3.734 2.344-.376-.631c1.16-.895 1.42-2.16 1.42-3.648v-10.86c0-1.6-.222-2.232-1.905-1.934-.634.11-1.605.26-2.203.334-2.466.336-3.513-1.413-1.831-3.607 0 0 .411-.559 1.456-1.899l.824.56-.6.855c-.783 1.118-.148 1.712 1.123 1.264a107.08 107.08 0 0 0 2.576-1.005c3.547-1.375 4.855.894 5.042 2.234l4.409-2.641 3.807 2.9 4.705-2.9 3.625 2.046c1.232.705 1.83.408 2.69-.04l.71-.37.559.93-1.53.891zm17.298 18.265l-.337-.818-1.307.668v-10.08c0-.518-.185-.928-.708-1.228l-4.82-2.863-7.807 4.537v1.08l1.608-.93v9.857c0 .892.221 1.228.784 1.562l4.743 2.79 7.844-4.575zm18.519 2.12l-.373-.856-1.384.783-.483-.298c-.523-.298-.636-.672-.636-1.563V26.845c0-.856-.186-1.226-.71-1.599l-2.877-2.158-4.445 2.53-2.352-2.53-4.707 2.865.636.742 1.605-.964 1.157 1.3v14.807h.3c1.868-.822 2.465-1.08 2.465-1.08.896-.374 1.159-.67 1.159-1.71V26.694l1.532-.891 1.793 1.414c.484.408.558.743.558 1.375l.038 10.119c0 1.114.337 1.747 1.083 2.194l1.57.932zm-24.085-.557l-.223.038-3.065-1.787c-.52-.298-.635-.632-.635-1.303l.039-9.782.223-.075 2.952 1.712c.596.335.709.633.709 1.264v9.933zm34.05 0l-.225.038-2.652-1.714c-.521-.334-.708-.595-.708-1.262v-9.486l3.323-2.01.261.149zm5.527-1.525l-.335-.856-1.346.705v-15.77c0-2.306-1.045-3.793-2.763-4.835l-1.68-1.043-5.268 3.05 1.045.484 1.72-.929 1.119.631c1.196.67 1.98 2.011 1.98 3.386v.594l-9.039 5.207v1.006l1.531-.819v9.45c0 .815.224 1.152.747 1.486l4.482 2.79 7.807-4.537zm14.53-8.853l-5.044-5.506-7.806 4.537v1.042l1.606-.892v10.305c0 .594.224.966.597 1.227l4.147 2.678 5.863-3.386-.446-1.042-3.064 1.637-2.764-1.898c-.375-.26-.41-.445-.41-.929v-3.348zm-3.96.818l-3.362 2.083v-5.432l.337-.185z'/%3E%3C/g%3E%3C/g%3E%3Cpath d='M24 52h228v3H24z' fill='%2336819f'/%3E%3Cpath d='M30 35h26v2H30zm-3-3h29v2H27zm1-3h28v2H28zm3-3h25v2H31z' fill='%23e2e4e9'/%3E%3Cpath d='M24 65h160v8H24zm0 13h110v8H24z' fill='%23bdc1c8' opacity='.585'/%3E%3Cpath d='M24 109h23v3H24zm0-7h38v3H24zm0-6h38v3H24z' fill='%23e2e4e9'/%3E%3Cpath d='M24 132h38v3H24z' fill='%2336819f' opacity='.55'/%3E%3Cpath d='M24 158h38v3H24zm0-6h38v3H24zm0-6h38v3H24zm0-6h38v3H24zm0 57h38v3H24zm0-6h38v3H24zm0-6h38v3H24zm0-6h38v3H24z' fill='%23e2e4e9'/%3E%3Cpath d='M24 172h18v3H24z' fill='%2336819f' fill-opacity='.55'/%3E%3Cpath d='M214 156h38v3h-38zm0-6h38v3h-38zm0-6h38v3h-38zm0-6h38v3h-38zm0 62h38v3h-38zm0-6h38v3h-38zm0-6h38v3h-38zm0-6h38v3h-38z' fill='%23e2e4e9'/%3E%3Cpath d='M214 175h18v3h-18zm0-44h18v3h-18zm0-61h18v3h-18z' fill='%2336819f' fill-opacity='.55'/%3E%3Cpath d='M214 114h27v3h-27zm0-6h38v3h-38zm0-6h38v3h-38zm0-6h38v3h-38zm0-6h38v3h-38zm0-6h38v3h-38zm0-6h38v3h-38zM72 96h38v3H72zm0 6h38v3H72zm0 6h38v3H72zm49 0h15.41v3H121zm0-6h38v3h-38zm0-6h38v3h-38zm45 12h28v3h-28zm0-6h38v3h-38zm0-6h38v3h-38z' fill='%23e2e4e9'/%3E%3Cpath d='M72.735 130.194h132v77h-132z' fill='%2336819f'/%3E%3Cg fill='%23fff'%3E%3Cpath d='M122 141h65v6h-65zm0 11h65v6h-65zm0 10h45v6h-45z' fill-opacity='.36'/%3E%3Cpath d='M90 185h30v3H90zm0 7h30v3H90zm0 7h25v3H90zm38-14h30v3h-30zm0 7h30v3h-30zm0 7h30v3h-30z' opacity='.175'/%3E%3Cpath d='M104.576 142.326l2.706 2.43c-3.348 3.486-3.256 5.046-1.697 6.926 2.156 2.477.734 6.834-3.348 6.834-5.32 0-7.567-8.622 2.34-16.19zm-11.42 0l2.706 2.43c-3.348 3.486-3.256 5.046-1.697 6.926 2.156 2.477.734 6.834-3.348 6.834-5.32 0-7.568-8.622 2.339-16.19zm89.497 39.619c5.32 0 7.568 8.622-2.293 16.236l-2.706-2.477c3.302-3.486 3.21-5.045 1.651-6.925-2.11-2.477-.688-6.834 3.348-6.834zm-11.42 0c5.32 0 7.567 8.622-2.34 16.236l-2.66-2.477c3.303-3.486 3.211-5.045 1.652-6.925-2.11-2.477-.688-6.834 3.348-6.834z' opacity='.786'/%3E%3C/g%3E%3C/g%3E%3C/svg%3E\");background-repeat:no-repeat;color:#717b8e;display:none;flex-direction:column;font-size:1.3rem;font-weight:500;height:5.4rem;line-height:1.1;text-decoration:none;background-size:contain;background-position:center;width:8rem;border:.1rem solid #eff0f3;padding-left:7rem}#Header .Header__jelec{font-family:Helvetica,Arial,Roboto,sans-serif}html.fonts-loaded #Header .Header__jelec{font-family:\"Marr Sans\",Helvetica,Arial,Roboto,sans-serif}@media (min-width:1024px){#Header .Header__jelec{display:flex}}#Header .Header__jelec p{margin-left:9rem;height:5.4rem;line-height:1.6rem;padding-top:1rem}#Header .Header__logo{align-self:flex-start;margin-bottom:0;padding-left:0}@media (min-width:1024px){#Header .Header__logo{align-self:center;padding-left:0}}#Header .Header__logo a{align-items:center;display:flex;width:8.9rem;height:2rem;justify-content:center}@media (min-width:360px){#Header .Header__logo a{width:9.9rem;height:2.3rem}}@media (min-width:768px){#Header .Header__logo a{height:3rem;width:13.8rem}}@media (min-width:1024px){#Header .Header__logo a{height:6.1rem;width:29rem}}#Header .Header__actions{align-self:center;font-size:1.2rem;justify-content:center;font-weight:500;display:flex}#Header .Header__actions{font-family:Helvetica,Arial,Roboto,sans-serif}html.fonts-loaded #Header .Header__actions{font-family:\"Marr Sans\",Helvetica,Arial,Roboto,sans-serif}@media (min-width:360px){#Header .Header__actions{font-size:1.3rem}}@media (min-width:1024px){#Header .Header__actions{font-size:1.4rem;margin-top:3.2rem}}#Header .Header__actions .login-info{display:none}@media (min-width:576px){#Header .Header__actions .login-info{display:block}}#Header .Header__actions .Header__connexion{text-decoration:none;align-self:center;display:flex;padding:.8rem 0}#Header .Header__actions .Header__connexion span{align-self:center}#Header .Header__actions .Header__connexion:after{content:\" \";width:.1rem;height:auto;background-color:#e2e4e9;display:block;margin:0 1.6rem 0 .8rem}@media (min-width:576px){#Header .Header__actions .Header__connexion:after{margin:0 1.6rem}}#nav-markup{overflow-x:scroll;overflow-y:hidden;position:static;width:100%}@media (min-width:1024px){#nav-markup{overflow:hidden}}body{overflow-x:hidden}@media (min-width:768px){body{overflow-x:visible}}#nav-desktop .Nav__item:nth-child(2),#nav-desktop .Nav__item:nth-child(3){position:relative}@media (min-width:768px){#nav-desktop{position:static}}#nav-desktop.Nav--hidden{display:none}@media (min-width:1024px){#nav-desktop.Nav--hidden{display:flex}}.Nav{background-color:#fff;padding-top:6rem;align-items:center;color:#000b15;height:auto;position:relative;width:100%;z-index:6}@media (min-width:1024px){.Nav{padding-top:0}}.Nav .wrapper{display:flex;height:100%;margin:0 auto;max-width:115.2rem;width:100%;padding:0;overflow-y:hidden;overflow-x:scroll}.Nav .wrapper>ul{white-space:nowrap;display:flex}@media (min-width:576px){.Nav .wrapper{overflow-x:hidden}.Nav .wrapper>ul{white-space:normal}}@media (min-width:1024px){.Nav .wrapper{overflow-x:hidden;padding:0 1.6rem}}@media (min-width:1200px){.Nav .wrapper{padding:0}}@media (min-width:1024px){.Nav{box-shadow:0 .4rem .4rem 0 rgba(0,0,0,.04);border-top:.4rem solid #026b9c;height:5.8rem;border-bottom:.1rem solid #eff0f3}}.Nav ul{list-style:none}.Nav__item{align-items:center;display:flex;height:100%;flex-shrink:0;font-size:1.4rem;font-weight:500;text-decoration:none;border-bottom:.1rem solid #eff0f3}.Nav__item{font-family:DINCondensed-Bold,\"Roboto Condensed\",\"Arial Narrow\",sans-serif}html.fonts-loaded .Nav__item{font-family:\"Marr Sans Condensed\",DINCondensed-Bold,\"Roboto Condensed\",\"Arial Narrow\",sans-serif}@media (min-width:1024px){.Nav__item{padding:0;font-size:1.7rem;border-bottom:0}}.Nav__item>a{transition:hover .2s cubic-bezier(.215,.61,.355,1);text-transform:uppercase;letter-spacing:.06rem}.Nav__item>a:not(:last-child){padding:1.6rem 1.2rem}@media (min-width:1024px){.Nav__item>a:not(:last-child){padding:1.6rem 2rem}}@media (min-width:1200px){.Nav__item>a:not(:last-child){padding:1.6rem 3.2rem}}.Nav__item a{text-decoration:none;display:inherit;color:#2a303b;position:relative}.Nav__item:nth-child(n+3):not(:last-child)>a:after{position:relative;content:\" \";background-repeat:no-repeat;align-self:center;height:1.4rem;width:1.4rem;margin-left:.4rem;background-image:url(\"data:image/svg+xml;charset=utf-8,%3Csvg xmlns='http://www.w3.org/2000/svg' width='14' height='14' fill='%23A4A9B4'%3E%3Cpath d='M3.944 4.5L3 5.455 7 9.5l4-4.045-.944-.955L7 7.607z' fill-rule='evenodd'/%3E%3C/svg%3E\");-webkit-transform:none;transform:none}.Nav__item:last-child{padding-right:4rem}@media (min-width:768px){.Nav__item:last-child{padding:1.6rem}}.Nav__item:last-child a{width:1.6rem;height:100%;flex-direction:column;align-self:center;justify-content:center}.Nav__item:last-child span{width:1.6rem;height:1.6rem}.Nav__item:nth-child(2){padding:0;border-right:.1rem solid #eff0f3}@media (min-width:1024px){.Nav__item:nth-child(2){border-right:none}}.Nav__item:nth-child(2) a{padding:1.6rem}@media (min-width:1024px){.Nav__item:nth-child(2) a{margin-right:1.6rem}}@media (min-width:1024px){.Nav__item--extended:before{display:none}}.Nav__item:nth-child(3){padding:0;border-right:.1rem solid #eff0f3}.Nav__item:nth-child(3) a{padding:1.6rem}.Nav__item:nth-child(3) a:after{display:none}@media (min-width:1024px){.Nav__item:nth-child(3){display:none;border-right:none}}.Nav__item:nth-child(4) a:after{display:block}.Nav__sub-item{background-color:#f5f6f8;width:100%;position:absolute;z-index:5;top:11.6rem;left:0;visibility:hidden;-webkit-transform:scaleY(0);transform:scaleY(0);padding:3.6rem 2rem}@media (min-width:1024px){.Nav__sub-item{top:5.3rem;z-index:-1;padding:5.2rem 2rem}}.Nav__sub-item a{z-index:-1;visibility:hidden}.Nav__sub-item .wrapper{overflow-y:scroll;height:calc(100vh - 15rem)}@media (min-width:768px){.Nav__sub-item .wrapper{overflow-y:visible;height:auto}}@media (min-width:1024px){.Nav__sub-item .wrapper{padding:0}}.Nav__sub-item--actualites span{margin-bottom:2rem;display:block}.Nav__sub-item--actualites .Nav__container--left{display:none}@media (min-width:576px){.Nav__sub-item--actualites .Nav__container--left{display:block}.Nav__sub-item--actualites .Nav__container--left li{display:inline;float:left;margin-right:1.2rem;margin-bottom:1.2rem}.Nav__sub-item--actualites .Nav__container--left a{color:#2a303b;font-size:1.2rem;font-weight:500;letter-spacing:.01rem;border-radius:.4rem;border:.1rem solid #d5d8dc;padding:.8rem 1.2rem}.Nav__sub-item--actualites .Nav__container--left a{font-family:Helvetica,Arial,Roboto,sans-serif}html.fonts-loaded .Nav__sub-item--actualites .Nav__container--left a{font-family:\"Marr Sans\",Helvetica,Arial,Roboto,sans-serif}}.Nav__sub-item--actualites .Nav__container--right{display:block}@media (min-width:768px){.Nav__sub-item--actualites .Nav__container--right{width:100%}}.Nav__sub-item--services>.wrapper{flex-direction:column}@media (min-width:1024px){.Nav__sub-item--services .Nav__container--mobile{display:flex}}.Nav__sub-item--services .Nav__container--right{display:block}.Nav__sub-item--services .Nav__container--right span{font-weight:500;text-transform:uppercase}@media (min-width:768px){.Nav__sub-item--services .Nav__container--right span{font-size:2.2rem;font-weight:500;text-transform:none}}.Nav__sub-item--services .Nav__container--left{margin-bottom:3.2rem;flex-direction:column}@media (min-width:576px){.Nav__sub-item--services .Nav__container--left{margin-bottom:0}}@media (min-width:360px){.Nav__sub-item--services .Nav__container--left ul{-webkit-columns:14rem;-moz-columns:14rem;columns:14rem;-webkit-column-count:2;-moz-column-count:2;column-count:2;grid-column-gap:4.8rem;-webkit-column-gap:4.8rem;-moz-column-gap:4.8rem;column-gap:4.8rem}}@media (min-width:1024px){.Nav__sub-item--services .Nav__container--left ul{-webkit-columns:17rem;-moz-columns:17rem;columns:17rem;-webkit-column-count:2;-moz-column-count:2;column-count:2;grid-column-gap:4rem;-webkit-column-gap:4rem;-moz-column-gap:4rem;column-gap:4rem;padding-right:6.8rem}}.Nav__sub-item--services .Nav__container--left li{-webkit-column-break-inside:avoid;break-inside:avoid-column;border-top:.1rem solid #e2e4e9}.Nav__sub-item--services .Nav__container--left li a{font-family:Helvetica,Arial,Roboto,sans-serif}html.fonts-loaded .Nav__sub-item--services .Nav__container--left li a{font-family:\"Marr Sans\",Helvetica,Arial,Roboto,sans-serif}@media (min-width:576px){.Nav__sub-item--services .Nav__container--left li a{font-size:1.3rem;font-weight:500;letter-spacing:normal;line-height:1.54}}@media (min-width:1024px){.Nav__sub-item--services .Nav__container--left li{max-width:27.2rem}}.Nav__sub-item--services .Nav__container--left a{padding:.8rem 0;position:relative;white-space:normal}@media (min-width:768px){.Nav__sub-item--services .Nav__container--left{border-right:.1rem solid #d5d8dc}}@media (min-width:576px){.Nav__sub-item--services .Nav__container--mobile{width:50%}.Nav__sub-item--services>.wrapper{flex-direction:row}}.Nav__container{display:none}@media (min-width:1024px){.Nav__container{padding:3.2rem 2rem}}.Nav__container ul{display:block}.Nav__container .Nav__sub-title{font-size:1.8rem}.Nav__container li{text-transform:none}.Nav__container li a{font-size:1.3rem}.Nav__container span{font-size:1.8rem;letter-spacing:.06rem;font-weight:500;text-transform:uppercase}@media (min-width:576px){.Nav__container span{font-size:2.2rem;letter-spacing:.07rem;font-weight:500}}@media (min-width:576px){.Nav__container{display:block;padding:0}.Nav__container li{width:auto}.Nav__container li .Nav__sub-title{font-size:2.2rem}.Nav__container li a{font-size:1.9rem;letter-spacing:.08rem}}.Nav__container--mobile{width:100%;display:block}@media (min-width:1024px){.Nav__container--mobile{width:auto}}.Nav__container--left{width:100%}@media (min-width:576px){.Nav__container--left{width:36rem;padding-right:1.6rem}}@media (min-width:1024px){.Nav__container--left{width:43rem}}.Nav__container--right{display:none}@media (min-width:576px){.Nav__container--right{display:block}}@media (min-width:1024px){.Nav__container--right{width:auto}}.Nav__container--default+.Nav__container--right{max-width:calc(100% - 27.2rem);width:100%}@media (min-width:1024px){.Nav__container--default+.Nav__container--right{max-width:calc(100% - 21rem)}}@media (min-width:1024px){.Nav__container--default{width:21rem;padding-right:0}}.Nav__container--default ul{-webkit-columns:14rem;-moz-columns:14rem;columns:14rem;-webkit-column-count:2;-moz-column-count:2;column-count:2;grid-column-gap:4.8rem;-webkit-column-gap:4.8rem;-moz-column-gap:4.8rem;column-gap:4.8rem}@media (min-width:360px){.Nav__container--default ul{-webkit-columns:12rem;-moz-columns:12rem;columns:12rem;-webkit-column-count:2;-moz-column-count:2;column-count:2;grid-column-gap:4.8rem;-webkit-column-gap:4.8rem;-moz-column-gap:4.8rem;column-gap:4.8rem}}@media (min-width:1024px){.Nav__container--default ul{-webkit-columns:27.2rem;-moz-columns:27.2rem;columns:27.2rem;-webkit-column-count:1;-moz-column-count:1;column-count:1;grid-column-gap:normal;-webkit-column-gap:normal;-moz-column-gap:normal;column-gap:normal}}.Nav__container--default li{-webkit-column-break-inside:avoid;break-inside:avoid-column;border-top:.1rem solid #e2e4e9}.Nav__container--default li:first-child{border-top:0}.Nav__container--default li:first-child a{text-transform:uppercase;font-weight:500;letter-spacing:.07rem}@media (min-width:1024px){.Nav__container--default li{max-width:27.2rem}}.Nav__container--default a{padding:.8rem 0;position:relative;letter-spacing:.06rem}.Nav__content--list a{padding:1.2rem 0;position:relative}.Nav__content--list ul{-webkit-column-count:2;-moz-column-count:2;column-count:2;grid-column-gap:2rem;-webkit-column-gap:2rem;-moz-column-gap:2rem;column-gap:2rem;-webkit-column-width:10rem;-moz-column-width:10rem;column-width:10rem}@media (min-width:360px){.Nav__content--list ul{-webkit-column-count:2;-moz-column-count:2;column-count:2;grid-column-gap:4.9rem;-webkit-column-gap:4.9rem;-moz-column-gap:4.9rem;column-gap:4.9rem;-webkit-column-width:14rem;-moz-column-width:14rem;column-width:14rem}}@media (min-width:1024px){.Nav__content--list ul{grid-column-gap:normal;-webkit-column-gap:normal;-moz-column-gap:normal;column-gap:normal;-webkit-column-count:auto;-moz-column-count:auto;column-count:auto;-webkit-column-width:21rem;-moz-column-width:21rem;column-width:21rem}}@media (min-width:1200px){.Nav__content--list ul{-webkit-column-width:24.3rem;-moz-column-width:24.3rem;column-width:24.3rem}}.Nav__content--list li{-webkit-column-break-inside:avoid;break-inside:avoid-column;border-top:.1rem solid #e2e4e9}@media (min-width:1024px){.Nav__content--list li{margin-right:3.2rem}}.Nav__content--media .article__title{font-size:1.4rem;line-height:1.29;letter-spacing:normal;text-align:left}.Nav__content--column{display:flex;width:100%;flex-direction:column}@media (min-width:767px){.Nav__content--column{flex-direction:row}}.Nav__content--column ul{font-family:Helvetica,Arial,Roboto,sans-serif}html.fonts-loaded .Nav__content--column ul{font-family:\"Marr Sans\",Helvetica,Arial,Roboto,sans-serif}.Nav__content--column li{line-height:2.3;color:#a4a9b4}.Nav__content--column li a{display:inline;font-weight:500;letter-spacing:normal;color:#2a303b}@media (min-width:576px){.Nav__content--column li a{font-size:1.3rem}}.Nav__content--column>div{padding:0;width:100%}@media (min-width:576px){.Nav__content--column>div{padding:0 .8rem 0 1.2rem}}@media (min-width:1024px){.Nav__content--column>div{width:50%}}@media (min-width:1024px){.Nav__content--column>div{padding:0 6rem 0 2.4rem}}.Nav__content--column>div:first-child{margin-bottom:3.2rem}@media (min-width:768px){.Nav__content--column>div:first-child{border-right:.1rem solid #d5d8dc}}@media (min-width:768px){.Nav__content--column>div:first-child{margin-bottom:0}}.Nav__content--column>div:first-child ul{list-style-position:inside;list-style-type:disc}@media (min-width:768px){.Nav__content--column>div:first-child ul{padding:1.2rem 0}}@media (min-width:1024px){.Nav__content--column>div:first-child ul{padding:.8rem 0}}.Nav__content--column>div:nth-child(2) ul:nth-child(2){border-bottom:.1rem solid #d5d8dc;padding:.8rem 0}.Nav__content--column>div:nth-child(2) ul:nth-child(3){padding:.8rem 0 1.2rem}.Nav__content--column>div:nth-child(2) ul:nth-child(3) li{line-height:2.3}.Nav__content--column span{line-height:1.25;letter-spacing:.03rem;text-transform:none;margin-bottom:2rem}@media (min-width:1024px){.Nav__content--column span{line-height:1.6}}@media (min-width:576px){.Nav__content-wrapper{flex-wrap:wrap;justify-content:space-between;align-content:center;display:flex;padding-left:6.4rem}.Nav__content-wrapper .article{display:block;width:calc(50% - 1.6rem);max-width:none;margin-bottom:1.6rem}}@media (min-width:1024px){.Nav__content-wrapper{flex-wrap:nowrap}.Nav__content-wrapper .article{max-width:18rem;width:100%;display:block;border-bottom:0;margin:0;padding-top:0;border-top:0}.Nav__content-wrapper .article:not(:last-child){margin:0 3.2rem 0 0}}.Nav__content-wrapper .article__author{flex-direction:column}.Nav .js-burger-to-show{display:none;font-size:1.6rem;line-height:1.88}.Nav__mobile{transition:left .2s cubic-bezier(.215,.61,.355,1);position:absolute;top:0;background-color:#fcfcfd;z-index:50;width:100vw;height:calc(100vh - 6rem);overflow-y:scroll;left:-100vw}@media (min-width:1024px){.Nav__mobile{display:none}}.overlay{width:100%;height:100%;background-color:rgba(0,0,0,.6);position:fixed;z-index:4;top:0;overflow:hidden;visibility:hidden;opacity:0;transition:visibility .1s ease,opacity .2s ease-in-out}.meta{display:flex;margin-left:auto;list-style:none}.meta{font-family:Helvetica,Arial,Roboto,sans-serif}html.fonts-loaded .meta{font-family:\"Marr Sans\",Helvetica,Arial,Roboto,sans-serif}.meta__publisher{margin-top:1.6rem;line-height:1.42;font-size:1.4rem;color:#717b8e;letter-spacing:.02rem}@media (min-width:576px){.meta__publisher{letter-spacing:.019rem}}@media (min-width:768px){.meta__publisher{letter-spacing:.02rem}}.meta__text{letter-spacing:.02rem;line-height:1.42;color:#666e80;font-size:1.4rem;display:none}.meta__text{font-family:Helvetica,Arial,Roboto,sans-serif}html.fonts-loaded .meta__text{font-family:\"Marr Sans\",Helvetica,Arial,Roboto,sans-serif}@media (min-width:1024px){.meta__text{display:inline-flex}}.meta__text--share{margin:0 .8rem}.meta__author:after{color:#d5d8dc;content:\"\\2022\";padding:0 .4rem 0 .8rem;display:inline-block;line-height:1}.meta__author:after{font-family:\"Helvetica Neue\",Helvetica,Arial,Roboto,sans-serif}html.fonts-loaded .meta__author:after{font-family:\"Helvetica Neue\",Helvetica,Arial,Roboto,sans-serif}.meta__icon{font-size:1.4rem;position:relative}.meta__icon:not(:last-of-type){margin-right:.8rem}.meta__icon--mobile{display:inline-flex}@media (min-width:1024px){.meta__icon--mobile{display:none}}.meta__icon--desktop{display:none}@media (min-width:1024px){.meta__icon--desktop{display:inline-flex}}.meta__link{cursor:pointer}.meta__link--extend{width:3.2rem;height:3.2rem;background-size:auto;display:flex}.meta__link-sub{display:flex;align-items:center;width:100%;padding:.8rem 1.2rem;background:0 0;cursor:pointer;border:0}.meta__link-sub{font-family:Helvetica,Arial,Roboto,sans-serif}html.fonts-loaded .meta__link-sub{font-family:\"Marr Sans\",Helvetica,Arial,Roboto,sans-serif}.meta__icon-container{cursor:pointer;margin-right:1.2rem}.meta__label-sub{color:#383f4e;font-weight:500;letter-spacing:.033;font-size:1.3rem}.meta__social{margin-top:2.4rem;align-items:center;height:3.2rem}.meta__reading-time{display:flex;align-items:center;line-height:1.42;font-size:1.4rem;color:#717b8e;margin-top:1.6rem;letter-spacing:.02rem}.meta__reading-time{font-family:Helvetica,Arial,Roboto,sans-serif}html.fonts-loaded .meta__reading-time{font-family:\"Marr Sans\",Helvetica,Arial,Roboto,sans-serif}@media (min-width:576px){.meta__reading-time{letter-spacing:.019rem}}@media (min-width:768px){.meta__reading-time{letter-spacing:.02rem}}.meta__icon-desc{display:none;position:absolute;background-color:#383f4e;text-align:center;font-size:1.3rem;font-weight:500;color:#fff;border-radius:.2rem;width:16rem;bottom:-2.8rem}.meta__icon-desc{font-family:Helvetica,Arial,Roboto,sans-serif}html.fonts-loaded .meta__icon-desc{font-family:\"Marr Sans\",Helvetica,Arial,Roboto,sans-serif}.meta__icon-desc--email{right:-8.4rem}.meta__icon-desc--more{right:-.4rem}.meta__icon-desc--messenger{right:-4.4rem}.meta__icon-desc--facebook{right:-12.4rem}.meta__sub{display:none}.meta__icon-sub{color:#666e80}.meta__icon-sub:first-of-type{padding:0 1.2rem}figure{margin:0;margin-bottom:0;clear:both;margin-left:-2.4rem;margin-right:-2.4rem;margin-top:2.4rem}@media (min-width:768px){figure{margin-left:0;margin-right:0}}figcaption{background-color:transparent;margin-top:.8rem}figcaption.article__legend{padding-left:2.4rem;padding-right:2.4rem;color:#8b92a1;font-size:1.4rem;line-height:1.42}figcaption.article__legend{font-family:Helvetica,Arial,Roboto,sans-serif}html.fonts-loaded figcaption.article__legend{font-family:\"Marr Sans\",Helvetica,Arial,Roboto,sans-serif}@media (min-width:768px){figcaption.article__legend{padding-left:0;padding-right:0}}.aside__iso{display:none}@media (min-width:1024px){.aside__iso{display:block;padding-top:2.4rem;margin-bottom:4rem;grid-row:2/3;grid-column:2}}@media (min-width:1024px){.aside__iso .friend{border-top:0}.aside__iso .friend:not(:first-child){margin-top:4.8rem}}.breadcrumb{font-size:1.6rem;line-height:1.12;color:#717b8e;display:flex;text-transform:uppercase;list-style:none;align-items:center;font-weight:500;letter-spacing:.1rem;white-space:nowrap;overflow:hidden;text-overflow:ellipsis;margin-bottom:1.6rem}.breadcrumb{font-family:DINCondensed-Bold,\"Roboto Condensed\",\"Arial Narrow\",sans-serif}html.fonts-loaded .breadcrumb{font-family:\"Marr Sans Condensed\",DINCondensed-Bold,\"Roboto Condensed\",\"Arial Narrow\",sans-serif}@media (min-width:1024px){.insert{color:#2a303b;background-color:#f5f6f8;border-top:.4rem solid #2a303b;padding:0 2rem 2rem 2rem}.insert{font-family:DINCondensed-Bold,\"Roboto Condensed\",\"Arial Narrow\",sans-serif}html.fonts-loaded .insert{font-family:\"Marr Sans Condensed\",DINCondensed-Bold,\"Roboto Condensed\",\"Arial Narrow\",sans-serif}}@media (min-width:1024px){.insert__title{font-size:2.8rem;letter-spacing:.054rem;line-height:1.4;font-weight:700;margin-top:2.4rem}}@media (min-width:1024px){.insert__date{font-size:1.5rem;letter-spacing:.075rem;line-height:normal}}.insert__media{display:none}@media (min-width:1024px){.insert__media{margin-top:2.4rem;display:block;border:.1rem solid #eff0f3;box-shadow:0 .4rem .4rem 0 rgba(0,0,0,.04)}}@media (min-width:1024px){.insert__action{margin-top:1.6rem;height:4.8rem}}.friend{border-top:.1rem solid #d5d8dc;position:relative;z-index:1}.teaser__media{bottom:0;height:100%;left:0;position:absolute;right:0;top:0;width:100%;z-index:1}@media screen and (-ms-high-contrast:active) and (min-width:1024px),screen and (-ms-high-contrast:none) and (min-width:1024px){.old__zone{position:relative}.old__zone:after{content:\"\";display:table;clear:both}}@media screen and (-ms-high-contrast:active) and (min-width:1024px),screen and (-ms-high-contrast:none) and (min-width:1024px){.old__nav-services .old__nav-services-left-container{display:flex;flex-wrap:wrap;justify-content:space-between}}@media screen and (-ms-high-contrast:active) and (min-width:1024px),screen and (-ms-high-contrast:none) and (min-width:1024px){.old__nav-services .old__nav-services-left-item{width:22.5rem}}@media screen and (-ms-high-contrast:active) and (min-width:1024px),screen and (-ms-high-contrast:none) and (min-width:1024px){.old__nav-content-list .old__nav-content-list-container{display:flex;flex-wrap:wrap;justify-content:space-between}}@media screen and (-ms-high-contrast:active) and (min-width:1024px),screen and (-ms-high-contrast:none) and (min-width:1024px){.old__nav-content-list .old__nav-content-list-item{width:23.5rem}}@media screen and (-ms-high-contrast:active) and (min-width:1024px),screen and (-ms-high-contrast:none) and (min-width:1024px){.old__article-content-single{width:55.6rem;float:left;margin-right:6.4rem}}@media screen and (-ms-high-contrast:active) and (min-width:1024px),screen and (-ms-high-contrast:none) and (min-width:1024px){.article--single .old__meta-social{top:0;right:0;position:absolute}.article--single .old__aside{float:right;display:block;width:31.6rem}}@media screen and (-ms-high-contrast:active),screen and (-ms-high-contrast:none){.icon__arrow,.icon__cross,.icon__email,.icon__facebook,.icon__home,.icon__link,.icon__linkedin,.icon__messenger,.icon__nav-connexion,.icon__nav-en-continu,.icon__premium,.icon__reading-time,.icon__search,.icon__twitter,.icon__whatsapp{background-size:auto}}@media screen and (-ms-high-contrast:active) and (min-width:1024px),screen and (-ms-high-contrast:none) and (min-width:1024px){#nav-markup{overflow:hidden}}</style><link as=\"style\" href=\"//www.lemonde.fr/bucket/eae4b8f833b1dffd761375927090f9d6cda4d1e0/css/article.css\" onload=\"this.onload=null;this.rel='stylesheet'\" rel=\"preload\"/><noscript><link href=\"//www.lemonde.fr/bucket/eae4b8f833b1dffd761375927090f9d6cda4d1e0/css/article.css\" rel=\"stylesheet\"/></noscript> <style type=\"text/css\">@font-face{font-family:\"The Antiqua B\";src:url(/dist/assets/fonts/the-antiqua-b/TheAntiquaB_LT_800.eot);src:local(\"TheAntiquaB_LT_800\"),url(/dist/assets/fonts/the-antiqua-b/TheAntiquaB_LT_800.eot?#iefix) format(\"embedded-opentype\"),url(/dist/assets/fonts/the-antiqua-b/TheAntiquaB_LT_800.woff2) format(\"woff2\"),url(/dist/assets/fonts/the-antiqua-b/TheAntiquaB_LT_800.woff) format(\"woff\"),url(/dist/assets/fonts/the-antiqua-b/TheAntiquaB_LT_800.svg#TheAntiquaB_LT_800) format(\"svg\");font-display:swap;font-style:normal;font-weight:800}@font-face{font-family:\"Marr Sans Condensed\";src:url(/dist/assets/fonts/marr-sans-cond/MarrSansCondensed-Medium-Web.eot);src:url(/dist/assets/fonts/marr-sans-cond/MarrSansCondensed-Medium-Web.eot?#iefix) format(\"embedded-opentype\"),url(/dist/assets/fonts/marr-sans-cond/MarrSansCondensed-Medium-Web.woff2) format(\"woff2\"),url(/dist/assets/fonts/marr-sans-cond/MarrSansCondensed-Medium-Web.woff) format(\"woff\");font-display:swap;font-style:normal;font-weight:500}.weight--hairline{font-weight:100}.weight--thin{font-weight:200}.weight--light{font-weight:300}.weight--normal{font-weight:400}.weight--medium{font-weight:500}.weight--semibold{font-weight:600}.weight--bold{font-weight:700}.weight--extrabold{font-weight:800}.weight--black{font-weight:900}\n",
       "\n",
       "/*# sourceMappingURL=fonts.css.map*/</style> <script>!function(t){var n={};function e(r){if(n[r])return n[r].exports;var o=n[r]={i:r,l:!1,exports:{}};return t[r].call(o.exports,o,o.exports,e),o.l=!0,o.exports}e.m=t,e.c=n,e.d=function(t,n,r){e.o(t,n)||Object.defineProperty(t,n,{enumerable:!0,get:r})},e.r=function(t){\"undefined\"!=typeof Symbol&&Symbol.toStringTag&&Object.defineProperty(t,Symbol.toStringTag,{value:\"Module\"}),Object.defineProperty(t,\"__esModule\",{value:!0})},e.t=function(t,n){if(1&n&&(t=e(t)),8&n)return t;if(4&n&&\"object\"==typeof t&&t&&t.__esModule)return t;var r=Object.create(null);if(e.r(r),Object.defineProperty(r,\"default\",{enumerable:!0,value:t}),2&n&&\"string\"!=typeof t)for(var o in t)e.d(r,o,function(n){return t[n]}.bind(null,o));return r},e.n=function(t){var n=t&&t.__esModule?function(){return t.default}:function(){return t};return e.d(n,\"a\",n),n},e.o=function(t,n){return Object.prototype.hasOwnProperty.call(t,n)},e.p=\"\",e(e.s=195)}([function(t,n){var e=t.exports=\"undefined\"!=typeof window&&window.Math==Math?window:\"undefined\"!=typeof self&&self.Math==Math?self:Function(\"return this\")();\"number\"==typeof __g&&(__g=e)},function(t,n,e){var r=e(27)(\"wks\"),o=e(13),i=e(0).Symbol,c=\"function\"==typeof i;(t.exports=function(t){return r[t]||(r[t]=c&&i[t]||(c?i:o)(\"Symbol.\"+t))}).store=r},function(t,n,e){t.exports=!e(7)((function(){return 7!=Object.defineProperty({},\"a\",{get:function(){return 7}}).a}))},function(t,n,e){var r=e(4),o=e(17);t.exports=e(2)?function(t,n,e){return r.f(t,n,o(1,e))}:function(t,n,e){return t[n]=e,t}},function(t,n,e){var r=e(5),o=e(36),i=e(32),c=Object.defineProperty;n.f=e(2)?Object.defineProperty:function(t,n,e){if(r(t),n=i(n,!0),r(e),o)try{return c(t,n,e)}catch(t){}if(\"get\"in e||\"set\"in e)throw TypeError(\"Accessors not supported!\");return\"value\"in e&&(t[n]=e.value),t}},function(t,n,e){var r=e(9);t.exports=function(t){if(!r(t))throw TypeError(t+\" is not an object!\");return t}},function(t,n){var e={}.hasOwnProperty;t.exports=function(t,n){return e.call(t,n)}},function(t,n){t.exports=function(t){try{return!!t()}catch(t){return!0}}},function(t,n,e){var r=e(0),o=e(3),i=e(6),c=e(13)(\"src\"),u=Function.toString,s=(\"\"+u).split(\"toString\");e(10).inspectSource=function(t){return u.call(t)},(t.exports=function(t,n,e,u){var a=\"function\"==typeof e;a&&(i(e,\"name\")||o(e,\"name\",n)),t[n]!==e&&(a&&(i(e,c)||o(e,c,t[n]?\"\"+t[n]:s.join(String(n)))),t===r?t[n]=e:u?t[n]?t[n]=e:o(t,n,e):(delete t[n],o(t,n,e)))})(Function.prototype,\"toString\",(function(){return\"function\"==typeof this&&this[c]||u.call(this)}))},function(t,n){t.exports=function(t){return\"object\"==typeof t?null!==t:\"function\"==typeof t}},function(t,n){var e=t.exports={version:\"2.5.7\"};\"number\"==typeof __e&&(__e=e)},function(t,n,e){var r=e(43),o=e(16);t.exports=function(t){return r(o(t))}},function(t,n){t.exports={}},function(t,n){var e=0,r=Math.random();t.exports=function(t){return\"Symbol(\".concat(void 0===t?\"\":t,\")_\",(++e+r).toString(36))}},function(t,n,e){var r=e(37),o=e(23);t.exports=Object.keys||function(t){return r(t,o)}},function(t,n,e){var r=e(0),o=e(10),i=e(3),c=e(8),u=e(33),s=function(t,n,e){var a,f,l,p,h=t&s.F,d=t&s.G,v=t&s.S,y=t&s.P,m=t&s.B,g=d?r:v?r[n]||(r[n]={}):(r[n]||{}).prototype,x=d?o:o[n]||(o[n]={}),w=x.prototype||(x.prototype={});for(a in d&&(e=n),e)l=((f=!h&&g&&void 0!==g[a])?g:e)[a],p=m&&f?u(l,r):y&&\"function\"==typeof l?u(Function.call,l):l,g&&c(g,a,l,t&s.U),x[a]!=l&&i(x,a,p),y&&w[a]!=l&&(w[a]=l)};r.core=o,s.F=1,s.G=2,s.S=4,s.P=8,s.B=16,s.W=32,s.U=64,s.R=128,t.exports=s},function(t,n){t.exports=function(t){if(null==t)throw TypeError(\"Can't call method on  \"+t);return t}},function(t,n){t.exports=function(t,n){return{enumerable:!(1&t),configurable:!(2&t),writable:!(4&t),value:n}}},function(t,n,e){var r=e(27)(\"keys\"),o=e(13);t.exports=function(t){return r[t]||(r[t]=o(t))}},,function(t,n){t.exports=!1},function(t,n,e){for(var r=e(26),o=e(14),i=e(8),c=e(0),u=e(3),s=e(12),a=e(1),f=a(\"iterator\"),l=a(\"toStringTag\"),p=s.Array,h={CSSRuleList:!0,CSSStyleDeclaration:!1,CSSValueList:!1,ClientRectList:!1,DOMRectList:!1,DOMStringList:!1,DOMTokenList:!0,DataTransferItemList:!1,FileList:!1,HTMLAllCollection:!1,HTMLCollection:!1,HTMLFormElement:!1,HTMLSelectElement:!1,MediaList:!0,MimeTypeArray:!1,NamedNodeMap:!1,NodeList:!0,PaintRequestList:!1,Plugin:!1,PluginArray:!1,SVGLengthList:!1,SVGNumberList:!1,SVGPathSegList:!1,SVGPointList:!1,SVGStringList:!1,SVGTransformList:!1,SourceBufferList:!1,StyleSheetList:!0,TextTrackCueList:!1,TextTrackList:!1,TouchList:!1},d=o(h),v=0;v<d.length;v++){var y,m=d[v],g=h[m],x=c[m],w=x&&x.prototype;if(w&&(w[f]||u(w,f,p),w[l]||u(w,l,m),s[m]=p,g))for(y in r)w[y]||i(w,y,r[y],!0)}},function(t,n){var e={}.toString;t.exports=function(t){return e.call(t).slice(8,-1)}},function(t,n){t.exports=\"constructor,hasOwnProperty,isPrototypeOf,propertyIsEnumerable,toLocaleString,toString,valueOf\".split(\",\")},function(t,n,e){var r=e(4).f,o=e(6),i=e(1)(\"toStringTag\");t.exports=function(t,n,e){t&&!o(t=e?t:t.prototype,i)&&r(t,i,{configurable:!0,value:n})}},,function(t,n,e){\"use strict\";var r=e(45),o=e(49),i=e(12),c=e(11);t.exports=e(42)(Array,\"Array\",(function(t,n){this._t=c(t),this._i=0,this._k=n}),(function(){var t=this._t,n=this._k,e=this._i++;return!t||e>=t.length?(this._t=void 0,o(1)):o(0,\"keys\"==n?e:\"values\"==n?t[e]:[e,t[e]])}),\"values\"),i.Arguments=i.Array,r(\"keys\"),r(\"values\"),r(\"entries\")},function(t,n,e){var r=e(10),o=e(0),i=o[\"__core-js_shared__\"]||(o[\"__core-js_shared__\"]={});(t.exports=function(t,n){return i[t]||(i[t]=void 0!==n?n:{})})(\"versions\",[]).push({version:r.version,mode:e(20)?\"pure\":\"global\",copyright:\"© 2018 Denis Pushkarev (zloirock.ru)\"})},function(t,n){var e=Math.ceil,r=Math.floor;t.exports=function(t){return isNaN(t=+t)?0:(t>0?r:e)(t)}},function(t,n,e){var r=e(9),o=e(0).document,i=r(o)&&r(o.createElement);t.exports=function(t){return i?o.createElement(t):{}}},function(t,n,e){var r=e(16);t.exports=function(t){return Object(r(t))}},,function(t,n,e){var r=e(9);t.exports=function(t,n){if(!r(t))return t;var e,o;if(n&&\"function\"==typeof(e=t.toString)&&!r(o=e.call(t)))return o;if(\"function\"==typeof(e=t.valueOf)&&!r(o=e.call(t)))return o;if(!n&&\"function\"==typeof(e=t.toString)&&!r(o=e.call(t)))return o;throw TypeError(\"Can't convert object to primitive value\")}},function(t,n,e){var r=e(39);t.exports=function(t,n,e){if(r(t),void 0===n)return t;switch(e){case 1:return function(e){return t.call(n,e)};case 2:return function(e,r){return t.call(n,e,r)};case 3:return function(e,r,o){return t.call(n,e,r,o)}}return function(){return t.apply(n,arguments)}}},,function(t,n,e){var r=e(5),o=e(51),i=e(23),c=e(18)(\"IE_PROTO\"),u=function(){},s=function(){var t,n=e(29)(\"iframe\"),r=i.length;for(n.style.display=\"none\",e(44).appendChild(n),n.src=\"javascript:\",(t=n.contentWindow.document).open(),t.write(\"<script>document.F=Object<\\/script>\"),t.close(),s=t.F;r--;)delete s.prototype[i[r]];return s()};t.exports=Object.create||function(t,n){var e;return null!==t?(u.prototype=r(t),e=new u,u.prototype=null,e[c]=t):e=s(),void 0===n?e:o(e,n)}},function(t,n,e){t.exports=!e(2)&&!e(7)((function(){return 7!=Object.defineProperty(e(29)(\"div\"),\"a\",{get:function(){return 7}}).a}))},function(t,n,e){var r=e(6),o=e(11),i=e(47)(!1),c=e(18)(\"IE_PROTO\");t.exports=function(t,n){var e,u=o(t),s=0,a=[];for(e in u)e!=c&&r(u,e)&&a.push(e);for(;n.length>s;)r(u,e=n[s++])&&(~i(a,e)||a.push(e));return a}},function(t,n,e){var r=e(28),o=Math.min;t.exports=function(t){return t>0?o(r(t),9007199254740991):0}},function(t,n){t.exports=function(t){if(\"function\"!=typeof t)throw TypeError(t+\" is not a function!\");return t}},,,function(t,n,e){\"use strict\";var r=e(20),o=e(15),i=e(8),c=e(3),u=e(12),s=e(50),a=e(24),f=e(53),l=e(1)(\"iterator\"),p=!([].keys&&\"next\"in[].keys()),h=function(){return this};t.exports=function(t,n,e,d,v,y,m){s(e,n,d);var g,x,w,_=function(t){if(!p&&t in P)return P[t];switch(t){case\"keys\":case\"values\":return function(){return new e(this,t)}}return function(){return new e(this,t)}},b=n+\" Iterator\",S=\"values\"==v,T=!1,P=t.prototype,O=P[l]||P[\"@@iterator\"]||v&&P[v],j=O||_(v),L=v?S?_(\"entries\"):j:void 0,E=\"Array\"==n&&P.entries||O;if(E&&(w=f(E.call(new t)))!==Object.prototype&&w.next&&(a(w,b,!0),r||\"function\"==typeof w[l]||c(w,l,h)),S&&O&&\"values\"!==O.name&&(T=!0,j=function(){return O.call(this)}),r&&!m||!p&&!T&&P[l]||c(P,l,j),u[n]=j,u[b]=h,v)if(g={values:S?j:_(\"values\"),keys:y?j:_(\"keys\"),entries:L},m)for(x in g)x in P||i(P,x,g[x]);else o(o.P+o.F*(p||T),n,g);return g}},function(t,n,e){var r=e(22);t.exports=Object(\"z\").propertyIsEnumerable(0)?Object:function(t){return\"String\"==r(t)?t.split(\"\"):Object(t)}},function(t,n,e){var r=e(0).document;t.exports=r&&r.documentElement},function(t,n,e){var r=e(1)(\"unscopables\"),o=Array.prototype;null==o[r]&&e(3)(o,r,{}),t.exports=function(t){o[r][t]=!0}},,function(t,n,e){var r=e(11),o=e(38),i=e(52);t.exports=function(t){return function(n,e,c){var u,s=r(n),a=o(s.length),f=i(c,a);if(t&&e!=e){for(;a>f;)if((u=s[f++])!=u)return!0}else for(;a>f;f++)if((t||f in s)&&s[f]===e)return t||f||0;return!t&&-1}}},,function(t,n){t.exports=function(t,n){return{value:n,done:!!t}}},function(t,n,e){\"use strict\";var r=e(35),o=e(17),i=e(24),c={};e(3)(c,e(1)(\"iterator\"),(function(){return this})),t.exports=function(t,n,e){t.prototype=r(c,{next:o(1,e)}),i(t,n+\" Iterator\")}},function(t,n,e){var r=e(4),o=e(5),i=e(14);t.exports=e(2)?Object.defineProperties:function(t,n){o(t);for(var e,c=i(n),u=c.length,s=0;u>s;)r.f(t,e=c[s++],n[e]);return t}},function(t,n,e){var r=e(28),o=Math.max,i=Math.min;t.exports=function(t,n){return(t=r(t))<0?o(t+n,0):i(t,n)}},function(t,n,e){var r=e(6),o=e(30),i=e(18)(\"IE_PROTO\"),c=Object.prototype;t.exports=Object.getPrototypeOf||function(t){return t=o(t),r(t,i)?t[i]:\"function\"==typeof t.constructor&&t instanceof t.constructor?t.constructor.prototype:t instanceof Object?c:null}},,,,,,,,,,,,,,,,,,,,,,,,function(t,n,e){var r=e(22),o=e(1)(\"toStringTag\"),i=\"Arguments\"==r(function(){return arguments}());t.exports=function(t){var n,e,c;return void 0===t?\"Undefined\":null===t?\"Null\":\"string\"==typeof(e=function(t,n){try{return t[n]}catch(t){}}(n=Object(t),o))?e:i?r(n):\"Object\"==(c=r(n))&&\"function\"==typeof n.callee?\"Arguments\":c}},,,function(t,n,e){var r=e(5);t.exports=function(t,n,e,o){try{return o?n(r(e)[0],e[1]):n(e)}catch(n){var i=t.return;throw void 0!==i&&r(i.call(t)),n}}},function(t,n,e){var r=e(12),o=e(1)(\"iterator\"),i=Array.prototype;t.exports=function(t){return void 0!==t&&(r.Array===t||i[o]===t)}},function(t,n,e){var r=e(77),o=e(1)(\"iterator\"),i=e(12);t.exports=e(10).getIteratorMethod=function(t){if(null!=t)return t[o]||t[\"@@iterator\"]||i[r(t)]}},function(t,n,e){var r=e(1)(\"iterator\"),o=!1;try{var i=[7][r]();i.return=function(){o=!0},Array.from(i,(function(){throw 2}))}catch(t){}t.exports=function(t,n){if(!n&&!o)return!1;var e=!1;try{var i=[7],c=i[r]();c.next=function(){return{done:e=!0}},i[r]=function(){return c},t(i)}catch(t){}return e}},,,function(t,n,e){\"use strict\";var r=e(96)(!0);e(42)(String,\"String\",(function(t){this._t=String(t),this._i=0}),(function(){var t,n=this._t,e=this._i;return e>=n.length?{value:void 0,done:!0}:(t=r(n,e),this._i+=t.length,{value:t,done:!1})}))},function(t,n,e){!function(){function n(t,n){document.addEventListener?t.addEventListener(\"scroll\",n,!1):t.attachEvent(\"scroll\",n)}function e(t){this.a=document.createElement(\"div\"),this.a.setAttribute(\"aria-hidden\",\"true\"),this.a.appendChild(document.createTextNode(t)),this.b=document.createElement(\"span\"),this.c=document.createElement(\"span\"),this.h=document.createElement(\"span\"),this.f=document.createElement(\"span\"),this.g=-1,this.b.style.cssText=\"max-width:none;display:inline-block;position:absolute;height:100%;width:100%;overflow:scroll;font-size:16px;\",this.c.style.cssText=\"max-width:none;display:inline-block;position:absolute;height:100%;width:100%;overflow:scroll;font-size:16px;\",this.f.style.cssText=\"max-width:none;display:inline-block;position:absolute;height:100%;width:100%;overflow:scroll;font-size:16px;\",this.h.style.cssText=\"display:inline-block;width:200%;height:200%;font-size:16px;max-width:none;\",this.b.appendChild(this.h),this.c.appendChild(this.f),this.a.appendChild(this.b),this.a.appendChild(this.c)}function r(t,n){t.a.style.cssText=\"max-width:none;min-width:20px;min-height:20px;display:inline-block;overflow:hidden;position:absolute;width:auto;margin:0;padding:0;top:-999px;white-space:nowrap;font-synthesis:none;font:\"+n+\";\"}function o(t){var n=t.a.offsetWidth,e=n+100;return t.f.style.width=e+\"px\",t.c.scrollLeft=e,t.b.scrollLeft=t.b.scrollWidth+100,t.g!==n&&(t.g=n,!0)}function i(t,e){function r(){var t=i;o(t)&&t.a.parentNode&&e(t.g)}var i=t;n(t.b,r),n(t.c,r),o(t)}function c(t,n){var e=n||{};this.family=t,this.style=e.style||\"normal\",this.weight=e.weight||\"normal\",this.stretch=e.stretch||\"normal\"}var u=null,s=null,a=null,f=null;function l(){return null===f&&(f=!!document.fonts),f}function p(){if(null===a){var t=document.createElement(\"div\");try{t.style.font=\"condensed 100px sans-serif\"}catch(t){}a=\"\"!==t.style.font}return a}function h(t,n){return[t.style,t.weight,p()?t.stretch:\"\",\"100px\",n].join(\" \")}c.prototype.load=function(t,n){var o=this,c=t||\"BESbswy\",a=0,f=n||3e3,p=(new Date).getTime();return new Promise((function(t,n){if(l()&&!function(){if(null===s)if(l()&&/Apple/.test(window.navigator.vendor)){var t=/AppleWebKit\\/([0-9]+)(?:\\.([0-9]+))(?:\\.([0-9]+))/.exec(window.navigator.userAgent);s=!!t&&603>parseInt(t[1],10)}else s=!1;return s}()){var d=new Promise((function(t,n){!function e(){(new Date).getTime()-p>=f?n():document.fonts.load(h(o,'\"'+o.family+'\"'),c).then((function(n){1<=n.length?t():setTimeout(e,25)}),(function(){n()}))}()})),v=new Promise((function(t,n){a=setTimeout(n,f)}));Promise.race([v,d]).then((function(){clearTimeout(a),t(o)}),(function(){n(o)}))}else!function(t){document.body?t():document.addEventListener?document.addEventListener(\"DOMContentLoaded\",(function n(){document.removeEventListener(\"DOMContentLoaded\",n),t()})):document.attachEvent(\"onreadystatechange\",(function n(){\"interactive\"!=document.readyState&&\"complete\"!=document.readyState||(document.detachEvent(\"onreadystatechange\",n),t())}))}((function(){function s(){var n;(n=-1!=y&&-1!=m||-1!=y&&-1!=g||-1!=m&&-1!=g)&&((n=y!=m&&y!=g&&m!=g)||(null===u&&(n=/AppleWebKit\\/([0-9]+)(?:\\.([0-9]+))/.exec(window.navigator.userAgent),u=!!n&&(536>parseInt(n[1],10)||536===parseInt(n[1],10)&&11>=parseInt(n[2],10))),n=u&&(y==x&&m==x&&g==x||y==w&&m==w&&g==w||y==_&&m==_&&g==_)),n=!n),n&&(b.parentNode&&b.parentNode.removeChild(b),clearTimeout(a),t(o))}var l=new e(c),d=new e(c),v=new e(c),y=-1,m=-1,g=-1,x=-1,w=-1,_=-1,b=document.createElement(\"div\");b.dir=\"ltr\",r(l,h(o,\"sans-serif\")),r(d,h(o,\"serif\")),r(v,h(o,\"monospace\")),b.appendChild(l.a),b.appendChild(d.a),b.appendChild(v.a),document.body.appendChild(b),x=l.a.offsetWidth,w=d.a.offsetWidth,_=v.a.offsetWidth,function t(){if((new Date).getTime()-p>=f)b.parentNode&&b.parentNode.removeChild(b),n(o);else{var e=document.hidden;!0!==e&&void 0!==e||(y=l.a.offsetWidth,m=d.a.offsetWidth,g=v.a.offsetWidth,s()),a=setTimeout(t,50)}}(),i(l,(function(t){y=t,s()})),r(l,h(o,'\"'+o.family+'\",sans-serif')),i(d,(function(t){m=t,s()})),r(d,h(o,'\"'+o.family+'\",serif')),i(v,(function(t){g=t,s()})),r(v,h(o,'\"'+o.family+'\",monospace'))}))}))},t.exports=c}()},,,,,,,,,function(t,n,e){var r=e(28),o=e(16);t.exports=function(t){return function(n,e){var i,c,u=String(o(n)),s=r(e),a=u.length;return s<0||s>=a?t?\"\":void 0:(i=u.charCodeAt(s))<55296||i>56319||s+1===a||(c=u.charCodeAt(s+1))<56320||c>57343?t?u.charAt(s):i:t?u.slice(s,s+2):c-56320+(i-55296<<10)+65536}}},,,,function(t,n,e){\"use strict\";var r=e(0),o=e(4),i=e(2),c=e(1)(\"species\");t.exports=function(t){var n=r[t];i&&n&&!n[c]&&o.f(n,c,{configurable:!0,get:function(){return this}})}},,,,,,,,function(t,n,e){var r,o,i,c=e(33),u=e(126),s=e(44),a=e(29),f=e(0),l=f.process,p=f.setImmediate,h=f.clearImmediate,d=f.MessageChannel,v=f.Dispatch,y=0,m={},g=function(){var t=+this;if(m.hasOwnProperty(t)){var n=m[t];delete m[t],n()}},x=function(t){g.call(t.data)};p&&h||(p=function(t){for(var n=[],e=1;arguments.length>e;)n.push(arguments[e++]);return m[++y]=function(){u(\"function\"==typeof t?t:Function(t),n)},r(y),y},h=function(t){delete m[t]},\"process\"==e(22)(l)?r=function(t){l.nextTick(c(g,t,1))}:v&&v.now?r=function(t){v.now(c(g,t,1))}:d?(i=(o=new d).port2,o.port1.onmessage=x,r=c(i.postMessage,i,1)):f.addEventListener&&\"function\"==typeof postMessage&&!f.importScripts?(r=function(t){f.postMessage(t+\"\",\"*\")},f.addEventListener(\"message\",x,!1)):r=\"onreadystatechange\"in a(\"script\")?function(t){s.appendChild(a(\"script\")).onreadystatechange=function(){s.removeChild(this),g.call(t)}}:function(t){setTimeout(c(g,t,1),0)}),t.exports={set:p,clear:h}},function(t,n,e){\"use strict\";var r=e(39);function o(t){var n,e;this.promise=new t((function(t,r){if(void 0!==n||void 0!==e)throw TypeError(\"Bad Promise constructor\");n=t,e=r})),this.resolve=r(n),this.reject=r(e)}t.exports.f=function(t){return new o(t)}},,,,,,,,,function(t,n,e){var r=e(0).navigator;t.exports=r&&r.userAgent||\"\"},,,,function(t,n,e){\"use strict\";var r,o,i,c,u=e(20),s=e(0),a=e(33),f=e(77),l=e(15),p=e(9),h=e(39),d=e(123),v=e(124),y=e(125),m=e(108).set,g=e(127)(),x=e(109),w=e(128),_=e(118),b=e(129),S=s.TypeError,T=s.process,P=T&&T.versions,O=P&&P.v8||\"\",j=s.Promise,L=\"process\"==f(T),E=function(){},M=o=x.f,A=!!function(){try{var t=j.resolve(1),n=(t.constructor={})[e(1)(\"species\")]=function(t){t(E,E)};return(L||\"function\"==typeof PromiseRejectionEvent)&&t.then(E)instanceof n&&0!==O.indexOf(\"6.6\")&&-1===_.indexOf(\"Chrome/66\")}catch(t){}}(),C=function(t){var n;return!(!p(t)||\"function\"!=typeof(n=t.then))&&n},k=function(t,n){if(!t._n){t._n=!0;var e=t._c;g((function(){for(var r=t._v,o=1==t._s,i=0,c=function(n){var e,i,c,u=o?n.ok:n.fail,s=n.resolve,a=n.reject,f=n.domain;try{u?(o||(2==t._h&&N(t),t._h=1),!0===u?e=r:(f&&f.enter(),e=u(r),f&&(f.exit(),c=!0)),e===n.promise?a(S(\"Promise-chain cycle\")):(i=C(e))?i.call(e,s,a):s(e)):a(r)}catch(t){f&&!c&&f.exit(),a(t)}};e.length>i;)c(e[i++]);t._c=[],t._n=!1,n&&!t._h&&F(t)}))}},F=function(t){m.call(s,(function(){var n,e,r,o=t._v,i=I(t);if(i&&(n=w((function(){L?T.emit(\"unhandledRejection\",o,t):(e=s.onunhandledrejection)?e({promise:t,reason:o}):(r=s.console)&&r.error&&r.error(\"Unhandled promise rejection\",o)})),t._h=L||I(t)?2:1),t._a=void 0,i&&n.e)throw n.v}))},I=function(t){return 1!==t._h&&0===(t._a||t._c).length},N=function(t){m.call(s,(function(){var n;L?T.emit(\"rejectionHandled\",t):(n=s.onrejectionhandled)&&n({promise:t,reason:t._v})}))},W=function(t){var n=this;n._d||(n._d=!0,(n=n._w||n)._v=t,n._s=2,n._a||(n._a=n._c.slice()),k(n,!0))},D=function(t){var n,e=this;if(!e._d){e._d=!0,e=e._w||e;try{if(e===t)throw S(\"Promise can't be resolved itself\");(n=C(t))?g((function(){var r={_w:e,_d:!1};try{n.call(t,a(D,r,1),a(W,r,1))}catch(t){W.call(r,t)}})):(e._v=t,e._s=1,k(e,!1))}catch(t){W.call({_w:e,_d:!1},t)}}};A||(j=function(t){d(this,j,\"Promise\",\"_h\"),h(t),r.call(this);try{t(a(D,this,1),a(W,this,1))}catch(t){W.call(this,t)}},(r=function(t){this._c=[],this._a=void 0,this._s=0,this._d=!1,this._v=void 0,this._h=0,this._n=!1}).prototype=e(130)(j.prototype,{then:function(t,n){var e=M(y(this,j));return e.ok=\"function\"!=typeof t||t,e.fail=\"function\"==typeof n&&n,e.domain=L?T.domain:void 0,this._c.push(e),this._a&&this._a.push(e),this._s&&k(this,!1),e.promise},catch:function(t){return this.then(void 0,t)}}),i=function(){var t=new r;this.promise=t,this.resolve=a(D,t,1),this.reject=a(W,t,1)},x.f=M=function(t){return t===j||t===c?new i(t):o(t)}),l(l.G+l.W+l.F*!A,{Promise:j}),e(24)(j,\"Promise\"),e(100)(\"Promise\"),c=e(10).Promise,l(l.S+l.F*!A,\"Promise\",{reject:function(t){var n=M(this);return(0,n.reject)(t),n.promise}}),l(l.S+l.F*(u||!A),\"Promise\",{resolve:function(t){return b(u&&this===c?j:this,t)}}),l(l.S+l.F*!(A&&e(83)((function(t){j.all(t).catch(E)}))),\"Promise\",{all:function(t){var n=this,e=M(n),r=e.resolve,o=e.reject,i=w((function(){var e=[],i=0,c=1;v(t,!1,(function(t){var u=i++,s=!1;e.push(void 0),c++,n.resolve(t).then((function(t){s||(s=!0,e[u]=t,--c||r(e))}),o)})),--c||r(e)}));return i.e&&o(i.v),e.promise},race:function(t){var n=this,e=M(n),r=e.reject,o=w((function(){v(t,!1,(function(t){n.resolve(t).then(e.resolve,r)}))}));return o.e&&r(o.v),e.promise}})},function(t,n){t.exports=function(t,n,e,r){if(!(t instanceof n)||void 0!==r&&r in t)throw TypeError(e+\": incorrect invocation!\");return t}},function(t,n,e){var r=e(33),o=e(80),i=e(81),c=e(5),u=e(38),s=e(82),a={},f={};(n=t.exports=function(t,n,e,l,p){var h,d,v,y,m=p?function(){return t}:s(t),g=r(e,l,n?2:1),x=0;if(\"function\"!=typeof m)throw TypeError(t+\" is not iterable!\");if(i(m)){for(h=u(t.length);h>x;x++)if((y=n?g(c(d=t[x])[0],d[1]):g(t[x]))===a||y===f)return y}else for(v=m.call(t);!(d=v.next()).done;)if((y=o(v,g,d.value,n))===a||y===f)return y}).BREAK=a,n.RETURN=f},function(t,n,e){var r=e(5),o=e(39),i=e(1)(\"species\");t.exports=function(t,n){var e,c=r(t).constructor;return void 0===c||null==(e=r(c)[i])?n:o(e)}},function(t,n){t.exports=function(t,n,e){var r=void 0===e;switch(n.length){case 0:return r?t():t.call(e);case 1:return r?t(n[0]):t.call(e,n[0]);case 2:return r?t(n[0],n[1]):t.call(e,n[0],n[1]);case 3:return r?t(n[0],n[1],n[2]):t.call(e,n[0],n[1],n[2]);case 4:return r?t(n[0],n[1],n[2],n[3]):t.call(e,n[0],n[1],n[2],n[3])}return t.apply(e,n)}},function(t,n,e){var r=e(0),o=e(108).set,i=r.MutationObserver||r.WebKitMutationObserver,c=r.process,u=r.Promise,s=\"process\"==e(22)(c);t.exports=function(){var t,n,e,a=function(){var r,o;for(s&&(r=c.domain)&&r.exit();t;){o=t.fn,t=t.next;try{o()}catch(r){throw t?e():n=void 0,r}}n=void 0,r&&r.enter()};if(s)e=function(){c.nextTick(a)};else if(!i||r.navigator&&r.navigator.standalone)if(u&&u.resolve){var f=u.resolve(void 0);e=function(){f.then(a)}}else e=function(){o.call(r,a)};else{var l=!0,p=document.createTextNode(\"\");new i(a).observe(p,{characterData:!0}),e=function(){p.data=l=!l}}return function(r){var o={fn:r,next:void 0};n&&(n.next=o),t||(t=o,e()),n=o}}},function(t,n){t.exports=function(t){try{return{e:!1,v:t()}}catch(t){return{e:!0,v:t}}}},function(t,n,e){var r=e(5),o=e(9),i=e(109);t.exports=function(t,n){if(r(t),o(n)&&n.constructor===t)return n;var e=i.f(t);return(0,e.resolve)(n),e.promise}},function(t,n,e){var r=e(8);t.exports=function(t,n,e){for(var o in n)r(t,o,n[o],e);return t}},,,,,,,,,,,,,,,,,,,,,,,,,,,,,,,,,,,,,,,,,,,,,,,,,,,,,,,,,,,,,,,,,function(t,n,e){e(196),t.exports=e(197)},function(t,n,e){\"use strict\";e.r(n);e(122),e(21),e(26),e(86);var r=e(87),o=e.n(r),i=new o.a(\"The Antiqua B\",{weight:500}),c=new o.a(\"The Antiqua B\",{style:\"italic\",weight:500}),u=new o.a(\"The Antiqua B\",{weight:700}),s=new o.a(\"The Antiqua B\",{style:\"italic\",weight:700}),a=new o.a(\"The Antiqua B\",{weight:800}),f=new o.a(\"Marr Sans\",{weight:400}),l=new o.a(\"Marr Sans\",{weight:500}),p=new o.a(\"Marr Sans\",{weight:600}),h=new o.a(\"Marr Sans Condensed\",{weight:500}),d=new o.a(\"Marr Sans Condensed\",{weight:600}),v=new o.a(\"Marr Sans Condensed\",{weight:700});\"undefined\"==typeof Promise||sessionStorage.fontsFirst&&sessionStorage.fontsLast||Promise.all([a.load(),h.load()]).then((function(){sessionStorage.fontsFirst=!0,document.documentElement.classList.add(\"fonts-loaded\"),Promise.all([p.load(),d.load(),v.load(),f.load(),l.load(),i.load(),c.load(),u.load(),s.load()]).then((function(){sessionStorage.fontsLast=!0}))}))},function(t,n,e){}]);\n",
       "//# sourceMappingURL=fonts.bundle.js.map</script> <script>\n",
       "                if('serviceWorker' in navigator) {\n",
       "                    navigator.serviceWorker.register('/sw.js?assetPath=' + encodeURIComponent('/bucket/eae4b8f833b1dffd761375927090f9d6cda4d1e0/'), { scope: '/' });\n",
       "                    navigator.serviceWorker.ready;\n",
       "                }\n",
       "            </script> <script>\n",
       "var lmd={\"consent\":{\"version\":1,\"iabVersion\":14},\"context\":{\"aec\":false,\"lead\":null,\"pageType\":\"Element\",\"element\":{\"nature_editoriale\":{\"id\":21,\"nom\":\"Factuel\",\"name\":\"factuel\"},\"type\":\"Article\",\"restreint\":false,\"is_a_teaser\":false,\"layout_id\":1},\"article\":{\"id\":3064031,\"legacyId\":5410713,\"firstPublished\":{\"date\":\"2019-01-17 21:22:06.000000\",\"timezone_type\":1,\"timezone\":\"+00:00\"},\"format\":\"standard\",\"nbChar\":1760,\"slug\":\"mondial-de-handball-deja-qualifiee-la-france-s-impose-sur-le-fil-face-a-la-russie\",\"title\":\"Mondial de handball 2019\\u00a0: d\\u00e9j\\u00e0 qualifi\\u00e9e, la France s\\u2019impose sur le fil face \\u00e0 la Russie\",\"feedbacksURL\":\"https:\\/\\/www.lemonde.fr\\/sport\\/article\\/2019\\/01\\/17\\/mondial-de-handball-deja-qualifiee-la-france-s-impose-sur-le-fil-face-a-la-russie_5410713_3242.html?contributions\",\"tagId\":1,\"narrowTagId\":39076,\"tagType\":\"section\",\"parsedMetadata\":{\"huit\":{\"source\":\"Le Monde\",\"agencies\":{\"ap\":false,\"afp\":true,\"reuters\":false},\"autoTagged\":true,\"subscribers\":{\"preview\":false,\"exclusive\":false,\"restricted\":false}}}},\"section\":{\"type\":\"section\",\"frontType\":\"niveau_0\",\"id\":1,\"legacyId\":3242,\"title\":\"Sport\",\"path\":\"Sport\",\"url\":\"sport\",\"description\":null,\"followed\":false,\"header\":true,\"parentId\":null,\"parentTree\":[],\"webVisible\":true,\"navVisible\":true,\"cloudPath\":null,\"metadata\":\"{\\\"stats\\\": {\\\"countLvl2\\\": \\\"54\\\"}}\",\"brandId\":null,\"createdAt\":{\"date\":\"2018-06-08 15:20:10.000000\",\"timezone_type\":1,\"timezone\":\"+00:00\"},\"updatedAt\":{\"date\":\"2020-06-24 12:59:20.000000\",\"timezone_type\":1,\"timezone\":\"+00:00\"}},\"sections\":[],\"digiteka\":{\"ULTIMEDIA_autoplay\":true,\"ULTIMEDIA_async\":true,\"ULTIMEDIA_overlay_title\":\"#NONE#\",\"ULTIMEDIA_mdtk\":\"01637594\",\"ULTIMEDIA_target\":\"ultimedia_wrapper\",\"ULTIMEDIA_zone\":99,\"ULTIMEDIA_date\":\"20190117\"}},\"user\":false,\"hosts\":{\"sf_www\":\"www.lemonde.fr\",\"sf_secure\":\"secure.lemonde.fr\"},\"analytics\":{\"ga\":{\"ua\":\"UA-15394037-2\"},\"oneNext\":{\"id\":\"244044216595\"},\"fba\":{\"id\":\"122349388153507\"},\"amplitude\":{\"id\":\"7dec6d6e90d5288af6e9a882f8def199\",\"echantillon\":\"false\",\"arvatoSelectionCode\":\"false\",\"isBlog\":false},\"smart_tag\":{\"url\":\"https:\\/\\/www.lemonde.fr\\/bucket\\/eae4b8f833b1dffd761375927090f9d6cda4d1e0\\/js\\/standalone\\/at_internet\\/smarttag.__site_id__.js\",\"customObject\":{\"ID_Article\":3064031,\"Pagetype\":\"Article\",\"Titre\":\"mondial_de_handball_deja_qualifiee_la_france_s_impose_sur_le_fil_face_a_la_russie\",\"Date\":\"20190117\",\"Id_huit\":3064031,\"Statut_article\":\"Gratuit\",\"Population\":\"Gratuit\",\"Producteur\":\"Edito\",\"Nature_edito\":\"Factuel\",\"Signes\":1760,\"ir\":\"false\"},\"level2\":\"54\",\"chapter1\":\"sport\",\"chapter2\":\"\",\"chapter3\":\"\",\"name\":\"mondial_de_handball_deja_qualifiee_la_france_s_impose_sur_le_fil_face_a_la_russie\",\"tags\":{\"keywords\":[\"sport\",\"handball\",\"mondial-2019-de-handball\"]}}},\"features\":{\"capping\":true},\"batch\":{\"smallIcon\":\"https:\\/\\/www.lemonde.fr\\/bucket\\/eae4b8f833b1dffd761375927090f9d6cda4d1e0\\/img\\/logos\\/pwa-96-transparent.png\",\"defaultIcon\":\"https:\\/\\/www.lemonde.fr\\/bucket\\/eae4b8f833b1dffd761375927090f9d6cda4d1e0\\/img\\/logos\\/pwa-192.png\"},\"typePage\":\"article\",\"urlfriendly\":\"mondial-de-handball-deja-qualifiee-la-france-s-impose-sur-le-fil-face-a-la-russie\",\"cat1\":\"Sport\",\"isAbo\":false,\"recommendationsUrl\":\"\\/ajax\\/recommandations\\/?section_id=39076&fallback_id=1&display_type=iso&content_type=all\",\"keywords\":\"sport\",\"sections\":[\"sport\"]};lmd.device=\"desktop\";</script> <script>\n",
       "if(!window.__cmp||typeof window.__cmp!=='function'){var faktorCmpStart=window.__cmp?window.__cmp.start:{};window.__cmp=function(){var listen=window.attachEvent||window.addEventListener;listen('message',function(event){window.__cmp.receiveMessage(event);});function addLocatorFrame(){if(!window.frames['__cmpLocator']){if(document.body){var frame=document.createElement('iframe');frame.style.display='none';frame.name='__cmpLocator';document.body.appendChild(frame);}\n",
       "else{setTimeout(addLocatorFrame,5);}}}\n",
       "addLocatorFrame();var commandQueue=[];var cmp=function(command,parameter,callback){if(command==='ping'){if(callback){callback({gdprAppliesGlobally:!!(window.__cmp&&window.__cmp.config&&window.__cmp.config.storeConsentGlobally),cmpLoaded:false});}}else{commandQueue.push({command:command,parameter:parameter,callback:callback});}}\n",
       "cmp.commandQueue=commandQueue;cmp.receiveMessage=function(event){var data=event&&event.data&&event.data.__cmpCall;if(data){commandQueue.push({callId:data.callId,command:data.command,parameter:data.parameter,event:event});}};return cmp;}();window.__cmp.start=faktorCmpStart;}</script> <script async=\"1\" src=\"//www.lemonde.fr/bucket/eae4b8f833b1dffd761375927090f9d6cda4d1e0/js/vendor.bundle.js\" type=\"text/javascript\"></script>\n",
       "<script async=\"\" src=\"https://te.lemde.fr/tools-core.js\"></script> <script>\n",
       "if(sessionStorage.getItem('lmd.batch.first.url')===null){sessionStorage.setItem('lmd.batch.first.url',lmd.urlfriendly);}\n",
       "if(sessionStorage.getItem('lmd.batch.first.url')!==null&&lmd.urlfriendly!==sessionStorage.getItem('lmd.batch.first.url')){sessionStorage.setItem('lmd.batch.active',true);}</script> </link></meta></meta></meta></meta></meta></meta></meta></meta></meta></meta></head> <body id=\"js-body\"> <div aria-hidden=\"true\" class=\"dfp-slot dfp__slot dfp-unloaded\" data-format=\"cover\" id=\"cover\"></div> <div class=\"old__header\" id=\"Header\"> <header class=\"Header\"> <div class=\"wrapper\"> <div class=\"left\"> <a class=\"Header__jelec\" data-target=\"jelec-header\" href=\"https://journal.lemonde.fr\" id=\"jelec_link\" rel=\"noopener\" style=\" background-image: url('/thumbnail/journal/20200626/276/201'); \" target=\"_blank\"> <p>Consulter<br/>le journal</p> </a> <button class=\"Burger js-nav-burger\" id=\"Burger\"> <span class=\"Burger__icon\"> <span class=\"sr-only\">Navigation</span></span> </button> </div> <div class=\"center\"> <div class=\"Header__logo old__header-logo\"> <a href=\"/\"> <div class=\"logo__lemonde logo--full\"></div> <span class=\"sr-only\">Le Monde - retour à la une</span> </a> </div> </div> <div class=\"right\"> <div class=\"Header__actions Header__actions--desktop old__header-actions-right\"> <a class=\"Header__connexion js-header-login\" href=\"https://secure.lemonde.fr/sfuser/connexion\"> <span class=\"icon__nav-connexion\"><span class=\"sr-only\">Se connecter</span></span><span class=\"login-info\">Se connecter</span> </a> <a class=\"btn btn--premium\" href=\"https://abo.lemonde.fr/#xtor=CS1-454[CTA_LMFR]-[HEADER]-54-[Article]\" rel=\"nofollow\">S’abonner</a> </div> </div> </div> </header> </div> <nav class=\"Nav\" data-is-home=\"0\" data-sticky=\"0\" id=\"Nav\"> <div class=\"wrapper Nav--hidden\" id=\"nav-desktop\"> <ul id=\"nav-markup\"> <li class=\"Nav__item js-burger-to-show Nav__item--hide\"> </li> <li class=\"Nav__item Nav__item--home Nav__item--extended\"> <a class=\"Burger__right-arrow\" data-target=\"a-la-une\" href=\"/\"> <span class=\"icon__home\"></span> <span class=\"js-burger-to-show\">À la une</span> <span class=\"sr-only\">Retour à la page d’accueil du Monde</span> </a> </li> <li class=\"Nav__item\"> <a class=\"Burger__right-arrow\" data-lazyload=\"0\" data-target=\"en-continu\" href=\"/actualite-en-continu/\" id=\"js-home-tab-continu\" role=\"button\"><span class=\"icon__nav-en-continu\"></span><span class=\"js-burger-to-show\">En continu</span></a> </li> <li class=\"Nav__item\"> <a aria-expanded=\"false\" class=\"js-dropdown Burger__right-arrow\" data-target=\"actualite\" href=\"#\" role=\"button\">Actualités</a> <div class=\"Nav__sub-item js-burger-open Nav__sub-item--actualites\" data-height=\"0\"> <div class=\"wrapper\"> <div class=\"Nav__container Nav__container--left\"> <span>En ce moment</span> <ul> <li> <a class=\"js-actu-tag\" data-suggestion=\"\" href=\"/coronavirus-2019-ncov/\">Coronavirus et pandémie de Covid-19</a> </li> <li> <a class=\"js-actu-tag\" data-suggestion=\"\" href=\"/municipales-2020/\">Municipales 2020 : tous nos articles</a> </li> <li> <a class=\"js-actu-tag\" data-suggestion=\"\" href=\"/mort-de-george-floyd/\">Mort de George Floyd</a> </li> <li> <a class=\"js-actu-tag\" data-suggestion=\"\" href=\"/enquete-feminicides/\">Enquête féminicides</a> </li> <li> <a class=\"js-actu-tag\" data-suggestion=\"\" href=\"/deconfinement/\">Déconfinement</a> </li> <li> <a class=\"js-actu-tag\" data-suggestion=\"\" href=\"/nos-vies-confinees/\">Nos vies confinées</a> </li> <li> <a class=\"js-actu-tag\" data-suggestion=\"\" href=\"/elections-americaines-de-2020/\">Elections américaines 2020</a> </li> <li> <a class=\"js-actu-tag\" data-suggestion=\"\" href=\"/climat/\">Climat</a> </li> <li> <a class=\"js-actu-tag\" data-suggestion=\"\" href=\"/actualite-en-continu/\">Toute l’actualité en continu</a> </li> </ul> </div> <div class=\"Nav__container Nav__container--right Nav__container--mobile\"> <span>Actualités</span> <div class=\"Nav__content Nav__content--list old__nav-content-list\"> <ul class=\"old__nav-content-list-container\"> <li class=\"old__nav-content-list-item\"> <a href=\"/international/\">International</a> </li> <li class=\"old__nav-content-list-item\"> <a href=\"/politique/\">Politique</a> </li> <li class=\"old__nav-content-list-item\"> <a href=\"/societe/\">Société</a> </li> <li class=\"old__nav-content-list-item\"> <a href=\"/les-decodeurs/\">Les Décodeurs</a> </li> <li class=\"old__nav-content-list-item\"> <a href=\"/sport/\">Sport</a> </li> <li class=\"old__nav-content-list-item\"> <a href=\"/planete/\">Planète</a> </li> <li class=\"old__nav-content-list-item\"> <a href=\"/sciences/\">Sciences</a> </li> <li class=\"old__nav-content-list-item\"> <a href=\"/campus/\">M Campus</a> </li> <li class=\"old__nav-content-list-item\"> <a href=\"/afrique/\">Le Monde Afrique</a> </li> <li class=\"old__nav-content-list-item\"> <a href=\"/pixels/\">Pixels</a> </li> <li class=\"old__nav-content-list-item\"> <a href=\"/actualite-medias/\">Médias</a> </li> <li class=\"old__nav-content-list-item\"> <a href=\"/sante/\">Santé</a> </li> <li class=\"old__nav-content-list-item\"> <a href=\"/big-browser/\">Big Browser</a> </li> <li class=\"old__nav-content-list-item\"> <a href=\"/disparitions/\">Disparitions</a> </li> <li class=\"old__nav-content-list-item\"> <a href=\"/podcasts/\">Podcasts</a> </li> </ul> </div> </div> </div> </div> </li> <li class=\"Nav__item\"> <a aria-expanded=\"false\" class=\"js-dropdown\" data-lazyload=\"0\" data-target=\"economie\" href=\"#\" role=\"button\">Économie</a> <div class=\"Nav__sub-item js-burger-open\" data-height=\"0\"> <div class=\"wrapper\"> <div class=\"Nav__container Nav__container--left Nav__container--default Nav__container--mobile\"> <ul> <li> <a class=\"Nav__sub-title\" href=\"/economie/\">Économie</a> </li> <li> <a href=\"/economie-mondiale/\">Économie mondiale</a> </li> <li> <a href=\"/economie-francaise/\">Économie française</a> </li> <li> <a href=\"/emploi/\">Emploi</a> </li> <li> <a href=\"/argent/\">Argent &amp; placements</a> </li> <li> <a href=\"/tribunes-eco/\">Tribunes éco</a> </li> <li> <a href=\"/smart-cities/\">Cities</a> </li> <li> <a href=\"/le-club-de-l-economie/\">Le Club de l’économie</a> </li> </ul> </div> <div class=\"Nav__container Nav__container--right\"> <div class=\"Nav__content Nav__content--media\"> <div class=\"Nav__content-wrapper\"> <a class=\"article article--nav\" data-suggestion=\"\" href=\"https://www.lemonde.fr/economie/article/2020/06/24/roundup-bayer-annonce-un-accord-d-indemnisation-de-10-milliards-de-dollars-avec-pres-de-100-000-plaignants-americains_6044055_3234.html\"> <div class=\"article__media-container\"> <picture class=\"article__media\"> <img alt=\"A Saint Germain-Sur-Sarthe, épandage de Round-up.\" class=\"teaser__media teaser__media--nav js-media-nav\" data-lazy=\"https://img.lemde.fr/2020/06/24/0/4/4920/3280/180/0/95/0/a4022c6_oCrb1h1tup8ted1mWp7ba3Vf.jpg\" data-lazy-retina=\"https://img.lemde.fr/2020/06/24/0/4/4920/3280/360/0/95/0/a4022c6_oCrb1h1tup8ted1mWp7ba3Vf.jpg 2x\" height=\"120\" width=\"180\"/> <noscript><img alt=\"A Saint Germain-Sur-Sarthe, épandage de Round-up.\" height=\"120\" src=\"https://img.lemde.fr/2020/06/24/0/4/4920/3280/180/0/95/0/a4022c6_oCrb1h1tup8ted1mWp7ba3Vf.jpg\" srcset=\"https://img.lemde.fr/2020/06/24/0/4/4920/3280/360/0/95/0/a4022c6_oCrb1h1tup8ted1mWp7ba3Vf.jpg 2x\" width=\"180\"/></noscript> </picture> </div> <div class=\"article__kicker\">Économie</div> <p class=\"article__title\">Roundup : Bayer annonce un accord d’indemnisation de 10 milliards de dollars</p> </a> <a class=\"article article--nav\" data-suggestion=\"\" href=\"https://www.lemonde.fr/economie/article/2020/06/25/guerre-technologique-donald-trump-joue-sur-le-sentiment-antichinois-d-une-partie-de-l-electorat_6044125_3234.html\"> <div class=\"article__media-container\"> <picture class=\"article__media\"> <img alt=\"Le président américain, Donald Trump, le 20 juin, à Tulsa (Oklahoma).\" class=\"teaser__media teaser__media--nav js-media-nav\" data-lazy=\"https://img.lemde.fr/2020/06/25/0/204/5847/3898/180/0/95/0/ff135db_zryDVpohvDILvhgc1pSiG5w-.jpg\" data-lazy-retina=\"https://img.lemde.fr/2020/06/25/0/204/5847/3898/360/0/95/0/ff135db_zryDVpohvDILvhgc1pSiG5w-.jpg 2x\" height=\"120\" width=\"180\"/> <noscript><img alt=\"Le président américain, Donald Trump, le 20 juin, à Tulsa (Oklahoma).\" height=\"120\" src=\"https://img.lemde.fr/2020/06/25/0/204/5847/3898/180/0/95/0/ff135db_zryDVpohvDILvhgc1pSiG5w-.jpg\" srcset=\"https://img.lemde.fr/2020/06/25/0/204/5847/3898/360/0/95/0/ff135db_zryDVpohvDILvhgc1pSiG5w-.jpg 2x\" width=\"180\"/></noscript> </picture> </div> <div class=\"article__kicker\">Chronique</div> <span class=\"icon__premium icon--outside-simple\"> <span class=\"sr-only\">Article réservé à nos abonnés</span> </span><p class=\"article__title\">Guerre technologique : « Donald Trump joue sur le sentiment antichinois d’une partie de l’électorat »</p> <div class=\"article__author\"> <div class=\"article__author-name\">Jean-Michel Bezat</div> <div class=\"article__author-desc\"></div> </div> </a> <a class=\"article article--nav\" data-suggestion=\"\" href=\"https://www.lemonde.fr/economie/article/2020/06/24/il-faut-modifier-profondement-l-usage-de-la-voiture-sans-nuire-a-l-economie-et-dans-le-respect-de-la-justice-sociale_6044010_3234.html\"> <div class=\"article__media-container\"> <picture class=\"article__media\"> <img alt=\"Devant l’usine PSA de Poissy (Yvelines), le 28 mars 2019.\" class=\"teaser__media teaser__media--nav js-media-nav\" data-lazy=\"https://img.lemde.fr/2020/05/01/0/0/5472/3648/180/0/95/0/d3f1511_5604408-01-06.jpg\" data-lazy-retina=\"https://img.lemde.fr/2020/05/01/0/0/5472/3648/360/0/95/0/d3f1511_5604408-01-06.jpg 2x\" height=\"120\" width=\"180\"/> <noscript><img alt=\"Devant l’usine PSA de Poissy (Yvelines), le 28 mars 2019.\" height=\"120\" src=\"https://img.lemde.fr/2020/05/01/0/0/5472/3648/180/0/95/0/d3f1511_5604408-01-06.jpg\" srcset=\"https://img.lemde.fr/2020/05/01/0/0/5472/3648/360/0/95/0/d3f1511_5604408-01-06.jpg 2x\" width=\"180\"/></noscript> </picture> </div> <div class=\"article__kicker\">Chronique</div> <span class=\"icon__premium icon--outside-simple\"> <span class=\"sr-only\">Article réservé à nos abonnés</span> </span><p class=\"article__title\">« Il faut modifier profondément l’usage de la voiture, sans nuire à l’économie et dans le respect de la justice sociale »</p> <div class=\"article__author\"> <div class=\"article__author-name\">Philippe Escande</div> <div class=\"article__author-desc\"></div> </div> </a> <a class=\"article article--nav\" data-suggestion=\"\" href=\"https://www.lemonde.fr/idees/article/2020/06/25/ordonnances-la-france-fait-le-choix-de-la-securite-juridique-au-detriment-de-la-legitimite_6044103_3232.html\"> <div class=\"article__media-container\"> <picture class=\"article__media\"> <img alt=\"\" class=\"teaser__media teaser__media--nav js-media-nav\" data-lazy=\"https://img.lemde.fr/2020/06/24/0/0/5184/3456/180/0/95/0/6247e43_UznQXZRfZweVsWuFGy3Ay7MH.jpg\" data-lazy-retina=\"https://img.lemde.fr/2020/06/24/0/0/5184/3456/360/0/95/0/6247e43_UznQXZRfZweVsWuFGy3Ay7MH.jpg 2x\" height=\"120\" width=\"180\"/> <noscript><img alt=\"\" height=\"120\" src=\"https://img.lemde.fr/2020/06/24/0/0/5184/3456/180/0/95/0/6247e43_UznQXZRfZweVsWuFGy3Ay7MH.jpg\" srcset=\"https://img.lemde.fr/2020/06/24/0/0/5184/3456/360/0/95/0/6247e43_UznQXZRfZweVsWuFGy3Ay7MH.jpg 2x\" width=\"180\"/></noscript> </picture> </div> <div class=\"article__kicker\">Tribune</div> <span class=\"icon__premium icon--outside-simple\"> <span class=\"sr-only\">Article réservé à nos abonnés</span> </span><p class=\"article__title\">Ordonnances : « La France fait le choix de la sécurité juridique au détriment de la légitimité »</p> <div class=\"article__author\"> <div class=\"article__author-name\">Thomas Perroud</div> <div class=\"article__author-desc\">Professeur de droit public à l’université Paris-2-Panthéon-Assas</div> </div> </a> </div> </div> </div> </div> </div> </li> <li class=\"Nav__item\"> <a aria-expanded=\"false\" class=\"js-dropdown\" data-lazyload=\"0\" data-target=\"videos\" href=\"#\" role=\"button\">Vidéos</a> <div class=\"Nav__sub-item js-burger-open\" data-height=\"0\"> <div class=\"wrapper\"> <div class=\"Nav__container Nav__container--left Nav__container--default Nav__container--mobile\"> <ul> <li> <a class=\"Nav__sub-title\" href=\"/videos/\">Vidéos</a> </li> <li> <a href=\"/eclairages/\">Les explications</a> </li> <li> <a href=\"/les-series/\">Les séries</a> </li> <li> <a href=\"/plan-b/\">Plan B</a> </li> </ul> </div> <div class=\"Nav__container Nav__container--right\"> <div class=\"Nav__content Nav__content--media\"> <div class=\"Nav__content-wrapper\"> <a class=\"article article--nav\" data-suggestion=\"\" href=\"https://www.lemonde.fr/afrique/video/2018/10/26/genocide-au-rwanda-quel-role-a-exactement-joue-la-france_5374967_3212.html\"> <div class=\"article__media-container\"> <picture class=\"article__media\"> <img alt=\"\" class=\"teaser__media teaser__media--nav js-media-nav\" data-lazy=\"https://img.lemde.fr/2018/10/15/1/20/1619/1079/180/0/95/0/432dadd_oH2sABys4UX8L73b444wDb71.jpg\" data-lazy-retina=\"https://img.lemde.fr/2018/10/15/1/20/1619/1079/360/0/95/0/432dadd_oH2sABys4UX8L73b444wDb71.jpg 2x\" height=\"120\" width=\"180\"/> <noscript><img alt=\"\" height=\"120\" src=\"https://img.lemde.fr/2018/10/15/1/20/1619/1079/180/0/95/0/432dadd_oH2sABys4UX8L73b444wDb71.jpg\" srcset=\"https://img.lemde.fr/2018/10/15/1/20/1619/1079/360/0/95/0/432dadd_oH2sABys4UX8L73b444wDb71.jpg 2x\" width=\"180\"/></noscript> </picture> <div class=\"article__extra article__extra--embed\"> <span class=\"icon__video icon__video--small\"></span> 12:05 </div> </div> <div class=\"article__kicker\">Afrique</div> <p class=\"article__title\">Génocide au Rwanda : quel rôle la France a-t-elle joué ?</p> </a> <a class=\"article article--nav\" data-suggestion=\"\" href=\"https://www.lemonde.fr/societe/video/2019/02/19/pedophilie-dans-l-eglise-comprendre-l-ampleur-de-la-crise_5425411_3224.html\"> <div class=\"article__media-container\"> <picture class=\"article__media\"> <img alt=\"\" class=\"teaser__media teaser__media--nav js-media-nav\" data-lazy=\"https://img.lemde.fr/2019/02/14/0/152/3004/2003/180/0/95/0/67bfed4_RkUzG6d7SyOAKRCSYRCSizeK.png\" data-lazy-retina=\"https://img.lemde.fr/2019/02/14/0/152/3004/2003/360/0/95/0/67bfed4_RkUzG6d7SyOAKRCSYRCSizeK.png 2x\" height=\"120\" width=\"180\"/> <noscript><img alt=\"\" height=\"120\" src=\"https://img.lemde.fr/2019/02/14/0/152/3004/2003/180/0/95/0/67bfed4_RkUzG6d7SyOAKRCSYRCSizeK.png\" srcset=\"https://img.lemde.fr/2019/02/14/0/152/3004/2003/360/0/95/0/67bfed4_RkUzG6d7SyOAKRCSYRCSizeK.png 2x\" width=\"180\"/></noscript> </picture> <div class=\"article__extra article__extra--embed\"> <span class=\"icon__video icon__video--small\"></span> 09:37 </div> </div> <div class=\"article__kicker\">Société</div> <p class=\"article__title\">Pédophilie dans l’Eglise : comprendre l’ampleur de la crise</p> </a> <a class=\"article article--nav\" data-suggestion=\"\" href=\"https://www.lemonde.fr/international/video/2019/07/19/donald-trump-et-le-racisme-une-arme-politique-dangereuse_5491322_3210.html\"> <div class=\"article__media-container\"> <picture class=\"article__media\"> <img alt=\"\" class=\"teaser__media teaser__media--nav js-media-nav\" data-lazy=\"https://img.lemde.fr/2019/07/19/0/100/1080/720/180/0/95/0/df618aa_O7OIi9D2c4LlG3xPfqUSsUEk.png\" data-lazy-retina=\"https://img.lemde.fr/2019/07/19/0/100/1080/720/360/0/95/0/df618aa_O7OIi9D2c4LlG3xPfqUSsUEk.png 2x\" height=\"120\" width=\"180\"/> <noscript><img alt=\"\" height=\"120\" src=\"https://img.lemde.fr/2019/07/19/0/100/1080/720/180/0/95/0/df618aa_O7OIi9D2c4LlG3xPfqUSsUEk.png\" srcset=\"https://img.lemde.fr/2019/07/19/0/100/1080/720/360/0/95/0/df618aa_O7OIi9D2c4LlG3xPfqUSsUEk.png 2x\" width=\"180\"/></noscript> </picture> <div class=\"article__extra article__extra--embed\"> <span class=\"icon__video icon__video--small\"></span> 04:26 </div> </div> <div class=\"article__kicker\">International</div> <p class=\"article__title\">Donald Trump et le racisme : une arme politique dangereuse</p> </a> <a class=\"article article--nav\" data-suggestion=\"\" href=\"https://www.lemonde.fr/international/video/2020/06/20/le-bresil-a-longtemps-ete-efficace-contre-les-epidemies-jusqu-au-coronavirus_6043586_3210.html\"> <div class=\"article__media-container\"> <picture class=\"article__media\"> <img alt=\"\" class=\"teaser__media teaser__media--nav js-media-nav\" data-lazy=\"https://img.lemde.fr/2020/06/14/0/0/4386/2924/180/0/95/0/ea20353_5820071-01-06.jpg\" data-lazy-retina=\"https://img.lemde.fr/2020/06/14/0/0/4386/2924/360/0/95/0/ea20353_5820071-01-06.jpg 2x\" height=\"120\" width=\"180\"/> <noscript><img alt=\"\" height=\"120\" src=\"https://img.lemde.fr/2020/06/14/0/0/4386/2924/180/0/95/0/ea20353_5820071-01-06.jpg\" srcset=\"https://img.lemde.fr/2020/06/14/0/0/4386/2924/360/0/95/0/ea20353_5820071-01-06.jpg 2x\" width=\"180\"/></noscript> </picture> <div class=\"article__extra article__extra--embed\"> <span class=\"icon__video icon__video--small\"></span> 07:13 </div> </div> <div class=\"article__kicker\">International</div> <p class=\"article__title\">Le Brésil a longtemps été efficace dans sa lutte contre les épidémies... jusqu’au nouveau coronavirus</p> </a> </div> </div> </div> </div> </div> </li> <li class=\"Nav__item\"> <a aria-expanded=\"false\" class=\"js-dropdown\" data-lazyload=\"0\" data-target=\"opinions\" href=\"#\" role=\"button\">Opinions</a> <div class=\"Nav__sub-item js-burger-open\" data-height=\"0\"> <div class=\"wrapper\"> <div class=\"Nav__container Nav__container--left Nav__container--default Nav__container--mobile\"> <ul> <li> <a class=\"Nav__sub-title\" href=\"/idees/\">Opinions</a> </li> <li> <a href=\"/editoriaux/\">Editoriaux</a> </li> <li> <a href=\"/idees-chroniques/\">Chroniques</a> </li> <li> <a href=\"/analyses/\">Analyses</a> </li> <li> <a href=\"/idees-tribunes/\">Tribunes</a> </li> <li> <a href=\"/vie-des-idees/\">Vie des idées</a> </li> </ul> </div> <div class=\"Nav__container Nav__container--right\"> <div class=\"Nav__content Nav__content--media\"> <div class=\"Nav__content-wrapper\"> <a class=\"article article--nav\" data-suggestion=\"\" href=\"https://www.lemonde.fr/idees/article/2020/06/25/antoine-bristielle-didier-raoult-symptome-du-malaise-democratique_6044085_3232.html\"> <div class=\"article__media-container\"> <picture class=\"article__media\"> <img alt=\"Un message de soutien au professeur Didier Raoult sur la fenêtre d’un appartement parisien, le 23 avril.\" class=\"teaser__media teaser__media--nav js-media-nav\" data-lazy=\"https://img.lemde.fr/2020/06/25/0/56/5280/3520/180/0/95/0/16ebbae_qN72TYtyFu3ipdZFL99z6UX8.jpg\" data-lazy-retina=\"https://img.lemde.fr/2020/06/25/0/56/5280/3520/360/0/95/0/16ebbae_qN72TYtyFu3ipdZFL99z6UX8.jpg 2x\" height=\"120\" width=\"180\"/> <noscript><img alt=\"Un message de soutien au professeur Didier Raoult sur la fenêtre d’un appartement parisien, le 23 avril.\" height=\"120\" src=\"https://img.lemde.fr/2020/06/25/0/56/5280/3520/180/0/95/0/16ebbae_qN72TYtyFu3ipdZFL99z6UX8.jpg\" srcset=\"https://img.lemde.fr/2020/06/25/0/56/5280/3520/360/0/95/0/16ebbae_qN72TYtyFu3ipdZFL99z6UX8.jpg 2x\" width=\"180\"/></noscript> </picture> </div> <div class=\"article__kicker\">Tribune</div> <span class=\"icon__premium icon--outside-simple\"> <span class=\"sr-only\">Article réservé à nos abonnés</span> </span><p class=\"article__title\">« Didier Raoult, symptôme du malaise démocratique »</p> <div class=\"article__author\"> <div class=\"article__author-name\">Antoine Bristielle</div> <div class=\"article__author-desc\">Professeur de sciences sociales</div> </div> </a> <a class=\"article article--nav\" data-suggestion=\"\" href=\"https://www.lemonde.fr/idees/article/2020/06/25/face-aux-urgences-sanitaire-sociale-et-ecologique-la-concorde-ne-se-decrete-pas-elle-se-construit_6044100_3232.html\"> <div class=\"article__media-container\"> <picture class=\"article__media\"> <img alt=\"Distribution du Secours catholique auprès de sans-abri, le 3 avril 2020, à Toulouse.\" class=\"teaser__media teaser__media--nav js-media-nav\" data-lazy=\"https://img.lemde.fr/2020/06/25/0/7/8178/5454/180/0/95/0/165aea2_yuGIFoXCrUlttseNbByM2Xej.jpg\" data-lazy-retina=\"https://img.lemde.fr/2020/06/25/0/7/8178/5454/360/0/95/0/165aea2_yuGIFoXCrUlttseNbByM2Xej.jpg 2x\" height=\"120\" width=\"180\"/> <noscript><img alt=\"Distribution du Secours catholique auprès de sans-abri, le 3 avril 2020, à Toulouse.\" height=\"120\" src=\"https://img.lemde.fr/2020/06/25/0/7/8178/5454/180/0/95/0/165aea2_yuGIFoXCrUlttseNbByM2Xej.jpg\" srcset=\"https://img.lemde.fr/2020/06/25/0/7/8178/5454/360/0/95/0/165aea2_yuGIFoXCrUlttseNbByM2Xej.jpg 2x\" width=\"180\"/></noscript> </picture> </div> <div class=\"article__kicker\">Tribune</div> <span class=\"icon__premium icon--outside-simple\"> <span class=\"sr-only\">Article réservé à nos abonnés</span> </span><p class=\"article__title\">« Face aux urgences sanitaire, sociale et écologique, la concorde ne se décrète pas, elle se construit »</p> <div class=\"article__author\"> <div class=\"article__author-name\">Collectif</div> <div class=\"article__author-desc\"></div> </div> </a> <a class=\"article article--nav\" data-suggestion=\"\" href=\"https://www.lemonde.fr/idees/article/2020/06/25/israel-entend-elargir-unilateralement-son-territoire-confrontant-l-union-europeenne-a-un-vrai-test-de-politique-etrangere_6044078_3232.html\"> <div class=\"article__media-container\"> <picture class=\"article__media\"> <img alt=\"La colonie israélienne de Givat Zeev, proche de la ville de Ramallah, en Cisjordanie, le 13 mai.\" class=\"teaser__media teaser__media--nav js-media-nav\" data-lazy=\"https://img.lemde.fr/2020/06/10/0/0/5472/3648/180/0/95/0/bc09fa3_BDfeuIhm-IOJJEA_cF-c5oMk.jpg\" data-lazy-retina=\"https://img.lemde.fr/2020/06/10/0/0/5472/3648/360/0/95/0/bc09fa3_BDfeuIhm-IOJJEA_cF-c5oMk.jpg 2x\" height=\"120\" width=\"180\"/> <noscript><img alt=\"La colonie israélienne de Givat Zeev, proche de la ville de Ramallah, en Cisjordanie, le 13 mai.\" height=\"120\" src=\"https://img.lemde.fr/2020/06/10/0/0/5472/3648/180/0/95/0/bc09fa3_BDfeuIhm-IOJJEA_cF-c5oMk.jpg\" srcset=\"https://img.lemde.fr/2020/06/10/0/0/5472/3648/360/0/95/0/bc09fa3_BDfeuIhm-IOJJEA_cF-c5oMk.jpg 2x\" width=\"180\"/></noscript> </picture> </div> <div class=\"article__kicker\">Chronique</div> <span class=\"icon__premium icon--outside-simple\"> <span class=\"sr-only\">Article réservé à nos abonnés</span> </span><p class=\"article__title\">« Israël entend élargir unilatéralement son territoire, confrontant l’UE à un vrai test de politique étrangère »</p> <div class=\"article__author\"> <div class=\"article__author-name\">Alain Frachon</div> <div class=\"article__author-desc\"></div> </div> </a> <a class=\"article article--nav\" data-suggestion=\"\" href=\"https://www.lemonde.fr/idees/article/2020/06/25/la-curieuse-visite-du-president-polonais-a-washington_6044153_3232.html\"> <div class=\"article__media-container\"> <picture class=\"article__media\"> <img alt=\"\" class=\"teaser__media teaser__media--nav js-media-nav\" data-lazy=\"https://img.lemde.fr/2020/06/24/8/0/2797/1864/180/0/95/0/0ed7803_WAS125_USA-TRUMP-POLAND_0624_11.JPG\" data-lazy-retina=\"https://img.lemde.fr/2020/06/24/8/0/2797/1864/360/0/95/0/0ed7803_WAS125_USA-TRUMP-POLAND_0624_11.JPG 2x\" height=\"120\" width=\"180\"/> <noscript><img alt=\"\" height=\"120\" src=\"https://img.lemde.fr/2020/06/24/8/0/2797/1864/180/0/95/0/0ed7803_WAS125_USA-TRUMP-POLAND_0624_11.JPG\" srcset=\"https://img.lemde.fr/2020/06/24/8/0/2797/1864/360/0/95/0/0ed7803_WAS125_USA-TRUMP-POLAND_0624_11.JPG 2x\" width=\"180\"/></noscript> </picture> </div> <div class=\"article__kicker\">Éditorial</div> <p class=\"article__title\">La curieuse visite du président polonais à Washington</p> </a> </div> </div> </div> </div> </div> </li> <li class=\"Nav__item\"> <a aria-expanded=\"false\" class=\"js-dropdown\" data-lazyload=\"0\" data-target=\"culture\" href=\"#\" role=\"button\">Culture</a> <div class=\"Nav__sub-item js-burger-open\" data-height=\"0\"> <div class=\"wrapper\"> <div class=\"Nav__container Nav__container--left Nav__container--default Nav__container--mobile\"> <ul> <li> <a class=\"Nav__sub-title\" href=\"/culture/\">Culture</a> </li> <li> <a href=\"/cinema/\">Cinéma</a> </li> <li> <a href=\"/televisions-radio/\">Télévision</a> </li> <li> <a href=\"/livres/\">Livres</a> </li> <li> <a href=\"/musiques/\">Musiques</a> </li> <li> <a href=\"/arts/\">Arts</a> </li> <li> <a href=\"/scenes/\">Scènes</a> </li> </ul> </div> <div class=\"Nav__container Nav__container--right\"> <div class=\"Nav__content Nav__content--media\"> <div class=\"Nav__content-wrapper\"> <a class=\"article article--nav\" data-suggestion=\"\" href=\"https://www.lemonde.fr/culture/article/2020/06/24/reprise-l-amour-a-la-ville-portraits-de-femmes-dans-la-rome-d-apres-guerre_6044006_3246.html\"> <div class=\"article__media-container\"> <picture class=\"article__media\"> <img alt=\"\" class=\"teaser__media teaser__media--nav js-media-nav\" data-lazy=\"https://img.lemde.fr/2020/06/23/43/0/600/399/180/0/95/0/d3830c4_b14DuCG8y0HYp8eb16ASGFWX.jpg\" data-lazy-retina=\"https://img.lemde.fr/2020/06/23/43/0/600/399/360/0/95/0/d3830c4_b14DuCG8y0HYp8eb16ASGFWX.jpg 2x\" height=\"120\" width=\"180\"/> <noscript><img alt=\"\" height=\"120\" src=\"https://img.lemde.fr/2020/06/23/43/0/600/399/180/0/95/0/d3830c4_b14DuCG8y0HYp8eb16ASGFWX.jpg\" srcset=\"https://img.lemde.fr/2020/06/23/43/0/600/399/360/0/95/0/d3830c4_b14DuCG8y0HYp8eb16ASGFWX.jpg 2x\" width=\"180\"/></noscript> </picture> </div> <div class=\"article__kicker\">Culture</div> <span class=\"icon__premium icon--outside-simple\"> <span class=\"sr-only\">Article réservé à nos abonnés</span> </span><p class=\"article__title\">Cinéma : « L’Amour à la ville », portraits de femmes dans la Rome d’après-guerre</p> </a> <a class=\"article article--nav\" data-suggestion=\"\" href=\"https://www.lemonde.fr/disparitions/article/2020/06/22/la-mort-de-l-ecrivain-espagnol-carlos-ruiz-zafon_6043784_3382.html\"> <div class=\"article__media-container\"> <picture class=\"article__media\"> <img alt=\"Carlos Ruiz Zafon, en 2017.\" class=\"teaser__media teaser__media--nav js-media-nav\" data-lazy=\"https://img.lemde.fr/2020/06/22/0/91/5095/3397/180/0/95/0/e6f1c45_SF1bKWUvNUCK0n5iGIFtLjh1.jpg\" data-lazy-retina=\"https://img.lemde.fr/2020/06/22/0/91/5095/3397/360/0/95/0/e6f1c45_SF1bKWUvNUCK0n5iGIFtLjh1.jpg 2x\" height=\"120\" width=\"180\"/> <noscript><img alt=\"Carlos Ruiz Zafon, en 2017.\" height=\"120\" src=\"https://img.lemde.fr/2020/06/22/0/91/5095/3397/180/0/95/0/e6f1c45_SF1bKWUvNUCK0n5iGIFtLjh1.jpg\" srcset=\"https://img.lemde.fr/2020/06/22/0/91/5095/3397/360/0/95/0/e6f1c45_SF1bKWUvNUCK0n5iGIFtLjh1.jpg 2x\" width=\"180\"/></noscript> </picture> </div> <div class=\"article__kicker\">Disparitions</div> <span class=\"icon__premium icon--outside-simple\"> <span class=\"sr-only\">Article réservé à nos abonnés</span> </span><p class=\"article__title\">La mort de l’écrivain espagnol Carlos Ruiz Zafon</p> </a> <a class=\"article article--nav\" data-suggestion=\"\" href=\"https://www.lemonde.fr/culture/article/2020/06/24/banksy-most-wanted-faire-le-mur-avec-le-street-artiste-sans-visage_6044060_3246.html\"> <div class=\"article__media-container\"> <picture class=\"article__media\"> <img alt=\"« Well Hung Lover » de Banksy, réalisé à Bristol (Angleterre), en 2006.\" class=\"teaser__media teaser__media--nav js-media-nav\" data-lazy=\"https://img.lemde.fr/2020/06/15/0/1066/2665/1777/180/0/95/0/ab5fc48_xzW0gLZ9Po2yWtXYQ99i3s-x.jpg\" data-lazy-retina=\"https://img.lemde.fr/2020/06/15/0/1066/2665/1777/360/0/95/0/ab5fc48_xzW0gLZ9Po2yWtXYQ99i3s-x.jpg 2x\" height=\"120\" width=\"180\"/> <noscript><img alt=\"« Well Hung Lover » de Banksy, réalisé à Bristol (Angleterre), en 2006.\" height=\"120\" src=\"https://img.lemde.fr/2020/06/15/0/1066/2665/1777/180/0/95/0/ab5fc48_xzW0gLZ9Po2yWtXYQ99i3s-x.jpg\" srcset=\"https://img.lemde.fr/2020/06/15/0/1066/2665/1777/360/0/95/0/ab5fc48_xzW0gLZ9Po2yWtXYQ99i3s-x.jpg 2x\" width=\"180\"/></noscript> </picture> </div> <div class=\"article__kicker\">Culture</div> <p class=\"article__title\">« Banksy Most Wanted » : faire le mur avec le street-artiste sans visage</p> </a> <a class=\"article article--nav\" data-suggestion=\"\" href=\"https://www.lemonde.fr/culture/article/2020/06/24/peril-sur-la-ville-a-marseille-un-quartier-populaire-en-voie-de-disparition_6044061_3246.html\"> <div class=\"article__media-container\"> <picture class=\"article__media\"> <img alt=\"« Péril sur la ville », documentaire de Philippe Pujol sur le quartier de la butte Bellevue, à Marseille (3e arrondissement).\" class=\"teaser__media teaser__media--nav js-media-nav\" data-lazy=\"https://img.lemde.fr/2020/06/23/0/625/6750/4500/180/0/95/0/a457e67_jPcT_k_-nD6Bd8ylIT6CPyGh.jpg\" data-lazy-retina=\"https://img.lemde.fr/2020/06/23/0/625/6750/4500/360/0/95/0/a457e67_jPcT_k_-nD6Bd8ylIT6CPyGh.jpg 2x\" height=\"120\" width=\"180\"/> <noscript><img alt=\"« Péril sur la ville », documentaire de Philippe Pujol sur le quartier de la butte Bellevue, à Marseille (3e arrondissement).\" height=\"120\" src=\"https://img.lemde.fr/2020/06/23/0/625/6750/4500/180/0/95/0/a457e67_jPcT_k_-nD6Bd8ylIT6CPyGh.jpg\" srcset=\"https://img.lemde.fr/2020/06/23/0/625/6750/4500/360/0/95/0/a457e67_jPcT_k_-nD6Bd8ylIT6CPyGh.jpg 2x\" width=\"180\"/></noscript> </picture> </div> <div class=\"article__kicker\">Culture</div> <p class=\"article__title\">« Péril sur la ville » : à Marseille, un quartier populaire en voie de disparition</p> </a> </div> </div> </div> </div> </div> </li> <li class=\"Nav__item\"> <a aria-expanded=\"false\" class=\"js-dropdown\" data-lazyload=\"0\" data-target=\"m-le-mag\" href=\"#\" role=\"button\">M le mag</a> <div class=\"Nav__sub-item js-burger-open\" data-height=\"0\"> <div class=\"wrapper\"> <div class=\"Nav__container Nav__container--left Nav__container--default Nav__container--mobile\"> <ul> <li> <a class=\"Nav__sub-title\" href=\"/m-le-mag/\"><span class=\"mq-m-le-mag\">M le Mag</span></a> </li> <li> <a href=\"/m-actu/\">L’actu</a> </li> <li> <a href=\"/m-perso/\">L’époque</a> </li> <li> <a href=\"/m-styles/\">Le style</a> </li> <li> <a href=\"/m-gastronomie/\">Gastronomie</a> </li> <li> <a href=\"/m-voyage/\">Voyage</a> </li> <li> <a href=\"/m-mode/\">Mode</a> </li> <li> <a href=\"/les-recettes-du-monde/\">Les Recettes du Monde</a> </li> </ul> </div> <div class=\"Nav__container Nav__container--right\"> <div class=\"Nav__content Nav__content--media\"> <div class=\"Nav__content-wrapper\"> <a class=\"article article--nav\" data-suggestion=\"\" href=\"https://www.lemonde.fr/m-le-mag/article/2020/06/25/municipales-2020-michele-rubirola-dans-la-derniere-ligne-droite-de-la-gauche-marseillaise_6044094_4500055.html\"> <div class=\"article__media-container\"> <picture class=\"article__media\"> <img alt=\"Michèle Rubirola à Marseille, le 7 février.\" class=\"teaser__media teaser__media--nav js-media-nav\" data-lazy=\"https://img.lemde.fr/2020/06/23/417/0/1000/666/180/0/95/0/648e06a_37276_3177294.jpg\" data-lazy-retina=\"https://img.lemde.fr/2020/06/23/417/0/1000/666/360/0/95/0/648e06a_37276_3177294.jpg 2x\" height=\"120\" width=\"180\"/> <noscript><img alt=\"Michèle Rubirola à Marseille, le 7 février.\" height=\"120\" src=\"https://img.lemde.fr/2020/06/23/417/0/1000/666/180/0/95/0/648e06a_37276_3177294.jpg\" srcset=\"https://img.lemde.fr/2020/06/23/417/0/1000/666/360/0/95/0/648e06a_37276_3177294.jpg 2x\" width=\"180\"/></noscript> </picture> </div> <div class=\"article__kicker\">M le mag</div> <span class=\"icon__premium icon--outside-simple\"> <span class=\"sr-only\">Article réservé à nos abonnés</span> </span><p class=\"article__title\">Municipales 2020 : Michèle Rubirola, dans la dernière ligne droite de la gauche marseillaise</p> </a> <a class=\"article article--nav\" data-suggestion=\"\" href=\"https://www.lemonde.fr/m-le-mag/article/2020/06/19/jeanne-balibar-le-c-ur-battant-de-la-culture_6043357_4500055.html\"> <div class=\"article__media-container\"> <picture class=\"article__media\"> <img alt=\"L’actrice Jeanne Balibar, au bois de Vincennes, en mai.\" class=\"teaser__media teaser__media--nav js-media-nav\" data-lazy=\"https://img.lemde.fr/2020/06/16/0/4/1492/995/180/0/95/0/dc582bb_36022_3176106.jpg\" data-lazy-retina=\"https://img.lemde.fr/2020/06/16/0/4/1492/995/360/0/95/0/dc582bb_36022_3176106.jpg 2x\" height=\"120\" width=\"180\"/> <noscript><img alt=\"L’actrice Jeanne Balibar, au bois de Vincennes, en mai.\" height=\"120\" src=\"https://img.lemde.fr/2020/06/16/0/4/1492/995/180/0/95/0/dc582bb_36022_3176106.jpg\" srcset=\"https://img.lemde.fr/2020/06/16/0/4/1492/995/360/0/95/0/dc582bb_36022_3176106.jpg 2x\" width=\"180\"/></noscript> </picture> </div> <div class=\"article__kicker\">M le mag</div> <span class=\"icon__premium icon--outside-simple\"> <span class=\"sr-only\">Article réservé à nos abonnés</span> </span><p class=\"article__title\">Comédienne intello, libre et enflammée, Jeanne Balibar dans le rôle de sa vie</p> </a> <a class=\"article article--nav\" data-suggestion=\"\" href=\"https://www.lemonde.fr/m-perso/article/2020/06/16/s-aimer-comme-on-se-confine-il-n-avait-pas-envie-de-venir-et-maintenant-on-va-rompre_6043070_4497916.html\"> <div class=\"article__media-container\"> <picture class=\"article__media\"> <img alt=\"Amours confinés.\" class=\"teaser__media teaser__media--nav js-media-nav\" data-lazy=\"https://img.lemde.fr/2020/04/18/1151/1004/1991/1327/180/0/95/0/40fa9ed_1I17EDJ4ARxl9wpSHLC_2dBv.jpg\" data-lazy-retina=\"https://img.lemde.fr/2020/04/18/1151/1004/1991/1327/360/0/95/0/40fa9ed_1I17EDJ4ARxl9wpSHLC_2dBv.jpg 2x\" height=\"120\" width=\"180\"/> <noscript><img alt=\"Amours confinés.\" height=\"120\" src=\"https://img.lemde.fr/2020/04/18/1151/1004/1991/1327/180/0/95/0/40fa9ed_1I17EDJ4ARxl9wpSHLC_2dBv.jpg\" srcset=\"https://img.lemde.fr/2020/04/18/1151/1004/1991/1327/360/0/95/0/40fa9ed_1I17EDJ4ARxl9wpSHLC_2dBv.jpg 2x\" width=\"180\"/></noscript> </picture> </div> <div class=\"article__kicker\">L'époque</div> <span class=\"icon__premium icon--outside-simple\"> <span class=\"sr-only\">Article réservé à nos abonnés</span> </span><p class=\"article__title\">S’aimer comme on se confine : « Il n’avait pas envie de venir et maintenant on va rompre »</p> </a> <a class=\"article article--nav\" data-suggestion=\"\" href=\"https://www.lemonde.fr/les-recettes-du-monde/article/2020/06/19/le-carpaccio-de-poisson-la-recette-d-anne-etorre_6043426_5324493.html\"> <div class=\"article__media-container\"> <picture class=\"article__media\"> <img alt=\"Le carpaccion de poisson.\" class=\"teaser__media teaser__media--nav js-media-nav\" data-lazy=\"https://img.lemde.fr/2020/06/10/100/0/1500/1000/180/0/95/0/881ba67_35202_3174671.jpg\" data-lazy-retina=\"https://img.lemde.fr/2020/06/10/100/0/1500/1000/360/0/95/0/881ba67_35202_3174671.jpg 2x\" height=\"120\" width=\"180\"/> <noscript><img alt=\"Le carpaccion de poisson.\" height=\"120\" src=\"https://img.lemde.fr/2020/06/10/100/0/1500/1000/180/0/95/0/881ba67_35202_3174671.jpg\" srcset=\"https://img.lemde.fr/2020/06/10/100/0/1500/1000/360/0/95/0/881ba67_35202_3174671.jpg 2x\" width=\"180\"/></noscript> </picture> </div> <div class=\"article__kicker\">Les recettes du Monde</div> <p class=\"article__title\">Le carpaccio de poisson : la recette d’Anne Etorre</p> </a> </div> </div> </div> </div> </div> </li> <li class=\"Nav__item\"> <a aria-expanded=\"false\" class=\"js-dropdown\" data-target=\"services\" href=\"#\" role=\"button\">Services</a> <div class=\"Nav__sub-item Nav__sub-item--services js-burger-open old__nav-services\" data-height=\"0\"> <div class=\"wrapper\"> <div class=\"Nav__container Nav__container--left Nav__container--mobile\"> <a class=\"Nav__container--title-left\" href=\"/services/\"><span>Services</span></a> <ul class=\"old__nav-services-left-container\"> <li class=\"old__nav-services-left-item\"> <a href=\"https://www.lemonde.fr/memorable/\">Mémorable : cultivez votre mémoire</a> </li> <li class=\"old__nav-services-left-item\"> <a href=\"/guides-d-achat/\">Guides d’achat</a> </li> <li class=\"old__nav-services-left-item\"> <a href=\"https://codespromo.lemonde.fr/\">Codes Promo</a> </li> <li class=\"old__nav-services-left-item\"> <a href=\"https://www.lemonde.fr/bons-plans/\">Bons Plans</a> </li> <li class=\"old__nav-services-left-item\"> <a href=\"https://formation-professionnelle.lemonde.fr/\">Formation professionnelle</a> </li> <li class=\"old__nav-services-left-item\"> <a href=\"https://anglais.lemonde.fr/\">Cours d’anglais</a> </li> <li class=\"old__nav-services-left-item\"> <a href=\"https://progresser-orthographe.lemonde.fr/ \">Cours d’orthographe et grammaire</a> </li> <li class=\"old__nav-services-left-item\"> <a href=\"https://conjugaison.lemonde.fr/conjugaison/\">Conjugaison</a> </li> <li class=\"old__nav-services-left-item\"> <a href=\"https://dicocitations.lemonde.fr\">Dictionnaire de citations</a> </li> <li class=\"old__nav-services-left-item\"> <a href=\"https://immobilier.lemonde.fr/\">Annonces immobilières</a> </li> <li class=\"old__nav-services-left-item\"> <a href=\"http://prix-immobilier.lemonde.fr/estimation-immobiliere/\">Prix de l’immobilier</a> </li> <li class=\"old__nav-services-left-item\"> <a href=\"https://jardinage.lemonde.fr/\">Jardinage</a> </li> <li class=\"old__nav-services-left-item\"> <a href=\"/jeux/\">Jeux</a> </li> <li class=\"old__nav-services-left-item\"> <a href=\"https://paroles2chansons.lemonde.fr/\">Paroles de chansons</a> </li> </ul> </div> <div class=\"Nav__container Nav__container--right Nav__container--mobile\"> <div class=\"Nav__content Nav__content--column\"> <div> <span>Suppléments partenaires</span> <ul> <li><a href=\"https://www.lemonde.fr/le-numerique-partenaire-de-la-culture/\">Le numérique, partenaire de la culture</a></li> <li><a href=\"https://www.lemonde.fr/transition-ecologique/\">Transition écologique</a></li> </ul> </div> <div> <span>Services Le Monde</span> <ul> <li><a href=\"https://journal.lemonde.fr/\">Consulter le Journal du jour</a></li> <li><a href=\"https://evenements-abonnes.lemonde.fr/\">Évènements abonnés</a></li> <li><a href=\"https://festival.lemonde.fr\">Le Monde Festival</a></li> <li><a href=\"https://boutique.lemonde.fr/#xtor=AD-46\">Boutique Le Monde</a></li> <li><a href=\"/newsletters/\">Newsletters</a></li> </ul> <ul> <li><a href=\"/verification/\">Decodex</a></li> <li><a href=\"/data/france/legislatives-2017/\">Données du Monde</a></li> </ul> </div> </div> </div> </div> </div> </li> <li class=\"Nav__item\"> <a class=\"search icon__search\" data-target=\"recherche\" href=\"/recherche/\" role=\"button\"><span class=\"sr-only\">Recherche</span></a> </li> </ul> </div> <div class=\"Nav__mobile\" id=\"nav-mobile\"></div> </nav> <main class=\"main LeMondeMain main--free\" role=\"main\"> <div aria-hidden=\"true\" class=\"dfp-slot dfp__slot dfp__slot--habillage\" data-format=\"habillage\" id=\"dfp-habillage\"></div> <div aria-hidden=\"true\" class=\"dfp-slot dfp__slot dfp__slot--banniere dfp-unloaded\" data-format=\"banniere_haute\" id=\"banniere_haute\"></div> <section class=\"article article--single article--iso article--content\" id=\"habillagepub\"> <section class=\"zone zone--article old__zone\"> <header class=\"article__header\"> <ul class=\"breadcrumb\"> <li class=\"breadcrumb__parent js-breadcrumb\"> <a class=\"logo__sport logo__sport--article\" href=\"/sport/\">  Sport </a> </li> <li class=\"breadcrumb__child js-breadcrumb\"> <a class=\"logo__mondial-2019-de-handball logo__mondial-2019-de-handball--article\" href=\"/mondial-2019-de-handball/\"> Mondial de handball </a> </li> </ul> <div class=\"article__heading\"> <h1 class=\"article__title\">Mondial de handball 2019 : déjà qualifiée, la France s’impose sur le fil face à la Russie</h1> <p class=\"article__desc\">    Rassurée sur sa qualification pour le tour principal juste avant la rencontre, l’équipe de France a repris le dessus sur la Russie à la dernière minute pour l’emporter (23-22). </p> </div> <p class=\"meta meta__publisher\"> <span class=\"meta__author\">Le Monde avec AFP</span> <span class=\"meta__date\">Publié le 17 janvier 2019 à 22h22 - Mis à jour le 17 janvier 2019 à 23h33</span> </p> <p class=\"meta__reading-time\"> <span class=\"icon__reading-time\"></span> <span class=\"sr-only\">Temps de </span>Lecture 1 min. </p> <ul class=\"meta meta__social old__meta-social\"> <li class=\"meta__text meta__text--share\">Partage</li> <li class=\"meta__icon\"> <button class=\"js-social js-social-tag meta__link meta__link-wrapper\" data-social=\"fb\"><span class=\"icon__facebook\"></span><span class=\"sr-only\">Partager sur Facebook</span></button> <span aria-hidden=\"true\" class=\"meta__icon-desc meta__icon-desc--facebook\">Partager sur Facebook</span> </li> <li class=\"meta__icon\"> <button class=\"js-social js-social-tag meta__link meta__link-wrapper\" data-social=\"mail\"><span class=\"icon__email\"></span><span class=\"sr-only\">Envoyer par e-mail</span></button> <span aria-hidden=\"true\" class=\"meta__icon-desc meta__icon-desc--email\">Envoyer par e-mail</span> </li> <li class=\"meta__icon meta__icon--desktop\"> <button class=\"js-social js-social-tag meta__link meta__link-wrapper\" data-social=\"messenger\"><span class=\"icon__messenger\"></span><span class=\"sr-only\">Partager sur Messenger</span></button> <span aria-hidden=\"true\" class=\"meta__icon-desc meta__icon-desc--messenger\">Partager sur Messenger</span> </li> <li class=\"meta__icon meta__icon--mobile\"> <a class=\"meta__link meta__link-wrapper js-social-tag\" data-social=\"whatsapp\" href=\"whatsapp://send?text=https://www.lemonde.fr/sport/article/2019/01/17/mondial-de-handball-deja-qualifiee-la-france-s-impose-sur-le-fil-face-a-la-russie_5410713_3242.html\"><span class=\"icon__whatsapp\"></span><span class=\"sr-only\">Partager sur Whatsapp</span></a> <span aria-hidden=\"true\" class=\"meta__icon-desc meta__icon-desc--whatsapp\">Partager sur Whatsapp</span> </li> <li class=\"meta__icon meta__icon--dropdown\"> <button class=\"meta__link meta__link-wrapper meta__link--extend icon__arrow\" data-toggle=\"collapse\" data-toggle-target=\".meta__sub\" type=\"button\"><span class=\"sr-only\">Plus d’options</span></button> <span aria-hidden=\"true\" class=\"meta__icon-desc meta__icon-desc--more\">Plus d’options</span> <ul class=\"meta__sub\"> <li class=\"meta__icon-sub\">Plus d’options</li> <li class=\"meta__icon-sub\"><button class=\"js-social js-social-tag meta__link-sub meta__link-wrapper\" data-social=\"tw\" type=\"button\"><span class=\"meta__icon-container\"><span class=\"icon__twitter\"></span></span><span class=\"meta__label-sub\">Twitter</span></button></li> <li class=\"meta__icon-sub\"><button class=\"js-social js-social-tag meta__link-sub meta__link-wrapper\" data-social=\"linkedin\" type=\"button\"><span class=\"meta__icon-container\"><span class=\"icon__linkedin\"></span></span><span class=\"meta__label-sub\">Linkedin</span></button></li> <li class=\"meta__icon-sub\"><button class=\"js-social js-social-tag meta__link-sub meta__link-wrapper\" data-social=\"copy\" type=\"button\"><span class=\"meta__icon-container\"><span class=\"icon__link\"></span></span><span class=\"meta__label-sub\">Copier le lien</span></button></li> </ul> </li> </ul> </header> <section class=\"article__wrapper\"> <article class=\"article__content old__article-content-single\"> <figure> <picture class=\"article__media\"> <source media=\"(min-width: 992px)\" srcset=\"https://img.lemde.fr/2019/01/17/0/0/3128/2092/688/0/60/0/09c6c4a_5065785-01-06.jpg\"/> <source media=\"(min-width: 576px)\" srcset=\"https://img.lemde.fr/2019/01/17/0/0/3128/2092/688/0/60/0/09c6c4a_5065785-01-06.jpg\"/> <img alt=\"Le joueur français Luc Abalo lors de la rencontre face à la Russie, à Berlin, le 17 janvier.\" src=\"https://img.lemde.fr/2019/01/17/0/0/3128/2092/688/0/60/0/09c6c4a_5065785-01-06.jpg\"/> <noscript> <img src=\"https://img.lemde.fr/2019/01/17/0/0/3128/2092/688/0/60/0/09c6c4a_5065785-01-06.jpg\"/> </noscript> </picture> <figcaption aria-hidden=\"true\" class=\"article__legend\">Le joueur français Luc Abalo lors de la rencontre face à la Russie, à Berlin, le 17 janvier. JOHN MACDOUGALL / AFP</figcaption> </figure> <p class=\"article__paragraph\">L’équipe de France termine le tour préliminaire du Mondial de handball invaincue en quatre rencontres après sa victoire face à la Russie, à Berlin, jeudi 17 janvier, notamment déterminée par la performance du gardien français Cyril Dumoulin, auteur d’un double arrêt décisif dans les dernières secondes de jeu.</p> <section class=\"catcher catcher--inline\"><span class=\"catcher__title catcher__title--hide\">En avant-match :</span><span class=\"catcher__desc\"> <a class=\"js-article-read-also\" data-premium=\"\" href=\"https://www.lemonde.fr/sport/article/2019/01/17/mondial-de-handball-un-france-russie-qui-pourrait-etre-decisif-ou-ne-compter-pour-rien_5410506_3242.html\">Un France-Russie qui pourrait être décisif ou... ne compter pour rien</a> </span> </section> <p class=\"article__paragraph\">Les handballeurs français ont mené pendant une grande partie de la rencontre face à une équipe Russe solide, mais d’ores et déjà éliminée avant le début de la rencontre, avant de devoir remonter aux scores dans les dernières minutes, notamment grâce à l’efficacité retrouvée de Kentin Mahé face au but.</p> <h2 class=\"article__sub-title\">« Ce n’est pas positif »</h2> <p class=\"article__paragraph\"><em>« Ce n’est pas positif »</em>, a simplement commenté sur BeIN Sports le sélectionneur des Bleus, Didier Dinart, évoquant des <em>« difficultés dans l’engagement » </em>de ses joueurs. Avec, en tête, une qualification pour le tour principal acquise avant même le début de la rencontre, les Français ont manqué de réussite aux tirs (23 buts inscrits sur 46 tentatives), malgré la première entrée dans la compétition <a href=\"https://www.lemonde.fr/sport/article/2019/01/16/mondial-de-handball-nikola-karabatic-reintegre-les-rangs-de-l-equipe-de-france_5410000_3242.html\">de Nikola Karabatic</a> et de Melvyn Richardson, 21 ans, pour son baptême lors d’un mondial.</p> <section class=\"catcher catcher--inline\"><span class=\"catcher__title\">  Lire aussi </span><span class=\"catcher__desc\"> <a class=\"js-article-read-also\" data-premium=\"\" href=\"https://www.lemonde.fr/sport/article/2019/01/16/mondial-de-handball-nikola-karabatic-reintegre-les-rangs-de-l-equipe-de-france_5410000_3242.html\">Mondial de handball : plus tôt que prévu, Nikola Karabatic réintègre les Bleus</a> </span> </section> <p class=\"article__paragraph\">Les Russes avaient perdu toute chance de se qualifier depuis la victoire du Brésil sur la Corée, jeudi après-midi. Seuls les résultats entre équipes qualifiées comptent au tour principal, que la France débute avec trois points après sa victoire face au Brésil et son match nul face à l’Allemagne. Lors du tour principal, les Bleus affronteront l’Espagne, dès samedi pour une revanche de la dernière demi-finale de l’Euro, l’Islande (dimanche) et la Croatie (mercredi).</p> <ul class=\"article__unordered-list\"><li>Le programme des Bleus</li></ul> <section class=\"catcher catcher--reference js-catcher\"> <p class=\"catcher__desc\"><span class=\"catcher__pilcrow\"></span><span class=\"catcher__label\">Samedi 19 janvier : France - Espagne (18 heures)</span></p> </section> <section class=\"catcher catcher--reference js-catcher\"> <p class=\"catcher__desc\"><span class=\"catcher__pilcrow\"></span><span class=\"catcher__label\">Dimanche 20 janvier : France - Islande (20 H 30)</span></p> </section> <section class=\"catcher catcher--reference js-catcher\"> <p class=\"catcher__desc\"><span class=\"catcher__pilcrow\"></span><span class=\"catcher__label\">Mercredi 23 janvier : France - Croatie (18 heures)</span></p> </section> <section class=\"author\"> <p class=\"author__detail\"> <span class=\"author__name\">Le Monde avec AFP</span> </p> </section> <section class=\"article__reactions\"> <a class=\"comments__active\" href=\"https://www.lemonde.fr/sport/article/2019/01/17/mondial-de-handball-deja-qualifiee-la-france-s-impose-sur-le-fil-face-a-la-russie_5410713_3242.html?contributions\" rel=\"nofollow\">Voir les contributions</a> <ul class=\"meta meta__social old__meta-social\"> <li class=\"meta__text meta__text--share\">Partage</li> <li class=\"meta__icon\"> <button class=\"js-social js-social-tag meta__link meta__link-wrapper js-social-bottom\" data-social=\"fb\"><span class=\"icon__facebook\"></span><span class=\"sr-only\">Partager sur Facebook</span></button> <span aria-hidden=\"true\" class=\"meta__icon-desc meta__icon-desc--facebook\">Partager sur Facebook</span> </li> <li class=\"meta__icon\"> <button class=\"js-social js-social-tag meta__link meta__link-wrapper js-social-bottom\" data-social=\"mail\"><span class=\"icon__email\"></span><span class=\"sr-only\">Envoyer par e-mail</span></button> <span aria-hidden=\"true\" class=\"meta__icon-desc meta__icon-desc--email\">Envoyer par e-mail</span> </li> <li class=\"meta__icon meta__icon--desktop\"> <button class=\"js-social js-social-tag meta__link meta__link-wrapper js-social-bottom\" data-social=\"messenger\"><span class=\"icon__messenger\"></span><span class=\"sr-only\">Partager sur Messenger</span></button> <span aria-hidden=\"true\" class=\"meta__icon-desc meta__icon-desc--messenger\">Partager sur Messenger</span> </li> <li class=\"meta__icon meta__icon--mobile\"> <a class=\"meta__link meta__link-wrapper js-social-tag\" data-social=\"whatsapp\" href=\"whatsapp://send?text=https://www.lemonde.fr/sport/article/2019/01/17/mondial-de-handball-deja-qualifiee-la-france-s-impose-sur-le-fil-face-a-la-russie_5410713_3242.html\"><span class=\"icon__whatsapp\"></span><span class=\"sr-only\">Partager sur Whatsapp</span></a> <span aria-hidden=\"true\" class=\"meta__icon-desc meta__icon-desc--whatsapp\">Partager sur Whatsapp</span> </li> <li class=\"meta__icon meta__icon--dropdown\"> <button class=\"meta__link meta__link-wrapper meta__link--extend icon__arrow\" data-toggle=\"collapse\" data-toggle-target=\".meta__sub\" type=\"button\"><span class=\"sr-only\">Plus d’options</span></button> <span aria-hidden=\"true\" class=\"meta__icon-desc meta__icon-desc--more\">Plus d’options</span> <ul class=\"meta__sub\"> <li class=\"meta__icon-sub\">Plus d’options</li> <li class=\"meta__icon-sub\"><button class=\"js-social js-social-tag meta__link-sub meta__link-wrapper js-social-bottom\" data-social=\"tw\" type=\"button\"><span class=\"meta__icon-container\"><span class=\"icon__twitter\"></span></span><span class=\"meta__label-sub\">Twitter</span></button></li> <li class=\"meta__icon-sub\"><button class=\"js-social js-social-tag meta__link-sub meta__link-wrapper js-social-bottom\" data-social=\"linkedin\" type=\"button\"><span class=\"meta__icon-container\"><span class=\"icon__linkedin\"></span></span><span class=\"meta__label-sub\">Linkedin</span></button></li> <li class=\"meta__icon-sub\"><button class=\"js-social js-social-tag meta__link-sub meta__link-wrapper js-social-bottom\" data-social=\"copy\" type=\"button\"><span class=\"meta__icon-container\"><span class=\"icon__link\"></span></span><span class=\"meta__label-sub\">Copier le lien</span></button></li> </ul> </li> </ul> </section> </article> <footer class=\"article__footer-single old__article-footer\"> <section class=\"friend\"> <div class=\"OUTBRAIN js-friend-pos-1\" data-src=\"https://www.lemonde.fr/sport/article/2019/01/17/mondial-de-handball-deja-qualifiee-la-france-s-impose-sur-le-fil-face-a-la-russie_5410713_3242.html\" data-widget-id=\"AR_1\"></div> </section> <section class=\"article__siblings article__siblings--iso\"> <p class=\"article__siblings-title\">Dans la même rubrique</p> <section class=\"article__siblings-container old__article-siblings-container\"> <section id=\"article_recos_1\"></section> <section class=\"friend old__friend-siblings\"> <div class=\"OUTBRAIN js-friend-pos-2\" data-src=\"https://www.lemonde.fr/sport/article/2019/01/17/mondial-de-handball-deja-qualifiee-la-france-s-impose-sur-le-fil-face-a-la-russie_5410713_3242.html\" data-widget-id=\"AR_2\"></div> </section> <section id=\"article_recos_2\"></section> <section class=\"friend old__friend-siblings\"> <div class=\"OUTBRAIN js-friend-pos-3\" data-src=\"https://www.lemonde.fr/sport/article/2019/01/17/mondial-de-handball-deja-qualifiee-la-france-s-impose-sur-le-fil-face-a-la-russie_5410713_3242.html\" data-widget-id=\"AR_3\"></div> </section> <section id=\"article_recos_3\"></section> </section> </section> </footer> </section> <aside class=\"aside__iso old__aside\"> <section class=\"friend\"> <div aria-hidden=\"true\" class=\"dfp-slot dfp__slot friend--around dfp__sticky dfp__slot--pave dfp__slot--desktop dfp-unloaded\" data-format=\"pave_haut\" id=\"pave_haut\"></div> </section> <section class=\"friend\" id=\"forecast_widget\"></section> <section class=\"friend\"> <div aria-hidden=\"true\" class=\"dfp-slot dfp__slot friend--around dfp__sticky dfp__slot--pave dfp__slot--desktop dfp-unloaded\" data-format=\"pave_milieu\" id=\"pave_milieu\"></div> </section> <section class=\"friend\"> <div class=\"insert\"> <p class=\"insert__title\">Édition du jour</p> <p class=\"insert__date\">Daté du vendredi 26 juin</p> <img alt=\"\" class=\"insert__media\" src=\"/thumbnail/journal/20200626/276/201\"/> <a class=\"insert__action button button--dark\" data-target=\"jelec-sidebar\" href=\"https://journal.lemonde.fr/\" rel=\"noopener\" target=\"_blank\">Lire le journal numérique</a> </div> </section> <section class=\"friend friend__container\"> <section class=\"friend friend--sticky\"> <div class=\"OUTBRAIN js-friend-aside\" data-src=\"https://www.lemonde.fr/sport/article/2019/01/17/mondial-de-handball-deja-qualifiee-la-france-s-impose-sur-le-fil-face-a-la-russie_5410713_3242.html\" data-widget-id=\"SB_1\"></div> </section> </section> <section class=\"friend\"> <section class=\"insert insert--wirecutter\" data-partner=\"wirecutter\"> <p class=\"insert__title\">Nos guides d’achat <a class=\"insert__title--wirecutter\" href=\"/guides-d-achat\" rel=\"noopener\" target=\"_blank\">avec <span class=\"logo__wirecutter logo__wirecutter--article\"></span></a></p> <ul class=\"insert__list insert__list--wirecutter\"> <li class=\"insert__item\"> <a class=\"insert__link insert__link--media\" href=\"/guides-d-achat/article/2020/02/23/quel-est-le-meilleur-coussin-de-voyage_6030560_5306571.html\">Quel est le meilleur coussin de voyage ?  <img alt=\"Les quatre coussins que nous recommandons (en partant de la gauche, dans le sens des aiguilles d’une montre) : Evolution de Cabeau, Ultimate de Travelrest, Bcozzy et Trtl.\" class=\"insert__media insert__media--article\" src=\"https://img.lemde.fr/2020/02/17/0/0/5775/3850/99/66/60/0/a88e95d_qQmcHLWRsUvi-tm5w5cVyQjz.jpg\"/> </a> </li> <li class=\"insert__item\"> <a class=\"insert__link insert__link--media\" href=\"/guides-d-achat/article/2020/06/19/les-meilleurs-sacs-etanches_6043483_5306571.html\">Les meilleurs sacs étanches  <img alt=\"\" class=\"insert__media insert__media--article\" src=\"https://img.lemde.fr/2020/06/05/0/0/3708/2472/99/66/60/0/8029df7_OcWVEAC3pgGCsM_gR4hngwqc.jpg\"/> </a> </li> <li class=\"insert__item\"> <a class=\"insert__link insert__link--media\" href=\"/guides-d-achat/article/2020/02/03/les-meilleurs-tapis-de-course_6028198_5306571.html\">Les meilleurs tapis de course  <img alt=\"\" class=\"insert__media insert__media--article\" src=\"https://img.lemde.fr/2020/01/09/0/0/2364/1576/99/66/60/0/05af875_hgRM9JbzdYX0IoUtt-QLzdPk.jpg\"/> </a> </li> </ul> </section> </section> <section class=\"friend\"> <div aria-hidden=\"true\" class=\"dfp-slot dfp__slot friend--around dfp__sticky dfp__slot--pave dfp__slot--desktop dfp-unloaded\" data-format=\"pave_bas\" id=\"pave_bas\"></div> </section> <section class=\"friend\"> <div class=\"bd__bloc bd__bloc--image old__bd-bloc\" data-partner=\"gymglish\"> <a href=\"https://anglais.lemonde.fr/\"> <img alt=\"\" data-src=\"/bucket/eae4b8f833b1dffd761375927090f9d6cda4d1e0/img/group/gymglish-1.gif\" height=\"300\" width=\"300\"/> </a> </div> </section> </aside> <section class=\"services services--generic js-services\"> <a class=\"services__link\" href=\"/services/\"><h4 class=\"services__title\">Services</h4></a> <div class=\"bd__bloc bd__bloc--image old__bd-bloc\" data-partner=\"frantastique\"> <a href=\"https://progresser-orthographe.lemonde.fr/\"> <img alt=\"\" data-src=\"/bucket/eae4b8f833b1dffd761375927090f9d6cda4d1e0/img/group/frantastique-1.png\" height=\"300\" width=\"300\"/> </a> </div> <div class=\"bd__bloc bd__bloc--image old__bd-bloc\" data-partner=\"memorable\"> <a href=\"https://www.lemonde.fr/memorable/?rfextension=MK_ART\"> <img alt=\"\" data-src=\"/bucket/eae4b8f833b1dffd761375927090f9d6cda4d1e0/img/group/memorable4.jpg\" height=\"300\" width=\"300\"/> </a> </div> <div class=\"bd__bloc bd__bloc--image old__bd-bloc\" data-partner=\"gymglish\"> <a href=\"https://allemand.lemonde.fr/\"> <img alt=\"\" data-src=\"/bucket/eae4b8f833b1dffd761375927090f9d6cda4d1e0/img/group/gymglish-2.png\" height=\"300\" width=\"300\"/> </a> </div> </section> </section> </section> <section class=\"capping\" data-full=\"0\" data-mini=\"0\" id=\"js-capping\"> <section class=\"capping__wrapper\" id=\"js-capping-wrapper\"> <section class=\"capping__header\" id=\"js-capping-header\"> <span class=\"icon__information\"></span> <p class=\"capping__notice\">Lecture du <i>Monde</i> en cours sur un autre appareil.</p> </section> <section class=\"capping__content\" id=\"js-capping-content\"> <p class=\"capping__title\">Vous pouvez lire <i>Le Monde</i> sur un seul appareil à la fois</p> <picture class=\"capping__picture\"> <source media=\"(min-width: 1024px)\" srcset=\"/bucket/eae4b8f833b1dffd761375927090f9d6cda4d1e0/img/capping/capping-desktop.svg\"/> <source media=\"(min-width: 768px)\" srcset=\"/bucket/eae4b8f833b1dffd761375927090f9d6cda4d1e0/img/capping/capping-tablet.svg\"/> <img alt=\"\" class=\"capping__media\" src=\"/bucket/eae4b8f833b1dffd761375927090f9d6cda4d1e0/img/capping/capping-mobile.svg\"/> </picture> <button class=\"button button--lightblue capping__cta js-capping-close\" type=\"button\">Continuer à lire ici</button> <p class=\"capping__cta-text\">Ce message s’affichera sur l’autre appareil.</p> <a class=\"button button--subscribe capping__cta capping__cta--next\" href=\"https://moncompte.lemonde.fr\">Découvrir les offres multicomptes</a> </section> <section class=\"capping__bottom\" id=\"js-capping-bottom\"> <button class=\"capping__trigger\" data-toggle=\"collapse\" data-toggle-target=\".capping__faq\" id=\"js-capping-trigger\" type=\"button\">Pourquoi voyez-vous ce message ?</button> <ul class=\"capping__faq\" id=\"js-capping-faq\"> <li class=\"capping__item\"> <p class=\"capping__answer\">Parce qu’une autre personne (ou vous) est en train de lire <i>Le Monde</i> avec ce compte sur un autre appareil.</p> <p class=\"capping__answer\">Vous ne pouvez lire <i>Le Monde</i> que sur <strong>un seul appareil</strong> à la fois (ordinateur, téléphone ou tablette).</p> </li> <li class=\"capping__item\"> <p class=\"capping__question\">Comment ne plus voir ce message ?</p> <p class=\"capping__answer\">En cliquant sur « <button class=\"capping__link js-capping-close js-capping-close-extended\" type=\"button\">Continuer à lire ici</button> » et en vous assurant que vous êtes la seule personne à consulter <i>Le Monde</i> avec ce compte.</p> </li> <li class=\"capping__item\"> <p class=\"capping__question\">Que se passera-t-il si vous continuez à lire ici ?</p> <p class=\"capping__answer\">Ce message s’affichera sur l’autre appareil. Ce dernier restera connecté avec ce compte.</p> </li> <li class=\"capping__item\"> <p class=\"capping__question\">Y a-t-il d’autres limites ?</p> <p class=\"capping__answer\">Non. Vous pouvez vous connecter avec votre compte sur autant d’appareils que vous le souhaitez, mais en les utilisant à des moments différents.</p> </li> <li class=\"capping__item\"> <p class=\"capping__question\">Vous ignorez qui est l’autre personne ?</p> <p class=\"capping__answer\">Nous vous conseillons de <a class=\"capping__link js-capping-password\" href=\"https://secure.lemonde.fr/sfuser/password/lost\">modifier votre mot de passe</a>.</p> </li> </ul> </section> </section> </section> </main> <footer class=\"footer footer--free old__footer\"> <section class=\"zone zone--footer old__zone\"> <section class=\"footer__main\"> <section class=\"footer__top\"> <section class=\"footer__category\"> <button class=\"footer__title footer__title--category\" data-toggle=\"collapse\" data-toggle-target=\".footer__links\" name=\"button\" tabindex=\"-1\" type=\"button\">Rubriques</button> <ul class=\"footer__links\"> <li class=\"footer__bullet\"><a class=\"footer__link\" href=\"/actualite-en-continu/\">Actualités en direct</a></li> <li class=\"footer__bullet\"><a class=\"footer__link\" href=\"/international/\">International</a></li> <li class=\"footer__bullet\"><a class=\"footer__link\" href=\"/politique/\">Politique</a></li> <li class=\"footer__bullet\"><a class=\"footer__link\" href=\"/societe/\">Société</a></li> <li class=\"footer__bullet\"><a class=\"footer__link\" href=\"/economie/\">Économie</a></li> <li class=\"footer__bullet\"><a class=\"footer__link\" href=\"/les-decodeurs/\">Les Décodeurs</a></li> <li class=\"footer__bullet\"><a class=\"footer__link\" href=\"/resultats-elections/\">Résultats élections municipales 2020</a></li> <li class=\"footer__bullet\"><a class=\"footer__link\" href=\"/sport/\">Sport</a></li> <li class=\"footer__bullet\"><a class=\"footer__link\" href=\"/planete/\">Planète</a></li> <li class=\"footer__bullet\"><a class=\"footer__link\" href=\"/sciences/\">Sciences</a></li> <li class=\"footer__bullet\"><a class=\"footer__link\" href=\"/campus/\">M Campus</a></li> <li class=\"footer__bullet\"><a class=\"footer__link\" href=\"/afrique/\">Le Monde Afrique</a></li> <li class=\"footer__bullet\"><a class=\"footer__link\" href=\"/pixels/\">Pixels</a></li> <li class=\"footer__bullet\"><a class=\"footer__link\" href=\"/actualite-medias/\">Médias</a></li> <li class=\"footer__bullet\"><a class=\"footer__link\" href=\"/verification/\">Décodex</a></li> <li class=\"footer__bullet\"><a class=\"footer__link\" href=\"/videos/\">Vidéos</a></li> <li class=\"footer__bullet\"><a class=\"footer__link\" href=\"/sante/\">Santé</a></li> <li class=\"footer__bullet\"><a class=\"footer__link\" href=\"/big-browser/\">Big browser</a></li> <li class=\"footer__bullet\"><a class=\"footer__link\" href=\"/disparitions/\">Disparitions</a></li> <li class=\"footer__bullet\"><a class=\"footer__link\" href=\"/education/\">Éducation</a></li> <li class=\"footer__bullet\"><a class=\"footer__link\" href=\"/argent/\">Argent et placements</a></li> <li class=\"footer__bullet\"><a class=\"footer__link\" href=\"/emploi/\">Emploi</a></li> <li class=\"footer__bullet\"><a class=\"footer__link\" href=\"/archives-du-monde/\">Archives</a></li> </ul> </section> <section class=\"footer__category-container\"> <section class=\"footer__category\"> <button class=\"footer__title footer__title--category\" data-toggle=\"collapse\" data-toggle-target=\".footer__links\" name=\"button\" tabindex=\"-1\" type=\"button\">Opinions</button> <ul class=\"footer__links\"> <li class=\"footer__bullet\"><a class=\"footer__link\" href=\"/editoriaux/\">Editoriaux</a></li> <li class=\"footer__bullet\"><a class=\"footer__link\" href=\"/idees-chroniques/\">Chroniques</a></li> <li class=\"footer__bullet\"><a class=\"footer__link\" href=\"/analyses/\">Analyses</a></li> <li class=\"footer__bullet\"><a class=\"footer__link\" href=\"/idees-tribunes/\">Tribunes</a></li> <li class=\"footer__bullet\"><a class=\"footer__link\" href=\"/vie-des-idees/\">Vie des idées</a></li> </ul> </section> <section class=\"footer__category\"> <button class=\"footer__title footer__title--category\" data-toggle=\"collapse\" data-toggle-target=\".footer__links\" name=\"button\" tabindex=\"-1\" type=\"button\">M le Mag</button> <ul class=\"footer__links\"> <li class=\"footer__bullet\"><a class=\"footer__link\" href=\"/m-perso/\">L’époque</a></li> <li class=\"footer__bullet\"><a class=\"footer__link\" href=\"/m-styles/\">Le style</a></li> <li class=\"footer__bullet\"><a class=\"footer__link\" href=\"/m-gastronomie/\">Gastronomie</a></li> <li class=\"footer__bullet\"><a class=\"footer__link\" href=\"/m-voyage/\">Voyage</a></li> <li class=\"footer__bullet\"><a class=\"footer__link\" href=\"/m-mode/\">Mode</a></li> <li class=\"footer__bullet\"><a class=\"footer__link\" href=\"/recettes-legeres/\">Recettes légères</a></li> </ul> </section> <section class=\"footer__category\"> <button class=\"footer__title footer__title--category\" data-toggle=\"collapse\" data-toggle-target=\".footer__links\" name=\"button\" tabindex=\"-1\" type=\"button\">Culture</button> <ul class=\"footer__links\"> <li class=\"footer__bullet\"><a class=\"footer__link\" href=\"/cinema/\">Cinéma</a></li> <li class=\"footer__bullet\"><a class=\"footer__link\" href=\"/televisions-radio/\">Télévision</a></li> <li class=\"footer__bullet\"><a class=\"footer__link\" href=\"/livres/\">Monde des livres</a></li> <li class=\"footer__bullet\"><a class=\"footer__link\" href=\"/musiques/\">Musique</a></li> <li class=\"footer__bullet\"><a class=\"footer__link\" href=\"/arts/\">Arts</a></li> <li class=\"footer__bullet\"><a class=\"footer__link\" href=\"/bande-dessinee/\">BD</a></li> </ul> </section> </section> <section class=\"footer__category-container\"> <section class=\"footer__category\"> <button class=\"footer__title footer__title--category\" data-toggle=\"collapse\" data-toggle-target=\".footer__links\" name=\"button\" tabindex=\"-1\" type=\"button\">Services</button> <ul class=\"footer__links\"> <li class=\"footer__bullet\"><a class=\"footer__link\" href=\"https://www.lemonde.fr/memorable/\" rel=\"noopener\" target=\"_blank\">Mémorable : cultivez votre mémoire</a></li> <li class=\"footer__bullet\"><a class=\"footer__link\" href=\"/guides-d-achat/article/2018/06/30/les-meilleurs-antivols-pour-attacher-son-velo_5323670_5306571.html\">Meilleurs antivols vélo</a></li> <li class=\"footer__bullet\"><a class=\"footer__link\" href=\"https://codespromo.lemonde.fr/\" rel=\"noopener\" target=\"_blank\">Codes Promo</a></li> <li class=\"footer__bullet\"><a class=\"footer__link\" href=\"https://codespromo.lemonde.fr/code-promo-nike\" rel=\"noopener\" target=\"_blank\">Codes Promo Nike</a></li> <li class=\"footer__bullet\"><a class=\"footer__link\" href=\"https://formation-professionnelle.lemonde.fr/recherche/formation-management-qualite\" rel=\"noopener\" target=\"_blank\">Formation management</a></li> <li class=\"footer__bullet\"><a class=\"footer__link\" href=\"https://anglais.lemonde.fr/\" rel=\"noopener\" target=\"_blank\">Cours d’anglais</a></li> <li class=\"footer__bullet\"><a class=\"footer__link\" href=\"https://progresser-orthographe.lemonde.fr/\" rel=\"noopener\" target=\"_blank\">Leçons d’orthographe</a></li> <li class=\"footer__bullet\"><a class=\"footer__link\" href=\"https://conjugaison.lemonde.fr/conjugaison/\" rel=\"noopener\" target=\"_blank\">Conjugaison</a></li> <li class=\"footer__bullet\"><a class=\"footer__link\" href=\"https://jardinage.lemonde.fr/\" rel=\"noopener\" target=\"_blank\">Découvrir le jardinage</a></li> <li class=\"footer__bullet\"><a class=\"footer__link\" href=\"https://dicocitations.lemonde.fr/thematique/themes-citations/sport/\" rel=\"noopener\" target=\"_blank\">Citations Sport</a></li> <li class=\"footer__bullet\"><a class=\"footer__link\" href=\"https://paroles2chansons.lemonde.fr/traduction\" rel=\"noopener\" target=\"_blank\">Traduction de chansons</a></li> <li class=\"footer__bullet\"><a class=\"footer__link\" href=\"https://jeux.lemonde.fr/\" rel=\"noopener\" target=\"_blank\">Jeux</a></li> <li class=\"footer__bullet\"><a class=\"footer__link\" href=\"https://immobilier.lemonde.fr/\" rel=\"noopener\" target=\"_blank\">Annonces immobilières</a></li> <li class=\"footer__bullet\"><a class=\"footer__link\" href=\"http://prix-immobilier.lemonde.fr/estimation-immobiliere/\" rel=\"noopener\" target=\"_blank\">Prix de l’immobilier</a></li> </ul> </section> <section class=\"footer__category footer__category--last\"> <button class=\"footer__title footer__title--category\" data-toggle=\"collapse\" data-toggle-target=\".footer__links\" name=\"button\" tabindex=\"-1\" type=\"button\">Sites du Groupe</button> <ul class=\"footer__links\"> <li class=\"footer__bullet\"><a class=\"footer__link\" href=\"https://www.courrierinternational.com/\" rel=\"noopener\" target=\"_blank\">Courrier International</a></li> <li class=\"footer__bullet\"><a class=\"footer__link\" href=\"http://www.sdllemonde.fr/\" rel=\"noopener\" target=\"_blank\">La société des lecteurs du Monde</a></li> <li class=\"footer__bullet\"><a class=\"footer__link\" href=\"http://www.lavie.fr/\" rel=\"noopener\" target=\"_blank\">La Vie</a></li> <li class=\"footer__bullet\"><a class=\"footer__link\" href=\"https://www.huffingtonpost.fr/\" rel=\"noopener\" target=\"_blank\">Le HuffPost</a></li> <li class=\"footer__bullet\"><a class=\"footer__link\" href=\"https://www.nouvelobs.com/\" rel=\"noopener\" target=\"_blank\">L’Obs</a></li> <li class=\"footer__bullet\"><a class=\"footer__link\" href=\"https://www.monde-diplomatique.fr/\" rel=\"noopener\" target=\"_blank\">Le Monde diplomatique</a></li> <li class=\"footer__bullet\"><a class=\"footer__link\" href=\"https://www.telerama.fr/\" rel=\"noopener\" target=\"_blank\">Télérama</a></li> <li class=\"footer__bullet\"><a class=\"footer__link\" href=\"https://www.lemonde.fr/qui-sommes-nous/article/2007/11/17/talents-un-site-d-emploi-coedite-par-le-monde-interactif-et-telerama_978404_3386.html\">Talents</a></li> <li class=\"footer__bullet\"><a class=\"footer__link\" href=\"https://www.sourcesure.eu/\" rel=\"noopener\" target=\"_blank\">Source Sûre</a></li> <li class=\"footer__bullet\"><a class=\"footer__link\" href=\"/le-club-de-l-economie/\">Le Club de l’économie</a></li> <li class=\"footer__bullet\"><a class=\"footer__link\" href=\"https://mpublicite.fr/\" rel=\"noopener\" target=\"_blank\">M Publicité</a></li> </ul> </section> </section> </section> <section class=\"footer__middle\"> <section class=\"footer__cta--container\"> <section class=\"footer__cta\"> <p class=\"footer__title\">Newsletters du monde</p> <a class=\"footer__link footer__link--cta\" href=\"/newsletters/\" rel=\"noopener\" target=\"_blank\"><span class=\"footer__icon icon__mail\"></span>Recevoir les newsletters du Monde</a> </section> <section class=\"footer__cta\"> <p class=\"footer__title\">Applications Mobiles</p> <section class=\"footer__apps\"> <span class=\"footer__icon icon__apps\"></span> <ul class=\"footer__links footer__links--apps\"> <li class=\"footer__bullet footer__bullet--apps\"><a class=\"footer__link footer__link--apps\" href=\"/applications-groupe/lemonde/ios/iphone/\">Sur iPhone</a></li> <li class=\"footer__bullet footer__bullet--apps\"><a class=\"footer__link footer__link--apps\" href=\"/applications-groupe/lemonde/android/smartphone/\">Sur Android</a></li> </ul> </section> </section> </section> <section class=\"footer__cta\"> <p class=\"footer__title\">Abonnement</p> <a class=\"footer__link footer__link--cta\" href=\"https://abo.lemonde.fr/#xtor=CS1-454[CTA_LMFR]-[FOOTER]-54-[Article]\" rel=\"noopener\" target=\"_blank\"><span class=\"footer__icon icon__subscribe\"></span>S’abonner</a> <a class=\"footer__link footer__link--cta js-footer-login\" href=\"https://secure.lemonde.fr/sfuser/connexion\"><span class=\"footer__icon icon__connexion\"></span>Se connecter</a> <a class=\"footer__link footer__link--cta\" href=\"https://journal.lemonde.fr/\"><span class=\"footer__icon icon__journal\"></span>Consulter le Journal du jour</a> <a class=\"footer__link footer__link--cta\" href=\"https://evenements-abonnes.lemonde.fr/\" rel=\"noopener\" target=\"_blank\">Évenements abonnés</a> <a class=\"footer__link footer__link--cta\" href=\"https://festival.lemonde.fr\">Le Monde Festival</a> <a class=\"footer__link footer__link--cta\" href=\"https://boutique.lemonde.fr/\" rel=\"noopener\" target=\"_blank\">La boutique du Monde</a> </section> <section class=\"footer__cta\"> <ul class=\"footer__links footer__links--list\"> <li class=\"footer__bullet\"><a class=\"footer__link footer__link--list\" href=\"https://moncompte.lemonde.fr/mentions-legales\">Mentions légales</a></li> <li class=\"footer__bullet\"><a class=\"footer__link footer__link--list\" href=\"https://www.lemonde.fr/actualite-medias/article/2010/11/03/la-charte-d-ethique-et-de-deontologie-du-groupe-le-monde_1434737_3236.html\">Charte du Groupe</a></li> <li class=\"footer__bullet\"><a class=\"footer__link footer__link--list\" href=\"https://www.lemonde.fr/confidentialite/\">Politique de confidentialité</a></li> <li class=\"footer__bullet\"><a class=\"footer__link footer__link--list\" href=\"/gestion-des-cookies\">Gestion des cookies</a></li> <li class=\"footer__bullet\"><a class=\"footer__link footer__link--list\" href=\"https://moncompte.lemonde.fr/cgv\" rel=\"noopener\" target=\"_blank\">Conditions générales</a></li> <li class=\"footer__bullet\"><a class=\"footer__link footer__link--list\" href=\"/faq/\" rel=\"noopener\" target=\"_blank\">Aide (FAQ)</a></li> </ul> </section> </section> </section> <section class=\"footer__bottom\"> <p class=\"footer__title\">Suivez Le Monde</p> <section class=\"footer__social\"> <ul class=\"footer__links footer__links--social\"> <li class=\"footer__bullet footer__bullet--social\"><a class=\"footer__link\" href=\"https://www.facebook.com/lemonde.fr\" rel=\"noopener\" target=\"_blank\"><span class=\"footer__icon icon__facebook icon__facebook--footer\"></span>Facebook</a></li> <li class=\"footer__bullet footer__bullet--social\"><a class=\"footer__link\" href=\"https://www.youtube.com/user/LeMonde\" rel=\"noopener\" target=\"_blank\"><span class=\"footer__icon icon__youtube\"></span>Youtube</a></li> <li class=\"footer__bullet footer__bullet--social\"><a class=\"footer__link\" href=\"https://twitter.com/lemondefr\" rel=\"noopener\" target=\"_blank\"><span class=\"footer__icon icon__twitter icon__twitter--footer\"></span>Twitter</a></li> </ul> <ul class=\"footer__links footer__links--social\"> <li class=\"footer__bullet footer__bullet--social\"><a class=\"footer__link\" href=\"https://www.instagram.com/lemondefr/?hl=fr\" rel=\"noopener\" target=\"_blank\"><span class=\"footer__icon icon__instagram icon__instagram--footer\"></span>Instagram</a></li> <li class=\"footer__bullet footer__bullet--social\"><a class=\"footer__link\" href=\"https://www.snapchat.com/discover/Le-Monde/8843708388\" rel=\"noopener\" target=\"_blank\"><span class=\"footer__icon icon__snapchat\"></span>Snapchat</a></li> <li class=\"footer__bullet footer__bullet--social\"><a class=\"footer__link\" href=\"https://www.lemonde.fr/actualite-medias/article/2019/08/12/les-flux-rss-du-monde-fr_5498778_3236.html\"><span class=\"footer__icon icon__rss\"></span>Fils RSS</a></li> </ul> </section> </section> </section> </footer> <script type=\"application/ld+json\">\n",
       "            \n",
       "{\"@context\":\"https://schema.org\",\"@type\":\"NewsArticle\",\"mainEntityOfPage\":{\"@type\":\"WebPage\",\"@id\":\"https://www.lemonde.fr/sport/article/2019/01/17/mondial-de-handball-deja-qualifiee-la-france-s-impose-sur-le-fil-face-a-la-russie_5410713_3242.html\"},\"headline\":\"Mondial de handball 2019\\u00a0: d\\u00e9j\\u00e0 qualifi\\u00e9e, la France s\\u2019impose sur le fil face \\u00e0 la Russie\",\"dateCreated\":\"2019-01-17T22:22:06+01:00\",\"datePublished\":\"2019-01-17T22:22:06+01:00\",\"dateModified\":\"2019-01-17T23:33:47+01:00\",\"publisher\":{\"@type\":\"Organization\",\"name\":\"Le Monde\",\"logo\":{\"@type\":\"ImageObject\",\"url\":\"https://s1.lemde.fr/medias/web/1.2.705/img/elements_lm/logo_lm_print.png\",\"width\":\"240\",\"height\":\"42\"}},\"articleSection\":[\"Sport\",\"Mondial de handball\"],\"keywords\":[\"Sport\",\"Mondial de handball\",\"Handball\"],\"description\":\"Rassur\\u00e9e sur sa qualification pour le tour principal juste avant la rencontre, l\\u2019\\u00e9quipe de France a repris le dessus sur la Russie \\u00e0 la derni\\u00e8re minute pour l\\u2019emporter (23-22).\",\"author\":[{\"@type\":\"Person\",\"name\":\"Le Monde avec AFP\"}]\n",
       ",\"image\":{\"@type\":\"ImageObject\",\"url\":\"https://img.lemde.fr/2019/01/17/0/0/3128/1562/696/348/60/0/09c6c4a_5065785-01-06.jpg\",\"width\":\"696\",\"height\":\"348\"}\n",
       "}    </script> <script type=\"application/ld+json\">\n",
       "{\"@context\":\"https://schema.org\",\"@type\":\"BreadcrumbList\",\"itemListElement\":[{\"@type\":\"ListItem\",\"position\":1,\"name\":\"A la une\",\"item\":{\"@id\":\"https://www.lemonde.fr\"}}\n",
       ",{\"@type\":\"ListItem\",\"position\":2,\"name\":\"Sport\",\"item\":{\"@id\":\"https://www.lemonde.fr/sport/\"}}\n",
       ",{\"@type\":\"ListItem\",\"position\":3,\"name\":\"Mondial de handball\",\"item\":{\"@id\":\"https://www.lemonde.fr/mondial-2019-de-handball/\"}}\n",
       "]}</script> <script async=\"1\" src=\"//www.lemonde.fr/bucket/eae4b8f833b1dffd761375927090f9d6cda4d1e0/js/common.bundle.js\" type=\"text/javascript\"></script>\n",
       "<script async=\"1\" src=\"//www.lemonde.fr/bucket/eae4b8f833b1dffd761375927090f9d6cda4d1e0/js/article.bundle.js\" type=\"text/javascript\"></script>\n",
       "<div id=\"cmp-container-id\"></div> <div class=\"message message--cookie\" id=\"cookie-banner\"> <div class=\"message__cookie-wrapper\"> <div class=\"message__cookie-content\"> <p><i>Le Monde</i> utilise des cookies pour vous offrir une expérience utilisateur de qualité, mesurer l’audience, optimiser les fonctionnalités des réseaux sociaux et vous proposer des publicités personnalisées. En poursuivant votre navigation sur ce site, vous acceptez l’utilisation de cookies dans les conditions prévues par notre <a aria-label=\"Politique de confidentialité – nouvelle fenêtre\" data-xtcreation=\"politique\" href=\"https://lemonde.fr/confidentialite/\" rel=\"noopener\" target=\"_blank\">politique de confidentialité</a>. <a aria-label=\"Gérer les cookies\" data-xtcreation=\"politique\" href=\"https://lemonde.fr/confidentialite/\">En savoir plus et gérer les cookies</a>.</p> <div class=\"message__btn-container\"> <a class=\"message__cookie-settings button button--void\" data-xtcreation=\"parametrer\" href=\"/gestion-des-cookies\" role=\"button\">Paramétrer les cookies</a> <button class=\"message__cookie-accept button button--white\" data-consent=\"accept\" data-xtcreation=\"accepter\" type=\"button\">Accepter</button> </div> </div> <button class=\"icon__cross\" data-consent=\"accept\" data-xtcreation=\"fermer\" type=\"button\"> <span class=\"sr-only\">Fermer la bannière d’avertissement sur les cookies</span> </button> </div> </div> <script async=\"async\" src=\"//config-prod.choice.faktor.io/72a3e1b4-666b-4d8a-9c6d-24dba0058df1/faktor.js\" type=\"text/javascript\"></script> <script async=\"async\" data-cmp=\"ads\" data-cmp-src=\"https://widgets.outbrain.com/outbrain.js\" type=\"text/javascript\"></script> <script async=\"1\" src=\"//www.lemonde.fr/bucket/eae4b8f833b1dffd761375927090f9d6cda4d1e0/js/smartTag.bundle.js\" type=\"text/javascript\"></script>\n",
       "<script async=\"1\" data-cmp=\"analytics\" data-cmp-src=\"//www.lemonde.fr/bucket/eae4b8f833b1dffd761375927090f9d6cda4d1e0/js/anltcs.bundle.js\"></script> <script async=\"1\" data-cmp=\"analytics\" data-cmp-src=\"//www.lemonde.fr/bucket/eae4b8f833b1dffd761375927090f9d6cda4d1e0/js/forecast.bundle.js\"></script> <script async=\"1\" data-cmp=\"socials\" data-cmp-src=\"//www.lemonde.fr/bucket/eae4b8f833b1dffd761375927090f9d6cda4d1e0/js/scls.bundle.js\"></script> <script async=\"1\" data-cmp=\"customization\" data-cmp-src=\"https://www.mediego.com/agent.js\"></script> <noscript><img height=\"1\" src=\"//www.facebook.com/tr?id=122349388153507&amp;ev=PageView&amp;noscript=1\" width=\"1\"/></noscript> <noscript><img height=\"1\" src=\"//www.google-analytics.com/collect?v=1&amp;t=pageview&amp;tid=UA-15394037-2&amp;dl=https%3A%2F%2Fwww.lemonde.fr%2Fsport%2Farticle%2F2019%2F01%2F17%2Fmondial-de-handball-deja-qualifiee-la-france-s-impose-sur-le-fil-face-a-la-russie_5410713_3242.html&amp;dt=Le+Monde.fr+-+Actualit%C3%A9s+et+Infos+en+France+et+dans+le+monde\" width=\"1\"/></noscript> <script>var ADS_CONFIG = {\"adUnit\":\"\\/128139881\\/LM_lemonde\\/sport\\/sport\\/article\",\"nonPersonalizedAds\":1,\"targets\":{\"article_has_video\":false,\"article_id\":5410713,\"article_is_longform\":false,\"article_type\":\"Article\",\"keywords\":\"sport\",\"rub\":\"sport\",\"rubrique_id\":3242,\"rubriques\":{\"0\":\"sport\",\"1\":\"mondial-2019-de-handball\",\"4\":\"handball\"}}}</script> <script async=\"1\" data-cmp=\"ads\" data-cmp-src=\"https://wrapper.lemde.fr/glmaw.v0.1.0.js\"></script> <script async=\"1\" data-cmp=\"ads\" data-cmp-src=\"//www.lemonde.fr/bucket/eae4b8f833b1dffd761375927090f9d6cda4d1e0/js/ads.bundle.js\"></script> <div class=\"overlay\" id=\"overlay\"></div> <script async=\"\" src=\"https://news.google.com/swg/js/v1/swg.js\" subscriptions-control=\"manual\"></script> </body> </html> "
      ]
     },
     "execution_count": 11,
     "metadata": {},
     "output_type": "execute_result"
    }
   ],
   "source": [
    "url = 'https://www.lemonde.fr/sport/article/2019/01/17/mondial-de-handball-deja-qualifiee-la-france-s-impose-sur-le-fil-face-a-la-russie_5410713_3242.html'\n",
    "page = requests.get(url)\n",
    "\n",
    "html = BeautifulSoup(page.text, 'html.parser')\n",
    "html"
   ]
  },
  {
   "cell_type": "markdown",
   "metadata": {},
   "source": [
    "On souhaite trouver le titre de la page : "
   ]
  },
  {
   "cell_type": "code",
   "execution_count": 12,
   "metadata": {},
   "outputs": [
    {
     "data": {
      "text/plain": [
       "'Mondial de handball 2019\\xa0: déjà qualifiée, la France s’impose sur le fil face à la Russie'"
      ]
     },
     "execution_count": 12,
     "metadata": {},
     "output_type": "execute_result"
    }
   ],
   "source": [
    "html.find('h1').getText()"
   ]
  },
  {
   "cell_type": "code",
   "execution_count": 13,
   "metadata": {},
   "outputs": [
    {
     "data": {
      "text/plain": [
       "'Mondial de handball 2019\\xa0: déjà qualifiée, la France s’impose sur le fil face à la Russie'"
      ]
     },
     "execution_count": 13,
     "metadata": {},
     "output_type": "execute_result"
    }
   ],
   "source": [
    "html.h1.getText()"
   ]
  },
  {
   "cell_type": "markdown",
   "metadata": {},
   "source": [
    "<h2> 11.2-  La méthode Find All  </h2> \n",
    "\n",
    "Même chose que précédemment avec la méthode Find All: retourne une liste des éléments correspondant à une recherceh de balise."
   ]
  },
  {
   "cell_type": "code",
   "execution_count": 63,
   "metadata": {},
   "outputs": [
    {
     "data": {
      "text/plain": [
       "[<body>\n",
       " <p>Un simple paragraphe</p>\n",
       " </body>]"
      ]
     },
     "execution_count": 63,
     "metadata": {},
     "output_type": "execute_result"
    }
   ],
   "source": [
    "response = requests.get(\"https://raw.githubusercontent.com/codelikerod/web-scraping/master/exemple1.html\")\n",
    "content = response.content\n",
    "parser = BeautifulSoup(content,'html.parser')\n",
    "\n",
    "# Obtenir tous les éléments de la balise body\n",
    "body = parser.find_all(\"body\")\n",
    "body"
   ]
  },
  {
   "cell_type": "code",
   "execution_count": 64,
   "metadata": {},
   "outputs": [
    {
     "data": {
      "text/plain": [
       "<body>\n",
       "<p>Un simple paragraphe</p>\n",
       "</body>"
      ]
     },
     "execution_count": 64,
     "metadata": {},
     "output_type": "execute_result"
    }
   ],
   "source": [
    "body[0]"
   ]
  },
  {
   "cell_type": "markdown",
   "metadata": {},
   "source": [
    "On récupère les éléments de la balise p dans la liste body:"
   ]
  },
  {
   "cell_type": "code",
   "execution_count": 65,
   "metadata": {},
   "outputs": [
    {
     "data": {
      "text/plain": [
       "'Un simple paragraphe'"
      ]
     },
     "execution_count": 65,
     "metadata": {},
     "output_type": "execute_result"
    }
   ],
   "source": [
    "p = body[0].find_all(\"p\")  # body[0] car on récupère le premier élément de la liste\n",
    "p[0].text"
   ]
  },
  {
   "cell_type": "markdown",
   "metadata": {},
   "source": [
    "- retour sur l'exemple concret sur l'article du monde:\n",
    "\n",
    "On veux extraire toutes les balises p: "
   ]
  },
  {
   "cell_type": "code",
   "execution_count": 14,
   "metadata": {
    "scrolled": true
   },
   "outputs": [
    {
     "data": {
      "text/plain": [
       "[<p>Consulter<br/>le journal</p>,\n",
       " <p class=\"article__title\">Roundup : Bayer annonce un accord d’indemnisation de 10 milliards de dollars</p>,\n",
       " <p class=\"article__title\">Guerre technologique : « Donald Trump joue sur le sentiment antichinois d’une partie de l’électorat »</p>,\n",
       " <p class=\"article__title\">« Il faut modifier profondément l’usage de la voiture, sans nuire à l’économie et dans le respect de la justice sociale »</p>,\n",
       " <p class=\"article__title\">Ordonnances : « La France fait le choix de la sécurité juridique au détriment de la légitimité »</p>,\n",
       " <p class=\"article__title\">Génocide au Rwanda : quel rôle la France a-t-elle joué ?</p>,\n",
       " <p class=\"article__title\">Pédophilie dans l’Eglise : comprendre l’ampleur de la crise</p>,\n",
       " <p class=\"article__title\">Donald Trump et le racisme : une arme politique dangereuse</p>,\n",
       " <p class=\"article__title\">Le Brésil a longtemps été efficace dans sa lutte contre les épidémies... jusqu’au nouveau coronavirus</p>,\n",
       " <p class=\"article__title\">« Didier Raoult, symptôme du malaise démocratique »</p>,\n",
       " <p class=\"article__title\">« Face aux urgences sanitaire, sociale et écologique, la concorde ne se décrète pas, elle se construit »</p>,\n",
       " <p class=\"article__title\">« Israël entend élargir unilatéralement son territoire, confrontant l’UE à un vrai test de politique étrangère »</p>,\n",
       " <p class=\"article__title\">La curieuse visite du président polonais à Washington</p>,\n",
       " <p class=\"article__title\">Cinéma : « L’Amour à la ville », portraits de femmes dans la Rome d’après-guerre</p>,\n",
       " <p class=\"article__title\">La mort de l’écrivain espagnol Carlos Ruiz Zafon</p>,\n",
       " <p class=\"article__title\">« Banksy Most Wanted » : faire le mur avec le street-artiste sans visage</p>,\n",
       " <p class=\"article__title\">« Péril sur la ville » : à Marseille, un quartier populaire en voie de disparition</p>,\n",
       " <p class=\"article__title\">Municipales 2020 : Michèle Rubirola, dans la dernière ligne droite de la gauche marseillaise</p>,\n",
       " <p class=\"article__title\">Comédienne intello, libre et enflammée, Jeanne Balibar dans le rôle de sa vie</p>,\n",
       " <p class=\"article__title\">S’aimer comme on se confine : « Il n’avait pas envie de venir et maintenant on va rompre »</p>,\n",
       " <p class=\"article__title\">Le carpaccio de poisson : la recette d’Anne Etorre</p>,\n",
       " <p class=\"article__desc\">    Rassurée sur sa qualification pour le tour principal juste avant la rencontre, l’équipe de France a repris le dessus sur la Russie à la dernière minute pour l’emporter (23-22). </p>,\n",
       " <p class=\"meta meta__publisher\"> <span class=\"meta__author\">Le Monde avec AFP</span> <span class=\"meta__date\">Publié le 17 janvier 2019 à 22h22 - Mis à jour le 17 janvier 2019 à 23h33</span> </p>,\n",
       " <p class=\"meta__reading-time\"> <span class=\"icon__reading-time\"></span> <span class=\"sr-only\">Temps de </span>Lecture 1 min. </p>,\n",
       " <p class=\"article__paragraph\">L’équipe de France termine le tour préliminaire du Mondial de handball invaincue en quatre rencontres après sa victoire face à la Russie, à Berlin, jeudi 17 janvier, notamment déterminée par la performance du gardien français Cyril Dumoulin, auteur d’un double arrêt décisif dans les dernières secondes de jeu.</p>,\n",
       " <p class=\"article__paragraph\">Les handballeurs français ont mené pendant une grande partie de la rencontre face à une équipe Russe solide, mais d’ores et déjà éliminée avant le début de la rencontre, avant de devoir remonter aux scores dans les dernières minutes, notamment grâce à l’efficacité retrouvée de Kentin Mahé face au but.</p>,\n",
       " <p class=\"article__paragraph\"><em>« Ce n’est pas positif »</em>, a simplement commenté sur BeIN Sports le sélectionneur des Bleus, Didier Dinart, évoquant des <em>« difficultés dans l’engagement » </em>de ses joueurs. Avec, en tête, une qualification pour le tour principal acquise avant même le début de la rencontre, les Français ont manqué de réussite aux tirs (23 buts inscrits sur 46 tentatives), malgré la première entrée dans la compétition <a href=\"https://www.lemonde.fr/sport/article/2019/01/16/mondial-de-handball-nikola-karabatic-reintegre-les-rangs-de-l-equipe-de-france_5410000_3242.html\">de Nikola Karabatic</a> et de Melvyn Richardson, 21 ans, pour son baptême lors d’un mondial.</p>,\n",
       " <p class=\"article__paragraph\">Les Russes avaient perdu toute chance de se qualifier depuis la victoire du Brésil sur la Corée, jeudi après-midi. Seuls les résultats entre équipes qualifiées comptent au tour principal, que la France débute avec trois points après sa victoire face au Brésil et son match nul face à l’Allemagne. Lors du tour principal, les Bleus affronteront l’Espagne, dès samedi pour une revanche de la dernière demi-finale de l’Euro, l’Islande (dimanche) et la Croatie (mercredi).</p>,\n",
       " <p class=\"catcher__desc\"><span class=\"catcher__pilcrow\"></span><span class=\"catcher__label\">Samedi 19 janvier : France - Espagne (18 heures)</span></p>,\n",
       " <p class=\"catcher__desc\"><span class=\"catcher__pilcrow\"></span><span class=\"catcher__label\">Dimanche 20 janvier : France - Islande (20 H 30)</span></p>,\n",
       " <p class=\"catcher__desc\"><span class=\"catcher__pilcrow\"></span><span class=\"catcher__label\">Mercredi 23 janvier : France - Croatie (18 heures)</span></p>,\n",
       " <p class=\"author__detail\"> <span class=\"author__name\">Le Monde avec AFP</span> </p>,\n",
       " <p class=\"article__siblings-title\">Dans la même rubrique</p>,\n",
       " <p class=\"insert__title\">Édition du jour</p>,\n",
       " <p class=\"insert__date\">Daté du vendredi 26 juin</p>,\n",
       " <p class=\"insert__title\">Nos guides d’achat <a class=\"insert__title--wirecutter\" href=\"/guides-d-achat\" rel=\"noopener\" target=\"_blank\">avec <span class=\"logo__wirecutter logo__wirecutter--article\"></span></a></p>,\n",
       " <p class=\"capping__notice\">Lecture du <i>Monde</i> en cours sur un autre appareil.</p>,\n",
       " <p class=\"capping__title\">Vous pouvez lire <i>Le Monde</i> sur un seul appareil à la fois</p>,\n",
       " <p class=\"capping__cta-text\">Ce message s’affichera sur l’autre appareil.</p>,\n",
       " <p class=\"capping__answer\">Parce qu’une autre personne (ou vous) est en train de lire <i>Le Monde</i> avec ce compte sur un autre appareil.</p>,\n",
       " <p class=\"capping__answer\">Vous ne pouvez lire <i>Le Monde</i> que sur <strong>un seul appareil</strong> à la fois (ordinateur, téléphone ou tablette).</p>,\n",
       " <p class=\"capping__question\">Comment ne plus voir ce message ?</p>,\n",
       " <p class=\"capping__answer\">En cliquant sur « <button class=\"capping__link js-capping-close js-capping-close-extended\" type=\"button\">Continuer à lire ici</button> » et en vous assurant que vous êtes la seule personne à consulter <i>Le Monde</i> avec ce compte.</p>,\n",
       " <p class=\"capping__question\">Que se passera-t-il si vous continuez à lire ici ?</p>,\n",
       " <p class=\"capping__answer\">Ce message s’affichera sur l’autre appareil. Ce dernier restera connecté avec ce compte.</p>,\n",
       " <p class=\"capping__question\">Y a-t-il d’autres limites ?</p>,\n",
       " <p class=\"capping__answer\">Non. Vous pouvez vous connecter avec votre compte sur autant d’appareils que vous le souhaitez, mais en les utilisant à des moments différents.</p>,\n",
       " <p class=\"capping__question\">Vous ignorez qui est l’autre personne ?</p>,\n",
       " <p class=\"capping__answer\">Nous vous conseillons de <a class=\"capping__link js-capping-password\" href=\"https://secure.lemonde.fr/sfuser/password/lost\">modifier votre mot de passe</a>.</p>,\n",
       " <p class=\"footer__title\">Newsletters du monde</p>,\n",
       " <p class=\"footer__title\">Applications Mobiles</p>,\n",
       " <p class=\"footer__title\">Abonnement</p>,\n",
       " <p class=\"footer__title\">Suivez Le Monde</p>,\n",
       " <p><i>Le Monde</i> utilise des cookies pour vous offrir une expérience utilisateur de qualité, mesurer l’audience, optimiser les fonctionnalités des réseaux sociaux et vous proposer des publicités personnalisées. En poursuivant votre navigation sur ce site, vous acceptez l’utilisation de cookies dans les conditions prévues par notre <a aria-label=\"Politique de confidentialité – nouvelle fenêtre\" data-xtcreation=\"politique\" href=\"https://lemonde.fr/confidentialite/\" rel=\"noopener\" target=\"_blank\">politique de confidentialité</a>. <a aria-label=\"Gérer les cookies\" data-xtcreation=\"politique\" href=\"https://lemonde.fr/confidentialite/\">En savoir plus et gérer les cookies</a>.</p>]"
      ]
     },
     "execution_count": 14,
     "metadata": {},
     "output_type": "execute_result"
    }
   ],
   "source": [
    "html.find_all('p')"
   ]
  },
  {
   "cell_type": "markdown",
   "metadata": {},
   "source": [
    "<h2> 11.3- Travail avec d'autres types de balises </h2> \n",
    "\n",
    "Travailler avec des pages html contenant des IDs \n",
    "\n",
    "https://raw.githubusercontent.com/codelikerod/web-scraping/master/exemple2.html"
   ]
  },
  {
   "cell_type": "raw",
   "metadata": {},
   "source": [
    "<html>\n",
    "\n",
    "  <head>\n",
    "  \n",
    "      <title> Un exemple de page HTML </title>\n",
    "      \n",
    "  </head>\n",
    "\n",
    "  <body>\n",
    "  \n",
    "    <div>\n",
    "      <p id=\"first\">1er paragraphe</p>\n",
    "    </div>\n",
    "    \n",
    "      <p id=\"second\">2nd paragraphe</p>\n",
    "      \n",
    "  </body>\n",
    "  \n",
    "</html>"
   ]
  },
  {
   "cell_type": "code",
   "execution_count": 66,
   "metadata": {},
   "outputs": [
    {
     "data": {
      "text/plain": [
       "<html>\n",
       "<head>\n",
       "<title> Un exemple de page HTML </title>\n",
       "</head>\n",
       "<body>\n",
       "<div>\n",
       "<p id=\"first\">1er paragraphe</p>\n",
       "</div>\n",
       "<p id=\"second\">2nd paragraphe</p>\n",
       "</body>\n",
       "</html>"
      ]
     },
     "execution_count": 66,
     "metadata": {},
     "output_type": "execute_result"
    }
   ],
   "source": [
    "# Téléchargement de la page \n",
    "response = requests.get(\"https://raw.githubusercontent.com/codelikerod/web-scraping/master/exemple2.html\")\n",
    "content = response.content\n",
    "parser = BeautifulSoup(content,'html.parser')\n",
    "parser"
   ]
  },
  {
   "cell_type": "code",
   "execution_count": 67,
   "metadata": {},
   "outputs": [
    {
     "name": "stdout",
     "output_type": "stream",
     "text": [
      "1er paragraphe\n"
     ]
    }
   ],
   "source": [
    "# Récupérer l'ID du premier paragraphe\n",
    "first_paragraph = parser.find_all(\"p\", id = \"first\")[0] # on  ajoute ID = first\n",
    "print(first_paragraph.text)"
   ]
  },
  {
   "cell_type": "code",
   "execution_count": 68,
   "metadata": {},
   "outputs": [
    {
     "name": "stdout",
     "output_type": "stream",
     "text": [
      "2nd paragraphe\n"
     ]
    }
   ],
   "source": [
    "# Récupérer l'ID du second paragraphe\n",
    "second_paragraph = parser.find_all(\"p\", id = \"second\")[0] # on  ajoute ID = second\n",
    "print(second_paragraph.text)"
   ]
  },
  {
   "cell_type": "markdown",
   "metadata": {},
   "source": [
    "<h2> 11.4- Travail avec des classes </h2> \n",
    "\n",
    "En html, des éléments peuvent partager des classes. \n"
   ]
  },
  {
   "cell_type": "raw",
   "metadata": {},
   "source": [
    "<html>\n",
    "  <head>\n",
    "      <title> Un exemple de page HTML </title>\n",
    "  </head>\n",
    "\n",
    "  <body>\n",
    "    <div>\n",
    "      <p class=\"class1\">1er paragraphe classe 1</p>\n",
    "      <p class=\"class1\">2nd paragraphe class 1</p>\n",
    "    </div>\n",
    "      <p class=\"class2\">1er paragraphe class 2</p>\n",
    "      <p class=\"class2\">2nd paragraphe class 2</p>\n",
    "  </body>\n",
    "</html>"
   ]
  },
  {
   "cell_type": "code",
   "execution_count": 69,
   "metadata": {},
   "outputs": [
    {
     "data": {
      "text/plain": [
       "<html>\n",
       "<head>\n",
       "<title> Un exemple de page HTML </title>\n",
       "</head>\n",
       "<body>\n",
       "<div>\n",
       "<p class=\"class1\">1er paragraphe classe 1</p>\n",
       "<p class=\"class1\">2nd paragraphe class 1</p>\n",
       "</div>\n",
       "<p class=\"class2\">1er paragraphe class 2</p>\n",
       "<p class=\"class2\">2nd paragraphe class 2</p>\n",
       "</body>\n",
       "</html>"
      ]
     },
     "execution_count": 69,
     "metadata": {},
     "output_type": "execute_result"
    }
   ],
   "source": [
    "# Téléchargement de la page \n",
    "response = requests.get(\"https://raw.githubusercontent.com/codelikerod/web-scraping/master/exemple3.html\")\n",
    "content = response.content\n",
    "parser = BeautifulSoup(content,'html.parser')\n",
    "parser"
   ]
  },
  {
   "cell_type": "markdown",
   "metadata": {},
   "source": [
    "Si on souhaite extraire le premier paragraphe de la class1:\n",
    "\n",
    "On doit d'abord trouver tous les paragraphes de class1 et récupérer le premier élément."
   ]
  },
  {
   "cell_type": "code",
   "execution_count": 70,
   "metadata": {},
   "outputs": [
    {
     "name": "stdout",
     "output_type": "stream",
     "text": [
      "1er paragraphe classe 1\n"
     ]
    }
   ],
   "source": [
    "first_class1_paragraph = parser.find_all(\"p\", class_ = \"class1\")[0] # on  ajoute ID = first\n",
    "\n",
    "print(first_class1_paragraph.text)"
   ]
  },
  {
   "cell_type": "markdown",
   "metadata": {},
   "source": [
    "### Training"
   ]
  },
  {
   "cell_type": "code",
   "execution_count": 71,
   "metadata": {},
   "outputs": [
    {
     "name": "stdout",
     "output_type": "stream",
     "text": [
      "2nd paragraphe class 1\n",
      "1er paragraphe class 2\n"
     ]
    }
   ],
   "source": [
    "# récupérer le texte du second paragraphe de la classe 1 \n",
    "second_class1_paragraph = parser.find_all(\"p\", class_ = \"class1\")[1] \n",
    "print(second_class1_paragraph.text)\n",
    "# Récupérer le texte du premier paragrape de la class2 \n",
    "\n",
    "first_class2_paragraph = parser.find_all(\"p\", class_ = \"class2\")[0] \n",
    "print(first_class2_paragraph.text)"
   ]
  },
  {
   "cell_type": "markdown",
   "metadata": {},
   "source": [
    "<h2> 11.5- Travailler avec des sélecteurs de CSS </h2> \n",
    "\n",
    "https://www.w3schools.com/css/\n",
    "\n",
    "Travailler avec : \n",
    "https://raw.githubusercontent.com/codelikerod/web-scraping/master/exemple4.html"
   ]
  },
  {
   "cell_type": "raw",
   "metadata": {},
   "source": [
    "<html>\n",
    "  <head>\n",
    "      <title> Un exemple de page HTML </title>\n",
    "      <style>\n",
    "          .class2{\n",
    "              color: red\n",
    "                  }\n",
    "          #first{\n",
    "              font-weight: bold;\n",
    "               }\n",
    "      </style>\n",
    "  </head>\n",
    "\n",
    "  <body>\n",
    "    <div>\n",
    "      <p class=\"class1 first-item\" id=\"first\">1er paragraphe classe 1\n",
    "      </p>\n",
    "      <p class=\"class1\">2nd paragraphe class 1\n",
    "      </p>\n",
    "    </div>\n",
    "    <div>\n",
    "      <p class=\"class2 first-item\" id=\"second\">1er paragraphe class 2\n",
    "      </p>\n",
    "      <p class=\"class2\">2nd paragraphe class 2\n",
    "      </p>\n",
    "    </div>\n",
    "  </body>\n",
    "</html>"
   ]
  },
  {
   "cell_type": "code",
   "execution_count": 72,
   "metadata": {},
   "outputs": [
    {
     "data": {
      "text/plain": [
       "<html>\n",
       "<head>\n",
       "<title> Un exemple de page HTML </title>\n",
       "<style>\n",
       "          .class2{\n",
       "              color: red\n",
       "                  }\n",
       "          #first{\n",
       "              font-weight: bold;\n",
       "               }\n",
       "      </style>\n",
       "</head>\n",
       "<body>\n",
       "<div>\n",
       "<p class=\"class1 first-item\" id=\"first\">1er paragraphe classe 1\n",
       "      </p>\n",
       "<p class=\"class1\">2nd paragraphe class 1\n",
       "      </p>\n",
       "</div>\n",
       "<div>\n",
       "<p class=\"class2 first-item\" id=\"second\">1er paragraphe class 2\n",
       "      </p>\n",
       "<p class=\"class2\">2nd paragraphe class 2\n",
       "      </p>\n",
       "</div>\n",
       "</body>\n",
       "</html>"
      ]
     },
     "execution_count": 72,
     "metadata": {},
     "output_type": "execute_result"
    }
   ],
   "source": [
    "# Téléchargement de la page web\n",
    "response = requests.get(\"https://raw.githubusercontent.com/codelikerod/web-scraping/master/exemple4.html\")\n",
    "content = response.content\n",
    "parser = BeautifulSoup(content,'html.parser')\n",
    "parser"
   ]
  },
  {
   "cell_type": "markdown",
   "metadata": {},
   "source": [
    "- sélectionner tous les éléments de la class first-item et la mettre dans une liste: "
   ]
  },
  {
   "cell_type": "code",
   "execution_count": 73,
   "metadata": {},
   "outputs": [
    {
     "data": {
      "text/plain": [
       "[<p class=\"class1 first-item\" id=\"first\">1er paragraphe classe 1\n",
       "       </p>, <p class=\"class2 first-item\" id=\"second\">1er paragraphe class 2\n",
       "       </p>]"
      ]
     },
     "execution_count": 73,
     "metadata": {},
     "output_type": "execute_result"
    }
   ],
   "source": [
    "first_items = parser.select(\".first-item\")\n",
    "first_items"
   ]
  },
  {
   "cell_type": "code",
   "execution_count": 74,
   "metadata": {},
   "outputs": [
    {
     "name": "stdout",
     "output_type": "stream",
     "text": [
      "1er paragraphe classe 1\r\n",
      "      \n"
     ]
    }
   ],
   "source": [
    "print(first_items[0].text)"
   ]
  },
  {
   "cell_type": "markdown",
   "metadata": {},
   "source": [
    "### Training"
   ]
  },
  {
   "cell_type": "code",
   "execution_count": 75,
   "metadata": {},
   "outputs": [
    {
     "name": "stdout",
     "output_type": "stream",
     "text": [
      "1er paragraphe class 2\r\n",
      "      \n",
      "1er paragraphe class 2\r\n",
      "      \n"
     ]
    }
   ],
   "source": [
    "# Sélectionner tous les éléments de la classe2 et assigner le premier élément \n",
    "first_class2 = parser.select(\".class2\")[0]\n",
    "print(first_class2.text)\n",
    "\n",
    "# Sélectionner tous les éléments qui possèdent l'ID second et assigner le premier paragraphe\n",
    "second_text = parser.select(\"#second\")[0]\n",
    "print(second_text.text)\n"
   ]
  },
  {
   "cell_type": "markdown",
   "metadata": {},
   "source": [
    "<h2> 11.6- Associer des sélecteurs en CSS </h2> \n",
    "\n",
    "On peut associer des sélecteurs : \n",
    "\n",
    "- div p : sélecteur qui cible les paragraphes du bloc div\n",
    "- div .first-item :  sélecteur qui cible les éléments de class .first-item  du bloc div\n",
    "- body div #first : sélecteur qui cible chaque élément d'ID #first au sein du bloc div lui même au sein du bloc body\n",
    "- .first-item #first: sélecteur qui cible chaque élément possédent l'ID #first au sein de la classe .first-item\n",
    "\n",
    "\n",
    "On va faire un exemple en travaillant avec cette page: https://raw.githubusercontent.com/codelikerod/web-scraping/master/psg-vs-chelsea.html\n",
    "\n"
   ]
  },
  {
   "cell_type": "raw",
   "metadata": {},
   "source": [
    "<html>\n",
    "    <head lang=\"en\">\n",
    "        <meta charset=\"UTF-8\">\n",
    "        <title>PSG - Chelsea</title>\n",
    "    </head>\n",
    "    <body>\n",
    "\n",
    "        <table class=\"stats_table nav_table\" id=\"team_stats\">\n",
    "            <tbody>\n",
    "                <tr id=\"teams\">\n",
    "                    <th></th>\n",
    "                    <th>Chelsea</th>\n",
    "                    <th>Paris</th>\n",
    "                </tr>\n",
    "                <tr id=\"goals\">\n",
    "                    <td>Buts</td>\n",
    "                    <td>2</td>\n",
    "                    <td>2</td>\n",
    "                </tr>\n",
    "                <tr id=\"possession\">\n",
    "                    <td>Possession</td>\n",
    "                    <td>51%</td>\n",
    "                    <td>49%</td>\n",
    "                </tr>\n",
    "                <tr id=\"tirs\">\n",
    "                    <td>Nombre de tirs</td>\n",
    "                    <td>14</td>\n",
    "                    <td>12</td>\n",
    "                </tr>\n",
    "                <tr id=\"corners\">\n",
    "                    <td>Nombre de corners</td>\n",
    "                    <td>7</td>\n",
    "                    <td>11</td>\n",
    "                </tr>\n",
    "                <tr id=\"fautes\">\n",
    "                    <td>Fautes</td>\n",
    "                    <td>24</td>\n",
    "                    <td>17</td>\n",
    "                </tr>\n",
    "                <tr id=\"passes\">\n",
    "                    <td>Nombre de passes</td>\n",
    "                    <td>537</td>\n",
    "                    <td>545</td>\n",
    "                </tr>\n",
    "            </tbody>\n",
    "        </table>\n",
    "\n",
    "    </body>\n",
    "</html>"
   ]
  },
  {
   "cell_type": "markdown",
   "metadata": {},
   "source": [
    "- Téléchargement de la page  "
   ]
  },
  {
   "cell_type": "code",
   "execution_count": 76,
   "metadata": {},
   "outputs": [
    {
     "data": {
      "text/plain": [
       "<html>\n",
       "<head lang=\"en\">\n",
       "<meta charset=\"utf-8\"/>\n",
       "<title>PSG - Chelsea</title>\n",
       "</head>\n",
       "<body>\n",
       "<table class=\"stats_table nav_table\" id=\"team_stats\">\n",
       "<tbody>\n",
       "<tr id=\"teams\">\n",
       "<th></th>\n",
       "<th>Chelsea</th>\n",
       "<th>Paris</th>\n",
       "</tr>\n",
       "<tr id=\"goals\">\n",
       "<td>Buts</td>\n",
       "<td>2</td>\n",
       "<td>2</td>\n",
       "</tr>\n",
       "<tr id=\"possession\">\n",
       "<td>Possession</td>\n",
       "<td>51%</td>\n",
       "<td>49%</td>\n",
       "</tr>\n",
       "<tr id=\"tirs\">\n",
       "<td>Nombre de tirs</td>\n",
       "<td>14</td>\n",
       "<td>12</td>\n",
       "</tr>\n",
       "<tr id=\"corners\">\n",
       "<td>Nombre de corners</td>\n",
       "<td>7</td>\n",
       "<td>11</td>\n",
       "</tr>\n",
       "<tr id=\"fautes\">\n",
       "<td>Fautes</td>\n",
       "<td>24</td>\n",
       "<td>17</td>\n",
       "</tr>\n",
       "<tr id=\"passes\">\n",
       "<td>Nombre de passes</td>\n",
       "<td>537</td>\n",
       "<td>545</td>\n",
       "</tr>\n",
       "</tbody>\n",
       "</table>\n",
       "</body>\n",
       "</html>"
      ]
     },
     "execution_count": 76,
     "metadata": {},
     "output_type": "execute_result"
    }
   ],
   "source": [
    "# Téléchargement de la page \n",
    "response = requests.get(\"https://raw.githubusercontent.com/codelikerod/web-scraping/master/psg-vs-chelsea.html\")\n",
    "content = response.content\n",
    "parser = BeautifulSoup(content,'html.parser')\n",
    "parser"
   ]
  },
  {
   "cell_type": "markdown",
   "metadata": {},
   "source": [
    "-  Extraire le nombre de fautes de Chelsea et assigner le résultat:"
   ]
  },
  {
   "cell_type": "code",
   "execution_count": 77,
   "metadata": {},
   "outputs": [
    {
     "data": {
      "text/plain": [
       "<tr id=\"fautes\">\n",
       "<td>Fautes</td>\n",
       "<td>24</td>\n",
       "<td>17</td>\n",
       "</tr>"
      ]
     },
     "execution_count": 77,
     "metadata": {},
     "output_type": "execute_result"
    }
   ],
   "source": [
    "# Extraire le nombre de fautes de Chelsea et assigner le résultat\n",
    "offences_count = parser.select(\"#fautes\")[0]\n",
    "offences_count"
   ]
  },
  {
   "cell_type": "code",
   "execution_count": 78,
   "metadata": {},
   "outputs": [
    {
     "data": {
      "text/plain": [
       "[<td>Fautes</td>, <td>24</td>, <td>17</td>]"
      ]
     },
     "execution_count": 78,
     "metadata": {},
     "output_type": "execute_result"
    }
   ],
   "source": [
    "chelsea_offences_count=offences_count.select(\"td\")\n",
    "chelsea_offences_count"
   ]
  },
  {
   "cell_type": "code",
   "execution_count": 79,
   "metadata": {},
   "outputs": [
    {
     "name": "stdout",
     "output_type": "stream",
     "text": [
      "24\n"
     ]
    }
   ],
   "source": [
    "chelsea_offences_count=offences_count.select(\"td\")[1]\n",
    "print(chelsea_offences_count.text)"
   ]
  },
  {
   "cell_type": "markdown",
   "metadata": {},
   "source": [
    "- Extraire le nombre de passes réussies par le psg et assigner le résultat"
   ]
  },
  {
   "cell_type": "code",
   "execution_count": 80,
   "metadata": {},
   "outputs": [
    {
     "data": {
      "text/plain": [
       "'545'"
      ]
     },
     "execution_count": 80,
     "metadata": {},
     "output_type": "execute_result"
    }
   ],
   "source": [
    "psg_pass_count = parser.select(\"#passes\")[0].select(\"td\")[2].text\n",
    "psg_pass_count"
   ]
  },
  {
   "cell_type": "markdown",
   "metadata": {
    "collapsed": true
   },
   "source": [
    "<h2> 11.7- Mise en pratique 1:  </h2>\n",
    "\n",
    "On va travailler avec un site web d'une page web météorologique: \n",
    "http://forecast.weather.gov/MapClick.php?lat=37.7772&lon=-122.4168#.Wk0VIlSdWV4\n",
    "\n",
    "\n",
    "- 1 : Télécharger la page contenant la prévision \n",
    "- 2 : Utiliser  BeautifulSoup pour analyser le code html\n",
    "- 3 : Trouver l'ID seven-day-forecast et assigner le résultat à une variable seven_day\n",
    "- 4 : à l'intérieur de seven_day, sélectionner chaque prévision individuellement \n",
    "- 5 : Extraire et afficher le premier résultat"
   ]
  },
  {
   "cell_type": "markdown",
   "metadata": {},
   "source": [
    "<h3> 11.7.1- Exploration de la page:  </h3>"
   ]
  },
  {
   "cell_type": "code",
   "execution_count": 86,
   "metadata": {},
   "outputs": [],
   "source": [
    "import requests\n",
    "\n",
    "# Téléchargement de la page web\n",
    "page = requests.get(\"http://forecast.weather.gov/MapClick.php?lat=37.7772&lon=-122.4168#.Wk0VIlSdWV4\")\n"
   ]
  },
  {
   "cell_type": "code",
   "execution_count": 87,
   "metadata": {},
   "outputs": [
    {
     "data": {
      "text/plain": [
       "<!DOCTYPE html>\n",
       "\n",
       "<html class=\"no-js\">\n",
       "<head>\n",
       "<!-- Meta -->\n",
       "<meta content=\"width=device-width\" name=\"viewport\"/>\n",
       "<link href=\"http://purl.org/dc/elements/1.1/\" rel=\"schema.DC\"/><title>National Weather Service</title><meta content=\"National Weather Service\" name=\"DC.title\"><meta content=\"NOAA National Weather Service National Weather Service\" name=\"DC.description\"/><meta content=\"US Department of Commerce, NOAA, National Weather Service\" name=\"DC.creator\"/><meta content=\"\" name=\"DC.date.created\" scheme=\"ISO8601\"/><meta content=\"EN-US\" name=\"DC.language\" scheme=\"DCTERMS.RFC1766\"/><meta content=\"weather, National Weather Service\" name=\"DC.keywords\"/><meta content=\"NOAA's National Weather Service\" name=\"DC.publisher\"/><meta content=\"National Weather Service\" name=\"DC.contributor\"/><meta content=\"http://www.weather.gov/disclaimer.php\" name=\"DC.rights\"/><meta content=\"General\" name=\"rating\"/><meta content=\"index,follow\" name=\"robots\"/>\n",
       "<!-- Icons -->\n",
       "<link href=\"./images/favicon.ico\" rel=\"shortcut icon\" type=\"image/x-icon\"/>\n",
       "<!-- CSS -->\n",
       "<link href=\"css/bootstrap-3.2.0.min.css\" rel=\"stylesheet\"/>\n",
       "<link href=\"css/bootstrap-theme-3.2.0.min.css\" rel=\"stylesheet\"/>\n",
       "<link href=\"css/font-awesome-4.3.0.min.css\" rel=\"stylesheet\"/>\n",
       "<link href=\"css/ol-4.6.4.css\" rel=\"stylesheet\" type=\"text/css\"/>\n",
       "<link href=\"css/mapclick.css\" rel=\"stylesheet\" type=\"text/css\">\n",
       "<!--[if lte IE 7]><link rel=\"stylesheet\" type=\"text/css\" href=\"css/bootstrap-ie7.css\" /><![endif]-->\n",
       "<!--[if lte IE 9]><link rel=\"stylesheet\" type=\"text/css\" href=\"css/mapclick-ie.css\" /><![endif]-->\n",
       "<link href=\"css/print.css\" rel=\"stylesheet\" type=\"text/css\">\n",
       "<link href=\"css/search.css\" rel=\"stylesheet\" type=\"text/css\">\n",
       "<!-- Javascript -->\n",
       "<script src=\"js/lib/modernizr-2.8.3.js\" type=\"text/javascript\"></script>\n",
       "<script src=\"js/lib/json3-3.3.2.min.js\" type=\"text/javascript\"></script>\n",
       "<script src=\"js/lib/jquery-1.11.3.min.js\" type=\"text/javascript\"></script>\n",
       "<script src=\"js/lib/jquery.hoverIntent-1.8.1.min.js\" type=\"text/javascript\"></script>\n",
       "<script src=\"js/lib/bootstrap-3.2.0.min.js\" type=\"text/javascript\"></script>\n",
       "<script src=\"js/lib/ol-4.6.4.js\" type=\"text/javascript\"></script>\n",
       "<!--[if lte IE 8]><script type=\"text/javascript\" src=\"js/respond.min.js\"></script><![endif]-->\n",
       "<script src=\"js/jquery.autocomplete.min.js\" type=\"text/javascript\"></script>\n",
       "<script src=\"js/cfisurvey/cfi.js?v2\" type=\"text/javascript\"></script>\n",
       "<script src=\"js/forecast.esri.js\" type=\"text/javascript\"></script>\n",
       "<script src=\"js/forecast.search.js\" type=\"text/javascript\"></script>\n",
       "<script src=\"js/forecast.openlayers.js\" type=\"text/javascript\"></script>\n",
       "<script src=\"js/browserSniffer.js\" type=\"text/javascript\"></script>\n",
       "<script src=\"js/federated-analytics.js\" type=\"text/javascript\"></script>\n",
       "<script type=\"javascript\">\n",
       "// ForeSee Staging Embed Script v2.01\n",
       "// DO NOT MODIFY BELOW THIS LINE *****************************************\n",
       ";(function (g) {\n",
       "  var d = document, am = d.createElement('script'), h = d.head || d.getElementsByTagName(\"head\")[0], fsr = 'fsReady',\n",
       "  aex = { \n",
       "    \"src\": \"//gateway.foresee.com/sites/weather-gov/production/gateway.min.js\",\n",
       "    \"type\": \"text/javascript\", \n",
       "    \"async\": \"true\", \n",
       "    \"data-vendor\": \"fs\", \n",
       "    \"data-role\": \"gateway\" \n",
       "  };\n",
       "  for (var attr in aex) { am.setAttribute(attr, aex[attr]); } h.appendChild(am); g[fsr] || (g[fsr] = function () { var aT = '__' + fsr + '_stk__'; g[aT] = g[aT] || []; g[aT].push(arguments); });\n",
       "})(window);\n",
       "// DO NOT MODIFY ABOVE THIS LINE *****************************************\n",
       "</script>\n",
       "<script type=\"text/javascript\">\n",
       "            (function (i, s, o, g, r, a, m) {\n",
       "                i['GoogleAnalyticsObject'] = r;\n",
       "                i[r] = i[r] || function () {\n",
       "                    (i[r].q = i[r].q || []).push(arguments)\n",
       "                }, i[r].l = 1 * new Date();\n",
       "                a = s.createElement(o),\n",
       "                        m = s.getElementsByTagName(o)[0];\n",
       "                a.async = 1;\n",
       "                a.src = g;\n",
       "                m.parentNode.insertBefore(a, m)\n",
       "            })(window, document, 'script', '//www.google-analytics.com/analytics.js', 'ga');\n",
       "\n",
       "            ga('create', 'UA-40768555-1', 'weather.gov', {'sampleRate': 6});\n",
       "            ga('set', 'anonymizeIp', true);\n",
       "            ga('require', 'linkid');\n",
       "            ga('send', 'pageview');\n",
       "        </script>\n",
       "</link></link></link></meta></head>\n",
       "<body>\n",
       "<main class=\"container\">\n",
       "<header class=\"row clearfix\" id=\"page-header\">\n",
       "<a class=\"pull-left\" href=\"http://www.noaa.gov\" id=\"header-noaa\"><img alt=\"National Oceanic and Atmospheric Administration\" src=\"/css/images/header_noaa.png\"/></a>\n",
       "<a class=\"pull-left\" href=\"http://www.weather.gov\" id=\"header-nws\"><img alt=\"National Weather Service\" src=\"/css/images/header_nws.png\"/></a>\n",
       "<a class=\"pull-right\" href=\"http://www.commerce.gov\" id=\"header-doc\"><img alt=\"United States Department of Commerce\" src=\"/css/images/header_doc.png\"/></a>\n",
       "</header>\n",
       "<nav class=\"navbar navbar-default row\" role=\"navigation\">\n",
       "<div class=\"container-fluid\">\n",
       "<div class=\"navbar-header\">\n",
       "<button class=\"navbar-toggle collapsed\" data-target=\"#top-nav\" data-toggle=\"collapse\" type=\"button\">\n",
       "<span class=\"sr-only\">Toggle navigation</span>\n",
       "<span class=\"icon-bar\"></span>\n",
       "<span class=\"icon-bar\"></span>\n",
       "<span class=\"icon-bar\"></span>\n",
       "</button>\n",
       "</div>\n",
       "<div class=\"collapse navbar-collapse\" id=\"top-nav\">\n",
       "<ul class=\"nav navbar-nav\">\n",
       "<li><a href=\"http://www.weather.gov\">HOME</a></li>\n",
       "<li class=\"dropdown\"><a class=\"dropdown-toggle\" data-toggle=\"dropdown\" href=\"http://www.weather.gov/forecastmaps\">FORECAST <span class=\"caret\"></span></a><ul class=\"dropdown-menu\" role=\"menu\"><li><a href=\"http://www.weather.gov\">Local</a></li><li><a href=\"http://digital.weather.gov\">Graphical</a></li><li><a href=\"http://www.aviationweather.gov/\">Aviation</a></li><li><a href=\"http://www.nws.noaa.gov/om/marine/home.htm\">Marine</a></li><li><a href=\"http://water.weather.gov/ahps/\">Rivers and Lakes</a></li><li><a href=\"http://www.nhc.noaa.gov/\">Hurricanes</a></li><li><a href=\"http://www.spc.noaa.gov/\">Severe Weather</a></li><li><a href=\"http://www.weather.gov/fire/\">Fire Weather</a></li><li><a href=\"https://www.esrl.noaa.gov/gmd/grad/solcalc/sunrise.html\">Sun/Moon</a></li><li><a href=\"http://www.cpc.ncep.noaa.gov/\">Long Range Forecasts</a></li><li><a href=\"http://www.cpc.ncep.noaa.gov\">Climate Prediction</a></li><li><a href=\"https://www.swpc.noaa.gov/\">Space Weather</a></li></ul> </li>\n",
       "<li class=\"dropdown\"><a class=\"dropdown-toggle\" data-toggle=\"dropdown\" href=\"https://w2.weather.gov/climate\">PAST WEATHER <span class=\"caret\"></span></a><ul class=\"dropdown-menu\" role=\"menu\"><li><a href=\"https://w2.weather.gov/climate/\">Past Weather</a></li><li><a href=\"https://w2.weather.gov/climate/\">Heating/Cooling Days</a></li><li><a href=\"https://w2.weather.gov/climate/\">Monthly Temperatures</a></li><li><a href=\"https://w2.weather.gov/climate/\">Records</a></li><li><a href=\"http://aa.usno.navy.mil/\">Astronomical Data</a></li></ul> </li>\n",
       "<li class=\"dropdown\"><a class=\"dropdown-toggle\" data-toggle=\"dropdown\" href=\"http://www.weather.gov/safety\">SAFETY <span class=\"caret\"></span></a><ul class=\"dropdown-menu\" role=\"menu\"><li><a href=\"https://www.weather.gov/safety/flood\">Floods</a></li><li><a href=\"https://www.weather.gov/safety/tsunami\">Tsunamis</a></li><li><a href=\"https://www.weather.gov/safety/beachhazards\">Beach Hazards</a></li><li><a href=\"https://www.weather.gov/safety/wildfire\">Wildfire</a></li><li><a href=\"https://www.weather.gov/safety/cold\">Cold</a></li><li><a href=\"https://www.weather.gov/safety/tornado\">Tornadoes</a></li><li><a href=\"https://www.weather.gov/safety/fog\">Fog</a></li><li><a href=\"https://www.weather.gov/safety/airquality\">Air Quality</a></li><li><a href=\"https://www.weather.gov/safety/heat\">Heat</a></li><li><a href=\"https://www.weather.gov/safety/hurricane\">Hurricanes</a></li><li><a href=\"https://www.weather.gov/safety/lightning\">Lightning</a></li><li><a href=\"https://www.weather.gov/safety/safeboating\">Safe Boating</a></li><li><a href=\"https://www.weather.gov/safety/ripcurrent\">Rip Currents</a></li><li><a href=\"https://www.weather.gov/safety/thunderstorm\">Thunderstorms</a></li><li><a href=\"https://www.weather.gov/safety/space\">Space Weather</a></li><li><a href=\"https://www.weather.gov/safety/heat-uv\">Sun (Ultraviolet Radiation)</a></li><li><a href=\"http://www.weather.gov/safetycampaign\">Safety Campaigns</a></li><li><a href=\"https://www.weather.gov/safety/wind\">Wind</a></li><li><a href=\"https://www.weather.gov/safety/drought\">Drought</a></li><li><a href=\"https://www.weather.gov/safety/winter\">Winter Weather</a></li></ul> </li>\n",
       "<li class=\"dropdown\"><a class=\"dropdown-toggle\" data-toggle=\"dropdown\" href=\"http://www.weather.gov/informationcenter\">INFORMATION <span class=\"caret\"></span></a><ul class=\"dropdown-menu\" role=\"menu\"><li><a href=\"http://www.weather.gov/Owlie's\">Owlie's Kids Page</a></li><li><a href=\"http://www.weather.gov/wrn/wea\">Wireless Emergency Alerts</a></li><li><a href=\"http://www.weather.gov/wrn/\">Weather-Ready Nation</a></li><li><a href=\"https://www.weather.gov/owlie/publication_brochures\">Brochures</a></li><li><a href=\"https://www.weather.gov/coop/\">Cooperative Observers</a></li><li><a href=\"http://www.weather.gov/briefing/\">Daily Briefing</a></li><li><a href=\"http://www.nws.noaa.gov/om/hazstats.shtml\">Damage/Fatality/Injury Statistics</a></li><li><a href=\"http://mag.ncep.noaa.gov/\">Forecast Models</a></li><li><a href=\"https://www.weather.gov/gis\">GIS Data Portal</a></li><li><a href=\"https://www.weather.gov/nwr/\">NOAA Weather Radio</a></li><li><a href=\"http://weather.gov/publications\">Publications</a></li><li><a href=\"http://www.weather.gov/SKYWARN\">SKYWARN Storm Spotters</a></li><li><a href=\"http://www.weather.gov/StormReady\">StormReady</a></li><li><a href=\"https://www.weather.gov/TsunamiReady/\">TsunamiReady</a></li><li><a href=\"https://www.weather.gov/notification/\">Service Change Notices</a></li></ul> </li>\n",
       "<li class=\"dropdown\"><a class=\"dropdown-toggle\" data-toggle=\"dropdown\" href=\"http://www.weather.gov/owlie\">EDUCATION <span class=\"caret\"></span></a><ul class=\"dropdown-menu\" role=\"menu\"><li><a href=\"https://www.weather.gov/wrn/force\">Be A Force of Nature</a></li><li><a href=\"http://www.weather.gov/owlie\">NWS Education Home</a></li></ul> </li>\n",
       "<li class=\"dropdown\"><a class=\"dropdown-toggle\" data-toggle=\"dropdown\" href=\"http://www.weather.gov/contact-media/\">NEWS <span class=\"caret\"></span></a><ul class=\"dropdown-menu\" role=\"menu\"><li><a href=\"http://www.weather.gov/news\">NWS News</a></li><li><a href=\"https://www.weather.gov/wrn/calendar\">Events</a></li><li><a href=\"http://www.weather.gov/socialmedia\">Social Media</a></li><li><a href=\"https://www.weather.gov/owlie/publication_brochures\">Pubs/Brochures/Booklets </a></li><li><a href=\"http://www.noaa.gov/NOAA-Communications\">NWS Media Contacts</a></li></ul> </li>\n",
       "<li class=\"dropdown\"><a class=\"dropdown-toggle\" data-toggle=\"dropdown\" href=\"http://www.weather.gov/search\">SEARCH <span class=\"caret\"></span></a><ul class=\"dropdown-menu\" role=\"menu\"> <li><!-- Begin search code -->\n",
       "<div id=\"site-search\">\n",
       "<form action=\"//search.usa.gov/search\" method=\"get\" style=\"margin-bottom: 0; margin-top: 0;\">\n",
       "<input name=\"v:project\" type=\"hidden\" value=\"firstgov\"/>\n",
       "<label for=\"query\">Search For</label>\n",
       "<input id=\"query\" name=\"query\" size=\"12\" type=\"text\"/>\n",
       "<input type=\"submit\" value=\"Go\"/>\n",
       "<p>\n",
       "<input checked=\"checked\" id=\"nws\" name=\"affiliate\" type=\"radio\" value=\"nws.noaa.gov\"/>\n",
       "<label class=\"search-scope\" for=\"nws\">NWS</label>\n",
       "<input id=\"noaa\" name=\"affiliate\" type=\"radio\" value=\"noaa.gov\"/>\n",
       "<label class=\"search-scope\" for=\"noaa\">All NOAA</label>\n",
       "</p>\n",
       "</form>\n",
       "</div>\n",
       "</li>\n",
       "</ul> </li>\n",
       "<li class=\"dropdown\"><a class=\"dropdown-toggle\" data-toggle=\"dropdown\" href=\"http://www.weather.gov/about\">ABOUT <span class=\"caret\"></span></a><ul class=\"dropdown-menu\" role=\"menu\"><li><a href=\"http://www.weather.gov/about\">About NWS</a></li><li><a href=\"http://www.weather.gov/organization\">Organization</a></li><li><a href=\"https://www.weather.gov/media/wrn/NWS_Weather-Ready-Nation_Strategic_Plan_2019-2022.pdf\">Strategic Plan</a></li><li><a href=\"https://sites.google.com/a/noaa.gov/nws-insider/\">For NWS Employees</a></li><li><a href=\"http://www.weather.gov/international/\">International</a></li><li><a href=\"http://www.weather.gov/organization\">National Centers</a></li><li><a href=\"http://www.weather.gov/careers/\">Careers</a></li><li><a href=\"http://www.weather.gov/contact\">Contact Us</a></li><li><a href=\"https://w1.weather.gov/glossary\">Glossary</a></li></ul> </li>\n",
       "</ul>\n",
       "</div>\n",
       "</div>\n",
       "</nav>\n",
       "<div class=\"contentArea\">\n",
       "<!-- Start Forecastsearch -->\n",
       "<div class=\"\" id=\"fcst-search\">\n",
       "<form action=\"https://forecast.weather.gov/zipcity.php\" class=\"form-inline\" id=\"getForecast\" method=\"get\" name=\"getForecast\" role=\"form\">\n",
       "<div id=\"getfcst-body\">\n",
       "<input class=\"form-control\" id=\"inputstring\" name=\"inputstring\" placeholder=\"\" type=\"text\"/>\n",
       "<input class=\"btn btn-default\" id=\"btnSearch\" name=\"btnSearch\" type=\"submit\" value=\"Go\"/>\n",
       "<div id=\"txtHelp\"><a href=\"javascript:void(window.open('http://weather.gov/ForecastSearchHelp.html','locsearchhelp','status=0,toolbar=0,location=0,menubar=0,directories=0,resizable=1,scrollbars=1,height=500,width=530').focus());\">View Location Examples</a></div>\n",
       "</div>\n",
       "<div id=\"txtError\">\n",
       "<div id=\"errorNoResults\" style=\"display:none;\">Sorry, the location you searched for was not found. Please try another search.</div>\n",
       "<div id=\"errorMultipleResults\" style=\"display:none\">Multiple locations were found. Please select one of the following:</div>\n",
       "<div id=\"errorChoices\" style=\"display:none\"></div>\n",
       "<input id=\"btnCloseError\" style=\"display:none\" type=\"button\" value=\"Close\"/>\n",
       "</div>\n",
       "<div id=\"getfcst-head\">\n",
       "<p>Your local forecast office is</p>\n",
       "<h3 id=\"getfcst-headOffice\"></h3>\n",
       "</div>\n",
       "</form>\n",
       "</div>\n",
       "<!-- end Forecastsearch -->\n",
       "<link href=\"/css/topnews.css\" rel=\"stylesheet\" type=\"text/css\"/>\n",
       "<div id=\"news-items\">\n",
       "<div id=\"topnews\">\n",
       "<div class=\"icon\"><img src=\"/images/news-important.jpg\"/></div>\n",
       "<div class=\"body\">\n",
       "<h1 style=\"font-size: 11pt;\">Scattered Severe Thunderstorms Possible; Heavy Rain for the Gulf Coast; Dangerous Heat in the West and Florida</h1>\n",
       "<p>\n",
       "            Severe thunderstorms are possible Wednesday across parts of the central Gulf Coast, Southeast, central Plains, southern High Plains, and northern Rockies. Heavy rain may result in flash flooding along portions of the Texas and Louisiana Gulf Coast. Dangerous heat continues through Saturday for much of central and northern California and heat advisories are in effect for portions of Florida today.\n",
       "            <a href=\"http://www.wpc.ncep.noaa.gov/discussions/hpcdiscussions.php?disc=pmdspd\" target=\"_blank\">Read More &gt;</a>\n",
       "</p>\n",
       "</div>\n",
       "</div>\n",
       "</div>\n",
       "<script type=\"text/javascript\">(function ($) { var topnews = $(\"#topnews\"); topnews.hide(); $.get(\"siteNews.php\", {a:\"mtr\"},function(response){ if (response !== \"false\") topnews.replaceWith($(response)); topnews.show(); }); })(jQuery);</script><!-- PageFormat-Land -->\n",
       "<script language=\"javascript\">document.title = $('<div/>').html('7-Day Forecast for Latitude 37.77&deg;N and Longitude 122.41&deg;W (Elev. 131 ft)').text();</script><img src=\"images/track_land_point.png\" style=\"display:none;\">\n",
       "<div id=\"quickLinks\">\n",
       "<span class=\"lang-spanish\"><a href=\"//forecast.weather.gov/MapClick.php?lat=37.7772&amp;lon=-122.4168&amp;lg=sp\">En Español</a></span>\n",
       "<div class=\"addthis_toolbox addthis_default_style addthis-forecast\">\n",
       "<a class=\"addthis_button_compact\" href=\"//www.addthis.com/bookmark.php?v=250&amp;pubid=ra-5127a6364d551d04\">Share</a>\n",
       "<span class=\"addthis_separator\">|</span>\n",
       "<a class=\"addthis_button_preferred_1\"></a>\n",
       "<a class=\"addthis_button_preferred_2\"></a>\n",
       "<a class=\"addthis_button_preferred_3\"></a>\n",
       "<a class=\"addthis_button_preferred_4\"></a>\n",
       "<a class=\"addthis_button_preferred_5\"></a>\n",
       "</div>\n",
       "<script type=\"text/javascript\">\n",
       "\t\tvar addthis_config = addthis_config || {data_track_addressbar:true, pubid: 'xa-4b05b2d91f18c9cc'};\n",
       "\t    $(document).ready(function(){\n",
       "\t\t\tjQuery.ajax({\n",
       "\t\t\t\turl: \"//s7.addthis.com/js/300/addthis_widget.js#async=1\",\n",
       "\t\t\t\tdataType: \"script\",\n",
       "\t\t\t\tcache: false\n",
       "\t\t\t});\n",
       "\t    });\n",
       "\t</script>\n",
       "</div>\n",
       "<!-- Current Conditions -->\n",
       "<div class=\"panel panel-default\" id=\"current-conditions\">\n",
       "<!-- Current Conditions header row -->\n",
       "<div class=\"panel-heading\">\n",
       "<div>\n",
       "<b>Current conditions at</b>\n",
       "<h2 class=\"panel-title\">SAN FRANCISCO DOWNTOWN (SFOC1)</h2>\n",
       "<span class=\"smallTxt\"><b>Lat: </b>37.77056°N<b>Lon: </b>122.42694°W<b>Elev: </b>150ft.</span>\n",
       "</div>\n",
       "</div>\n",
       "<div class=\"panel-body\" id=\"current-conditions-body\">\n",
       "<!-- Graphic and temperatures -->\n",
       "<div class=\"pull-left\" id=\"current_conditions-summary\">\n",
       "<p class=\"myforecast-current\">NA</p>\n",
       "<p class=\"myforecast-current-lrg\">56°F</p>\n",
       "<p class=\"myforecast-current-sm\">13°C</p>\n",
       "</div>\n",
       "<div class=\"pull-left\" id=\"current_conditions_detail\">\n",
       "<table>\n",
       "<tr>\n",
       "<td class=\"text-right\"><b>Humidity</b></td>\n",
       "<td>98%</td>\n",
       "</tr>\n",
       "<tr>\n",
       "<td class=\"text-right\"><b>Wind Speed</b></td>\n",
       "<td>NA NA MPH</td>\n",
       "</tr>\n",
       "<tr>\n",
       "<td class=\"text-right\"><b>Barometer</b></td>\n",
       "<td>1019.3 mb</td>\n",
       "</tr>\n",
       "<tr>\n",
       "<td class=\"text-right\"><b>Dewpoint</b></td>\n",
       "<td>56°F (13°C)</td>\n",
       "</tr>\n",
       "<tr>\n",
       "<td class=\"text-right\"><b>Visibility</b></td>\n",
       "<td>NA</td>\n",
       "</tr>\n",
       "<tr>\n",
       "<td class=\"text-right\"><b>Last update</b></td>\n",
       "<td>\n",
       "                24 Jun 06:43 AM PDT            </td>\n",
       "</tr>\n",
       "</table>\n",
       "</div>\n",
       "<div id=\"current_conditions_station\">\n",
       "<div class=\"current-conditions-extra\">\n",
       "<!-- Right hand section -->\n",
       "<p class=\"moreInfo\"><b>More Information:</b></p><p><a href=\"https://www.weather.gov/mtr\" id=\"localWFO\" title=\"San Francisco Bay Area/Monterey, CA\"><span class=\"hideText\">Local</span> Forecast Office</a><a href=\"https://www.weather.gov/wrh/LocalWeather?zone=CAZ006\" id=\"moreWx\">More Local Wx</a><a href=\"https://www.wrh.noaa.gov/mesowest/getobext.php?wfo=mtr&amp;sid=SFOC1&amp;num=72&amp;raw=0\">3 Day History</a><a href=\"//mobile.weather.gov/index.php?lat=37.7772&amp;lon=-122.4168&amp;unit=0&amp;lg=english\" id=\"mobileWxLink\">Mobile Weather</a><a href=\"MapClick.php?lat=37.7772&amp;lon=-122.4168&amp;unit=0&amp;lg=english&amp;FcstType=graphical\" id=\"wxGraph\">Hourly <span class=\"hideText\">Weather </span>Forecast</a></p> </div>\n",
       "<!-- /current_conditions_station -->\n",
       "</div>\n",
       "<!-- /current-conditions-body -->\n",
       "</div>\n",
       "<!-- /Current Conditions -->\n",
       "</div>\n",
       "<!-- 7-Day Forecast -->\n",
       "<div class=\"panel panel-default\" id=\"seven-day-forecast\">\n",
       "<div class=\"panel-heading\">\n",
       "<b>Extended Forecast for</b>\n",
       "<h2 class=\"panel-title\">\n",
       "\t    \t    San Francisco CA\t</h2>\n",
       "</div>\n",
       "<div class=\"panel-body\" id=\"seven-day-forecast-body\">\n",
       "<div id=\"seven-day-forecast-container\"><ul class=\"list-unstyled\" id=\"seven-day-forecast-list\"><li class=\"forecast-tombstone\">\n",
       "<div class=\"tombstone-container\">\n",
       "<p class=\"period-name\">Today<br/><br/></p>\n",
       "<p><img alt=\"Today: Mostly cloudy, then gradually becoming sunny, with a high near 70. West southwest wind 6 to 14 mph. \" class=\"forecast-icon\" src=\"newimages/medium/bkn.png\" title=\"Today: Mostly cloudy, then gradually becoming sunny, with a high near 70. West southwest wind 6 to 14 mph. \"/></p><p class=\"short-desc\">Decreasing<br/>Clouds</p><p class=\"temp temp-high\">High: 70 °F</p></div></li><li class=\"forecast-tombstone\">\n",
       "<div class=\"tombstone-container\">\n",
       "<p class=\"period-name\">Tonight<br/><br/></p>\n",
       "<p><img alt=\"Tonight: Increasing clouds, with a low around 58. West southwest wind 8 to 11 mph. \" class=\"forecast-icon\" src=\"newimages/medium/nbkn.png\" title=\"Tonight: Increasing clouds, with a low around 58. West southwest wind 8 to 11 mph. \"/></p><p class=\"short-desc\">Increasing<br/>Clouds</p><p class=\"temp temp-low\">Low: 58 °F</p></div></li><li class=\"forecast-tombstone\">\n",
       "<div class=\"tombstone-container\">\n",
       "<p class=\"period-name\">Thursday<br/><br/></p>\n",
       "<p><img alt=\"Thursday: Mostly cloudy, then gradually becoming sunny, with a high near 72. West southwest wind 6 to 14 mph, with gusts as high as 18 mph. \" class=\"forecast-icon\" src=\"newimages/medium/bkn.png\" title=\"Thursday: Mostly cloudy, then gradually becoming sunny, with a high near 72. West southwest wind 6 to 14 mph, with gusts as high as 18 mph. \"/></p><p class=\"short-desc\">Decreasing<br/>Clouds</p><p class=\"temp temp-high\">High: 72 °F</p></div></li><li class=\"forecast-tombstone\">\n",
       "<div class=\"tombstone-container\">\n",
       "<p class=\"period-name\">Thursday<br/>Night</p>\n",
       "<p><img alt=\"Thursday Night: Partly cloudy, with a low around 58. West southwest wind 9 to 14 mph, with gusts as high as 18 mph. \" class=\"forecast-icon\" src=\"newimages/medium/nsct.png\" title=\"Thursday Night: Partly cloudy, with a low around 58. West southwest wind 9 to 14 mph, with gusts as high as 18 mph. \"/></p><p class=\"short-desc\">Partly Cloudy</p><p class=\"temp temp-low\">Low: 58 °F</p></div></li><li class=\"forecast-tombstone\">\n",
       "<div class=\"tombstone-container\">\n",
       "<p class=\"period-name\">Friday<br/><br/></p>\n",
       "<p><img alt=\"Friday: Mostly sunny, with a high near 72. West southwest wind 9 to 15 mph, with gusts as high as 18 mph. \" class=\"forecast-icon\" src=\"newimages/medium/sct.png\" title=\"Friday: Mostly sunny, with a high near 72. West southwest wind 9 to 15 mph, with gusts as high as 18 mph. \"/></p><p class=\"short-desc\">Mostly Sunny</p><p class=\"temp temp-high\">High: 72 °F</p></div></li><li class=\"forecast-tombstone\">\n",
       "<div class=\"tombstone-container\">\n",
       "<p class=\"period-name\">Friday<br/>Night</p>\n",
       "<p><img alt=\"Friday Night: Mostly clear, with a low around 58.\" class=\"forecast-icon\" src=\"newimages/medium/nfew.png\" title=\"Friday Night: Mostly clear, with a low around 58.\"/></p><p class=\"short-desc\">Mostly Clear</p><p class=\"temp temp-low\">Low: 58 °F</p></div></li><li class=\"forecast-tombstone\">\n",
       "<div class=\"tombstone-container\">\n",
       "<p class=\"period-name\">Saturday<br/><br/></p>\n",
       "<p><img alt=\"Saturday: Mostly sunny, with a high near 71.\" class=\"forecast-icon\" src=\"newimages/medium/sct.png\" title=\"Saturday: Mostly sunny, with a high near 71.\"/></p><p class=\"short-desc\">Mostly Sunny</p><p class=\"temp temp-high\">High: 71 °F</p></div></li><li class=\"forecast-tombstone\">\n",
       "<div class=\"tombstone-container\">\n",
       "<p class=\"period-name\">Saturday<br/>Night</p>\n",
       "<p><img alt=\"Saturday Night: Mostly clear, with a low around 57.\" class=\"forecast-icon\" src=\"newimages/medium/nfew.png\" title=\"Saturday Night: Mostly clear, with a low around 57.\"/></p><p class=\"short-desc\">Mostly Clear</p><p class=\"temp temp-low\">Low: 57 °F</p></div></li><li class=\"forecast-tombstone\">\n",
       "<div class=\"tombstone-container\">\n",
       "<p class=\"period-name\">Sunday<br/><br/></p>\n",
       "<p><img alt=\"Sunday: Mostly sunny, with a high near 69.\" class=\"forecast-icon\" src=\"newimages/medium/sct.png\" title=\"Sunday: Mostly sunny, with a high near 69.\"/></p><p class=\"short-desc\">Mostly Sunny</p><p class=\"temp temp-high\">High: 69 °F</p></div></li></ul></div>\n",
       "<script type=\"text/javascript\">\n",
       "// equalize forecast heights\n",
       "$(function () {\n",
       "\tvar maxh = 0;\n",
       "\t$(\".forecast-tombstone .short-desc\").each(function () {\n",
       "\t\tvar h = $(this).height();\n",
       "\t\tif (h > maxh) { maxh = h; }\n",
       "\t});\n",
       "\t$(\".forecast-tombstone .short-desc\").height(maxh);\n",
       "});\n",
       "</script> </div>\n",
       "</div>\n",
       "<!-- Everything between 7-Day Forecast and Footer goes in this row -->\n",
       "<div class=\"row\" id=\"floatingDivs\">\n",
       "<!-- Everything on the left-hand side -->\n",
       "<div class=\"col-md-7 col-lg-8\">\n",
       "<!-- Detailed Forecast -->\n",
       "<div class=\"panel panel-default\" id=\"detailed-forecast\">\n",
       "<div class=\"panel-heading\">\n",
       "<h2 class=\"panel-title\">Detailed Forecast</h2>\n",
       "</div>\n",
       "<div class=\"panel-body\" id=\"detailed-forecast-body\">\n",
       "<div class=\"row row-odd row-forecast\"><div class=\"col-sm-2 forecast-label\"><b>Today</b></div><div class=\"col-sm-10 forecast-text\">Mostly cloudy, then gradually becoming sunny, with a high near 70. West southwest wind 6 to 14 mph. </div></div><div class=\"row row-even row-forecast\"><div class=\"col-sm-2 forecast-label\"><b>Tonight</b></div><div class=\"col-sm-10 forecast-text\">Increasing clouds, with a low around 58. West southwest wind 8 to 11 mph. </div></div><div class=\"row row-odd row-forecast\"><div class=\"col-sm-2 forecast-label\"><b>Thursday</b></div><div class=\"col-sm-10 forecast-text\">Mostly cloudy, then gradually becoming sunny, with a high near 72. West southwest wind 6 to 14 mph, with gusts as high as 18 mph. </div></div><div class=\"row row-even row-forecast\"><div class=\"col-sm-2 forecast-label\"><b>Thursday Night</b></div><div class=\"col-sm-10 forecast-text\">Partly cloudy, with a low around 58. West southwest wind 9 to 14 mph, with gusts as high as 18 mph. </div></div><div class=\"row row-odd row-forecast\"><div class=\"col-sm-2 forecast-label\"><b>Friday</b></div><div class=\"col-sm-10 forecast-text\">Mostly sunny, with a high near 72. West southwest wind 9 to 15 mph, with gusts as high as 18 mph. </div></div><div class=\"row row-even row-forecast\"><div class=\"col-sm-2 forecast-label\"><b>Friday Night</b></div><div class=\"col-sm-10 forecast-text\">Mostly clear, with a low around 58.</div></div><div class=\"row row-odd row-forecast\"><div class=\"col-sm-2 forecast-label\"><b>Saturday</b></div><div class=\"col-sm-10 forecast-text\">Mostly sunny, with a high near 71.</div></div><div class=\"row row-even row-forecast\"><div class=\"col-sm-2 forecast-label\"><b>Saturday Night</b></div><div class=\"col-sm-10 forecast-text\">Mostly clear, with a low around 57.</div></div><div class=\"row row-odd row-forecast\"><div class=\"col-sm-2 forecast-label\"><b>Sunday</b></div><div class=\"col-sm-10 forecast-text\">Mostly sunny, with a high near 69.</div></div><div class=\"row row-even row-forecast\"><div class=\"col-sm-2 forecast-label\"><b>Sunday Night</b></div><div class=\"col-sm-10 forecast-text\">Mostly clear, with a low around 56.</div></div><div class=\"row row-odd row-forecast\"><div class=\"col-sm-2 forecast-label\"><b>Monday</b></div><div class=\"col-sm-10 forecast-text\">Sunny, with a high near 71.</div></div><div class=\"row row-even row-forecast\"><div class=\"col-sm-2 forecast-label\"><b>Monday Night</b></div><div class=\"col-sm-10 forecast-text\">Mostly clear, with a low around 57.</div></div><div class=\"row row-odd row-forecast\"><div class=\"col-sm-2 forecast-label\"><b>Tuesday</b></div><div class=\"col-sm-10 forecast-text\">Sunny, with a high near 72.</div></div> </div>\n",
       "</div>\n",
       "<!-- /Detailed Forecast -->\n",
       "<!-- Additional Forecasts and Information -->\n",
       "<div class=\"panel panel-default\" id=\"additional_forecasts\">\n",
       "<div class=\"panel-heading\">\n",
       "<h2 class=\"panel-title\">Additional Forecasts and Information</h2>\n",
       "</div>\n",
       "<div class=\"panel-body\" id=\"additional-forecasts-body\">\n",
       "<p class=\"myforecast-location\"><a href=\"MapClick.php?zoneid=CAZ006\">Zone Area Forecast for San Francisco County, CA</a></p>\n",
       "<!-- First nine-ten links -->\n",
       "<div id=\"linkBlockContainer\">\n",
       "<div class=\"linkBlock\">\n",
       "<ul class=\"list-unstyled\">\n",
       "<li><a href=\"//forecast.weather.gov/product.php?site=MTR&amp;issuedby=MTR&amp;product=AFD&amp;format=CI&amp;version=1&amp;glossary=1\">Forecast Discussion</a></li>\n",
       "<li><a href=\"MapClick.php?lat=37.7772&amp;lon=-122.4168&amp;unit=0&amp;lg=english&amp;FcstType=text&amp;TextType=2\">Printable Forecast</a></li>\n",
       "<li><a href=\"MapClick.php?lat=37.7772&amp;lon=-122.4168&amp;unit=0&amp;lg=english&amp;FcstType=text&amp;TextType=1\">Text Only Forecast</a></li>\n",
       "</ul>\n",
       "</div>\n",
       "<div class=\"linkBlock\">\n",
       "<ul class=\"list-unstyled\">\n",
       "<li><a href=\"MapClick.php?lat=37.7772&amp;lon=-122.4168&amp;unit=0&amp;lg=english&amp;FcstType=graphical\">Hourly Weather Forecast</a></li>\n",
       "<li><a href=\"MapClick.php?lat=37.7772&amp;lon=-122.4168&amp;unit=0&amp;lg=english&amp;FcstType=digital\">Tabular Forecast</a></li>\n",
       "<!-- <li><a href=\"afm/PointClick.php?lat=37.7772&lon=-122.4168\">Quick Forecast</a></li> -->\n",
       "</ul>\n",
       "</div>\n",
       "<div class=\"linkBlock\">\n",
       "<ul class=\"list-unstyled\">\n",
       "<li><a href=\"//weather.gov/aq/probe_aq_data.php?latitude=37.7772&amp;longitude=-122.4168\">Air Quality Forecasts</a></li>\n",
       "<li><a href=\"MapClick.php?lat=37.7772&amp;lon=-122.4168&amp;FcstType=text&amp;unit=1&amp;lg=en\">International System of Units</a></li>\n",
       "<li><a href=\"//www.wrh.noaa.gov/forecast/wxtables/index.php?lat=37.7772&amp;lon=-122.4168\">Forecast Weather Table Interface</a></li>\n",
       "</ul>\n",
       "</div>\n",
       "<!-- /First nine-ten links -->\n",
       "<!-- Additional links -->\n",
       "<div class=\"linkBlock\"><ul class=\"list-unstyled\"><li><a href=\"http://www.wrh.noaa.gov/mtr/versprod.php?pil=RR8&amp;sid=RSA\" target=\"_self\">Hourly River Stages</a></li><li><a href=\"http://www.wrh.noaa.gov/mtr/versprod.php?pil=RR5&amp;sid=RSA\" target=\"_self\">Hourly Rainfall</a></li></ul></div><div class=\"linkBlock\"><ul class=\"list-unstyled\"><li><a href=\"http://www.wrh.noaa.gov/mtr/wxlinks.php\" target=\"_self\">NWS Office Map</a></li><li><a href=\"http://www.wrh.noaa.gov/mtr/wx_calculator.php\" target=\"_self\">Weather Calculator</a></li></ul></div><div class=\"linkBlock\"><ul class=\"list-unstyled\"><li><a href=\"http://www.nws.noaa.gov/wtf/udaf/area/?site=mtr\" target=\"_self\">User Defined Area</a></li></ul></div>\n",
       "</div> <!-- /linkBlockContainer -->\n",
       "</div><!-- /additional-forecasts-body-->\n",
       "</div> <!-- /additional_forecasts -->\n",
       "</div> <!-- /Everything on the left-hand side -->\n",
       "<!-- right-side-data -->\n",
       "<div class=\"col-md-5 col-lg-4\" id=\"right-side-data\">\n",
       "<div id=\"mapAndDescriptionArea\">\n",
       "<!-- openlayer map -->\n",
       "<style>\n",
       "#custom-search{\n",
       "display: block;\n",
       "position: relative;\n",
       "z-index: 50;\n",
       "top: 52px;\n",
       "left: 60px;\n",
       "}\n",
       "#esri-geocoder-search{\n",
       "display: block;\n",
       "position: relative;\n",
       "z-index: 50;\n",
       "top: 52px;\n",
       "left: 60px;\n",
       "}\n",
       "#emap{\n",
       "margin-top:15px;\n",
       "cursor:pointer;\n",
       "height:370px;\n",
       "width:100%;\n",
       "border: 1px solid #ccc;\n",
       "border-radius: 3px;\n",
       "}\n",
       "#switch-basemap-container{\n",
       "}\n",
       "#basemap-selection-form ul{\n",
       "list-style: none;\n",
       " margin: 0px;\n",
       "}\n",
       "#basemap-selection-form li{\n",
       "float: left;\n",
       "}\n",
       ".disclaimer{\n",
       "margin-top:350px;\n",
       "margin-left: 5px;\n",
       "z-index: 100;\n",
       "position: absolute;\n",
       "text-transform: none;\n",
       "}\n",
       ".esriAttributionLastItem{\n",
       "text-transform: none;\n",
       "}\n",
       ".esriSimpleSlider div{\n",
       "height:22px;\n",
       "line-height:20px;\n",
       "width:20px;\n",
       "}\n",
       "#point-forecast-map-label {\n",
       "text-align:center;\n",
       "font-weight:bold;\n",
       "color:black;\n",
       "}\n",
       "@media (max-width: 767px) {\n",
       "#emap{\n",
       "margin-top:.5em;\n",
       "height:270px;\n",
       "}\n",
       ".disclaimer{\n",
       "margin-top:250px;\n",
       "}\n",
       "}\n",
       "</style>\n",
       "<!-- forecast-map -->\n",
       "<div class=\"point-forecast-map\">\n",
       "<div class=\"point-forecast-map-header text-center\">\n",
       "<div id=\"toolbar\">\n",
       "<div id=\"switch-basemap-container\">\n",
       "<div id=\"basemap-selection-form\" title=\"Choose a Basemap\">\n",
       "<div id=\"basemap-menu\">\n",
       "<select autocomplete=\"off\" id=\"basemap-selected\" name=\"basemap-selected\" title=\"Basemap Dropdown Menu\">\n",
       "<option value=\"none\">Select Basemap</option>\n",
       "<option selected=\"\" value=\"topo\">Topographic</option>\n",
       "<option value=\"streets\">Streets</option>\n",
       "<option value=\"satellite\">Satellite</option>\n",
       "<option value=\"ocean\">Ocean</option>\n",
       "</select>\n",
       "</div>\n",
       "</div>\n",
       "<div id=\"point-forecast-map-label\">\n",
       "                    Click Map For Forecast\n",
       "                </div>\n",
       "</div><!-- //#switch-basemap-container -->\n",
       "<div style=\"clear:both;\"></div>\n",
       "</div><!-- //#toolbar -->\n",
       "</div><!-- //.point-forecast-map-header -->\n",
       "<div id=\"emap\">\n",
       "<noscript><center><br/><br/><b>Map function requires Javascript and a compatible browser.</b></center></noscript>\n",
       "<div class=\"disclaimer\"><a href=\"http://www.weather.gov/disclaimer#esri\">Disclaimer</a></div>\n",
       "</div><!-- //#emap -->\n",
       "<div class=\"point-forecast-map-footer\">\n",
       "<img alt=\"Map Legend\" height=\"16\" src=\"./images/wtf/maplegend_forecast-area.gif\" width=\"100\"/>\n",
       "</div><!-- //.point-forecast-map-footer -->\n",
       "</div> <!-- //.point-forecast-map -->\n",
       "<!-- //forecast-map -->\n",
       "<!-- //openlayer map -->\n",
       "<!-- About this Forecast -->\n",
       "<div id=\"about_forecast\">\n",
       "<div class=\"fullRow\">\n",
       "<div class=\"left\">Point Forecast:</div>\n",
       "<div class=\"right\">San Francisco CA<br/> 37.77°N 122.41°W (Elev. 131 ft)</div>\n",
       "</div>\n",
       "<div class=\"fullRow\">\n",
       "<div class=\"left\"><a href=\"//www.weather.gov/glossary/index.php?word=Last+update\" target=\"_blank\">Last Update</a>: </div>\n",
       "<div class=\"right\">4:01 am PDT Jun 24, 2020</div>\n",
       "</div>\n",
       "<div class=\"fullRow\">\n",
       "<div class=\"left\"><a href=\"//www.weather.gov/glossary/index.php?word=forecast+valid+for\" target=\"_blank\">Forecast Valid</a>: </div>\n",
       "<div class=\"right\">7am PDT Jun 24, 2020-6pm PDT Jun 30, 2020</div>\n",
       "</div>\n",
       "<div class=\"fullRow\">\n",
       "<div class=\"left\"> </div>\n",
       "<div class=\"right\"><a href=\"https://forecast.weather.gov/product.php?site=MTR&amp;issuedby=MTR&amp;product=AFD&amp;format=CI&amp;version=1&amp;glossary=1\">Forecast Discussion</a></div>\n",
       "</div>\n",
       "<div class=\"fullRow\">\n",
       "<div class=\"left\"> </div>\n",
       "<div class=\"right\">\n",
       "<a href=\"MapClick.php?lat=37.7772&amp;lon=-122.4168&amp;unit=0&amp;lg=english&amp;FcstType=kml\"><img alt=\"Get as KML\" height=\"17\" src=\"/images/wtf/kml_badge.png\" width=\"45\"/></a>\n",
       "<a href=\"MapClick.php?lat=37.7772&amp;lon=-122.4168&amp;unit=0&amp;lg=english&amp;FcstType=dwml\"><img alt=\"Get as XML\" height=\"17\" src=\"/images/wtf/xml_badge.png\" width=\"45\"/></a>\n",
       "</div>\n",
       "</div>\n",
       "</div>\n",
       "<!-- /About this Forecast -->\n",
       "</div>\n",
       "<!--additionalForecast-->\n",
       "<div class=\"panel panel-default\" id=\"additionalForecast\">\n",
       "<div class=\"panel-heading\">\n",
       "<h2 class=\"panel-title\">Additional Resources</h2>\n",
       "</div>\n",
       "<div class=\"panel-body\">\n",
       "<!-- Radar & Satellite Images -->\n",
       "<div class=\"subItem\" id=\"radar\">\n",
       "<h4>Radar &amp; Satellite Image</h4>\n",
       "<a href=\"//radar.weather.gov/radar.php?rid=mux&amp;product=N0R&amp;overlay=11101111&amp;loop=no\"><img alt=\"Link to Local Radar Data\" class=\"radar-thumb\" src=\"//radar.weather.gov/Thumbs/MUX_Thumb.gif\" title=\"Link to Local Radar Data\"/></a> <a href=\"https://www.star.nesdis.noaa.gov/GOES/sector.php?sat=G17§or=psw\"><img alt=\"Link to Satellite Data\" class=\"satellite-thumb\" src=\"https://cdn.star.nesdis.noaa.gov/GOES17/ABI/SECTOR/psw/GEOCOLOR/600x600.jpg\" title=\"Link to Satellite Data\"/></a> </div>\n",
       "<!-- /Radar & Satellite Images -->\n",
       "<!-- Hourly Weather Forecast -->\n",
       "<div class=\"subItem\" id=\"feature\">\n",
       "<h4>Hourly Weather Forecast</h4>\n",
       "<a href=\"MapClick.php?lat=37.7772&amp;lon=-122.4168&amp;unit=0&amp;lg=english&amp;FcstType=graphical\"><img class=\"img-responsive\" src=\"newimages/medium/hourlyweather.png\"/></a>\n",
       "</div>\n",
       "<!-- /Hourly Weather Forecast -->\n",
       "<!-- NDFD -->\n",
       "<div class=\"subItem\" id=\"NDFD\">\n",
       "<h4>National Digital Forecast Database</h4>\n",
       "<div class=\"one-sixth-first\"><a href=\"//graphical.weather.gov/sectors/pacsouthwest.php?element=MaxT\"><img alt=\"National Digital Forecast Database Maximum Temperature Forecast\" border=\"0\" height=\"150\" src=\"//graphical.weather.gov/images/thumbnail/latest_MaxMinT_pacsouthwest_thumbnail.png\" title=\"National Digital Forecast Database Maximum Temperature Forecast\" width=\"147\"/></a>\n",
       "<p><a href=\"//graphical.weather.gov/sectors/pacsouthwest.php?element=MaxT\">High Temperature</a></p></div><div class=\"one-sixth-first\"><a href=\"//graphical.weather.gov/sectors/pacsouthwest.php?element=Wx\"><img alt=\"National Digital Forecast Database Weather Element Forecast\" border=\"0\" height=\"150\" src=\"//graphical.weather.gov/images/thumbnail/latest_Wx_pacsouthwest_thumbnail.png\" title=\"National Digital Forecast Database Weather Element Forecast\" width=\"147\"/></a>\n",
       "<p><a href=\"//graphical.weather.gov/sectors/pacsouthwest.php?element=Wx\">Chance of Precipitation</a></p></div> </div>\n",
       "<!-- /NDFD -->\n",
       "</div>\n",
       "</div>\n",
       "<!-- /additionalForecast -->\n",
       "</div>\n",
       "<!-- /col-md-4 -->\n",
       "<!-- /right-side-data -->\n",
       "<script language=\"javascript\">$( document ).ready(function() { load_openlayers_map('', '', '', '{\"centroid_lat\":\"37.7772\",\"centroid_lon\":\"-122.4168\",\"lat1\":\"37.7595\",\"lon1\":\"-122.4205\",\"lat2\":\"37.781\",\"lon2\":\"-122.426\",\"lat3\":\"37.7855\",\"lon3\":\"-122.3985\",\"lat4\":\"37.764\",\"lon4\":\"-122.393\"}') });</script></div>\n",
       "<!-- /row  -->\n",
       "</img></div>\n",
       "<!-- /PageFormat-Land -->\n",
       "</main></body></html>\n",
       "<footer>\n",
       "<div class=\"sitemap-content row\" id=\"sitemap\">\n",
       "<div class=\"col-xs-12\">\n",
       "<div class=\"sitemap-columns\">\n",
       "<div class=\"sitemap-section\">\n",
       "<div class=\"panel-heading\">\n",
       "<a class=\"sitemap-section-heading\" href=\" http://www.nws.noaa.gov/climate/\">PAST WEATHER</a>\n",
       "<button class=\"menu-toggle pull-right\" data-target=\"#sitemap-1\" data-toggle=\"collapse\" type=\"button\">\n",
       "<span class=\"sr-only\">Toggle menu</span>\n",
       "<span class=\"icon-bar\"></span>\n",
       "<span class=\"icon-bar\"></span>\n",
       "<span class=\"icon-bar\"></span>\n",
       "</button>\n",
       "</div>\n",
       "<div class=\"sitemap-section-body panel-body collapsable collapse\" id=\"sitemap-1\">\n",
       "<ul class=\"list-unstyled\">\n",
       "<li><a href=\" http://www.cpc.ncep.noaa.gov/products/MD_index.shtml\">Climate Monitoring </a></li>\n",
       "<li><a href=\"https://w2.weather.gov/climate/\">Past Weather </a></li>\n",
       "<li><a href=\" http://www.nws.noaa.gov/climate/\">Monthly Temps </a></li>\n",
       "<li><a href=\" http://www.nws.noaa.gov/climate/\">Records </a></li>\n",
       "<li><a href=\"https://www.esrl.noaa.gov/gmd/grad/solcalc/sunrise.html\">Astronomical Data </a></li>\n",
       "<li><a href=\"https://www.climate.gov/maps-data/dataset/past-weather-zip-code-data-table\">Certified Weather Data </a></li>\n",
       "</ul>\n",
       "</div>\n",
       "</div>\n",
       "<div class=\"sitemap-section\">\n",
       "<div class=\"panel-heading\">\n",
       "<a class=\"sitemap-section-heading\" href=\"http://alerts.weather.gov\">ACTIVE ALERTS</a>\n",
       "<button class=\"menu-toggle pull-right\" data-target=\"#sitemap-2\" data-toggle=\"collapse\" type=\"button\">\n",
       "<span class=\"sr-only\">Toggle menu</span>\n",
       "<span class=\"icon-bar\"></span>\n",
       "<span class=\"icon-bar\"></span>\n",
       "<span class=\"icon-bar\"></span>\n",
       "</button>\n",
       "</div>\n",
       "<div class=\"sitemap-section-body panel-body collapsable collapse\" id=\"sitemap-2\">\n",
       "<ul class=\"list-unstyled\">\n",
       "<li><a href=\" http://alerts.weather.gov\">Warnings By State</a></li>\n",
       "<li><a href=\" http://www.wpc.ncep.noaa.gov/ww.shtml\">Excessive Rainfall and Winter Weather Forecasts</a></li>\n",
       "<li><a href=\"http://water.weather.gov/ahps/?current_color=flood&amp;current_type=all&amp;fcst_type=obs&amp;conus_map=d_map\">River Flooding </a></li>\n",
       "<li><a href=\" http://www.weather.gov\">Latest Warnings</a></li>\n",
       "<li><a href=\" http://www.spc.noaa.gov/products/outlook/\">Thunderstorm/Tornado Outlook </a></li>\n",
       "<li><a href=\" http://www.nhc.noaa.gov/\">Hurricanes </a></li>\n",
       "<li><a href=\" http://www.spc.noaa.gov/products/fire_wx/\">Fire Weather Outlooks </a></li>\n",
       "<li><a href=\" http://www.cpc.ncep.noaa.gov/products/stratosphere/uv_index/uv_alert.shtml\">UV Alerts </a></li>\n",
       "<li><a href=\" http://www.drought.gov/\">Drought </a></li>\n",
       "<li><a href=\"http://www.swpc.noaa.gov/products/alerts-watches-and-warnings\">Space Weather </a></li>\n",
       "<li><a href=\" http://www.nws.noaa.gov/nwr/\">NOAA Weather Radio </a></li>\n",
       "<li><a href=\" http://alerts.weather.gov/\">NWS CAP Feeds </a></li>\n",
       "</ul>\n",
       "</div>\n",
       "</div>\n",
       "<div class=\"sitemap-section\">\n",
       "<div class=\"panel-heading\">\n",
       "<a class=\"sitemap-section-heading\" href=\"http://www.weather.gov/current\">CURRENT CONDITIONS</a>\n",
       "<button class=\"menu-toggle pull-right\" data-target=\"#sitemap-3\" data-toggle=\"collapse\" type=\"button\">\n",
       "<span class=\"sr-only\">Toggle menu</span>\n",
       "<span class=\"icon-bar\"></span>\n",
       "<span class=\"icon-bar\"></span>\n",
       "<span class=\"icon-bar\"></span>\n",
       "</button>\n",
       "</div>\n",
       "<div class=\"sitemap-section-body panel-body collapsable collapse\" id=\"sitemap-3\">\n",
       "<ul class=\"list-unstyled\">\n",
       "<li><a href=\" http://www.weather.gov/Radar\">Radar </a></li>\n",
       "<li><a href=\"http://www.cpc.ncep.noaa.gov/products/monitoring_and_data/\">Climate Monitoring </a></li>\n",
       "<li><a href=\" http://water.weather.gov/ahps/\">River Levels </a></li>\n",
       "<li><a href=\" http://water.weather.gov/precip/\">Observed Precipitation </a></li>\n",
       "<li><a href=\"https://www.wpc.ncep.noaa.gov/sfc/sfcobs/sfcobs.shtml\">Surface Weather </a></li>\n",
       "<li><a href=\"http://www.spc.noaa.gov/obswx/maps/\">Upper Air </a></li>\n",
       "<li><a href=\" http://www.ndbc.noaa.gov/\">Marine and Buoy Reports </a></li>\n",
       "<li><a href=\"http://www.nohrsc.noaa.gov/interactive/html/map.html\">Snow Cover </a></li>\n",
       "<li><a href=\" http://www.weather.gov/satellite\">Satellite </a></li>\n",
       "<li><a href=\" http://www.swpc.noaa.gov/\">Space Weather </a></li>\n",
       "<li><a href=\"http://www.weather.gov/pr\">International Observations</a></li>\n",
       "</ul>\n",
       "</div>\n",
       "</div>\n",
       "<div class=\"sitemap-section\">\n",
       "<div class=\"panel-heading\">\n",
       "<a class=\"sitemap-section-heading\" href=\"http://weather.gov/forecastmaps\">FORECAST</a>\n",
       "<button class=\"menu-toggle pull-right\" data-target=\"#sitemap-4\" data-toggle=\"collapse\" type=\"button\">\n",
       "<span class=\"sr-only\">Toggle menu</span>\n",
       "<span class=\"icon-bar\"></span>\n",
       "<span class=\"icon-bar\"></span>\n",
       "<span class=\"icon-bar\"></span>\n",
       "</button>\n",
       "</div>\n",
       "<div class=\"sitemap-section-body panel-body collapsable collapse\" id=\"sitemap-4\">\n",
       "<ul class=\"list-unstyled\">\n",
       "<li><a href=\" http://www.weather.gov/\">Local Forecast </a></li>\n",
       "<li><a href=\"http://www.weather.gov/pr\">International Forecasts</a></li>\n",
       "<li><a href=\" http://www.spc.noaa.gov/\">Severe Weather </a></li>\n",
       "<li><a href=\" http://www.wpc.ncep.noaa.gov/\">Current Outlook Maps </a></li>\n",
       "<li><a href=\"http://www.cpc.ncep.noaa.gov/products/Drought\">Drought </a></li>\n",
       "<li><a href=\"http://www.weather.gov/fire\">Fire Weather </a></li>\n",
       "<li><a href=\" http://www.wpc.ncep.noaa.gov/\">Fronts/Precipitation Maps </a></li>\n",
       "<li><a href=\" http://www.nws.noaa.gov/forecasts/graphical/\">Current Graphical Forecast Maps </a></li>\n",
       "<li><a href=\"http://water.weather.gov/ahps/forecasts.php\">Rivers </a></li>\n",
       "<li><a href=\"https://www.weather.gov/marine/\">Marine </a></li>\n",
       "<li><a href=\"https://ocean.weather.gov/marine_areas.php\">Offshore and High Seas</a></li>\n",
       "<li><a href=\" http://www.nhc.noaa.gov/\">Hurricanes </a></li>\n",
       "<li><a href=\" http://aviationweather.gov\">Aviation Weather </a></li>\n",
       "<li><a href=\"http://www.cpc.ncep.noaa.gov/products/OUTLOOKS_index.shtml\">Climatic Outlook </a></li>\n",
       "</ul>\n",
       "</div>\n",
       "</div>\n",
       "<div class=\"sitemap-section\">\n",
       "<div class=\"panel-heading\">\n",
       "<a class=\"sitemap-section-heading\" href=\"http://www.weather.gov/informationcenter\">INFORMATION CENTER</a>\n",
       "<button class=\"menu-toggle pull-right\" data-target=\"#sitemap-5\" data-toggle=\"collapse\" type=\"button\">\n",
       "<span class=\"sr-only\">Toggle menu</span>\n",
       "<span class=\"icon-bar\"></span>\n",
       "<span class=\"icon-bar\"></span>\n",
       "<span class=\"icon-bar\"></span>\n",
       "</button>\n",
       "</div>\n",
       "<div class=\"sitemap-section-body panel-body collapsable collapse\" id=\"sitemap-5\">\n",
       "<ul class=\"list-unstyled\">\n",
       "<li><a href=\" http://www.spaceweather.gov\">Space Weather </a></li>\n",
       "<li><a href=\"http://www.weather.gov/briefing/\">Daily Briefing </a></li>\n",
       "<li><a href=\" http://www.nws.noaa.gov/om/marine/home.htm\">Marine </a></li>\n",
       "<li><a href=\"http://www.nws.noaa.gov/climate\">Climate </a></li>\n",
       "<li><a href=\"http://www.weather.gov/fire\">Fire Weather </a></li>\n",
       "<li><a href=\" http://www.aviationweather.gov/\">Aviation </a></li>\n",
       "<li><a href=\"http://mag.ncep.noaa.gov/\">Forecast Models </a></li>\n",
       "<li><a href=\"http://water.weather.gov/ahps/\">Water </a></li>\n",
       "<li><a href=\"https://www.weather.gov/gis/\">GIS</a></li>\n",
       "<li><a href=\" http://www.nws.noaa.gov/om/coop/\">Cooperative Observers </a></li>\n",
       "<li><a href=\"https://www.weather.gov/skywarn/\">Storm Spotters </a></li>\n",
       "<li><a href=\"http://www.tsunami.gov\">Tsunami Warning System</a></li>\n",
       "<li><a href=\"http://water.noaa.gov/\">National Water Center</a></li>\n",
       "<li><a href=\"http://www.weather.gov/pr\">International Weather</a></li>\n",
       "</ul>\n",
       "</div>\n",
       "</div>\n",
       "<div class=\"sitemap-section\">\n",
       "<div class=\"panel-heading\">\n",
       "<a class=\"sitemap-section-heading\" href=\"http://weather.gov/safety\">WEATHER SAFETY</a>\n",
       "<button class=\"menu-toggle pull-right\" data-target=\"#sitemap-6\" data-toggle=\"collapse\" type=\"button\">\n",
       "<span class=\"sr-only\">Toggle menu</span>\n",
       "<span class=\"icon-bar\"></span>\n",
       "<span class=\"icon-bar\"></span>\n",
       "<span class=\"icon-bar\"></span>\n",
       "</button>\n",
       "</div>\n",
       "<div class=\"sitemap-section-body panel-body collapsable collapse\" id=\"sitemap-6\">\n",
       "<ul class=\"list-unstyled\">\n",
       "<li><a href=\"http://www.weather.gov/nwr/\">NOAA Weather Radio</a></li>\n",
       "<li><a href=\"http://www.weather.gov/stormready/\">StormReady</a></li>\n",
       "<li><a href=\"http://www.nws.noaa.gov/om/heat/index.shtml\">Heat </a></li>\n",
       "<li><a href=\"https://www.weather.gov/safety/lightning\">Lightning </a></li>\n",
       "<li><a href=\" http://www.nhc.noaa.gov/prepare/\">Hurricanes </a></li>\n",
       "<li><a href=\"http://www.nws.noaa.gov/om/thunderstorm/\">Thunderstorms </a></li>\n",
       "<li><a href=\"https://www.weather.gov/safety/tornado\">Tornadoes </a></li>\n",
       "<li><a href=\"https://www.weather.gov/safety/ripcurrent\">Rip Currents </a></li>\n",
       "<li><a href=\"https://www.weather.gov/safety/flood\">Floods </a></li>\n",
       "<li><a href=\"https://www.weather.gov/safety/tsunami\">Tsunamis</a></li>\n",
       "<li><a href=\"https://www.weather.gov/tsunamiready/\">TsunamiReady</a></li>\n",
       "<li><a href=\" http://www.weather.gov/om/winter/index.shtml\">Winter Weather </a></li>\n",
       "<li><a href=\"http://www.nws.noaa.gov/om/heat/uv.shtml\">Ultra Violet Radiation </a></li>\n",
       "<li><a href=\" http://www.weather.gov/airquality/\">Air Quality </a></li>\n",
       "<li><a href=\" http://www.weather.gov/om/hazstats.shtml\">Damage/Fatality/Injury Statistics </a></li>\n",
       "<li><a href=\" http://www.redcross.org/\">Red Cross </a></li>\n",
       "<li><a href=\" http://www.fema.gov/\">Federal Emergency Management Agency (FEMA) </a></li>\n",
       "<li><a href=\" http://www.weather.gov/om/brochures.shtml\">Brochures </a></li>\n",
       "<li><a href=\"http://www.nws.noaa.gov/os/marine/safeboating/\">Safe Boating</a></li>\n",
       "</ul>\n",
       "</div>\n",
       "</div>\n",
       "<div class=\"sitemap-section\">\n",
       "<div class=\"panel-heading\">\n",
       "<a class=\"sitemap-section-heading\" href=\"http://weather.gov/news\">NEWS</a>\n",
       "<button class=\"menu-toggle pull-right\" data-target=\"#sitemap-7\" data-toggle=\"collapse\" type=\"button\">\n",
       "<span class=\"sr-only\">Toggle menu</span>\n",
       "<span class=\"icon-bar\"></span>\n",
       "<span class=\"icon-bar\"></span>\n",
       "<span class=\"icon-bar\"></span>\n",
       "</button>\n",
       "</div>\n",
       "<div class=\"sitemap-section-body panel-body collapsable collapse\" id=\"sitemap-7\">\n",
       "<ul class=\"list-unstyled\">\n",
       "<li><a href=\" http://weather.gov/news\">Newsroom</a></li>\n",
       "<li><a href=\" http://weather.gov/socialmedia\">Social Media </a></li>\n",
       "<li><a href=\"http://www.nws.noaa.gov/com/weatherreadynation/calendar.html\">Events</a></li>\n",
       "<li><a href=\" http://www.weather.gov/om/brochures.shtml\">Pubs/Brochures/Booklets </a></li>\n",
       "</ul>\n",
       "</div>\n",
       "</div>\n",
       "<div class=\"sitemap-section\">\n",
       "<div class=\"panel-heading\">\n",
       "<a class=\"sitemap-section-heading\" href=\"http://weather.gov/owlie\">EDUCATION</a>\n",
       "<button class=\"menu-toggle pull-right\" data-target=\"#sitemap-8\" data-toggle=\"collapse\" type=\"button\">\n",
       "<span class=\"sr-only\">Toggle menu</span>\n",
       "<span class=\"icon-bar\"></span>\n",
       "<span class=\"icon-bar\"></span>\n",
       "<span class=\"icon-bar\"></span>\n",
       "</button>\n",
       "</div>\n",
       "<div class=\"sitemap-section-body panel-body collapsable collapse\" id=\"sitemap-8\">\n",
       "<ul class=\"list-unstyled\">\n",
       "<li><a href=\"http://weather.gov/owlie\">NWS Education Home</a></li>\n",
       "<li><a href=\"http://www.nws.noaa.gov/com/weatherreadynation/force.html\">Be A Force of Nature</a></li>\n",
       "<li><a href=\" http://www.education.noaa.gov/Weather_and_Atmosphere/\">NOAA Education Resources </a></li>\n",
       "<li><a href=\" http://www.weather.gov/glossary/\">Glossary </a></li>\n",
       "<li><a href=\"https://www.weather.gov/jetstream/\">JetStream </a></li>\n",
       "<li><a href=\" http://www.weather.gov/training/\">NWS Training Portal </a></li>\n",
       "<li><a href=\"https://library.noaa.gov/\">NOAA Library </a></li>\n",
       "<li><a href=\"http://weather.gov/owlie\">For Students, Parents and Teachers</a></li>\n",
       "<li><a href=\"http://www.weather.gov/owlie/publication_brochures\">Brochures </a></li>\n",
       "</ul>\n",
       "</div>\n",
       "</div>\n",
       "<div class=\"sitemap-section\">\n",
       "<div class=\"panel-heading\">\n",
       "<a class=\"sitemap-section-heading\" href=\"http://weather.gov/about\">ABOUT</a>\n",
       "<button class=\"menu-toggle pull-right\" data-target=\"#sitemap-9\" data-toggle=\"collapse\" type=\"button\">\n",
       "<span class=\"sr-only\">Toggle menu</span>\n",
       "<span class=\"icon-bar\"></span>\n",
       "<span class=\"icon-bar\"></span>\n",
       "<span class=\"icon-bar\"></span>\n",
       "</button>\n",
       "</div>\n",
       "<div class=\"sitemap-section-body panel-body collapsable collapse\" id=\"sitemap-9\">\n",
       "<ul class=\"list-unstyled\">\n",
       "<li><a href=\"http://weather.gov/organization\">Organization </a></li>\n",
       "<li><a href=\"https://www.weather.gov/media/wrn/NWS_Weather-Ready-Nation_Strategic_Plan_2019-2022.pdf\">Strategic Plan </a></li>\n",
       "<li><a href=\"https://sites.google.com/a/noaa.gov/nws-best-practices/\">For NWS Employees </a></li>\n",
       "<li><a href=\"https://www.weather.gov/international/\">International </a></li>\n",
       "<li><a href=\"http://www.ncep.noaa.gov/\">National Centers </a></li>\n",
       "<li><a href=\" http://www.weather.gov/tg/\">Products and Services </a></li>\n",
       "<li><a href=\"http://www.weather.gov/careers/\">Careers</a></li>\n",
       "<li><a href=\" http://www.weather.gov/glossary/\">Glossary </a></li>\n",
       "<li><a href=\"http://weather.gov/contact\">Contact Us </a></li>\n",
       "</ul>\n",
       "</div>\n",
       "</div>\n",
       "</div>\n",
       "</div>\n",
       "</div>\n",
       "<!-- legal footer area -->\n",
       "<div class=\"footer-legal\">\n",
       "<div class=\"col-xs-12 col-sm-2 col-md-2\" id=\"footerLogo\">\n",
       "<a href=\"http://www.usa.gov\"><img alt=\"usa.gov\" height=\"30\" src=\"/css/images/usa_gov.png\" width=\"110\"/></a>\n",
       "</div>\n",
       "<div class=\"col-xs-12 col-sm-4 col-md-4\">\n",
       "<ul class=\"list-unstyled footer-legal-content\">\n",
       "<li><a href=\"http://www.commerce.gov\">US Dept of Commerce</a></li>\n",
       "<li><a href=\"http://www.noaa.gov\">National Oceanic and Atmospheric Administration</a></li>\n",
       "<li><a href=\"http://www.weather.gov\">National Weather Service</a></li>\n",
       "<li><a href=\"https://www.weather.gov/mtr\">San Francisco Bay Area, CA</a></li><li><br><a href=\"mailto:w-mtr.webmaster@noaa.gov\">Comments? Questions? Please Contact Us.</a></br></li> </ul>\n",
       "</div>\n",
       "<div class=\"col-xs-12 col-sm-3 col-md-3\">\n",
       "<ul class=\"list-unstyled\">\n",
       "<li><a href=\"https://www.weather.gov/disclaimer\">Disclaimer</a></li>\n",
       "<li><a href=\"http://www.cio.noaa.gov/services_programs/info_quality.html\">Information Quality</a></li>\n",
       "<li><a href=\"https://www.weather.gov/help\">Help</a></li>\n",
       "<li><a href=\"http://www.weather.gov/glossary\">Glossary</a></li>\n",
       "</ul>\n",
       "</div>\n",
       "<div class=\"col-xs-12 col-sm-3 col-md-3\">\n",
       "<ul class=\"list-unstyled\">\n",
       "<li><a href=\"https://www.weather.gov/privacy\">Privacy Policy</a></li>\n",
       "<li><a href=\"https://www.noaa.gov/foia-freedom-of-information-act\">Freedom of Information Act (FOIA)</a></li>\n",
       "<li><a href=\"https://www.weather.gov/about\">About Us</a></li>\n",
       "<li><a href=\"https://www.weather.gov/careers\">Career Opportunities</a></li>\n",
       "</ul>\n",
       "</div>\n",
       "</div>\n",
       "</footer>\n",
       "\n",
       "\n"
      ]
     },
     "execution_count": 87,
     "metadata": {},
     "output_type": "execute_result"
    }
   ],
   "source": [
    "#Utilisation de BeautifulSoup pour analyser le code html\n",
    "from bs4 import BeautifulSoup\n",
    "# on va analyser le contenu précédent avec BeautifulSoup \n",
    "soup = BeautifulSoup(page.content,'html.parser')\n",
    "soup"
   ]
  },
  {
   "cell_type": "markdown",
   "metadata": {},
   "source": [
    "On va chercher les balises avec l'ID: seven-day-forecast"
   ]
  },
  {
   "cell_type": "code",
   "execution_count": 88,
   "metadata": {},
   "outputs": [
    {
     "data": {
      "text/plain": [
       "<div class=\"panel panel-default\" id=\"seven-day-forecast\">\n",
       "<div class=\"panel-heading\">\n",
       "<b>Extended Forecast for</b>\n",
       "<h2 class=\"panel-title\">\n",
       "\t    \t    San Francisco CA\t</h2>\n",
       "</div>\n",
       "<div class=\"panel-body\" id=\"seven-day-forecast-body\">\n",
       "<div id=\"seven-day-forecast-container\"><ul class=\"list-unstyled\" id=\"seven-day-forecast-list\"><li class=\"forecast-tombstone\">\n",
       "<div class=\"tombstone-container\">\n",
       "<p class=\"period-name\">Today<br/><br/></p>\n",
       "<p><img alt=\"Today: Mostly cloudy, then gradually becoming sunny, with a high near 70. West southwest wind 6 to 14 mph. \" class=\"forecast-icon\" src=\"newimages/medium/bkn.png\" title=\"Today: Mostly cloudy, then gradually becoming sunny, with a high near 70. West southwest wind 6 to 14 mph. \"/></p><p class=\"short-desc\">Decreasing<br/>Clouds</p><p class=\"temp temp-high\">High: 70 °F</p></div></li><li class=\"forecast-tombstone\">\n",
       "<div class=\"tombstone-container\">\n",
       "<p class=\"period-name\">Tonight<br/><br/></p>\n",
       "<p><img alt=\"Tonight: Increasing clouds, with a low around 58. West southwest wind 8 to 11 mph. \" class=\"forecast-icon\" src=\"newimages/medium/nbkn.png\" title=\"Tonight: Increasing clouds, with a low around 58. West southwest wind 8 to 11 mph. \"/></p><p class=\"short-desc\">Increasing<br/>Clouds</p><p class=\"temp temp-low\">Low: 58 °F</p></div></li><li class=\"forecast-tombstone\">\n",
       "<div class=\"tombstone-container\">\n",
       "<p class=\"period-name\">Thursday<br/><br/></p>\n",
       "<p><img alt=\"Thursday: Mostly cloudy, then gradually becoming sunny, with a high near 72. West southwest wind 6 to 14 mph, with gusts as high as 18 mph. \" class=\"forecast-icon\" src=\"newimages/medium/bkn.png\" title=\"Thursday: Mostly cloudy, then gradually becoming sunny, with a high near 72. West southwest wind 6 to 14 mph, with gusts as high as 18 mph. \"/></p><p class=\"short-desc\">Decreasing<br/>Clouds</p><p class=\"temp temp-high\">High: 72 °F</p></div></li><li class=\"forecast-tombstone\">\n",
       "<div class=\"tombstone-container\">\n",
       "<p class=\"period-name\">Thursday<br/>Night</p>\n",
       "<p><img alt=\"Thursday Night: Partly cloudy, with a low around 58. West southwest wind 9 to 14 mph, with gusts as high as 18 mph. \" class=\"forecast-icon\" src=\"newimages/medium/nsct.png\" title=\"Thursday Night: Partly cloudy, with a low around 58. West southwest wind 9 to 14 mph, with gusts as high as 18 mph. \"/></p><p class=\"short-desc\">Partly Cloudy</p><p class=\"temp temp-low\">Low: 58 °F</p></div></li><li class=\"forecast-tombstone\">\n",
       "<div class=\"tombstone-container\">\n",
       "<p class=\"period-name\">Friday<br/><br/></p>\n",
       "<p><img alt=\"Friday: Mostly sunny, with a high near 72. West southwest wind 9 to 15 mph, with gusts as high as 18 mph. \" class=\"forecast-icon\" src=\"newimages/medium/sct.png\" title=\"Friday: Mostly sunny, with a high near 72. West southwest wind 9 to 15 mph, with gusts as high as 18 mph. \"/></p><p class=\"short-desc\">Mostly Sunny</p><p class=\"temp temp-high\">High: 72 °F</p></div></li><li class=\"forecast-tombstone\">\n",
       "<div class=\"tombstone-container\">\n",
       "<p class=\"period-name\">Friday<br/>Night</p>\n",
       "<p><img alt=\"Friday Night: Mostly clear, with a low around 58.\" class=\"forecast-icon\" src=\"newimages/medium/nfew.png\" title=\"Friday Night: Mostly clear, with a low around 58.\"/></p><p class=\"short-desc\">Mostly Clear</p><p class=\"temp temp-low\">Low: 58 °F</p></div></li><li class=\"forecast-tombstone\">\n",
       "<div class=\"tombstone-container\">\n",
       "<p class=\"period-name\">Saturday<br/><br/></p>\n",
       "<p><img alt=\"Saturday: Mostly sunny, with a high near 71.\" class=\"forecast-icon\" src=\"newimages/medium/sct.png\" title=\"Saturday: Mostly sunny, with a high near 71.\"/></p><p class=\"short-desc\">Mostly Sunny</p><p class=\"temp temp-high\">High: 71 °F</p></div></li><li class=\"forecast-tombstone\">\n",
       "<div class=\"tombstone-container\">\n",
       "<p class=\"period-name\">Saturday<br/>Night</p>\n",
       "<p><img alt=\"Saturday Night: Mostly clear, with a low around 57.\" class=\"forecast-icon\" src=\"newimages/medium/nfew.png\" title=\"Saturday Night: Mostly clear, with a low around 57.\"/></p><p class=\"short-desc\">Mostly Clear</p><p class=\"temp temp-low\">Low: 57 °F</p></div></li><li class=\"forecast-tombstone\">\n",
       "<div class=\"tombstone-container\">\n",
       "<p class=\"period-name\">Sunday<br/><br/></p>\n",
       "<p><img alt=\"Sunday: Mostly sunny, with a high near 69.\" class=\"forecast-icon\" src=\"newimages/medium/sct.png\" title=\"Sunday: Mostly sunny, with a high near 69.\"/></p><p class=\"short-desc\">Mostly Sunny</p><p class=\"temp temp-high\">High: 69 °F</p></div></li></ul></div>\n",
       "<script type=\"text/javascript\">\n",
       "// equalize forecast heights\n",
       "$(function () {\n",
       "\tvar maxh = 0;\n",
       "\t$(\".forecast-tombstone .short-desc\").each(function () {\n",
       "\t\tvar h = $(this).height();\n",
       "\t\tif (h > maxh) { maxh = h; }\n",
       "\t});\n",
       "\t$(\".forecast-tombstone .short-desc\").height(maxh);\n",
       "});\n",
       "</script> </div>\n",
       "</div>"
      ]
     },
     "execution_count": 88,
     "metadata": {},
     "output_type": "execute_result"
    }
   ],
   "source": [
    "seven_day = soup.find(id=\"seven-day-forecast\")\n",
    "seven_day"
   ]
  },
  {
   "cell_type": "markdown",
   "metadata": {},
   "source": [
    "On va chercher les classes \"tombstone-container\" : "
   ]
  },
  {
   "cell_type": "code",
   "execution_count": null,
   "metadata": {},
   "outputs": [],
   "source": [
    "forecast_items = seven_day.find_all(class_=\"tombstone-container\")"
   ]
  },
  {
   "cell_type": "code",
   "execution_count": 93,
   "metadata": {},
   "outputs": [
    {
     "name": "stdout",
     "output_type": "stream",
     "text": [
      "<div class=\"tombstone-container\">\n",
      " <p class=\"period-name\">\n",
      "  Today\n",
      "  <br/>\n",
      "  <br/>\n",
      " </p>\n",
      " <p>\n",
      "  <img alt=\"Today: Mostly cloudy, then gradually becoming sunny, with a high near 70. West southwest wind 6 to 14 mph. \" class=\"forecast-icon\" src=\"newimages/medium/bkn.png\" title=\"Today: Mostly cloudy, then gradually becoming sunny, with a high near 70. West southwest wind 6 to 14 mph. \"/>\n",
      " </p>\n",
      " <p class=\"short-desc\">\n",
      "  Decreasing\n",
      "  <br/>\n",
      "  Clouds\n",
      " </p>\n",
      " <p class=\"temp temp-high\">\n",
      "  High: 70 °F\n",
      " </p>\n",
      "</div>\n"
     ]
    }
   ],
   "source": [
    "today = forecast_items[0]\n",
    "print(today.prettify())"
   ]
  },
  {
   "cell_type": "markdown",
   "metadata": {},
   "source": [
    "<h3> 11.7.2- Extraire les informations d'un éléments:  </h3>"
   ]
  },
  {
   "cell_type": "code",
   "execution_count": 94,
   "metadata": {},
   "outputs": [
    {
     "name": "stdout",
     "output_type": "stream",
     "text": [
      "Today\n",
      "DecreasingClouds\n",
      "High: 70 °F\n"
     ]
    }
   ],
   "source": [
    "# extraire le nom de l'objet forecast, la courte description et la température\n",
    "period = today.find(class_=\"period-name\").get_text()\n",
    "short_desc = today.find(class_=\"short-desc\").get_text()\n",
    "temp = today.find(class_=\"temp\").get_text()\n",
    "print(period)\n",
    "print(short_desc)\n",
    "print(temp)"
   ]
  },
  {
   "cell_type": "code",
   "execution_count": 101,
   "metadata": {},
   "outputs": [
    {
     "name": "stdout",
     "output_type": "stream",
     "text": [
      "<class 'bs4.element.Tag'>\n"
     ]
    }
   ],
   "source": [
    "# Extraire le titre de l'objet img\n",
    "img = today.find(\"img\")\n",
    "print(type(img))"
   ]
  },
  {
   "cell_type": "markdown",
   "metadata": {},
   "source": [
    "- img est un dictionnaire on récupère title avec un []"
   ]
  },
  {
   "cell_type": "code",
   "execution_count": 102,
   "metadata": {},
   "outputs": [
    {
     "name": "stdout",
     "output_type": "stream",
     "text": [
      "Today: Mostly cloudy, then gradually becoming sunny, with a high near 70. West southwest wind 6 to 14 mph. \n"
     ]
    }
   ],
   "source": [
    "desc = img[\"title\"] # img est un dictionnaire on récupère title avec un []\n",
    "print(desc)"
   ]
  },
  {
   "cell_type": "markdown",
   "metadata": {},
   "source": [
    "<h3> 11.7.3- Extraire toutes les informations de la page:  </h3>\n",
    "\n",
    "- 1 Sélectionner tous les objets de la classe period-name à l'intérieur dun objet de classe tombstone-container dans l'élément seven-day\n",
    "- 2 Utiliser une compréhension de liste puis appeler la méthode get_text() sur chaque objet"
   ]
  },
  {
   "cell_type": "code",
   "execution_count": 103,
   "metadata": {},
   "outputs": [
    {
     "data": {
      "text/plain": [
       "[<p class=\"period-name\">Today<br/><br/></p>,\n",
       " <p class=\"period-name\">Tonight<br/><br/></p>,\n",
       " <p class=\"period-name\">Thursday<br/><br/></p>,\n",
       " <p class=\"period-name\">Thursday<br/>Night</p>,\n",
       " <p class=\"period-name\">Friday<br/><br/></p>,\n",
       " <p class=\"period-name\">Friday<br/>Night</p>,\n",
       " <p class=\"period-name\">Saturday<br/><br/></p>,\n",
       " <p class=\"period-name\">Saturday<br/>Night</p>,\n",
       " <p class=\"period-name\">Sunday<br/><br/></p>]"
      ]
     },
     "execution_count": 103,
     "metadata": {},
     "output_type": "execute_result"
    }
   ],
   "source": [
    "period_tags = seven_day.select(\".tombstone-container .period-name\")\n",
    "period_tags"
   ]
  },
  {
   "cell_type": "markdown",
   "metadata": {},
   "source": [
    "On parcourt tous les éléments de period_tags et pour chaque élément on applique la méthode get_text()"
   ]
  },
  {
   "cell_type": "code",
   "execution_count": 105,
   "metadata": {},
   "outputs": [
    {
     "data": {
      "text/plain": [
       "['Today',\n",
       " 'Tonight',\n",
       " 'Thursday',\n",
       " 'ThursdayNight',\n",
       " 'Friday',\n",
       " 'FridayNight',\n",
       " 'Saturday',\n",
       " 'SaturdayNight',\n",
       " 'Sunday']"
      ]
     },
     "execution_count": 105,
     "metadata": {},
     "output_type": "execute_result"
    }
   ],
   "source": [
    "periods = [pt.get_text() for pt in period_tags]\n",
    "periods"
   ]
  },
  {
   "cell_type": "code",
   "execution_count": 106,
   "metadata": {},
   "outputs": [],
   "source": [
    "# on fait de même avec courte description, les températures et les titres\n",
    "short_descs = [sd.get_text() for sd in seven_day.select(\".tombstone-container .short-desc\")]\n",
    "\n",
    "temps = [t.get_text() for t in seven_day.select(\".tombstone-container .temp\")]\n",
    "\n",
    "descs = [d[\"title\"] for d in seven_day.select(\".tombstone-container img\")]"
   ]
  },
  {
   "cell_type": "code",
   "execution_count": 107,
   "metadata": {},
   "outputs": [
    {
     "name": "stdout",
     "output_type": "stream",
     "text": [
      "['Today', 'Tonight', 'Thursday', 'ThursdayNight', 'Friday', 'FridayNight', 'Saturday', 'SaturdayNight', 'Sunday']\n",
      "['DecreasingClouds', 'IncreasingClouds', 'DecreasingClouds', 'Partly Cloudy', 'Mostly Sunny', 'Mostly Clear', 'Mostly Sunny', 'Mostly Clear', 'Mostly Sunny']\n",
      "['High: 70 °F', 'Low: 58 °F', 'High: 72 °F', 'Low: 58 °F', 'High: 72 °F', 'Low: 58 °F', 'High: 71 °F', 'Low: 57 °F', 'High: 69 °F']\n",
      "['Today: Mostly cloudy, then gradually becoming sunny, with a high near 70. West southwest wind 6 to 14 mph. ', 'Tonight: Increasing clouds, with a low around 58. West southwest wind 8 to 11 mph. ', 'Thursday: Mostly cloudy, then gradually becoming sunny, with a high near 72. West southwest wind 6 to 14 mph, with gusts as high as 18 mph. ', 'Thursday Night: Partly cloudy, with a low around 58. West southwest wind 9 to 14 mph, with gusts as high as 18 mph. ', 'Friday: Mostly sunny, with a high near 72. West southwest wind 9 to 15 mph, with gusts as high as 18 mph. ', 'Friday Night: Mostly clear, with a low around 58.', 'Saturday: Mostly sunny, with a high near 71.', 'Saturday Night: Mostly clear, with a low around 57.', 'Sunday: Mostly sunny, with a high near 69.']\n"
     ]
    }
   ],
   "source": [
    "print(periods)\n",
    "print(short_descs)\n",
    "print(temps)\n",
    "print(descs)"
   ]
  },
  {
   "cell_type": "code",
   "execution_count": 108,
   "metadata": {},
   "outputs": [],
   "source": [
    "import pandas as pd\n",
    "weather = pd.DataFrame({\"Period\": periods,\n",
    "                       \"short_desc\": short_descs,\n",
    "                       \"temp\":temps,\n",
    "                       \"desc\": descs,\n",
    "                       })"
   ]
  },
  {
   "cell_type": "code",
   "execution_count": 109,
   "metadata": {},
   "outputs": [
    {
     "data": {
      "text/html": [
       "<div>\n",
       "<style scoped>\n",
       "    .dataframe tbody tr th:only-of-type {\n",
       "        vertical-align: middle;\n",
       "    }\n",
       "\n",
       "    .dataframe tbody tr th {\n",
       "        vertical-align: top;\n",
       "    }\n",
       "\n",
       "    .dataframe thead th {\n",
       "        text-align: right;\n",
       "    }\n",
       "</style>\n",
       "<table border=\"1\" class=\"dataframe\">\n",
       "  <thead>\n",
       "    <tr style=\"text-align: right;\">\n",
       "      <th></th>\n",
       "      <th>Period</th>\n",
       "      <th>short_desc</th>\n",
       "      <th>temp</th>\n",
       "      <th>desc</th>\n",
       "    </tr>\n",
       "  </thead>\n",
       "  <tbody>\n",
       "    <tr>\n",
       "      <th>0</th>\n",
       "      <td>Today</td>\n",
       "      <td>DecreasingClouds</td>\n",
       "      <td>High: 70 °F</td>\n",
       "      <td>Today: Mostly cloudy, then gradually becoming ...</td>\n",
       "    </tr>\n",
       "    <tr>\n",
       "      <th>1</th>\n",
       "      <td>Tonight</td>\n",
       "      <td>IncreasingClouds</td>\n",
       "      <td>Low: 58 °F</td>\n",
       "      <td>Tonight: Increasing clouds, with a low around ...</td>\n",
       "    </tr>\n",
       "    <tr>\n",
       "      <th>2</th>\n",
       "      <td>Thursday</td>\n",
       "      <td>DecreasingClouds</td>\n",
       "      <td>High: 72 °F</td>\n",
       "      <td>Thursday: Mostly cloudy, then gradually becomi...</td>\n",
       "    </tr>\n",
       "    <tr>\n",
       "      <th>3</th>\n",
       "      <td>ThursdayNight</td>\n",
       "      <td>Partly Cloudy</td>\n",
       "      <td>Low: 58 °F</td>\n",
       "      <td>Thursday Night: Partly cloudy, with a low arou...</td>\n",
       "    </tr>\n",
       "    <tr>\n",
       "      <th>4</th>\n",
       "      <td>Friday</td>\n",
       "      <td>Mostly Sunny</td>\n",
       "      <td>High: 72 °F</td>\n",
       "      <td>Friday: Mostly sunny, with a high near 72. Wes...</td>\n",
       "    </tr>\n",
       "    <tr>\n",
       "      <th>5</th>\n",
       "      <td>FridayNight</td>\n",
       "      <td>Mostly Clear</td>\n",
       "      <td>Low: 58 °F</td>\n",
       "      <td>Friday Night: Mostly clear, with a low around 58.</td>\n",
       "    </tr>\n",
       "    <tr>\n",
       "      <th>6</th>\n",
       "      <td>Saturday</td>\n",
       "      <td>Mostly Sunny</td>\n",
       "      <td>High: 71 °F</td>\n",
       "      <td>Saturday: Mostly sunny, with a high near 71.</td>\n",
       "    </tr>\n",
       "    <tr>\n",
       "      <th>7</th>\n",
       "      <td>SaturdayNight</td>\n",
       "      <td>Mostly Clear</td>\n",
       "      <td>Low: 57 °F</td>\n",
       "      <td>Saturday Night: Mostly clear, with a low aroun...</td>\n",
       "    </tr>\n",
       "    <tr>\n",
       "      <th>8</th>\n",
       "      <td>Sunday</td>\n",
       "      <td>Mostly Sunny</td>\n",
       "      <td>High: 69 °F</td>\n",
       "      <td>Sunday: Mostly sunny, with a high near 69.</td>\n",
       "    </tr>\n",
       "  </tbody>\n",
       "</table>\n",
       "</div>"
      ],
      "text/plain": [
       "          Period        short_desc         temp  \\\n",
       "0          Today  DecreasingClouds  High: 70 °F   \n",
       "1        Tonight  IncreasingClouds   Low: 58 °F   \n",
       "2       Thursday  DecreasingClouds  High: 72 °F   \n",
       "3  ThursdayNight     Partly Cloudy   Low: 58 °F   \n",
       "4         Friday      Mostly Sunny  High: 72 °F   \n",
       "5    FridayNight      Mostly Clear   Low: 58 °F   \n",
       "6       Saturday      Mostly Sunny  High: 71 °F   \n",
       "7  SaturdayNight      Mostly Clear   Low: 57 °F   \n",
       "8         Sunday      Mostly Sunny  High: 69 °F   \n",
       "\n",
       "                                                desc  \n",
       "0  Today: Mostly cloudy, then gradually becoming ...  \n",
       "1  Tonight: Increasing clouds, with a low around ...  \n",
       "2  Thursday: Mostly cloudy, then gradually becomi...  \n",
       "3  Thursday Night: Partly cloudy, with a low arou...  \n",
       "4  Friday: Mostly sunny, with a high near 72. Wes...  \n",
       "5  Friday Night: Mostly clear, with a low around 58.  \n",
       "6       Saturday: Mostly sunny, with a high near 71.  \n",
       "7  Saturday Night: Mostly clear, with a low aroun...  \n",
       "8         Sunday: Mostly sunny, with a high near 69.  "
      ]
     },
     "execution_count": 109,
     "metadata": {},
     "output_type": "execute_result"
    }
   ],
   "source": [
    "weather"
   ]
  },
  {
   "cell_type": "markdown",
   "metadata": {},
   "source": [
    "<h2> 11.8- Mise en pratique 2:  </h2>\n",
    "\n",
    "Nous allons analyser un site de critiques de films: \n",
    "http://www.imdb.com/search/title?release_date=2017&sort=num_votes,desc&page=1\n",
    "\n",
    "<h3> 11.8.1- Extraire toutes les informations de la page:  </h3>\n",
    "\n",
    "    . importer la fonction get() du module requests\n",
    "    . Assigner l'url de la page à la variable url\n",
    "    . Télécharger la page et assigner le résultat à la variable response\n",
    "    . Afficher un extrait du résultat\n",
    "    "
   ]
  },
  {
   "cell_type": "code",
   "execution_count": 34,
   "metadata": {},
   "outputs": [
    {
     "data": {
      "text/plain": [
       "<Response [200]>"
      ]
     },
     "execution_count": 34,
     "metadata": {},
     "output_type": "execute_result"
    }
   ],
   "source": [
    "from requests import get \n",
    "url = \"http://www.imdb.com/search/title?release_date=2020&sort=num_votes,desc&page=1\"\n",
    "response = get(url)\n",
    "response"
   ]
  },
  {
   "cell_type": "markdown",
   "metadata": {},
   "source": [
    "    . Importer la classe BeautifulSoup du package bs4\n",
    "    . Extraire le code HTML\n",
    "    . utiliser la méthode find_all() pour extraire les éléments souhaités: on veut extraire les listes films, chaque film est intégré dans un container html de clas: lister-item mode-advanced"
   ]
  },
  {
   "cell_type": "code",
   "execution_count": 35,
   "metadata": {},
   "outputs": [
    {
     "name": "stdout",
     "output_type": "stream",
     "text": [
      "<class 'bs4.element.ResultSet'>\n",
      "50\n"
     ]
    }
   ],
   "source": [
    "from bs4 import BeautifulSoup\n",
    "html_soup = BeautifulSoup(response.content,'html.parser')\n",
    "\n",
    "movie_containers = html_soup.find_all('div', class_='lister-item mode-advanced')\n",
    "print(type(movie_containers))\n",
    "print(len(movie_containers))"
   ]
  },
  {
   "cell_type": "markdown",
   "metadata": {},
   "source": [
    "<h3> 11.8.2- Extraire les informations pour un film:  </h3>\n",
    "    \n",
    "    . Extraire l'année de sortie du premier film \n",
    "    . Extraire la note IMDB (à convertir en nombre à virgule)\n",
    "    . Extraire la note Metacritic (à convertir en entier)\n",
    "    . Extraire le nombre de votes (utiliser paramètre attrs)    "
   ]
  },
  {
   "cell_type": "code",
   "execution_count": 40,
   "metadata": {},
   "outputs": [],
   "source": [
    "# titre du film \n",
    "first_movie=movie_containers[0]"
   ]
  },
  {
   "cell_type": "code",
   "execution_count": 36,
   "metadata": {},
   "outputs": [
    {
     "data": {
      "text/plain": [
       "<h3 class=\"lister-item-header\">\n",
       "<span class=\"lister-item-index unbold text-primary\">1.</span>\n",
       "<a href=\"/title/tt8936646/\">Extraction</a>\n",
       "<span class=\"lister-item-year text-muted unbold\">(2020)</span>\n",
       "</h3>"
      ]
     },
     "execution_count": 36,
     "metadata": {},
     "output_type": "execute_result"
    }
   ],
   "source": [
    "first_movie.h3"
   ]
  },
  {
   "cell_type": "code",
   "execution_count": 38,
   "metadata": {},
   "outputs": [
    {
     "data": {
      "text/plain": [
       "'Extraction'"
      ]
     },
     "execution_count": 38,
     "metadata": {},
     "output_type": "execute_result"
    }
   ],
   "source": [
    "first_name=first_movie.h3.a.text\n",
    "first_name"
   ]
  },
  {
   "cell_type": "code",
   "execution_count": 43,
   "metadata": {},
   "outputs": [
    {
     "data": {
      "text/plain": [
       "'(2020)'"
      ]
     },
     "execution_count": 43,
     "metadata": {},
     "output_type": "execute_result"
    }
   ],
   "source": [
    "# Année de sortie\n",
    "first_year=first_movie.h3.find('span',class_='lister-item-year')\n",
    "first_year.text"
   ]
  },
  {
   "cell_type": "code",
   "execution_count": 44,
   "metadata": {},
   "outputs": [
    {
     "data": {
      "text/plain": [
       "6.8"
      ]
     },
     "execution_count": 44,
     "metadata": {},
     "output_type": "execute_result"
    }
   ],
   "source": [
    "#Note IMDB\n",
    "first_imdb=float(first_movie.strong.text) #  est la balise strong\n",
    "first_imdb"
   ]
  },
  {
   "cell_type": "code",
   "execution_count": 63,
   "metadata": {},
   "outputs": [
    {
     "data": {
      "text/plain": [
       "56"
      ]
     },
     "execution_count": 63,
     "metadata": {},
     "output_type": "execute_result"
    }
   ],
   "source": [
    "#Note Metacritic\n",
    "first_metascore=first_movie.find('span',class_='metascore')\n",
    "first_metascore=int(first_metascore.text)\n",
    "first_metascore\n"
   ]
  },
  {
   "cell_type": "code",
   "execution_count": 52,
   "metadata": {},
   "outputs": [
    {
     "data": {
      "text/plain": [
       "<span data-value=\"125258\" name=\"nv\">125,258</span>"
      ]
     },
     "execution_count": 52,
     "metadata": {},
     "output_type": "execute_result"
    }
   ],
   "source": [
    "# Nombre de votes\n",
    "first_nv=first_movie.find('span',attrs={'name':'nv'})\n",
    "first_nv\n"
   ]
  },
  {
   "cell_type": "code",
   "execution_count": 53,
   "metadata": {},
   "outputs": [
    {
     "data": {
      "text/plain": [
       "125258"
      ]
     },
     "execution_count": 53,
     "metadata": {},
     "output_type": "execute_result"
    }
   ],
   "source": [
    "first_votes=int(first_nv['data-value'])\n",
    "first_votes"
   ]
  },
  {
   "cell_type": "markdown",
   "metadata": {},
   "source": [
    "<h3> 11.8.3-Travail sur tous les films de la page:  </h3>\n",
    "\n",
    "Maintenant que nous aovns travailler sur un film, on est en mesure de travailler sur tous les films pour une page: \n",
    "\n",
    "Attention il se peut qu'un film n'ait pas de note metascore:"
   ]
  },
  {
   "cell_type": "code",
   "execution_count": 58,
   "metadata": {},
   "outputs": [
    {
     "data": {
      "text/plain": [
       "False"
      ]
     },
     "execution_count": 58,
     "metadata": {},
     "output_type": "execute_result"
    }
   ],
   "source": [
    "test_movie_metascore=movie_containers[8].find('div',class_='ratings-metascore')\n",
    "test_movie_metascore\n",
    "movie_containers[8].find('div', class_='ratings-metascore') is not None"
   ]
  },
  {
   "cell_type": "code",
   "execution_count": 59,
   "metadata": {},
   "outputs": [],
   "source": [
    "# On crée des listes vides pour toutes nos informations\n",
    "names=[]\n",
    "years=[]\n",
    "imdb_ratings=[]\n",
    "metascores = []\n",
    "votes = []\n",
    "\n",
    "#On reprend notre data movie_containers pour extraire l information\n",
    "\n",
    "for container in movie_containers: \n",
    "    # si le film a une note metacritique on l extrait\n",
    "    if container.find('div', class_='ratings-metascore') is not None: \n",
    "        \n",
    "        # le titre du film\n",
    "        name = container.h3.a.text\n",
    "        names.append(name) # on ajoute chaque élément name dans la liste names\n",
    "        \n",
    "        # l'année de sortie\n",
    "        year=container.h3.find('span',class_='lister-item-year')\n",
    "        years.append(year.text)\n",
    "        \n",
    "        #la note Imdb\n",
    "        imdb=float(container.strong.text) \n",
    "        imdb_ratings.append(imdb)\n",
    "        \n",
    "        #Metascore\n",
    "        m_score=container.find('span',class_='metascore')\n",
    "        metascores.append(int(m_score.text))\n",
    "        \n",
    "        # nombre de votes\n",
    "        vote = container.find('span',attrs={'name':'nv'})['data-value']\n",
    "        votes.append(int(vote))"
   ]
  },
  {
   "cell_type": "markdown",
   "metadata": {},
   "source": [
    "On va tout socker dans des dictionnaires et un dataframe de Pandas:"
   ]
  },
  {
   "cell_type": "code",
   "execution_count": 64,
   "metadata": {},
   "outputs": [],
   "source": [
    "import pandas as pd \n",
    "test_df = pd.DataFrame({\n",
    "          'movie': names,\n",
    "          'year': years,\n",
    "          'imdb': imdb_ratings,\n",
    "          'metascore': metascores,\n",
    "          'votes': votes\n",
    "    \n",
    "})"
   ]
  },
  {
   "cell_type": "code",
   "execution_count": 65,
   "metadata": {},
   "outputs": [
    {
     "data": {
      "text/html": [
       "<div>\n",
       "<style scoped>\n",
       "    .dataframe tbody tr th:only-of-type {\n",
       "        vertical-align: middle;\n",
       "    }\n",
       "\n",
       "    .dataframe tbody tr th {\n",
       "        vertical-align: top;\n",
       "    }\n",
       "\n",
       "    .dataframe thead th {\n",
       "        text-align: right;\n",
       "    }\n",
       "</style>\n",
       "<table border=\"1\" class=\"dataframe\">\n",
       "  <thead>\n",
       "    <tr style=\"text-align: right;\">\n",
       "      <th></th>\n",
       "      <th>movie</th>\n",
       "      <th>year</th>\n",
       "      <th>imdb</th>\n",
       "      <th>metascore</th>\n",
       "      <th>votes</th>\n",
       "    </tr>\n",
       "  </thead>\n",
       "  <tbody>\n",
       "    <tr>\n",
       "      <th>0</th>\n",
       "      <td>Extraction</td>\n",
       "      <td>(2020)</td>\n",
       "      <td>6.8</td>\n",
       "      <td>56</td>\n",
       "      <td>125258</td>\n",
       "    </tr>\n",
       "    <tr>\n",
       "      <th>1</th>\n",
       "      <td>Birds of Prey: And the Fantabulous Emancipatio...</td>\n",
       "      <td>(2020)</td>\n",
       "      <td>6.1</td>\n",
       "      <td>60</td>\n",
       "      <td>121609</td>\n",
       "    </tr>\n",
       "    <tr>\n",
       "      <th>2</th>\n",
       "      <td>The Invisible Man</td>\n",
       "      <td>(I) (2020)</td>\n",
       "      <td>7.1</td>\n",
       "      <td>72</td>\n",
       "      <td>110795</td>\n",
       "    </tr>\n",
       "    <tr>\n",
       "      <th>3</th>\n",
       "      <td>Bad Boys for Life</td>\n",
       "      <td>(2020)</td>\n",
       "      <td>6.7</td>\n",
       "      <td>59</td>\n",
       "      <td>100728</td>\n",
       "    </tr>\n",
       "    <tr>\n",
       "      <th>4</th>\n",
       "      <td>Sonic the Hedgehog</td>\n",
       "      <td>(2020)</td>\n",
       "      <td>6.6</td>\n",
       "      <td>47</td>\n",
       "      <td>67847</td>\n",
       "    </tr>\n",
       "    <tr>\n",
       "      <th>5</th>\n",
       "      <td>Onward</td>\n",
       "      <td>(I) (2020)</td>\n",
       "      <td>7.5</td>\n",
       "      <td>61</td>\n",
       "      <td>66456</td>\n",
       "    </tr>\n",
       "    <tr>\n",
       "      <th>6</th>\n",
       "      <td>Spenser Confidential</td>\n",
       "      <td>(2020)</td>\n",
       "      <td>6.2</td>\n",
       "      <td>49</td>\n",
       "      <td>56725</td>\n",
       "    </tr>\n",
       "    <tr>\n",
       "      <th>7</th>\n",
       "      <td>Underwater</td>\n",
       "      <td>(2020)</td>\n",
       "      <td>5.8</td>\n",
       "      <td>48</td>\n",
       "      <td>43248</td>\n",
       "    </tr>\n",
       "    <tr>\n",
       "      <th>8</th>\n",
       "      <td>Bloodshot</td>\n",
       "      <td>(2020)</td>\n",
       "      <td>5.7</td>\n",
       "      <td>44</td>\n",
       "      <td>42895</td>\n",
       "    </tr>\n",
       "    <tr>\n",
       "      <th>9</th>\n",
       "      <td>The Hunt</td>\n",
       "      <td>(II) (2020)</td>\n",
       "      <td>6.4</td>\n",
       "      <td>50</td>\n",
       "      <td>41590</td>\n",
       "    </tr>\n",
       "    <tr>\n",
       "      <th>10</th>\n",
       "      <td>Dolittle</td>\n",
       "      <td>(2020)</td>\n",
       "      <td>5.6</td>\n",
       "      <td>26</td>\n",
       "      <td>35884</td>\n",
       "    </tr>\n",
       "    <tr>\n",
       "      <th>11</th>\n",
       "      <td>The Call of the Wild</td>\n",
       "      <td>(2020)</td>\n",
       "      <td>6.8</td>\n",
       "      <td>47</td>\n",
       "      <td>25258</td>\n",
       "    </tr>\n",
       "    <tr>\n",
       "      <th>12</th>\n",
       "      <td>The Wrong Missy</td>\n",
       "      <td>(2020)</td>\n",
       "      <td>5.7</td>\n",
       "      <td>33</td>\n",
       "      <td>23785</td>\n",
       "    </tr>\n",
       "    <tr>\n",
       "      <th>13</th>\n",
       "      <td>Fantasy Island</td>\n",
       "      <td>(2020)</td>\n",
       "      <td>4.9</td>\n",
       "      <td>22</td>\n",
       "      <td>22611</td>\n",
       "    </tr>\n",
       "    <tr>\n",
       "      <th>14</th>\n",
       "      <td>The Way Back</td>\n",
       "      <td>(2020)</td>\n",
       "      <td>6.8</td>\n",
       "      <td>68</td>\n",
       "      <td>19602</td>\n",
       "    </tr>\n",
       "    <tr>\n",
       "      <th>15</th>\n",
       "      <td>The Half of It</td>\n",
       "      <td>(2020)</td>\n",
       "      <td>7.0</td>\n",
       "      <td>74</td>\n",
       "      <td>19515</td>\n",
       "    </tr>\n",
       "    <tr>\n",
       "      <th>16</th>\n",
       "      <td>To All the Boys: P.S. I Still Love You</td>\n",
       "      <td>(2020)</td>\n",
       "      <td>6.0</td>\n",
       "      <td>54</td>\n",
       "      <td>18996</td>\n",
       "    </tr>\n",
       "    <tr>\n",
       "      <th>17</th>\n",
       "      <td>Da 5 Bloods</td>\n",
       "      <td>(2020)</td>\n",
       "      <td>6.7</td>\n",
       "      <td>82</td>\n",
       "      <td>18920</td>\n",
       "    </tr>\n",
       "    <tr>\n",
       "      <th>18</th>\n",
       "      <td>Emma.</td>\n",
       "      <td>(2020)</td>\n",
       "      <td>6.8</td>\n",
       "      <td>71</td>\n",
       "      <td>16678</td>\n",
       "    </tr>\n",
       "    <tr>\n",
       "      <th>19</th>\n",
       "      <td>Gretel &amp; Hansel</td>\n",
       "      <td>(2020)</td>\n",
       "      <td>5.3</td>\n",
       "      <td>64</td>\n",
       "      <td>15504</td>\n",
       "    </tr>\n",
       "    <tr>\n",
       "      <th>20</th>\n",
       "      <td>All the Bright Places</td>\n",
       "      <td>(2020)</td>\n",
       "      <td>6.5</td>\n",
       "      <td>61</td>\n",
       "      <td>15418</td>\n",
       "    </tr>\n",
       "    <tr>\n",
       "      <th>21</th>\n",
       "      <td>The Grudge</td>\n",
       "      <td>(2020)</td>\n",
       "      <td>4.2</td>\n",
       "      <td>41</td>\n",
       "      <td>15372</td>\n",
       "    </tr>\n",
       "    <tr>\n",
       "      <th>22</th>\n",
       "      <td>The Lovebirds</td>\n",
       "      <td>(2020)</td>\n",
       "      <td>6.0</td>\n",
       "      <td>59</td>\n",
       "      <td>14374</td>\n",
       "    </tr>\n",
       "  </tbody>\n",
       "</table>\n",
       "</div>"
      ],
      "text/plain": [
       "                                                movie         year  imdb  \\\n",
       "0                                          Extraction       (2020)   6.8   \n",
       "1   Birds of Prey: And the Fantabulous Emancipatio...       (2020)   6.1   \n",
       "2                                   The Invisible Man   (I) (2020)   7.1   \n",
       "3                                   Bad Boys for Life       (2020)   6.7   \n",
       "4                                  Sonic the Hedgehog       (2020)   6.6   \n",
       "5                                              Onward   (I) (2020)   7.5   \n",
       "6                                Spenser Confidential       (2020)   6.2   \n",
       "7                                          Underwater       (2020)   5.8   \n",
       "8                                           Bloodshot       (2020)   5.7   \n",
       "9                                            The Hunt  (II) (2020)   6.4   \n",
       "10                                           Dolittle       (2020)   5.6   \n",
       "11                               The Call of the Wild       (2020)   6.8   \n",
       "12                                    The Wrong Missy       (2020)   5.7   \n",
       "13                                     Fantasy Island       (2020)   4.9   \n",
       "14                                       The Way Back       (2020)   6.8   \n",
       "15                                     The Half of It       (2020)   7.0   \n",
       "16             To All the Boys: P.S. I Still Love You       (2020)   6.0   \n",
       "17                                        Da 5 Bloods       (2020)   6.7   \n",
       "18                                              Emma.       (2020)   6.8   \n",
       "19                                    Gretel & Hansel       (2020)   5.3   \n",
       "20                              All the Bright Places       (2020)   6.5   \n",
       "21                                         The Grudge       (2020)   4.2   \n",
       "22                                      The Lovebirds       (2020)   6.0   \n",
       "\n",
       "    metascore   votes  \n",
       "0          56  125258  \n",
       "1          60  121609  \n",
       "2          72  110795  \n",
       "3          59  100728  \n",
       "4          47   67847  \n",
       "5          61   66456  \n",
       "6          49   56725  \n",
       "7          48   43248  \n",
       "8          44   42895  \n",
       "9          50   41590  \n",
       "10         26   35884  \n",
       "11         47   25258  \n",
       "12         33   23785  \n",
       "13         22   22611  \n",
       "14         68   19602  \n",
       "15         74   19515  \n",
       "16         54   18996  \n",
       "17         82   18920  \n",
       "18         71   16678  \n",
       "19         64   15504  \n",
       "20         61   15418  \n",
       "21         41   15372  \n",
       "22         59   14374  "
      ]
     },
     "execution_count": 65,
     "metadata": {},
     "output_type": "execute_result"
    }
   ],
   "source": [
    "test_df"
   ]
  },
  {
   "cell_type": "code",
   "execution_count": 66,
   "metadata": {},
   "outputs": [
    {
     "name": "stdout",
     "output_type": "stream",
     "text": [
      "<class 'pandas.core.frame.DataFrame'>\n",
      "RangeIndex: 23 entries, 0 to 22\n",
      "Data columns (total 5 columns):\n",
      "movie        23 non-null object\n",
      "year         23 non-null object\n",
      "imdb         23 non-null float64\n",
      "metascore    23 non-null int64\n",
      "votes        23 non-null int64\n",
      "dtypes: float64(1), int64(2), object(2)\n",
      "memory usage: 1000.0+ bytes\n",
      "None\n"
     ]
    }
   ],
   "source": [
    "print(test_df.info())"
   ]
  },
  {
   "cell_type": "markdown",
   "metadata": {},
   "source": [
    "Beaucoup de films n'ont pas de note metacritiques. \n",
    "\n",
    "<h3> 11.8.4- Script pour travailler sur toutes les pages:  </h3>\n",
    "\n",
    "Nous avons travailler pour le moment sur une seule page du site de critiques. Pour boucler sur toutes les pages, on doit être en mesure de changer l'année dans l'URL de la page ainsi que son numéro de page: \n",
    "\n",
    ".../search/title/?release_date=<b>2020</b>&sort=num_votes,desc&page=<b>1</b>\n",
    " "
   ]
  },
  {
   "cell_type": "code",
   "execution_count": 67,
   "metadata": {},
   "outputs": [
    {
     "data": {
      "text/plain": [
       "['1', '2', '3', '4']"
      ]
     },
     "execution_count": 67,
     "metadata": {},
     "output_type": "execute_result"
    }
   ],
   "source": [
    "pages = [str(i) for i in range (1,5)]\n",
    "years_url = [str(i) for i in range(2000,2018)]\n",
    "pages"
   ]
  },
  {
   "cell_type": "markdown",
   "metadata": {},
   "source": [
    "Pour éviter de saturer un site web et surtout de se faire bannir notre IP, on doit modérer nos requêtes. Voici comment nous allons procéder:"
   ]
  },
  {
   "cell_type": "code",
   "execution_count": 68,
   "metadata": {},
   "outputs": [
    {
     "name": "stdout",
     "output_type": "stream",
     "text": [
      "Booh\n",
      "Booh\n",
      "Booh\n",
      "Booh\n",
      "Booh\n"
     ]
    }
   ],
   "source": [
    "from time import sleep\n",
    "from random import randint\n",
    "\n",
    "for a in range(0,5):\n",
    "    print('Booh')\n",
    "    sleep(randint(1,4))"
   ]
  },
  {
   "cell_type": "code",
   "execution_count": 73,
   "metadata": {},
   "outputs": [
    {
     "name": "stdout",
     "output_type": "stream",
     "text": [
      "Request: 5; Frequency: 0.49917272342798885 requests/s\n"
     ]
    }
   ],
   "source": [
    "from time import time\n",
    "from IPython.display import clear_output\n",
    "start_time = time()                      # on fixe le temps de début\n",
    "requests = 0                             # compter le nombre de requêtes\n",
    "for _ in range(5):\n",
    "    requests += 1                        # incrémente la variable request de 1 à chaque passage de boucle\n",
    "    sleep(randint(1,3))\n",
    "    elapsed_time = time() - start_time   # calcul du temps ecoulé pour chque requête\n",
    "    \n",
    "    print('Request: {}; Frequency: {} requests/s'.format(requests, requests/elapsed_time))\n",
    "    clear_output(wait = True)"
   ]
  },
  {
   "cell_type": "code",
   "execution_count": 70,
   "metadata": {},
   "outputs": [
    {
     "name": "stderr",
     "output_type": "stream",
     "text": [
      "D:\\Utilisateurs\\guillaume\\Anaconda3\\lib\\site-packages\\ipykernel_launcher.py:2: UserWarning: Attention\n",
      "  \n"
     ]
    }
   ],
   "source": [
    "from warnings import warn\n",
    "warn('Attention')"
   ]
  },
  {
   "cell_type": "markdown",
   "metadata": {},
   "source": [
    "<h3> 11.8.5- Script final pour extraire toutes les informations de films pour une année particulière:  </h3>\n",
    "\n",
    "        . 1- Redéclarer les listes précédemment crées pour notre script sur une seule page pour qu'elles deviennent de nouveau vide\n",
    "        . 2- Préparer l'écran d'affichage de la boucle\n",
    "        . 3- Écrire une boucle qui fait varier le paramètre release_date de l'URL avec les valeurs de la liste years_url\n",
    "        . faire une requête GET sur la boucle des pages\n",
    "        . mettre en pause la boucle sur un intervalle de 8 à 15 secondes\n",
    "        . Afficher à l'écran le temps de requêtes \n",
    "        . Ajouter un avertissement pour tout code status différent de 200\n",
    "        . Arrêter la boucle si le nombre de requêtes est supérieur au nombre attendu (72 pages)\n",
    "        . Convertir le contenu html reponse en un objet BeautifulSoup\n",
    "        . Extraire tous les containers des différents films \n",
    "        . Ecrire une boucle qui parcourt tous les containers\n",
    "        . Extraire les informations de chaque container si celui-ci a un Metascore\n",
    "        . Stocker le tout dans un DataFrame\n",
    "        \n",
    "        "
   ]
  },
  {
   "cell_type": "code",
   "execution_count": 74,
   "metadata": {},
   "outputs": [
    {
     "name": "stdout",
     "output_type": "stream",
     "text": [
      "Request: 44; Frequency: 0.0567606927170208 requests/s\n"
     ]
    }
   ],
   "source": [
    "from requests import get \n",
    "from bs4 import BeautifulSoup\n",
    "from time import sleep\n",
    "from random import randint\n",
    "from warnings import warn\n",
    "from time import time\n",
    "from IPython.display import clear_output\n",
    "# 1 on redéclare les listes\n",
    "names=[]\n",
    "years=[]\n",
    "imdb_ratings=[]\n",
    "metascores = []\n",
    "votes = []\n",
    "\n",
    "# 2 affichage des boucles\n",
    "start_time = time()\n",
    "requests = 0\n",
    "pages = [str(i) for i in range (1,5)]\n",
    "years_url = [str(i) for i in range(2010,2021)]\n",
    "\n",
    "# 3. Pour chaque année de l'intervalle 2010-2020\n",
    "for year_url in years_url:\n",
    "    \n",
    "    # 4. boucle pour chaque page entre 1 et 4\n",
    "    for page in pages:\n",
    "        \n",
    "        # 5. Faire une requête GET\n",
    "        response = get('http://www.imdb.com/search/title?release_date='+ year_url +'&sort=num_votes,desc&page='+ page)\n",
    "        \n",
    "        # 6. Stopper la boucle de 8 à 15 secondes\n",
    "        sleep(randint(8,15))\n",
    "        \n",
    "        # 7. Afficher les informations sur les requêtes\n",
    "        requests += 1\n",
    "        elapsed_time = time() - start_time\n",
    "        print('Request: {}; Frequency: {} requests/s'.format(requests, requests/elapsed_time))\n",
    "        clear_output(wait = True)\n",
    "        \n",
    "        # 8. Avertir si le code status est différent de 200\n",
    "        if response.status_code != 200:\n",
    "            warn('Request: {}; Status code: {}'.format(requests, response.status_code))\n",
    "            \n",
    "        # 9. Stopper la boucle si le nombre de requêtes est supérieur à 72\n",
    "        if requests > 72:\n",
    "            warn('Nombre de requêtes trop important')\n",
    "            break\n",
    "            \n",
    "        # 10. Extraire le HTML avec BeautifulSoup\n",
    "        page_html = BeautifulSoup(response.text, 'html.parser')\n",
    "        \n",
    "        # 11. Sélectionner les 50 films de chaque page (container)\n",
    "        mv_containers = page_html.find_all('div', class_=\"lister-item mode-advanced\")\n",
    "        \n",
    "        # 12. Boucle pour chaque container\n",
    "        for container in mv_containers:\n",
    "            \n",
    "            # 13. Si le film a un Metascore\n",
    "            if container.find('div', class_='ratings-metascore') is not None:\n",
    "                \n",
    "                # 14. scrape le titre\n",
    "                name = container.h3.a.text\n",
    "                names.append(name)\n",
    "                \n",
    "                #15. scrape l'année\n",
    "                year = container.h3.find('span', class_='lister-item-year').text\n",
    "                years.append(year)\n",
    "                \n",
    "                #16. scrape la note IMDB\n",
    "                imdb = float(container.strong.text)\n",
    "                imdb_ratings.append(imdb)\n",
    "                \n",
    "                #17. scrape le Metascore\n",
    "                metascore = container.find('span', class_='metascore').text\n",
    "                metascores.append(int(metascore))\n",
    "                \n",
    "                #18. scrape le nombre de votes\n",
    "                vote = container.find('span', attrs = {'name':'nv'})['data-value']\n",
    "                votes.append(int(vote))"
   ]
  },
  {
   "cell_type": "markdown",
   "metadata": {},
   "source": [
    "## Affichage final de la data"
   ]
  },
  {
   "cell_type": "code",
   "execution_count": 77,
   "metadata": {},
   "outputs": [
    {
     "data": {
      "text/plain": [
       "<matplotlib.axes._subplots.AxesSubplot at 0xcffd3c8>"
      ]
     },
     "execution_count": 77,
     "metadata": {},
     "output_type": "execute_result"
    }
   ],
   "source": [
    "import pandas as pd\n",
    "movie_ratings = pd.DataFrame({\n",
    "    'movie': names,\n",
    "    'year': years,\n",
    "    'imdb': imdb_ratings,\n",
    "    'metascore': metascores,\n",
    "    'votes': votes\n",
    "})\n",
    "movie_ratings.plot()"
   ]
  },
  {
   "cell_type": "code",
   "execution_count": 78,
   "metadata": {},
   "outputs": [
    {
     "data": {
      "text/plain": [
       "<matplotlib.axes._subplots.AxesSubplot at 0xc1bd4e0>"
      ]
     },
     "execution_count": 78,
     "metadata": {},
     "output_type": "execute_result"
    },
    {
     "data": {
      "image/png": "[encoded data removed]",
      "text/plain": [
       "<Figure size 432x288 with 1 Axes>"
      ]
     },
     "metadata": {
      "needs_background": "light"
     },
     "output_type": "display_data"
    }
   ],
   "source": [
    "movie_ratings.plot()"
   ]
  },
  {
   "cell_type": "code",
   "execution_count": null,
   "metadata": {},
   "outputs": [],
   "source": []
  }
 ],
 "metadata": {
  "kernelspec": {
   "display_name": "Python 3",
   "language": "python",
   "name": "python3"
  },
  "language_info": {
   "codemirror_mode": {
    "name": "ipython",
    "version": 3
   },
   "file_extension": ".py",
   "mimetype": "text/x-python",
   "name": "python",
   "nbconvert_exporter": "python",
   "pygments_lexer": "ipython3",
   "version": "3.7.3"
  }
 },
 "nbformat": 4,
 "nbformat_minor": 2
}
