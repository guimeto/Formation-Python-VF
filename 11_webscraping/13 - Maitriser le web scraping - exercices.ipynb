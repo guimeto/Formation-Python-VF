{
 "cells": [
  {
   "cell_type": "markdown",
   "metadata": {},
   "source": [
    "<h1> Entrainement au webscraping </h1> \n",
    "\n",
    "Nous allons nous entrainer ici à récupérer le nom et le prix des produits à partir d'une liste. <br>\n",
    "\n",
    "1) choisissez une liste de produits de votre choix et placer l'url dans la variable url. Exemple : <br> https://www.maisonsdumonde.com/FR/fr/c/meubles-0efb00bec42f8fb7b942b4b76ad5c077 <br>\n",
    "\n",
    "2) A l'aide de requests.get, recupérer dans la variable 'page' le code html de la page <br>\n",
    "3) Passer le code dans BeautifulSoup et enregistrer le resultat dans la variable 'html' <br>\n",
    "4) Consulter le code source de la page pour repérer comment isoler le nom de chaque produit. A l'aide de find_all, lister dans la variable nomsProduits tous les produits présent sur la page <br>\n",
    "5) Concerver uniquement le texte des noms de produit à l'aide de getText() <br>\n",
    "6) Faites le même exercice avec le prix du produit et enregistrez le résultat dans la variable prix <br>\n",
    "7) à l'aide des méthode .split(), .replace et float(), tentez de ne conserver que le chiffre pour chaque valeur de la liste prix <br>\n",
    "8) A l'aide de la méthode expliqué sur cette page, déclarez un tableau pandas avec 2 colonnes : le nom du produit et son prix <br>\n",
    "https://pandas.pydata.org/pandas-docs/version/0.23.4/generated/pandas.DataFrame.html"
   ]
  },
  {
   "cell_type": "markdown",
   "metadata": {},
   "source": [
    "1) choisissez une liste de produits de votre choix et placer l'url dans la variable url. Exemple :\n",
    "https://www.maisonsdumonde.com/FR/fr/c/meubles-0efb00bec42f8fb7b942b4b76ad5c077\n",
    "\n",
    "2) A l'aide de requests.get, recupérer dans la variable 'page' le code html de la page"
   ]
  },
  {
   "cell_type": "code",
   "execution_count": 1,
   "metadata": {},
   "outputs": [],
   "source": [
    "import requests\n",
    "url = 'https://www.maisonsdumonde.com/FR/fr/c/meubles-0efb00bec42f8fb7b942b4b76ad5c077'"
   ]
  },
  {
   "cell_type": "code",
   "execution_count": 2,
   "metadata": {},
   "outputs": [
    {
     "data": {
      "text/plain": [
       "<Response [200]>"
      ]
     },
     "execution_count": 2,
     "metadata": {},
     "output_type": "execute_result"
    }
   ],
   "source": [
    "page = requests.get(url)\n",
    "page"
   ]
  },
  {
   "cell_type": "markdown",
   "metadata": {},
   "source": [
    "3) Passer le code dans BeautifulSoup et enregistrer le resultat dans la variable 'html'"
   ]
  },
  {
   "cell_type": "code",
   "execution_count": 4,
   "metadata": {},
   "outputs": [
    {
     "data": {
      "text/plain": [
       "<h1 class=\"font-weight-semibold h4 mb-4 d-inline-block\">Meubles</h1>"
      ]
     },
     "execution_count": 4,
     "metadata": {},
     "output_type": "execute_result"
    }
   ],
   "source": [
    "from bs4 import BeautifulSoup\n",
    "import requests\n",
    "\n",
    "url = 'https://www.maisonsdumonde.com/FR/fr/c/meubles-0efb00bec42f8fb7b942b4b76ad5c077'\n",
    "page = requests.get(url)\n",
    "\n",
    "html = BeautifulSoup(page.text, 'html.parser')\n",
    "html.find('h1')"
   ]
  },
  {
   "cell_type": "markdown",
   "metadata": {},
   "source": [
    "4) Consulter le code source de la page pour repérer comment isoler le nom de chaque produit. A l'aide de find_all, lister dans la variable nomsProduits tous les produits présent sur la page"
   ]
  },
  {
   "cell_type": "code",
   "execution_count": 19,
   "metadata": {
    "scrolled": true
   },
   "outputs": [
    {
     "data": {
      "text/plain": [
       "[<h2 class=\"font-weight-normal expand-link name mb-0\">MAURICETTE - Chaise vintage gris clair chiné et bouleau</h2>,\n",
       " <h2 class=\"font-weight-normal expand-link name mb-0\">BROOKE - Canapé style scandinave 3 places gris clair</h2>,\n",
       " <h2 class=\"font-weight-normal expand-link name mb-0\">CLYDE - Chaise style scandinave blanche</h2>,\n",
       " <h2 class=\"font-weight-normal expand-link name mb-0\">WAYNE - Table de chevet indus en métal et sapin</h2>,\n",
       " <h2 class=\"font-weight-normal expand-link name mb-0\">NIO - Banquette convertible 1 place vert d'eau</h2>,\n",
       " <h2 class=\"font-weight-normal expand-link name mb-0\">PHILADELPHIE - Canapé d'angle droit 3/4 places en suédine marron</h2>,\n",
       " <h2 class=\"font-weight-normal expand-link name mb-0\">CLYDE - Chaise style scandinave en velours vert</h2>,\n",
       " <h2 class=\"font-weight-normal expand-link name mb-0\">BROOKE - Canapé d'angle style scandinave 4/5 places gris clair</h2>,\n",
       " <h2 class=\"font-weight-normal expand-link name mb-0\">ARNOLD - Fauteuil vintage gris clair</h2>,\n",
       " <h2 class=\"font-weight-normal expand-link name mb-0\">PORTOBELLO - Table de chevet vintage 1 tiroir en chêne massif</h2>,\n",
       " <h2 class=\"font-weight-normal expand-link name mb-0\">ELVIS - Canapé-lit 3 places gris</h2>,\n",
       " <h2 class=\"font-weight-normal expand-link name mb-0\">IZMIR - Table à manger 4/6 personnes en marbre blanc et fer doré L200</h2>,\n",
       " <h2 class=\"font-weight-normal expand-link name mb-0\">BROADWAY - Canapé clic-clac 3 places vert d'eau</h2>,\n",
       " <h2 class=\"font-weight-normal expand-link name mb-0\">LONG ISLAND - Console indus en sapin massif et métal noir</h2>,\n",
       " <h2 class=\"font-weight-normal expand-link name mb-0\">BLUSH - Bureau vintage blanc 2 tiroirs gris et rose</h2>,\n",
       " <h2 class=\"font-weight-normal expand-link name mb-0\">DUKE - Canapé-lit 3 places gris clair</h2>,\n",
       " <h2 class=\"font-weight-normal expand-link name mb-0\">ARTIC - Table de chevet vintage blanche</h2>,\n",
       " <h2 class=\"font-weight-normal expand-link name mb-0\">GOA - Lit à baldaquin en acacia massif 160x200</h2>,\n",
       " <h2 class=\"font-weight-normal expand-link name mb-0\">PILEA - 3 tables basses</h2>,\n",
       " <h2 class=\"font-weight-normal expand-link name mb-0\">VALENTINE - Bureau secrétaire 1 porte 3 tiroirs blanc</h2>,\n",
       " <h2 class=\"font-weight-normal expand-link name mb-0\">CAPPADOCE - Commode 4 tiroirs en pin recyclé</h2>,\n",
       " <h2 class=\"font-weight-normal expand-link name mb-0\">ZIA - Chaise en rotin</h2>,\n",
       " <h2 class=\"font-weight-normal expand-link name mb-0\">FJORD - Étagères murales vintage multicolores (x4)</h2>,\n",
       " <h2 class=\"font-weight-normal expand-link name mb-0\">MORPHEE - Tête de lit houssable L160</h2>,\n",
       " <h2 class=\"font-weight-normal expand-link name mb-0\">SHEHERAZAD - Lit à baldaquin 160x200 en métal marron</h2>,\n",
       " <h2 class=\"font-weight-normal expand-link name mb-0\">VALENTINE - Coffre en pin blanc</h2>,\n",
       " <h2 class=\"font-weight-normal expand-link name mb-0\">VARANASI - Cabinet 2 portes en manguier massif sculpté</h2>,\n",
       " <h2 class=\"font-weight-normal expand-link name mb-0\">FLYNN - Banquette d'entrée vintage 2 tiroirs en manguier L.120cm</h2>,\n",
       " <h2 class=\"font-weight-normal expand-link name mb-0\">ADAM - Canapé 2 places gris clair</h2>,\n",
       " <h2 class=\"font-weight-normal expand-link name mb-0\">ODYSSEE - Bout de canapé en marbre clair et métal doré</h2>,\n",
       " <h2 class=\"font-weight-normal expand-link name mb-0\">ICE - Chaise de bar style scandinave blanche et chêne</h2>,\n",
       " <h2 class=\"font-weight-normal expand-link name mb-0\">JOSÉPHINE - Table de chevet avec tiroir en bois de paulownia blanche L 44 cm</h2>,\n",
       " <h2 class=\"font-weight-normal expand-link name mb-0\">JAÏPUR - Table de chevet indienne en manguier massif L 45 cm</h2>,\n",
       " <h2 class=\"font-weight-normal expand-link name mb-0\">PALM - Fauteuil en velours et bouleau noir</h2>,\n",
       " <h2 class=\"font-weight-normal expand-link name mb-0\">SPRING - Table basse style scandinave blanche</h2>,\n",
       " <h2 class=\"font-weight-normal expand-link name mb-0\">HERMANN - Fauteuil vintage vert kaki</h2>,\n",
       " <h2 class=\"font-weight-normal expand-link name mb-0\">ANDREWS - Bureau indus 1 porte 2 tiroirs en métal</h2>,\n",
       " <h2 class=\"font-weight-normal expand-link name mb-0\">LOVINA - Fauteuil suspendu en osier tressé</h2>,\n",
       " <h2 class=\"font-weight-normal expand-link name mb-0\">TROCADERO - Buffet 1 porte 3 tiroirs en manguier massif</h2>,\n",
       " <h2 class=\"font-weight-normal expand-link name mb-0\">SACHA - Banquette 2 places en velours jaune moutarde</h2>]"
      ]
     },
     "execution_count": 19,
     "metadata": {},
     "output_type": "execute_result"
    }
   ],
   "source": [
    "nomProduit = html.find_all('h2',{'class':'font-weight-normal expand-link name mb-0'})\n",
    "nomProduit"
   ]
  },
  {
   "cell_type": "markdown",
   "metadata": {},
   "source": [
    "5) Concerver uniquement le texte des noms de produit à l'aide de getText()"
   ]
  },
  {
   "cell_type": "code",
   "execution_count": 20,
   "metadata": {
    "scrolled": true
   },
   "outputs": [
    {
     "data": {
      "text/plain": [
       "['MAURICETTE - Chaise vintage gris clair chiné et bouleau',\n",
       " 'BROOKE - Canapé style scandinave 3 places gris clair',\n",
       " 'CLYDE - Chaise style scandinave blanche',\n",
       " 'WAYNE - Table de chevet indus en métal et sapin',\n",
       " \"NIO - Banquette convertible 1 place vert d'eau\",\n",
       " \"PHILADELPHIE - Canapé d'angle droit 3/4 places en suédine marron\",\n",
       " 'CLYDE - Chaise style scandinave en velours vert',\n",
       " \"BROOKE - Canapé d'angle style scandinave 4/5 places gris clair\",\n",
       " 'ARNOLD - Fauteuil vintage gris clair',\n",
       " 'PORTOBELLO - Table de chevet vintage 1 tiroir en chêne massif',\n",
       " 'ELVIS - Canapé-lit 3 places gris',\n",
       " 'IZMIR - Table à manger 4/6 personnes en marbre blanc et fer doré L200',\n",
       " \"BROADWAY - Canapé clic-clac 3 places vert d'eau\",\n",
       " 'LONG ISLAND - Console indus en sapin massif et métal noir',\n",
       " 'BLUSH - Bureau vintage blanc 2 tiroirs gris et rose',\n",
       " 'DUKE - Canapé-lit 3 places gris clair',\n",
       " 'ARTIC - Table de chevet vintage blanche',\n",
       " 'GOA - Lit à baldaquin en acacia massif 160x200',\n",
       " 'PILEA - 3 tables basses',\n",
       " 'VALENTINE - Bureau secrétaire 1 porte 3 tiroirs blanc',\n",
       " 'CAPPADOCE - Commode 4 tiroirs en pin recyclé',\n",
       " 'ZIA - Chaise en rotin',\n",
       " 'FJORD - Étagères murales vintage multicolores (x4)',\n",
       " 'MORPHEE - Tête de lit houssable L160',\n",
       " 'SHEHERAZAD - Lit à baldaquin 160x200 en métal marron',\n",
       " 'VALENTINE - Coffre en pin blanc',\n",
       " 'VARANASI - Cabinet 2 portes en manguier massif sculpté',\n",
       " \"FLYNN - Banquette d'entrée vintage 2 tiroirs en manguier L.120cm\",\n",
       " 'ADAM - Canapé 2 places gris clair',\n",
       " 'ODYSSEE - Bout de canapé en marbre clair et métal doré',\n",
       " 'ICE - Chaise de bar style scandinave blanche et chêne',\n",
       " 'JOSÉPHINE - Table de chevet avec tiroir en bois de paulownia blanche L 44 cm',\n",
       " 'JAÏPUR - Table de chevet indienne en manguier massif L 45 cm',\n",
       " 'PALM - Fauteuil en velours et bouleau noir',\n",
       " 'SPRING - Table basse style scandinave blanche',\n",
       " 'HERMANN - Fauteuil vintage vert kaki',\n",
       " 'ANDREWS - Bureau indus 1 porte 2 tiroirs en métal',\n",
       " 'LOVINA - Fauteuil suspendu en osier tressé',\n",
       " 'TROCADERO - Buffet 1 porte 3 tiroirs en manguier massif',\n",
       " 'SACHA - Banquette 2 places en velours jaune moutarde']"
      ]
     },
     "execution_count": 20,
     "metadata": {},
     "output_type": "execute_result"
    }
   ],
   "source": [
    "nomProduit = [x.getText() for x in nomProduit]\n",
    "nomProduit"
   ]
  },
  {
   "cell_type": "markdown",
   "metadata": {},
   "source": [
    "6) Faites le même exercice avec le prix du produit et enregistrez le résultat dans la variable prix"
   ]
  },
  {
   "cell_type": "code",
   "execution_count": 27,
   "metadata": {
    "scrolled": true
   },
   "outputs": [
    {
     "data": {
      "text/plain": [
       "['79,99\\xa0€ ',\n",
       " '499,00\\xa0€ ',\n",
       " '59,99\\xa0€ ',\n",
       " '59,99\\xa0€ ',\n",
       " '199,00\\xa0€ ',\n",
       " '299,00\\xa0€ ',\n",
       " '59,99\\xa0€ ',\n",
       " '699,00\\xa0€ ',\n",
       " '135,00\\xa0€ ',\n",
       " '150,00\\xa0€ ',\n",
       " '369,00\\xa0€ ',\n",
       " '1\\xa0199,00\\xa0€ ',\n",
       " '299,00\\xa0€ ',\n",
       " '150,00\\xa0€ ',\n",
       " '199,00\\xa0€ ',\n",
       " '699,00\\xa0€ ',\n",
       " '69,99\\xa0€ ',\n",
       " '449,00\\xa0€ ',\n",
       " '110,00\\xa0€ ',\n",
       " '169,00\\xa0€ ',\n",
       " '499,00\\xa0€ ',\n",
       " '119,00\\xa0€ ',\n",
       " '99,99\\xa0€ ',\n",
       " '155,00\\xa0€ ',\n",
       " '349,00\\xa0€ ',\n",
       " '119,00\\xa0€ ',\n",
       " '545,00\\xa0€ ',\n",
       " '329,00\\xa0€ ',\n",
       " '199,00\\xa0€ ',\n",
       " '99,90\\xa0€ ',\n",
       " '79,99\\xa0€ ',\n",
       " '99,99\\xa0€ ',\n",
       " '199,00\\xa0€ ',\n",
       " '170,00\\xa0€ ',\n",
       " '79,99\\xa0€ ',\n",
       " '329,00\\xa0€ ',\n",
       " '299,00\\xa0€ ',\n",
       " '499,00\\xa0€ ',\n",
       " '499,00\\xa0€ ',\n",
       " '399,00\\xa0€ ']"
      ]
     },
     "execution_count": 27,
     "metadata": {},
     "output_type": "execute_result"
    }
   ],
   "source": [
    "prix = html.find_all('div', {'class':'ml-auto font-weight-semibold price'})\n",
    "prix = [x.getText() for x in prix]\n",
    "prix"
   ]
  },
  {
   "cell_type": "markdown",
   "metadata": {},
   "source": [
    "7) à l'aide des méthode .split(), .replace et float(), tentez de ne conserver que le chiffre pour chaque valeur de la liste prix"
   ]
  },
  {
   "cell_type": "code",
   "execution_count": 45,
   "metadata": {
    "scrolled": true
   },
   "outputs": [
    {
     "data": {
      "text/plain": [
       "[79.99,\n",
       " 499.0,\n",
       " 59.99,\n",
       " 59.99,\n",
       " 199.0,\n",
       " 299.0,\n",
       " 59.99,\n",
       " 699.0,\n",
       " 135.0,\n",
       " 150.0,\n",
       " 369.0,\n",
       " 1199.0,\n",
       " 299.0,\n",
       " 150.0,\n",
       " 199.0,\n",
       " 699.0,\n",
       " 69.99,\n",
       " 449.0,\n",
       " 110.0,\n",
       " 169.0,\n",
       " 499.0,\n",
       " 119.0,\n",
       " 99.99,\n",
       " 155.0,\n",
       " 349.0,\n",
       " 119.0,\n",
       " 545.0,\n",
       " 329.0,\n",
       " 199.0,\n",
       " 99.9,\n",
       " 79.99,\n",
       " 99.99,\n",
       " 199.0,\n",
       " 170.0,\n",
       " 79.99,\n",
       " 329.0,\n",
       " 299.0,\n",
       " 499.0,\n",
       " 499.0,\n",
       " 399.0]"
      ]
     },
     "execution_count": 45,
     "metadata": {},
     "output_type": "execute_result"
    }
   ],
   "source": [
    "prix = html.find_all('div', {'class':'ml-auto font-weight-semibold price'})\n",
    "prix = [x.getText() for x in prix]\n",
    "prix = [x.split(\" \")[0] for x in prix]\n",
    "prix = [x.replace('€','') for x in prix]\n",
    "prix = [x.replace('\\xa0','') for x in prix]\n",
    "prix = [float(x.replace(',','.')) for x in prix]\n",
    "prix"
   ]
  },
  {
   "cell_type": "markdown",
   "metadata": {},
   "source": [
    "8) A l'aide de la méthode expliqué sur cette page, déclarez un tableau pandas avec 2 colonnes : le nom du produit et son prix\n",
    "https://pandas.pydata.org/pandas-docs/version/0.23.4/generated/pandas.DataFrame.html"
   ]
  },
  {
   "cell_type": "code",
   "execution_count": 50,
   "metadata": {},
   "outputs": [
    {
     "data": {
      "text/html": [
       "<div>\n",
       "<style scoped>\n",
       "    .dataframe tbody tr th:only-of-type {\n",
       "        vertical-align: middle;\n",
       "    }\n",
       "\n",
       "    .dataframe tbody tr th {\n",
       "        vertical-align: top;\n",
       "    }\n",
       "\n",
       "    .dataframe thead th {\n",
       "        text-align: right;\n",
       "    }\n",
       "</style>\n",
       "<table border=\"1\" class=\"dataframe\">\n",
       "  <thead>\n",
       "    <tr style=\"text-align: right;\">\n",
       "      <th></th>\n",
       "      <th>produit</th>\n",
       "      <th>prix</th>\n",
       "    </tr>\n",
       "  </thead>\n",
       "  <tbody>\n",
       "    <tr>\n",
       "      <th>0</th>\n",
       "      <td>MAURICETTE - Chaise vintage gris clair chiné e...</td>\n",
       "      <td>79.99</td>\n",
       "    </tr>\n",
       "    <tr>\n",
       "      <th>1</th>\n",
       "      <td>BROOKE - Canapé style scandinave 3 places gris...</td>\n",
       "      <td>499.00</td>\n",
       "    </tr>\n",
       "    <tr>\n",
       "      <th>2</th>\n",
       "      <td>CLYDE - Chaise style scandinave blanche</td>\n",
       "      <td>59.99</td>\n",
       "    </tr>\n",
       "    <tr>\n",
       "      <th>3</th>\n",
       "      <td>WAYNE - Table de chevet indus en métal et sapin</td>\n",
       "      <td>59.99</td>\n",
       "    </tr>\n",
       "    <tr>\n",
       "      <th>4</th>\n",
       "      <td>NIO - Banquette convertible 1 place vert d'eau</td>\n",
       "      <td>199.00</td>\n",
       "    </tr>\n",
       "    <tr>\n",
       "      <th>5</th>\n",
       "      <td>PHILADELPHIE - Canapé d'angle droit 3/4 places...</td>\n",
       "      <td>299.00</td>\n",
       "    </tr>\n",
       "    <tr>\n",
       "      <th>6</th>\n",
       "      <td>CLYDE - Chaise style scandinave en velours vert</td>\n",
       "      <td>59.99</td>\n",
       "    </tr>\n",
       "    <tr>\n",
       "      <th>7</th>\n",
       "      <td>BROOKE - Canapé d'angle style scandinave 4/5 p...</td>\n",
       "      <td>699.00</td>\n",
       "    </tr>\n",
       "    <tr>\n",
       "      <th>8</th>\n",
       "      <td>ARNOLD - Fauteuil vintage gris clair</td>\n",
       "      <td>135.00</td>\n",
       "    </tr>\n",
       "    <tr>\n",
       "      <th>9</th>\n",
       "      <td>PORTOBELLO - Table de chevet vintage 1 tiroir ...</td>\n",
       "      <td>150.00</td>\n",
       "    </tr>\n",
       "    <tr>\n",
       "      <th>10</th>\n",
       "      <td>ELVIS - Canapé-lit 3 places gris</td>\n",
       "      <td>369.00</td>\n",
       "    </tr>\n",
       "    <tr>\n",
       "      <th>11</th>\n",
       "      <td>IZMIR - Table à manger 4/6 personnes en marbre...</td>\n",
       "      <td>1199.00</td>\n",
       "    </tr>\n",
       "    <tr>\n",
       "      <th>12</th>\n",
       "      <td>BROADWAY - Canapé clic-clac 3 places vert d'eau</td>\n",
       "      <td>299.00</td>\n",
       "    </tr>\n",
       "    <tr>\n",
       "      <th>13</th>\n",
       "      <td>LONG ISLAND - Console indus en sapin massif et...</td>\n",
       "      <td>150.00</td>\n",
       "    </tr>\n",
       "    <tr>\n",
       "      <th>14</th>\n",
       "      <td>BLUSH - Bureau vintage blanc 2 tiroirs gris et...</td>\n",
       "      <td>199.00</td>\n",
       "    </tr>\n",
       "    <tr>\n",
       "      <th>15</th>\n",
       "      <td>DUKE - Canapé-lit 3 places gris clair</td>\n",
       "      <td>699.00</td>\n",
       "    </tr>\n",
       "    <tr>\n",
       "      <th>16</th>\n",
       "      <td>ARTIC - Table de chevet vintage blanche</td>\n",
       "      <td>69.99</td>\n",
       "    </tr>\n",
       "    <tr>\n",
       "      <th>17</th>\n",
       "      <td>GOA - Lit à baldaquin en acacia massif 160x200</td>\n",
       "      <td>449.00</td>\n",
       "    </tr>\n",
       "    <tr>\n",
       "      <th>18</th>\n",
       "      <td>PILEA - 3 tables basses</td>\n",
       "      <td>110.00</td>\n",
       "    </tr>\n",
       "    <tr>\n",
       "      <th>19</th>\n",
       "      <td>VALENTINE - Bureau secrétaire 1 porte 3 tiroir...</td>\n",
       "      <td>169.00</td>\n",
       "    </tr>\n",
       "    <tr>\n",
       "      <th>20</th>\n",
       "      <td>CAPPADOCE - Commode 4 tiroirs en pin recyclé</td>\n",
       "      <td>499.00</td>\n",
       "    </tr>\n",
       "    <tr>\n",
       "      <th>21</th>\n",
       "      <td>ZIA - Chaise en rotin</td>\n",
       "      <td>119.00</td>\n",
       "    </tr>\n",
       "    <tr>\n",
       "      <th>22</th>\n",
       "      <td>FJORD - Étagères murales vintage multicolores ...</td>\n",
       "      <td>99.99</td>\n",
       "    </tr>\n",
       "    <tr>\n",
       "      <th>23</th>\n",
       "      <td>MORPHEE - Tête de lit houssable L160</td>\n",
       "      <td>155.00</td>\n",
       "    </tr>\n",
       "    <tr>\n",
       "      <th>24</th>\n",
       "      <td>SHEHERAZAD - Lit à baldaquin 160x200 en métal ...</td>\n",
       "      <td>349.00</td>\n",
       "    </tr>\n",
       "    <tr>\n",
       "      <th>25</th>\n",
       "      <td>VALENTINE - Coffre en pin blanc</td>\n",
       "      <td>119.00</td>\n",
       "    </tr>\n",
       "    <tr>\n",
       "      <th>26</th>\n",
       "      <td>VARANASI - Cabinet 2 portes en manguier massif...</td>\n",
       "      <td>545.00</td>\n",
       "    </tr>\n",
       "    <tr>\n",
       "      <th>27</th>\n",
       "      <td>FLYNN - Banquette d'entrée vintage 2 tiroirs e...</td>\n",
       "      <td>329.00</td>\n",
       "    </tr>\n",
       "    <tr>\n",
       "      <th>28</th>\n",
       "      <td>ADAM - Canapé 2 places gris clair</td>\n",
       "      <td>199.00</td>\n",
       "    </tr>\n",
       "    <tr>\n",
       "      <th>29</th>\n",
       "      <td>ODYSSEE - Bout de canapé en marbre clair et mé...</td>\n",
       "      <td>99.90</td>\n",
       "    </tr>\n",
       "    <tr>\n",
       "      <th>30</th>\n",
       "      <td>ICE - Chaise de bar style scandinave blanche e...</td>\n",
       "      <td>79.99</td>\n",
       "    </tr>\n",
       "    <tr>\n",
       "      <th>31</th>\n",
       "      <td>JOSÉPHINE - Table de chevet avec tiroir en boi...</td>\n",
       "      <td>99.99</td>\n",
       "    </tr>\n",
       "    <tr>\n",
       "      <th>32</th>\n",
       "      <td>JAÏPUR - Table de chevet indienne en manguier ...</td>\n",
       "      <td>199.00</td>\n",
       "    </tr>\n",
       "    <tr>\n",
       "      <th>33</th>\n",
       "      <td>PALM - Fauteuil en velours et bouleau noir</td>\n",
       "      <td>170.00</td>\n",
       "    </tr>\n",
       "    <tr>\n",
       "      <th>34</th>\n",
       "      <td>SPRING - Table basse style scandinave blanche</td>\n",
       "      <td>79.99</td>\n",
       "    </tr>\n",
       "    <tr>\n",
       "      <th>35</th>\n",
       "      <td>HERMANN - Fauteuil vintage vert kaki</td>\n",
       "      <td>329.00</td>\n",
       "    </tr>\n",
       "    <tr>\n",
       "      <th>36</th>\n",
       "      <td>ANDREWS - Bureau indus 1 porte 2 tiroirs en métal</td>\n",
       "      <td>299.00</td>\n",
       "    </tr>\n",
       "    <tr>\n",
       "      <th>37</th>\n",
       "      <td>LOVINA - Fauteuil suspendu en osier tressé</td>\n",
       "      <td>499.00</td>\n",
       "    </tr>\n",
       "    <tr>\n",
       "      <th>38</th>\n",
       "      <td>TROCADERO - Buffet 1 porte 3 tiroirs en mangui...</td>\n",
       "      <td>499.00</td>\n",
       "    </tr>\n",
       "    <tr>\n",
       "      <th>39</th>\n",
       "      <td>SACHA - Banquette 2 places en velours jaune mo...</td>\n",
       "      <td>399.00</td>\n",
       "    </tr>\n",
       "  </tbody>\n",
       "</table>\n",
       "</div>"
      ],
      "text/plain": [
       "                                              produit     prix\n",
       "0   MAURICETTE - Chaise vintage gris clair chiné e...    79.99\n",
       "1   BROOKE - Canapé style scandinave 3 places gris...   499.00\n",
       "2             CLYDE - Chaise style scandinave blanche    59.99\n",
       "3     WAYNE - Table de chevet indus en métal et sapin    59.99\n",
       "4      NIO - Banquette convertible 1 place vert d'eau   199.00\n",
       "5   PHILADELPHIE - Canapé d'angle droit 3/4 places...   299.00\n",
       "6     CLYDE - Chaise style scandinave en velours vert    59.99\n",
       "7   BROOKE - Canapé d'angle style scandinave 4/5 p...   699.00\n",
       "8                ARNOLD - Fauteuil vintage gris clair   135.00\n",
       "9   PORTOBELLO - Table de chevet vintage 1 tiroir ...   150.00\n",
       "10                   ELVIS - Canapé-lit 3 places gris   369.00\n",
       "11  IZMIR - Table à manger 4/6 personnes en marbre...  1199.00\n",
       "12    BROADWAY - Canapé clic-clac 3 places vert d'eau   299.00\n",
       "13  LONG ISLAND - Console indus en sapin massif et...   150.00\n",
       "14  BLUSH - Bureau vintage blanc 2 tiroirs gris et...   199.00\n",
       "15              DUKE - Canapé-lit 3 places gris clair   699.00\n",
       "16            ARTIC - Table de chevet vintage blanche    69.99\n",
       "17     GOA - Lit à baldaquin en acacia massif 160x200   449.00\n",
       "18                            PILEA - 3 tables basses   110.00\n",
       "19  VALENTINE - Bureau secrétaire 1 porte 3 tiroir...   169.00\n",
       "20       CAPPADOCE - Commode 4 tiroirs en pin recyclé   499.00\n",
       "21                              ZIA - Chaise en rotin   119.00\n",
       "22  FJORD - Étagères murales vintage multicolores ...    99.99\n",
       "23               MORPHEE - Tête de lit houssable L160   155.00\n",
       "24  SHEHERAZAD - Lit à baldaquin 160x200 en métal ...   349.00\n",
       "25                    VALENTINE - Coffre en pin blanc   119.00\n",
       "26  VARANASI - Cabinet 2 portes en manguier massif...   545.00\n",
       "27  FLYNN - Banquette d'entrée vintage 2 tiroirs e...   329.00\n",
       "28                  ADAM - Canapé 2 places gris clair   199.00\n",
       "29  ODYSSEE - Bout de canapé en marbre clair et mé...    99.90\n",
       "30  ICE - Chaise de bar style scandinave blanche e...    79.99\n",
       "31  JOSÉPHINE - Table de chevet avec tiroir en boi...    99.99\n",
       "32  JAÏPUR - Table de chevet indienne en manguier ...   199.00\n",
       "33         PALM - Fauteuil en velours et bouleau noir   170.00\n",
       "34      SPRING - Table basse style scandinave blanche    79.99\n",
       "35               HERMANN - Fauteuil vintage vert kaki   329.00\n",
       "36  ANDREWS - Bureau indus 1 porte 2 tiroirs en métal   299.00\n",
       "37         LOVINA - Fauteuil suspendu en osier tressé   499.00\n",
       "38  TROCADERO - Buffet 1 porte 3 tiroirs en mangui...   499.00\n",
       "39  SACHA - Banquette 2 places en velours jaune mo...   399.00"
      ]
     },
     "execution_count": 50,
     "metadata": {},
     "output_type": "execute_result"
    }
   ],
   "source": [
    "import pandas as pd \n",
    "df = pd.DataFrame(data={'produit': nomProduit, 'prix': prix})\n",
    "df"
   ]
  },
  {
   "cell_type": "code",
   "execution_count": null,
   "metadata": {},
   "outputs": [],
   "source": []
  }
 ],
 "metadata": {
  "kernelspec": {
   "display_name": "Python 3",
   "language": "python",
   "name": "python3"
  },
  "language_info": {
   "codemirror_mode": {
    "name": "ipython",
    "version": 3
   },
   "file_extension": ".py",
   "mimetype": "text/x-python",
   "name": "python",
   "nbconvert_exporter": "python",
   "pygments_lexer": "ipython3",
   "version": "3.7.3"
  }
 },
 "nbformat": 4,
 "nbformat_minor": 2
}
