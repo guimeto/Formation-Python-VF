{
 "cells": [
  {
   "cell_type": "markdown",
   "metadata": {},
   "source": [
    "## Exercices Python\n",
    "\n",
    "### Niveau facile \n",
    "\n",
    "<b> - 1: Déclaration de variables </b>\n",
    "\n"
   ]
  },
  {
   "cell_type": "code",
   "execution_count": 1,
   "metadata": {},
   "outputs": [
    {
     "name": "stdout",
     "output_type": "stream",
     "text": [
      "Pierre\n",
      "20\n",
      "True\n",
      "20135.384\n",
      "['Marie', 'Julien', 'Adrien']\n",
      "('Marc', 'Caroline')\n"
     ]
    }
   ],
   "source": [
    "prenom = \"Pierre\"\n",
    "age = 20\n",
    "majeur = True\n",
    "compte_en_banque = 20135.384\n",
    "amis = [\"Marie\", \"Julien\", \"Adrien\"]\n",
    "parents = (\"Marc\", \"Caroline\")\n",
    " \n",
    "print(prenom)\n",
    "print(age)\n",
    "print(majeur)\n",
    "print(compte_en_banque)\n",
    "print(amis)\n",
    "print(parents)"
   ]
  },
  {
   "cell_type": "markdown",
   "metadata": {},
   "source": [
    "EXPLICATION\n",
    "Dans cet exercice, il suffisait tout simplement de déclarer les différents types de variable demandés.\n",
    "\n",
    "POINTS IMPORTANTS À RETENIR\n",
    "- Une chaîne de caractère doit être entourée de deux guillemets. Les guillemets peuvent être simple (') ou doubles (\"). Vous ne pouvez pas commencer avec des guillemets simples et finir avec des guillemets doubles et vice-versa.\n",
    "\n",
    "- Un boolean commence par une majuscule : True et False. Si vous essayez de créer un boolean en écrivant 'true' ou 'false' vous aurez une erreur de syntaxe.\n",
    "\n",
    "- Pour définir un nombre à virgule, on utilise le point (.) et non pas la virgule. La virgule sert à séparer les éléments les uns des autres.\n",
    "\n",
    "- Pour définir une liste, on utilise les crochets : [ ]\n",
    "\n",
    "- Pour définir un tuple, on utilise les parenthèses : ( )\n",
    "\n",
    "\n",
    "<b>- 2:  Ajouter un séparateur dans un print\n",
    "\n"
   ]
  },
  {
   "cell_type": "code",
   "execution_count": 2,
   "metadata": {},
   "outputs": [
    {
     "name": "stdout",
     "output_type": "stream",
     "text": [
      "2 + 6 + 3\n"
     ]
    }
   ],
   "source": [
    "a = 2\n",
    "b = 6\n",
    "c = 3\n",
    "print(a, b, c, sep=\" + \")"
   ]
  },
  {
   "cell_type": "markdown",
   "metadata": {},
   "source": [
    "EXPLICATION\n",
    "Depuis la version 3 de Python, la fonction print accepte un paramètre 'sep' qui permet de séparer les éléments que l'on print par une chaîne de caractère.\n",
    "\n",
    "Ici, nous séparons donc les trois variables que nous affichons avec la fonction print, par la chaîne de caractère \" + \", ce qui permet d'afficher le résultat suivant : 2 + 6 + 3 "
   ]
  },
  {
   "cell_type": "markdown",
   "metadata": {},
   "source": [
    "<b>- 3:  Erreurs de déclaration de variables </b>\n",
    "\n",
    "- Il faut faire très attention à ne pas écraser des noms réservés par Python.\n",
    "\n",
    "- Voici une liste non-exhaustive des noms réservés par Python :\n",
    "\n",
    "False               def                 if                  raise\n",
    "None                del                 import              return\n",
    "True                elif                in                  try\n",
    "and                 else                is                  while\n",
    "as                  except              lambda              with\n",
    "assert              finally             nonlocal            yield\n",
    "break               for                 not                 \n",
    "class               from                or                  \n",
    "continue            global              pass \n",
    "\n",
    "\n",
    "À cette liste vous pouvez ajouter toutes les fonctions de base de Python, comme la fonction str, la fonction int, la fonction dict, la fonction print, la fonction list etc...\n",
    "\n",
    "\n",
    "<b>- 4:  Conditions sur le type d'une variable </b>"
   ]
  },
  {
   "cell_type": "code",
   "execution_count": 3,
   "metadata": {},
   "outputs": [
    {
     "name": "stdout",
     "output_type": "stream",
     "text": [
      "La variable est une chaîne de caractères\n"
     ]
    }
   ],
   "source": [
    "prenom = \"Pierre\"\n",
    " \n",
    "if type(prenom) == str:\n",
    "    print(\"La variable est une chaîne de caractères\")\n",
    " \n",
    "prenom = 0\n",
    " \n",
    "if isinstance(prenom, str):\n",
    "    print(\"La variable est une chaîne de caractères\")"
   ]
  },
  {
   "cell_type": "markdown",
   "metadata": {},
   "source": [
    "POINTS IMPORTANTS À RETENIR\n",
    "\n",
    "- Pour vérifier le type d'une variable, on peut utiliser la fonction type ou la fonction isinstance. On préfèrera la fonction isinstance qui gère l'héritage.\n",
    "\n",
    "<b>- 5:  Remplacer un mot par un autre </b>\n",
    "\n",
    "Pour remplacer un mot par un autre en Python on utilise la fonction replace.\n",
    "\n",
    "Le premier argument est le mot à chercher et le second contient ce par quoi on veut le remplacer.\n",
    "\n",
    "La fonction replace va remplacer toutes les instances de la chaîne de caractère qu'elle trouve dans la phrase. Si vous avez 3 fois le mot \"Bonjour\", les trois occurrences du mot seront remplacées.\n",
    "\n",
    "\n",
    "\n",
    "<b>- 6:  Ordonner une chaîne de caractère</b>\n",
    "\n"
   ]
  },
  {
   "cell_type": "code",
   "execution_count": 4,
   "metadata": {},
   "outputs": [
    {
     "name": "stdout",
     "output_type": "stream",
     "text": [
      "Anne, Julien, Lucien, Marie, Pierre\n"
     ]
    }
   ],
   "source": [
    "chaine = \"Pierre, Julien, Anne, Marie, Lucien\"\n",
    "chaine_liste = chaine.split(\", \")\n",
    "chaine_liste.sort()\n",
    "chaine_en_ordre = \", \".join(chaine_liste)\n",
    "print(chaine_en_ordre)"
   ]
  },
  {
   "cell_type": "markdown",
   "metadata": {},
   "source": [
    "POINTS IMPORTANTS À RETENIR\n",
    "\n",
    "- On ne peut pas trier une chaîne de caractère.\n",
    "- Pour séparer une chaîne de caractère en plusieurs éléments, on utilise la fonction split.\n",
    "- Pour trier une liste, on utilise la fonction sort.\n",
    "- Pour joindre différents éléments d'une liste par une chaîne de caractère, on utilise la méthode join.\n",
    "\n",
    "\n",
    "\n",
    "<b>- 7:  Calculer le volume d'une sphère</b>"
   ]
  },
  {
   "cell_type": "code",
   "execution_count": 5,
   "metadata": {},
   "outputs": [
    {
     "name": "stdout",
     "output_type": "stream",
     "text": [
      "4188.790204786391\n"
     ]
    }
   ],
   "source": [
    "import math\n",
    "rayon = 10.0\n",
    "volume = (4.0 * math.pi / 3.0) * (rayon ** 3)\n",
    "print(volume)"
   ]
  },
  {
   "cell_type": "code",
   "execution_count": 6,
   "metadata": {},
   "outputs": [
    {
     "name": "stdout",
     "output_type": "stream",
     "text": [
      "Le volume de la sphère est de : 4188.790204786391\n"
     ]
    }
   ],
   "source": [
    "import math\n",
    "rayon = 10.0\n",
    "volume = (4.0 * math.pi / 3.0) * (rayon ** 3)\n",
    "print(\"Le volume de la sphère est de : {}\".format(volume))"
   ]
  },
  {
   "cell_type": "markdown",
   "metadata": {},
   "source": [
    "POINTS IMPORTANTS À RETENIR\n",
    "\n",
    "- Pour obtenir la valeur de pi, on importe le module math.\n",
    "\n",
    "- Pour multiplier, on utilise *, pour mettre le rayon à la puissance 3 on utilise ** et pour diviser on utilise /\n",
    "\n",
    "\n",
    "<b>- 8:  Tester si un nombre est plus grand que 10</b>"
   ]
  },
  {
   "cell_type": "code",
   "execution_count": 7,
   "metadata": {},
   "outputs": [
    {
     "name": "stdout",
     "output_type": "stream",
     "text": [
      "a est plus grand que 10\n"
     ]
    }
   ],
   "source": [
    "a = 12\n",
    "if a > 10:\n",
    "    print(\"a est plus grand que 10\")\n",
    "elif a < 10:\n",
    "    print(\"a est plus petit que 10\")"
   ]
  },
  {
   "cell_type": "markdown",
   "metadata": {},
   "source": [
    "<b>- 9:  Créations de listes</b>"
   ]
  },
  {
   "cell_type": "code",
   "execution_count": 8,
   "metadata": {},
   "outputs": [
    {
     "name": "stdout",
     "output_type": "stream",
     "text": [
      "[5, 6, 7, 8, 9, 10, 11, 12, 13, 14, 15]\n"
     ]
    }
   ],
   "source": [
    "liste_de_nombres = range(5, 16)\n",
    "print(list(liste_de_nombres))"
   ]
  },
  {
   "cell_type": "markdown",
   "metadata": {},
   "source": [
    "POINTS IMPORTANTS À RETENIR\n",
    "\n",
    "La fonction range permet de générer une liste de nombres rapidement.\n",
    "Depuis Python 3, il faut utiliser la fonction list pour convertir le résultat de la fonction range en liste."
   ]
  },
  {
   "cell_type": "code",
   "execution_count": 9,
   "metadata": {},
   "outputs": [
    {
     "name": "stdout",
     "output_type": "stream",
     "text": [
      "[2, 4, 6, 8, 10, 12, 14, 16, 18, 20, 22, 24, 26, 28, 30, 32, 34, 36, 38, 40, 42, 44, 46, 48, 50, 52, 54, 56, 58, 60, 62, 64, 66, 68, 70, 72, 74, 76, 78, 80, 82, 84, 86, 88, 90, 92, 94, 96, 98, 100]\n"
     ]
    }
   ],
   "source": [
    "liste_nombre_pairs = range(2, 101, 2)\n",
    "print(list(liste_nombre_pairs))"
   ]
  },
  {
   "cell_type": "markdown",
   "metadata": {},
   "source": [
    "POINTS IMPORTANTS À RETENIR\n",
    "On peut spécifier un écart à la fonction range en passant un nombre en troisième argument."
   ]
  },
  {
   "cell_type": "markdown",
   "metadata": {
    "collapsed": true
   },
   "source": [
    "<b>- 10:  Création d'un générateur de lancer de dés</b>"
   ]
  },
  {
   "cell_type": "code",
   "execution_count": 10,
   "metadata": {},
   "outputs": [
    {
     "name": "stdout",
     "output_type": "stream",
     "text": [
      "3\n",
      "6\n",
      "4\n",
      "1\n",
      "5\n",
      "4\n"
     ]
    }
   ],
   "source": [
    "import random\n",
    " \n",
    "for _ in range(6):\n",
    "    nombre = random.choice(range(1, 7))\n",
    "    print(nombre)"
   ]
  },
  {
   "cell_type": "markdown",
   "metadata": {
    "collapsed": true
   },
   "source": [
    "Pour générer des nombres aléatoires, on utilise le module random qui dispose de plusieurs fonctions nous permettant de générer des nombres aléatoires.\n",
    "\n",
    "Celle que nous utilisons dans le cadre de cette exercice est la fonction 'choice'. Cette fonction nous permet de choisir un élément aléatoire parmi une liste de plusieurs éléments.\n",
    "\n",
    "Pour générer un nombre aléatoire de 1 à 6, nous utilisons donc la ligne de code suivante :\n",
    "\n",
    "nombre = random.choice(range(1, 7)) \n",
    "\n",
    "Si vous ne voulez pas passer par une liste, vous pouvez également utiliser la fonction randint, comme ceci :\n",
    "\n",
    "nombre = random.randint(1, 6) \n",
    "\n",
    "La deuxième indication de l'exercice était de générer 6 lancer de dés.\n",
    "\n",
    "Pour cela, on utilise une boucle for et encore une fois la fonction range, pour répéter l'opération 6 fois :\n",
    "\n",
    "for _ in range(6):\n",
    "    # Opération à répéter\n",
    "Vous remarquerez que nous utilisons un nom de variable assez spécifique (un tiret du bas). En effet, ce nom de variable est une convention en Python lorsque l'on génère une variable que l'on ne compte pas utiliser. Ici, on veut juste répéter une opération un certain nombre de fois, mais nous ne faisons aucun usage de cette variable, nous utilisons donc un tiret du bas pour signifier à quelqu'un qui pourrait lire notre script que cette variable n'est pas utilisée à l'intérieur de la boucle.\n",
    "\n",
    "POINTS IMPORTANTS À RETENIR\n",
    "\n",
    "Pour récupérer un élément aléatoire dans une liste, on utilise la fonction choice du module random.\n",
    "\n",
    "<b>- 11:  Compter le nombre d'occurence d'une lettre dans une phrase</b>"
   ]
  },
  {
   "cell_type": "code",
   "execution_count": 11,
   "metadata": {},
   "outputs": [
    {
     "name": "stdout",
     "output_type": "stream",
     "text": [
      "4\n"
     ]
    }
   ],
   "source": [
    "lettre_a_chercher = \"o\"\n",
    "phrase = \"Bonjour tout le monde\"\n",
    "print(phrase.lower().count(lettre_a_chercher))"
   ]
  },
  {
   "cell_type": "markdown",
   "metadata": {
    "collapsed": true
   },
   "source": [
    "EXPLICATION\n",
    "Pour compter le nombre d'occurrences d'une lettre dans une chaîne de caractère, on utilise la fonction count.\n",
    "\n",
    "Afin d'éviter toute confusion quant aux majuscules et minuscules, nous prenons le soin de convertir auparavant notre chaîne de caractère en minuscule avec la fonction lower.\n",
    "\n",
    "POINTS IMPORTANTS À RETENIR\n",
    "Pour compter le nombre d'occurrences d'une lettre dans une chaîne de caractère, on utilise la fonction count.\n",
    "Pour convertir une chaîne de caractère en minuscule, on utilise la fonction lower.\n",
    "\n",
    "<b>- 12:  Ajouter des éléments à une liste</b>"
   ]
  },
  {
   "cell_type": "code",
   "execution_count": 12,
   "metadata": {},
   "outputs": [
    {
     "name": "stdout",
     "output_type": "stream",
     "text": [
      "[1, 2, 3, 4, 5, 6]\n"
     ]
    }
   ],
   "source": [
    "ma_liste = [1, 2, 3]\n",
    "ma_liste.extend([4, 5, 6])\n",
    "print(ma_liste)"
   ]
  },
  {
   "cell_type": "markdown",
   "metadata": {
    "collapsed": true
   },
   "source": [
    "Pour ajouter plusieurs éléments dans une liste en une seule fois, on utilise la fonction extend.\n",
    "\n",
    "En effet, si vous utilisez la fonction append, vous allez ajouter une liste à l'intérieur de votre liste.\n",
    "\n",
    "Pour ajouter plusieurs éléments d'un coup sans créer une sous-liste, il faut donc utiliser la fonction extend, qui va ajouter à la fin de votre liste les différents éléments que vous lui passez.\n",
    "\n",
    "<b>- 13: Récupérer des éléments commun à deux listes</b>"
   ]
  },
  {
   "cell_type": "code",
   "execution_count": 13,
   "metadata": {},
   "outputs": [
    {
     "name": "stdout",
     "output_type": "stream",
     "text": [
      "[5, 7, 10]\n"
     ]
    }
   ],
   "source": [
    "liste_01 = [1, 5, 6, 7, 9, 10, 11]\n",
    "liste_02 = [2, 3, 5, 7, 8, 10, 12]\n",
    "common = (x for x in liste_01 if x in liste_02)\n",
    "print(list(common))"
   ]
  },
  {
   "cell_type": "code",
   "execution_count": 14,
   "metadata": {},
   "outputs": [
    {
     "name": "stdout",
     "output_type": "stream",
     "text": [
      "[10, 5, 7]\n"
     ]
    }
   ],
   "source": [
    "liste_01 = [1, 5, 6, 7, 9, 10, 11]\n",
    "liste_02 = [2, 3, 5, 7, 8, 10, 12]\n",
    " \n",
    "sliste_01 = set(liste_01)\n",
    "sliste_02 = set(liste_02)\n",
    " \n",
    "intersect = sliste_01.intersection(sliste_02)\n",
    "print(list(intersect))"
   ]
  },
  {
   "cell_type": "markdown",
   "metadata": {},
   "source": [
    "Dans cet exercice, nous passons par les sets pour récupérer les éléments communs à deux liste.\n",
    "\n",
    "Pour convertir une liste en set, rien de plus facile, on utilise la fonction set :\n",
    "\n",
    "sliste_01 = set(liste_01) \n",
    "\n",
    "Une fois que nos deux listes sont converties en set, nous pouvons utiliser des méthodes pour récupérer l'intersection, la différence et plein d'autres opérations du même style :\n",
    "\n",
    "intersect = sliste_01.intersection(sliste_02) \n",
    "\n",
    "Il ne nous reste plus qu'à re-convertir notre set résultant en liste avec la fonction list :\n",
    "\n",
    "resultat = list(intersect) \n",
    "\n",
    "<b>- 14: Trier une liste de tuples</b>\n",
    "\n"
   ]
  },
  {
   "cell_type": "code",
   "execution_count": 15,
   "metadata": {},
   "outputs": [
    {
     "name": "stdout",
     "output_type": "stream",
     "text": [
      "[('Wall-E', 3), ('Blade Runner', 4), ('Harry Potter', 5)]\n"
     ]
    }
   ],
   "source": [
    "liste = [(\"Harry Potter\", 5), (\"Wall-E\", 3), (\"Blade Runner\", 4)]\n",
    "liste.sort(key=lambda x: x[1])\n",
    "print(liste)"
   ]
  },
  {
   "cell_type": "markdown",
   "metadata": {
    "collapsed": true
   },
   "source": [
    "La fonction sort accepte un argument dénommé 'key', qui va vous permettre de trier la liste selon des critères spécifiques.\n",
    "\n",
    "Dans ce cas-ci, nous donnons comme argument au paramètre key une fonction anonyme, qui elle même nous retourne l'élément 1 de la variable qui est passée à x.\n",
    "\n",
    "L'élément 1 du tuple correspond à la note du film, la fonction sort va donc trier les éléments de notre liste en fonction de cette élément et donc trier notre liste en fonction de la note accordée à chaque film.\n",
    "\n",
    "<b>- 15: Récupérer une valeur dans un dictionnaire</b>"
   ]
  },
  {
   "cell_type": "code",
   "execution_count": 16,
   "metadata": {},
   "outputs": [
    {
     "name": "stdout",
     "output_type": "stream",
     "text": [
      "Pierre\n"
     ]
    }
   ],
   "source": [
    "employes = {\"01\": {\"identite\": {\"prenom\": \"Pierre\", \"nom\": \"Dupont\"}}}\n",
    "print(employes.get(\"01\", {}).get(\"identite\", {}).get(\"prenom\", \"valeur inconnue\"))"
   ]
  },
  {
   "cell_type": "markdown",
   "metadata": {},
   "source": [
    "Bien que cette ligne de code semble complexe, elle ne l'est pas tant que ça, car elle répète trois fois de suite le même principe.\n",
    "\n",
    "Pour récupérer une valeur dans un dictionnaire, on peut tout d'abord utiliser les crochets de cette façon :\n",
    "\n",
    "employes[\"01\"] \n",
    "\n",
    "L'inconvénient de cette façon de faire c'est que notre script va retourner une erreur si la clé n'existe pas.\n",
    "\n",
    "Afin de palier à ce problème nous utilisons à la place la méthode get, qui va par défaut nous retourner None si la clé n'existe pas.\n",
    "\n",
    "Mais encore mieux, il est possible de spécifier un élément par défaut à retourner, autre que None, si la clé n'existe pas.\n",
    "\n",
    "C'est ce principe que nous mettons en place ici. Nous récupérons la première clé et si celle-ci n'existe pas, nous retournons un dictionnaire vide :\n",
    "\n",
    "employes.get(\"01\", {}) \n",
    "\n",
    "Ainsi, nous pouvons chaîner plusieurs get à la suite, sans risquer de faire planter le script. En effet, si nous ne retournions par de valeur par défaut et que la clé n'existe pas dans le dictionnaire, la 2e méthode get ne fonctionnerait pas car elle s'exécuterait sur None.\n",
    "\n",
    "Donc si la première clé n'est pas trouvée, le get va agir sur un dictionnaire vide et ainsi de suite, évitant tout risque d'erreur.\n",
    "\n",
    "<b>- 16: Additionner les valeur d'un dictionnaire</b>\n"
   ]
  },
  {
   "cell_type": "code",
   "execution_count": 17,
   "metadata": {},
   "outputs": [
    {
     "ename": "TypeError",
     "evalue": "unsupported operand type(s) for +: 'int' and 'dict'",
     "output_type": "error",
     "traceback": [
      "\u001b[1;31m---------------------------------------------------------------------------\u001b[0m",
      "\u001b[1;31mTypeError\u001b[0m                                 Traceback (most recent call last)",
      "\u001b[1;32m<ipython-input-17-7bb5777f9458>\u001b[0m in \u001b[0;36m<module>\u001b[1;34m\u001b[0m\n\u001b[0;32m      1\u001b[0m \u001b[0meemployes\u001b[0m \u001b[1;33m=\u001b[0m \u001b[1;33m{\u001b[0m\u001b[1;34m\"Pierre\"\u001b[0m\u001b[1;33m:\u001b[0m \u001b[1;36m2500\u001b[0m\u001b[1;33m,\u001b[0m \u001b[1;34m\"Marie\"\u001b[0m\u001b[1;33m:\u001b[0m \u001b[1;36m5000\u001b[0m\u001b[1;33m,\u001b[0m \u001b[1;34m\"Julien\"\u001b[0m\u001b[1;33m:\u001b[0m \u001b[1;36m1200\u001b[0m\u001b[1;33m}\u001b[0m\u001b[1;33m\u001b[0m\u001b[1;33m\u001b[0m\u001b[0m\n\u001b[1;32m----> 2\u001b[1;33m \u001b[0mprint\u001b[0m\u001b[1;33m(\u001b[0m\u001b[0msum\u001b[0m\u001b[1;33m(\u001b[0m\u001b[0memployes\u001b[0m\u001b[1;33m.\u001b[0m\u001b[0mvalues\u001b[0m\u001b[1;33m(\u001b[0m\u001b[1;33m)\u001b[0m\u001b[1;33m)\u001b[0m\u001b[1;33m)\u001b[0m\u001b[1;33m\u001b[0m\u001b[1;33m\u001b[0m\u001b[0m\n\u001b[0m",
      "\u001b[1;31mTypeError\u001b[0m: unsupported operand type(s) for +: 'int' and 'dict'"
     ]
    }
   ],
   "source": [
    "eemployes = {\"Pierre\": 2500, \"Marie\": 5000, \"Julien\": 1200}\n",
    "print(sum(employes.values()))"
   ]
  },
  {
   "cell_type": "markdown",
   "metadata": {},
   "source": [
    "POINTS IMPORTANTS À RETENIR\n",
    "\n",
    "Pour récupérer toutes les valeurs d'un dictionnaire, on utilise la méthode values.\n",
    "\n",
    "Pour faire la somme de plusieurs nombres, on utilise la fonction sum.\n",
    "\n",
    "\n",
    "<b>- 17: Les modules</b>\n",
    "\n",
    "Pour utiliser une fonction à l'intérieur d'un module, il ne faut pas oublier de préfixer la fonction par le nom du module.\n",
    "\n",
    "Pour importer une fonction à l'intérieur d'un module directement dans l'espace global de notre script, on peut utiliser la syntaxe from module import fonction ."
   ]
  },
  {
   "cell_type": "code",
   "execution_count": 18,
   "metadata": {},
   "outputs": [
    {
     "name": "stdout",
     "output_type": "stream",
     "text": [
      "3\n"
     ]
    }
   ],
   "source": [
    "import random\n",
    "\n",
    "nombre_aleatoire = random.randint(0, 5)\n",
    "print(nombre_aleatoire)"
   ]
  },
  {
   "cell_type": "code",
   "execution_count": 19,
   "metadata": {},
   "outputs": [
    {
     "name": "stdout",
     "output_type": "stream",
     "text": [
      "[2, 6, 12, 20, 42, 56, 90]\n"
     ]
    }
   ],
   "source": [
    "liste = [1, 1, 4, 3, 3, 2, 6, 7, 7, 9, 2]\n",
    "  \n",
    "resultat = [i*(i+1%(i*5)) for i in sorted(list(set(liste)))]\n",
    "print(resultat)"
   ]
  },
  {
   "cell_type": "markdown",
   "metadata": {},
   "source": [
    "<b>- 18: Récupérer le chemin d'un script</b>"
   ]
  },
  {
   "cell_type": "code",
   "execution_count": 43,
   "metadata": {},
   "outputs": [
    {
     "name": "stdout",
     "output_type": "stream",
     "text": [
      "D:\\Utilisateurs\\guillaume\\Documents\\GitHub\\Scripts_Python\\Exercices_tuto\n"
     ]
    }
   ],
   "source": [
    "import os \n",
    "\n",
    "fichier_courant = os.path.dirname(os.path.abspath(\"__file__\"))\n",
    "print(fichier_courant)\n",
    "dossier_parent = os.path.dirname(fichier_courant)\n",
    "dossier_images = os.path.join(dossier_parent, \"images\")"
   ]
  },
  {
   "cell_type": "markdown",
   "metadata": {},
   "source": [
    "<b>- 19: Récupérer l'extension d'un fichier</b>"
   ]
  },
  {
   "cell_type": "code",
   "execution_count": 44,
   "metadata": {},
   "outputs": [
    {
     "name": "stdout",
     "output_type": "stream",
     "text": [
      "exe\n"
     ]
    }
   ],
   "source": [
    "import os\n",
    "fichier = \"C:/Python36/python.exe\"\n",
    "extension = os.path.splitext(fichier)[1]\n",
    "extension = extension.strip(\".\")\n",
    "print(extension)"
   ]
  },
  {
   "cell_type": "markdown",
   "metadata": {},
   "source": [
    "POINTS IMPORTANTS À RETENIR\n",
    "\n",
    "Pour manipuler des chemins de dossier, on utilise le module os.path.\n",
    "\n",
    "Pour séparer un chemin de son extension, on utilise la fonction os.path.splitext.\n",
    "\n",
    "<b>- 20: Accéder à une variable d'environnement</b>"
   ]
  },
  {
   "cell_type": "code",
   "execution_count": 45,
   "metadata": {},
   "outputs": [
    {
     "name": "stdout",
     "output_type": "stream",
     "text": [
      "environ({'ALLUSERSPROFILE': 'C:\\\\ProgramData', 'APPDATA': 'D:\\\\Utilisateurs\\\\guillaume\\\\AppData\\\\Roaming', 'C:\\\\SQLITE3': 'C:\\\\sqlite3', 'COMMONPROGRAMFILES': 'C:\\\\Program Files\\\\Common Files', 'COMMONPROGRAMFILES(X86)': 'C:\\\\Program Files (x86)\\\\Common Files', 'COMMONPROGRAMW6432': 'C:\\\\Program Files\\\\Common Files', 'COMPUTERNAME': 'C37814', 'COMSPEC': 'C:\\\\windows\\\\system32\\\\cmd.exe', 'FP_NO_HOST_CHECK': 'NO', 'HOMEDRIVE': 'D:', 'HOMEPATH': '\\\\Utilisateurs\\\\guillaume', 'LOCALAPPDATA': 'D:\\\\Utilisateurs\\\\guillaume\\\\AppData\\\\Local', 'LOGONSERVER': '\\\\\\\\C37814', 'NUMBER_OF_PROCESSORS': '8', 'OS': 'Windows_NT', 'PATH': 'D:\\\\Utilisateurs\\\\guillaume\\\\Anaconda3;D:\\\\Utilisateurs\\\\guillaume\\\\Anaconda3\\\\Library\\\\mingw-w64\\\\bin;D:\\\\Utilisateurs\\\\guillaume\\\\Anaconda3\\\\Library\\\\usr\\\\bin;D:\\\\Utilisateurs\\\\guillaume\\\\Anaconda3\\\\Library\\\\bin;D:\\\\Utilisateurs\\\\guillaume\\\\Anaconda3\\\\Scripts;C:\\\\Program Files (x86)\\\\Common Files\\\\Oracle\\\\Java\\\\javapath;C:\\\\ProgramData\\\\Oracle\\\\Java\\\\javapath;C:\\\\Program Files (x86)\\\\Intel\\\\iCLS Client\\\\;C:\\\\Program Files\\\\Intel\\\\iCLS Client\\\\;C:\\\\windows\\\\system32;C:\\\\windows;C:\\\\windows\\\\System32\\\\Wbem;C:\\\\windows\\\\System32\\\\WindowsPowerShell\\\\v1.0\\\\;C:\\\\Program Files (x86)\\\\Intel\\\\OpenCL SDK\\\\3.0\\\\bin\\\\x86;C:\\\\Program Files (x86)\\\\Intel\\\\OpenCL SDK\\\\3.0\\\\bin\\\\x64;C:\\\\Program Files\\\\Intel\\\\Intel(R) Management Engine Components\\\\DAL;C:\\\\Program Files\\\\Intel\\\\Intel(R) Management Engine Components\\\\IPT;C:\\\\Program Files (x86)\\\\Intel\\\\Intel(R) Management Engine Components\\\\DAL;C:\\\\Program Files (x86)\\\\Intel\\\\Intel(R) Management Engine Components\\\\IPT;C:\\\\Program Files (x86)\\\\Bitvise SSH Client;C:\\\\Program Files\\\\MATLAB\\\\R2017a\\\\bin;C:\\\\Program Files\\\\MATLAB\\\\R2016a\\\\bin;C:\\\\Program Files\\\\MATLAB\\\\R2014b\\\\bin;C:\\\\Program Files\\\\MATLAB\\\\R2014a\\\\bin;C:\\\\Program Files (x86)\\\\Brackets\\\\command;C:\\\\Program Files\\\\Git\\\\cmd;D:\\\\Utilisateurs\\\\guillaume\\\\AppData\\\\Local\\\\Programs\\\\Python\\\\Python37-32\\\\Scripts\\\\;D:\\\\Utilisateurs\\\\guillaume\\\\AppData\\\\Local\\\\Programs\\\\Python\\\\Python37-32\\\\;D:\\\\Utilisateurs\\\\guillaume\\\\AppData\\\\Local\\\\Programs\\\\Python\\\\Python36\\\\Scripts\\\\;D:\\\\Utilisateurs\\\\guillaume\\\\AppData\\\\Local\\\\Programs\\\\Python\\\\Python36\\\\;D:\\\\Utilisateurs\\\\guillaume\\\\AppData\\\\Local\\\\GitHubDesktop\\\\bin', 'PATHEXT': '.COM;.EXE;.BAT;.CMD;.VBS;.VBE;.JS;.JSE;.WSF;.WSH;.MSC', 'PROCESSOR_ARCHITECTURE': 'AMD64', 'PROCESSOR_IDENTIFIER': 'Intel64 Family 6 Model 60 Stepping 3, GenuineIntel', 'PROCESSOR_LEVEL': '6', 'PROCESSOR_REVISION': '3c03', 'PROGRAMDATA': 'C:\\\\ProgramData', 'PROGRAMFILES': 'C:\\\\Program Files', 'PROGRAMFILES(X86)': 'C:\\\\Program Files (x86)', 'PROGRAMW6432': 'C:\\\\Program Files', 'PSMODULEPATH': 'C:\\\\windows\\\\system32\\\\WindowsPowerShell\\\\v1.0\\\\Modules\\\\', 'PUBLIC': 'D:\\\\Utilisateurs\\\\Public', 'SESSIONNAME': 'Console', 'SQLITE3': 'C:\\\\sqlite3', 'SYSTEMDRIVE': 'C:', 'SYSTEMROOT': 'C:\\\\windows', 'TEMP': 'D:\\\\Utilisateurs\\\\guillaume\\\\AppData\\\\Local\\\\Temp', 'TMP': 'D:\\\\Utilisateurs\\\\guillaume\\\\AppData\\\\Local\\\\Temp', 'USERDOMAIN': 'C37814', 'USERNAME': 'guillaume', 'USERPROFILE': 'D:\\\\Utilisateurs\\\\guillaume', 'VBOX_MSI_INSTALL_PATH': 'C:\\\\Program Files\\\\Oracle\\\\VirtualBox\\\\', 'WINDIR': 'C:\\\\windows', 'WINDOWS_TRACING_FLAGS': '3', 'WINDOWS_TRACING_LOGFILE': 'C:\\\\BVTBin\\\\Tests\\\\installpackage\\\\csilogfile.log', 'CONDA_PREFIX': 'D:\\\\Utilisateurs\\\\guillaume\\\\Anaconda3', 'JPY_INTERRUPT_EVENT': '4684', 'IPY_INTERRUPT_EVENT': '4684', 'JPY_PARENT_PID': '4680', 'TERM': 'xterm-color', 'CLICOLOR': '1', 'PAGER': 'cat', 'GIT_PAGER': 'cat', 'MPLBACKEND': 'module://ipykernel.pylab.backend_inline'})\n"
     ]
    }
   ],
   "source": [
    "import os \n",
    "env_var = os.environ.get(\"python\")\n",
    "env_var = os.environ\n",
    "print(env_var)"
   ]
  },
  {
   "cell_type": "markdown",
   "metadata": {},
   "source": [
    "<b>- 21: Calculer le temps d'exécution d'un script</b>"
   ]
  },
  {
   "cell_type": "code",
   "execution_count": 46,
   "metadata": {},
   "outputs": [
    {
     "name": "stdout",
     "output_type": "stream",
     "text": [
      "Temps d'exécution: 9.997432947158813s\n"
     ]
    }
   ],
   "source": [
    "from time import time\n",
    "a = time()\n",
    "_ = [i*2 for i in range(99999999)]\n",
    "print(f\"Temps d'exécution: {time() - a}s\")"
   ]
  },
  {
   "cell_type": "markdown",
   "metadata": {},
   "source": [
    "<b>- 22: Formater une chaîne de caractère</b>"
   ]
  },
  {
   "cell_type": "code",
   "execution_count": 47,
   "metadata": {},
   "outputs": [
    {
     "name": "stdout",
     "output_type": "stream",
     "text": [
      "Bonjour je m'appelle Pierre Dupont\n"
     ]
    }
   ],
   "source": [
    "prenom = \"Pierre\"\n",
    "nom = \"Dupont\"\n",
    "print(\"Bonjour je m'appelle {prenom} {nom}\".format(prenom=prenom, nom=nom))"
   ]
  },
  {
   "cell_type": "markdown",
   "metadata": {},
   "source": [
    "POINTS IMPORTANTS À RETENIR\n",
    "\n",
    "Pour concaténer des chaînes de caractère, on peut utiliser directement la fonction format avec les accolades pour insérer des variables à l'intérieur d'une chaîne de caractère.\n",
    "\n",
    "<b>- 23: Inverser les lettres d'un mot</b>"
   ]
  },
  {
   "cell_type": "code",
   "execution_count": 48,
   "metadata": {},
   "outputs": [
    {
     "name": "stdout",
     "output_type": "stream",
     "text": [
      "Ymedu\n"
     ]
    }
   ],
   "source": [
    "mot = \"Udemy\"\n",
    "print(\"Udemy\"[::-1].capitalize())"
   ]
  },
  {
   "cell_type": "markdown",
   "metadata": {},
   "source": [
    "Ou nous pouvons utiliser plus de fonctions natives de Python:"
   ]
  },
  {
   "cell_type": "code",
   "execution_count": 49,
   "metadata": {},
   "outputs": [
    {
     "name": "stdout",
     "output_type": "stream",
     "text": [
      "Ymedu\n"
     ]
    }
   ],
   "source": [
    "mot = \"Udemy\"\n",
    " \n",
    "resultat = []\n",
    " \n",
    "for lettre in reversed(mot):\n",
    "    resultat.append(lettre)\n",
    " \n",
    "resultat_formate = \"\".join(resultat)\n",
    "print(resultat_formate.capitalize())"
   ]
  },
  {
   "cell_type": "markdown",
   "metadata": {},
   "source": [
    "<b>- 24: Mélanger les lettres d'un mot</b>"
   ]
  },
  {
   "cell_type": "code",
   "execution_count": 50,
   "metadata": {},
   "outputs": [
    {
     "name": "stdout",
     "output_type": "stream",
     "text": [
      "Uobojrn\n"
     ]
    }
   ],
   "source": [
    "import random\n",
    " \n",
    "mot = \"Bonjour\"\n",
    "mot = list(mot)\n",
    " \n",
    "random.shuffle(mot)\n",
    " \n",
    "mot_random = \"\".join(mot).capitalize()\n",
    "print(mot_random)"
   ]
  },
  {
   "cell_type": "markdown",
   "metadata": {},
   "source": [
    "POINTS IMPORTANTS À RETENIR\n",
    "\n",
    "Pour mélanger les éléments d'une liste, on utilise la fonction shuffle du module random.\n",
    "\n",
    "Pour convertir une chaîne de caractères en liste, on utilise la fonction list.\n",
    "\n",
    "\n",
    "<b>- 25: Tronquer le nombre de décimales</b>"
   ]
  },
  {
   "cell_type": "code",
   "execution_count": 51,
   "metadata": {},
   "outputs": [
    {
     "name": "stdout",
     "output_type": "stream",
     "text": [
      "Nombre tronqué: 2938.489\n"
     ]
    }
   ],
   "source": [
    "nombre = 2938.48872\n",
    "decimales = 3\n",
    " \n",
    "print(\"Nombre tronqué: {nombre:.{decimales}f}\".format(nombre=nombre, decimales=decimales))"
   ]
  },
  {
   "cell_type": "markdown",
   "metadata": {},
   "source": [
    "On peut tronquer directement un nombre pour n'afficher qu'une certaine parties des décimales après la virgule grâce à la fonction format et la syntaxe {nombre:.3f}."
   ]
  },
  {
   "cell_type": "markdown",
   "metadata": {},
   "source": [
    "<b>- 26: Tester une condition sur une ligne</b>\n",
    "\n",
    "Pour réaliser une structure conditionnelle sur une seule ligne, on utilise un opérateur ternaire."
   ]
  },
  {
   "cell_type": "code",
   "execution_count": 52,
   "metadata": {},
   "outputs": [
    {
     "name": "stdout",
     "output_type": "stream",
     "text": [
      "Vous êtes majeur !\n"
     ]
    }
   ],
   "source": [
    "a=20\n",
    "majeur = print(\"Vous êtes majeur !\") if a >= 18 else print(\"Vous êtes mineur\")"
   ]
  },
  {
   "cell_type": "markdown",
   "metadata": {},
   "source": [
    "<b>- 27: Trier des nombres sans condition</b>"
   ]
  },
  {
   "cell_type": "code",
   "execution_count": 53,
   "metadata": {},
   "outputs": [
    {
     "name": "stdout",
     "output_type": "stream",
     "text": [
      "Les nombres dans l'ordre sont 2, 4 et 6\n"
     ]
    }
   ],
   "source": [
    "a = 4\n",
    "b = 6\n",
    "c = 2\n",
    "a1 = min(a, b, c)\n",
    "a3 = max(a, b, c)\n",
    "a2 = (a + b + c) - a1 - a3\n",
    "print(\"Les nombres dans l'ordre sont {}, {} et {}\".format(a1, a2, a3))"
   ]
  },
  {
   "cell_type": "code",
   "execution_count": 54,
   "metadata": {},
   "outputs": [
    {
     "name": "stdout",
     "output_type": "stream",
     "text": [
      "0\n",
      "1\n",
      "2\n",
      "3\n",
      "4\n",
      "5\n"
     ]
    }
   ],
   "source": [
    "mot = \"Python\"\n",
    "for i in range(len(mot)):\n",
    "    print(i)"
   ]
  },
  {
   "cell_type": "code",
   "execution_count": 55,
   "metadata": {},
   "outputs": [
    {
     "name": "stdout",
     "output_type": "stream",
     "text": [
      "BonjourBonjourBonjourBonjourBonjour\n"
     ]
    }
   ],
   "source": [
    "def multiplicateur_mot( mot):\n",
    "    return 5 * mot\n",
    "\n",
    "mot_multiplie = multiplicateur_mot(mot=\"Bonjour\")\n",
    "print(mot_multiplie)"
   ]
  },
  {
   "cell_type": "code",
   "execution_count": 56,
   "metadata": {},
   "outputs": [
    {
     "name": "stdout",
     "output_type": "stream",
     "text": [
      "0 x 7 = 0\n",
      "1 x 7 = 7\n",
      "2 x 7 = 14\n",
      "3 x 7 = 21\n",
      "4 x 7 = 28\n",
      "5 x 7 = 35\n",
      "6 x 7 = 42\n",
      "7 x 7 = 49\n",
      "8 x 7 = 56\n",
      "9 x 7 = 63\n",
      "10 x 7 = 70\n"
     ]
    }
   ],
   "source": [
    "nombre = 7\n",
    "for i in range(11):\n",
    "    print('{} x {} = {}'.format(i,nombre,(i*nombre)))"
   ]
  },
  {
   "cell_type": "markdown",
   "metadata": {},
   "source": [
    "POINTS IMPORTANTS À RETENIR\n",
    "\n",
    "Il est possible de faire des opérations mathématiques directement à l'intérieur de la méthode format, afin d'insérer le résultat de ces opérations à l'intérieur d'une chaîne de caractère."
   ]
  },
  {
   "cell_type": "code",
   "execution_count": 57,
   "metadata": {},
   "outputs": [
    {
     "name": "stdout",
     "output_type": "stream",
     "text": [
      "0 Pierre\n",
      "1 Paul\n",
      "2 Marie\n"
     ]
    }
   ],
   "source": [
    "liste = [\"Pierre\", \"Paul\", \"Marie\"]\n",
    "i = 0\n",
    "for mot in liste: \n",
    "    print(i, mot)\n",
    "    i += 1"
   ]
  },
  {
   "cell_type": "code",
   "execution_count": 58,
   "metadata": {},
   "outputs": [
    {
     "name": "stdout",
     "output_type": "stream",
     "text": [
      "0 Pierre\n",
      "1 Paul\n",
      "2 Marie\n"
     ]
    }
   ],
   "source": [
    "liste = [\"Pierre\", \"Paul\", \"Marie\"]\n",
    "for i, nom in enumerate(liste):\n",
    "    print(i, nom)"
   ]
  },
  {
   "cell_type": "markdown",
   "metadata": {},
   "source": [
    "<b>- 28: Récupérer les nombres pairs d'une liste</b>\n"
   ]
  },
  {
   "cell_type": "code",
   "execution_count": 59,
   "metadata": {},
   "outputs": [
    {
     "name": "stdout",
     "output_type": "stream",
     "text": [
      "[0, 2, 4, 6, 8, 10, 12, 14, 16, 18, 20, 22, 24, 26, 28, 30, 32, 34, 36, 38, 40, 42, 44, 46, 48]\n"
     ]
    }
   ],
   "source": [
    "nombres = range(50)\n",
    "nombres_pairs = []\n",
    "for nombre in nombres:\n",
    "    if nombre%2 == 0:\n",
    "        nombres_pairs.append(nombre)\n",
    "print(nombres_pairs)"
   ]
  },
  {
   "cell_type": "markdown",
   "metadata": {},
   "source": [
    "POINTS IMPORTANTS À RETENIR\n",
    "\n",
    "Pour vérifier si un nombre est pair, on utilise l'opérateur mathématique modulo, en vérifiant si le modulo de notre nombre par 2 est égal ou non à 0."
   ]
  },
  {
   "cell_type": "code",
   "execution_count": 60,
   "metadata": {},
   "outputs": [
    {
     "name": "stdout",
     "output_type": "stream",
     "text": [
      "[0, 2, 4, 6, 8, 10, 12, 14, 16, 18, 20, 22, 24, 26, 28, 30, 32, 34, 36, 38, 40, 42, 44, 46, 48]\n"
     ]
    }
   ],
   "source": [
    "nombres = range(50)\n",
    "nombres_pairs = [i for i in nombres if i % 2 == 0]\n",
    "print(nombres_pairs)"
   ]
  },
  {
   "cell_type": "code",
   "execution_count": null,
   "metadata": {
    "collapsed": true
   },
   "outputs": [],
   "source": []
  },
  {
   "cell_type": "code",
   "execution_count": null,
   "metadata": {
    "collapsed": true
   },
   "outputs": [],
   "source": []
  },
  {
   "cell_type": "code",
   "execution_count": null,
   "metadata": {
    "collapsed": true
   },
   "outputs": [],
   "source": []
  },
  {
   "cell_type": "code",
   "execution_count": null,
   "metadata": {
    "collapsed": true
   },
   "outputs": [],
   "source": []
  },
  {
   "cell_type": "code",
   "execution_count": null,
   "metadata": {
    "collapsed": true
   },
   "outputs": [],
   "source": []
  },
  {
   "cell_type": "code",
   "execution_count": null,
   "metadata": {
    "collapsed": true
   },
   "outputs": [],
   "source": []
  }
 ],
 "metadata": {
  "kernelspec": {
   "display_name": "Python 3",
   "language": "python",
   "name": "python3"
  },
  "language_info": {
   "codemirror_mode": {
    "name": "ipython",
    "version": 3
   },
   "file_extension": ".py",
   "mimetype": "text/x-python",
   "name": "python",
   "nbconvert_exporter": "python",
   "pygments_lexer": "ipython3",
   "version": "3.7.3"
  }
 },
 "nbformat": 4,
 "nbformat_minor": 2
}
