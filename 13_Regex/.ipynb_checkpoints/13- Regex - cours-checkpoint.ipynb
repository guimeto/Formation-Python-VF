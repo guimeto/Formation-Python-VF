{
 "cells": [
  {
   "cell_type": "markdown",
   "metadata": {},
   "source": [
    "<h1> 13 - Les expressions régulières (regex) </h1>\n",
    "\n",
    "<img src=\"./figures/regex.jpg\" alt=\"pandas\" width=\"80%\" height=\"80%\">\n",
    "\n",
    "Les expressions régulières  (de l'anglais regex Regular Expression) constituent un système très puissant et très rapide pour faire des recherches dans des chaînes de caractères. C'est une sorte de fonctionnalité Rechercher/Remplacer très poussée. \n",
    "\n",
    "\n",
    "Pour tester nos expressionsrégulières: Regex101.com\n",
    "\n",
    "En Python, les expressions régulières se font avec un package nommé <b>re</b>.  \n",
    "\n",
    "Voici un exemple d'usage d'expressions régulières, ce code illustre un cas où l'on chercherait à tester la présence d'une adresse email :"
   ]
  },
  {
   "cell_type": "code",
   "execution_count": 8,
   "metadata": {},
   "outputs": [
    {
     "name": "stdout",
     "output_type": "stream",
     "text": [
      "Vrai\n"
     ]
    }
   ],
   "source": [
    "import re\n",
    "\n",
    "chaine = \"guillaume.d@gmail.com\"\n",
    "\n",
    "# on vérifie qu'il y a bien le signe @ et on vérifie que l'adresse se termine par .fr ou .com\n",
    "regexp = \"(^[a-z0-9._-]+@[a-z0-9._-]+\\.[(com|fr)]+)\"\n",
    "\n",
    "if re.match(regexp, chaine) is not None :\n",
    "    \n",
    "    print(\"Vrai\")\n",
    "\n",
    "else:\n",
    "    \n",
    "    print(\"Faux\")"
   ]
  },
  {
   "cell_type": "markdown",
   "metadata": {},
   "source": [
    "Voici un autre exemple, voici une expression régulière pour déterminer si un numéro de téléphone francais est valide: \n",
    "\n",
    "- ^[0]{1}[1-7]{1}(-[0-9]{2}){4}$\n"
   ]
  },
  {
   "cell_type": "code",
   "execution_count": 7,
   "metadata": {},
   "outputs": [
    {
     "name": "stdout",
     "output_type": "stream",
     "text": [
      "Vrai\n"
     ]
    }
   ],
   "source": [
    "import re\n",
    "\n",
    "numero = \"02-98-07-48-56\"\n",
    "\n",
    "regexp = \"^[0]{1}[1-7]{1}(-[0-9]{2}){4}$\"\n",
    "\n",
    "if re.match(regexp, numero) is not None :\n",
    "    \n",
    "    print(\"Vrai\")\n",
    "\n",
    "else:\n",
    "    \n",
    "    print(\"Faux\")"
   ]
  },
  {
   "cell_type": "markdown",
   "metadata": {},
   "source": [
    "Nous allons voir comment utiliser ces regex : "
   ]
  },
  {
   "cell_type": "markdown",
   "metadata": {},
   "source": [
    "<h2>13.1- Trouver des caractères</h2>"
   ]
  },
  {
   "cell_type": "markdown",
   "metadata": {},
   "source": [
    "<h2>13.1.1- Les caractères génériques</h2>\n",
    "\n",
    "Dans les regex, il est important de savoir ce que l'on doit aller chercher et combien de fois. \n",
    "\n",
    "- <b>Chercher les caractères que nous voulons:</b>"
   ]
  },
  {
   "cell_type": "markdown",
   "metadata": {},
   "source": [
    "- . : Le point correspond à tous les caractères possibles\n",
    "- \\ : Utilisé pour supprimer la signification spéciale du caractère qui le suit (discuté ci-dessous)\n",
    "- [A-F] : Correspond à une liste de caractères possibles: tous les éléments entre A et F \n",
    "- ^: le contraire de ce que l'on veut\n",
    "- $: Correspond à la fin\n",
    "- (python|c++):\tchercher l'un ou l'autre\n",
    "- (): Joindre un groupe de requête re()\n",
    "- \\d : chercher Uniquement des chiffres. Équivalent à [0-9]\n",
    "- \\D : chercher tout sauf des chiffres. Équivalent à [^0-9]\n",
    "- \\s : chercher Un espace\n",
    "- \\w : chercher un caractère alphanumérique. Équivalent à [a-zA-Z0-9_]\n",
    "- \\W :Tout sauf un caractère alphanumérique. Équivalent à [^a-zA-Z0-9_]."
   ]
  },
  {
   "cell_type": "markdown",
   "metadata": {},
   "source": [
    "<b> - Pour compter des caractères: </b> "
   ]
  },
  {
   "cell_type": "markdown",
   "metadata": {},
   "source": [
    "- ? : 0 ou 1 fois\n",
    "- '*'\t: 0 à l'infini\n",
    "- '+'\t: de 1 à l'infini\n",
    "- {3} : exactement 3\n",
    "- {3,} : de 3 à l'infini\n",
    "- {,3} : de 0 à 3 fois\n",
    "- {3,6} : de 3 à 6 fois"
   ]
  },
  {
   "cell_type": "markdown",
   "metadata": {},
   "source": [
    "<h2>13.1.2-  Rechercher le debut ou fin d'une chaine de caractères</h2>\n",
    "\n",
    " - '^' pour le debut d'une chaine\n",
    " - '$' pour les fins de chaines\n"
   ]
  },
  {
   "cell_type": "code",
   "execution_count": 57,
   "metadata": {},
   "outputs": [
    {
     "name": "stdout",
     "output_type": "stream",
     "text": [
      "Faux pour: il est sur le feu\n",
      "Vrai pour: fou\n"
     ]
    }
   ],
   "source": [
    "import re\n",
    "\n",
    "strings = [\"il est sur le feu\",\"fou\"]\n",
    "\n",
    "bad_string = \"un feu de paille\"\n",
    "regexp = \"(f.u)$\"\n",
    "for string in strings:\n",
    "    if re.match(regexp, string) is not None :\n",
    "\n",
    "        print(\"Vrai pour: \" + string)\n",
    "\n",
    "    else:\n",
    "\n",
    "        print(\"Faux pour: \"+ string)\n",
    "    "
   ]
  },
  {
   "cell_type": "code",
   "execution_count": 58,
   "metadata": {},
   "outputs": [
    {
     "name": "stdout",
     "output_type": "stream",
     "text": [
      "Faux\n",
      "Vrai\n"
     ]
    }
   ],
   "source": [
    "import re\n",
    "\n",
    "strings = [\"il est sur le feu\",\"fou\"]\n",
    "\n",
    "bad_string = \"un feu de paille\"\n",
    "regexp = \"^(f.u)\"\n",
    "for string in strings: \n",
    "    if re.match(regexp, string) is not None :\n",
    "\n",
    "        print(\"Vrai\")\n",
    "\n",
    "    else:\n",
    "\n",
    "        print(\"Faux\")"
   ]
  },
  {
   "cell_type": "markdown",
   "metadata": {},
   "source": [
    "<h2>13.1.3- La fonction match(), tester une chaîne de caractères:</h2>"
   ]
  },
  {
   "cell_type": "code",
   "execution_count": 59,
   "metadata": {},
   "outputs": [
    {
     "name": "stdout",
     "output_type": "stream",
     "text": [
      "\tBonjour\n",
      "\\tBonjour\n"
     ]
    }
   ],
   "source": [
    "# Pourquoi on met un 'r'\n",
    "print('\\tBonjour')\n",
    "print(r'\\tBonjour')"
   ]
  },
  {
   "cell_type": "markdown",
   "metadata": {},
   "source": [
    "- <b>match()</b> évalue la correspondance entre une expression régulière et une chaîne de caractères en partant du <b> bébut </b> de la chaîne. "
   ]
  },
  {
   "cell_type": "code",
   "execution_count": 60,
   "metadata": {},
   "outputs": [
    {
     "name": "stdout",
     "output_type": "stream",
     "text": [
      "<re.Match object; span=(0, 1), match='P'>\n"
     ]
    }
   ],
   "source": [
    "a = re.match(r'.', 'Pierre Dupont') # chercher n'importe quel caractère une seule fois\n",
    "print(a)"
   ]
  },
  {
   "cell_type": "code",
   "execution_count": 61,
   "metadata": {},
   "outputs": [
    {
     "name": "stdout",
     "output_type": "stream",
     "text": [
      "P\n"
     ]
    }
   ],
   "source": [
    "a = re.match(r'.', 'Pierre Dupont')\n",
    "print(a.group())"
   ]
  },
  {
   "cell_type": "code",
   "execution_count": 62,
   "metadata": {},
   "outputs": [
    {
     "name": "stdout",
     "output_type": "stream",
     "text": [
      "Pierre Dupont\n"
     ]
    }
   ],
   "source": [
    "a = re.match(r'.+', 'Pierre Dupont') # chercher n'importe quel caractère à l'infini\n",
    "print(a.group())"
   ]
  },
  {
   "cell_type": "markdown",
   "metadata": {},
   "source": [
    "On peut créer différent groupe avec la méthode groupe: "
   ]
  },
  {
   "cell_type": "code",
   "execution_count": 63,
   "metadata": {},
   "outputs": [
    {
     "name": "stdout",
     "output_type": "stream",
     "text": [
      "Pierre Dupont\n",
      "Pierre\n",
      "Dupont\n"
     ]
    }
   ],
   "source": [
    "a = re.match(r'(\\w+)\\s(\\w+)', 'Pierre Dupont')\n",
    "print(a.group(0)) # entièreté du match \n",
    "print(a.group(1)) # premier groupe \n",
    "print(a.group(2)) # deuxième groupe "
   ]
  },
  {
   "cell_type": "code",
   "execution_count": 64,
   "metadata": {},
   "outputs": [
    {
     "name": "stdout",
     "output_type": "stream",
     "text": [
      "Pierre Dupont\n",
      "Pierre\n",
      " \n",
      "Dupont\n"
     ]
    }
   ],
   "source": [
    "a = re.match(r'(\\w+)(\\s)(\\w+)', 'Pierre Dupont')\n",
    "print(a.group(0)) # entièreté du match \n",
    "print(a.group(1)) # premier groupe  \n",
    "print(a.group(2)) # deuxième groupe\n",
    "print(a.group(3)) # troisième groupe"
   ]
  },
  {
   "cell_type": "markdown",
   "metadata": {},
   "source": [
    "On peut nommer les groupes au lieu de mettre des indexs:"
   ]
  },
  {
   "cell_type": "code",
   "execution_count": 65,
   "metadata": {},
   "outputs": [
    {
     "name": "stdout",
     "output_type": "stream",
     "text": [
      "Pierre\n",
      "Dupont\n",
      "('Pierre', 'Dupont')\n",
      "{'prenom': 'Pierre', 'nom': 'Dupont'}\n"
     ]
    }
   ],
   "source": [
    "a = re.match(r'(?P<prenom>\\w+) (?P<nom>\\w+)', 'Pierre Dupont')\n",
    "\n",
    "print(a.group('prenom'))\n",
    "print(a.group('nom'))\n",
    "\n",
    "print(a.groups())\n",
    "print(a.groupdict())"
   ]
  },
  {
   "cell_type": "markdown",
   "metadata": {},
   "source": [
    "<b>- Exercices: </b>\n",
    "\n",
    "Pour chaque question, indiquez si le match est valide ou non et ce qu'il retourne.\n",
    "\n",
    "- 1 re.match(r'[a-z]+\\d{2}', 'item01')\n",
    "\n",
    "- 2 re.match(r'[a-zA-Z]+\\s\\w+', 'Pierre Dupont')\n",
    "\n",
    "- 3 re.match(r'\\s+', 'pierre dupont')\n",
    "\n",
    "- 4 re.match(r'\\w+', 'pierre dupont')\n",
    "\n",
    "- 5 re.match(r'\\w+([-+=]?)', 'pierre-dupont')\n",
    "\n",
    "- 6 re.match(r'\\w+([-+=]?)', 'pierre/dupont')\n",
    "\n",
    "- 7 re.match(r'\\w+([-+=]+)', 'pierre/dupont')\n",
    "\n",
    "\n",
    "<b>- Correction: </b>\n",
    "\n",
    "- 1 re.match(r'[a-z]+\\d{2}', 'item01')\n",
    "\n",
    "Match valide : retourne 'item01'\n",
    "\n",
    "- 2 re.match(r'[a-zA-Z]+\\s\\w+', 'Pierre Dupont')\n",
    "\n",
    "Match valide : retourne 'Pierre Dupont'\n",
    "\n",
    "- 3 re.match(r'\\s+', 'pierre dupont')\n",
    "\n",
    "Match invalide : on cherche un espace au début de la chaîne de caractère, mais elle commence par une lettre.\n",
    "\n",
    "- 4 re.match(r'\\w+', 'pierre dupont')\n",
    "\n",
    "Match valide : retourne 'pierre'\n",
    "\n",
    "- 5 re.match(r'\\w+([-+=]?)', 'pierre-dupont')\n",
    "\n",
    "Match valide : retourne 'pierre-'\n",
    "\n",
    "- 6 re.match(r'\\w+([-+=]?)', 'pierre/dupont')\n",
    "\n",
    "Match valide : retourne 'pierre'\n",
    "\n",
    "- 7 re.match(r'\\w+([-+=]+)', 'pierre/dupont')\n",
    "\n",
    "Match invalide : le + cherche si les caractères -, + ou = sont présents au moins une fois ou plus dans la chaîne de caractère. Aucun de ses éléments ne se retrouve dans la chaîne de caractère au moins une fois et donc le match n'est pas valide.\n",
    "\n"
   ]
  },
  {
   "cell_type": "markdown",
   "metadata": {},
   "source": [
    "<h2>13.1.4- La fonction search(), chercher une chaîne de caractères:</h2>\n"
   ]
  },
  {
   "cell_type": "code",
   "execution_count": 85,
   "metadata": {},
   "outputs": [
    {
     "name": "stdout",
     "output_type": "stream",
     "text": [
      "+\n"
     ]
    }
   ],
   "source": [
    "a = re.search(r'\\+', 'Pierre Dupont + Paul Martin')\n",
    "print(a.group())"
   ]
  },
  {
   "cell_type": "code",
   "execution_count": 74,
   "metadata": {},
   "outputs": [
    {
     "name": "stdout",
     "output_type": "stream",
     "text": [
      "<re.Match object; span=(6, 7), match=' '>\n"
     ]
    }
   ],
   "source": [
    "a = re.search(r'\\s', 'Pierre Dupont + Paul Martin')\n",
    "print(a)"
   ]
  },
  {
   "cell_type": "code",
   "execution_count": 75,
   "metadata": {},
   "outputs": [
    {
     "name": "stdout",
     "output_type": "stream",
     "text": [
      "+ Paul Martin\n",
      "<re.Match object; span=(14, 27), match='+ Paul Martin'>\n"
     ]
    }
   ],
   "source": [
    "a = re.search(r'\\+ Paul Martin', 'Pierre Dupont + Paul Martin')\n",
    "print(a.group())\n",
    "print(a)"
   ]
  },
  {
   "cell_type": "code",
   "execution_count": 84,
   "metadata": {},
   "outputs": [
    {
     "name": "stdout",
     "output_type": "stream",
     "text": [
      "trouvé\n",
      "<re.Match object; span=(5, 7), match='fu'>\n"
     ]
    }
   ],
   "source": [
    "import re\n",
    "\n",
    "a = re.search(\"f.\",\"kung fu\")\n",
    "\n",
    "if a is not None:\n",
    "    print(\"trouvé\")\n",
    "    print(a)\n",
    "    \n",
    "else:\n",
    "    print(\"Aucune correspondance\")"
   ]
  },
  {
   "cell_type": "code",
   "execution_count": 83,
   "metadata": {},
   "outputs": [
    {
     "name": "stdout",
     "output_type": "stream",
     "text": [
      "Aucune correspondance\n"
     ]
    }
   ],
   "source": [
    "import re\n",
    "a = re.search(\"baton\",\"kung fu\")\n",
    "\n",
    "if a is not None:\n",
    "    print(\"trouvé\")\n",
    "else:\n",
    "    print(\"Aucune correspondance\")\n",
    "    "
   ]
  },
  {
   "cell_type": "markdown",
   "metadata": {},
   "source": [
    "<h2>13.1.5- La fonction split():</h2>"
   ]
  },
  {
   "cell_type": "code",
   "execution_count": 71,
   "metadata": {},
   "outputs": [
    {
     "name": "stdout",
     "output_type": "stream",
     "text": [
      "['item01', 'item02', 'item03', 'item04', 'item05']\n"
     ]
    }
   ],
   "source": [
    "import re\n",
    "\n",
    "texte = 'item01 | item02 - item03 - item04 | item05'\n",
    "\n",
    "a = re.split(r' \\| | - ' , texte)\n",
    "print(a)"
   ]
  },
  {
   "cell_type": "markdown",
   "metadata": {},
   "source": [
    "<h2>13.1.6- La fonction sub():</h2>\n",
    "\n",
    "Cette fonction su() permet de modifier des chaines de caractères avec regex.\n"
   ]
  },
  {
   "cell_type": "code",
   "execution_count": 87,
   "metadata": {},
   "outputs": [
    {
     "data": {
      "text/plain": [
       "'hello world!'"
      ]
     },
     "execution_count": 87,
     "metadata": {},
     "output_type": "execute_result"
    }
   ],
   "source": [
    "re.sub('yo','hello','yo world!')"
   ]
  },
  {
   "cell_type": "markdown",
   "metadata": {},
   "source": [
    "<h2>13.1.7-  Mises en pratique 1 </h2>\n",
    "\n",
    "<h3> a: vérifier la validité des numéros de téléphone à l'aide d'une expression régulière:</h3>\n",
    "\n",
    "Un numéro valide en France doit être composée d'une suite de 5 nombres avec 2 chiffres. La première série de nombres doit être comprise entre 01 et 07.\n",
    "\n",
    "Cela donne donc 0A-XX-XX-XX-XX où A est un nombre compris entre 1 et 7 et X un nombre compris entre 0 et 9.\n",
    "\n",
    "Les numéros suivants sont donc valides :\n",
    "\n",
    "01-23-65-32-45\n",
    "\n",
    "07-35-88-99-23\n",
    "\n",
    "03-45-23-90-00\n",
    "\n",
    "Et les numéros suivants invalides :\n",
    "\n",
    "00-12-53-62-43 (commence par 00)\n",
    "\n",
    "08-14-62-32-99 (commence par 08)\n",
    "\n",
    "03-24-12-64 (seulement 4 séquences de deux chiffres)\n",
    "\n"
   ]
  },
  {
   "cell_type": "code",
   "execution_count": 89,
   "metadata": {},
   "outputs": [
    {
     "name": "stdout",
     "output_type": "stream",
     "text": [
      "Le numero 06-71-45-34-23 est valide\n",
      "Le numero 02-12-33-75-12 est valide\n",
      "Le numero 00-23-14-52-44 est invalide\n",
      "Le numero 514-235-0293 est invalide\n",
      "Le numero 03-52-31-56-34 est valide\n"
     ]
    }
   ],
   "source": [
    "import re\n",
    "\n",
    "numeros_de_telephone = ['06-71-45-34-23',\n",
    "                        '02-12-33-75-12',\n",
    "                        '00-23-14-52-44',\n",
    "                        '514-235-0293',\n",
    "                        '03-52-31-56-34']\n",
    "\n",
    "for tel in numeros_de_telephone:\n",
    "    match = re.search(r'0{1}[1-7]{1}(-[0-9]{2}){4}', tel)\n",
    "    print('Le numero {} est {}'.format(tel, 'valide' if match else 'invalide'))"
   ]
  },
  {
   "cell_type": "markdown",
   "metadata": {},
   "source": [
    "<h3> b: vérifier la validité d'une liste d'adresses courriel:</h3>\n",
    "\n",
    "Le but de cet exercice est de vérifier si les adresses emails contenues dans la liste sont valides ou non."
   ]
  },
  {
   "cell_type": "code",
   "execution_count": 90,
   "metadata": {},
   "outputs": [
    {
     "name": "stdout",
     "output_type": "stream",
     "text": [
      "L'adresse christian_martin@gmail.com est valide\n",
      "L'adresse JaiOublieLarobasegmail.com est invalide\n",
      "L'adresse MarieHutchinson03523@yahoo.co.uk est valide\n",
      "L'adresse UnEaDreSSeMail!38BIZarre@unSiTeBizarre.com est valide\n",
      "L'adresse ceciNestPasUneDresseMail est invalide\n"
     ]
    }
   ],
   "source": [
    "import re\n",
    "\n",
    "adresses_mail = ['christian_martin@gmail.com',\n",
    "                 'JaiOublieLarobasegmail.com',\n",
    "                 'MarieHutchinson03523@yahoo.co.uk',\n",
    "                 'UnEaDreSSeMail!38BIZarre@unSiTeBizarre.com',\n",
    "                 'ceciNestPasUneDresseMail']\n",
    "\n",
    "for mail in adresses_mail:\n",
    "    adresse_valide = re.search(r'.+@[a-zA-Z0-9-]+\\.[a-zA-Z-.]+', mail)\n",
    "    print(\"L'adresse {} est {}\".format(mail, 'valide' if adresse_valide else 'invalide'))"
   ]
  },
  {
   "cell_type": "markdown",
   "metadata": {},
   "source": [
    "<h2>13.1.8-  Mises en pratique 2 </h2>\n",
    "\n",
    "<h3>a: Lecture d'un fichier de commentaires:</h3>"
   ]
  },
  {
   "cell_type": "code",
   "execution_count": 98,
   "metadata": {},
   "outputs": [
    {
     "data": {
      "text/plain": [
       "[['Title', 'Score', 'Time', 'Gold', 'NumComs'],\n",
       " ['What\\'s your internet \"white whale\", something you\\'ve been searching for years to find with no luck?',\n",
       "  '11510',\n",
       "  '1433213314.0',\n",
       "  '1',\n",
       "  '26195']]"
      ]
     },
     "execution_count": 98,
     "metadata": {},
     "output_type": "execute_result"
    }
   ],
   "source": [
    "import csv\n",
    "f = open(\"askreddit-2015.csv\", encoding='utf-8')\n",
    "csvreader=csv.reader(f)\n",
    "posts=list(csvreader)\n",
    "posts[0:2]"
   ]
  },
  {
   "cell_type": "code",
   "execution_count": 94,
   "metadata": {},
   "outputs": [],
   "source": [
    "posts = posts[1:] # pour retirer l'entête"
   ]
  },
  {
   "cell_type": "code",
   "execution_count": 95,
   "metadata": {},
   "outputs": [
    {
     "name": "stdout",
     "output_type": "stream",
     "text": [
      "['What\\'s your internet \"white whale\", something you\\'ve been searching for years to find with no luck?', '11510', '1433213314.0', '1', '26195']\n",
      "[\"What's your favorite video that is 10 seconds or less?\", '8656', '1434205517.0', '4', '8479']\n",
      "['What are some interesting tests you can take to find out about yourself?', '8480', '1443409636.0', '1', '4055']\n",
      "[\"PhD's of Reddit. What is a dumbed down summary of your thesis?\", '7927', '1440188623.0', '0', '13201']\n",
      "['What is cool to be good at, yet uncool to be REALLY good at?', '7711', '1440082910.0', '0', '20325']\n",
      "['[Serious] Redditors currently in a relationship, besides dinner and a movie, what are your favorite activities for date night?', '7598', '1439993280.0', '2', '5389']\n",
      "[\"Parents of Reddit, what's something that your kid has done that you pretended to be angry about but secretly impressed or amused you?\", '7553', '1439161809.0', '0', '11520']\n",
      "['What is a good subreddit to binge read the All Time Top Posts of?', '7498', '1438822288.0', '0', '2780']\n",
      "['What would the person who named Walkie Talkies have named other items?', '7501', '1447904351.0', '4', '6720']\n",
      "[\"People who grew up in a different socioeconomic class as your significant others, what are the notable differences you've noticed and how does it affect your relationship (if at all)?\", '7419', '1440358069.0', '0', '8603']\n"
     ]
    }
   ],
   "source": [
    "for post in posts[:10]:\n",
    "    print(post)"
   ]
  },
  {
   "cell_type": "markdown",
   "metadata": {},
   "source": [
    "<h3>b: Compter les correspondances:</h3>\n"
   ]
  },
  {
   "cell_type": "markdown",
   "metadata": {
    "collapsed": true
   },
   "source": [
    "Dans notre dataset, on va compter le nombre de fois que l'on trouve cette expression: \"of Reddit\"."
   ]
  },
  {
   "cell_type": "code",
   "execution_count": 99,
   "metadata": {},
   "outputs": [
    {
     "name": "stdout",
     "output_type": "stream",
     "text": [
      "76\n"
     ]
    }
   ],
   "source": [
    "import re \n",
    "\n",
    "regex = \"of Reddit\"\n",
    "of_reddit_count=0\n",
    "for post in posts:\n",
    "    if re.search(regex,post[0]) is not None:\n",
    "        of_reddit_count +=1 \n",
    "        \n",
    "print(of_reddit_count)"
   ]
  },
  {
   "cell_type": "markdown",
   "metadata": {},
   "source": [
    "<h3>c: Lettres minuscules et majuscules:</h3>"
   ]
  },
  {
   "cell_type": "markdown",
   "metadata": {
    "collapsed": true
   },
   "source": [
    "Les crochets permettent de matcher à la fois avec les lettres minuscules et les majuscules"
   ]
  },
  {
   "cell_type": "markdown",
   "metadata": {},
   "source": [
    "Donc si on veut aller chercher toutes les occurences de 'of reddit' et 'of Reddit'dans notre exemple précédent: "
   ]
  },
  {
   "cell_type": "code",
   "execution_count": 101,
   "metadata": {},
   "outputs": [
    {
     "name": "stdout",
     "output_type": "stream",
     "text": [
      "102\n"
     ]
    }
   ],
   "source": [
    "import re \n",
    "\n",
    "regex = \"of [Rr]eddit\"\n",
    "of_reddit_count=0\n",
    "for post in posts:\n",
    "    if re.search(regex,post[0]) is not None:\n",
    "        of_reddit_count +=1 \n",
    "        \n",
    "print(of_reddit_count)"
   ]
  },
  {
   "cell_type": "markdown",
   "metadata": {
    "collapsed": true
   },
   "source": [
    "<h3>d: Ignorer les caractères spéciaux:</h3>"
   ]
  },
  {
   "cell_type": "code",
   "execution_count": 103,
   "metadata": {},
   "outputs": [],
   "source": [
    "#[Serious]\n",
    "regex=\"[Serious]\"\n",
    "regex = \"\\.$\" # pour avoir que les fins de phrases\n"
   ]
  },
  {
   "cell_type": "code",
   "execution_count": 104,
   "metadata": {},
   "outputs": [
    {
     "name": "stdout",
     "output_type": "stream",
     "text": [
      "69\n"
     ]
    }
   ],
   "source": [
    "import re\n",
    "\n",
    "# utilisation de \\ pour ignorer les '[' (crochets) dans notre regex  \n",
    "regex = \"\\[Serious\\]\"\n",
    "serious_count=0\n",
    "for post in posts:\n",
    "    if re.search(regex,post[0]) is not None:\n",
    "        serious_count +=1 \n",
    "print(serious_count)"
   ]
  },
  {
   "cell_type": "markdown",
   "metadata": {},
   "source": [
    "<h3>e: Améliorer notre regexx:</h3>\n",
    "\n",
    "Dans notre fichierm on doit aller chercher les tags avec les expressions: \n",
    "- (Serious) , (serious), [Serious], [serious]"
   ]
  },
  {
   "cell_type": "code",
   "execution_count": 106,
   "metadata": {},
   "outputs": [
    {
     "name": "stdout",
     "output_type": "stream",
     "text": [
      "80\n"
     ]
    }
   ],
   "source": [
    "import re\n",
    "serious_count=0\n",
    "for post in posts:\n",
    "    if re.search(\"[\\[\\(][Ss]erious[\\]\\)]\",post[0]) is not None:\n",
    "        serious_count +=1        \n",
    "print(serious_count)"
   ]
  },
  {
   "cell_type": "code",
   "execution_count": 107,
   "metadata": {},
   "outputs": [
    {
     "name": "stdout",
     "output_type": "stream",
     "text": [
      "80\n"
     ]
    }
   ],
   "source": [
    "import re\n",
    "serious_count=0\n",
    "for post in posts:\n",
    "    if re.search(\"\\([Ss]erious\\)\",post[0]) is not None:\n",
    "        serious_count +=1\n",
    "    if re.search(\"\\[[Ss]erious\\]\",post[0]) is not None:\n",
    "        serious_count +=1\n",
    "print(serious_count)"
   ]
  },
  {
   "cell_type": "markdown",
   "metadata": {},
   "source": [
    "<h3>f: Combiner plusieurs regex:</h3>"
   ]
  },
  {
   "cell_type": "code",
   "execution_count": 108,
   "metadata": {},
   "outputs": [
    {
     "name": "stdout",
     "output_type": "stream",
     "text": [
      "69\n",
      "11\n",
      "73\n"
     ]
    }
   ],
   "source": [
    "import re\n",
    "\n",
    "serious_start_count = 0\n",
    "serious_end_count = 0\n",
    "serious_count_final = 0\n",
    "\n",
    "for row in posts:\n",
    "    if re.search(\"^[\\(\\[][Ss]erious[\\)\\]]\",row[0]) is not None:  # pour les tags serious au début\n",
    "        serious_start_count += 1\n",
    "    if re.search(\"[\\(\\[][Ss]erious[\\)\\]]$\",row[0]) is not None: # pour les tags serious à la fin\n",
    "        serious_end_count += 1 \n",
    "    if re.search(\"^[\\(\\[][Ss]erious[\\)\\]] | [\\(\\[][Ss]erious[\\)\\]]$\",row[0]) is not None:   # pour les tags serious pour les deux\n",
    "        serious_count_final  += 1 \n",
    "print(serious_start_count)\n",
    "print(serious_end_count)\n",
    "print(serious_count_final)"
   ]
  },
  {
   "cell_type": "markdown",
   "metadata": {},
   "source": [
    "<h3>f: modifications des chaînes dans notre regex:</h3>"
   ]
  },
  {
   "cell_type": "code",
   "execution_count": 109,
   "metadata": {},
   "outputs": [],
   "source": [
    "import re \n",
    "\n",
    "posts_new = []\n",
    "\n",
    "for post in posts:\n",
    "    post[0] = re.sub(\"[\\[\\(][Ss]erious[\\]\\)]\",\"[Serious]\" , post[0])\n",
    "    posts_new.append(post)"
   ]
  },
  {
   "cell_type": "code",
   "execution_count": 110,
   "metadata": {},
   "outputs": [
    {
     "name": "stdout",
     "output_type": "stream",
     "text": [
      "[['Title', 'Score', 'Time', 'Gold', 'NumComs'], ['What\\'s your internet \"white whale\", something you\\'ve been searching for years to find with no luck?', '11510', '1433213314.0', '1', '26195'], [\"What's your favorite video that is 10 seconds or less?\", '8656', '1434205517.0', '4', '8479'], ['What are some interesting tests you can take to find out about yourself?', '8480', '1443409636.0', '1', '4055'], [\"PhD's of Reddit. What is a dumbed down summary of your thesis?\", '7927', '1440188623.0', '0', '13201'], ['What is cool to be good at, yet uncool to be REALLY good at?', '7711', '1440082910.0', '0', '20325'], ['[Serious] Redditors currently in a relationship, besides dinner and a movie, what are your favorite activities for date night?', '7598', '1439993280.0', '2', '5389'], [\"Parents of Reddit, what's something that your kid has done that you pretended to be angry about but secretly impressed or amused you?\", '7553', '1439161809.0', '0', '11520'], ['What is a good subreddit to binge read the All Time Top Posts of?', '7498', '1438822288.0', '0', '2780'], ['What would the person who named Walkie Talkies have named other items?', '7501', '1447904351.0', '4', '6720']]\n"
     ]
    }
   ],
   "source": [
    "print(posts_new[0:10])"
   ]
  },
  {
   "cell_type": "markdown",
   "metadata": {},
   "source": [
    "<h3>g: Trouver les années avec 4 chiffres dans notre document:</h3>"
   ]
  },
  {
   "cell_type": "markdown",
   "metadata": {
    "collapsed": true
   },
   "source": [
    "-  [0-9] rechercher les chiffres en 0 et 9 \n",
    "-  [a-z] [A-Z] rechercher les lettres entre a et z et entre A et Z\n",
    "\n",
    "-  [1-2][0-9][0-9][0-9] pour rechercher les années\n",
    "-  [1-2][0-9]{3} : accolades pour faire des répétitions "
   ]
  },
  {
   "cell_type": "code",
   "execution_count": 127,
   "metadata": {},
   "outputs": [
    {
     "data": {
      "text/plain": [
       "['2000',\n",
       " '1990',\n",
       " '2015',\n",
       " '2014',\n",
       " '1000',\n",
       " '1500',\n",
       " '2015',\n",
       " '2016',\n",
       " '1000',\n",
       " '2016',\n",
       " '2115',\n",
       " '1000',\n",
       " '2015',\n",
       " '2014',\n",
       " '1000',\n",
       " '2001']"
      ]
     },
     "execution_count": 127,
     "metadata": {},
     "output_type": "execute_result"
    }
   ],
   "source": [
    "year_strings = []\n",
    "\n",
    "for row in posts: \n",
    "    a = re.search(\"[1-2][0-9]{3}\",row[0])\n",
    "    if a  is not None:\n",
    "        year_strings.append(a.group())       \n",
    "year_strings"
   ]
  },
  {
   "cell_type": "markdown",
   "metadata": {},
   "source": [
    "<h3>h: Extraire toutes les années de notre document:</h3>\n",
    "\n",
    "- on peut utiliser la fonction findall() du module re()"
   ]
  },
  {
   "cell_type": "code",
   "execution_count": 125,
   "metadata": {},
   "outputs": [
    {
     "data": {
      "text/plain": [
       "['a', 'b', 'c']"
      ]
     },
     "execution_count": 125,
     "metadata": {},
     "output_type": "execute_result"
    }
   ],
   "source": [
    "# findall()\n",
    "re.findall(\"[a-z]\",\"abc123\")"
   ]
  },
  {
   "cell_type": "code",
   "execution_count": 126,
   "metadata": {},
   "outputs": [
    {
     "name": "stdout",
     "output_type": "stream",
     "text": [
      "['2017', '2016', '2018']\n"
     ]
    }
   ],
   "source": [
    "year_strings='On est déjà en 2017, une année de plus que 2016 et de moins que 2018'\n",
    "years=re.findall(\"[1-2][0-9]{3}\",year_strings)\n",
    "print(years)"
   ]
  },
  {
   "cell_type": "code",
   "execution_count": null,
   "metadata": {
    "collapsed": true
   },
   "outputs": [],
   "source": []
  }
 ],
 "metadata": {
  "kernelspec": {
   "display_name": "Python 3",
   "language": "python",
   "name": "python3"
  },
  "language_info": {
   "codemirror_mode": {
    "name": "ipython",
    "version": 3
   },
   "file_extension": ".py",
   "mimetype": "text/x-python",
   "name": "python",
   "nbconvert_exporter": "python",
   "pygments_lexer": "ipython3",
   "version": "3.7.3"
  }
 },
 "nbformat": 4,
 "nbformat_minor": 2
}
