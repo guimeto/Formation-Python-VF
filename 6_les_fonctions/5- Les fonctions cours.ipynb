{
 "cells": [
  {
   "cell_type": "markdown",
   "metadata": {
    "collapsed": true
   },
   "source": [
    "<img src=\"./figures/pylogo.png\" alt=\"Indentation\" width=\"50%\" height=\"50%\">\n",
    "\n",
    "\n",
    "<h1> 5.1- Les librairies:</h1> \n",
    "\n",
    "<h1>Objectifs</h1>\n",
    "\n",
    "- Comprendre ce qu'est une librairie\n",
    "- importer une librairie\n",
    "- Importer un module précis d'une librairie\n",
    "- utiliser les alias\n",
    "- utiliser la librairie math\n",
    "- installer, mettre à jour et vérifier la config d'une librairie avec PIP\n",
    "\n",
    "\n",
    "\n",
    "<h2> 5.1.1-  Les bibliothèques Python: </h2>\n",
    "\n",
    "\n",
    "Pour faciliter le traitement, la manipulation et la visualisation des données, Python possède de nombreuses librairies.\n",
    "\n",
    "Les bibliothèques de Python permettent d'importer des codes et fonctions qui faciliteront nos analyses. \n",
    "\n",
    "Voici les bibliothèques les plus populaires:\n",
    "\n",
    "- numpy, math: mathématique ou calculs scientifiques : http://www.numpy.org/ \n",
    "- pandas: manipulations de données: http://pandas.pydata.org/ \n",
    "- matplotlib, seaborn, Plotly: visualisation des données: https://matplotlib.org/ \n",
    "- scikit-learn: machine learning: https://scikit-learn.org\n",
    "- Datetime: formatage de dates:https://docs.python.org/2/library/datetime.html\n",
    "- Keras, Tensorflow: deep learning\n",
    "\n",
    "Pour importer une librairie sous Python, on utilise la fonction : <b>import</b> + nom_bibliothèque\n",
    "\n"
   ]
  },
  {
   "cell_type": "code",
   "execution_count": 14,
   "metadata": {},
   "outputs": [],
   "source": [
    "liste_1=[1,2,3,4,5,6,7,8,9,10]"
   ]
  },
  {
   "cell_type": "code",
   "execution_count": 15,
   "metadata": {},
   "outputs": [
    {
     "data": {
      "text/plain": [
       "[1, 2, 3, 4, 5, 6, 7, 8, 9, 10]"
      ]
     },
     "execution_count": 15,
     "metadata": {},
     "output_type": "execute_result"
    }
   ],
   "source": [
    "liste_1"
   ]
  },
  {
   "cell_type": "markdown",
   "metadata": {},
   "source": [
    "Nous allons importer la librairie mathématie Numpy:"
   ]
  },
  {
   "cell_type": "code",
   "execution_count": 3,
   "metadata": {},
   "outputs": [],
   "source": [
    "import numpy"
   ]
  },
  {
   "cell_type": "markdown",
   "metadata": {},
   "source": [
    "En dehors des tutoriels en ligne, chaque librairie importé sous python possède une aide. \n",
    "\n",
    "Pour savoir ce que contient une librairie, on utilise la fonction: dir()\n",
    " \n",
    "        - Exemple: dir(numpy)    \n",
    "        "
   ]
  },
  {
   "cell_type": "code",
   "execution_count": 5,
   "metadata": {
    "collapsed": true
   },
   "outputs": [
    {
     "data": {
      "text/plain": [
       "['ALLOW_THREADS',\n",
       " 'AxisError',\n",
       " 'BUFSIZE',\n",
       " 'CLIP',\n",
       " 'ComplexWarning',\n",
       " 'DataSource',\n",
       " 'ERR_CALL',\n",
       " 'ERR_DEFAULT',\n",
       " 'ERR_IGNORE',\n",
       " 'ERR_LOG',\n",
       " 'ERR_PRINT',\n",
       " 'ERR_RAISE',\n",
       " 'ERR_WARN',\n",
       " 'FLOATING_POINT_SUPPORT',\n",
       " 'FPE_DIVIDEBYZERO',\n",
       " 'FPE_INVALID',\n",
       " 'FPE_OVERFLOW',\n",
       " 'FPE_UNDERFLOW',\n",
       " 'False_',\n",
       " 'Inf',\n",
       " 'Infinity',\n",
       " 'MAXDIMS',\n",
       " 'MAY_SHARE_BOUNDS',\n",
       " 'MAY_SHARE_EXACT',\n",
       " 'MachAr',\n",
       " 'ModuleDeprecationWarning',\n",
       " 'NAN',\n",
       " 'NINF',\n",
       " 'NZERO',\n",
       " 'NaN',\n",
       " 'PINF',\n",
       " 'PZERO',\n",
       " 'RAISE',\n",
       " 'RankWarning',\n",
       " 'SHIFT_DIVIDEBYZERO',\n",
       " 'SHIFT_INVALID',\n",
       " 'SHIFT_OVERFLOW',\n",
       " 'SHIFT_UNDERFLOW',\n",
       " 'ScalarType',\n",
       " 'Tester',\n",
       " 'TooHardError',\n",
       " 'True_',\n",
       " 'UFUNC_BUFSIZE_DEFAULT',\n",
       " 'UFUNC_PYVALS_NAME',\n",
       " 'VisibleDeprecationWarning',\n",
       " 'WRAP',\n",
       " '_NoValue',\n",
       " '_UFUNC_API',\n",
       " '__NUMPY_SETUP__',\n",
       " '__all__',\n",
       " '__builtins__',\n",
       " '__cached__',\n",
       " '__config__',\n",
       " '__doc__',\n",
       " '__file__',\n",
       " '__git_revision__',\n",
       " '__loader__',\n",
       " '__mkl_version__',\n",
       " '__name__',\n",
       " '__package__',\n",
       " '__path__',\n",
       " '__spec__',\n",
       " '__version__',\n",
       " '_add_newdoc_ufunc',\n",
       " '_arg',\n",
       " '_distributor_init',\n",
       " '_globals',\n",
       " '_mat',\n",
       " '_mklinit',\n",
       " '_pytesttester',\n",
       " 'abs',\n",
       " 'absolute',\n",
       " 'absolute_import',\n",
       " 'add',\n",
       " 'add_docstring',\n",
       " 'add_newdoc',\n",
       " 'add_newdoc_ufunc',\n",
       " 'alen',\n",
       " 'all',\n",
       " 'allclose',\n",
       " 'alltrue',\n",
       " 'amax',\n",
       " 'amin',\n",
       " 'angle',\n",
       " 'any',\n",
       " 'append',\n",
       " 'apply_along_axis',\n",
       " 'apply_over_axes',\n",
       " 'arange',\n",
       " 'arccos',\n",
       " 'arccosh',\n",
       " 'arcsin',\n",
       " 'arcsinh',\n",
       " 'arctan',\n",
       " 'arctan2',\n",
       " 'arctanh',\n",
       " 'argmax',\n",
       " 'argmin',\n",
       " 'argpartition',\n",
       " 'argsort',\n",
       " 'argwhere',\n",
       " 'around',\n",
       " 'array',\n",
       " 'array2string',\n",
       " 'array_equal',\n",
       " 'array_equiv',\n",
       " 'array_repr',\n",
       " 'array_split',\n",
       " 'array_str',\n",
       " 'asanyarray',\n",
       " 'asarray',\n",
       " 'asarray_chkfinite',\n",
       " 'ascontiguousarray',\n",
       " 'asfarray',\n",
       " 'asfortranarray',\n",
       " 'asmatrix',\n",
       " 'asscalar',\n",
       " 'atleast_1d',\n",
       " 'atleast_2d',\n",
       " 'atleast_3d',\n",
       " 'average',\n",
       " 'bartlett',\n",
       " 'base_repr',\n",
       " 'binary_repr',\n",
       " 'bincount',\n",
       " 'bitwise_and',\n",
       " 'bitwise_not',\n",
       " 'bitwise_or',\n",
       " 'bitwise_xor',\n",
       " 'blackman',\n",
       " 'block',\n",
       " 'bmat',\n",
       " 'bool',\n",
       " 'bool8',\n",
       " 'bool_',\n",
       " 'broadcast',\n",
       " 'broadcast_arrays',\n",
       " 'broadcast_to',\n",
       " 'busday_count',\n",
       " 'busday_offset',\n",
       " 'busdaycalendar',\n",
       " 'byte',\n",
       " 'byte_bounds',\n",
       " 'bytes0',\n",
       " 'bytes_',\n",
       " 'c_',\n",
       " 'can_cast',\n",
       " 'cast',\n",
       " 'cbrt',\n",
       " 'cdouble',\n",
       " 'ceil',\n",
       " 'cfloat',\n",
       " 'char',\n",
       " 'character',\n",
       " 'chararray',\n",
       " 'choose',\n",
       " 'clip',\n",
       " 'clongdouble',\n",
       " 'clongfloat',\n",
       " 'column_stack',\n",
       " 'common_type',\n",
       " 'compare_chararrays',\n",
       " 'compat',\n",
       " 'complex',\n",
       " 'complex128',\n",
       " 'complex64',\n",
       " 'complex_',\n",
       " 'complexfloating',\n",
       " 'compress',\n",
       " 'concatenate',\n",
       " 'conj',\n",
       " 'conjugate',\n",
       " 'convolve',\n",
       " 'copy',\n",
       " 'copysign',\n",
       " 'copyto',\n",
       " 'core',\n",
       " 'corrcoef',\n",
       " 'correlate',\n",
       " 'cos',\n",
       " 'cosh',\n",
       " 'count_nonzero',\n",
       " 'cov',\n",
       " 'cross',\n",
       " 'csingle',\n",
       " 'ctypeslib',\n",
       " 'cumprod',\n",
       " 'cumproduct',\n",
       " 'cumsum',\n",
       " 'datetime64',\n",
       " 'datetime_as_string',\n",
       " 'datetime_data',\n",
       " 'deg2rad',\n",
       " 'degrees',\n",
       " 'delete',\n",
       " 'deprecate',\n",
       " 'deprecate_with_doc',\n",
       " 'diag',\n",
       " 'diag_indices',\n",
       " 'diag_indices_from',\n",
       " 'diagflat',\n",
       " 'diagonal',\n",
       " 'diff',\n",
       " 'digitize',\n",
       " 'disp',\n",
       " 'divide',\n",
       " 'division',\n",
       " 'divmod',\n",
       " 'dot',\n",
       " 'double',\n",
       " 'dsplit',\n",
       " 'dstack',\n",
       " 'dtype',\n",
       " 'e',\n",
       " 'ediff1d',\n",
       " 'einsum',\n",
       " 'einsum_path',\n",
       " 'emath',\n",
       " 'empty',\n",
       " 'empty_like',\n",
       " 'equal',\n",
       " 'errstate',\n",
       " 'euler_gamma',\n",
       " 'exp',\n",
       " 'exp2',\n",
       " 'expand_dims',\n",
       " 'expm1',\n",
       " 'extract',\n",
       " 'eye',\n",
       " 'fabs',\n",
       " 'fastCopyAndTranspose',\n",
       " 'fft',\n",
       " 'fill_diagonal',\n",
       " 'find_common_type',\n",
       " 'finfo',\n",
       " 'fix',\n",
       " 'flatiter',\n",
       " 'flatnonzero',\n",
       " 'flexible',\n",
       " 'flip',\n",
       " 'fliplr',\n",
       " 'flipud',\n",
       " 'float',\n",
       " 'float16',\n",
       " 'float32',\n",
       " 'float64',\n",
       " 'float_',\n",
       " 'float_power',\n",
       " 'floating',\n",
       " 'floor',\n",
       " 'floor_divide',\n",
       " 'fmax',\n",
       " 'fmin',\n",
       " 'fmod',\n",
       " 'format_float_positional',\n",
       " 'format_float_scientific',\n",
       " 'format_parser',\n",
       " 'frexp',\n",
       " 'frombuffer',\n",
       " 'fromfile',\n",
       " 'fromfunction',\n",
       " 'fromiter',\n",
       " 'frompyfunc',\n",
       " 'fromregex',\n",
       " 'fromstring',\n",
       " 'full',\n",
       " 'full_like',\n",
       " 'fv',\n",
       " 'gcd',\n",
       " 'generic',\n",
       " 'genfromtxt',\n",
       " 'geomspace',\n",
       " 'get_array_wrap',\n",
       " 'get_include',\n",
       " 'get_printoptions',\n",
       " 'getbufsize',\n",
       " 'geterr',\n",
       " 'geterrcall',\n",
       " 'geterrobj',\n",
       " 'gradient',\n",
       " 'greater',\n",
       " 'greater_equal',\n",
       " 'half',\n",
       " 'hamming',\n",
       " 'hanning',\n",
       " 'heaviside',\n",
       " 'histogram',\n",
       " 'histogram2d',\n",
       " 'histogram_bin_edges',\n",
       " 'histogramdd',\n",
       " 'hsplit',\n",
       " 'hstack',\n",
       " 'hypot',\n",
       " 'i0',\n",
       " 'identity',\n",
       " 'iinfo',\n",
       " 'imag',\n",
       " 'in1d',\n",
       " 'index_exp',\n",
       " 'indices',\n",
       " 'inexact',\n",
       " 'inf',\n",
       " 'info',\n",
       " 'infty',\n",
       " 'inner',\n",
       " 'insert',\n",
       " 'int',\n",
       " 'int0',\n",
       " 'int16',\n",
       " 'int32',\n",
       " 'int64',\n",
       " 'int8',\n",
       " 'int_',\n",
       " 'int_asbuffer',\n",
       " 'intc',\n",
       " 'integer',\n",
       " 'interp',\n",
       " 'intersect1d',\n",
       " 'intp',\n",
       " 'invert',\n",
       " 'ipmt',\n",
       " 'irr',\n",
       " 'is_busday',\n",
       " 'isclose',\n",
       " 'iscomplex',\n",
       " 'iscomplexobj',\n",
       " 'isfinite',\n",
       " 'isfortran',\n",
       " 'isin',\n",
       " 'isinf',\n",
       " 'isnan',\n",
       " 'isnat',\n",
       " 'isneginf',\n",
       " 'isposinf',\n",
       " 'isreal',\n",
       " 'isrealobj',\n",
       " 'isscalar',\n",
       " 'issctype',\n",
       " 'issubclass_',\n",
       " 'issubdtype',\n",
       " 'issubsctype',\n",
       " 'iterable',\n",
       " 'ix_',\n",
       " 'kaiser',\n",
       " 'kron',\n",
       " 'lcm',\n",
       " 'ldexp',\n",
       " 'left_shift',\n",
       " 'less',\n",
       " 'less_equal',\n",
       " 'lexsort',\n",
       " 'lib',\n",
       " 'linalg',\n",
       " 'linspace',\n",
       " 'little_endian',\n",
       " 'load',\n",
       " 'loads',\n",
       " 'loadtxt',\n",
       " 'log',\n",
       " 'log10',\n",
       " 'log1p',\n",
       " 'log2',\n",
       " 'logaddexp',\n",
       " 'logaddexp2',\n",
       " 'logical_and',\n",
       " 'logical_not',\n",
       " 'logical_or',\n",
       " 'logical_xor',\n",
       " 'logspace',\n",
       " 'long',\n",
       " 'longcomplex',\n",
       " 'longdouble',\n",
       " 'longfloat',\n",
       " 'longlong',\n",
       " 'lookfor',\n",
       " 'ma',\n",
       " 'mafromtxt',\n",
       " 'mask_indices',\n",
       " 'mat',\n",
       " 'math',\n",
       " 'matmul',\n",
       " 'matrix',\n",
       " 'matrixlib',\n",
       " 'max',\n",
       " 'maximum',\n",
       " 'maximum_sctype',\n",
       " 'may_share_memory',\n",
       " 'mean',\n",
       " 'median',\n",
       " 'memmap',\n",
       " 'meshgrid',\n",
       " 'mgrid',\n",
       " 'min',\n",
       " 'min_scalar_type',\n",
       " 'minimum',\n",
       " 'mintypecode',\n",
       " 'mirr',\n",
       " 'mod',\n",
       " 'modf',\n",
       " 'moveaxis',\n",
       " 'msort',\n",
       " 'multiply',\n",
       " 'nan',\n",
       " 'nan_to_num',\n",
       " 'nanargmax',\n",
       " 'nanargmin',\n",
       " 'nancumprod',\n",
       " 'nancumsum',\n",
       " 'nanmax',\n",
       " 'nanmean',\n",
       " 'nanmedian',\n",
       " 'nanmin',\n",
       " 'nanpercentile',\n",
       " 'nanprod',\n",
       " 'nanquantile',\n",
       " 'nanstd',\n",
       " 'nansum',\n",
       " 'nanvar',\n",
       " 'nbytes',\n",
       " 'ndarray',\n",
       " 'ndenumerate',\n",
       " 'ndfromtxt',\n",
       " 'ndim',\n",
       " 'ndindex',\n",
       " 'nditer',\n",
       " 'negative',\n",
       " 'nested_iters',\n",
       " 'newaxis',\n",
       " 'nextafter',\n",
       " 'nonzero',\n",
       " 'not_equal',\n",
       " 'nper',\n",
       " 'npv',\n",
       " 'numarray',\n",
       " 'number',\n",
       " 'obj2sctype',\n",
       " 'object',\n",
       " 'object0',\n",
       " 'object_',\n",
       " 'ogrid',\n",
       " 'oldnumeric',\n",
       " 'ones',\n",
       " 'ones_like',\n",
       " 'outer',\n",
       " 'packbits',\n",
       " 'pad',\n",
       " 'partition',\n",
       " 'percentile',\n",
       " 'pi',\n",
       " 'piecewise',\n",
       " 'place',\n",
       " 'pmt',\n",
       " 'poly',\n",
       " 'poly1d',\n",
       " 'polyadd',\n",
       " 'polyder',\n",
       " 'polydiv',\n",
       " 'polyfit',\n",
       " 'polyint',\n",
       " 'polymul',\n",
       " 'polynomial',\n",
       " 'polysub',\n",
       " 'polyval',\n",
       " 'positive',\n",
       " 'power',\n",
       " 'ppmt',\n",
       " 'print_function',\n",
       " 'printoptions',\n",
       " 'prod',\n",
       " 'product',\n",
       " 'promote_types',\n",
       " 'ptp',\n",
       " 'put',\n",
       " 'put_along_axis',\n",
       " 'putmask',\n",
       " 'pv',\n",
       " 'quantile',\n",
       " 'r_',\n",
       " 'rad2deg',\n",
       " 'radians',\n",
       " 'random',\n",
       " 'rank',\n",
       " 'rate',\n",
       " 'ravel',\n",
       " 'ravel_multi_index',\n",
       " 'real',\n",
       " 'real_if_close',\n",
       " 'rec',\n",
       " 'recarray',\n",
       " 'recfromcsv',\n",
       " 'recfromtxt',\n",
       " 'reciprocal',\n",
       " 'record',\n",
       " 'remainder',\n",
       " 'repeat',\n",
       " 'require',\n",
       " 'reshape',\n",
       " 'resize',\n",
       " 'result_type',\n",
       " 'right_shift',\n",
       " 'rint',\n",
       " 'roll',\n",
       " 'rollaxis',\n",
       " 'roots',\n",
       " 'rot90',\n",
       " 'round',\n",
       " 'round_',\n",
       " 'row_stack',\n",
       " 's_',\n",
       " 'safe_eval',\n",
       " 'save',\n",
       " 'savetxt',\n",
       " 'savez',\n",
       " 'savez_compressed',\n",
       " 'sctype2char',\n",
       " 'sctypeDict',\n",
       " 'sctypeNA',\n",
       " 'sctypes',\n",
       " 'searchsorted',\n",
       " 'select',\n",
       " 'set_numeric_ops',\n",
       " 'set_printoptions',\n",
       " 'set_string_function',\n",
       " 'setbufsize',\n",
       " 'setdiff1d',\n",
       " 'seterr',\n",
       " 'seterrcall',\n",
       " 'seterrobj',\n",
       " 'setxor1d',\n",
       " 'shape',\n",
       " 'shares_memory',\n",
       " 'short',\n",
       " 'show_config',\n",
       " 'sign',\n",
       " 'signbit',\n",
       " 'signedinteger',\n",
       " 'sin',\n",
       " 'sinc',\n",
       " 'single',\n",
       " 'singlecomplex',\n",
       " 'sinh',\n",
       " 'size',\n",
       " 'sometrue',\n",
       " 'sort',\n",
       " 'sort_complex',\n",
       " 'source',\n",
       " 'spacing',\n",
       " 'split',\n",
       " 'sqrt',\n",
       " 'square',\n",
       " 'squeeze',\n",
       " 'stack',\n",
       " 'std',\n",
       " 'str',\n",
       " 'str0',\n",
       " 'str_',\n",
       " 'string_',\n",
       " 'subtract',\n",
       " 'sum',\n",
       " 'swapaxes',\n",
       " 'sys',\n",
       " 'take',\n",
       " 'take_along_axis',\n",
       " 'tan',\n",
       " 'tanh',\n",
       " 'tensordot',\n",
       " 'test',\n",
       " 'testing',\n",
       " 'tile',\n",
       " 'timedelta64',\n",
       " 'trace',\n",
       " 'tracemalloc_domain',\n",
       " 'transpose',\n",
       " 'trapz',\n",
       " 'tri',\n",
       " 'tril',\n",
       " 'tril_indices',\n",
       " 'tril_indices_from',\n",
       " 'trim_zeros',\n",
       " 'triu',\n",
       " 'triu_indices',\n",
       " 'triu_indices_from',\n",
       " 'true_divide',\n",
       " 'trunc',\n",
       " 'typeDict',\n",
       " 'typeNA',\n",
       " 'typecodes',\n",
       " 'typename',\n",
       " 'ubyte',\n",
       " 'ufunc',\n",
       " 'uint',\n",
       " 'uint0',\n",
       " 'uint16',\n",
       " 'uint32',\n",
       " 'uint64',\n",
       " 'uint8',\n",
       " 'uintc',\n",
       " 'uintp',\n",
       " 'ulonglong',\n",
       " 'unicode',\n",
       " 'unicode_',\n",
       " 'union1d',\n",
       " 'unique',\n",
       " 'unpackbits',\n",
       " 'unravel_index',\n",
       " 'unsignedinteger',\n",
       " 'unwrap',\n",
       " 'ushort',\n",
       " 'vander',\n",
       " 'var',\n",
       " 'vdot',\n",
       " 'vectorize',\n",
       " 'version',\n",
       " 'void',\n",
       " 'void0',\n",
       " 'vsplit',\n",
       " 'vstack',\n",
       " 'warnings',\n",
       " 'where',\n",
       " 'who',\n",
       " 'zeros',\n",
       " 'zeros_like']"
      ]
     },
     "execution_count": 5,
     "metadata": {},
     "output_type": "execute_result"
    }
   ],
   "source": [
    "dir(numpy)   "
   ]
  },
  {
   "cell_type": "markdown",
   "metadata": {},
   "source": [
    "Une fois une fonction ciblée, La fonction <b>help()</b> permet d'obtenir une aide sur une fonction de la librairie\n",
    "\n",
    "        - Exemple: help(numpy.mean)"
   ]
  },
  {
   "cell_type": "code",
   "execution_count": 6,
   "metadata": {
    "collapsed": true
   },
   "outputs": [
    {
     "name": "stdout",
     "output_type": "stream",
     "text": [
      "Help on function mean in module numpy:\n",
      "\n",
      "mean(a, axis=None, dtype=None, out=None, keepdims=<no value>)\n",
      "    Compute the arithmetic mean along the specified axis.\n",
      "    \n",
      "    Returns the average of the array elements.  The average is taken over\n",
      "    the flattened array by default, otherwise over the specified axis.\n",
      "    `float64` intermediate and return values are used for integer inputs.\n",
      "    \n",
      "    Parameters\n",
      "    ----------\n",
      "    a : array_like\n",
      "        Array containing numbers whose mean is desired. If `a` is not an\n",
      "        array, a conversion is attempted.\n",
      "    axis : None or int or tuple of ints, optional\n",
      "        Axis or axes along which the means are computed. The default is to\n",
      "        compute the mean of the flattened array.\n",
      "    \n",
      "        .. versionadded:: 1.7.0\n",
      "    \n",
      "        If this is a tuple of ints, a mean is performed over multiple axes,\n",
      "        instead of a single axis or all the axes as before.\n",
      "    dtype : data-type, optional\n",
      "        Type to use in computing the mean.  For integer inputs, the default\n",
      "        is `float64`; for floating point inputs, it is the same as the\n",
      "        input dtype.\n",
      "    out : ndarray, optional\n",
      "        Alternate output array in which to place the result.  The default\n",
      "        is ``None``; if provided, it must have the same shape as the\n",
      "        expected output, but the type will be cast if necessary.\n",
      "        See `doc.ufuncs` for details.\n",
      "    \n",
      "    keepdims : bool, optional\n",
      "        If this is set to True, the axes which are reduced are left\n",
      "        in the result as dimensions with size one. With this option,\n",
      "        the result will broadcast correctly against the input array.\n",
      "    \n",
      "        If the default value is passed, then `keepdims` will not be\n",
      "        passed through to the `mean` method of sub-classes of\n",
      "        `ndarray`, however any non-default value will be.  If the\n",
      "        sub-class' method does not implement `keepdims` any\n",
      "        exceptions will be raised.\n",
      "    \n",
      "    Returns\n",
      "    -------\n",
      "    m : ndarray, see dtype parameter above\n",
      "        If `out=None`, returns a new array containing the mean values,\n",
      "        otherwise a reference to the output array is returned.\n",
      "    \n",
      "    See Also\n",
      "    --------\n",
      "    average : Weighted average\n",
      "    std, var, nanmean, nanstd, nanvar\n",
      "    \n",
      "    Notes\n",
      "    -----\n",
      "    The arithmetic mean is the sum of the elements along the axis divided\n",
      "    by the number of elements.\n",
      "    \n",
      "    Note that for floating-point input, the mean is computed using the\n",
      "    same precision the input has.  Depending on the input data, this can\n",
      "    cause the results to be inaccurate, especially for `float32` (see\n",
      "    example below).  Specifying a higher-precision accumulator using the\n",
      "    `dtype` keyword can alleviate this issue.\n",
      "    \n",
      "    By default, `float16` results are computed using `float32` intermediates\n",
      "    for extra precision.\n",
      "    \n",
      "    Examples\n",
      "    --------\n",
      "    >>> a = np.array([[1, 2], [3, 4]])\n",
      "    >>> np.mean(a)\n",
      "    2.5\n",
      "    >>> np.mean(a, axis=0)\n",
      "    array([ 2.,  3.])\n",
      "    >>> np.mean(a, axis=1)\n",
      "    array([ 1.5,  3.5])\n",
      "    \n",
      "    In single precision, `mean` can be inaccurate:\n",
      "    \n",
      "    >>> a = np.zeros((2, 512*512), dtype=np.float32)\n",
      "    >>> a[0, :] = 1.0\n",
      "    >>> a[1, :] = 0.1\n",
      "    >>> np.mean(a)\n",
      "    0.54999924\n",
      "    \n",
      "    Computing the mean in float64 is more accurate:\n",
      "    \n",
      "    >>> np.mean(a, dtype=np.float64)\n",
      "    0.55000000074505806\n",
      "\n"
     ]
    }
   ],
   "source": [
    "help(numpy.mean)    # pour obtenir une aide sur une fonction d'une librairie         \n",
    "# on peut distinguer les arguments optionnels et obligatoires"
   ]
  },
  {
   "cell_type": "code",
   "execution_count": 7,
   "metadata": {},
   "outputs": [
    {
     "data": {
      "text/plain": [
       "5.5"
      ]
     },
     "execution_count": 7,
     "metadata": {},
     "output_type": "execute_result"
    }
   ],
   "source": [
    "numpy.mean(liste_1)  # nom de la biliothèque + nom de la fonction pour appeller la fonction "
   ]
  },
  {
   "cell_type": "code",
   "execution_count": 8,
   "metadata": {},
   "outputs": [
    {
     "data": {
      "text/plain": [
       "10"
      ]
     },
     "execution_count": 8,
     "metadata": {},
     "output_type": "execute_result"
    }
   ],
   "source": [
    "numpy.max(liste_1)"
   ]
  },
  {
   "cell_type": "code",
   "execution_count": 9,
   "metadata": {},
   "outputs": [
    {
     "data": {
      "text/plain": [
       "5.0"
      ]
     },
     "execution_count": 9,
     "metadata": {},
     "output_type": "execute_result"
    }
   ],
   "source": [
    "from math import sqrt \n",
    "sqrt(25)"
   ]
  },
  {
   "cell_type": "code",
   "execution_count": 10,
   "metadata": {},
   "outputs": [
    {
     "data": {
      "text/plain": [
       "3.141592653589793"
      ]
     },
     "execution_count": 10,
     "metadata": {},
     "output_type": "execute_result"
    }
   ],
   "source": [
    "from math import pi as p\n",
    "p"
   ]
  },
  {
   "cell_type": "markdown",
   "metadata": {},
   "source": [
    "<h2> 5.1.2-  La librairie PIP: </h2>\n",
    "    \n",
    "PiP est un gestionnaire de librairie très important à connaitre. il permet l'installation, la desinstallation, le check et la mise à jours de vos librairies"
   ]
  },
  {
   "cell_type": "code",
   "execution_count": 11,
   "metadata": {
    "collapsed": true
   },
   "outputs": [
    {
     "name": "stdout",
     "output_type": "stream",
     "text": [
      "Package                            Version    \n",
      "---------------------------------- -----------\n",
      "affine                             2.3.0      \n",
      "alabaster                          0.7.12     \n",
      "anaconda-client                    1.7.2      \n",
      "anaconda-navigator                 1.9.12     \n",
      "anaconda-project                   0.8.2      \n",
      "asn1crypto                         0.24.0     \n",
      "astroid                            2.2.5      \n",
      "astropy                            3.1.2      \n",
      "atomicwrites                       1.3.0      \n",
      "attrs                              19.1.0     \n",
      "Babel                              2.6.0      \n",
      "backcall                           0.1.0      \n",
      "backports.os                       0.1.1      \n",
      "backports.shutil-get-terminal-size 1.0.0      \n",
      "beautifulsoup4                     4.7.1      \n",
      "bitarray                           0.8.3      \n",
      "bkcharts                           0.2        \n",
      "bleach                             3.1.0      \n",
      "bokeh                              1.0.4      \n",
      "boto                               2.49.0     \n",
      "Bottleneck                         1.2.1      \n",
      "Cartopy                            0.17.0     \n",
      "cdo                                1.5.2      \n",
      "cdsapi                             0.2.5      \n",
      "cdstoolbox-remote                  0.0.1      \n",
      "certifi                            2019.3.9   \n",
      "cffi                               1.12.2     \n",
      "cftime                             1.0.4.2    \n",
      "chardet                            3.0.4      \n",
      "chart-studio                       1.0.0      \n",
      "chroma-py                          0.1.0.dev1 \n",
      "Click                              7.0        \n",
      "click-plugins                      1.1.1      \n",
      "cligj                              0.5.0      \n",
      "cloudpickle                        0.8.0      \n",
      "clyent                             1.2.2      \n",
      "colorama                           0.4.1      \n",
      "colour                             0.1.5      \n",
      "comtypes                           1.1.7      \n",
      "conda                              4.8.2      \n",
      "conda-build                        3.17.8     \n",
      "conda-package-handling             1.6.0      \n",
      "conda-verify                       3.1.1      \n",
      "configobj                          5.0.6      \n",
      "contextlib2                        0.5.5      \n",
      "cryptography                       2.6.1      \n",
      "cycler                             0.10.0     \n",
      "Cython                             0.29.6     \n",
      "cytoolz                            0.9.0.1    \n",
      "dask                               1.1.4      \n",
      "decorator                          4.4.0      \n",
      "defusedxml                         0.5.0      \n",
      "descartes                          1.1.0      \n",
      "distributed                        1.26.0     \n",
      "docutils                           0.14       \n",
      "entrypoints                        0.3        \n",
      "epiweeks                           2.1.1      \n",
      "et-xmlfile                         1.0.1      \n",
      "fastcache                          1.0.2      \n",
      "filelock                           3.0.10     \n",
      "Fiona                              1.8.4      \n",
      "Flask                              1.0.2      \n",
      "future                             0.18.2     \n",
      "GDAL                               2.3.3      \n",
      "geographiclib                      1.50       \n",
      "geojson                            2.5.0      \n",
      "geopandas                          0.5.1      \n",
      "geopy                              1.21.0     \n",
      "gevent                             1.4.0      \n",
      "glob2                              0.6        \n",
      "greenlet                           0.4.15     \n",
      "h5py                               2.9.0      \n",
      "heapdict                           1.0.0      \n",
      "html5lib                           1.0.1      \n",
      "idna                               2.8        \n",
      "imageio                            2.5.0      \n",
      "imagesize                          1.1.0      \n",
      "importlib-metadata                 0.0.0      \n",
      "ipykernel                          5.1.0      \n",
      "ipython                            7.4.0      \n",
      "ipython-genutils                   0.2.0      \n",
      "ipywidgets                         7.4.2      \n",
      "isort                              4.3.16     \n",
      "itsdangerous                       1.1.0      \n",
      "jdcal                              1.4        \n",
      "jedi                               0.13.3     \n",
      "Jinja2                             2.10       \n",
      "jsonschema                         3.0.1      \n",
      "jupyter                            1.0.0      \n",
      "jupyter-client                     5.2.4      \n",
      "jupyter-console                    6.0.0      \n",
      "jupyter-core                       4.4.0      \n",
      "jupyterlab                         0.35.4     \n",
      "jupyterlab-server                  0.2.0      \n",
      "keyring                            18.0.0     \n",
      "kiwisolver                         1.0.1      \n",
      "lazy-object-proxy                  1.3.1      \n",
      "libarchive-c                       2.8        \n",
      "llvmlite                           0.28.0     \n",
      "locket                             0.2.0      \n",
      "lxml                               4.3.2      \n",
      "mapboxgl                           0.10.2     \n",
      "MarkupSafe                         1.1.1      \n",
      "matplotlib                         3.0.3      \n",
      "mccabe                             0.6.1      \n",
      "memory-profiler                    0.56.0     \n",
      "menuinst                           1.4.16     \n",
      "MetPy                              0.10.0     \n",
      "mistune                            0.8.4      \n",
      "mkl-fft                            1.0.10     \n",
      "mkl-random                         1.0.2      \n",
      "more-itertools                     6.0.0      \n",
      "mpmath                             1.1.0      \n",
      "msgpack                            0.6.1      \n",
      "multipledispatch                   0.6.0      \n",
      "munch                              2.5.0      \n",
      "navigator-updater                  0.2.1      \n",
      "nbconvert                          5.4.1      \n",
      "nbformat                           4.4.0      \n",
      "netCDF4                            1.4.2      \n",
      "networkx                           2.2        \n",
      "nltk                               3.4        \n",
      "nose                               1.3.7      \n",
      "notebook                           5.7.8      \n",
      "numba                              0.43.1     \n",
      "numexpr                            2.6.9      \n",
      "numpy                              1.16.2     \n",
      "numpydoc                           0.8.0      \n",
      "olefile                            0.46       \n",
      "openpyxl                           2.6.1      \n",
      "OWSLib                             0.19.1     \n",
      "packaging                          19.0       \n",
      "pandas                             0.24.2     \n",
      "pandocfilters                      1.4.2      \n",
      "parso                              0.3.4      \n",
      "partd                              0.3.10     \n",
      "path.py                            11.5.0     \n",
      "pathlib2                           2.3.3      \n",
      "patsy                              0.5.1      \n",
      "pep8                               1.7.1      \n",
      "pickleshare                        0.7.5      \n",
      "Pillow                             5.4.1      \n",
      "Pint                               0.11       \n",
      "pip                                19.0.3     \n",
      "pkginfo                            1.5.0.1    \n",
      "plotly                             4.8.1      \n",
      "plotly-geo                         1.0.0      \n",
      "pluggy                             0.9.0      \n",
      "ply                                3.11       \n",
      "pooch                              0.2.1      \n",
      "prometheus-client                  0.6.0      \n",
      "prompt-toolkit                     2.0.9      \n",
      "psutil                             5.6.1      \n",
      "psycopg2                           2.8.2      \n",
      "py                                 1.8.0      \n",
      "pycodestyle                        2.5.0      \n",
      "pycosat                            0.6.3      \n",
      "pycparser                          2.19       \n",
      "pycrypto                           2.6.1      \n",
      "pycurl                             7.43.0.2   \n",
      "pyepsg                             0.4.0      \n",
      "pyflakes                           2.1.1      \n",
      "Pygments                           2.3.1      \n",
      "pykdtree                           1.3.1      \n",
      "pylint                             2.3.1      \n",
      "pymeteo                            1.0.1      \n",
      "pyodbc                             4.0.26     \n",
      "pyOpenSSL                          19.0.0     \n",
      "pyparsing                          2.3.1      \n",
      "pyproj                             1.9.6      \n",
      "pyreadline                         2.1        \n",
      "pyresample                         1.13.2     \n",
      "pyrsistent                         0.14.11    \n",
      "pyshp                              2.1.0      \n",
      "PySocks                            1.6.8      \n",
      "pytest                             4.3.1      \n",
      "pytest-arraydiff                   0.3        \n",
      "pytest-astropy                     0.5.0      \n",
      "pytest-doctestplus                 0.3.0      \n",
      "pytest-openfiles                   0.3.2      \n",
      "pytest-remotedata                  0.3.1      \n",
      "python-dateutil                    2.8.0      \n",
      "pytz                               2018.9     \n",
      "PyWavelets                         1.0.2      \n",
      "pywin32                            223        \n",
      "pywin32-ctypes                     0.2.0      \n",
      "pywinpty                           0.5.5      \n",
      "PyYAML                             5.1        \n",
      "pyzmq                              18.0.0     \n",
      "QtAwesome                          0.5.7      \n",
      "qtconsole                          4.4.3      \n",
      "QtPy                               1.7.0      \n",
      "rasterio                           1.0.21     \n",
      "regionmask                         0.4.0      \n",
      "requests                           2.21.0     \n",
      "retrying                           1.3.3      \n",
      "rope                               0.12.0     \n",
      "Rtree                              0.9.4      \n",
      "ruamel-yaml                        0.15.46    \n",
      "scikit-image                       0.14.2     \n",
      "scikit-learn                       0.20.3     \n",
      "scipy                              1.2.1      \n",
      "seaborn                            0.9.0      \n",
      "Send2Trash                         1.5.0      \n",
      "setuptools                         40.8.0     \n",
      "Shapely                            1.6.4.post2\n",
      "simplegeneric                      0.8.1      \n",
      "singledispatch                     3.4.0.3    \n",
      "six                                1.12.0     \n",
      "snowballstemmer                    1.2.1      \n",
      "snuggs                             1.4.7      \n",
      "sortedcollections                  1.1.2      \n",
      "sortedcontainers                   2.1.0      \n",
      "soupsieve                          1.8        \n",
      "Sphinx                             1.8.5      \n",
      "sphinxcontrib-websupport           1.1.0      \n",
      "spyder                             3.3.3      \n",
      "spyder-kernels                     0.4.2      \n",
      "SQLAlchemy                         1.3.1      \n",
      "statsmodels                        0.9.0      \n",
      "sympy                              1.3        \n",
      "tables                             3.5.1      \n",
      "tabulate                           0.8.6      \n",
      "tblib                              1.3.2      \n",
      "terminado                          0.8.1      \n",
      "testpath                           0.4.2      \n",
      "toolz                              0.9.0      \n",
      "tornado                            6.0.2      \n",
      "tqdm                               4.31.1     \n",
      "traitlets                          4.3.2      \n",
      "unicodecsv                         0.14.1     \n",
      "urllib3                            1.24.1     \n",
      "virtualenv                         16.0.0     \n",
      "wcwidth                            0.1.7      \n",
      "webencodings                       0.5.1      \n",
      "Werkzeug                           0.14.1     \n",
      "wget                               3.2        \n",
      "wheel                              0.33.1     \n",
      "widgetsnbextension                 3.4.2      \n",
      "win-inet-pton                      1.1.0      \n",
      "win-unicode-console                0.5        \n",
      "wincertstore                       0.2        \n",
      "wrapt                              1.11.1     \n",
      "xarray                             0.14.1     \n",
      "xlrd                               1.2.0      \n",
      "XlsxWriter                         1.1.5      \n",
      "xlwings                            0.15.4     \n",
      "xlwt                               1.3.0      \n",
      "xmltodict                          0.12.0     \n",
      "xshape                             0.1.1      \n",
      "zict                               0.1.4      \n",
      "zipp                               0.3.3      \n"
     ]
    }
   ],
   "source": [
    "! pip list"
   ]
  },
  {
   "cell_type": "code",
   "execution_count": 12,
   "metadata": {},
   "outputs": [
    {
     "name": "stdout",
     "output_type": "stream",
     "text": [
      "Name: pandas\n",
      "Version: 0.24.2\n",
      "Summary: Powerful data structures for data analysis, time series, and statistics\n",
      "Home-page: http://pandas.pydata.org\n",
      "Author: None\n",
      "Author-email: None\n",
      "License: BSD\n",
      "Location: d:\\utilisateurs\\guillaume\\anaconda3\\lib\\site-packages\n",
      "Requires: python-dateutil, pytz, numpy\n",
      "Required-by: xshape, xarray, seaborn, geopandas\n"
     ]
    }
   ],
   "source": [
    "! pip show pandas"
   ]
  },
  {
   "cell_type": "markdown",
   "metadata": {},
   "source": [
    "Pour installer une librairie: "
   ]
  },
  {
   "cell_type": "raw",
   "metadata": {},
   "source": [
    "! pip install plotly"
   ]
  },
  {
   "cell_type": "markdown",
   "metadata": {},
   "source": [
    "Pour mettre à jour une librairie: "
   ]
  },
  {
   "cell_type": "raw",
   "metadata": {},
   "source": [
    "! pip install plotly --upgrade"
   ]
  },
  {
   "cell_type": "markdown",
   "metadata": {
    "collapsed": true
   },
   "source": [
    "<h1> 5.2- Les fonctions:</h1> \n",
    "\n",
    "\n",
    "<h1>Objectifs</h1>\n",
    "\n",
    "- Comprendre ce qu'est une fonction\n",
    "- Créer sa première fonction\n",
    "- Intégrer des paramètres à une fonction\n",
    "- ajouter des paramètres optionnels\n",
    "- ajouter une nomenclature à vos paramètres\n",
    "\n",
    "\n",
    "<h2> 5.2.1- Les fonctions natives: </h2>\n",
    "\n",
    "Il existe des fonctions natives à python (ou built-in). Elles n'ont donc pas besoin d'être importées.\n",
    "\n",
    "Voici une liste de ces fonctions: https://docs.python.org/3/library/functions.html\n",
    "\n",
    "### Voici quelques exemples: "
   ]
  },
  {
   "cell_type": "code",
   "execution_count": 13,
   "metadata": {},
   "outputs": [
    {
     "data": {
      "text/plain": [
       "1"
      ]
     },
     "execution_count": 13,
     "metadata": {},
     "output_type": "execute_result"
    }
   ],
   "source": [
    "abs(-1)  # abs(x) Retourne une valeur absolue "
   ]
  },
  {
   "cell_type": "code",
   "execution_count": 14,
   "metadata": {},
   "outputs": [
    {
     "data": {
      "text/plain": [
       "3"
      ]
     },
     "execution_count": 14,
     "metadata": {},
     "output_type": "execute_result"
    }
   ],
   "source": [
    "len([1,2,3]) # len(s) Retourne le nombre d'items d'un objet."
   ]
  },
  {
   "cell_type": "code",
   "execution_count": 15,
   "metadata": {},
   "outputs": [
    {
     "data": {
      "text/plain": [
       "99"
      ]
     },
     "execution_count": 15,
     "metadata": {},
     "output_type": "execute_result"
    }
   ],
   "source": [
    "max([1,3,2,6,99,1])    #Retourne la valeur la plus élévée pour max() et la plus basse pour min()"
   ]
  },
  {
   "cell_type": "code",
   "execution_count": 16,
   "metadata": {},
   "outputs": [
    {
     "data": {
      "text/plain": [
       "1"
      ]
     },
     "execution_count": 16,
     "metadata": {},
     "output_type": "execute_result"
    }
   ],
   "source": [
    "round(1.2)  # Arrondi un nombre."
   ]
  },
  {
   "cell_type": "code",
   "execution_count": 17,
   "metadata": {},
   "outputs": [
    {
     "data": {
      "text/plain": [
       "<zip at 0x60e54c8>"
      ]
     },
     "execution_count": 17,
     "metadata": {},
     "output_type": "execute_result"
    }
   ],
   "source": [
    "a = [\"olivier\", \"bruce\", \"john\"]\n",
    "b = [\"engel\", \"wayne\", \"Wayne\"]\n",
    "zip(a,b)                         # Permet de regrouper sous la forme d'un tuple les items de listes."
   ]
  },
  {
   "cell_type": "markdown",
   "metadata": {},
   "source": [
    "<h2> 5.2.2- Création de notre première fonction en python: </h2>\n",
    "\n",
    "- une fonction permet de rendre notre code plus fluide et lisible: \n",
    "\n",
    "- Syntaxe: pour écrire une fonction, on commence par le mot clef Python def()\n",
    "\n",
    "                                          "
   ]
  },
  {
   "cell_type": "raw",
   "metadata": {},
   "source": [
    "def sum(a, b):        # on definit les paramètres \n",
    "    return a+b       # mot clef return pour retourner la variable résultat  "
   ]
  },
  {
   "cell_type": "markdown",
   "metadata": {},
   "source": [
    "- On ne précise pas le type de retour, il est dynamiquement résolu au moment de l'exécution du programme. \n",
    " \n",
    "- Appel de la fonction : result = sum(12,4)   # result = 16 \n"
   ]
  },
  {
   "cell_type": "code",
   "execution_count": 1,
   "metadata": {},
   "outputs": [],
   "source": [
    "def ma_fonction():\n",
    "    print(\"ma première fonction\")"
   ]
  },
  {
   "cell_type": "code",
   "execution_count": 2,
   "metadata": {},
   "outputs": [
    {
     "name": "stdout",
     "output_type": "stream",
     "text": [
      "ma première fonction\n"
     ]
    }
   ],
   "source": [
    "ma_fonction()"
   ]
  },
  {
   "cell_type": "markdown",
   "metadata": {},
   "source": [
    "<h2> 5.2.3- Les paramètres des fonctions: </h2>"
   ]
  },
  {
   "cell_type": "code",
   "execution_count": 3,
   "metadata": {},
   "outputs": [
    {
     "name": "stdout",
     "output_type": "stream",
     "text": [
      "votre nom:\n",
      "Bienvenue \n"
     ]
    }
   ],
   "source": [
    "def bienvenue(userName):\n",
    "    print('Bienvenue '+userName)\n",
    "\n",
    "nom = input('votre nom:')\n",
    "bienvenue(nom)"
   ]
  },
  {
   "cell_type": "code",
   "execution_count": 4,
   "metadata": {},
   "outputs": [],
   "source": [
    "def bienvenue(userName):\n",
    "    print('Bienvenue '+userName+ ' ! ' )\n",
    "    humeur = input('comment allez-vous ? ')\n",
    "    print('votre humeur : '+humeur)"
   ]
  },
  {
   "cell_type": "code",
   "execution_count": null,
   "metadata": {},
   "outputs": [
    {
     "name": "stdout",
     "output_type": "stream",
     "text": [
      "votre nom\n",
      "Bienvenue  ! \n"
     ]
    }
   ],
   "source": [
    "nom = input('votre nom')\n",
    "bienvenue(nom)"
   ]
  },
  {
   "cell_type": "markdown",
   "metadata": {},
   "source": [
    "<h2> 5.2.4- Retourner une ou plusieurs valeurs avec une fonction: </h2>\n",
    "\n",
    "Pour retourner une valeur: "
   ]
  },
  {
   "cell_type": "code",
   "execution_count": null,
   "metadata": {},
   "outputs": [],
   "source": [
    "def calculPrixTTC(prixht,TVA):\n",
    "    prixttc = prixht*(1+TVA)\n",
    "    return prixttc\n",
    "\n",
    "prixPdt = calculPrixTTC(10,0.20)\n",
    "prixPdt"
   ]
  },
  {
   "cell_type": "markdown",
   "metadata": {},
   "source": [
    "Pour retourner plusieurs valeurs: "
   ]
  },
  {
   "cell_type": "code",
   "execution_count": null,
   "metadata": {},
   "outputs": [],
   "source": [
    "def calculPrixTTC(prixht,TVA):\n",
    "    prixttc = prixht*(1+TVA)\n",
    "    coutTVA = prixttc - prixht\n",
    "    return prixttc, coutTVA\n",
    "\n",
    "prixPdt = calculPrixTTC(20,0.20)\n",
    "prixPdt"
   ]
  },
  {
   "cell_type": "markdown",
   "metadata": {},
   "source": [
    "On peut stocker ce retour de valeurs dans deux variables disctinctes: "
   ]
  },
  {
   "cell_type": "code",
   "execution_count": null,
   "metadata": {},
   "outputs": [],
   "source": [
    "prixPdt, coutTVA = calculPrixTTC(20,0.20)\n",
    "print(prixPdt)\n",
    "print(coutTVA)"
   ]
  },
  {
   "cell_type": "markdown",
   "metadata": {},
   "source": [
    "<h2> 5.2.5- Les options sur les paramètres: </h2>\n",
    "\n",
    "Si on oublie un paramètre dans une fonction à deux paramètres : "
   ]
  },
  {
   "cell_type": "code",
   "execution_count": 36,
   "metadata": {},
   "outputs": [
    {
     "ename": "TypeError",
     "evalue": "calculPrixTTC() missing 1 required positional argument: 'TVA'",
     "output_type": "error",
     "traceback": [
      "\u001b[1;31m---------------------------------------------------------------------------\u001b[0m",
      "\u001b[1;31mTypeError\u001b[0m                                 Traceback (most recent call last)",
      "\u001b[1;32m<ipython-input-36-6633a6f65415>\u001b[0m in \u001b[0;36m<module>\u001b[1;34m\u001b[0m\n\u001b[0;32m      1\u001b[0m \u001b[1;31m# et si on oubli un paramètre ?\u001b[0m\u001b[1;33m\u001b[0m\u001b[1;33m\u001b[0m\u001b[1;33m\u001b[0m\u001b[0m\n\u001b[1;32m----> 2\u001b[1;33m \u001b[0mtest\u001b[0m \u001b[1;33m=\u001b[0m \u001b[0mcalculPrixTTC\u001b[0m\u001b[1;33m(\u001b[0m\u001b[1;36m20\u001b[0m\u001b[1;33m)\u001b[0m\u001b[1;33m\u001b[0m\u001b[1;33m\u001b[0m\u001b[0m\n\u001b[0m",
      "\u001b[1;31mTypeError\u001b[0m: calculPrixTTC() missing 1 required positional argument: 'TVA'"
     ]
    }
   ],
   "source": [
    "# et si on oubli un paramètre ?\n",
    "test = calculPrixTTC(20)"
   ]
  },
  {
   "cell_type": "markdown",
   "metadata": {},
   "source": [
    " Python supporte pour cela  les arguments mot clef (keyword argument). \n",
    " \n",
    "                    def sum(a, b):        # on definit les paramètres \n",
    "                        return a+b       # mot clef return pour retourner la variable résultat \n",
    "                    result = sum(12,b=4)\n",
    "                -----------------------------\n",
    "                    def sum(a, b=4):        # on definit les paramètres \n",
    "                          return a+b       # mot clef return pour retourner la variable résultat\n",
    "                    result = sum(12)                    "
   ]
  },
  {
   "cell_type": "code",
   "execution_count": 39,
   "metadata": {},
   "outputs": [
    {
     "name": "stdout",
     "output_type": "stream",
     "text": [
      "(24.0, 4.0)\n",
      "(21.0, 1.0)\n"
     ]
    }
   ],
   "source": [
    "def calculPrixTTC(prixht,TVA=0.20):\n",
    "    prixttc = prixht*(1+TVA)\n",
    "    coutTVA = prixttc - prixht\n",
    "    return prixttc, coutTVA\n",
    "\n",
    "test1 = calculPrixTTC(20)\n",
    "print(test1)\n",
    "test2 = calculPrixTTC(20,0.05)\n",
    "print(test2)"
   ]
  },
  {
   "cell_type": "markdown",
   "metadata": {},
   "source": [
    "<h2> 5.2.5- Définition d'*args: </h2>\n",
    "\n",
    "- Syntaxe spéciale en python qui permet de gérer un nombre de paramètres variable en appel d'une fonction \n",
    "- C'est le * qui compte\n",
    "- args est une convention \n",
    "- *args est une liste de paramètres contenant les paramètres d'une fonction\n",
    "\n",
    "Syntaxe *args: \n",
    "            \n",
    "            def print_ingredients(*args):\n",
    "                for ingredient in args: \n",
    "                    print(ingredient)\n",
    "                    \n",
    "            print_ingredients('Tomatoes')\n",
    "            print_ingredients('Tomatoes',Banana)\n",
    "            print_ingredients('Tomatoes',Banana,apple)\n"
   ]
  },
  {
   "cell_type": "code",
   "execution_count": 40,
   "metadata": {},
   "outputs": [],
   "source": [
    "def sum(*args):\n",
    "    total = 0 \n",
    "    for number in args: \n",
    "        total += number \n",
    "    print(total)"
   ]
  },
  {
   "cell_type": "code",
   "execution_count": 41,
   "metadata": {},
   "outputs": [
    {
     "name": "stdout",
     "output_type": "stream",
     "text": [
      "5\n",
      "128\n"
     ]
    }
   ],
   "source": [
    "sum(2,3)\n",
    "sum(2,3,10,90,23)"
   ]
  },
  {
   "cell_type": "code",
   "execution_count": 42,
   "metadata": {},
   "outputs": [],
   "source": [
    "def second_sum(*args):    \n",
    "    def real_sum(*nums):\n",
    "        total=0\n",
    "        for number in nums:\n",
    "            total += number\n",
    "        return total\n",
    "    \n",
    "    print(real_sum(*args))"
   ]
  },
  {
   "cell_type": "code",
   "execution_count": 43,
   "metadata": {},
   "outputs": [
    {
     "name": "stdout",
     "output_type": "stream",
     "text": [
      "60\n"
     ]
    }
   ],
   "source": [
    "second_sum(10,20,30)"
   ]
  },
  {
   "cell_type": "markdown",
   "metadata": {},
   "source": [
    "<h2> 5.2.6- Définition d'**kwargs: </h2>\n",
    "\n",
    "- Comme *args, mais pour les arguments mot-clé (keyword arguments)\n",
    "- C'est le * qui compte\n",
    "- **kwargs est un dictionnaire python contenant les clés/valeurs des paramètres d'une fonction\n",
    "- il doit toujours être présent en dernier dans la liste des paramètres d'une fonction \n",
    "\n",
    "Syntaxe **kwargs: \n",
    "            \n",
    "            def print_languages(**args):\n",
    "                for language, definition in kwargs.items():\n",
    "                    print('{} is {}'.format(language, definition))  \n",
    "                    \n",
    "            print_languages(Python='awesome')\n",
    "            print_languages(Python='awesome',Java='verbose')\n"
   ]
  },
  {
   "cell_type": "code",
   "execution_count": 44,
   "metadata": {},
   "outputs": [],
   "source": [
    "def capitals(**kwargs):\n",
    "    for country, capital in kwargs.items():\n",
    "        print(\"The capital of {} in {}\".format(country, capital))"
   ]
  },
  {
   "cell_type": "code",
   "execution_count": 45,
   "metadata": {},
   "outputs": [
    {
     "name": "stdout",
     "output_type": "stream",
     "text": [
      "The capital of France in Paris\n",
      "The capital of Germany in Berlin\n"
     ]
    }
   ],
   "source": [
    "capitals(France = 'Paris', Germany='Berlin')"
   ]
  },
  {
   "cell_type": "code",
   "execution_count": 46,
   "metadata": {},
   "outputs": [],
   "source": [
    "def capitals(title, ending='',  **kwargs):\n",
    "    print(title)\n",
    "    for country, capital in kwargs.items():\n",
    "        print(\"The capital of {} in {}\".format(country, capital))\n",
    "    if ending:\n",
    "        print(ending)"
   ]
  },
  {
   "cell_type": "code",
   "execution_count": 47,
   "metadata": {},
   "outputs": [
    {
     "name": "stdout",
     "output_type": "stream",
     "text": [
      "List of countries\n",
      "The capital of France in Paris\n",
      "The capital of Germany in Berlin\n"
     ]
    }
   ],
   "source": [
    "capitals(\"List of countries\",\n",
    "    France = 'Paris', Germany='Berlin')"
   ]
  },
  {
   "cell_type": "code",
   "execution_count": 48,
   "metadata": {},
   "outputs": [
    {
     "name": "stdout",
     "output_type": "stream",
     "text": [
      "List of countries 2 \n",
      "The capital of france in Paris\n",
      "The capital of Germany in Allemage\n"
     ]
    }
   ],
   "source": [
    "keywords = {'france': 'Paris', 'Germany' : 'Allemage'}\n",
    "capitals(\"List of countries 2 \", **keywords)"
   ]
  },
  {
   "cell_type": "markdown",
   "metadata": {},
   "source": [
    "<h2> 5.3-Importer ses propres fonctions: </h2>\n",
    "\n",
    "Les modules font référence à un fichier contenant des instructions et des définitions Python.\n",
    "\n",
    "Un fichier contenant du code Python, par exemple: example.py, est appelé un module et son nom de module serait un exemple.\n",
    "\n",
    "Nous utilisons des modules pour décomposer de gros programmes en petits fichiers gérables et organisés. De plus, les modules assurent la réutilisation du code.\n",
    "\n",
    "Nous pouvons définir nos fonctions les plus utilisées dans un module et l'importer, au lieu de copier leurs définitions dans différents programmes.\n",
    "\n",
    "Ici, nous avons défini différentes fonctions à l'intérieur d'un module nommé my_functions.\n",
    "\n",
    "Nous utilisons le mot-clé import pour importer notre module puis nos fonctions. Pour importer notre exemple de module précédemment défini, nous tapons ce qui suit dans l'invite Python:\n"
   ]
  },
  {
   "cell_type": "code",
   "execution_count": 2,
   "metadata": {},
   "outputs": [],
   "source": [
    "import my_functions"
   ]
  },
  {
   "cell_type": "raw",
   "metadata": {},
   "source": [
    "def addition(a, b):\n",
    "   \"\"\"This program adds two\n",
    "   numbers and return the result\"\"\"\n",
    "   result = a + b\n",
    "   return result\n",
    "\n",
    "def substraction(a, b):\n",
    "   \"\"\"This program subs two\n",
    "   numbers and return the result\"\"\"\n",
    "   result = a - b\n",
    "   return result\n",
    "\n",
    "def multiplication(a, b):\n",
    "   \"\"\"This program multiplies two\n",
    "   numbers and return the result\"\"\"\n",
    "   result = a * b\n",
    "   return result"
   ]
  },
  {
   "cell_type": "code",
   "execution_count": 6,
   "metadata": {},
   "outputs": [
    {
     "data": {
      "text/plain": [
       "['__builtins__',\n",
       " '__cached__',\n",
       " '__doc__',\n",
       " '__file__',\n",
       " '__loader__',\n",
       " '__name__',\n",
       " '__package__',\n",
       " '__spec__',\n",
       " 'addition',\n",
       " 'multiplication',\n",
       " 'substraction']"
      ]
     },
     "execution_count": 6,
     "metadata": {},
     "output_type": "execute_result"
    }
   ],
   "source": [
    "dir(my_functions)"
   ]
  },
  {
   "cell_type": "markdown",
   "metadata": {},
   "source": [
    "En utilisant le nom du module, nous pouvons accéder à la fonction en utilisant le point. opérateur. Par exemple:"
   ]
  },
  {
   "cell_type": "code",
   "execution_count": 7,
   "metadata": {},
   "outputs": [
    {
     "data": {
      "text/plain": [
       "-2"
      ]
     },
     "execution_count": 7,
     "metadata": {},
     "output_type": "execute_result"
    }
   ],
   "source": [
    "my_functions.substraction(4,6)"
   ]
  },
  {
   "cell_type": "code",
   "execution_count": 8,
   "metadata": {},
   "outputs": [
    {
     "name": "stdout",
     "output_type": "stream",
     "text": [
      "Help on function substraction in module my_functions:\n",
      "\n",
      "substraction(a, b)\n",
      "    This program subs two\n",
      "    numbers and return the result\n",
      "\n"
     ]
    }
   ],
   "source": [
    "help(my_functions.substraction)"
   ]
  },
  {
   "cell_type": "code",
   "execution_count": null,
   "metadata": {},
   "outputs": [],
   "source": []
  }
 ],
 "metadata": {
  "kernelspec": {
   "display_name": "Python 3",
   "language": "python",
   "name": "python3"
  },
  "language_info": {
   "codemirror_mode": {
    "name": "ipython",
    "version": 3
   },
   "file_extension": ".py",
   "mimetype": "text/x-python",
   "name": "python",
   "nbconvert_exporter": "python",
   "pygments_lexer": "ipython3",
   "version": "3.7.3"
  }
 },
 "nbformat": 4,
 "nbformat_minor": 2
}
